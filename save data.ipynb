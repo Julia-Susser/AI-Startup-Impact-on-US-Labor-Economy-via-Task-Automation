{
 "cells": [
  {
   "cell_type": "code",
   "execution_count": 3,
   "id": "cd077cc3-3c83-4399-80c8-263cb92cf91b",
   "metadata": {},
   "outputs": [],
   "source": [
    "import pandas as pd\n",
    "\n",
    "data = open(\"./input/2023/data2023.txt\").read().split(\"\\n\\n\")\n",
    "data = [[y for y in x.split(\"\\n\") if y != \"\" and \"Logo\" not in y] for x in data if x != \"\"]\n",
    "bad = [[len(x),x] for x in data if len(x) != 22]\n",
    "good2023 = [x for x in data if len(x) == 22]\n",
    "len(good2023)\n",
    "\n",
    "data = open(\"./input/2024/data2024.txt\").read().split(\"\\n\\n\")\n",
    "data = [[y for y in x.split(\"\\n\") if y != \"\" and \"Logo\" not in y] for x in data if x != \"\"]\n",
    "bad = [[len(x),x] for x in data if len(x) != 22]\n",
    "good2024 = [x for x in data if len(x) == 22]\n",
    "len(good2024)\n",
    "\n",
    "labels = [\"organization name\",\"num employees\", \"founded date\",\"description\",\"industries\",\"headquarters location\",\"description\",\"cb rank\",\"postal code\",\"headquarters region\",\"website\",\"actively hiring\",\"linkedin\",\"num articles\",\"email\",\"hub tag\",\"phone num\",\"num of sub org\",\"industry groups\",\"total funding amt\",\"company type\",\"estimated rev\"]\n",
    "dataset = good2023 + good2024\n",
    "df = pd.DataFrame(dataset,columns=labels)\n",
    "\n",
    "df['description_all'] = df['description'].iloc[:,0] + \" \" + df['description'].iloc[:,1]\n",
    "df['industries_parsed'] = df['industries'].apply(lambda x: [i.strip() for i in x.split(',') if i.strip() != 'Artificial Intelligence (AI)' and i.strip() !='—'])\n",
    "\n",
    "df.to_csv(\"./output/data.csv\")"
   ]
  },
  {
   "cell_type": "code",
   "execution_count": null,
   "id": "ecbbc281-a31e-4197-a4bc-0ef20c660c60",
   "metadata": {},
   "outputs": [],
   "source": []
  }
 ],
 "metadata": {
  "kernelspec": {
   "display_name": "Python 3 (ipykernel)",
   "language": "python",
   "name": "python3"
  },
  "language_info": {
   "codemirror_mode": {
    "name": "ipython",
    "version": 3
   },
   "file_extension": ".py",
   "mimetype": "text/x-python",
   "name": "python",
   "nbconvert_exporter": "python",
   "pygments_lexer": "ipython3",
   "version": "3.11.7"
  }
 },
 "nbformat": 4,
 "nbformat_minor": 5
}
