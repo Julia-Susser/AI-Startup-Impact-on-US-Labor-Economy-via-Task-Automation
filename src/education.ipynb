{
 "cells": [
  {
   "cell_type": "code",
   "execution_count": 1,
   "id": "d5e9c516-ae56-4e78-95f3-bd6c775e3cd2",
   "metadata": {},
   "outputs": [],
   "source": [
    "import pandas as pd\n",
    "import numpy as np\n",
    "import json\n",
    "import re\n",
    "from llms import gemini\n",
    "from llms import chatGPT\n",
    "from sklearn.metrics.pairwise import cosine_similarity\n",
    "import seaborn as sns\n",
    "from mpl_toolkits.mplot3d import Axes3D  # for 3D plotting\n",
    "import plotly.express as px\n",
    "from sklearn.manifold import TSNE\n",
    "from reportlab.pdfgen import canvas\n",
    "from reportlab.lib.pagesizes import letter\n",
    "from reportlab.lib.utils import ImageReader\n",
    "import plotly.io as pio\n",
    "\n",
    "\n",
    "df = pd.read_csv(\"../output/bls_df.csv\",index_col=0)\n",
    "tsne = pd.read_csv(\"../output/tsne.csv\",index_col=0)\n",
    "df = pd.concat([df,tsne],axis=1)"
   ]
  },
  {
   "cell_type": "code",
   "execution_count": null,
   "id": "e806579c-77af-4c8d-a104-92d37b3f32c8",
   "metadata": {},
   "outputs": [],
   "source": [
    "#group by occupation and quantify per occupation then merge into area grouped by JOB_1000 and then put on a graph of US to get total JOB_1000 in each locality\n",
    "\n",
    "#weighted_onet_rating for each occupation and then plot different things so like the color in the rating and the sides are different things like wage and skill\n",
    "#weighted onet_rating for task then plot things on the x and y axis\n",
    "\n",
    "#run a regression to predict weighted onet rating for each occupation\n",
    "#run a regression to predict onet_rating for each task (weighted by number of people employed in the occupation \n",
    "# num of people per 10K is equal to # of startups focused on automating task for it to qualify as automated\n",
    "\n",
    "#embed the skills and then tsne those and then show automation"
   ]
  }
 ],
 "metadata": {
  "kernelspec": {
   "display_name": "Python 3 (ipykernel)",
   "language": "python",
   "name": "python3"
  },
  "language_info": {
   "codemirror_mode": {
    "name": "ipython",
    "version": 3
   },
   "file_extension": ".py",
   "mimetype": "text/x-python",
   "name": "python",
   "nbconvert_exporter": "python",
   "pygments_lexer": "ipython3",
   "version": "3.11.7"
  }
 },
 "nbformat": 4,
 "nbformat_minor": 5
}
