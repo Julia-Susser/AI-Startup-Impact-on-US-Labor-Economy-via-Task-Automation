{
 "cells": [
  {
   "cell_type": "code",
   "execution_count": 3,
   "id": "93ef3263-9c68-4a8e-a8f4-fae12a070dcc",
   "metadata": {},
   "outputs": [],
   "source": [
    "import nest_asyncio\n",
    "import aiohttp\n",
    "import asyncio\n",
    "import nest_asyncio\n",
    "import re\n",
    "import time\n",
    "import pandas as pd\n",
    "import numpy as np\n",
    "from dotenv import load_dotenv\n",
    "import os\n",
    "from os import getenv\n",
    "from openai import OpenAI\n",
    "import pathlib\n",
    "import textwrap\n",
    "# import google.generativeai as genai\n",
    "import time\n",
    "import requests\n",
    "import ast\n",
    "import json\n",
    "from sklearn.metrics.pairwise import cosine_similarity\n",
    "import re\n",
    "from llms import chatGPT\n",
    "from llms import gemini\n",
    "\n",
    "\n",
    "x_chat = chatGPT()\n",
    "x_gemini = gemini()"
   ]
  },
  {
   "cell_type": "code",
   "execution_count": null,
   "id": "f904075b-7035-4b30-8130-5d0712d1e36c",
   "metadata": {},
   "outputs": [],
   "source": []
  },
  {
   "cell_type": "code",
   "execution_count": 55,
   "id": "1fc6a4ac-0b0a-4ae3-8f93-50d891ab9cc1",
   "metadata": {},
   "outputs": [],
   "source": [
    "df = pd.read_csv(\"../output/df_with_examples.csv\",index_col=0)\n",
    "df = df[df[\"headquarters location\"].str.contains(\"United States\")]"
   ]
  },
  {
   "cell_type": "code",
   "execution_count": 92,
   "id": "ffd379dd-b689-482e-a8a8-1f271af93d73",
   "metadata": {},
   "outputs": [
    {
     "name": "stdout",
     "output_type": "stream",
     "text": [
      "7\n",
      "While CTNEX isn't directly replacing existing roles, its automation of tasks within logistics and financing will likely reduce the need for certain human workers in the informal SME sector. ONET Task: Logistics Planner: CTNEX's AI-powered delivery system could automate route optimization and scheduling, reducing the need for dedicated logistics planners. Loan Officer: The embedded finance and quick credit underwriting features could automate some of the tasks traditionally performed by loan officers. Explanation: CTNEX's platform has the potential to significantly disrupt the informal SME sector by automating core tasks like logistics and financing. This automation can lead to increased efficiency and reduced labor costs, potentially impacting the need for human workers in those areas. However, it's important to note that CTNEX is creating new opportunities in areas like app development, data analysis, and customer service, which could offset job losses in other areas.\n",
      "8\n",
      "Chronly is an AI-powered tool that provides real-time insights into team performance and identifies areas for improvement. This functionality directly impacts the work of managers and team leaders, automating tasks like performance analysis and identifying training needs. ONET Task: Management Analyst Explanation: Management analysts are responsible for evaluating the efficiency and effectiveness of organizations and proposing improvements. Chronly's ability to provide real-time performance data and identify areas for improvement directly overlaps with the tasks of a management analyst.\n",
      "6\n",
      "MyJobAide LLC is automating the task of crafting resumes and cover letters, which are crucial steps in the job application process. While it doesn't completely replace the job seeker, it significantly reduces the time and effort required for these tasks, potentially making job seeking more efficient. ONET Task: Resume Writer\n",
      "7\n",
      "TraceChain's focus on L4 and L5 traceability solutions suggests it automates tasks currently performed by individuals within regulated industries. This likely involves data analysis, tracking, and reporting, tasks often handled by quality assurance personnel, compliance specialists, or supply chain managers. ONET Task: Quality Assurance Specialist: TraceChain could automate data analysis and reporting related to product quality and compliance. Compliance Specialist: The software might automate tracking and reporting of regulatory compliance activities, reducing the need for manual record-keeping. Supply Chain Manager: TraceChain could automate inventory tracking and tracing, streamlining supply chain management processes.\n",
      "8\n",
      "Arkifi's AI-powered financial analyst tools directly automate tasks traditionally performed by human financial analysts. By generating consistent and reliable results, Arkifi reduces the need for manual analysis and interpretation, potentially leading to a significant reduction in human workforce requirements in this field. ONET Task: Financial Analyst\n",
      "7\n",
      "While Ainstein's mission is broad and focuses on democratizing AI, the mention of \"autonomous AI workers\" suggests the platform will offer tools capable of performing tasks traditionally handled by human workers. ONET Task: Data Entry Keyers (although this is a broad category, the platform likely automates repetitive data entry tasks) Explanation: Ainstein's focus on making AI accessible to everyone indicates potential for replacing specific tasks within various industries. Data entry, which is often repetitive and rule-based, is a prime target for automation by AI. Note: Without more specific information on the features of Ainstein's platform, it's difficult to provide a more precise ONET task. The platform could potentially automate tasks across a range of occupations, depending on the specific AI workers it offers.\n",
      "7\n",
      "While SatYield doesn't directly replace the tasks of individual farmers, it significantly alters the way agricultural decisions are made. By providing accurate yield predictions, it empowers farmers, insurers, and commodity traders to make more informed decisions, potentially reducing the need for certain human resources. ONET Task: Agricultural Workers: SatYield could decrease the need for experienced farmers to rely solely on intuition and historical data for yield estimations, potentially automating some aspects of their decision-making. Agricultural Commodity Traders: SatYield's data can be used by traders to forecast market trends, possibly reducing the need for extensive human research and analysis. Insurance Underwriters: SatYield's data can be used to assess risk and adjust premiums for agricultural insurance, potentially reducing the workload of insurance underwriters. Explanation: While SatYield doesn't directly replace human labor in the field, it introduces a new level of automation in the agricultural decision-making process, which will inevitably impact the roles and tasks within the industry.\n",
      "7\n",
      "While ChatGPT Demo itself doesn't directly replace a human task, it provides access to a tool that is already demonstrably automating tasks across many industries. By making ChatGPT more accessible, it facilitates the adoption of AI-powered tasks, indirectly contributing to potential workforce changes. ONET Task: It's difficult to pinpoint a single ONET task since ChatGPT's capabilities are vast and vary depending on its use case. However, it's safe to say that it can automate tasks associated with several roles, such as: Content Creators: Generating articles, blog posts, social media content, marketing materials, and even scripts. Customer Service Representatives: Handling basic inquiries, providing information, and generating personalized responses. Data Analysts: Summarizing data, identifying trends, and generating reports. Research Analysts: Gathering information, summarizing research, and generating reports. Software Developers: Generating code, debugging code, and writing documentation. Important Note: While ChatGPT can automate many tasks, it's essential to remember that it is a tool that requires human oversight, input, and ultimately, human judgment to ensure accurate, ethical, and effective results.\n",
      "8\n",
      "ContextQA automates a significant portion of the software testing process, including test case generation, execution, and analysis. This directly replaces tasks commonly performed by Quality Assurance (QA) engineers and testers. ONET Task: Software Quality Assurance Analyst Explanation: Test Automation: ContextQA's AI-powered test automation features are designed to replace manual test execution and result analysis, tasks typically handled by QA professionals. Test Case Generation: The platform's ability to automatically generate test cases reduces the time and effort required for manual test case creation. Root-Cause Analysis: ContextQA provides automated root-cause analysis, a task that requires technical expertise and often takes considerable time for QA engineers. Conclusion: While QA engineers still play a crucial role in defining test strategies and overall quality assurance, ContextQA significantly reduces the manual workload, potentially displacing some of the tasks previously performed by human testers.\n",
      "7\n",
      "Lepton AI's focus on deploying AI applications at scale within minutes suggests it's aiming to automate tasks that are currently handled by human developers or data scientists. While it's not explicitly stated what applications it's targeting, the speed and scalability imply a focus on automation. ONET Task: Software Developer (Specifically, those involved in the deployment and maintenance of AI applications) Explanation: Lepton AI's platform is designed to streamline the deployment of AI applications. This suggests it automates some of the tasks traditionally performed by software developers involved in integrating and deploying AI models into operational systems. Important Note: It's crucial to remember that Lepton AI's specific impact on the workforce depends on the types of AI applications it enables. If it primarily focuses on automating complex and specialized tasks, the automation potential will be higher. If it focuses on more general or less specialized tasks, the impact on human workers may be less significant.\n",
      "8\n",
      "Sweetspot automates several tasks involved in government contracting, including sourcing opportunities, managing proposals, and responding to requests for information. This reduces the workload of individuals traditionally responsible for these tasks. ONET Task: Government Contract Specialist Explanation: Sweetspot directly replaces or assists with tasks performed by government contract specialists, allowing them to focus on higher-level strategy and relationship management.\n",
      "8\n",
      "Magnifi is automating a significant portion of the traditional recruitment process by leveraging AI to analyze candidate data and match them with suitable roles. This directly impacts the tasks typically performed by recruiters, particularly in the initial stages of candidate sourcing and screening. ONET Task: Recruiter\n",
      "7\n",
      "Reo.Dev automates the process of identifying potential sales opportunities from developer activity across various platforms. This task, traditionally performed by sales and marketing professionals, is being partially replaced by Reo.Dev's AI-powered analysis. ONET Task: Sales and Marketing Professionals (specifically, those focused on identifying and qualifying leads)\n",
      "7\n",
      "While LUBU Technologies' smart insoles don't directly replace an entire occupation, they have the potential to significantly automate certain tasks within the realm of physical therapy and athletic training. ONET Task: Physical Therapist Assistant Explanation: LUBU's insoles provide data on gait analysis, pressure distribution, and biomechanics. This information could be used by physical therapists to: Automate gait analysis: LUBU's data could replace manual observations, leading to faster and more accurate diagnoses. Personalize rehabilitation programs: The insoles can track progress and adjust exercises based on real-time data, potentially reducing the need for frequent therapist visits. Monitor athlete performance: Athletes and trainers could use LUBU to optimize training programs and identify potential injury risks before they arise. Note: While LUBU won't completely replace physical therapists, it can automate specific tasks within their work, potentially leading to changes in job demands and skillsets.\n",
      "7\n",
      "Zime.ai directly aims to automate aspects of sales coaching, replacing tasks traditionally done by human coaches. It uses AI to deliver personalized feedback and guidance, potentially reducing the need for constant human interaction. ONET Task: Sales Trainer Explanation: While Zime.ai isn't fully replacing sales trainers, it's automating significant parts of their job. This includes: Providing personalized feedback: Zime analyzes sales interactions and offers specific advice, mimicking a human coach's role. Delivering training in a just-in-time manner: Zime can provide relevant coaching based on real-time sales interactions, reducing the need for scheduled training sessions. It's important to note that Zime.ai is likely to complement rather than entirely replace human sales trainers. However, it's automating key tasks, making it a significant force in the evolution of the sales coaching profession.\n",
      "9\n",
      "Echo Labs' AI transcription technology has the potential to significantly automate a core task currently performed by humans: transcription. This technology could replace a large portion of the work done by human transcribers, particularly in fields where high accuracy and speed are crucial. ONET Task: Transcriptionist (ONET code: 43-9021.00)\n",
      "7\n",
      "AminoAnalytica's focus on speeding up the process of finding manufacturable proteins directly impacts the work of research scientists and biochemists in the pharmaceutical industry. By automating some of the initial screening and analysis steps, it reduces the time and resources required for these tasks. ONET Task: Biochemist and Biophysicist: This role involves designing and conducting experiments related to protein structure and function. Research Scientist: While a broad term, this includes scientists working on drug development and discovery, where AminoAnalytica's technology would be relevant. Explanation: While AminoAnalytica isn't entirely replacing the job of these professionals, it's automating a significant part of their workflow, allowing them to focus on more complex tasks and potentially accelerate drug development.\n",
      "7\n",
      "Civio.ai leverages AI to automate tasks related to revenue generation for businesses working with government entities. This suggests a potential for replacing some of the tasks currently performed by sales and marketing professionals in this specific industry. ONET Task: Sales and Marketing Managers (specifically those focused on government contracts) Explanation: Civio.ai's focus on AI-driven revenue generation for government contracts likely automates tasks like lead generation, proposal generation, and contract negotiation analysis. These are all tasks typically handled by Sales and Marketing Managers within the B2G (business-to-government) sector. Note: While Civio.ai might automate certain tasks, it's important to remember that it's unlikely to fully replace these professionals. Human skills like relationship building, strategic thinking, and complex negotiation are still crucial in the B2G landscape.\n",
      "8\n",
      "Safebooks AI directly automates the task of verifying financial data, which is a crucial part of many financial roles. ONET Task: Financial Analyst Explanation: Financial Analysts spend a significant amount of time verifying data accuracy. Safebooks AI's automation of this process could significantly impact the workload and tasks of Financial Analysts.\n",
      "8\n",
      "Echo Systems AI, Inc. is building a real-time voice assistant. While this technology won't fully replace human jobs, it can significantly automate tasks and interactions, especially in customer service and administrative roles. ONET Task: Customer Service Representative Explanation: Real-time voice assistants can handle basic inquiries, schedule appointments, and provide information, tasks that are currently done by customer service representatives. While human representatives will still be needed for complex issues and emotional intelligence, the technology can streamline interactions and free up human agents for more complex work.\n"
     ]
    }
   ],
   "source": [
    "for x in range(20):\n",
    "    print(post.automation_rating.iloc[x])\n",
    "    print(post.automation_rating_reasoning.iloc[x])"
   ]
  },
  {
   "cell_type": "code",
   "execution_count": 91,
   "id": "04773991-95ae-40e9-b948-72400ff39f4f",
   "metadata": {},
   "outputs": [
    {
     "name": "stdout",
     "output_type": "stream",
     "text": [
      "2\n",
      "Intelligent Racing provides education and training, not a tool that directly automates a specific task or occupation. The goal is to prepare people for AI-related roles, not replace them. ONET Task: N/A\n",
      "7\n",
      "While Parasanti's products don't directly replace human workers, they significantly automate tasks related to data collection, processing, and analysis. This directly impacts the work of data analysts, engineers, and potentially even operations specialists depending on the specific application. ONET Task: Data Scientist: Parasanti's ability to streamline data collection and processing can reduce the time data scientists spend on these tasks, allowing them to focus more on advanced analysis and modeling. Software Engineer: Engineers responsible for building and maintaining data infrastructure could see their workflows simplified with Parasanti's solutions. Operations Research Analyst: Parasanti's technology can potentially automate tasks related to collecting and analyzing operational data, assisting operations research analysts in optimizing processes. Important Considerations: Focus on Automation, Not Replacement: Parasanti's primary focus is on automating data-intensive tasks, not eliminating jobs entirely. These tools empower humans to work more efficiently and effectively. New Roles Emerge: As AI technology evolves, new roles may emerge focused on managing and interpreting the insights generated by platforms like Parasanti.\n",
      "6\n",
      "While Boatrax doesn't directly replace a human job, it significantly automates tasks currently handled by boat owners or professionals like marine technicians. It simplifies data collection and analysis, reducing the need for manual monitoring and maintenance checks. ONET Task: Marine Technician Explanation: Boatrax's real-time monitoring and data analysis features could potentially reduce the need for some routine maintenance checks performed by marine technicians. This is because the system provides valuable insights into the boat's health, enabling early detection of potential issues and proactive maintenance. However, it's important to note that Boatrax acts as a tool to enhance the technician's capabilities, not entirely replace them.\n",
      "3\n",
      "Levogy provides a wide range of IT services, many of which involve highly specialized skills and expertise. While some tasks within these services could be automated (e.g., basic code generation for web development), the overall nature of the work requires human judgment, problem-solving, and strategic decision-making. ONET Task: N/A Explanation: Levogy's services are not primarily designed to directly replace specific human roles. Instead, their focus is on leveraging technology to enhance existing IT capabilities and operations. While automation plays a role, it's not the core driver of their value proposition.\n",
      "7\n",
      "WiteSand automates several tasks currently performed by network administrators, such as provisioning, monitoring, analysis, and security. ONET Task: Network and Computer Systems Administrator Explanation: While WiteSand doesn't entirely replace the role of a network administrator, it significantly automates many of their daily tasks, allowing them to focus on more complex and strategic aspects of network management.\n",
      "2\n",
      "AINOA Consulting's focus is on supporting and speeding AI transformation, which implies helping humans integrate AI, not replacing them. They use a human-centered approach, further emphasizing the collaboration between humans and AI. ONET Task: N/A Explanation: AINOA Consulting acts as a consultant and facilitator, assisting organizations in adopting AI, not automating specific tasks or replacing human roles.\n",
      "3\n",
      "Omdena itself is not a tool that directly automates tasks or replaces human workers. It is a platform that facilitates the development of AI solutions. While these solutions might automate tasks within specific industries, Omdena itself does not directly impact the workforce in a way that would replace a job. ONET Task: N/A Explanation: Omdena's role is similar to that of a software development platform. It provides tools and resources for building AI solutions, but the actual solutions created are dependent on the specific needs of the organizations involved. The impact on the workforce is determined by the specific applications built using Omdena's platform, not by Omdena itself.\n",
      "8\n",
      "Thoro AI's autonomy platform directly replaces human operators in tasks traditionally performed by individuals in various sectors. ONET Task: Industrial Equipment Operators Explanation: Thoro AI's technology enables autonomous operation of equipment, effectively replacing human operators in tasks like cleaning, logistics, and even \"gofer\" and \"shuttle\" bot operations. This directly impacts the tasks performed by industrial equipment operators, leading to a significant automation potential.\n",
      "6\n",
      "Gretel indirectly replaces some of the tasks currently performed by data scientists and engineers. By automating the creation of synthetic datasets, it frees up developers to focus more on model training and development rather than data preparation and anonymization. ONET Task: Data Scientist - Gretel reduces the time spent on data preparation and anonymization, allowing data scientists to focus more on model building and analysis. Software Developer - Gretel allows developers to focus on building AI applications without worrying about the privacy implications of using real data. Explanation: While Gretel doesn't directly replace the entire job of a data scientist or developer, it significantly impacts the time spent on specific tasks within these roles, making them more efficient and allowing them to focus on higher-level activities.\n",
      "2\n",
      "DataEthics4All focuses on education and awareness building, not on replacing tasks or automating processes. Its efforts revolve around promoting ethical data practices and AI development through STEAM education and mentorship. This aligns with raising awareness and fostering ethical behavior, not directly replacing workforce activities. ONET Task: N/A\n",
      "1\n",
      "Tech Phenomenon is a large-scale tech event that brings together professionals for networking, learning, and showcasing innovation. While the event may inspire new ideas and connections that lead to technological advancements, it does not directly replace any human task or occupation. It is primarily a platform for information sharing and relationship building. ONET Task: N/A\n",
      "7\n",
      "TrenderTag automates a significant portion of the tasks involved in social media management, particularly in areas like content discovery, audience targeting, and engagement optimization. This could potentially reduce the need for dedicated social media managers in certain organizations. ONET Task: Social Media Manager\n",
      "8\n",
      "Hyfe's AI models have the potential to significantly automate tasks currently performed by healthcare professionals, particularly those involved in respiratory health monitoring and diagnostics. ONET Task: Medical Assistant: Hyfe's cough detection and analysis could potentially reduce the time medical assistants spend listening to patients' coughs and recording symptoms. Respiratory Therapist: Hyfe's continuous monitoring could allow respiratory therapists to focus more on treatment and patient education, rather than routine monitoring. Pulmonologist: The data-driven insights provided by Hyfe could assist pulmonologists in early disease detection and risk prediction, leading to more targeted and effective treatment strategies. Note: While Hyfe's technology could significantly impact the workflow of these healthcare professionals, it is unlikely to completely replace them. It's more likely to act as a valuable tool that enhances their abilities and allows them to focus on more complex tasks.\n",
      "7\n",
      "While Amnet Digital doesn't offer a specific product like the examples, their focus on AI solutions for various industries means they are likely automating tasks within those sectors. ONET Task: This is difficult to pinpoint without more specific information about their solutions. However, based on their target industries (Enterprise Software, Retail, eCommerce, Healthcare), they could be automating tasks for: Software Developers (Enterprise Software) Market Research Analysts (Retail, eCommerce) Data Scientists (Healthcare, across all sectors) Financial Analysts (various sectors) Explanation: Amnet Digital's broad approach to AI solutions makes it difficult to assign a single ONET task. They are likely impacting many roles through automation, but without knowing specific solutions, it's hard to be precise. Important Note: The rating of 7 is a general assessment based on the information provided. A more accurate evaluation would require details about the specific AI solutions they offer.\n",
      "7\n",
      "Jeeva's technology directly impacts the tasks of clinical trial coordinators and research assistants by streamlining recruitment, improving adherence, and reducing dropout rates. While it won't fully replace these roles, it significantly automates key aspects of their work. ONET Task: Clinical Trial Coordinator, Research Assistant\n",
      "9\n",
      "Marble's technology directly replaces tasks traditionally performed by human workers in meat processing facilities. Its combination of AI, robotics, and vision systems automates tasks like carcass handling, cutting, and inspection. ONET Task: Meat Cutter (29-2021.00)\n",
      "6\n",
      "While SESO doesn't directly automate tasks within an existing job, it significantly streamlines the process of finding and managing agricultural labor. This reduction in administrative burden could potentially lead to a decrease in the need for specific HR roles within farms. ONET Task: Human Resources Specialist (Specifically, tasks related to recruitment, onboarding, and compliance in the agricultural sector). Explanation: Streamlined Recruitment: SESO's platform automates many aspects of finding and hiring H-2A workers, a task traditionally done by HR specialists. Compliance Automation: The platform handles H-2A visa automation and workforce management software, reducing the need for HR professionals to navigate complex regulations. Impact on Existing Roles: While not entirely replacing HR specialists, SESO's technology could significantly reduce the time and effort required for these tasks, potentially leading to a smaller need for dedicated HR personnel within some agricultural businesses. Important Note: It's important to consider that SESO primarily focuses on connecting employers with qualified workers, not replacing those workers entirely. The platform aims to address labor shortages, not replace the human workforce in agriculture.\n",
      "8\n",
      "Scout aims to automate and streamline the complex processes involved in managing alternative assets. This suggests a high likelihood of replacing tasks currently performed by professionals in the field. ONET Task: Financial Analyst Explanation: Financial analysts often perform tasks related to evaluating and managing investments, including alternative assets. Scout's capabilities in automating workflows and data management could significantly impact the tasks performed by financial analysts.\n",
      "7\n",
      "While HelloMary's AI assistant doesn't fully replace the role of a dispensary employee, it significantly automates the process of customer interaction, order placement, and product recommendations. This frees up dispensary staff to focus on other tasks like customer service, inventory management, and compliance. ONET Task: Retail Salesperson Explanation: The ONET task \"Retail Salesperson\" encompasses activities like assisting customers, processing sales, and providing product information. HelloMary's AI assistant takes over a significant portion of these tasks, reducing the need for human interaction for certain aspects of the sales process.\n",
      "7\n",
      "Rhino Health's software directly automates tasks involved in AI development and clinical translation, potentially replacing certain aspects of work done by data scientists, bioinformaticians, and clinical researchers. ONET Task: Data Scientist, Bioinformatician, Clinical Research Associate\n"
     ]
    }
   ],
   "source": [
    "for x in range(20):\n",
    "    print(pre.automation_rating.iloc[x])\n",
    "    print(pre.automation_rating_reasoning.iloc[x])"
   ]
  },
  {
   "cell_type": "code",
   "execution_count": 75,
   "id": "022c0515-6f09-4a5d-a41a-bad1f5f21be2",
   "metadata": {},
   "outputs": [
    {
     "name": "stdout",
     "output_type": "stream",
     "text": [
      "pre 1188, post 695\n"
     ]
    }
   ],
   "source": [
    "pre = df[pd.to_datetime(df['founded date'])<='11/30/2020']\n",
    "post = df[pd.to_datetime(df['founded date'])>='11/30/2022']\n",
    "print(f\"pre {len(pre)}, post {len(post)}\")"
   ]
  },
  {
   "cell_type": "code",
   "execution_count": 76,
   "id": "d9e5d63f-be08-40f4-90db-c4391f615a9e",
   "metadata": {},
   "outputs": [
    {
     "data": {
      "text/plain": [
       "1.651668923945931"
      ]
     },
     "execution_count": 76,
     "metadata": {},
     "output_type": "execute_result"
    }
   ],
   "source": [
    "pre.automation_rating.std()"
   ]
  },
  {
   "cell_type": "code",
   "execution_count": 77,
   "id": "cf9d2c81-aa69-47bd-8fd9-dca90ed4a2b5",
   "metadata": {},
   "outputs": [
    {
     "data": {
      "text/plain": [
       "1.5178834971047954"
      ]
     },
     "execution_count": 77,
     "metadata": {},
     "output_type": "execute_result"
    }
   ],
   "source": [
    "post.automation_rating.std()"
   ]
  },
  {
   "cell_type": "code",
   "execution_count": 87,
   "id": "15f6c205-77b1-4116-8d9b-a626ca6a1f27",
   "metadata": {},
   "outputs": [
    {
     "data": {
      "text/plain": [
       "901"
      ]
     },
     "execution_count": 87,
     "metadata": {},
     "output_type": "execute_result"
    }
   ],
   "source": [
    "len(pre[pre[\"automation_rating\"]>6])"
   ]
  },
  {
   "cell_type": "code",
   "execution_count": 58,
   "id": "a9f84465-8f33-4926-b1d3-4ac187c1b590",
   "metadata": {},
   "outputs": [
    {
     "name": "stdout",
     "output_type": "stream",
     "text": [
      "98\n",
      "2232\n"
     ]
    }
   ],
   "source": [
    "print(len(pre[pre.generated_description.str.contains(\"language\")]))\n",
    "print(len(pre))"
   ]
  },
  {
   "cell_type": "code",
   "execution_count": 59,
   "id": "69fc8887-a6c8-4d3a-be87-c0116172d6e3",
   "metadata": {},
   "outputs": [
    {
     "name": "stdout",
     "output_type": "stream",
     "text": [
      "40\n",
      "695\n"
     ]
    }
   ],
   "source": [
    "print(len(post[post.generated_description.str.contains(\"language\")]))\n",
    "print(len(post))"
   ]
  },
  {
   "cell_type": "code",
   "execution_count": 60,
   "id": "021ebbbb-5318-42e7-a599-937b7fd05a85",
   "metadata": {},
   "outputs": [
    {
     "data": {
      "text/plain": [
       "organization name\n",
       "Intelligent Racing         Intelligent Racing Analysis\\n\\nRating: 2\\n\\nRe...\n",
       "Bright Feeds               Bright Feeds Analysis\\n\\nRating: 7\\n\\nReasonin...\n",
       "CTNEX                      CTNEX Analysis\\n\\nRating: 7\\n\\nReasoning: Whil...\n",
       "Fathom                     Here's an analysis of Fathom:\\n\\nRating: 4\\n\\n...\n",
       "Chronly                    Chronly Analysis\\n\\nRating: 8\\n\\nReasoning: Ch...\n",
       "                                                 ...                        \n",
       "Definitive Intelligence    Definitive Intelligence Rating:\\n\\nRating: 7\\n...\n",
       "Aiden                      Aiden Analysis\\n\\nRating: 8\\n\\nReasoning: Aide...\n",
       "Clearbrief                 Clearbrief Analysis:\\n\\nRating: 8\\n\\nReasoning...\n",
       "Webaverse                  Webaverse Rating: \\n\\nRating: 3\\n\\nReasoning: ...\n",
       "Formulate                  Formulate Rating: \\n\\nRating: 7\\n\\nReasoning: ...\n",
       "Name: automation_rating_llm, Length: 2927, dtype: object"
      ]
     },
     "execution_count": 60,
     "metadata": {},
     "output_type": "execute_result"
    }
   ],
   "source": [
    "df.automation_rating_llm"
   ]
  },
  {
   "cell_type": "code",
   "execution_count": 61,
   "id": "a0ae0864-3dcb-4737-ba27-eab56067104a",
   "metadata": {},
   "outputs": [
    {
     "name": "stdout",
     "output_type": "stream",
     "text": [
      "CTNEX is a mobile marketplace app that connects buyers and sellers in Africa's informal SME sector, offering integrated services like AI-powered delivery, embedded finance, and quick credit underwriting. By digitizing this sector, CTNEX aims to create economic opportunities and foster growth within the African market.\n",
      "Chronly is an AI-powered workforce management platform that helps tech teams track progress, identify areas for improvement, and optimize resource allocation. It provides real-time insights to ensure projects stay on schedule and within budget.\n",
      "MyJobAide LLC offers an AI-powered job assistant designed to help job seekers get interview calls for their target positions. It provides personalized guidance and support throughout the job search process, aiming to streamline the journey and increase success rates.\n",
      "TraceChain develops advanced traceability software solutions using AI and ML for regulated industries. Their L4 and L5 solutions provide a comprehensive view of the supply chain, enabling enhanced compliance and efficiency.\n",
      "Arkifi offers AI-powered financial analyst tools designed to eliminate \"hallucination\" and deliver reliable, consistent results. Their technology is built to provide businesses with confidence in their financial insights and analysis.\n",
      "Ainstein develops affordable, autonomous AI agents that are designed to empower individuals with enhanced capabilities and productivity. These AI workers, accessible to everyone, aim to democratize artificial intelligence and unlock new possibilities for human potential.\n",
      "SatYield is a technology company that leverages satellite imagery and artificial intelligence to provide accurate crop yield predictions months before harvest. This information empowers farmers, insurers, and commodity traders to make informed decisions, minimizing risk and enhancing food security.\n",
      "ChatGPTDemo.io is a platform that offers free access to ChatGPT, GPT-3, and GPT-4 through the official ChatGPT API. It also features an extensive directory of AI tools and resources, categorized by function, to help users discover and explore the capabilities of these technologies.\n",
      "ContextQA is a low-code, no-code test automation platform that uses AI to streamline testing processes. It offers features like automated test case generation, self-healing tests, visual regression analysis, and root cause analysis, allowing for comprehensive testing across various platforms and applications.\n",
      "Lepton AI empowers businesses to deploy and run AI applications at scale within minutes through its cloud-native platform. The company focuses on streamlining the process of building and deploying AI models, simplifying the complexity of AI infrastructure management.\n",
      "Sweetspot is a platform that utilizes artificial intelligence to streamline the process of securing government contracts for businesses. It assists companies in identifying, managing, and responding to government bids, making it easier for them to win lucrative contracts.\n",
      "Magnifi is an AI-powered recruitment platform that helps companies find the best candidates by analyzing their experience and translating it into quantifiable skills and competencies. This platform simplifies the hiring process by matching qualified candidates to relevant job openings based on their unique skills and experience.\n",
      "Reo.Dev is a growth platform designed specifically for developer-focused companies. It integrates with various developer tools like GitHub, Docker, and Slack to analyze developer activity and identify potential sales opportunities and accounts ready to purchase.\n",
      "LUBU Technologies offers AI-powered smart insoles that provide real-time feedback on gait and biomechanics, helping users improve performance and reduce injury risk. The insoles collect data on factors such as pressure distribution, stride length, and impact forces, then use AI algorithms to analyze and provide personalized insights.\n",
      "Zime is an AI-powered sales coaching platform that uses behavioral science to drive best practices adoption within sales teams. By analyzing data and leveraging a company's existing knowledge, Zime provides real-time coaching and guidance to individual sales reps, ensuring they consistently implement the most effective strategies.\n",
      "Echo Labs is a company focused on developing advanced AI technology for transcription. Their flagship product aims to achieve human-level accuracy in transcribing audio and video content, offering a more efficient and precise alternative to traditional methods.\n",
      "AminoAnalytica is a generative AI company focused on protein-based therapeutics. Their technology helps biopharma companies design and develop manufacturable proteins faster, ultimately leading to more efficient drug development and production.\n",
      "Civio.ai utilizes artificial intelligence to help businesses generate revenue through government contracts and grants. Their platform analyzes government spending data, identifies potential funding opportunities, and automates the application process for improved efficiency.\n",
      "Safebooks AI offers an automated platform that helps enterprises ensure the accuracy and quality of their financial data. By automating the verification process, Safebooks AI enables businesses to confidently sign off on 100% of their financial data, eliminating potential errors and improving transparency.\n",
      "Echo Systems AI, Inc. offers a real-time voice assistant that leverages artificial intelligence for enhanced communication and collaboration within businesses. This AI-powered assistant is designed to streamline workflows, improve productivity, and provide intelligent insights through natural language interactions.\n"
     ]
    },
    {
     "name": "stderr",
     "output_type": "stream",
     "text": [
      "/var/folders/nf/2dvvlnxj5v962kwwzmpfj17h0000gn/T/ipykernel_21420/3336887918.py:2: FutureWarning: Series.__getitem__ treating keys as positions is deprecated. In a future version, integer keys will always be treated as labels (consistent with DataFrame behavior). To access a value by position, use `ser.iloc[pos]`\n",
      "  print(post.generated_description[x])\n"
     ]
    }
   ],
   "source": [
    "for x in range(20):\n",
    "    print(post.generated_description[x])"
   ]
  },
  {
   "cell_type": "code",
   "execution_count": 53,
   "id": "20f59d36-44ee-4235-a378-e6256005a4a0",
   "metadata": {},
   "outputs": [
    {
     "name": "stdout",
     "output_type": "stream",
     "text": [
      "Intelligent Racing offers professional training programs in artificial intelligence and machine learning, equipping individuals with the skills needed to succeed in this rapidly evolving field. Their curriculum covers a wide range of topics, from foundational concepts to advanced techniques, empowering learners to leverage AI for real-world applications.\n",
      "Bright Feeds is a company tackling food waste by converting it into animal feed using a combination of artificial intelligence and innovative drying technology. They aim to create a sustainable solution for food waste management, reducing landfill waste and providing valuable resources for animal feed production.\n",
      "Fathom is an AI-powered podcast search engine and player that allows users to effortlessly find podcasts based on their interests and discover new conversations on specific topics. Users can ask questions and receive answers from podcasters and their guests, preview episodes, and browse recommended content based on their listening history.\n",
      "ClickHouse is a high-performance, open-source database designed for real-time analytics and data processing. Leveraging a column-oriented architecture, it excels at generating fast, analytical reports by efficiently storing and querying vast amounts of data.\n",
      "Parasanti specializes in edge computing solutions, offering software and hardware that enable real-time analytics and machine learning on devices with limited bandwidth. Their technology allows for the collection and processing of data from diverse sources, even in challenging environments, making it ideal for IoT applications and distributed systems.\n",
      "Boatrax is an IoT platform designed for boat owners, offering AI-powered preventative maintenance and real-time tracking features. The plug-and-play device connects to your boat's helm and automatically transmits data to your mobile app, providing insights for safety and cost optimization.\n",
      "Talentprise is a recruitment services company specializing in sourcing and headhunting for IT roles. They use AI technology for candidate shortlisting and offer a range of services including job finder tools and IT recruitment support.\n",
      "Ango AI is a data labeling platform specifically designed for the medical AI industry. Their platform facilitates the transfer of knowledge from human experts to AI models, allowing for the creation of high-quality training data that is crucial for the development of accurate and reliable medical AI applications.\n",
      "Levogy is an IT services company that specializes in a range of technologies, including enterprise integration, EDI, web and application development, cloud migration and management, analytics, machine learning, and artificial intelligence. They offer custom solutions tailored to meet the specific needs of their clients, helping them optimize their IT infrastructure and operations.\n",
      "Digital First AI is a generative AI tool that provides personalized marketing strategy recommendations and helps execute them, allowing businesses to scale their revenue. It leverages information about a company to suggest marketing activities tailored to its specific needs.\n",
      "Inergio provides an AI-powered digital asset performance management solution specifically tailored for the solar, wind, and electricity industries. Their focus is on leveraging data analytics to optimize asset performance, reduce operational costs, and transition from scheduled maintenance to reliability-centered maintenance.\n",
      "WiteSand offers a cloud-based platform that uses AI/ML to simplify enterprise networking management. They consolidate on-premise networking tools into a unified service, providing a centralized portal for provisioning, monitoring, analysis, and security.\n",
      "CassetteAI is a user-friendly music creation platform that leverages generative AI to empower anyone, regardless of technical or musical expertise, to create original beats, sound effects, and music. The platform simplifies the process by allowing users to generate music with text-based prompts, making it accessible and democratic.\n",
      "AINOA Consulting is an East Coast-based company specializing in AI transformation. They leverage a human-centered approach to accelerate the adoption and integration of AI technologies within organizations, ensuring a smooth and successful transition.\n",
      "Aftom is a technology company that utilizes artificial intelligence to enhance worker safety and improve project productivity in various industries. The company focuses on providing solutions that streamline operations and minimize workplace risks.\n",
      "Omdena is a global community platform that connects individuals with diverse skillsets to collaborate on developing AI solutions for real-world challenges. Through structured projects, participants gain practical AI experience while addressing pressing issues in areas like healthcare, sustainability, and humanitarian aid.\n",
      "Baller Mixed Reality creates Augmented Reality NFTs autographed by famous athletes and entertainers, allowing fans to interact with these digital collectibles in real-world settings. Baller leverages blockchain technology to ensure authenticity and prevent counterfeiting, bringing a new level of engagement and value to the sports memorabilia market.\n",
      "DAGWorks provides a collaborative platform designed to streamline the development, production, and maintenance of machine learning ETLs for data science teams. This open-core platform seamlessly integrates with existing MLOps and data infrastructure, enabling efficient workflow management and collaboration.\n",
      "Joggr is an AI-powered platform that automates documentation generation and updates for software developers, ensuring documentation remains accurate and accessible with every code change. By eliminating the manual effort of updating documentation, Joggr saves developers time and resources, streamlining the development process.\n",
      "Thoro Inc provides an autonomous platform for commercial and industrial equipment, aiming to enhance efficiency and safety in various sectors like cleaning, logistics, and hospitality. Their solution, including software, hardware, and cloud-based support, allows equipment to navigate complex environments while interacting with people safely.\n"
     ]
    },
    {
     "name": "stderr",
     "output_type": "stream",
     "text": [
      "/var/folders/nf/2dvvlnxj5v962kwwzmpfj17h0000gn/T/ipykernel_21420/119646399.py:2: FutureWarning: Series.__getitem__ treating keys as positions is deprecated. In a future version, integer keys will always be treated as labels (consistent with DataFrame behavior). To access a value by position, use `ser.iloc[pos]`\n",
      "  print(pre.generated_description[x])\n"
     ]
    }
   ],
   "source": [
    "for x in range(20):\n",
    "    print(pre.generated_description[x])"
   ]
  },
  {
   "cell_type": "code",
   "execution_count": 49,
   "id": "e95b6d49-4fac-4e9e-8847-38206297f824",
   "metadata": {},
   "outputs": [],
   "source": []
  },
  {
   "cell_type": "code",
   "execution_count": 61,
   "id": "11ecc9d9-0ec8-4dc2-b9ed-285f15e90539",
   "metadata": {},
   "outputs": [],
   "source": [
    "onet_df = pd.read_csv(\"../output/results/onet_df.csv\")\n",
    "\n",
    "# onet_df = onet_df[onet_df.task_similarity > .68]\n",
    "onet_df = onet_df.groupby(\"organization_name\").aggregate({\"task_similarity\":\"max\"})\n",
    "\n",
    "startup_df = pd.read_csv(\"../output/results/df_with_examples.csv\")\n",
    "cols = ['organization name', 'founded date', 'website', 'description_all', 'industries_parsed', 'generated_description', 'parsed_description', 'Tasks/Jobs', 'Industry', 'Customers', 'generated_description_conf_interval', 'parsed_description_conf_interval']\n",
    "df = startup_df[cols]\n",
    "df = df.merge(onet_df,left_on=\"organization name\",right_on=\"organization_name\")\n",
    "df['founded date'] = pd.to_datetime(df['founded date'])\n",
    "df.set_index('founded date', inplace=True)\n",
    "\n",
    "# Resample to six-month frequency and count occurrences\n",
    "result = df.resample('1M')['task_similarity'].mean()"
   ]
  },
  {
   "cell_type": "code",
   "execution_count": 62,
   "id": "8200f81f-246c-4859-a082-d49baf341e9b",
   "metadata": {},
   "outputs": [
    {
     "data": {
      "text/plain": [
       "founded date\n",
       "2022-11-30    0.763586\n",
       "2022-12-31    0.745866\n",
       "2023-01-31    0.738791\n",
       "2023-02-28    0.753321\n",
       "2023-03-31    0.727385\n",
       "2023-04-30    0.743651\n",
       "2023-05-31    0.744339\n",
       "2023-06-30    0.732133\n",
       "2023-07-31    0.758891\n",
       "2023-08-31    0.736735\n",
       "2023-09-30    0.738918\n",
       "2023-10-31    0.749878\n",
       "2023-11-30    0.746484\n",
       "2023-12-31    0.727157\n",
       "2024-01-31    0.746109\n",
       "2024-02-29    0.755897\n",
       "2024-03-31    0.753329\n",
       "2024-04-30    0.750903\n",
       "2024-05-31    0.740903\n",
       "2024-06-30    0.722489\n",
       "Freq: M, Name: task_similarity, dtype: float64"
      ]
     },
     "execution_count": 62,
     "metadata": {},
     "output_type": "execute_result"
    }
   ],
   "source": [
    "result"
   ]
  },
  {
   "cell_type": "code",
   "execution_count": 60,
   "id": "f15c90d1-050f-4638-860e-c94b48ffca77",
   "metadata": {},
   "outputs": [
    {
     "ename": "KeyError",
     "evalue": "'founded date'",
     "output_type": "error",
     "traceback": [
      "\u001b[0;31m---------------------------------------------------------------------------\u001b[0m",
      "\u001b[0;31mKeyError\u001b[0m                                  Traceback (most recent call last)",
      "File \u001b[0;32m/opt/anaconda3/lib/python3.11/site-packages/pandas/core/indexes/base.py:3791\u001b[0m, in \u001b[0;36mIndex.get_loc\u001b[0;34m(self, key)\u001b[0m\n\u001b[1;32m   3790\u001b[0m \u001b[38;5;28;01mtry\u001b[39;00m:\n\u001b[0;32m-> 3791\u001b[0m     \u001b[38;5;28;01mreturn\u001b[39;00m \u001b[38;5;28mself\u001b[39m\u001b[38;5;241m.\u001b[39m_engine\u001b[38;5;241m.\u001b[39mget_loc(casted_key)\n\u001b[1;32m   3792\u001b[0m \u001b[38;5;28;01mexcept\u001b[39;00m \u001b[38;5;167;01mKeyError\u001b[39;00m \u001b[38;5;28;01mas\u001b[39;00m err:\n",
      "File \u001b[0;32mindex.pyx:152\u001b[0m, in \u001b[0;36mpandas._libs.index.IndexEngine.get_loc\u001b[0;34m()\u001b[0m\n",
      "File \u001b[0;32mindex.pyx:181\u001b[0m, in \u001b[0;36mpandas._libs.index.IndexEngine.get_loc\u001b[0;34m()\u001b[0m\n",
      "File \u001b[0;32mpandas/_libs/hashtable_class_helper.pxi:7080\u001b[0m, in \u001b[0;36mpandas._libs.hashtable.PyObjectHashTable.get_item\u001b[0;34m()\u001b[0m\n",
      "File \u001b[0;32mpandas/_libs/hashtable_class_helper.pxi:7088\u001b[0m, in \u001b[0;36mpandas._libs.hashtable.PyObjectHashTable.get_item\u001b[0;34m()\u001b[0m\n",
      "\u001b[0;31mKeyError\u001b[0m: 'founded date'",
      "\nThe above exception was the direct cause of the following exception:\n",
      "\u001b[0;31mKeyError\u001b[0m                                  Traceback (most recent call last)",
      "Cell \u001b[0;32mIn[60], line 1\u001b[0m\n\u001b[0;32m----> 1\u001b[0m df[\u001b[38;5;124m'\u001b[39m\u001b[38;5;124mfounded date\u001b[39m\u001b[38;5;124m'\u001b[39m] \u001b[38;5;241m=\u001b[39m pd\u001b[38;5;241m.\u001b[39mto_datetime(df[\u001b[38;5;124m'\u001b[39m\u001b[38;5;124mfounded date\u001b[39m\u001b[38;5;124m'\u001b[39m])\n\u001b[1;32m      2\u001b[0m df\u001b[38;5;241m.\u001b[39mset_index(\u001b[38;5;124m'\u001b[39m\u001b[38;5;124mfounded date\u001b[39m\u001b[38;5;124m'\u001b[39m, inplace\u001b[38;5;241m=\u001b[39m\u001b[38;5;28;01mTrue\u001b[39;00m)\n\u001b[1;32m      4\u001b[0m \u001b[38;5;66;03m# Resample to six-month frequency and count occurrences\u001b[39;00m\n",
      "File \u001b[0;32m/opt/anaconda3/lib/python3.11/site-packages/pandas/core/frame.py:3893\u001b[0m, in \u001b[0;36mDataFrame.__getitem__\u001b[0;34m(self, key)\u001b[0m\n\u001b[1;32m   3891\u001b[0m \u001b[38;5;28;01mif\u001b[39;00m \u001b[38;5;28mself\u001b[39m\u001b[38;5;241m.\u001b[39mcolumns\u001b[38;5;241m.\u001b[39mnlevels \u001b[38;5;241m>\u001b[39m \u001b[38;5;241m1\u001b[39m:\n\u001b[1;32m   3892\u001b[0m     \u001b[38;5;28;01mreturn\u001b[39;00m \u001b[38;5;28mself\u001b[39m\u001b[38;5;241m.\u001b[39m_getitem_multilevel(key)\n\u001b[0;32m-> 3893\u001b[0m indexer \u001b[38;5;241m=\u001b[39m \u001b[38;5;28mself\u001b[39m\u001b[38;5;241m.\u001b[39mcolumns\u001b[38;5;241m.\u001b[39mget_loc(key)\n\u001b[1;32m   3894\u001b[0m \u001b[38;5;28;01mif\u001b[39;00m is_integer(indexer):\n\u001b[1;32m   3895\u001b[0m     indexer \u001b[38;5;241m=\u001b[39m [indexer]\n",
      "File \u001b[0;32m/opt/anaconda3/lib/python3.11/site-packages/pandas/core/indexes/base.py:3798\u001b[0m, in \u001b[0;36mIndex.get_loc\u001b[0;34m(self, key)\u001b[0m\n\u001b[1;32m   3793\u001b[0m     \u001b[38;5;28;01mif\u001b[39;00m \u001b[38;5;28misinstance\u001b[39m(casted_key, \u001b[38;5;28mslice\u001b[39m) \u001b[38;5;129;01mor\u001b[39;00m (\n\u001b[1;32m   3794\u001b[0m         \u001b[38;5;28misinstance\u001b[39m(casted_key, abc\u001b[38;5;241m.\u001b[39mIterable)\n\u001b[1;32m   3795\u001b[0m         \u001b[38;5;129;01mand\u001b[39;00m \u001b[38;5;28many\u001b[39m(\u001b[38;5;28misinstance\u001b[39m(x, \u001b[38;5;28mslice\u001b[39m) \u001b[38;5;28;01mfor\u001b[39;00m x \u001b[38;5;129;01min\u001b[39;00m casted_key)\n\u001b[1;32m   3796\u001b[0m     ):\n\u001b[1;32m   3797\u001b[0m         \u001b[38;5;28;01mraise\u001b[39;00m InvalidIndexError(key)\n\u001b[0;32m-> 3798\u001b[0m     \u001b[38;5;28;01mraise\u001b[39;00m \u001b[38;5;167;01mKeyError\u001b[39;00m(key) \u001b[38;5;28;01mfrom\u001b[39;00m \u001b[38;5;21;01merr\u001b[39;00m\n\u001b[1;32m   3799\u001b[0m \u001b[38;5;28;01mexcept\u001b[39;00m \u001b[38;5;167;01mTypeError\u001b[39;00m:\n\u001b[1;32m   3800\u001b[0m     \u001b[38;5;66;03m# If we have a listlike key, _check_indexing_error will raise\u001b[39;00m\n\u001b[1;32m   3801\u001b[0m     \u001b[38;5;66;03m#  InvalidIndexError. Otherwise we fall through and re-raise\u001b[39;00m\n\u001b[1;32m   3802\u001b[0m     \u001b[38;5;66;03m#  the TypeError.\u001b[39;00m\n\u001b[1;32m   3803\u001b[0m     \u001b[38;5;28mself\u001b[39m\u001b[38;5;241m.\u001b[39m_check_indexing_error(key)\n",
      "\u001b[0;31mKeyError\u001b[0m: 'founded date'"
     ]
    }
   ],
   "source": []
  },
  {
   "cell_type": "code",
   "execution_count": 59,
   "id": "ba3dd675-4b84-4154-80f0-2f5548d453ff",
   "metadata": {},
   "outputs": [
    {
     "data": {
      "text/plain": [
       "founded date\n",
       "2022-11-30      1\n",
       "2022-12-31     70\n",
       "2023-01-31    970\n",
       "2023-02-28     67\n",
       "2023-03-31    102\n",
       "2023-04-30     96\n",
       "2023-05-31    101\n",
       "2023-06-30     78\n",
       "2023-07-31     73\n",
       "2023-08-31     77\n",
       "2023-09-30     77\n",
       "2023-10-31     67\n",
       "2023-11-30     67\n",
       "2023-12-31     31\n",
       "2024-01-31    163\n",
       "2024-02-29     31\n",
       "2024-03-31     49\n",
       "2024-04-30     29\n",
       "2024-05-31     24\n",
       "2024-06-30     12\n",
       "Freq: M, Name: task_similarity, dtype: int64"
      ]
     },
     "execution_count": 59,
     "metadata": {},
     "output_type": "execute_result"
    }
   ],
   "source": [
    "result"
   ]
  },
  {
   "cell_type": "code",
   "execution_count": 54,
   "id": "ec84710a-e0d6-432a-9d0d-2a847e41af6f",
   "metadata": {},
   "outputs": [
    {
     "data": {
      "text/plain": [
       "founded date\n",
       "2023-01-01    Pika.art is an AI-powered platform that allows...\n",
       "2023-01-01    Pika.art is an AI-powered platform that allows...\n",
       "2023-01-01    Pika.art is an AI-powered platform that allows...\n",
       "2023-01-01    Contextual AI is a company that provides a gen...\n",
       "2023-01-01    Contextual AI is a company that provides a gen...\n",
       "                                    ...                        \n",
       "2024-06-18    PrimeRole is a B2B sales intelligence platform...\n",
       "2024-06-18    PrimeRole is a B2B sales intelligence platform...\n",
       "2024-06-18    PrimeRole is a B2B sales intelligence platform...\n",
       "2024-06-18    PrimeRole is a B2B sales intelligence platform...\n",
       "2024-06-18    PrimeRole is a B2B sales intelligence platform...\n",
       "Name: generated_description, Length: 9357, dtype: object"
      ]
     },
     "execution_count": 54,
     "metadata": {},
     "output_type": "execute_result"
    }
   ],
   "source": [
    "df.generated_description"
   ]
  },
  {
   "cell_type": "code",
   "execution_count": null,
   "id": "b76d56d2-3582-4f79-b337-b0e073acf975",
   "metadata": {},
   "outputs": [],
   "source": []
  }
 ],
 "metadata": {
  "kernelspec": {
   "display_name": "Python 3 (ipykernel)",
   "language": "python",
   "name": "python3"
  },
  "language_info": {
   "codemirror_mode": {
    "name": "ipython",
    "version": 3
   },
   "file_extension": ".py",
   "mimetype": "text/x-python",
   "name": "python",
   "nbconvert_exporter": "python",
   "pygments_lexer": "ipython3",
   "version": "3.11.7"
  }
 },
 "nbformat": 4,
 "nbformat_minor": 5
}
