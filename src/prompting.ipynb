{
 "cells": [
  {
   "cell_type": "code",
   "execution_count": 28,
   "id": "c3365a1e-73b1-4f6f-a2cc-b0f226b573e1",
   "metadata": {},
   "outputs": [],
   "source": [
    "import nest_asyncio\n",
    "import aiohttp\n",
    "import asyncio\n",
    "import nest_asyncio\n",
    "import re\n",
    "import time\n",
    "import pandas as pd\n",
    "import numpy as np\n",
    "from dotenv import load_dotenv\n",
    "import os\n",
    "from os import getenv\n",
    "from openai import OpenAI\n",
    "import pathlib\n",
    "import textwrap\n",
    "# import google.generativeai as genai\n",
    "import time\n",
    "import requests\n",
    "import ast\n",
    "import json\n",
    "from sklearn.metrics.pairwise import cosine_similarity\n",
    "import re\n",
    "from llms import chatGPT\n",
    "from llms import gemini\n",
    "\n",
    "\n",
    "x_chat = chatGPT()\n",
    "x_gemini = gemini()"
   ]
  },
  {
   "cell_type": "code",
   "execution_count": 431,
   "id": "cfbadaf6-ce35-481b-9fd5-0e1585e7dbea",
   "metadata": {},
   "outputs": [],
   "source": [
    "df = pd.read_csv(\"../output/data/data_post_chat_gpt.csv\")\n",
    "df = df[df[\"headquarters location\"].str.contains(\"United States\")]\n",
    "df = df[pd.to_datetime(df['founded date'])>='11/30/2022']"
   ]
  },
  {
   "cell_type": "code",
   "execution_count": 432,
   "id": "70d7eeba-b674-4a4b-a53e-83f61700a9bb",
   "metadata": {},
   "outputs": [],
   "source": [
    "df = df[df[\"organization name\"].isin([\"AI Mavericks\",\"AI Teaches Me from BAM Software Development\",\"AI Virtual Staging\"])]\n"
   ]
  },
  {
   "cell_type": "code",
   "execution_count": 433,
   "id": "9d4e9e79-53e6-46ed-9e2e-ca5d89692c72",
   "metadata": {},
   "outputs": [],
   "source": [
    "generated_description_prompt = \"\"\"\n",
    "Tell me about ${company}'s product.\n",
    "\n",
    "Next, rate your confidence in the description on a scale from 1 (not confident) to 10 (highly confident). Remember to follow the example format!\n",
    "\n",
    "**EXAMPLES BELOW**\n",
    "\n",
    "Company: Genmo\n",
    "Website: https://www.genmo.ai/\n",
    "Description: Genmo is a free tool that creates videos and images using artificial intelligence. Genmo can also generate creative text formats of text content, like poems, code, scripts, musical pieces, email, letters, etc.\n",
    "\n",
    "Company: OnePane\n",
    "Website: https://www.onepane.ai/\n",
    "Description: Onepane is a company that offers an AI companion for enhanced DevOps & SRE efficiency. Onepane offers a GenAI solution providing unparalleled unified insights and control over your Cloud resources. Onepane helps with root cause analysis, cloud governance, and optimization strategies.\n",
    "\n",
    "**YOUR TURN**\n",
    "\n",
    "Company: $company\n",
    "Website: $website\n",
    "Current Product Description: $description\n",
    "________________________\n",
    "Description (in two sentences):\n",
    "Confidence Interval:\n",
    "Reasoning:\n",
    "________________________\n",
    "\"\"\"\n",
    "\n"
   ]
  },
  {
   "cell_type": "code",
   "execution_count": 434,
   "id": "c393edc9-d578-48c9-8745-7ff57c39c677",
   "metadata": {},
   "outputs": [],
   "source": [
    "filter_prompt = \"\"\"\n",
    "On a scale of 1-10, Is the goal of the product of $company ($website) to be used by a task & occupation in the US workforce? \n",
    "Please give a specific rating (1-10) of how likely tool would be to replace human and reasoning.\n",
    "Description of $company: $description\n",
    "Rating: --\n",
    "Reasoning: --\n",
    "\"\"\""
   ]
  },
  {
   "cell_type": "code",
   "execution_count": 435,
   "id": "8fd94405-75bc-4ea2-babd-8ca39364fb70",
   "metadata": {},
   "outputs": [],
   "source": [
    "parsed_description_prompt = \"\"\"\n",
    "Your role is to describe the jobs/tasks, industries, and customers that $company is targeting. Then, provide a confidence interval (1-10) on how sure you are about the response. \n",
    "\n",
    "For each startup, describe:\n",
    "+ Tasks/Jobs being automated\n",
    "+ Industry that tasks/jobs belong to\n",
    "+ specific customers using the tool. \n",
    "    - DO NOT INCLUDE AN EXPLANATION\n",
    "\n",
    "Remember to follow the example format!\n",
    "\n",
    "**EXAMPLES BELOW**\n",
    "\n",
    "Company: Petville\n",
    "Website: petville.co/pricing/biz\n",
    "Description: Petville Global is a B2B CRM SaaS platform that utilizes advanced technologies like AI/ML and neural net to streamline and expand operations for pet businesses and veterinary clinics both locally and globally. The platform offers deep data analytics and marketing tools, helping businesses save an average of 22% on CRM and vet tech costs.\n",
    "Tasks/Jobs: Data analysis, Marketing automation, Appointment scheduling, Inventory management\n",
    "Industry: Customer management\n",
    "Customers: Veterinarians, Pet Businesses\n",
    "Confidence Interval: 8\n",
    "Reasoning: The description aligns well with the company's focus on CRM for pet-related businesses and includes specific tasks and industries that match the provided information.\n",
    "\n",
    "Company: Thunder\n",
    "Website: thundercompute.com\n",
    "Description: Thunder is a decentralized, peer-to-peer cloud computing platform designed to democratize access to GPUs and address the persistent GPU shortage. It provides a solution for individuals and businesses seeking high-performance computing power, enabling them to leverage unused GPU resources from around the world.\n",
    "Tasks/Jobs: GPU resource allocation, Access to unused GPUs, Distributed computing tasks\n",
    "Industry: Cloud Computing\n",
    "Customers: Developers, GPU Owners\n",
    "Confidence Interval: 9\n",
    "Reasoning: The platform's focus on GPU allocation and decentralized computing is clear, and the target customers and industry are well-defined and specific.\n",
    "\n",
    "Company: NonprofitsHQ\n",
    "Website: www.nonprofitshq.com\n",
    "Description: NonprofitsHQ is a software suite designed for nonprofits that utilizes AI to automate tasks, manage operations, and improve efficiency, ultimately saving organizations time and resources.\n",
    "Tasks/Jobs: Fundraising management, Donor relationship management, Grant writing, Event planning\n",
    "Industry: Non-profit management\n",
    "Customers: Non-profit organizations\n",
    "Confidence Interval: 7\n",
    "Reasoning: The description covers essential aspects of nonprofit management and identifies specific tasks and customers, but there could be more detail on the AI's role in these tasks.\n",
    "\n",
    "**YOUR TURN**\n",
    "\n",
    "Company: $company\n",
    "Website: $website\n",
    "Current Product Description: $description\n",
    "________________________\n",
    "Tasks/Jobs: (comma separated list of 4, short)\n",
    "Industry: \n",
    "Customers: (comma separated list)\n",
    "Confidence Interval: \n",
    "Reasoning: \n",
    "________________________\n",
    "\"\"\"\n"
   ]
  },
  {
   "cell_type": "code",
   "execution_count": 436,
   "id": "b7b3ac24-8174-4075-8aa2-7b8a0477593a",
   "metadata": {},
   "outputs": [],
   "source": [
    "#(follow ONET task statements for example on how to format a task: https://www.onetcenter.org/dictionary/20.1/excel/task_statements.html)"
   ]
  },
  {
   "cell_type": "code",
   "execution_count": 437,
   "id": "c64968eb-4e10-487f-9a64-c2fc4c0c640f",
   "metadata": {},
   "outputs": [],
   "source": [
    "examples_prompt = \"\"\"\n",
    "Imagine you're explaining the product from $company to someone unfamiliar with it. Provide 3 concise examples of how this product could be used in a real-world scenario. Keep the descriptions general and avoid mentioning the company name.\n",
    "\n",
    "For each example, describe:\n",
    "+ Context: description of when a person would use the tool\n",
    "+ Job Title and Task that the tool replaces\n",
    "    - Job Title should be broad and not based on specific context!\n",
    "    **Here are 10 Example Job Titles and Tasks**\n",
    "    ________________\n",
    "    Job Title: Engineering teachers, postsecondary\n",
    "    Task: Supervise undergraduate or graduate teaching, internship, and research work.\n",
    "    \n",
    "    Job Title: Instructional coordinators\n",
    "    Task: Adapt instructional content or delivery methods for different levels or types of learners.\n",
    "    \n",
    "    Job Title: Technical writers\n",
    "    Task: Edit, standardize, or make changes to material prepared by other writers or establishment personnel.\n",
    "    \n",
    "    Job Title: Nurse midwives\n",
    "    Task: Plan, provide, or evaluate educational programs for nursing staff, health care teams, or the community.\n",
    "    \n",
    "    Job Title: Business teachers, postsecondary\n",
    "    Task: Develop and maintain course web sites.\n",
    "    \n",
    "    Job Title: Airline pilots, copilots, and flight engineers\n",
    "    Task: Coose routes, altitudes, and speeds that will provide the fastest, safest, and smoothest flights.\n",
    "    \n",
    "    Job Title: Electronic equipment installers and repairers, motor vehicles\n",
    "    Task: Confer with customers to determine the nature of malfunctions.\n",
    "    \n",
    "    Job Title: Geography teachers, postsecondary\n",
    "    Task: Maintain regularly scheduled office hours to advise and assist students.\n",
    "    \n",
    "    Job Title: Ophthalmologists, except pediatric\n",
    "    Task: Document or evaluate patients' medical histories.\n",
    "    \n",
    "    Job Title: Special education teachers, elementary school\n",
    "    Task: Collaborate with other teachers or administrators to develop, evaluate, or revise elementary school programs.\n",
    "    ________________\n",
    "+ Next, rate your confidence in example task on a scale from 1 (not confident) to 10 (highly confident).\n",
    "\n",
    "\n",
    "**EXAMPLES BELOW**\n",
    "\n",
    "Company: Blanc\n",
    "Website: tryblanc.ai\n",
    "Blanc is a compliance automation platform designed for fintech companies. It helps streamline regulatory compliance processes by providing a centralized hub for managing policies, monitoring activities, and generating reports.\n",
    "________________\n",
    "Context 1: A compliance officer at a fintech company uses Blanc to automate the process of creating and updating compliance policies, ensuring all documents are current and accessible to relevant team members.\n",
    "Task 1: Verify that all firm and regulatory policies and procedures have been documented, implemented, and communicated.\n",
    "Job Title 1: Compliance Officers\n",
    "\n",
    "Context 2: A fintech company uses Blanc to generate automated compliance reports for regulatory audits, ensuring all necessary documentation is readily available and organized.\n",
    "Task 2: Prepare reports of activities, evaluations, recommendations, or decisions.\n",
    "Job Title 2: Compliance Officers\n",
    "\n",
    "Context 3: A fintech company uses Blanc to monitor real-time transactions for potential compliance violations, triggering alerts and generating reports for further investigation.\n",
    "Task 3: Identify compliance issues that require follow-up or investigation.\n",
    "Job Title 3: Compliance Officers\n",
    "________________\n",
    "\n",
    "Company: Aether\n",
    "Website: aetherenergie.com/\n",
    "Aether Energy is an AI-driven platform designed to simplify the process of rooftop solar installation for businesses, providing comprehensive support from project planning and financing to installation and ongoing maintenance. This platform aims to streamline and optimize the entire solar energy journey for installers. \n",
    "________________\n",
    "Context 1: A solar installer uses Aether to quickly create detailed project plans for rooftop solar installations, including system size, panel placement, and wiring diagrams. \n",
    "Task 1: Diagram layouts and locations for photovoltaic (PV) arrays and equipment, including existing building or site features.\n",
    "Job Title 1: Solar Photovoltaic Installers\n",
    "\n",
    "Context 2: A business owner leverages Aether to secure financing for their rooftop solar project, providing them with customized loan options and streamlined application processes. \n",
    "Task 2: Prepare solar installation project proposals, quotes, budgets, or schedules.\n",
    "Job Title 2: Solar Photovoltaic Installers\n",
    "\n",
    "Context 3: A solar installer uses Aether to manage the installation process, tracking materials, scheduling technicians, and coordinating with subcontractors, ensuring smooth project execution. \n",
    "Task 3:  Monitor work of contractors and subcontractors to ensure projects conform to plans, specifications, schedules, or budgets.\n",
    "Job Title 3: Solar Energy Installation Managers\n",
    "________________\n",
    "\n",
    "\n",
    "Remember to follow the example format! Please include numbers!\n",
    "\n",
    "**YOUR TURN**\n",
    "Company:$company\n",
    "Website: $website\n",
    "Current Description: $description\n",
    "$parsed_description\n",
    "________________\n",
    "**Example 1**\n",
    "Context 1: \n",
    "Job Title 1: \n",
    "Task 1:\n",
    "Confidence Interval 1:\n",
    "Reasoning 1:\n",
    "\n",
    "**Example 2**\n",
    "Context 2: \n",
    "Job Title 2: \n",
    "Task 2:\n",
    "Confidence Interval 2:\n",
    "Reasoning 2:\n",
    "\n",
    "**Example 3**\n",
    "Context 3:\n",
    "Job Title 3: \n",
    "Task 3:\n",
    "Confidence Interval 3:\n",
    "Reasoning 3:\n",
    "________________\n",
    "\"\"\""
   ]
  },
  {
   "cell_type": "code",
   "execution_count": 438,
   "id": "75f31840-edb9-4c8b-89f5-6b4a1b813dfc",
   "metadata": {},
   "outputs": [],
   "source": [
    "# Apply nest_asyncio\n",
    "nest_asyncio.apply()\n",
    "\n",
    "\n",
    "class prompting():\n",
    "    def __init__(self):\n",
    "        self.results_df = pd.DataFrame(columns=[\"organization name\", \"value\"])\n",
    "\n",
    "    def set_current_results_df(self, results_df):\n",
    "        self.results_df = results_df\n",
    "\n",
    "    async def iterate(self, df, prompt_template, args, value, batch_size=10, start=0, end=False):\n",
    "        if end == False:\n",
    "            end = len(df)\n",
    "        self.results_df = pd.DataFrame(columns=[\"organization name\", value])\n",
    "        if value in list(df.columns):\n",
    "            if start != 0:\n",
    "                self.results_df = pd.concat([df[[\"organization name\", value]].iloc[:start], self.results_df], axis=0)\n",
    "            df = df.drop(columns=[value])\n",
    "\n",
    "        batch_prompts = []\n",
    "        batch_indices = []\n",
    "\n",
    "        for i, row in list(df.iterrows())[start:end]:\n",
    "            name = row['organization name']\n",
    "            website = row['website']\n",
    "            prompt = prompt_template\n",
    "\n",
    "            for arg in args:\n",
    "                prompt = prompt.replace(f\"${arg[0]}\", row[arg[1]])\n",
    "\n",
    "            batch_prompts.append((i, name, prompt))\n",
    "            batch_indices.append(i)\n",
    "\n",
    "            if len(batch_prompts) >= batch_size:\n",
    "                await self.process_batch(batch_prompts)\n",
    "                batch_prompts = []\n",
    "\n",
    "        if batch_prompts:\n",
    "            await self.process_batch(batch_prompts)\n",
    "            self.results_df.to_csv(\"../output/current_results_df_prompting.csv\")\n",
    "\n",
    "        df = df.merge(self.results_df, on='organization name', how='left')\n",
    "        return df\n",
    "\n",
    "    async def process_batch(self, batch_prompts):\n",
    "        async with aiohttp.ClientSession() as session:\n",
    "            tasks = []\n",
    "            for i, name, prompt in batch_prompts:\n",
    "                tasks.append(self.fetch_result(session, i, name, prompt))\n",
    "            await asyncio.gather(*tasks)\n",
    "\n",
    "    async def fetch_result(self, session, i, name, prompt):\n",
    "        failure_count = 0\n",
    "        while True:\n",
    "            try:\n",
    "                print(f\"******************************\\nProcessing {i}: {name}\")\n",
    "                result = await x_gemini.ask(session, prompt)\n",
    "                if result == \"N/A\": break  # explicit material\n",
    "\n",
    "                text = re.sub(r\"#|#\\s+|_|\\*\", \"\", result).strip()\n",
    "\n",
    "                self.results_df.loc[i] = [name, text]\n",
    "\n",
    "                    \n",
    "                break\n",
    "            except Exception as e:\n",
    "                print(failure_count)\n",
    "                failure_count += 1\n",
    "                if failure_count > 10:\n",
    "                    break\n",
    "                print(f\"Error processing {i}, {name}: {e}\")\n",
    "                await asyncio.sleep(20)\n",
    "\n",
    "prompting_class = prompting()\n"
   ]
  },
  {
   "cell_type": "markdown",
   "id": "926693c6-c1e4-4264-9596-a5f4b3820496",
   "metadata": {},
   "source": [
    "## Generated Description"
   ]
  },
  {
   "cell_type": "code",
   "execution_count": 439,
   "id": "6f708d1c-1ef0-4edd-9da7-0e0684d44bc4",
   "metadata": {},
   "outputs": [
    {
     "name": "stdout",
     "output_type": "stream",
     "text": [
      "******************************\n",
      "Processing 1073: AI Virtual Staging\n",
      "******************************\n",
      "Processing 1776: AI Mavericks\n",
      "******************************\n",
      "Processing 2102: AI Teaches Me from BAM Software Development\n"
     ]
    }
   ],
   "source": [
    "cols = [\"generated_description\", \"generated_description_conf_interval\", \"generated_description_conf_interval_reasoning\"]\n",
    "args = [[\"company\",\"organization name\"], [\"website\",\"website\"], [\"description\",\"description_all\"]]\n",
    "\n",
    "async def main(df):\n",
    "    df = await prompting_class.iterate(df, generated_description_prompt, args, \"generated_description_llm\")\n",
    "    df.to_csv('../output/df_with_generated_description.csv', index=False)\n",
    "    return df\n",
    "\n",
    "df = asyncio.run(main(df))"
   ]
  },
  {
   "cell_type": "code",
   "execution_count": 440,
   "id": "800a070f-834d-4946-89aa-9a4b54691506",
   "metadata": {},
   "outputs": [
    {
     "data": {
      "text/plain": [
       "3"
      ]
     },
     "execution_count": 440,
     "metadata": {},
     "output_type": "execute_result"
    }
   ],
   "source": [
    "def extract_data(text):\n",
    "    if pd.isnull(text): return {}\n",
    "    text = text.replace(\"\\n\",\" \").replace(\"  \",\" \").replace(\"*\",\"\").replace(\" (two sentences)\",\"\").replace(\"/10\",\"\").replace(\"_\",\"\").replace(\"#\",\"\")\n",
    "    pattern = r\"^.*?\\s*Description:?\\s*(.*)Confidence Interval:\\s*(\\d+)\\s*Reasoning:\\s*(.*)$\"\n",
    "    match = re.search(pattern, text, re.DOTALL)\n",
    "    \n",
    "    if match:\n",
    "        description = match.group(1).strip()\n",
    "        confidence_interval = match.group(2).strip()\n",
    "        reasoning = match.group(3).strip()\n",
    "        \n",
    "        result = {\n",
    "            \"generated_description\": description,\n",
    "            \"generated_description_conf_interval\": confidence_interval,\n",
    "            \"generated_description_conf_interval_reasoning\": reasoning\n",
    "        }\n",
    "        return result\n",
    "        \n",
    "    else:\n",
    "        print(\"FAILURE TO MATCH\")\n",
    "        return {}\n",
    "        \n",
    "for col in cols:\n",
    "    if col in list(df.columns): df=df.drop(columns=[col])\n",
    "        \n",
    "results_df = pd.DataFrame(list(df.apply(lambda x: extract_data(x[\"generated_description_llm\"]),axis=1)))\n",
    "df = pd.concat([df, results_df],axis=1)\n",
    "len(df)"
   ]
  },
  {
   "cell_type": "code",
   "execution_count": 441,
   "id": "d25eccff-81c2-4b04-b3d6-32ac58174374",
   "metadata": {},
   "outputs": [],
   "source": [
    "# df = pd.read_csv(\"../output/df_with_generated_description.csv\", index_col=0).reset_index(drop=True)\n",
    "# len(df)"
   ]
  },
  {
   "cell_type": "code",
   "execution_count": 442,
   "id": "35dfc0a6-6140-4e76-bc93-20221bfc8593",
   "metadata": {},
   "outputs": [
    {
     "data": {
      "text/plain": [
       "3"
      ]
     },
     "execution_count": 442,
     "metadata": {},
     "output_type": "execute_result"
    }
   ],
   "source": [
    "df = df.dropna(subset=[\"generated_description\"],axis=0)\n",
    "df = df.drop_duplicates(subset=['organization name'], keep='first')\n",
    "df = df.reset_index(drop=True)\n",
    "len(df)"
   ]
  },
  {
   "cell_type": "markdown",
   "id": "524f9603-d8ee-4cac-83cf-2730434620dd",
   "metadata": {},
   "source": [
    "## Filter Prompt"
   ]
  },
  {
   "cell_type": "code",
   "execution_count": 443,
   "id": "3a7fc227-60c0-49b0-bee7-06952e34bd58",
   "metadata": {},
   "outputs": [
    {
     "name": "stdout",
     "output_type": "stream",
     "text": [
      "******************************\n",
      "Processing 0: AI Virtual Staging\n",
      "******************************\n",
      "Processing 1: AI Mavericks\n",
      "******************************\n",
      "Processing 2: AI Teaches Me from BAM Software Development\n"
     ]
    }
   ],
   "source": [
    "cols = [\"automation_rating\"]\n",
    "args = [[\"company\",\"organization name\"], [\"website\",\"website\"], [\"description\",\"description_all\"]]\n",
    "\n",
    "async def main(df):\n",
    "    df = await prompting_class.iterate(df, filter_prompt, args, \"automation_rating_llm\")\n",
    "    df.to_csv('../output/df_with_filter.csv', index=False)\n",
    "    return df\n",
    "\n",
    "df = asyncio.run(main(df))"
   ]
  },
  {
   "cell_type": "code",
   "execution_count": 444,
   "id": "666e7682-eb8c-497f-a63c-19877c64fb08",
   "metadata": {},
   "outputs": [],
   "source": [
    "def extract_data(text):\n",
    "    text = re.sub(r'\\s+', ' ', text)\n",
    "    pattern = r\"Rating: (\\d+)\\s+Reasoning:\\s+(.*)\"\n",
    "\n",
    "    # Search for the pattern in the text\n",
    "    match = re.search(pattern, text, re.DOTALL)\n",
    "\n",
    "    if match:\n",
    "        automation_rating = match.group(1).strip()\n",
    "        automation_rating_reasoning = match.group(2).strip()\n",
    "\n",
    "        result = {\n",
    "            \"automation_rating\": automation_rating,\n",
    "            \"automation_rating_reasoning\": automation_rating_reasoning\n",
    "        }\n",
    "        return result\n",
    "\n",
    "    else:\n",
    "        print(\"FAILURE TO MATCH\")\n",
    "        return {}\n",
    "        \n",
    "for col in cols:\n",
    "    if col in list(df.columns): df=df.drop(columns=[col])\n",
    "        \n",
    "results_df = pd.DataFrame(list(df.apply(lambda x: extract_data(x[\"automation_rating_llm\"]),axis=1)))\n",
    "df = pd.concat([df, results_df],axis=1)\n"
   ]
  },
  {
   "cell_type": "code",
   "execution_count": 445,
   "id": "7ebe57ea-423f-4688-80d2-590aab5df120",
   "metadata": {},
   "outputs": [
    {
     "name": "stdout",
     "output_type": "stream",
     "text": [
      "6\n",
      "1\n",
      "6\n"
     ]
    }
   ],
   "source": [
    "for x in range(len(df)):\n",
    "    print(df.automation_rating[x])"
   ]
  },
  {
   "cell_type": "markdown",
   "id": "3a9ac6fe-9a4f-44cc-a76c-88342bd098bf",
   "metadata": {},
   "source": [
    "## Parsed Description"
   ]
  },
  {
   "cell_type": "code",
   "execution_count": 446,
   "id": "ba1a0600-612d-4cb0-9cf2-3d58039e55ad",
   "metadata": {},
   "outputs": [
    {
     "name": "stdout",
     "output_type": "stream",
     "text": [
      "******************************\n",
      "Processing 0: AI Virtual Staging\n",
      "******************************\n",
      "Processing 1: AI Mavericks\n",
      "******************************\n",
      "Processing 2: AI Teaches Me from BAM Software Development\n"
     ]
    }
   ],
   "source": [
    "cols = [\"parsed_description\", \"parsed_description_conf_interval\", \"parsed_description_conf_interval_reasoning\", \"Tasks/Jobs\",\"Industry\",\"Customers\"]  \n",
    "args = [[\"company\",\"organization name\"],[\"website\",\"website\"], [\"description\",\"generated_description\"]]\n",
    "\n",
    "async def main(df):\n",
    "    df = await prompting_class.iterate(df, parsed_description_prompt, args, \"parsed_description_llm\")\n",
    "    df.to_csv('../output/df_with_parsed_description.csv', index=False)\n",
    "    return df\n",
    "\n",
    "df = asyncio.run(main(df))\n",
    "\n",
    "\n"
   ]
  },
  {
   "cell_type": "code",
   "execution_count": 447,
   "id": "2ac4998d-c73c-49c9-90b8-1dcd80432296",
   "metadata": {},
   "outputs": [],
   "source": [
    "def extract_data(text):\n",
    "    if pd.isnull(text): return {}\n",
    "    text = re.sub(r'\\s+', ' ', text)  \n",
    "    text = text.replace(\"_\", \"\").replace(\"*\", \"\").replace(\"#\", \"\")\n",
    "    text = re.sub(r'\\s?\\([^)]*\\)', '', text)\n",
    "    pattern = r\".*?Tasks/Jobs:\\s*(.*?)\\s*Industry:\\s*(.*?)\\s*Customers:\\s*(.*?)\\s*Confidence Interval:\\s*(.*?)\\s*Reasoning:\\s*(.*)\"\n",
    "    match = re.search(pattern, text, re.DOTALL)\n",
    "    \n",
    "    if match:\n",
    "        tasks_jobs = match.group(1).strip()\n",
    "        industry = match.group(2).strip()\n",
    "        customers = match.group(3).strip()\n",
    "        confidence_interval = match.group(4).strip()\n",
    "        reasoning = match.group(5).strip()\n",
    "        \n",
    "        result = {\n",
    "            \"parsed_description\": \n",
    "            \"Tasks/Jobs: \" + tasks_jobs + \"\\n\" + \"Industry: \" + industry + \"\\n\" + \"Customers: \"+ customers,\n",
    "            \"Tasks/Jobs\": tasks_jobs,\n",
    "            \"Industry\": industry,\n",
    "            \"Customers\": customers,\n",
    "            \"parsed_description_conf_interval\": confidence_interval,\n",
    "            \"parsed_description_conf_interval_reasoning\": reasoning\n",
    "        }\n",
    "        \n",
    "        return result\n",
    "    else:\n",
    "        print(text)\n",
    "        print(\"FAILURE TO MATCH\")\n",
    "        return {}\n",
    "        \n",
    "for col in cols:\n",
    "    if col in list(df.columns): df=df.drop(columns=[col])\n",
    "        \n",
    "results_df = pd.DataFrame(list(df.apply(lambda x: extract_data(x[\"parsed_description_llm\"]),axis=1)))\n",
    "df = pd.concat([df, results_df],axis=1)\n"
   ]
  },
  {
   "cell_type": "code",
   "execution_count": 448,
   "id": "6d81215d-4056-4be1-9e32-743a58a051bf",
   "metadata": {},
   "outputs": [
    {
     "data": {
      "text/plain": [
       "3"
      ]
     },
     "execution_count": 448,
     "metadata": {},
     "output_type": "execute_result"
    }
   ],
   "source": [
    "len(df)"
   ]
  },
  {
   "cell_type": "code",
   "execution_count": 449,
   "id": "607d5fcb-f1b8-40b5-a33c-e930c074d01d",
   "metadata": {},
   "outputs": [
    {
     "data": {
      "text/plain": [
       "3"
      ]
     },
     "execution_count": 449,
     "metadata": {},
     "output_type": "execute_result"
    }
   ],
   "source": [
    "df = df.dropna(subset=[\"parsed_description\"],axis=0)\n",
    "df = df.drop_duplicates(subset=['organization name'], keep='first')\n",
    "df = df.reset_index(drop=True)\n",
    "len(df)"
   ]
  },
  {
   "cell_type": "code",
   "execution_count": 450,
   "id": "6ccf4a3c-0c10-46bf-9569-c7dbd9d87cde",
   "metadata": {},
   "outputs": [],
   "source": [
    "df.to_csv('../output/df_with_parsed_description.csv', index=False)"
   ]
  },
  {
   "cell_type": "markdown",
   "id": "211a705c-a0d3-46b6-ad17-a10bc92ee6fb",
   "metadata": {},
   "source": [
    "## Examples"
   ]
  },
  {
   "cell_type": "code",
   "execution_count": 451,
   "id": "64c45e31-1bda-49cc-9833-2b363313f27a",
   "metadata": {},
   "outputs": [
    {
     "name": "stdout",
     "output_type": "stream",
     "text": [
      "******************************\n",
      "Processing 0: AI Virtual Staging\n",
      "******************************\n",
      "Processing 1: AI Mavericks\n",
      "******************************\n",
      "Processing 2: AI Teaches Me from BAM Software Development\n"
     ]
    }
   ],
   "source": [
    "cols = [\"situation1\", \"situation1_conf_interval\", \"situation1_conf_interval_reasoning\", \"situation2\", \"situation2_conf_interval\", \"situation2_conf_interval_reasoning\",\"situation3\", \"situation3_conf_interval\", \"situation3_conf_interval_reasoning\",'Example1','Job1','Job1_title','Example2','Job2','Job2_title','Example3','Job3','Job3_title']\n",
    "args = [[\"company\",\"organization name\"],[\"website\",\"website\"], [\"description\",\"generated_description\"], [\"parsed_description\",\"parsed_description\"]]\n",
    "\n",
    "\n",
    "async def main(df):\n",
    "    df = await prompting_class.iterate(df, examples_prompt, args, \"examples_llm\",1060)\n",
    "    df.to_csv('../output/df_with_examples.csv', index=False)\n",
    "    return df\n",
    "\n",
    "df = asyncio.run(main(df))\n"
   ]
  },
  {
   "cell_type": "code",
   "execution_count": 452,
   "id": "a5371762-7636-4272-9569-96dfe2409bd6",
   "metadata": {},
   "outputs": [],
   "source": [
    "\n",
    "def extract_data(text):\n",
    "    if pd.isnull(text): return {}\n",
    "    # Normalize the text to ensure consistent whitespace and remove unwanted characters.\n",
    "    text = re.sub(r'\\s+', ' ', text).strip()\n",
    "    text = text.replace(\"*\", \"\").replace(\"/10\", \"\").replace(\"_\", \"\").replace(\"#\", \"\").replace(\"- \",\"\")\n",
    "    text = re.sub(r'\\(.*?\\)', '', text)\n",
    "    vals = {}\n",
    "    i = 1\n",
    "    while i <=3:\n",
    "        # Regex pattern adjusted to handle fractions in confidence intervals like '9/10'\n",
    "        pattern = rf\"\"\"\n",
    "        Context\\s+{i}:\\s+(.*?)\\s+\n",
    "        Job Title\\s+{i}:\\s+(.*?)\\s+\n",
    "        Task\\s+{i}:\\s+(.*?)\\s+\n",
    "        Confidence\\s+Interval\\s+{i}:\\s+(\\d+(?:/\\d+)?)\\s+\n",
    "        Reasoning\\s+{i}:\\s+(.*?)(?=\\s*Context\\s+{i + 1}:|$)\"\"\"\n",
    "        pattern = pattern.replace(\"        \",\"\").replace(\"\\n\",\"\")\n",
    "        match = re.search(pattern, text, re.DOTALL)\n",
    "        if not match:\n",
    "            print(text+\"\\n\\n\")\n",
    "            print(f\"No matches found for Example {i}\")  # Debug if no examples are found\n",
    "            return {}\n",
    "            break\n",
    "\n",
    "        example_text, task, job_title, confidence_interval, reasoning = match.groups()\n",
    "        description = job_title + \" that \" + task.lower()\n",
    "        example_key = f\"Example{i}\"\n",
    "        vals[example_key] = example_text.strip()\n",
    "        vals[f\"Example_Task{i}\"] = task.strip()\n",
    "        vals[f\"Example_Job_Title{i}\"] = job_title.strip()\n",
    "        vals[f\"Example_Description{i}\"] = description.strip()\n",
    "        vals[f\"situation{i}_conf_interval\"] = confidence_interval.strip()\n",
    "        vals[f\"situation{i}_conf_interval_reasoning\"] = reasoning.strip()\n",
    "\n",
    "        i += 1  # Prepare to search for the next example\n",
    "    return vals\n",
    "\n",
    "for col in cols:\n",
    "    if col in list(df.columns): df=df.drop(columns=[col])\n",
    "\n",
    "results_df = pd.DataFrame(list(df.apply(lambda x: extract_data(x[\"examples_llm\"]),axis=1)))\n",
    "df = pd.concat([df, results_df],axis=1)\n"
   ]
  },
  {
   "cell_type": "code",
   "execution_count": 455,
   "id": "98386740-878f-4498-9154-e590491a3e7b",
   "metadata": {},
   "outputs": [],
   "source": [
    "df.to_csv('../output/df_with_examples.csv', index=False)"
   ]
  },
  {
   "cell_type": "code",
   "execution_count": 202,
   "id": "a1c86d0d-ba5d-4e71-8457-1211b89f2f5a",
   "metadata": {},
   "outputs": [],
   "source": [
    "#RERUN STOPPED IN MIDDLE\n",
    "# results_df = pd.read_csv(\"result.csv\",index_col=0)\n",
    "# df = pd.read_csv('../output/df_with_parsed_description.csv',index_col=0)\n",
    "# prompting_class.set_current_results_df(results_df)\n",
    "# df = df.merge(results_df, on='organization name', how='left')"
   ]
  },
  {
   "cell_type": "code",
   "execution_count": 25,
   "id": "ecf7d03a-c02d-48fe-9a7d-c6fc9c87fa74",
   "metadata": {},
   "outputs": [],
   "source": [
    "# df = pd.read_csv('../output/results/df_with_examples.csv',index_col=0)\n"
   ]
  },
  {
   "cell_type": "code",
   "execution_count": 454,
   "id": "d8bd8efc-9148-47f4-b6af-63d604fe3d47",
   "metadata": {},
   "outputs": [
    {
     "data": {
      "text/plain": [
       "0    A real estate agent has just listed a vacant p...\n",
       "1    A CEO of a mid-sized manufacturing company wan...\n",
       "2    A high school student is struggling with Algeb...\n",
       "Name: Example1, dtype: object"
      ]
     },
     "execution_count": 454,
     "metadata": {},
     "output_type": "execute_result"
    }
   ],
   "source": [
    "df[\"Example1\"]"
   ]
  },
  {
   "cell_type": "code",
   "execution_count": 283,
   "id": "df5b516b-ca51-4c0d-a6cd-5ab1cb1eceac",
   "metadata": {},
   "outputs": [
    {
     "name": "stdout",
     "output_type": "stream",
     "text": [
      "Unnamed: 0 1077\n",
      "organization name AI Virtual Staging\n",
      "full_description —\n",
      "industries Artificial Intelligence (AI), Property Management, Real Estate, Real Estate Brokerage, Software\n",
      "headquarters location San Francisco, California, United States\n",
      "founded date 2023-02-01\n",
      "description Real estate virtual staging using AI\n",
      "CB rank —\n",
      "headquarters region San Francisco Bay Area, West Coast, Western US\n",
      "postal code —\n",
      "estimated revenue —\n",
      "operating status Active\n",
      "exit date —\n",
      "closed date —\n",
      "company type For Profit\n",
      "website www.virtualstaging.art\n",
      "twitter —\n",
      "facebook —\n",
      "linkedin View on LinkedIn\n",
      "email info@virtualstaging.art\n",
      "phone number —\n",
      "number of articles —\n",
      "hub tags —\n",
      "actively hiring —\n",
      "num of sub orgs —\n",
      "investor type —\n",
      "investor stage —\n",
      "number of founders —\n",
      "founders —\n",
      "number of employees —\n",
      "total funding amount —\n",
      "number of funding rounds —\n",
      "last funding amount —\n",
      "last funding type —\n",
      "description_all Real estate virtual staging using AI —\n",
      "industries_parsed ['Property Management', 'Real Estate', 'Real Estate Brokerage', 'Software']\n",
      "generated_description_llm AI Virtual Staging\n",
      "\n",
      "Description (in two sentences): AI Virtual Staging uses artificial intelligence to digitally furnish and stage empty or partially furnished real estate properties, creating realistic and appealing virtual tours for online listings. This technology allows real estate agents and property sellers to enhance property presentations and attract more potential buyers.\n",
      "\n",
      "Confidence Interval: 8\n",
      "\n",
      "Reasoning: The website provides a clear visual demonstration of the product and its application, showcasing its effectiveness in virtual staging. While the website doesn't explicitly state all the functionalities, based on the visuals and the company name, the description accurately reflects the core function of the product.\n",
      "generated_description (in two sentences): AI Virtual Staging uses artificial intelligence to digitally furnish and stage empty or partially furnished real estate properties, creating realistic and appealing virtual tours for online listings. This technology allows real estate agents and property sellers to enhance property presentations and attract more potential buyers.\n",
      "generated_description_conf_interval 8\n",
      "generated_description_conf_interval_reasoning The website provides a clear visual demonstration of the product and its application, showcasing its effectiveness in virtual staging. While the website doesn't explicitly state all the functionalities, based on the visuals and the company name, the description accurately reflects the core function of the product.\n",
      "automation_rating_llm Automation Rating: 9\n",
      "\n",
      "Reasoning:\n",
      "\n",
      "AI Virtual Staging directly targets a specific task and occupation within the US workforce: real estate agents and brokers. The technology aims to replace the traditional process of physically staging a property, which is typically a costly and time-consuming endeavor. \n",
      "\n",
      "Here's why it scores a 9:\n",
      "\n",
      " High Automation Potential: AI virtual staging can fully automate the process of virtually staging a property, eliminating the need for manual labor, furniture selection, and physical setup.\n",
      " Wide Applicability: It can be applied to a wide range of properties, from vacant homes to those with existing furniture. \n",
      " Cost-Effectiveness: Compared to traditional staging, AI virtual staging offers significant cost savings.\n",
      " Efficiency Gains: Virtual staging can be completed significantly faster than traditional methods.\n",
      "\n",
      "While there might still be some human input required for fine-tuning and specific adjustments, the core process of generating realistic virtual staging is highly automated. This makes AI virtual staging a powerful tool for real estate professionals, potentially replacing the need for traditional staging services in many cases. \n",
      "\n",
      "However, it's worth noting that AI virtual staging may not fully eliminate the need for human interaction entirely. Real estate agents may still need to consult with clients on desired styles and make decisions about the final presentation.\n",
      "automation_rating 9\n",
      "automation_rating_reasoning AI Virtual Staging directly targets a specific task and occupation within the US workforce: real estate agents and brokers. The technology aims to replace the traditional process of physically staging a property, which is typically a costly and time-consuming endeavor. \n",
      "\n",
      "Here's why it scores a 9:\n",
      "\n",
      " High Automation Potential: AI virtual staging can fully automate the process of virtually staging a property, eliminating the need for manual labor, furniture selection, and physical setup.\n",
      " Wide Applicability: It can be applied to a wide range of properties, from vacant homes to those with existing furniture. \n",
      " Cost-Effectiveness: Compared to traditional staging, AI virtual staging offers significant cost savings.\n",
      " Efficiency Gains: Virtual staging can be completed significantly faster than traditional methods.\n",
      "\n",
      "While there might still be some human input required for fine-tuning and specific adjustments, the core process of generating realistic virtual staging is highly automated. This makes AI virtual staging a powerful tool for real estate professionals, potentially replacing the need for traditional staging services in many cases. \n",
      "\n",
      "However, it's worth noting that AI virtual staging may not fully eliminate the need for human interaction entirely. Real estate agents may still need to consult with clients on desired styles and make decisions about the final presentation.\n",
      "parsed_description_llm AI Virtual Staging\n",
      "\n",
      "Tasks/Jobs:  Virtual home staging, Image manipulation,  3D modeling,  Property visualization\n",
      "Industry: Real estate technology\n",
      "Customers: Real Estate Agents, Property Sellers, Home Stagers\n",
      "Confidence Interval: 9\n",
      "Reasoning: The description directly describes the core functionality of AI Virtual Staging as a tool for enhancing real estate listings through virtual staging. This clearly indicates the tasks, industry, and customers the service targets.\n",
      "parsed_description Tasks/Jobs: Virtual home staging, Image manipulation, 3D modeling, Property visualization\n",
      "Industry: Real estate technology\n",
      "Customers: Real Estate Agents, Property Sellers, Home Stagers\n",
      "Tasks/Jobs Virtual home staging, Image manipulation, 3D modeling, Property visualization\n",
      "Industry Real estate technology\n",
      "Customers Real Estate Agents, Property Sellers, Home Stagers\n",
      "parsed_description_conf_interval 9\n",
      "parsed_description_conf_interval_reasoning The description directly describes the core functionality of AI Virtual Staging as a tool for enhancing real estate listings through virtual staging. This clearly indicates the tasks, industry, and customers the service targets.\n",
      "examples_llm AI Virtual Staging Examples:\n",
      "\n",
      "Example 1: \n",
      "Scenario: A real estate agent is listing a vacant home that needs staging.\n",
      "JOB automated 1:  Real Estate Agents that prepare properties for sale by arranging furniture, accessories, and artwork to enhance the appearance and appeal of the property.\n",
      "JOB 1: Real Estate Agents\n",
      "Confidence Interval 1: 9\n",
      "Reasoning 1:  AI virtual staging directly automates the task of physically staging a vacant home, eliminating the need for hiring professional stagers or sourcing furniture.\n",
      "\n",
      "Example 2: \n",
      "Scenario: A homeowner is selling their home and wants to see how different furniture arrangements would look in their living room before hiring a professional stager.\n",
      "JOB automated 2:  Real Estate Agents that prepare visual presentations of properties for sale, using photography, videos, or other media. \n",
      "JOB 2: Real Estate Agents\n",
      "Confidence Interval 2: 8\n",
      "Reasoning 2:  AI virtual staging allows homeowners to experiment with different furniture arrangements and styles virtually before making real-world decisions, which would usually involve physical staging.\n",
      "\n",
      "Example 3: \n",
      "Scenario: A real estate photographer is creating virtual tours for a new development, but some units are still under construction and lack furniture.\n",
      "JOB automated 3:  Photographers that photograph properties for sale, using various techniques and equipment to create visually appealing images.\n",
      "JOB 3: Photographers\n",
      "Confidence Interval 3: 7\n",
      "Reasoning 3:  AI virtual staging allows photographers to create realistic virtual tours for unfinished properties, making them more appealing to potential buyers without waiting for physical staging.\n",
      "Example1 Scenario: A real estate agent is listing a vacant home that needs staging.\n",
      "Job1 Real Estate Agents that prepare properties for sale by arranging furniture, accessories, and artwork to enhance the appearance and appeal of the property.\n",
      "Job1_title Real Estate Agents\n",
      "situation1_conf_interval 9\n",
      "situation1_conf_interval_reasoning AI virtual staging directly automates the task of physically staging a vacant home, eliminating the need for hiring professional stagers or sourcing furniture.\n",
      "Example2 Scenario: A homeowner is selling their home and wants to see how different furniture arrangements would look in their living room before hiring a professional stager.\n",
      "Job2 Real Estate Agents that prepare visual presentations of properties for sale, using photography, videos, or other media.\n",
      "Job2_title Real Estate Agents\n",
      "situation2_conf_interval 8\n",
      "situation2_conf_interval_reasoning AI virtual staging allows homeowners to experiment with different furniture arrangements and styles virtually before making real-world decisions, which would usually involve physical staging.\n",
      "Example3 Scenario: A real estate photographer is creating virtual tours for a new development, but some units are still under construction and lack furniture.\n",
      "Job3 Photographers that photograph properties for sale, using various techniques and equipment to create visually appealing images.\n",
      "Job3_title Photographers\n",
      "situation3_conf_interval 7\n",
      "situation3_conf_interval_reasoning AI virtual staging allows photographers to create realistic virtual tours for unfinished properties, making them more appealing to potential buyers without waiting for physical staging.\n"
     ]
    }
   ],
   "source": [
    "for i,x in df.iloc[:1].transpose().iterrows():\n",
    "    print(i,x[0])"
   ]
  },
  {
   "cell_type": "code",
   "execution_count": null,
   "id": "14b51f53-d7d3-4cb8-8814-4e190baa710d",
   "metadata": {},
   "outputs": [],
   "source": []
  }
 ],
 "metadata": {
  "kernelspec": {
   "display_name": "Python 3 (ipykernel)",
   "language": "python",
   "name": "python3"
  },
  "language_info": {
   "codemirror_mode": {
    "name": "ipython",
    "version": 3
   },
   "file_extension": ".py",
   "mimetype": "text/x-python",
   "name": "python",
   "nbconvert_exporter": "python",
   "pygments_lexer": "ipython3",
   "version": "3.11.7"
  }
 },
 "nbformat": 4,
 "nbformat_minor": 5
}
