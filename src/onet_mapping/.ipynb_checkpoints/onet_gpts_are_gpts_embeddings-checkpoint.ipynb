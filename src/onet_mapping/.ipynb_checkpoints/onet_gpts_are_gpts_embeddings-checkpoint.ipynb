{
 "cells": [
  {
   "cell_type": "code",
   "execution_count": null,
   "id": "b018cb6b-7540-4068-9b87-c8057ca7d19a",
   "metadata": {},
   "outputs": [],
   "source": [
    "import pandas as pd\n",
    "import numpy as np\n",
    "from dotenv import load_dotenv\n",
    "import os\n",
    "from os import getenv\n",
    "from openai import OpenAI\n",
    "import pathlib\n",
    "import textwrap\n",
    "import google.generativeai as genai\n",
    "import time\n",
    "\n",
    "load_dotenv(\"../.env\",override=True)\n",
    "GOOGLE_API_KEY = getenv(\"GEMINI_API_KEY\")\n",
    "OPENAI_API_KEY = getenv(\"OPENAI_API_KEY\")\n",
    "\n",
    "\n",
    "\n",
    "\n"
   ]
  },
  {
   "cell_type": "code",
   "execution_count": null,
   "id": "f5496d47-30ea-43bf-a029-9caab42d905d",
   "metadata": {},
   "outputs": [],
   "source": [
    "class chatGPT():\n",
    "    def __init__(self):\n",
    "        self.client = OpenAI(api_key=OPENAI_API_KEY)\n",
    "        \n",
    "    def ask(self, q):\n",
    "        stream = self.client.chat.completions.create(\n",
    "            model=\"gpt-4\",\n",
    "            messages=[{\"role\": \"user\", \"content\": q}],\n",
    "            stream=True,\n",
    "            temperature=0\n",
    "        )\n",
    "        response = \"\"\n",
    "        for chunk in stream:\n",
    "            if chunk.choices[0].delta.content is not None:\n",
    "                response += chunk.choices[0].delta.content\n",
    "\n",
    "        self.response = response\n",
    "        return response\n",
    "\n",
    "    def get_embedding(self,text, model=\"text-embedding-3-large\"):\n",
    "       text = text.replace(\"\\n\", \" \")\n",
    "       return self.client.embeddings.create(input = [text], model=model).data[0].embedding\n",
    "\n",
    "x_chat = chatGPT()\n"
   ]
  },
  {
   "cell_type": "code",
   "execution_count": null,
   "id": "b1aeae5b-0b9b-47bb-8e6a-55b2742dc54b",
   "metadata": {},
   "outputs": [],
   "source": [
    "df_exp = pd.read_csv(\"./input/gpts_labels_new.csv\")\n",
    "df_exp = df_exp[(df_exp.human_labels!='E0') | (df_exp.gpt_4_exposure!='E0')]\n",
    "df_exp[\"description\"] = df_exp.apply(lambda x: f\"{x.Title.capitalize()} that {x.Task.lower()}\",axis=1)\n",
    "df_exp[(df_exp.gpt_4_exposure=='EO')]\n",
    "df_exp.gpt_4_exposure.unique()\n",
    "\n",
    "\n",
    "for i, row in df_exp[df_exp.Title == \"Sales Managers\"].iterrows():\n",
    "    print(row.description)\n",
    "    \n",
    "results = []\n",
    "for i, x in df_exp.reset_index().iterrows():\n",
    "    description = x[\"description\"]\n",
    "    print(f\"Processing {str(i), len(results)}: {description}\")\n",
    "    result = x_chat.get_embedding(description)\n",
    "    results.append([description,result])\n",
    "\n",
    "df = pd.DataFrame(results, columns=['Description', 'Embeddings'])\n",
    "df_exp = pd.concat([df_exp.reset_index(), df], axis=1)\n",
    "\n",
    "\n",
    "# df_exp.to_csv(\"gpt_exposure_embeddings.csv\")"
   ]
  }
 ],
 "metadata": {
  "kernelspec": {
   "display_name": "Python 3 (ipykernel)",
   "language": "python",
   "name": "python3"
  },
  "language_info": {
   "codemirror_mode": {
    "name": "ipython",
    "version": 3
   },
   "file_extension": ".py",
   "mimetype": "text/x-python",
   "name": "python",
   "nbconvert_exporter": "python",
   "pygments_lexer": "ipython3",
   "version": "3.11.7"
  }
 },
 "nbformat": 4,
 "nbformat_minor": 5
}
