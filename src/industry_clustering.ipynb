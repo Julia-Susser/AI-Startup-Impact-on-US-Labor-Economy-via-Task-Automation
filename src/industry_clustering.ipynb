{
 "cells": [
  {
   "cell_type": "code",
   "execution_count": 7,
   "metadata": {},
   "outputs": [],
   "source": [
    "import pandas as pd\n",
    "import numpy as np\n",
    "from dotenv import load_dotenv\n",
    "import os\n",
    "from os import getenv\n",
    "from openai import OpenAI\n",
    "import pathlib\n",
    "import textwrap\n",
    "import google.generativeai as genai\n",
    "import time\n",
    "import requests\n",
    "import ast\n",
    "import json\n",
    "from sklearn.metrics.pairwise import cosine_similarity\n",
    "import re\n",
    "\n",
    "load_dotenv(\"../../.env\",override=True)\n",
    "GOOGLE_API_KEY = getenv(\"GEMINI_API_KEY\")\n",
    "OPENAI_API_KEY = getenv(\"OPENAI_API_KEY\")\n",
    "\n",
    "sample_df = pd.read_csv('../output/df_with_examples_embeddings.csv')\n",
    "\n",
    "\n"
   ]
  },
  {
   "cell_type": "code",
   "execution_count": 9,
   "metadata": {},
   "outputs": [],
   "source": [
    "\n",
    "industry_df = pd.read_csv(\"../output/df_with_industry_embeddings.csv\")\n",
    "embeddings = industry_df.Industry_embedding.apply(lambda x: [float(y) for y in x.strip(\"[]\").split(\", \")])\n",
    "embeddings = np.array(embeddings)\n",
    "embeddings = np.vstack(embeddings)\n",
    "\n",
    "\n",
    "# from sklearn.metrics.pairwise import cosine_similarity\n",
    "# from sklearn.neighbors import NearestNeighbors\n",
    "# from sklearn.cluster import SpectralClustering\n",
    "# import matplotlib.pyplot as plt\n",
    "# from sklearn.decomposition import PCA\n",
    "\n",
    "# n_neighbors = 7\n",
    "\n",
    "\n",
    "\n",
    "# # Create a KNN model for connectivity based on cosine distance\n",
    "# knn = NearestNeighbors(n_neighbors=n_neighbors, metric='cosine')\n",
    "# knn.fit(embeddings)\n",
    "# connectivity_matrix = knn.kneighbors_graph(embeddings, mode='connectivity')\n",
    "\n",
    "# # Use Spectral Clustering with the connectivity matrix defined by KNN\n",
    "# clustering = SpectralClustering(n_clusters=200, affinity='precomputed', assign_labels='kmeans')\n",
    "# cluster_labels = clustering.fit_predict(connectivity_matrix)\n",
    "\n",
    "# # Assign cluster labels back to the original DataFrame\n",
    "# sample_df['cluster_label'] = cluster_labels\n",
    "# if \"industry_cluster_label\" in sample_df.columns:\n",
    "#     sample_df = sample_df.drop(columns=['industry_cluster_label'])\n",
    "# industry_clusters = pd.DataFrame(sample_df.groupby(\"cluster_label\")['Industry'].agg(lambda x: ', '.join(x)).reset_index())\n",
    "\n",
    "\n",
    "# industry_clusters = industry_clusters.rename({\"Industry\":\"industry_cluster_label\"},axis=1)\n",
    "# sample_df = sample_df.merge(industry_clusters, on=\"cluster_label\")\n",
    "\n",
    "\n",
    "# sample_df['cluster_label'] = cluster_labels\n",
    "# \n",
    "# if \"industry_cluster_label\" in sample_df.columns:\n",
    "    # sample_df = sample_df.drop(columns=['industry_cluster_label'])\n",
    "# industry_clusters = pd.DataFrame(sample_df.groupby(\"cluster_label\")['Industry'].agg(lambda x: ', '.join(x)).reset_index())\n",
    "# \n",
    "# industry_clusters = industry_clusters.rename({\"Industry\":\"industry_cluster_label\"},axis=1)\n",
    "# sample_df = sample_df.merge(industry_clusters, on=\"cluster_label\")\n",
    "# \n",
    "# industry_cluster_df = sample_df[[\"organization name\",\"Industry\",\"Industry_embedding\",\"cluster_label\",\"industry_cluster_label\"]]\n",
    "# industry_cluster_df.industry_cluster_label.unique()\n",
    "\n",
    "\n"
   ]
  },
  {
   "cell_type": "code",
   "execution_count": null,
   "metadata": {},
   "outputs": [],
   "source": [
    "# sample_df = sample_df[~sample_df.Industry.isnull()]\n",
    "# sample_df = pd.read_csv(\"../output/df_with_onet.csv\")\n",
    "# sample_df['Industry_embedding'] = sample_df['Industry'].apply(lambda text: x_chat.get_embedding(text))"
   ]
  },
  {
   "cell_type": "code",
   "execution_count": null,
   "metadata": {},
   "outputs": [],
   "source": [
    "industry_df[industry_df.Industry.str.contains(\"Legal\")].head()\n",
    "\n"
   ]
  },
  {
   "cell_type": "code",
   "execution_count": null,
   "metadata": {},
   "outputs": [],
   "source": [
    "import pandas as pd\n",
    "industry_df = pd.read_csv(\"../output/df_with_industry_embeddings.csv\")\n",
    "# Keywords to remove by replacing with an empty string\n",
    "keywords = [\"development \", \"ai \", \"tech \",\"technology \", \"management \", \"automation \", \"and \", \"& \", \"Ai-powered \", \"solutions\"]\n",
    "# Regular expression to match any of the keywords\n",
    "regex = '|'.join(map(re.escape, keywords))  # Use re.escape to handle special characters like '&'\n",
    "# Replace the keywords with an empty string in the 'Industry' column\n",
    "# industry_df['Industry'] = industry_df['Industry'].str.replace(regex, '', case=False, regex=True)\n",
    "\n",
    "\n",
    "list(industry_df.Industry.value_counts().reset_index())\n",
    "\n",
    "e = sample_df.Industry_embedding.iloc[2]\n",
    "e = np.array(e).reshape(1,-1)\n",
    "cosine_sim = cosine_similarity(e,embeddings)\n",
    "x = sorted(zip(cosine_sim[0], sample_df[['Industry']].values), reverse=True)[:1000]\n",
    "for y in x:\n",
    "    print(y)\n"
   ]
  }
 ],
 "metadata": {
  "kernelspec": {
   "display_name": "base",
   "language": "python",
   "name": "python3"
  },
  "language_info": {
   "codemirror_mode": {
    "name": "ipython",
    "version": 3
   },
   "file_extension": ".py",
   "mimetype": "text/x-python",
   "name": "python",
   "nbconvert_exporter": "python",
   "pygments_lexer": "ipython3",
   "version": "3.11.7"
  }
 },
 "nbformat": 4,
 "nbformat_minor": 2
}
