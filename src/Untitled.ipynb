{
 "cells": [
  {
   "cell_type": "code",
   "execution_count": 171,
   "id": "7d5a4b12-e39c-4284-a4a2-6671467a1d4d",
   "metadata": {},
   "outputs": [],
   "source": [
    "import pandas as pd\n",
    "df = pd.read_csv(\"../output/df_with_filter.csv\")"
   ]
  },
  {
   "cell_type": "code",
   "execution_count": 172,
   "id": "f7ab8f10-fb73-4a1a-aed9-fa8ccecb6dd6",
   "metadata": {},
   "outputs": [
    {
     "data": {
      "text/plain": [
       "298"
      ]
     },
     "execution_count": 172,
     "metadata": {},
     "output_type": "execute_result"
    }
   ],
   "source": [
    "pre = df[pd.to_datetime(df['founded date'])<'11/30/2022']\n",
    "post = df[pd.to_datetime(df['founded date'])>='11/30/2022']\n",
    "len(pre)"
   ]
  },
  {
   "cell_type": "code",
   "execution_count": 173,
   "id": "f3f569c2-54dc-4968-80f6-c259108292ed",
   "metadata": {},
   "outputs": [
    {
     "data": {
      "text/html": [
       "<div>\n",
       "<style scoped>\n",
       "    .dataframe tbody tr th:only-of-type {\n",
       "        vertical-align: middle;\n",
       "    }\n",
       "\n",
       "    .dataframe tbody tr th {\n",
       "        vertical-align: top;\n",
       "    }\n",
       "\n",
       "    .dataframe thead th {\n",
       "        text-align: right;\n",
       "    }\n",
       "</style>\n",
       "<table border=\"1\" class=\"dataframe\">\n",
       "  <thead>\n",
       "    <tr style=\"text-align: right;\">\n",
       "      <th></th>\n",
       "      <th>organization name</th>\n",
       "      <th>founded date</th>\n",
       "      <th>number of employees</th>\n",
       "      <th>industries</th>\n",
       "      <th>full description</th>\n",
       "      <th>headquarters location</th>\n",
       "      <th>description</th>\n",
       "      <th>website</th>\n",
       "      <th>description_all</th>\n",
       "      <th>generated_description_llm</th>\n",
       "      <th>generated_description</th>\n",
       "      <th>generated_description_conf_interval</th>\n",
       "      <th>generated_description_conf_interval_reasoning</th>\n",
       "      <th>automation_rating_llm</th>\n",
       "      <th>automation_rating</th>\n",
       "      <th>automation_rating_reasoning</th>\n",
       "    </tr>\n",
       "  </thead>\n",
       "  <tbody>\n",
       "    <tr>\n",
       "      <th>0</th>\n",
       "      <td>Jetlore</td>\n",
       "      <td>2011-01-01</td>\n",
       "      <td>11-50</td>\n",
       "      <td>Artificial Intelligence (AI),Big Data,E-Commer...</td>\n",
       "      <td>California</td>\n",
       "      <td>United States</td>\n",
       "      <td>Jetlore offers an AI-powered prediction platfo...</td>\n",
       "      <td>www.jetlore.com</td>\n",
       "      <td>Jetlore offers an AI-powered prediction platfo...</td>\n",
       "      <td>Description (in two sentences): Jetlore levera...</td>\n",
       "      <td>Jetlore leverages artificial intelligence to p...</td>\n",
       "      <td>8</td>\n",
       "      <td>Based on the website and its description, Jetl...</td>\n",
       "      <td>Jetlore Analysis\\n\\nDescription of Jetlore: Je...</td>\n",
       "      <td>75</td>\n",
       "      <td>Jetlore's AI-powered prediction platform can a...</td>\n",
       "    </tr>\n",
       "    <tr>\n",
       "      <th>1</th>\n",
       "      <td>STORE Capital</td>\n",
       "      <td>2011-01-01</td>\n",
       "      <td>101-250</td>\n",
       "      <td>Financial Services,Real Estate,Retail,We were ...</td>\n",
       "      <td>Arizona</td>\n",
       "      <td>United States</td>\n",
       "      <td>STORE Capital is one of the largest and fastes...</td>\n",
       "      <td>storecapital.com/</td>\n",
       "      <td>STORE Capital is one of the largest and fastes...</td>\n",
       "      <td>Description (in two sentences): STORE Capital ...</td>\n",
       "      <td>STORE Capital is a real estate investment trus...</td>\n",
       "      <td>8</td>\n",
       "      <td>This information is readily available on STORE...</td>\n",
       "      <td>STORE Capital Analysis\\n\\nDescription of STORE...</td>\n",
       "      <td>10</td>\n",
       "      <td>STORE Capital is a real estate investment trus...</td>\n",
       "    </tr>\n",
       "    <tr>\n",
       "      <th>2</th>\n",
       "      <td>Shift Logistics</td>\n",
       "      <td>2023-01-01</td>\n",
       "      <td>1-10</td>\n",
       "      <td>E-Commerce,Logistics,A reverse logistics start...</td>\n",
       "      <td>California</td>\n",
       "      <td>United States</td>\n",
       "      <td>A reverse logistics startup re-inventing onlin...</td>\n",
       "      <td>—</td>\n",
       "      <td>A reverse logistics startup re-inventing onlin...</td>\n",
       "      <td>Description (in two sentences): Shift Logistic...</td>\n",
       "      <td>Shift Logistics is a company that specializes ...</td>\n",
       "      <td>5</td>\n",
       "      <td>While the provided description \"A reverse logi...</td>\n",
       "      <td>Shift Logistics\\n\\nRating: 75\\n\\nReasoning: Wh...</td>\n",
       "      <td>75</td>\n",
       "      <td>While Shift Logistics focuses on reverse logis...</td>\n",
       "    </tr>\n",
       "    <tr>\n",
       "      <th>3</th>\n",
       "      <td>ModeWalk</td>\n",
       "      <td>2011-01-01</td>\n",
       "      <td>11-50</td>\n",
       "      <td>E-Commerce,Fashion,Lifestyle,ModeWalk is a fas...</td>\n",
       "      <td>California</td>\n",
       "      <td>United States</td>\n",
       "      <td>ModeWalk is a fashion website for women, provi...</td>\n",
       "      <td>www.modewalk.com</td>\n",
       "      <td>ModeWalk is a fashion website for women, provi...</td>\n",
       "      <td>Here's a description of ModeWalk's product:\\n\\...</td>\n",
       "      <td>ModeWalk is a fashion website catered towards ...</td>\n",
       "      <td>7</td>\n",
       "      <td>The website's homepage and \"About Us\" section ...</td>\n",
       "      <td>ModeWalk Analysis\\n\\nRating: 25\\n\\nReasoning: ...</td>\n",
       "      <td>25</td>\n",
       "      <td>ModeWalk provides a service that assists women...</td>\n",
       "    </tr>\n",
       "    <tr>\n",
       "      <th>4</th>\n",
       "      <td>Piccing (Curately)</td>\n",
       "      <td>2011-03-01</td>\n",
       "      <td>11-50</td>\n",
       "      <td>Shopping,Social Media Management,Curately prov...</td>\n",
       "      <td>California</td>\n",
       "      <td>United States</td>\n",
       "      <td>Curately is driven by people who share their w...</td>\n",
       "      <td>www.curate.ly</td>\n",
       "      <td>Curately is driven by people who share their w...</td>\n",
       "      <td>Description (in two sentences):\\n\\nCurately, f...</td>\n",
       "      <td>Curately, formerly known as Piccing, is a plat...</td>\n",
       "      <td>7</td>\n",
       "      <td>I am moderately confident in this description ...</td>\n",
       "      <td>Piccing (Curately) Analysis:\\n\\nRating: 15\\n\\n...</td>\n",
       "      <td>15</td>\n",
       "      <td>Curately is a content curation platform, actin...</td>\n",
       "    </tr>\n",
       "    <tr>\n",
       "      <th>...</th>\n",
       "      <td>...</td>\n",
       "      <td>...</td>\n",
       "      <td>...</td>\n",
       "      <td>...</td>\n",
       "      <td>...</td>\n",
       "      <td>...</td>\n",
       "      <td>...</td>\n",
       "      <td>...</td>\n",
       "      <td>...</td>\n",
       "      <td>...</td>\n",
       "      <td>...</td>\n",
       "      <td>...</td>\n",
       "      <td>...</td>\n",
       "      <td>...</td>\n",
       "      <td>...</td>\n",
       "      <td>...</td>\n",
       "    </tr>\n",
       "    <tr>\n",
       "      <th>440</th>\n",
       "      <td>StorageTreasures.com</td>\n",
       "      <td>2010-01-01</td>\n",
       "      <td>11-50</td>\n",
       "      <td>Auctions,Self-Storage,StorageTreasures is a ne...</td>\n",
       "      <td>Arizona</td>\n",
       "      <td>United States</td>\n",
       "      <td>StorageTreasures offers tools that bring the s...</td>\n",
       "      <td>www.storagetreasures.com</td>\n",
       "      <td>StorageTreasures offers tools that bring the s...</td>\n",
       "      <td>Description (in two sentences):\\n\\nStorageTrea...</td>\n",
       "      <td>StorageTreasures.com appears to be a company t...</td>\n",
       "      <td>5</td>\n",
       "      <td>While the provided website link works, the web...</td>\n",
       "      <td>Here's an analysis of StorageTreasures.com:\\n\\...</td>\n",
       "      <td>25</td>\n",
       "      <td>StorageTreasures.com provides tools for storag...</td>\n",
       "    </tr>\n",
       "    <tr>\n",
       "      <th>441</th>\n",
       "      <td>ACX</td>\n",
       "      <td>2011-01-01</td>\n",
       "      <td>11-50</td>\n",
       "      <td>Audiobooks,Marketplace,Music,ACX is a marketpl...</td>\n",
       "      <td>New Jersey</td>\n",
       "      <td>United States</td>\n",
       "      <td>ACX is a marketplace where professional author...</td>\n",
       "      <td>www.acx.com/</td>\n",
       "      <td>ACX is a marketplace where professional author...</td>\n",
       "      <td>Description (in two sentences):\\n\\nACX is a pl...</td>\n",
       "      <td>ACX is a platform where professional voice act...</td>\n",
       "      <td>8</td>\n",
       "      <td>The website itself clearly states that ACX is ...</td>\n",
       "      <td>ACX Analysis:\\n\\nRating: 25\\n\\nReasoning: ACX ...</td>\n",
       "      <td>25</td>\n",
       "      <td>ACX acts as a platform that connects authors a...</td>\n",
       "    </tr>\n",
       "    <tr>\n",
       "      <th>443</th>\n",
       "      <td>Instagrocer</td>\n",
       "      <td>2023-11-01</td>\n",
       "      <td>1-10</td>\n",
       "      <td>Delivery Service,E-Commerce,Grocery,Shopping,I...</td>\n",
       "      <td>California</td>\n",
       "      <td>United States</td>\n",
       "      <td>Instagrocer is innovating the future of grocer...</td>\n",
       "      <td>www.instagrocer.co</td>\n",
       "      <td>Instagrocer is innovating the future of grocer...</td>\n",
       "      <td>Description (in two sentences):\\n\\nInstagrocer...</td>\n",
       "      <td>Instagrocer is a grocery delivery service that...</td>\n",
       "      <td>6</td>\n",
       "      <td>The website provides very limited information ...</td>\n",
       "      <td>Instagrocer Analysis\\n\\nDescription of Instagr...</td>\n",
       "      <td>75</td>\n",
       "      <td>While Instagrocer's technology aims to improve...</td>\n",
       "    </tr>\n",
       "    <tr>\n",
       "      <th>444</th>\n",
       "      <td>Solaire</td>\n",
       "      <td>2023-01-01</td>\n",
       "      <td>1-10</td>\n",
       "      <td>Blockchain,Data Integration,Database,E-Commerc...</td>\n",
       "      <td>New York</td>\n",
       "      <td>United States</td>\n",
       "      <td>The Search Engine and Peer-to-peer Marketplace...</td>\n",
       "      <td>www.mysolaire.xyz/</td>\n",
       "      <td>The Search Engine and Peer-to-peer Marketplace...</td>\n",
       "      <td>Description:\\n\\nSolaire is a platform that fun...</td>\n",
       "      <td>Solaire is a platform that functions as both a...</td>\n",
       "      <td>8</td>\n",
       "      <td>The website itself is very minimalistic, offer...</td>\n",
       "      <td>Solaire Rating and Analysis:\\n\\nRating: 45\\n\\n...</td>\n",
       "      <td>45</td>\n",
       "      <td>Solaire, while utilizing technology, primarily...</td>\n",
       "    </tr>\n",
       "    <tr>\n",
       "      <th>445</th>\n",
       "      <td>Headlight Revolution</td>\n",
       "      <td>2010-01-01</td>\n",
       "      <td>101-250</td>\n",
       "      <td>Automotive,E-Commerce,Lighting,—,Atlanta</td>\n",
       "      <td>Georgia</td>\n",
       "      <td>United States</td>\n",
       "      <td>Headlight Revolution is an online store for au...</td>\n",
       "      <td>headlightrevolution.com</td>\n",
       "      <td>Headlight Revolution is an online store for au...</td>\n",
       "      <td>Headlight Revolution Product Description:\\n\\nH...</td>\n",
       "      <td>Headlight Revolution is an online store specia...</td>\n",
       "      <td>7</td>\n",
       "      <td>The website provides information about their p...</td>\n",
       "      <td>Here's the breakdown for Headlight Revolution:...</td>\n",
       "      <td>10</td>\n",
       "      <td>Headlight Revolution is an online retailer sel...</td>\n",
       "    </tr>\n",
       "  </tbody>\n",
       "</table>\n",
       "<p>404 rows × 16 columns</p>\n",
       "</div>"
      ],
      "text/plain": [
       "        organization name founded date number of employees  \\\n",
       "0                 Jetlore   2011-01-01               11-50   \n",
       "1           STORE Capital   2011-01-01             101-250   \n",
       "2         Shift Logistics   2023-01-01                1-10   \n",
       "3                ModeWalk   2011-01-01               11-50   \n",
       "4      Piccing (Curately)   2011-03-01               11-50   \n",
       "..                    ...          ...                 ...   \n",
       "440  StorageTreasures.com   2010-01-01               11-50   \n",
       "441                   ACX   2011-01-01               11-50   \n",
       "443           Instagrocer   2023-11-01                1-10   \n",
       "444               Solaire   2023-01-01                1-10   \n",
       "445  Headlight Revolution   2010-01-01             101-250   \n",
       "\n",
       "                                            industries full description  \\\n",
       "0    Artificial Intelligence (AI),Big Data,E-Commer...       California   \n",
       "1    Financial Services,Real Estate,Retail,We were ...          Arizona   \n",
       "2    E-Commerce,Logistics,A reverse logistics start...       California   \n",
       "3    E-Commerce,Fashion,Lifestyle,ModeWalk is a fas...       California   \n",
       "4    Shopping,Social Media Management,Curately prov...       California   \n",
       "..                                                 ...              ...   \n",
       "440  Auctions,Self-Storage,StorageTreasures is a ne...          Arizona   \n",
       "441  Audiobooks,Marketplace,Music,ACX is a marketpl...       New Jersey   \n",
       "443  Delivery Service,E-Commerce,Grocery,Shopping,I...       California   \n",
       "444  Blockchain,Data Integration,Database,E-Commerc...         New York   \n",
       "445           Automotive,E-Commerce,Lighting,—,Atlanta          Georgia   \n",
       "\n",
       "    headquarters location                                        description  \\\n",
       "0           United States  Jetlore offers an AI-powered prediction platfo...   \n",
       "1           United States  STORE Capital is one of the largest and fastes...   \n",
       "2           United States  A reverse logistics startup re-inventing onlin...   \n",
       "3           United States  ModeWalk is a fashion website for women, provi...   \n",
       "4           United States  Curately is driven by people who share their w...   \n",
       "..                    ...                                                ...   \n",
       "440         United States  StorageTreasures offers tools that bring the s...   \n",
       "441         United States  ACX is a marketplace where professional author...   \n",
       "443         United States  Instagrocer is innovating the future of grocer...   \n",
       "444         United States  The Search Engine and Peer-to-peer Marketplace...   \n",
       "445         United States  Headlight Revolution is an online store for au...   \n",
       "\n",
       "                      website  \\\n",
       "0             www.jetlore.com   \n",
       "1           storecapital.com/   \n",
       "2                           —   \n",
       "3            www.modewalk.com   \n",
       "4               www.curate.ly   \n",
       "..                        ...   \n",
       "440  www.storagetreasures.com   \n",
       "441              www.acx.com/   \n",
       "443        www.instagrocer.co   \n",
       "444        www.mysolaire.xyz/   \n",
       "445   headlightrevolution.com   \n",
       "\n",
       "                                       description_all  \\\n",
       "0    Jetlore offers an AI-powered prediction platfo...   \n",
       "1    STORE Capital is one of the largest and fastes...   \n",
       "2    A reverse logistics startup re-inventing onlin...   \n",
       "3    ModeWalk is a fashion website for women, provi...   \n",
       "4    Curately is driven by people who share their w...   \n",
       "..                                                 ...   \n",
       "440  StorageTreasures offers tools that bring the s...   \n",
       "441  ACX is a marketplace where professional author...   \n",
       "443  Instagrocer is innovating the future of grocer...   \n",
       "444  The Search Engine and Peer-to-peer Marketplace...   \n",
       "445  Headlight Revolution is an online store for au...   \n",
       "\n",
       "                             generated_description_llm  \\\n",
       "0    Description (in two sentences): Jetlore levera...   \n",
       "1    Description (in two sentences): STORE Capital ...   \n",
       "2    Description (in two sentences): Shift Logistic...   \n",
       "3    Here's a description of ModeWalk's product:\\n\\...   \n",
       "4    Description (in two sentences):\\n\\nCurately, f...   \n",
       "..                                                 ...   \n",
       "440  Description (in two sentences):\\n\\nStorageTrea...   \n",
       "441  Description (in two sentences):\\n\\nACX is a pl...   \n",
       "443  Description (in two sentences):\\n\\nInstagrocer...   \n",
       "444  Description:\\n\\nSolaire is a platform that fun...   \n",
       "445  Headlight Revolution Product Description:\\n\\nH...   \n",
       "\n",
       "                                 generated_description  \\\n",
       "0    Jetlore leverages artificial intelligence to p...   \n",
       "1    STORE Capital is a real estate investment trus...   \n",
       "2    Shift Logistics is a company that specializes ...   \n",
       "3    ModeWalk is a fashion website catered towards ...   \n",
       "4    Curately, formerly known as Piccing, is a plat...   \n",
       "..                                                 ...   \n",
       "440  StorageTreasures.com appears to be a company t...   \n",
       "441  ACX is a platform where professional voice act...   \n",
       "443  Instagrocer is a grocery delivery service that...   \n",
       "444  Solaire is a platform that functions as both a...   \n",
       "445  Headlight Revolution is an online store specia...   \n",
       "\n",
       "     generated_description_conf_interval  \\\n",
       "0                                      8   \n",
       "1                                      8   \n",
       "2                                      5   \n",
       "3                                      7   \n",
       "4                                      7   \n",
       "..                                   ...   \n",
       "440                                    5   \n",
       "441                                    8   \n",
       "443                                    6   \n",
       "444                                    8   \n",
       "445                                    7   \n",
       "\n",
       "         generated_description_conf_interval_reasoning  \\\n",
       "0    Based on the website and its description, Jetl...   \n",
       "1    This information is readily available on STORE...   \n",
       "2    While the provided description \"A reverse logi...   \n",
       "3    The website's homepage and \"About Us\" section ...   \n",
       "4    I am moderately confident in this description ...   \n",
       "..                                                 ...   \n",
       "440  While the provided website link works, the web...   \n",
       "441  The website itself clearly states that ACX is ...   \n",
       "443  The website provides very limited information ...   \n",
       "444  The website itself is very minimalistic, offer...   \n",
       "445  The website provides information about their p...   \n",
       "\n",
       "                                 automation_rating_llm  automation_rating  \\\n",
       "0    Jetlore Analysis\\n\\nDescription of Jetlore: Je...                 75   \n",
       "1    STORE Capital Analysis\\n\\nDescription of STORE...                 10   \n",
       "2    Shift Logistics\\n\\nRating: 75\\n\\nReasoning: Wh...                 75   \n",
       "3    ModeWalk Analysis\\n\\nRating: 25\\n\\nReasoning: ...                 25   \n",
       "4    Piccing (Curately) Analysis:\\n\\nRating: 15\\n\\n...                 15   \n",
       "..                                                 ...                ...   \n",
       "440  Here's an analysis of StorageTreasures.com:\\n\\...                 25   \n",
       "441  ACX Analysis:\\n\\nRating: 25\\n\\nReasoning: ACX ...                 25   \n",
       "443  Instagrocer Analysis\\n\\nDescription of Instagr...                 75   \n",
       "444  Solaire Rating and Analysis:\\n\\nRating: 45\\n\\n...                 45   \n",
       "445  Here's the breakdown for Headlight Revolution:...                 10   \n",
       "\n",
       "                           automation_rating_reasoning  \n",
       "0    Jetlore's AI-powered prediction platform can a...  \n",
       "1    STORE Capital is a real estate investment trus...  \n",
       "2    While Shift Logistics focuses on reverse logis...  \n",
       "3    ModeWalk provides a service that assists women...  \n",
       "4    Curately is a content curation platform, actin...  \n",
       "..                                                 ...  \n",
       "440  StorageTreasures.com provides tools for storag...  \n",
       "441  ACX acts as a platform that connects authors a...  \n",
       "443  While Instagrocer's technology aims to improve...  \n",
       "444  Solaire, while utilizing technology, primarily...  \n",
       "445  Headlight Revolution is an online retailer sel...  \n",
       "\n",
       "[404 rows x 16 columns]"
      ]
     },
     "execution_count": 173,
     "metadata": {},
     "output_type": "execute_result"
    }
   ],
   "source": [
    "df[df.automation_rating > 7]"
   ]
  },
  {
   "cell_type": "code",
   "execution_count": 219,
   "id": "806c0b4c-6c61-47a8-aac4-31fd8e26a86d",
   "metadata": {},
   "outputs": [
    {
     "data": {
      "text/plain": [
       "0.3624161073825503"
      ]
     },
     "execution_count": 219,
     "metadata": {},
     "output_type": "execute_result"
    }
   ],
   "source": [
    "len(pre[pre.automation_rating > 30])/len(pre)"
   ]
  },
  {
   "cell_type": "code",
   "execution_count": 220,
   "id": "e892886e-8d2e-4af2-9a89-1bbc81060c6c",
   "metadata": {},
   "outputs": [
    {
     "data": {
      "text/plain": [
       "0.46621621621621623"
      ]
     },
     "execution_count": 220,
     "metadata": {},
     "output_type": "execute_result"
    }
   ],
   "source": [
    "len(post[post.automation_rating > 30])/len(post)"
   ]
  },
  {
   "cell_type": "code",
   "execution_count": 181,
   "id": "53dff495-def9-48b8-af3f-51bfffae3b1c",
   "metadata": {},
   "outputs": [
    {
     "data": {
      "text/plain": [
       "array(['TYR Tactical', '2010-01-01', '101-250',\n",
       "       'Apparel,E-Commerce,Military,Wearables,—,Peoria', 'Arizona',\n",
       "       'United States',\n",
       "       'TYR Tactical provides a wide range of military gear such as shields, armor plates, vests, tactical apparel, bags and weapon accessories.',\n",
       "       'www.tyrtactical.com/',\n",
       "       'TYR Tactical provides a wide range of military gear such as shields, armor plates, vests, tactical apparel, bags and weapon accessories. Arizona',\n",
       "       \"Description: TYR Tactical is a leading provider of high-performance tactical gear and apparel, specializing in lightweight, durable equipment designed for military and law enforcement professionals. Their products include advanced body armor, tactical vests, shields, and a wide range of accessories to enhance performance and safety in demanding environments.\\n\\nConfidence Interval: 8\\n\\nReasoning:  This description is based on the information available on their website, emphasizing their focus on military and law enforcement clientele and their emphasis on performance and durability. However, I'm not able to assess the specifics of each individual product or their overall product line with certainty.\",\n",
       "       'TYR Tactical is a leading provider of high-performance tactical gear and apparel, specializing in lightweight, durable equipment designed for military and law enforcement professionals. Their products include advanced body armor, tactical vests, shields, and a wide range of accessories to enhance performance and safety in demanding environments.',\n",
       "       np.int64(8),\n",
       "       \"This description is based on the information available on their website, emphasizing their focus on military and law enforcement clientele and their emphasis on performance and durability. However, I'm not able to assess the specifics of each individual product or their overall product line with certainty.\",\n",
       "       \"Here's an analysis of TYR Tactical:\\n\\nDescription of TYR Tactical: TYR Tactical provides a wide range of military gear such as shields, armor plates, vests, tactical apparel, bags, and weapon accessories. Arizona\\n\\nRating: 1\\n\\nReasoning: TYR Tactical's products are designed to enhance the capabilities of military personnel, not replace them.  The gear is used by humans in a very hands-on, active way. \\n\\nONET Job: N/A \\n\\nExplanation: \\n\\n No Job Replacement: TYR Tactical's products are tools that assist military personnel in performing their duties.  They don't automate tasks or replace human decision-making. \\n Focus on Enhancement: The gear is designed to provide protection, improve mobility, and enhance tactical effectiveness. This is a direct support function, not an automation function.\",\n",
       "       np.int64(1),\n",
       "       \"TYR Tactical's products are designed to enhance the capabilities of military personnel, not replace them. The gear is used by humans in a very hands-on, active way. ONET Job: N/A Explanation: No Job Replacement: TYR Tactical's products are tools that assist military personnel in performing their duties. They don't automate tasks or replace human decision-making. Focus on Enhancement: The gear is designed to provide protection, improve mobility, and enhance tactical effectiveness. This is a direct support function, not an automation function.\"],\n",
       "      dtype=object)"
      ]
     },
     "execution_count": 181,
     "metadata": {},
     "output_type": "execute_result"
    }
   ],
   "source": [
    "pre[pre.automation_rating == 1].iloc[0].values"
   ]
  },
  {
   "cell_type": "code",
   "execution_count": 144,
   "id": "73e8b572-41ab-4656-b2a9-b2404e8277ee",
   "metadata": {},
   "outputs": [
    {
     "data": {
      "text/plain": [
       "organization name                                                                          Jetlore\n",
       "founded date                                                                            2011-01-01\n",
       "number of employees                                                                          11-50\n",
       "industries                                       Artificial Intelligence (AI),Big Data,E-Commer...\n",
       "full description                                                                        California\n",
       "headquarters location                                                                United States\n",
       "description                                      Jetlore offers an AI-powered prediction platfo...\n",
       "website                                                                            www.jetlore.com\n",
       "description_all                                  Jetlore offers an AI-powered prediction platfo...\n",
       "generated_description_llm                        Description (in two sentences): Jetlore levera...\n",
       "generated_description                            Jetlore leverages artificial intelligence to p...\n",
       "generated_description_conf_interval                                                              8\n",
       "generated_description_conf_interval_reasoning    Based on the website and its description, Jetl...\n",
       "automation_rating_llm                            Jetlore Analysis\\n\\nDescription of Jetlore: Je...\n",
       "automation_rating                                                                               75\n",
       "automation_rating_reasoning                      Jetlore's AI-powered prediction platform can a...\n",
       "Name: 0, dtype: object"
      ]
     },
     "execution_count": 144,
     "metadata": {},
     "output_type": "execute_result"
    }
   ],
   "source": [
    "df.iloc[0]"
   ]
  },
  {
   "cell_type": "code",
   "execution_count": 208,
   "id": "bed992ae-1332-48da-aa0a-ffe06922ed07",
   "metadata": {},
   "outputs": [],
   "source": [
    "df = pd.read_csv(\"../output/df_with_filter.csv\")\n",
    "# words = [\"task\", \" AI \", \"automate\", \"workflow\", \"streamline\",\"productivity\", \"generate\", \"data\"]\n",
    "# pattern = '|'.join(words)\n",
    "# df = df[df.generated_description.str.contains(pattern, case=False, na=False)]"
   ]
  },
  {
   "cell_type": "code",
   "execution_count": 209,
   "id": "013d7aa6-436b-4711-8119-1e6fb4f17c2a",
   "metadata": {},
   "outputs": [
    {
     "data": {
      "text/plain": [
       "organization name                                                                          Jetlore\n",
       "founded date                                                                            2011-01-01\n",
       "number of employees                                                                          11-50\n",
       "industries                                       Artificial Intelligence (AI),Big Data,E-Commer...\n",
       "full description                                                                        California\n",
       "headquarters location                                                                United States\n",
       "description                                      Jetlore offers an AI-powered prediction platfo...\n",
       "website                                                                            www.jetlore.com\n",
       "description_all                                  Jetlore offers an AI-powered prediction platfo...\n",
       "generated_description_llm                        Description (in two sentences): Jetlore levera...\n",
       "generated_description                            Jetlore leverages artificial intelligence to p...\n",
       "generated_description_conf_interval                                                              8\n",
       "generated_description_conf_interval_reasoning    Based on the website and its description, Jetl...\n",
       "automation_rating_llm                            Jetlore Analysis\\n\\nDescription of Jetlore: Je...\n",
       "automation_rating                                                                               75\n",
       "automation_rating_reasoning                      Jetlore's AI-powered prediction platform can a...\n",
       "Name: 0, dtype: object"
      ]
     },
     "execution_count": 209,
     "metadata": {},
     "output_type": "execute_result"
    }
   ],
   "source": [
    "df.iloc[0]"
   ]
  },
  {
   "cell_type": "code",
   "execution_count": 210,
   "id": "74ee7e7b-5f80-49a4-891f-a58938f50332",
   "metadata": {},
   "outputs": [
    {
     "data": {
      "application/vnd.plotly.v1+json": {
       "config": {
        "plotlyServerURL": "https://plot.ly"
       },
       "data": [
        {
         "hovertemplate": "x=%{x}<br>y=%{y}<extra></extra>",
         "legendgroup": "",
         "marker": {
          "color": "#636efa",
          "symbol": "circle"
         },
         "mode": "markers",
         "name": "",
         "orientation": "v",
         "showlegend": false,
         "type": "scatter",
         "x": [
          "2010-01-01",
          "2010-01-03",
          "2010-01-19",
          "2010-02-01",
          "2010-03-01",
          "2010-04-01",
          "2010-04-10",
          "2010-04-21",
          "2010-04-27",
          "2010-06-01",
          "2010-06-21",
          "2010-07-01",
          "2010-08-01",
          "2010-08-04",
          "2010-08-07",
          "2010-08-15",
          "2010-08-23",
          "2010-09-01",
          "2010-10-01",
          "2010-10-10",
          "2010-11-01",
          "2010-11-03",
          "2010-11-10",
          "2011-01-01",
          "2011-01-18",
          "2011-01-19",
          "2011-01-20",
          "2011-01-21",
          "2011-02-01",
          "2011-02-02",
          "2011-02-08",
          "2011-02-23",
          "2011-03-01",
          "2023-01-01",
          "2023-01-03",
          "2023-01-09",
          "2023-01-10",
          "2023-01-15",
          "2023-01-17",
          "2023-01-20",
          "2023-01-28",
          "2023-01-30",
          "2023-02-01",
          "2023-02-03",
          "2023-02-27",
          "2023-03-01",
          "2023-03-03",
          "2023-03-22",
          "2023-03-23",
          "2023-03-24",
          "2023-03-27",
          "2023-03-29",
          "2023-03-31",
          "2023-04-01",
          "2023-04-03",
          "2023-04-11",
          "2023-04-18",
          "2023-04-30",
          "2023-05-01",
          "2023-05-02",
          "2023-05-10",
          "2023-05-11",
          "2023-05-15",
          "2023-05-23",
          "2023-05-26",
          "2023-05-30",
          "2023-06-01",
          "2023-06-10",
          "2023-06-16",
          "2023-06-23",
          "2023-06-27",
          "2023-07-01",
          "2023-07-27",
          "2023-07-28",
          "2023-08-01",
          "2023-08-11",
          "2023-09-01",
          "2023-09-08",
          "2023-09-27",
          "2023-10-01",
          "2023-10-15",
          "2023-10-17",
          "2023-11-01",
          "2023-11-13",
          "2023-11-21",
          "2023-11-28",
          "2023-12-01",
          "2023-12-05",
          "2023-12-18",
          "2024-01-01",
          "2024-01-02",
          "2024-01-08",
          "2024-02-01",
          "2024-02-25",
          "2024-03-01",
          "2024-03-05",
          "2024-05-01",
          "2024-06-09"
         ],
         "xaxis": "x",
         "y": [
          23.084745762711865,
          25,
          65,
          15,
          55,
          1,
          25,
          65,
          40,
          5.666666666666667,
          20,
          65,
          53.333333333333336,
          1,
          15,
          45,
          20,
          55,
          58.333333333333336,
          10,
          31.25,
          15,
          15,
          31.723577235772357,
          10,
          45,
          15,
          65,
          27.5,
          45,
          25,
          15,
          45,
          35.7037037037037,
          15,
          45,
          38.333333333333336,
          85,
          15,
          45,
          35,
          35,
          45,
          25,
          25,
          42.5,
          75,
          10,
          35,
          25,
          75,
          45,
          65,
          65,
          1,
          45,
          15,
          25,
          75,
          15,
          15,
          45,
          25,
          15,
          55,
          65,
          10,
          25,
          30,
          45,
          45,
          30,
          15,
          35,
          55,
          75,
          38.333333333333336,
          25,
          1,
          25,
          25,
          25,
          40,
          75,
          15,
          45,
          25,
          15,
          75,
          27,
          30,
          75,
          12.5,
          15,
          10,
          25,
          55,
          15
         ],
         "yaxis": "y"
        }
       ],
       "layout": {
        "autosize": true,
        "legend": {
         "tracegroupgap": 0
        },
        "template": {
         "data": {
          "bar": [
           {
            "error_x": {
             "color": "#2a3f5f"
            },
            "error_y": {
             "color": "#2a3f5f"
            },
            "marker": {
             "line": {
              "color": "#E5ECF6",
              "width": 0.5
             },
             "pattern": {
              "fillmode": "overlay",
              "size": 10,
              "solidity": 0.2
             }
            },
            "type": "bar"
           }
          ],
          "barpolar": [
           {
            "marker": {
             "line": {
              "color": "#E5ECF6",
              "width": 0.5
             },
             "pattern": {
              "fillmode": "overlay",
              "size": 10,
              "solidity": 0.2
             }
            },
            "type": "barpolar"
           }
          ],
          "carpet": [
           {
            "aaxis": {
             "endlinecolor": "#2a3f5f",
             "gridcolor": "white",
             "linecolor": "white",
             "minorgridcolor": "white",
             "startlinecolor": "#2a3f5f"
            },
            "baxis": {
             "endlinecolor": "#2a3f5f",
             "gridcolor": "white",
             "linecolor": "white",
             "minorgridcolor": "white",
             "startlinecolor": "#2a3f5f"
            },
            "type": "carpet"
           }
          ],
          "choropleth": [
           {
            "colorbar": {
             "outlinewidth": 0,
             "ticks": ""
            },
            "type": "choropleth"
           }
          ],
          "contour": [
           {
            "colorbar": {
             "outlinewidth": 0,
             "ticks": ""
            },
            "colorscale": [
             [
              0,
              "#0d0887"
             ],
             [
              0.1111111111111111,
              "#46039f"
             ],
             [
              0.2222222222222222,
              "#7201a8"
             ],
             [
              0.3333333333333333,
              "#9c179e"
             ],
             [
              0.4444444444444444,
              "#bd3786"
             ],
             [
              0.5555555555555556,
              "#d8576b"
             ],
             [
              0.6666666666666666,
              "#ed7953"
             ],
             [
              0.7777777777777778,
              "#fb9f3a"
             ],
             [
              0.8888888888888888,
              "#fdca26"
             ],
             [
              1,
              "#f0f921"
             ]
            ],
            "type": "contour"
           }
          ],
          "contourcarpet": [
           {
            "colorbar": {
             "outlinewidth": 0,
             "ticks": ""
            },
            "type": "contourcarpet"
           }
          ],
          "heatmap": [
           {
            "colorbar": {
             "outlinewidth": 0,
             "ticks": ""
            },
            "colorscale": [
             [
              0,
              "#0d0887"
             ],
             [
              0.1111111111111111,
              "#46039f"
             ],
             [
              0.2222222222222222,
              "#7201a8"
             ],
             [
              0.3333333333333333,
              "#9c179e"
             ],
             [
              0.4444444444444444,
              "#bd3786"
             ],
             [
              0.5555555555555556,
              "#d8576b"
             ],
             [
              0.6666666666666666,
              "#ed7953"
             ],
             [
              0.7777777777777778,
              "#fb9f3a"
             ],
             [
              0.8888888888888888,
              "#fdca26"
             ],
             [
              1,
              "#f0f921"
             ]
            ],
            "type": "heatmap"
           }
          ],
          "heatmapgl": [
           {
            "colorbar": {
             "outlinewidth": 0,
             "ticks": ""
            },
            "colorscale": [
             [
              0,
              "#0d0887"
             ],
             [
              0.1111111111111111,
              "#46039f"
             ],
             [
              0.2222222222222222,
              "#7201a8"
             ],
             [
              0.3333333333333333,
              "#9c179e"
             ],
             [
              0.4444444444444444,
              "#bd3786"
             ],
             [
              0.5555555555555556,
              "#d8576b"
             ],
             [
              0.6666666666666666,
              "#ed7953"
             ],
             [
              0.7777777777777778,
              "#fb9f3a"
             ],
             [
              0.8888888888888888,
              "#fdca26"
             ],
             [
              1,
              "#f0f921"
             ]
            ],
            "type": "heatmapgl"
           }
          ],
          "histogram": [
           {
            "marker": {
             "pattern": {
              "fillmode": "overlay",
              "size": 10,
              "solidity": 0.2
             }
            },
            "type": "histogram"
           }
          ],
          "histogram2d": [
           {
            "colorbar": {
             "outlinewidth": 0,
             "ticks": ""
            },
            "colorscale": [
             [
              0,
              "#0d0887"
             ],
             [
              0.1111111111111111,
              "#46039f"
             ],
             [
              0.2222222222222222,
              "#7201a8"
             ],
             [
              0.3333333333333333,
              "#9c179e"
             ],
             [
              0.4444444444444444,
              "#bd3786"
             ],
             [
              0.5555555555555556,
              "#d8576b"
             ],
             [
              0.6666666666666666,
              "#ed7953"
             ],
             [
              0.7777777777777778,
              "#fb9f3a"
             ],
             [
              0.8888888888888888,
              "#fdca26"
             ],
             [
              1,
              "#f0f921"
             ]
            ],
            "type": "histogram2d"
           }
          ],
          "histogram2dcontour": [
           {
            "colorbar": {
             "outlinewidth": 0,
             "ticks": ""
            },
            "colorscale": [
             [
              0,
              "#0d0887"
             ],
             [
              0.1111111111111111,
              "#46039f"
             ],
             [
              0.2222222222222222,
              "#7201a8"
             ],
             [
              0.3333333333333333,
              "#9c179e"
             ],
             [
              0.4444444444444444,
              "#bd3786"
             ],
             [
              0.5555555555555556,
              "#d8576b"
             ],
             [
              0.6666666666666666,
              "#ed7953"
             ],
             [
              0.7777777777777778,
              "#fb9f3a"
             ],
             [
              0.8888888888888888,
              "#fdca26"
             ],
             [
              1,
              "#f0f921"
             ]
            ],
            "type": "histogram2dcontour"
           }
          ],
          "mesh3d": [
           {
            "colorbar": {
             "outlinewidth": 0,
             "ticks": ""
            },
            "type": "mesh3d"
           }
          ],
          "parcoords": [
           {
            "line": {
             "colorbar": {
              "outlinewidth": 0,
              "ticks": ""
             }
            },
            "type": "parcoords"
           }
          ],
          "pie": [
           {
            "automargin": true,
            "type": "pie"
           }
          ],
          "scatter": [
           {
            "fillpattern": {
             "fillmode": "overlay",
             "size": 10,
             "solidity": 0.2
            },
            "type": "scatter"
           }
          ],
          "scatter3d": [
           {
            "line": {
             "colorbar": {
              "outlinewidth": 0,
              "ticks": ""
             }
            },
            "marker": {
             "colorbar": {
              "outlinewidth": 0,
              "ticks": ""
             }
            },
            "type": "scatter3d"
           }
          ],
          "scattercarpet": [
           {
            "marker": {
             "colorbar": {
              "outlinewidth": 0,
              "ticks": ""
             }
            },
            "type": "scattercarpet"
           }
          ],
          "scattergeo": [
           {
            "marker": {
             "colorbar": {
              "outlinewidth": 0,
              "ticks": ""
             }
            },
            "type": "scattergeo"
           }
          ],
          "scattergl": [
           {
            "marker": {
             "colorbar": {
              "outlinewidth": 0,
              "ticks": ""
             }
            },
            "type": "scattergl"
           }
          ],
          "scattermapbox": [
           {
            "marker": {
             "colorbar": {
              "outlinewidth": 0,
              "ticks": ""
             }
            },
            "type": "scattermapbox"
           }
          ],
          "scatterpolar": [
           {
            "marker": {
             "colorbar": {
              "outlinewidth": 0,
              "ticks": ""
             }
            },
            "type": "scatterpolar"
           }
          ],
          "scatterpolargl": [
           {
            "marker": {
             "colorbar": {
              "outlinewidth": 0,
              "ticks": ""
             }
            },
            "type": "scatterpolargl"
           }
          ],
          "scatterternary": [
           {
            "marker": {
             "colorbar": {
              "outlinewidth": 0,
              "ticks": ""
             }
            },
            "type": "scatterternary"
           }
          ],
          "surface": [
           {
            "colorbar": {
             "outlinewidth": 0,
             "ticks": ""
            },
            "colorscale": [
             [
              0,
              "#0d0887"
             ],
             [
              0.1111111111111111,
              "#46039f"
             ],
             [
              0.2222222222222222,
              "#7201a8"
             ],
             [
              0.3333333333333333,
              "#9c179e"
             ],
             [
              0.4444444444444444,
              "#bd3786"
             ],
             [
              0.5555555555555556,
              "#d8576b"
             ],
             [
              0.6666666666666666,
              "#ed7953"
             ],
             [
              0.7777777777777778,
              "#fb9f3a"
             ],
             [
              0.8888888888888888,
              "#fdca26"
             ],
             [
              1,
              "#f0f921"
             ]
            ],
            "type": "surface"
           }
          ],
          "table": [
           {
            "cells": {
             "fill": {
              "color": "#EBF0F8"
             },
             "line": {
              "color": "white"
             }
            },
            "header": {
             "fill": {
              "color": "#C8D4E3"
             },
             "line": {
              "color": "white"
             }
            },
            "type": "table"
           }
          ]
         },
         "layout": {
          "annotationdefaults": {
           "arrowcolor": "#2a3f5f",
           "arrowhead": 0,
           "arrowwidth": 1
          },
          "autotypenumbers": "strict",
          "coloraxis": {
           "colorbar": {
            "outlinewidth": 0,
            "ticks": ""
           }
          },
          "colorscale": {
           "diverging": [
            [
             0,
             "#8e0152"
            ],
            [
             0.1,
             "#c51b7d"
            ],
            [
             0.2,
             "#de77ae"
            ],
            [
             0.3,
             "#f1b6da"
            ],
            [
             0.4,
             "#fde0ef"
            ],
            [
             0.5,
             "#f7f7f7"
            ],
            [
             0.6,
             "#e6f5d0"
            ],
            [
             0.7,
             "#b8e186"
            ],
            [
             0.8,
             "#7fbc41"
            ],
            [
             0.9,
             "#4d9221"
            ],
            [
             1,
             "#276419"
            ]
           ],
           "sequential": [
            [
             0,
             "#0d0887"
            ],
            [
             0.1111111111111111,
             "#46039f"
            ],
            [
             0.2222222222222222,
             "#7201a8"
            ],
            [
             0.3333333333333333,
             "#9c179e"
            ],
            [
             0.4444444444444444,
             "#bd3786"
            ],
            [
             0.5555555555555556,
             "#d8576b"
            ],
            [
             0.6666666666666666,
             "#ed7953"
            ],
            [
             0.7777777777777778,
             "#fb9f3a"
            ],
            [
             0.8888888888888888,
             "#fdca26"
            ],
            [
             1,
             "#f0f921"
            ]
           ],
           "sequentialminus": [
            [
             0,
             "#0d0887"
            ],
            [
             0.1111111111111111,
             "#46039f"
            ],
            [
             0.2222222222222222,
             "#7201a8"
            ],
            [
             0.3333333333333333,
             "#9c179e"
            ],
            [
             0.4444444444444444,
             "#bd3786"
            ],
            [
             0.5555555555555556,
             "#d8576b"
            ],
            [
             0.6666666666666666,
             "#ed7953"
            ],
            [
             0.7777777777777778,
             "#fb9f3a"
            ],
            [
             0.8888888888888888,
             "#fdca26"
            ],
            [
             1,
             "#f0f921"
            ]
           ]
          },
          "colorway": [
           "#636efa",
           "#EF553B",
           "#00cc96",
           "#ab63fa",
           "#FFA15A",
           "#19d3f3",
           "#FF6692",
           "#B6E880",
           "#FF97FF",
           "#FECB52"
          ],
          "font": {
           "color": "#2a3f5f"
          },
          "geo": {
           "bgcolor": "white",
           "lakecolor": "white",
           "landcolor": "#E5ECF6",
           "showlakes": true,
           "showland": true,
           "subunitcolor": "white"
          },
          "hoverlabel": {
           "align": "left"
          },
          "hovermode": "closest",
          "mapbox": {
           "style": "light"
          },
          "paper_bgcolor": "white",
          "plot_bgcolor": "#E5ECF6",
          "polar": {
           "angularaxis": {
            "gridcolor": "white",
            "linecolor": "white",
            "ticks": ""
           },
           "bgcolor": "#E5ECF6",
           "radialaxis": {
            "gridcolor": "white",
            "linecolor": "white",
            "ticks": ""
           }
          },
          "scene": {
           "xaxis": {
            "backgroundcolor": "#E5ECF6",
            "gridcolor": "white",
            "gridwidth": 2,
            "linecolor": "white",
            "showbackground": true,
            "ticks": "",
            "zerolinecolor": "white"
           },
           "yaxis": {
            "backgroundcolor": "#E5ECF6",
            "gridcolor": "white",
            "gridwidth": 2,
            "linecolor": "white",
            "showbackground": true,
            "ticks": "",
            "zerolinecolor": "white"
           },
           "zaxis": {
            "backgroundcolor": "#E5ECF6",
            "gridcolor": "white",
            "gridwidth": 2,
            "linecolor": "white",
            "showbackground": true,
            "ticks": "",
            "zerolinecolor": "white"
           }
          },
          "shapedefaults": {
           "line": {
            "color": "#2a3f5f"
           }
          },
          "ternary": {
           "aaxis": {
            "gridcolor": "white",
            "linecolor": "white",
            "ticks": ""
           },
           "baxis": {
            "gridcolor": "white",
            "linecolor": "white",
            "ticks": ""
           },
           "bgcolor": "#E5ECF6",
           "caxis": {
            "gridcolor": "white",
            "linecolor": "white",
            "ticks": ""
           }
          },
          "title": {
           "x": 0.05
          },
          "xaxis": {
           "automargin": true,
           "gridcolor": "white",
           "linecolor": "white",
           "ticks": "",
           "title": {
            "standoff": 15
           },
           "zerolinecolor": "white",
           "zerolinewidth": 2
          },
          "yaxis": {
           "automargin": true,
           "gridcolor": "white",
           "linecolor": "white",
           "ticks": "",
           "title": {
            "standoff": 15
           },
           "zerolinecolor": "white",
           "zerolinewidth": 2
          }
         }
        },
        "title": {
         "text": "Automation Rating over Founding Year"
        },
        "xaxis": {
         "anchor": "y",
         "autorange": true,
         "domain": [
          0,
          1
         ],
         "range": [
          "2009-02-16 08:23:30.179",
          "2025-04-23 15:36:29.821"
         ],
         "title": {
          "text": "Year Founded"
         },
         "type": "date"
        },
        "yaxis": {
         "anchor": "x",
         "autorange": true,
         "domain": [
          0,
          1
         ],
         "range": [
          -5.932038834951456,
          91.93203883495146
         ],
         "title": {
          "text": "Automation Rating (1-10)"
         },
         "type": "linear"
        }
       }
      },
      "image/png": "[encoded data removed]",
      "text/html": [
       "<div>                            <div id=\"77a852f5-2c52-4e2f-aa86-656203d79889\" class=\"plotly-graph-div\" style=\"height:525px; width:100%;\"></div>            <script type=\"text/javascript\">                require([\"plotly\"], function(Plotly) {                    window.PLOTLYENV=window.PLOTLYENV || {};                                    if (document.getElementById(\"77a852f5-2c52-4e2f-aa86-656203d79889\")) {                    Plotly.newPlot(                        \"77a852f5-2c52-4e2f-aa86-656203d79889\",                        [{\"hovertemplate\":\"x=%{x}\\u003cbr\\u003ey=%{y}\\u003cextra\\u003e\\u003c\\u002fextra\\u003e\",\"legendgroup\":\"\",\"marker\":{\"color\":\"#636efa\",\"symbol\":\"circle\"},\"mode\":\"markers\",\"name\":\"\",\"orientation\":\"v\",\"showlegend\":false,\"x\":[\"2010-01-01\",\"2010-01-03\",\"2010-01-19\",\"2010-02-01\",\"2010-03-01\",\"2010-04-01\",\"2010-04-10\",\"2010-04-21\",\"2010-04-27\",\"2010-06-01\",\"2010-06-21\",\"2010-07-01\",\"2010-08-01\",\"2010-08-04\",\"2010-08-07\",\"2010-08-15\",\"2010-08-23\",\"2010-09-01\",\"2010-10-01\",\"2010-10-10\",\"2010-11-01\",\"2010-11-03\",\"2010-11-10\",\"2011-01-01\",\"2011-01-18\",\"2011-01-19\",\"2011-01-20\",\"2011-01-21\",\"2011-02-01\",\"2011-02-02\",\"2011-02-08\",\"2011-02-23\",\"2011-03-01\",\"2023-01-01\",\"2023-01-03\",\"2023-01-09\",\"2023-01-10\",\"2023-01-15\",\"2023-01-17\",\"2023-01-20\",\"2023-01-28\",\"2023-01-30\",\"2023-02-01\",\"2023-02-03\",\"2023-02-27\",\"2023-03-01\",\"2023-03-03\",\"2023-03-22\",\"2023-03-23\",\"2023-03-24\",\"2023-03-27\",\"2023-03-29\",\"2023-03-31\",\"2023-04-01\",\"2023-04-03\",\"2023-04-11\",\"2023-04-18\",\"2023-04-30\",\"2023-05-01\",\"2023-05-02\",\"2023-05-10\",\"2023-05-11\",\"2023-05-15\",\"2023-05-23\",\"2023-05-26\",\"2023-05-30\",\"2023-06-01\",\"2023-06-10\",\"2023-06-16\",\"2023-06-23\",\"2023-06-27\",\"2023-07-01\",\"2023-07-27\",\"2023-07-28\",\"2023-08-01\",\"2023-08-11\",\"2023-09-01\",\"2023-09-08\",\"2023-09-27\",\"2023-10-01\",\"2023-10-15\",\"2023-10-17\",\"2023-11-01\",\"2023-11-13\",\"2023-11-21\",\"2023-11-28\",\"2023-12-01\",\"2023-12-05\",\"2023-12-18\",\"2024-01-01\",\"2024-01-02\",\"2024-01-08\",\"2024-02-01\",\"2024-02-25\",\"2024-03-01\",\"2024-03-05\",\"2024-05-01\",\"2024-06-09\"],\"xaxis\":\"x\",\"y\":[23.084745762711865,25.0,65.0,15.0,55.0,1.0,25.0,65.0,40.0,5.666666666666667,20.0,65.0,53.333333333333336,1.0,15.0,45.0,20.0,55.0,58.333333333333336,10.0,31.25,15.0,15.0,31.723577235772357,10.0,45.0,15.0,65.0,27.5,45.0,25.0,15.0,45.0,35.7037037037037,15.0,45.0,38.333333333333336,85.0,15.0,45.0,35.0,35.0,45.0,25.0,25.0,42.5,75.0,10.0,35.0,25.0,75.0,45.0,65.0,65.0,1.0,45.0,15.0,25.0,75.0,15.0,15.0,45.0,25.0,15.0,55.0,65.0,10.0,25.0,30.0,45.0,45.0,30.0,15.0,35.0,55.0,75.0,38.333333333333336,25.0,1.0,25.0,25.0,25.0,40.0,75.0,15.0,45.0,25.0,15.0,75.0,27.0,30.0,75.0,12.5,15.0,10.0,25.0,55.0,15.0],\"yaxis\":\"y\",\"type\":\"scatter\"}],                        {\"template\":{\"data\":{\"histogram2dcontour\":[{\"type\":\"histogram2dcontour\",\"colorbar\":{\"outlinewidth\":0,\"ticks\":\"\"},\"colorscale\":[[0.0,\"#0d0887\"],[0.1111111111111111,\"#46039f\"],[0.2222222222222222,\"#7201a8\"],[0.3333333333333333,\"#9c179e\"],[0.4444444444444444,\"#bd3786\"],[0.5555555555555556,\"#d8576b\"],[0.6666666666666666,\"#ed7953\"],[0.7777777777777778,\"#fb9f3a\"],[0.8888888888888888,\"#fdca26\"],[1.0,\"#f0f921\"]]}],\"choropleth\":[{\"type\":\"choropleth\",\"colorbar\":{\"outlinewidth\":0,\"ticks\":\"\"}}],\"histogram2d\":[{\"type\":\"histogram2d\",\"colorbar\":{\"outlinewidth\":0,\"ticks\":\"\"},\"colorscale\":[[0.0,\"#0d0887\"],[0.1111111111111111,\"#46039f\"],[0.2222222222222222,\"#7201a8\"],[0.3333333333333333,\"#9c179e\"],[0.4444444444444444,\"#bd3786\"],[0.5555555555555556,\"#d8576b\"],[0.6666666666666666,\"#ed7953\"],[0.7777777777777778,\"#fb9f3a\"],[0.8888888888888888,\"#fdca26\"],[1.0,\"#f0f921\"]]}],\"heatmap\":[{\"type\":\"heatmap\",\"colorbar\":{\"outlinewidth\":0,\"ticks\":\"\"},\"colorscale\":[[0.0,\"#0d0887\"],[0.1111111111111111,\"#46039f\"],[0.2222222222222222,\"#7201a8\"],[0.3333333333333333,\"#9c179e\"],[0.4444444444444444,\"#bd3786\"],[0.5555555555555556,\"#d8576b\"],[0.6666666666666666,\"#ed7953\"],[0.7777777777777778,\"#fb9f3a\"],[0.8888888888888888,\"#fdca26\"],[1.0,\"#f0f921\"]]}],\"heatmapgl\":[{\"type\":\"heatmapgl\",\"colorbar\":{\"outlinewidth\":0,\"ticks\":\"\"},\"colorscale\":[[0.0,\"#0d0887\"],[0.1111111111111111,\"#46039f\"],[0.2222222222222222,\"#7201a8\"],[0.3333333333333333,\"#9c179e\"],[0.4444444444444444,\"#bd3786\"],[0.5555555555555556,\"#d8576b\"],[0.6666666666666666,\"#ed7953\"],[0.7777777777777778,\"#fb9f3a\"],[0.8888888888888888,\"#fdca26\"],[1.0,\"#f0f921\"]]}],\"contourcarpet\":[{\"type\":\"contourcarpet\",\"colorbar\":{\"outlinewidth\":0,\"ticks\":\"\"}}],\"contour\":[{\"type\":\"contour\",\"colorbar\":{\"outlinewidth\":0,\"ticks\":\"\"},\"colorscale\":[[0.0,\"#0d0887\"],[0.1111111111111111,\"#46039f\"],[0.2222222222222222,\"#7201a8\"],[0.3333333333333333,\"#9c179e\"],[0.4444444444444444,\"#bd3786\"],[0.5555555555555556,\"#d8576b\"],[0.6666666666666666,\"#ed7953\"],[0.7777777777777778,\"#fb9f3a\"],[0.8888888888888888,\"#fdca26\"],[1.0,\"#f0f921\"]]}],\"surface\":[{\"type\":\"surface\",\"colorbar\":{\"outlinewidth\":0,\"ticks\":\"\"},\"colorscale\":[[0.0,\"#0d0887\"],[0.1111111111111111,\"#46039f\"],[0.2222222222222222,\"#7201a8\"],[0.3333333333333333,\"#9c179e\"],[0.4444444444444444,\"#bd3786\"],[0.5555555555555556,\"#d8576b\"],[0.6666666666666666,\"#ed7953\"],[0.7777777777777778,\"#fb9f3a\"],[0.8888888888888888,\"#fdca26\"],[1.0,\"#f0f921\"]]}],\"mesh3d\":[{\"type\":\"mesh3d\",\"colorbar\":{\"outlinewidth\":0,\"ticks\":\"\"}}],\"scatter\":[{\"fillpattern\":{\"fillmode\":\"overlay\",\"size\":10,\"solidity\":0.2},\"type\":\"scatter\"}],\"parcoords\":[{\"type\":\"parcoords\",\"line\":{\"colorbar\":{\"outlinewidth\":0,\"ticks\":\"\"}}}],\"scatterpolargl\":[{\"type\":\"scatterpolargl\",\"marker\":{\"colorbar\":{\"outlinewidth\":0,\"ticks\":\"\"}}}],\"bar\":[{\"error_x\":{\"color\":\"#2a3f5f\"},\"error_y\":{\"color\":\"#2a3f5f\"},\"marker\":{\"line\":{\"color\":\"#E5ECF6\",\"width\":0.5},\"pattern\":{\"fillmode\":\"overlay\",\"size\":10,\"solidity\":0.2}},\"type\":\"bar\"}],\"scattergeo\":[{\"type\":\"scattergeo\",\"marker\":{\"colorbar\":{\"outlinewidth\":0,\"ticks\":\"\"}}}],\"scatterpolar\":[{\"type\":\"scatterpolar\",\"marker\":{\"colorbar\":{\"outlinewidth\":0,\"ticks\":\"\"}}}],\"histogram\":[{\"marker\":{\"pattern\":{\"fillmode\":\"overlay\",\"size\":10,\"solidity\":0.2}},\"type\":\"histogram\"}],\"scattergl\":[{\"type\":\"scattergl\",\"marker\":{\"colorbar\":{\"outlinewidth\":0,\"ticks\":\"\"}}}],\"scatter3d\":[{\"type\":\"scatter3d\",\"line\":{\"colorbar\":{\"outlinewidth\":0,\"ticks\":\"\"}},\"marker\":{\"colorbar\":{\"outlinewidth\":0,\"ticks\":\"\"}}}],\"scattermapbox\":[{\"type\":\"scattermapbox\",\"marker\":{\"colorbar\":{\"outlinewidth\":0,\"ticks\":\"\"}}}],\"scatterternary\":[{\"type\":\"scatterternary\",\"marker\":{\"colorbar\":{\"outlinewidth\":0,\"ticks\":\"\"}}}],\"scattercarpet\":[{\"type\":\"scattercarpet\",\"marker\":{\"colorbar\":{\"outlinewidth\":0,\"ticks\":\"\"}}}],\"carpet\":[{\"aaxis\":{\"endlinecolor\":\"#2a3f5f\",\"gridcolor\":\"white\",\"linecolor\":\"white\",\"minorgridcolor\":\"white\",\"startlinecolor\":\"#2a3f5f\"},\"baxis\":{\"endlinecolor\":\"#2a3f5f\",\"gridcolor\":\"white\",\"linecolor\":\"white\",\"minorgridcolor\":\"white\",\"startlinecolor\":\"#2a3f5f\"},\"type\":\"carpet\"}],\"table\":[{\"cells\":{\"fill\":{\"color\":\"#EBF0F8\"},\"line\":{\"color\":\"white\"}},\"header\":{\"fill\":{\"color\":\"#C8D4E3\"},\"line\":{\"color\":\"white\"}},\"type\":\"table\"}],\"barpolar\":[{\"marker\":{\"line\":{\"color\":\"#E5ECF6\",\"width\":0.5},\"pattern\":{\"fillmode\":\"overlay\",\"size\":10,\"solidity\":0.2}},\"type\":\"barpolar\"}],\"pie\":[{\"automargin\":true,\"type\":\"pie\"}]},\"layout\":{\"autotypenumbers\":\"strict\",\"colorway\":[\"#636efa\",\"#EF553B\",\"#00cc96\",\"#ab63fa\",\"#FFA15A\",\"#19d3f3\",\"#FF6692\",\"#B6E880\",\"#FF97FF\",\"#FECB52\"],\"font\":{\"color\":\"#2a3f5f\"},\"hovermode\":\"closest\",\"hoverlabel\":{\"align\":\"left\"},\"paper_bgcolor\":\"white\",\"plot_bgcolor\":\"#E5ECF6\",\"polar\":{\"bgcolor\":\"#E5ECF6\",\"angularaxis\":{\"gridcolor\":\"white\",\"linecolor\":\"white\",\"ticks\":\"\"},\"radialaxis\":{\"gridcolor\":\"white\",\"linecolor\":\"white\",\"ticks\":\"\"}},\"ternary\":{\"bgcolor\":\"#E5ECF6\",\"aaxis\":{\"gridcolor\":\"white\",\"linecolor\":\"white\",\"ticks\":\"\"},\"baxis\":{\"gridcolor\":\"white\",\"linecolor\":\"white\",\"ticks\":\"\"},\"caxis\":{\"gridcolor\":\"white\",\"linecolor\":\"white\",\"ticks\":\"\"}},\"coloraxis\":{\"colorbar\":{\"outlinewidth\":0,\"ticks\":\"\"}},\"colorscale\":{\"sequential\":[[0.0,\"#0d0887\"],[0.1111111111111111,\"#46039f\"],[0.2222222222222222,\"#7201a8\"],[0.3333333333333333,\"#9c179e\"],[0.4444444444444444,\"#bd3786\"],[0.5555555555555556,\"#d8576b\"],[0.6666666666666666,\"#ed7953\"],[0.7777777777777778,\"#fb9f3a\"],[0.8888888888888888,\"#fdca26\"],[1.0,\"#f0f921\"]],\"sequentialminus\":[[0.0,\"#0d0887\"],[0.1111111111111111,\"#46039f\"],[0.2222222222222222,\"#7201a8\"],[0.3333333333333333,\"#9c179e\"],[0.4444444444444444,\"#bd3786\"],[0.5555555555555556,\"#d8576b\"],[0.6666666666666666,\"#ed7953\"],[0.7777777777777778,\"#fb9f3a\"],[0.8888888888888888,\"#fdca26\"],[1.0,\"#f0f921\"]],\"diverging\":[[0,\"#8e0152\"],[0.1,\"#c51b7d\"],[0.2,\"#de77ae\"],[0.3,\"#f1b6da\"],[0.4,\"#fde0ef\"],[0.5,\"#f7f7f7\"],[0.6,\"#e6f5d0\"],[0.7,\"#b8e186\"],[0.8,\"#7fbc41\"],[0.9,\"#4d9221\"],[1,\"#276419\"]]},\"xaxis\":{\"gridcolor\":\"white\",\"linecolor\":\"white\",\"ticks\":\"\",\"title\":{\"standoff\":15},\"zerolinecolor\":\"white\",\"automargin\":true,\"zerolinewidth\":2},\"yaxis\":{\"gridcolor\":\"white\",\"linecolor\":\"white\",\"ticks\":\"\",\"title\":{\"standoff\":15},\"zerolinecolor\":\"white\",\"automargin\":true,\"zerolinewidth\":2},\"scene\":{\"xaxis\":{\"backgroundcolor\":\"#E5ECF6\",\"gridcolor\":\"white\",\"linecolor\":\"white\",\"showbackground\":true,\"ticks\":\"\",\"zerolinecolor\":\"white\",\"gridwidth\":2},\"yaxis\":{\"backgroundcolor\":\"#E5ECF6\",\"gridcolor\":\"white\",\"linecolor\":\"white\",\"showbackground\":true,\"ticks\":\"\",\"zerolinecolor\":\"white\",\"gridwidth\":2},\"zaxis\":{\"backgroundcolor\":\"#E5ECF6\",\"gridcolor\":\"white\",\"linecolor\":\"white\",\"showbackground\":true,\"ticks\":\"\",\"zerolinecolor\":\"white\",\"gridwidth\":2}},\"shapedefaults\":{\"line\":{\"color\":\"#2a3f5f\"}},\"annotationdefaults\":{\"arrowcolor\":\"#2a3f5f\",\"arrowhead\":0,\"arrowwidth\":1},\"geo\":{\"bgcolor\":\"white\",\"landcolor\":\"#E5ECF6\",\"subunitcolor\":\"white\",\"showland\":true,\"showlakes\":true,\"lakecolor\":\"white\"},\"title\":{\"x\":0.05},\"mapbox\":{\"style\":\"light\"}}},\"xaxis\":{\"anchor\":\"y\",\"domain\":[0.0,1.0],\"title\":{\"text\":\"Year Founded\"}},\"yaxis\":{\"anchor\":\"x\",\"domain\":[0.0,1.0],\"title\":{\"text\":\"Automation Rating (1-10)\"}},\"legend\":{\"tracegroupgap\":0},\"title\":{\"text\":\"Automation Rating over Founding Year\"}},                        {\"responsive\": true}                    ).then(function(){\n",
       "                            \n",
       "var gd = document.getElementById('77a852f5-2c52-4e2f-aa86-656203d79889');\n",
       "var x = new MutationObserver(function (mutations, observer) {{\n",
       "        var display = window.getComputedStyle(gd).display;\n",
       "        if (!display || display === 'none') {{\n",
       "            console.log([gd, 'removed!']);\n",
       "            Plotly.purge(gd);\n",
       "            observer.disconnect();\n",
       "        }}\n",
       "}});\n",
       "\n",
       "// Listen for the removal of the full notebook cells\n",
       "var notebookContainer = gd.closest('#notebook-container');\n",
       "if (notebookContainer) {{\n",
       "    x.observe(notebookContainer, {childList: true});\n",
       "}}\n",
       "\n",
       "// Listen for the clearing of the current output cell\n",
       "var outputEl = gd.closest('.output');\n",
       "if (outputEl) {{\n",
       "    x.observe(outputEl, {childList: true});\n",
       "}}\n",
       "\n",
       "                        })                };                });            </script>        </div>"
      ]
     },
     "metadata": {},
     "output_type": "display_data"
    }
   ],
   "source": [
    "import plotly.express as px\n",
    "df = df.groupby(\"founded date\")[\"automation_rating\"].mean().reset_index()\n",
    "# Create the scatter plot\n",
    "fig = px.scatter(x=df[\"founded date\"], y=df[\"automation_rating\"], title=\"Automation Rating over Founding Year\")\n",
    "\n",
    "# Update the layout (optional)\n",
    "fig.update_layout(\n",
    "    xaxis_title=\"Year Founded\",\n",
    "    yaxis_title=\"Automation Rating (1-10)\"\n",
    ")\n",
    "\n",
    "# Show the plot\n",
    "fig.show()"
   ]
  },
  {
   "cell_type": "code",
   "execution_count": 211,
   "id": "933f788b-5bd7-41fb-8574-100c7aed61ec",
   "metadata": {},
   "outputs": [
    {
     "data": {
      "text/plain": [
       "array([['2010-01-01', 23.084745762711865],\n",
       "       ['2010-01-03', 25.0],\n",
       "       ['2010-01-19', 65.0],\n",
       "       ['2010-02-01', 15.0],\n",
       "       ['2010-03-01', 55.0],\n",
       "       ['2010-04-01', 1.0],\n",
       "       ['2010-04-10', 25.0],\n",
       "       ['2010-04-21', 65.0],\n",
       "       ['2010-04-27', 40.0],\n",
       "       ['2010-06-01', 5.666666666666667],\n",
       "       ['2010-06-21', 20.0],\n",
       "       ['2010-07-01', 65.0],\n",
       "       ['2010-08-01', 53.333333333333336],\n",
       "       ['2010-08-04', 1.0],\n",
       "       ['2010-08-07', 15.0],\n",
       "       ['2010-08-15', 45.0],\n",
       "       ['2010-08-23', 20.0],\n",
       "       ['2010-09-01', 55.0],\n",
       "       ['2010-10-01', 58.333333333333336],\n",
       "       ['2010-10-10', 10.0],\n",
       "       ['2010-11-01', 31.25],\n",
       "       ['2010-11-03', 15.0],\n",
       "       ['2010-11-10', 15.0],\n",
       "       ['2011-01-01', 31.723577235772357],\n",
       "       ['2011-01-18', 10.0],\n",
       "       ['2011-01-19', 45.0],\n",
       "       ['2011-01-20', 15.0],\n",
       "       ['2011-01-21', 65.0],\n",
       "       ['2011-02-01', 27.5],\n",
       "       ['2011-02-02', 45.0],\n",
       "       ['2011-02-08', 25.0],\n",
       "       ['2011-02-23', 15.0],\n",
       "       ['2011-03-01', 45.0],\n",
       "       ['2023-01-01', 35.7037037037037],\n",
       "       ['2023-01-03', 15.0],\n",
       "       ['2023-01-09', 45.0],\n",
       "       ['2023-01-10', 38.333333333333336],\n",
       "       ['2023-01-15', 85.0],\n",
       "       ['2023-01-17', 15.0],\n",
       "       ['2023-01-20', 45.0],\n",
       "       ['2023-01-28', 35.0],\n",
       "       ['2023-01-30', 35.0],\n",
       "       ['2023-02-01', 45.0],\n",
       "       ['2023-02-03', 25.0],\n",
       "       ['2023-02-27', 25.0],\n",
       "       ['2023-03-01', 42.5],\n",
       "       ['2023-03-03', 75.0],\n",
       "       ['2023-03-22', 10.0],\n",
       "       ['2023-03-23', 35.0],\n",
       "       ['2023-03-24', 25.0],\n",
       "       ['2023-03-27', 75.0],\n",
       "       ['2023-03-29', 45.0],\n",
       "       ['2023-03-31', 65.0],\n",
       "       ['2023-04-01', 65.0],\n",
       "       ['2023-04-03', 1.0],\n",
       "       ['2023-04-11', 45.0],\n",
       "       ['2023-04-18', 15.0],\n",
       "       ['2023-04-30', 25.0],\n",
       "       ['2023-05-01', 75.0],\n",
       "       ['2023-05-02', 15.0],\n",
       "       ['2023-05-10', 15.0],\n",
       "       ['2023-05-11', 45.0],\n",
       "       ['2023-05-15', 25.0],\n",
       "       ['2023-05-23', 15.0],\n",
       "       ['2023-05-26', 55.0],\n",
       "       ['2023-05-30', 65.0],\n",
       "       ['2023-06-01', 10.0],\n",
       "       ['2023-06-10', 25.0],\n",
       "       ['2023-06-16', 30.0],\n",
       "       ['2023-06-23', 45.0],\n",
       "       ['2023-06-27', 45.0],\n",
       "       ['2023-07-01', 30.0],\n",
       "       ['2023-07-27', 15.0],\n",
       "       ['2023-07-28', 35.0],\n",
       "       ['2023-08-01', 55.0],\n",
       "       ['2023-08-11', 75.0],\n",
       "       ['2023-09-01', 38.333333333333336],\n",
       "       ['2023-09-08', 25.0],\n",
       "       ['2023-09-27', 1.0],\n",
       "       ['2023-10-01', 25.0],\n",
       "       ['2023-10-15', 25.0],\n",
       "       ['2023-10-17', 25.0],\n",
       "       ['2023-11-01', 40.0],\n",
       "       ['2023-11-13', 75.0],\n",
       "       ['2023-11-21', 15.0],\n",
       "       ['2023-11-28', 45.0],\n",
       "       ['2023-12-01', 25.0],\n",
       "       ['2023-12-05', 15.0],\n",
       "       ['2023-12-18', 75.0],\n",
       "       ['2024-01-01', 27.0],\n",
       "       ['2024-01-02', 30.0],\n",
       "       ['2024-01-08', 75.0],\n",
       "       ['2024-02-01', 12.5],\n",
       "       ['2024-02-25', 15.0],\n",
       "       ['2024-03-01', 10.0],\n",
       "       ['2024-03-05', 25.0],\n",
       "       ['2024-05-01', 55.0],\n",
       "       ['2024-06-09', 15.0]], dtype=object)"
      ]
     },
     "execution_count": 211,
     "metadata": {},
     "output_type": "execute_result"
    }
   ],
   "source": [
    "df.values"
   ]
  },
  {
   "cell_type": "code",
   "execution_count": 212,
   "id": "ecc048b4-bf91-4a54-83fc-39339dd9789b",
   "metadata": {},
   "outputs": [
    {
     "data": {
      "text/html": [
       "<div>\n",
       "<style scoped>\n",
       "    .dataframe tbody tr th:only-of-type {\n",
       "        vertical-align: middle;\n",
       "    }\n",
       "\n",
       "    .dataframe tbody tr th {\n",
       "        vertical-align: top;\n",
       "    }\n",
       "\n",
       "    .dataframe thead th {\n",
       "        text-align: right;\n",
       "    }\n",
       "</style>\n",
       "<table border=\"1\" class=\"dataframe\">\n",
       "  <thead>\n",
       "    <tr style=\"text-align: right;\">\n",
       "      <th></th>\n",
       "      <th>organization name</th>\n",
       "      <th>founded date</th>\n",
       "      <th>number of employees</th>\n",
       "      <th>industries</th>\n",
       "      <th>full description</th>\n",
       "      <th>headquarters location</th>\n",
       "      <th>description</th>\n",
       "      <th>website</th>\n",
       "      <th>description_all</th>\n",
       "      <th>generated_description_llm</th>\n",
       "      <th>generated_description</th>\n",
       "      <th>generated_description_conf_interval</th>\n",
       "      <th>generated_description_conf_interval_reasoning</th>\n",
       "      <th>automation_rating_llm</th>\n",
       "      <th>automation_rating</th>\n",
       "      <th>automation_rating_reasoning</th>\n",
       "    </tr>\n",
       "  </thead>\n",
       "  <tbody>\n",
       "    <tr>\n",
       "      <th>2</th>\n",
       "      <td>Shift Logistics</td>\n",
       "      <td>2023-01-01</td>\n",
       "      <td>1-10</td>\n",
       "      <td>E-Commerce,Logistics,A reverse logistics start...</td>\n",
       "      <td>California</td>\n",
       "      <td>United States</td>\n",
       "      <td>A reverse logistics startup re-inventing onlin...</td>\n",
       "      <td>—</td>\n",
       "      <td>A reverse logistics startup re-inventing onlin...</td>\n",
       "      <td>Description (in two sentences): Shift Logistic...</td>\n",
       "      <td>Shift Logistics is a company that specializes ...</td>\n",
       "      <td>5</td>\n",
       "      <td>While the provided description \"A reverse logi...</td>\n",
       "      <td>Shift Logistics\\n\\nRating: 75\\n\\nReasoning: Wh...</td>\n",
       "      <td>75</td>\n",
       "      <td>While Shift Logistics focuses on reverse logis...</td>\n",
       "    </tr>\n",
       "    <tr>\n",
       "      <th>5</th>\n",
       "      <td>Global Nexum</td>\n",
       "      <td>2023-01-30</td>\n",
       "      <td>1-10</td>\n",
       "      <td>Advertising,B2B,Marketplace,Social Network,Glo...</td>\n",
       "      <td>Delaware</td>\n",
       "      <td>United States</td>\n",
       "      <td>Global Nexum is a B2B Market Network that buye...</td>\n",
       "      <td>www.globalnexum.com</td>\n",
       "      <td>Global Nexum is a B2B Market Network that buye...</td>\n",
       "      <td>Description (in two sentences):\\n\\nGlobal Nexu...</td>\n",
       "      <td>Global Nexum is a business-to-business marketp...</td>\n",
       "      <td>7</td>\n",
       "      <td>The website provides very little information a...</td>\n",
       "      <td>Here's an analysis of Global Nexum:\\n\\nRating:...</td>\n",
       "      <td>35</td>\n",
       "      <td>Global Nexum is a platform that streamlines th...</td>\n",
       "    </tr>\n",
       "    <tr>\n",
       "      <th>7</th>\n",
       "      <td>ShypV</td>\n",
       "      <td>2023-03-03</td>\n",
       "      <td>51-100</td>\n",
       "      <td>Courier Service,Delivery Service,E-Commerce,E-...</td>\n",
       "      <td>California</td>\n",
       "      <td>United States</td>\n",
       "      <td>AI TECHNOLOGY FOR THE SUPPLY CHAIN INDUSTRY</td>\n",
       "      <td>www.shypv.com</td>\n",
       "      <td>AI TECHNOLOGY FOR THE SUPPLY CHAIN INDUSTRY Ca...</td>\n",
       "      <td>Description (in two sentences):\\n\\nShypV is a ...</td>\n",
       "      <td>ShypV is a California-based company that utili...</td>\n",
       "      <td>6</td>\n",
       "      <td>The company website provides very limited info...</td>\n",
       "      <td>ShypV Analysis\\n\\nDescription of ShypV: AI TEC...</td>\n",
       "      <td>75</td>\n",
       "      <td>ShypV's focus on AI for the supply chain indus...</td>\n",
       "    </tr>\n",
       "    <tr>\n",
       "      <th>10</th>\n",
       "      <td>Intercept</td>\n",
       "      <td>2023-01-01</td>\n",
       "      <td>1-10</td>\n",
       "      <td>Consumer Goods,Food and Beverage,Retail,—,San ...</td>\n",
       "      <td>California</td>\n",
       "      <td>United States</td>\n",
       "      <td>Intercept offers chargeback dispute management...</td>\n",
       "      <td>tryintercept.com/</td>\n",
       "      <td>Intercept offers chargeback dispute management...</td>\n",
       "      <td>Description (in two sentences): \\n\\nIntercept ...</td>\n",
       "      <td>Intercept helps CPG brands fight back against ...</td>\n",
       "      <td>7</td>\n",
       "      <td>The provided website and the product descripti...</td>\n",
       "      <td>Intercept Analysis\\n\\nRating: 65\\n\\nReasoning:...</td>\n",
       "      <td>65</td>\n",
       "      <td>While Intercept automates some aspects of char...</td>\n",
       "    </tr>\n",
       "    <tr>\n",
       "      <th>25</th>\n",
       "      <td>Vengo AI</td>\n",
       "      <td>2023-12-18</td>\n",
       "      <td>1-10</td>\n",
       "      <td>Artificial Intelligence (AI),B2B,E-Commerce,Ma...</td>\n",
       "      <td>Pennsylvania</td>\n",
       "      <td>United States</td>\n",
       "      <td>A B2B SaaS platform that enables anyone to cre...</td>\n",
       "      <td>vengoai.com</td>\n",
       "      <td>A B2B SaaS platform that enables anyone to cre...</td>\n",
       "      <td>Vengo AI Product Description:\\n\\nVengo AI is a...</td>\n",
       "      <td>Vengo AI is a business-to-business software as...</td>\n",
       "      <td>8</td>\n",
       "      <td>This description is based on the company's web...</td>\n",
       "      <td>Vengo AI Analysis\\n\\nRating: 75\\n\\nReasoning: ...</td>\n",
       "      <td>75</td>\n",
       "      <td>While Vengo AI simplifies the creation and dep...</td>\n",
       "    </tr>\n",
       "    <tr>\n",
       "      <th>...</th>\n",
       "      <td>...</td>\n",
       "      <td>...</td>\n",
       "      <td>...</td>\n",
       "      <td>...</td>\n",
       "      <td>...</td>\n",
       "      <td>...</td>\n",
       "      <td>...</td>\n",
       "      <td>...</td>\n",
       "      <td>...</td>\n",
       "      <td>...</td>\n",
       "      <td>...</td>\n",
       "      <td>...</td>\n",
       "      <td>...</td>\n",
       "      <td>...</td>\n",
       "      <td>...</td>\n",
       "      <td>...</td>\n",
       "    </tr>\n",
       "    <tr>\n",
       "      <th>434</th>\n",
       "      <td>Ecobuyphone</td>\n",
       "      <td>2023-11-21</td>\n",
       "      <td>51-100</td>\n",
       "      <td>E-Commerce,About Ecobuyphone\\nWelcome to EcoBu...</td>\n",
       "      <td>California</td>\n",
       "      <td>United States</td>\n",
       "      <td>Consumer Electronics, E-Commerce, Electronics,...</td>\n",
       "      <td>www.ecobuyphone.com</td>\n",
       "      <td>Consumer Electronics, E-Commerce, Electronics,...</td>\n",
       "      <td>Description (in two sentences): Ecobuyphone is...</td>\n",
       "      <td>Ecobuyphone is an e-commerce platform that spe...</td>\n",
       "      <td>7</td>\n",
       "      <td>While the website provides limited information...</td>\n",
       "      <td>Here's an analysis of Ecobuyphone:\\n\\nDescript...</td>\n",
       "      <td>15</td>\n",
       "      <td>Ecobuyphone is primarily an e-commerce platfor...</td>\n",
       "    </tr>\n",
       "    <tr>\n",
       "      <th>437</th>\n",
       "      <td>PurvX</td>\n",
       "      <td>2023-09-01</td>\n",
       "      <td>1-10</td>\n",
       "      <td>Marketplace,Retail,Sustainability,PurvX is a p...</td>\n",
       "      <td>Delaware</td>\n",
       "      <td>United States</td>\n",
       "      <td>South Asian-Centric Marketplace</td>\n",
       "      <td>www.purvx.com/</td>\n",
       "      <td>South Asian-Centric Marketplace Delaware</td>\n",
       "      <td>Description (in two sentences): PurvX is a Sou...</td>\n",
       "      <td>PurvX is a South Asian-centric marketplace bas...</td>\n",
       "      <td>6</td>\n",
       "      <td>The website is very basic and provides limited...</td>\n",
       "      <td>PurvX Analysis\\n\\nDescription of PurvX: South ...</td>\n",
       "      <td>15</td>\n",
       "      <td>PurvX is a marketplace platform. While it migh...</td>\n",
       "    </tr>\n",
       "    <tr>\n",
       "      <th>439</th>\n",
       "      <td>Purisentials</td>\n",
       "      <td>2023-01-01</td>\n",
       "      <td>1-10</td>\n",
       "      <td>E-Commerce,—,Charlotte</td>\n",
       "      <td>North Carolina</td>\n",
       "      <td>United States</td>\n",
       "      <td>e-Commerce business</td>\n",
       "      <td>—</td>\n",
       "      <td>e-Commerce business North Carolina</td>\n",
       "      <td>Description (in two sentences): Purisentials i...</td>\n",
       "      <td>Purisentials is an e-commerce business based i...</td>\n",
       "      <td>2</td>\n",
       "      <td>The provided information is very limited. With...</td>\n",
       "      <td>Purisentials Analysis:\\n\\nDescription of Puris...</td>\n",
       "      <td>20</td>\n",
       "      <td>E-commerce businesses rely heavily on human la...</td>\n",
       "    </tr>\n",
       "    <tr>\n",
       "      <th>443</th>\n",
       "      <td>Instagrocer</td>\n",
       "      <td>2023-11-01</td>\n",
       "      <td>1-10</td>\n",
       "      <td>Delivery Service,E-Commerce,Grocery,Shopping,I...</td>\n",
       "      <td>California</td>\n",
       "      <td>United States</td>\n",
       "      <td>Instagrocer is innovating the future of grocer...</td>\n",
       "      <td>www.instagrocer.co</td>\n",
       "      <td>Instagrocer is innovating the future of grocer...</td>\n",
       "      <td>Description (in two sentences):\\n\\nInstagrocer...</td>\n",
       "      <td>Instagrocer is a grocery delivery service that...</td>\n",
       "      <td>6</td>\n",
       "      <td>The website provides very limited information ...</td>\n",
       "      <td>Instagrocer Analysis\\n\\nDescription of Instagr...</td>\n",
       "      <td>75</td>\n",
       "      <td>While Instagrocer's technology aims to improve...</td>\n",
       "    </tr>\n",
       "    <tr>\n",
       "      <th>444</th>\n",
       "      <td>Solaire</td>\n",
       "      <td>2023-01-01</td>\n",
       "      <td>1-10</td>\n",
       "      <td>Blockchain,Data Integration,Database,E-Commerc...</td>\n",
       "      <td>New York</td>\n",
       "      <td>United States</td>\n",
       "      <td>The Search Engine and Peer-to-peer Marketplace...</td>\n",
       "      <td>www.mysolaire.xyz/</td>\n",
       "      <td>The Search Engine and Peer-to-peer Marketplace...</td>\n",
       "      <td>Description:\\n\\nSolaire is a platform that fun...</td>\n",
       "      <td>Solaire is a platform that functions as both a...</td>\n",
       "      <td>8</td>\n",
       "      <td>The website itself is very minimalistic, offer...</td>\n",
       "      <td>Solaire Rating and Analysis:\\n\\nRating: 45\\n\\n...</td>\n",
       "      <td>45</td>\n",
       "      <td>Solaire, while utilizing technology, primarily...</td>\n",
       "    </tr>\n",
       "  </tbody>\n",
       "</table>\n",
       "<p>148 rows × 16 columns</p>\n",
       "</div>"
      ],
      "text/plain": [
       "    organization name founded date number of employees  \\\n",
       "2     Shift Logistics   2023-01-01                1-10   \n",
       "5        Global Nexum   2023-01-30                1-10   \n",
       "7               ShypV   2023-03-03              51-100   \n",
       "10          Intercept   2023-01-01                1-10   \n",
       "25           Vengo AI   2023-12-18                1-10   \n",
       "..                ...          ...                 ...   \n",
       "434       Ecobuyphone   2023-11-21              51-100   \n",
       "437             PurvX   2023-09-01                1-10   \n",
       "439      Purisentials   2023-01-01                1-10   \n",
       "443       Instagrocer   2023-11-01                1-10   \n",
       "444           Solaire   2023-01-01                1-10   \n",
       "\n",
       "                                            industries full description  \\\n",
       "2    E-Commerce,Logistics,A reverse logistics start...       California   \n",
       "5    Advertising,B2B,Marketplace,Social Network,Glo...         Delaware   \n",
       "7    Courier Service,Delivery Service,E-Commerce,E-...       California   \n",
       "10   Consumer Goods,Food and Beverage,Retail,—,San ...       California   \n",
       "25   Artificial Intelligence (AI),B2B,E-Commerce,Ma...     Pennsylvania   \n",
       "..                                                 ...              ...   \n",
       "434  E-Commerce,About Ecobuyphone\\nWelcome to EcoBu...       California   \n",
       "437  Marketplace,Retail,Sustainability,PurvX is a p...         Delaware   \n",
       "439                             E-Commerce,—,Charlotte   North Carolina   \n",
       "443  Delivery Service,E-Commerce,Grocery,Shopping,I...       California   \n",
       "444  Blockchain,Data Integration,Database,E-Commerc...         New York   \n",
       "\n",
       "    headquarters location                                        description  \\\n",
       "2           United States  A reverse logistics startup re-inventing onlin...   \n",
       "5           United States  Global Nexum is a B2B Market Network that buye...   \n",
       "7           United States        AI TECHNOLOGY FOR THE SUPPLY CHAIN INDUSTRY   \n",
       "10          United States  Intercept offers chargeback dispute management...   \n",
       "25          United States  A B2B SaaS platform that enables anyone to cre...   \n",
       "..                    ...                                                ...   \n",
       "434         United States  Consumer Electronics, E-Commerce, Electronics,...   \n",
       "437         United States                    South Asian-Centric Marketplace   \n",
       "439         United States                                e-Commerce business   \n",
       "443         United States  Instagrocer is innovating the future of grocer...   \n",
       "444         United States  The Search Engine and Peer-to-peer Marketplace...   \n",
       "\n",
       "                 website                                    description_all  \\\n",
       "2                      —  A reverse logistics startup re-inventing onlin...   \n",
       "5    www.globalnexum.com  Global Nexum is a B2B Market Network that buye...   \n",
       "7          www.shypv.com  AI TECHNOLOGY FOR THE SUPPLY CHAIN INDUSTRY Ca...   \n",
       "10     tryintercept.com/  Intercept offers chargeback dispute management...   \n",
       "25           vengoai.com  A B2B SaaS platform that enables anyone to cre...   \n",
       "..                   ...                                                ...   \n",
       "434  www.ecobuyphone.com  Consumer Electronics, E-Commerce, Electronics,...   \n",
       "437       www.purvx.com/           South Asian-Centric Marketplace Delaware   \n",
       "439                    —                 e-Commerce business North Carolina   \n",
       "443   www.instagrocer.co  Instagrocer is innovating the future of grocer...   \n",
       "444   www.mysolaire.xyz/  The Search Engine and Peer-to-peer Marketplace...   \n",
       "\n",
       "                             generated_description_llm  \\\n",
       "2    Description (in two sentences): Shift Logistic...   \n",
       "5    Description (in two sentences):\\n\\nGlobal Nexu...   \n",
       "7    Description (in two sentences):\\n\\nShypV is a ...   \n",
       "10   Description (in two sentences): \\n\\nIntercept ...   \n",
       "25   Vengo AI Product Description:\\n\\nVengo AI is a...   \n",
       "..                                                 ...   \n",
       "434  Description (in two sentences): Ecobuyphone is...   \n",
       "437  Description (in two sentences): PurvX is a Sou...   \n",
       "439  Description (in two sentences): Purisentials i...   \n",
       "443  Description (in two sentences):\\n\\nInstagrocer...   \n",
       "444  Description:\\n\\nSolaire is a platform that fun...   \n",
       "\n",
       "                                 generated_description  \\\n",
       "2    Shift Logistics is a company that specializes ...   \n",
       "5    Global Nexum is a business-to-business marketp...   \n",
       "7    ShypV is a California-based company that utili...   \n",
       "10   Intercept helps CPG brands fight back against ...   \n",
       "25   Vengo AI is a business-to-business software as...   \n",
       "..                                                 ...   \n",
       "434  Ecobuyphone is an e-commerce platform that spe...   \n",
       "437  PurvX is a South Asian-centric marketplace bas...   \n",
       "439  Purisentials is an e-commerce business based i...   \n",
       "443  Instagrocer is a grocery delivery service that...   \n",
       "444  Solaire is a platform that functions as both a...   \n",
       "\n",
       "     generated_description_conf_interval  \\\n",
       "2                                      5   \n",
       "5                                      7   \n",
       "7                                      6   \n",
       "10                                     7   \n",
       "25                                     8   \n",
       "..                                   ...   \n",
       "434                                    7   \n",
       "437                                    6   \n",
       "439                                    2   \n",
       "443                                    6   \n",
       "444                                    8   \n",
       "\n",
       "         generated_description_conf_interval_reasoning  \\\n",
       "2    While the provided description \"A reverse logi...   \n",
       "5    The website provides very little information a...   \n",
       "7    The company website provides very limited info...   \n",
       "10   The provided website and the product descripti...   \n",
       "25   This description is based on the company's web...   \n",
       "..                                                 ...   \n",
       "434  While the website provides limited information...   \n",
       "437  The website is very basic and provides limited...   \n",
       "439  The provided information is very limited. With...   \n",
       "443  The website provides very limited information ...   \n",
       "444  The website itself is very minimalistic, offer...   \n",
       "\n",
       "                                 automation_rating_llm  automation_rating  \\\n",
       "2    Shift Logistics\\n\\nRating: 75\\n\\nReasoning: Wh...                 75   \n",
       "5    Here's an analysis of Global Nexum:\\n\\nRating:...                 35   \n",
       "7    ShypV Analysis\\n\\nDescription of ShypV: AI TEC...                 75   \n",
       "10   Intercept Analysis\\n\\nRating: 65\\n\\nReasoning:...                 65   \n",
       "25   Vengo AI Analysis\\n\\nRating: 75\\n\\nReasoning: ...                 75   \n",
       "..                                                 ...                ...   \n",
       "434  Here's an analysis of Ecobuyphone:\\n\\nDescript...                 15   \n",
       "437  PurvX Analysis\\n\\nDescription of PurvX: South ...                 15   \n",
       "439  Purisentials Analysis:\\n\\nDescription of Puris...                 20   \n",
       "443  Instagrocer Analysis\\n\\nDescription of Instagr...                 75   \n",
       "444  Solaire Rating and Analysis:\\n\\nRating: 45\\n\\n...                 45   \n",
       "\n",
       "                           automation_rating_reasoning  \n",
       "2    While Shift Logistics focuses on reverse logis...  \n",
       "5    Global Nexum is a platform that streamlines th...  \n",
       "7    ShypV's focus on AI for the supply chain indus...  \n",
       "10   While Intercept automates some aspects of char...  \n",
       "25   While Vengo AI simplifies the creation and dep...  \n",
       "..                                                 ...  \n",
       "434  Ecobuyphone is primarily an e-commerce platfor...  \n",
       "437  PurvX is a marketplace platform. While it migh...  \n",
       "439  E-commerce businesses rely heavily on human la...  \n",
       "443  While Instagrocer's technology aims to improve...  \n",
       "444  Solaire, while utilizing technology, primarily...  \n",
       "\n",
       "[148 rows x 16 columns]"
      ]
     },
     "execution_count": 212,
     "metadata": {},
     "output_type": "execute_result"
    }
   ],
   "source": [
    "post"
   ]
  },
  {
   "cell_type": "code",
   "execution_count": null,
   "id": "e54ba123-6b16-428c-95aa-3bb6dfcbe8df",
   "metadata": {},
   "outputs": [],
   "source": []
  }
 ],
 "metadata": {
  "kernelspec": {
   "display_name": "Python 3 (ipykernel)",
   "language": "python",
   "name": "python3"
  },
  "language_info": {
   "codemirror_mode": {
    "name": "ipython",
    "version": 3
   },
   "file_extension": ".py",
   "mimetype": "text/x-python",
   "name": "python",
   "nbconvert_exporter": "python",
   "pygments_lexer": "ipython3",
   "version": "3.12.4"
  }
 },
 "nbformat": 4,
 "nbformat_minor": 5
}
