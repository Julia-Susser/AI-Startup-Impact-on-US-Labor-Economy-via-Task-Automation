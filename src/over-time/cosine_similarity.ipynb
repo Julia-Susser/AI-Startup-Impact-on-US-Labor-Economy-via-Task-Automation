{
 "cells": [
  {
   "cell_type": "code",
   "execution_count": 198,
   "id": "ca9810f6-d3ad-49cd-b4d4-523e7d006874",
   "metadata": {},
   "outputs": [
    {
     "name": "stdout",
     "output_type": "stream",
     "text": [
      "/Users/juliasusser/Desktop/startup-gov-ai-research/src/over-time\n"
     ]
    }
   ],
   "source": [
    "import sys\n",
    "import os\n",
    "\n",
    "# Add the parent directory to the Python path\n",
    "sys.path.append(os.path.abspath(os.path.join(os.getcwd(), '../helper-files')))\n",
    "\n",
    "from prompting import prompting\n",
    "from get_task_embeddings import get_task_embeddings\n",
    "import pandas as pd\n",
    "import asyncio\n",
    "import re\n",
    "import numpy as np\n",
    "from decimal import Decimal\n",
    "from llms import gemini\n",
    "from llms import chatGPT\n",
    "from sklearn.metrics.pairwise import cosine_similarity\n",
    "import json\n",
    "import time\n",
    "\n",
    "prompting_class = prompting()\n",
    "prompting_class.get()\n",
    "\n",
    "x_chat = chatGPT()\n",
    "x_gemini = gemini()\n"
   ]
  },
  {
   "cell_type": "code",
   "execution_count": 199,
   "id": "6c6cca09",
   "metadata": {},
   "outputs": [
    {
     "data": {
      "text/plain": [
       "13159"
      ]
     },
     "execution_count": 199,
     "metadata": {},
     "output_type": "execute_result"
    }
   ],
   "source": [
    "df = pd.read_csv(\"../../output/data/retail-data.csv\",index_col=0)\n",
    "# df = df[df['industries'].str.contains(r'\\(AI\\)', na=False)]\n",
    "df = df.drop_duplicates(subset=['organization name'], keep='first')\n",
    "# df = df.iloc[-30:]\n"
   ]
  },
  {
   "cell_type": "code",
   "execution_count": 200,
   "id": "a31cc571",
   "metadata": {},
   "outputs": [],
   "source": [
    "def read_prompt(file):\n",
    "    file_path = f\"../prompts/{file}.txt\"\n",
    "    with open(file_path, 'r') as file:\n",
    "        return file.read()\n",
    "    \n",
    "parsed_description_prompt = read_prompt(\"parse_description\")\n",
    "examples_prompt = read_prompt(\"examples\")"
   ]
  },
  {
   "cell_type": "code",
   "execution_count": 201,
   "id": "52bb3f23-253e-4193-bbf6-64d4792c0775",
   "metadata": {},
   "outputs": [
    {
     "data": {
      "text/plain": [
       "\"Imagine you're explaining the product from $company to someone unfamiliar with it. Provide 3 concise examples of how this product could be used in a real-world scenario. Keep the descriptions general and avoid mentioning the company name.\\n\\nFor each example, describe:\\n+ Context: description of when a person would use the tool\\n+ Job Title and Task that the tool replaces\\n    - Job Title should be broad and not based on specific context!\\n    - Task should not use specific details from the context, just the general work activity\\n    - Do not hallucinate a job activity that does not correlate with the example!\\n    **Here are 10 Example Job Titles and Tasks**\\n    ________________\\n    Job Title: Engineering teachers, postsecondary\\n    Task: Supervise undergraduate or graduate teaching, internship, and research work.\\n    \\n    Job Title: Instructional coordinators\\n    Task: Adapt instructional content or delivery methods for different levels or types of learners.\\n    \\n    Job Title: Technical writers\\n    Task: Edit, standardize, or make changes to material prepared by other writers or establishment personnel.\\n    \\n    Job Title: Nurse midwives\\n    Task: Plan, provide, or evaluate educational programs for nursing staff, health care teams, or the community.\\n    \\n    Job Title: Business teachers, postsecondary\\n    Task: Develop and maintain course web sites.\\n    \\n    Job Title: Airline pilots, copilots, and flight engineers\\n    Task: Coose routes, altitudes, and speeds that will provide the fastest, safest, and smoothest flights.\\n    \\n    Job Title: Electronic equipment installers and repairers, motor vehicles\\n    Task: Confer with customers to determine the nature of malfunctions.\\n    \\n    Job Title: Geography teachers, postsecondary\\n    Task: Maintain regularly scheduled office hours to advise and assist students.\\n    \\n    Job Title: Ophthalmologists, except pediatric\\n    Task: Document or evaluate patients' medical histories.\\n    \\n    Job Title: Special education teachers, elementary school\\n    Task: Collaborate with other teachers or administrators to develop, evaluate, or revise elementary school programs.\\n    ________________\\n+ Next, rate your confidence in example task on a scale from 1 (not confident) to 10 (highly confident).\\n\\n\\n**EXAMPLES BELOW**\\n\\nCompany: Blanc\\nWebsite: tryblanc.ai\\nBlanc is a compliance automation platform designed for fintech companies. It helps streamline regulatory compliance processes by providing a centralized hub for managing policies, monitoring activities, and generating reports.\\n________________\\nContext 1: A compliance officer at a fintech company uses Blanc to automate the process of creating and updating compliance policies, ensuring all documents are current and accessible to relevant team members.\\nTask 1: Verify that all firm and regulatory policies and procedures have been documented, implemented, and communicated.\\nJob Title 1: Compliance Officers\\n\\nContext 2: A fintech company uses Blanc to generate automated compliance reports for regulatory audits, ensuring all necessary documentation is readily available and organized.\\nTask 2: Prepare reports of activities, evaluations, recommendations, or decisions.\\nJob Title 2: Compliance Officers\\n\\nContext 3: A fintech company uses Blanc to monitor real-time transactions for potential compliance violations, triggering alerts and generating reports for further investigation.\\nTask 3: Identify compliance issues that require follow-up or investigation.\\nJob Title 3: Compliance Officers\\n________________\\n\\nCompany: Aether\\nWebsite: aetherenergie.com/\\nAether Energy is an AI-driven platform designed to simplify the process of rooftop solar installation for businesses, providing comprehensive support from project planning and financing to installation and ongoing maintenance. This platform aims to streamline and optimize the entire solar energy journey for installers. \\n________________\\nContext 1: A solar installer uses Aether to quickly create detailed project plans for rooftop solar installations, including system size, panel placement, and wiring diagrams. \\nTask 1: Diagram layouts and locations for photovoltaic (PV) arrays and equipment, including existing building or site features.\\nJob Title 1: Solar Photovoltaic Installers\\n\\nContext 2: A business owner leverages Aether to secure financing for their rooftop solar project, providing them with customized loan options and streamlined application processes. \\nTask 2: Prepare solar installation project proposals, quotes, budgets, or schedules.\\nJob Title 2: Solar Photovoltaic Installers\\n\\nContext 3: A solar installer uses Aether to manage the installation process, tracking materials, scheduling technicians, and coordinating with subcontractors, ensuring smooth project execution. \\nTask 3:  Monitor work of contractors and subcontractors to ensure projects conform to plans, specifications, schedules, or budgets.\\nJob Title 3: Solar Energy Installation Managers\\n________________\\n\\n\\nRemember to follow the example format! Please include numbers!\\n\\n**YOUR TURN**\\nCompany:$company\\nWebsite: $website\\nCurrent Description: $description\\n$parsed_description\\n________________\\n**Example 1**\\nContext 1: \\nJob Title 1: \\nTask 1:\\nConfidence Interval 1:\\nReasoning 1:\\n\\n**Example 2**\\nContext 2: \\nJob Title 2: \\nTask 2:\\nConfidence Interval 2:\\nReasoning 2:\\n\\n**Example 3**\\nContext 3:\\nJob Title 3: \\nTask 3:\\nConfidence Interval 3:\\nReasoning 3:\\n________________\\n\""
      ]
     },
     "execution_count": 201,
     "metadata": {},
     "output_type": "execute_result"
    }
   ],
   "source": [
    "examples_prompt"
   ]
  },
  {
   "cell_type": "code",
   "execution_count": 202,
   "id": "443cad4f",
   "metadata": {},
   "outputs": [
    {
     "name": "stdout",
     "output_type": "stream",
     "text": [
      "******************************\n",
      "Processing 4274: Purpose-Built Trade\n",
      "******************************\n",
      "Processing 3935: T-Shirt Tycoon Solutions\n",
      "******************************\n",
      "Processing 3936: bloom daily planners\n",
      "******************************\n",
      "Processing 3937: Artisan Mobile\n",
      "******************************\n",
      "Processing 3938: FirstSpear\n",
      "******************************\n",
      "Processing 3939: Rx 'N Go\n",
      "******************************\n",
      "Processing 3940: DL Wholesale\n",
      "******************************\n",
      "Processing 3941: Boomers Forever Young\n",
      "******************************\n",
      "Processing 3942: Watershed Distillery\n",
      "******************************\n",
      "Processing 3943: 6 Pack Bags\n"
     ]
    },
    {
     "ename": "KeyboardInterrupt",
     "evalue": "",
     "output_type": "error",
     "traceback": [
      "\u001b[0;31m---------------------------------------------------------------------------\u001b[0m",
      "\u001b[0;31mKeyboardInterrupt\u001b[0m                         Traceback (most recent call last)",
      "Cell \u001b[0;32mIn[202], line 9\u001b[0m\n\u001b[1;32m      6\u001b[0m     \u001b[38;5;66;03m# df.to_csv('../../output/df_with_parsed_description.csv', index=False)\u001b[39;00m\n\u001b[1;32m      7\u001b[0m     \u001b[38;5;28;01mreturn\u001b[39;00m df\n\u001b[0;32m----> 9\u001b[0m df \u001b[38;5;241m=\u001b[39m \u001b[43masyncio\u001b[49m\u001b[38;5;241;43m.\u001b[39;49m\u001b[43mrun\u001b[49m\u001b[43m(\u001b[49m\u001b[43mmain\u001b[49m\u001b[43m(\u001b[49m\u001b[43mdf\u001b[49m\u001b[43m)\u001b[49m\u001b[43m)\u001b[49m\n",
      "File \u001b[0;32m~/Library/Python/3.9/lib/python/site-packages/nest_asyncio.py:30\u001b[0m, in \u001b[0;36m_patch_asyncio.<locals>.run\u001b[0;34m(main, debug)\u001b[0m\n\u001b[1;32m     28\u001b[0m task \u001b[38;5;241m=\u001b[39m asyncio\u001b[38;5;241m.\u001b[39mensure_future(main)\n\u001b[1;32m     29\u001b[0m \u001b[38;5;28;01mtry\u001b[39;00m:\n\u001b[0;32m---> 30\u001b[0m     \u001b[38;5;28;01mreturn\u001b[39;00m \u001b[43mloop\u001b[49m\u001b[38;5;241;43m.\u001b[39;49m\u001b[43mrun_until_complete\u001b[49m\u001b[43m(\u001b[49m\u001b[43mtask\u001b[49m\u001b[43m)\u001b[49m\n\u001b[1;32m     31\u001b[0m \u001b[38;5;28;01mfinally\u001b[39;00m:\n\u001b[1;32m     32\u001b[0m     \u001b[38;5;28;01mif\u001b[39;00m \u001b[38;5;129;01mnot\u001b[39;00m task\u001b[38;5;241m.\u001b[39mdone():\n",
      "File \u001b[0;32m~/Library/Python/3.9/lib/python/site-packages/nest_asyncio.py:92\u001b[0m, in \u001b[0;36m_patch_loop.<locals>.run_until_complete\u001b[0;34m(self, future)\u001b[0m\n\u001b[1;32m     90\u001b[0m     f\u001b[38;5;241m.\u001b[39m_log_destroy_pending \u001b[38;5;241m=\u001b[39m \u001b[38;5;28;01mFalse\u001b[39;00m\n\u001b[1;32m     91\u001b[0m \u001b[38;5;28;01mwhile\u001b[39;00m \u001b[38;5;129;01mnot\u001b[39;00m f\u001b[38;5;241m.\u001b[39mdone():\n\u001b[0;32m---> 92\u001b[0m     \u001b[38;5;28;43mself\u001b[39;49m\u001b[38;5;241;43m.\u001b[39;49m\u001b[43m_run_once\u001b[49m\u001b[43m(\u001b[49m\u001b[43m)\u001b[49m\n\u001b[1;32m     93\u001b[0m     \u001b[38;5;28;01mif\u001b[39;00m \u001b[38;5;28mself\u001b[39m\u001b[38;5;241m.\u001b[39m_stopping:\n\u001b[1;32m     94\u001b[0m         \u001b[38;5;28;01mbreak\u001b[39;00m\n",
      "File \u001b[0;32m~/Library/Python/3.9/lib/python/site-packages/nest_asyncio.py:115\u001b[0m, in \u001b[0;36m_patch_loop.<locals>._run_once\u001b[0;34m(self)\u001b[0m\n\u001b[1;32m    108\u001b[0m     heappop(scheduled)\n\u001b[1;32m    110\u001b[0m timeout \u001b[38;5;241m=\u001b[39m (\n\u001b[1;32m    111\u001b[0m     \u001b[38;5;241m0\u001b[39m \u001b[38;5;28;01mif\u001b[39;00m ready \u001b[38;5;129;01mor\u001b[39;00m \u001b[38;5;28mself\u001b[39m\u001b[38;5;241m.\u001b[39m_stopping\n\u001b[1;32m    112\u001b[0m     \u001b[38;5;28;01melse\u001b[39;00m \u001b[38;5;28mmin\u001b[39m(\u001b[38;5;28mmax\u001b[39m(\n\u001b[1;32m    113\u001b[0m         scheduled[\u001b[38;5;241m0\u001b[39m]\u001b[38;5;241m.\u001b[39m_when \u001b[38;5;241m-\u001b[39m \u001b[38;5;28mself\u001b[39m\u001b[38;5;241m.\u001b[39mtime(), \u001b[38;5;241m0\u001b[39m), \u001b[38;5;241m86400\u001b[39m) \u001b[38;5;28;01mif\u001b[39;00m scheduled\n\u001b[1;32m    114\u001b[0m     \u001b[38;5;28;01melse\u001b[39;00m \u001b[38;5;28;01mNone\u001b[39;00m)\n\u001b[0;32m--> 115\u001b[0m event_list \u001b[38;5;241m=\u001b[39m \u001b[38;5;28;43mself\u001b[39;49m\u001b[38;5;241;43m.\u001b[39;49m\u001b[43m_selector\u001b[49m\u001b[38;5;241;43m.\u001b[39;49m\u001b[43mselect\u001b[49m\u001b[43m(\u001b[49m\u001b[43mtimeout\u001b[49m\u001b[43m)\u001b[49m\n\u001b[1;32m    116\u001b[0m \u001b[38;5;28mself\u001b[39m\u001b[38;5;241m.\u001b[39m_process_events(event_list)\n\u001b[1;32m    118\u001b[0m end_time \u001b[38;5;241m=\u001b[39m \u001b[38;5;28mself\u001b[39m\u001b[38;5;241m.\u001b[39mtime() \u001b[38;5;241m+\u001b[39m \u001b[38;5;28mself\u001b[39m\u001b[38;5;241m.\u001b[39m_clock_resolution\n",
      "File \u001b[0;32m/Library/Developer/CommandLineTools/Library/Frameworks/Python3.framework/Versions/3.9/lib/python3.9/selectors.py:562\u001b[0m, in \u001b[0;36mKqueueSelector.select\u001b[0;34m(self, timeout)\u001b[0m\n\u001b[1;32m    560\u001b[0m ready \u001b[38;5;241m=\u001b[39m []\n\u001b[1;32m    561\u001b[0m \u001b[38;5;28;01mtry\u001b[39;00m:\n\u001b[0;32m--> 562\u001b[0m     kev_list \u001b[38;5;241m=\u001b[39m \u001b[38;5;28;43mself\u001b[39;49m\u001b[38;5;241;43m.\u001b[39;49m\u001b[43m_selector\u001b[49m\u001b[38;5;241;43m.\u001b[39;49m\u001b[43mcontrol\u001b[49m\u001b[43m(\u001b[49m\u001b[38;5;28;43;01mNone\u001b[39;49;00m\u001b[43m,\u001b[49m\u001b[43m \u001b[49m\u001b[43mmax_ev\u001b[49m\u001b[43m,\u001b[49m\u001b[43m \u001b[49m\u001b[43mtimeout\u001b[49m\u001b[43m)\u001b[49m\n\u001b[1;32m    563\u001b[0m \u001b[38;5;28;01mexcept\u001b[39;00m \u001b[38;5;167;01mInterruptedError\u001b[39;00m:\n\u001b[1;32m    564\u001b[0m     \u001b[38;5;28;01mreturn\u001b[39;00m ready\n",
      "\u001b[0;31mKeyboardInterrupt\u001b[0m: "
     ]
    }
   ],
   "source": [
    "cols = [\"parsed_description\", \"parsed_description_conf_interval\", \"parsed_description_conf_interval_reasoning\", \"Tasks/Jobs\",\"Industry\",\"Customers\"]  \n",
    "args = [[\"company\",\"organization name\"],[\"website\",\"website\"], [\"description\",\"description_all\"]]\n",
    "\n",
    "async def main(df):\n",
    "    df = await prompting_class.iterate(df, parsed_description_prompt, args, \"parsed_description_llm\")\n",
    "    # df.to_csv('../../output/df_with_parsed_description.csv', index=False)\n",
    "    return df\n",
    "\n",
    "df = asyncio.run(main(df))\n",
    "\n",
    "\n"
   ]
  },
  {
   "cell_type": "code",
   "execution_count": null,
   "id": "66920da9",
   "metadata": {},
   "outputs": [],
   "source": [
    "def extract_data(text):\n",
    "    if pd.isnull(text): return {}\n",
    "    text = re.sub(r'\\s+', ' ', text)  \n",
    "    text = text.replace(\"_\", \"\").replace(\"*\", \"\").replace(\"#\", \"\")\n",
    "    text = re.sub(r'\\s?\\([^)]*\\)', '', text)\n",
    "    pattern = r\".*?Tasks/Jobs:\\s*(.*?)\\s*Industry:\\s*(.*?)\\s*Customers:\\s*(.*?)\\s*Confidence Interval:\\s*(.*?)\\s*Reasoning:\\s*(.*)\"\n",
    "    match = re.search(pattern, text, re.DOTALL)\n",
    "    \n",
    "    if match:\n",
    "        tasks_jobs = match.group(1).strip()\n",
    "        industry = match.group(2).strip()\n",
    "        customers = match.group(3).strip()\n",
    "        confidence_interval = match.group(4).strip()\n",
    "        reasoning = match.group(5).strip()\n",
    "        \n",
    "        result = {\n",
    "            \"parsed_description\": \n",
    "            \"Tasks/Jobs: \" + tasks_jobs + \"\\n\" + \"Industry: \" + industry + \"\\n\" + \"Customers: \"+ customers,\n",
    "            \"Tasks/Jobs\": tasks_jobs,\n",
    "            \"Industry\": industry,\n",
    "            \"Customers\": customers,\n",
    "            \"parsed_description_conf_interval\": confidence_interval,\n",
    "            \"parsed_description_conf_interval_reasoning\": reasoning\n",
    "        }\n",
    "        \n",
    "        return result\n",
    "    else:\n",
    "        print(text)\n",
    "        print(\"FAILURE TO MATCH\")\n",
    "        return {}\n",
    "        \n",
    "for col in cols:\n",
    "    if col in list(df.columns): df=df.drop(columns=[col])\n",
    "        \n",
    "results_df = pd.DataFrame(list(df.apply(lambda x: extract_data(x[\"parsed_description_llm\"]),axis=1)))\n",
    "df = pd.concat([df, results_df],axis=1)\n"
   ]
  },
  {
   "cell_type": "code",
   "execution_count": null,
   "id": "705a71c2",
   "metadata": {},
   "outputs": [
    {
     "data": {
      "text/plain": [
       "30"
      ]
     },
     "execution_count": 178,
     "metadata": {},
     "output_type": "execute_result"
    }
   ],
   "source": [
    "df = df.dropna(subset=[\"parsed_description\"],axis=0)\n",
    "df = df.drop_duplicates(subset=['organization name'], keep='first')\n",
    "df = df.reset_index(drop=True)\n",
    "len(df)"
   ]
  },
  {
   "cell_type": "code",
   "execution_count": null,
   "id": "078b5453-a0ff-4bb9-b63c-ea19ac7302ed",
   "metadata": {},
   "outputs": [],
   "source": [
    "df.to_csv('../../output/df_with_parsed_description.csv', index=False)"
   ]
  },
  {
   "cell_type": "code",
   "execution_count": null,
   "id": "6cd95823-21d4-43fa-a9ae-8962995a4fb5",
   "metadata": {},
   "outputs": [
    {
     "name": "stdout",
     "output_type": "stream",
     "text": [
      "******************************\n",
      "Processing 0: Vantage Discovery\n",
      "******************************\n",
      "Processing 1: AI Product Plaza\n",
      "******************************\n",
      "Processing 2: Konnect.io\n",
      "******************************\n",
      "Processing 3: Nectar AI\n",
      "******************************\n",
      "Processing 4: OASIX\n",
      "******************************\n",
      "Processing 5: Beneree\n",
      "******************************\n",
      "Processing 6: Feetura\n",
      "******************************\n",
      "Processing 7: Rivin\n",
      "******************************\n",
      "Processing 8: Openmart\n",
      "******************************\n",
      "Processing 9: AcquireAI\n",
      "******************************\n",
      "Processing 10: AskShop.ai\n",
      "******************************\n",
      "Processing 11: TO Ventures\n",
      "******************************\n",
      "Processing 12: inPlace\n",
      "******************************\n",
      "Processing 13: Nextstay\n",
      "******************************\n",
      "Processing 14: visualAI retail solutions, Inc.\n",
      "******************************\n",
      "Processing 15: Piclist\n",
      "******************************\n",
      "Processing 16: Vengo AI\n",
      "******************************\n",
      "Processing 17: POPSMASH\n",
      "******************************\n",
      "Processing 18: Bizbe\n",
      "******************************\n",
      "Processing 19: Buy-Box AI\n",
      "******************************\n",
      "Processing 20: just words\n",
      "******************************\n",
      "Processing 21: OmniSynkAI\n",
      "******************************\n",
      "Processing 22: Kwibal\n",
      "******************************\n",
      "Processing 23: BriteLite\n",
      "******************************\n",
      "Processing 24: MediaBook\n",
      "******************************\n",
      "Processing 25: Autoket\n",
      "******************************\n",
      "Processing 26: REmoulade.AI\n",
      "******************************\n",
      "Processing 27: RealM Technologies, Inc.\n",
      "******************************\n",
      "Processing 28: Robozaps\n",
      "******************************\n",
      "Processing 29: LANS\n"
     ]
    }
   ],
   "source": [
    "cols = [col for i in range(1,4) for col in [f\"Example{i}\",f\"Example_Task{i}\",f\"Example_Description{i}\",f\"Example_Job_Title{i}\",f\"situation{i}_conf_interval\",f\"situation{i}_conf_interval_reasoning\"]]\n",
    "args = [[\"company\",\"organization name\"],[\"website\",\"website\"], [\"description\",\"description_all\"], [\"parsed_description\",\"parsed_description\"]]\n",
    "\n",
    "\n",
    "async def main(df):\n",
    "    df = await prompting_class.iterate(df, examples_prompt, args, \"examples_llm\")\n",
    "    # df.to_csv('../../output/df_with_examples.csv', index=False)\n",
    "    return df\n",
    "\n",
    "df = asyncio.run(main(df))\n"
   ]
  },
  {
   "cell_type": "code",
   "execution_count": null,
   "id": "fb9fcccc-27e5-4a80-b8f7-b27e75ff7fb7",
   "metadata": {},
   "outputs": [],
   "source": [
    "\n",
    "def extract_data(text):\n",
    "    if pd.isnull(text): return {}\n",
    "    # Normalize the text to ensure consistent whitespace and remove unwanted characters.\n",
    "    text = re.sub(r'\\s+', ' ', text).strip()\n",
    "    text = text.replace(\"*\", \"\").replace(\"/10\", \"\").replace(\"_\", \"\").replace(\"#\", \"\").replace(\"- \",\"\")\n",
    "    text = re.sub(r'\\(.*?\\)', '', text)\n",
    "    vals = {}\n",
    "    i = 1\n",
    "    while i <=3:\n",
    "        # Regex pattern adjusted to handle fractions in confidence intervals like '9/10'\n",
    "        pattern = rf\"\"\"\n",
    "        Context\\s+{i}:\\s+(.*?)\\s+\n",
    "        Job Title\\s+{i}:\\s+(.*?)\\s+\n",
    "        Task\\s+{i}:\\s+(.*?)\\s+\n",
    "        Confidence\\s+Interval\\s+{i}:\\s+(\\d+(?:/\\d+)?)\\s+\n",
    "        Reasoning\\s+{i}:\\s+(.*?)(?=\\s*Context\\s+{i + 1}:|$)\"\"\"\n",
    "        pattern = pattern.replace(\"        \",\"\").replace(\"\\n\",\"\")\n",
    "        match = re.search(pattern, text, re.DOTALL)\n",
    "        if not match:\n",
    "            print(text+\"\\n\\n\")\n",
    "            print(f\"No matches found for Example {i}\")  # Debug if no examples are found\n",
    "            return {}\n",
    "            break\n",
    "\n",
    "        example_text, job_title, task, confidence_interval, reasoning = match.groups()\n",
    "        description = job_title + \" that \" + task.lower()\n",
    "        example_key = f\"Example{i}\"\n",
    "        vals[example_key] = example_text.strip()\n",
    "        vals[f\"Example_Task{i}\"] = task.strip()\n",
    "        vals[f\"Example_Job_Title{i}\"] = job_title.strip()\n",
    "        vals[f\"Example_Description{i}\"] = description.strip()\n",
    "        vals[f\"situation{i}_conf_interval\"] = confidence_interval.strip()\n",
    "        vals[f\"situation{i}_conf_interval_reasoning\"] = reasoning.strip()\n",
    "\n",
    "        i += 1  # Prepare to search for the next example\n",
    "    return vals\n",
    "\n",
    "for col in cols:\n",
    "    if col in list(df.columns): df=df.drop(columns=[col])\n",
    "\n",
    "results_df = pd.DataFrame(list(df.apply(lambda x: extract_data(x[\"examples_llm\"]),axis=1)))\n",
    "df = pd.concat([df, results_df],axis=1)\n"
   ]
  },
  {
   "cell_type": "code",
   "execution_count": null,
   "id": "7d5a4b12-e39c-4284-a4a2-6671467a1d4d",
   "metadata": {},
   "outputs": [],
   "source": [
    "df.to_csv('../../output/df_with_examples.csv', index=False)"
   ]
  },
  {
   "cell_type": "code",
   "execution_count": null,
   "id": "1421a749",
   "metadata": {},
   "outputs": [
    {
     "data": {
      "text/plain": [
       "Index(['organization name', 'founded date', 'number of employees',\n",
       "       'industries', 'full description', 'headquarters location',\n",
       "       'description', 'website', 'description_all', 'parsed_description_llm',\n",
       "       'parsed_description', 'Tasks/Jobs', 'Industry', 'Customers',\n",
       "       'parsed_description_conf_interval',\n",
       "       'parsed_description_conf_interval_reasoning', 'examples_llm',\n",
       "       'Example1', 'Example_Task1', 'Example_Job_Title1',\n",
       "       'Example_Description1', 'situation1_conf_interval',\n",
       "       'situation1_conf_interval_reasoning', 'Example2', 'Example_Task2',\n",
       "       'Example_Job_Title2', 'Example_Description2',\n",
       "       'situation2_conf_interval', 'situation2_conf_interval_reasoning',\n",
       "       'Example3', 'Example_Task3', 'Example_Job_Title3',\n",
       "       'Example_Description3', 'situation3_conf_interval',\n",
       "       'situation3_conf_interval_reasoning'],\n",
       "      dtype='object')"
      ]
     },
     "execution_count": 183,
     "metadata": {},
     "output_type": "execute_result"
    }
   ],
   "source": [
    "df.columns"
   ]
  },
  {
   "cell_type": "code",
   "execution_count": null,
   "id": "3d03c197",
   "metadata": {},
   "outputs": [],
   "source": [
    "for i in range(1,3):\n",
    "    df[f\"Example_Description{i}\"] = df[f\"Example{i}\"] + df[f\"Example_Description{i}\"]"
   ]
  },
  {
   "cell_type": "code",
   "execution_count": null,
   "id": "99886664",
   "metadata": {},
   "outputs": [
    {
     "data": {
      "text/plain": [
       "\"A news website utilizes Vantage Discovery to enable users to search for articles based on a natural language query, understanding the user's intent and context rather than relying on keywords. This allows users to find relevant articles even if they don't know the exact keywords to use, improving the searchability of content.Content Manager that manage and optimize content to improve user engagement and search visibility.\""
      ]
     },
     "execution_count": 185,
     "metadata": {},
     "output_type": "execute_result"
    }
   ],
   "source": [
    "df[f\"Example_Description{i}\"][0]"
   ]
  },
  {
   "cell_type": "code",
   "execution_count": null,
   "id": "0f370d48",
   "metadata": {},
   "outputs": [
    {
     "name": "stdout",
     "output_type": "stream",
     "text": [
      "Processing final batch 0 to 30\n",
      "Processing final batch 0 to 30\n",
      "Processing final batch 0 to 30\n",
      "Processing final batch 0 to 30\n",
      "Processing final batch 0 to 30\n",
      "Processing final batch 0 to 30\n"
     ]
    }
   ],
   "source": [
    "\n",
    "\n",
    "job_cols = [[f\"Example_Description{i}\",f\"Example_Job_Title{i}\"] for i in range(1,4)]\n",
    "for job in job_cols:\n",
    "    for col in job:\n",
    "        df = x_chat.run_batch_embeddings(df,col)\n",
    "\n",
    "df.to_csv('../../output/df_with_examples_embeddings.csv', index=False)\n"
   ]
  },
  {
   "cell_type": "code",
   "execution_count": null,
   "id": "2f256838",
   "metadata": {},
   "outputs": [
    {
     "name": "stderr",
     "output_type": "stream",
     "text": [
      "Exception ignored in: <function WeakSet.__init__.<locals>._remove at 0x10378e700>\n",
      "Traceback (most recent call last):\n",
      "  File \"/Library/Developer/CommandLineTools/Library/Frameworks/Python3.framework/Versions/3.9/lib/python3.9/_weakrefset.py\", line 39, in _remove\n",
      "    def _remove(item, selfref=ref(self)):\n",
      "KeyboardInterrupt: \n"
     ]
    }
   ],
   "source": [
    "task_embeddings, title_embeddings, df_exp = get_task_embeddings().get()"
   ]
  },
  {
   "cell_type": "code",
   "execution_count": null,
   "id": "f3f569c2-54dc-4968-80f6-c259108292ed",
   "metadata": {},
   "outputs": [
    {
     "name": "stdout",
     "output_type": "stream",
     "text": [
      "***********************\n",
      "Processing 0\n",
      "Vantage Discovery\n",
      "Artificial Intelligence (AI), Content Discovery, Personalization, SaaS, Semantic Search\n",
      "Vantage Discovery is a generative AI-powered SaaS search and content discovery platform that provides personalized shopping recommendations. Vantage Discovery is an engine for harnessing the power of generative AI embeddings to deliver astoundingly insightful search results,  a platform for enabling new experiences for discovering and contextualizing content and products,  and a service for implementing production-ready solutions in hours,  not weeks. Apps can switch from keyword-based to semantic search with the Vantage API,  which understands the user's meaning,  intent,  and context.\n",
      "\n",
      "Processing Example: An e-commerce website for handmade crafts uses Vantage Discovery to provide shoppers with personalized recommendations based on their browsing history and purchase preferences. The platform analyzes the user's past interactions and suggests similar or complementary items that they might be interested in, enhancing the shopping experience. \n",
      "Job: An e-commerce website for handmade crafts uses Vantage Discovery to provide shoppers with personalized recommendations based on their browsing history and purchase preferences. The platform analyzes the user's past interactions and suggests similar or complementary items that they might be interested in, enhancing the shopping experience.Web Developer that design and develop user interfaces, including features that enhance the user experience.\n",
      "\n",
      "0.48803878398568135\n",
      "Online merchants that design customer interface of online storefront, using web programming or e-commerce software. \n",
      "Cosine Similarity: 0.48803878398568135, Person Cosine Similarity: 0.3480364312841997\n",
      "0.4569362969489888\n",
      "Web and digital interface designers that collaborate with management or users to develop e-commerce strategies and to integrate these strategies with web sites. \n",
      "Cosine Similarity: 0.4569362969489888, Person Cosine Similarity: 0.6096041526262836\n",
      "0.447047154138888\n",
      "Online merchants that measure and analyze web site usage data to maximize search engine returns or refine customer interfaces. \n",
      "Cosine Similarity: 0.447047154138888, Person Cosine Similarity: 0.3479894772324251\n",
      "**Saving Results**\n",
      "\n",
      "\n",
      "***********************\n",
      "\n",
      "\n",
      "***********************\n",
      "Processing 1\n",
      "AI Product Plaza\n",
      "Artificial Intelligence (AI), E-Commerce\n",
      "AI Product Plaza is an innovative online marketplace that focuses exclusively on AI products. AI Product Plaza is an innovative online marketplace that focuses exclusively on AI products. Our platform brings together AI enthusiasts,  technology professionals,  and everyday consumers to explore a vast array of AI-centric products that range from smart gadgets to AI-themed apparel.\n",
      "\n",
      "Processing Example: An AI researcher is looking for a new AI-powered image recognition software to use in their project. \n",
      "Job: An AI researcher is looking for a new AI-powered image recognition software to use in their project.Research Scientist that research and select new technologies, equipment, or materials.\n",
      "\n",
      "0.5245018735152921\n",
      "Remote sensing scientists and technologists that recommend new remote sensing hardware or software acquisitions. \n",
      "Cosine Similarity: 0.5245018735152921, Person Cosine Similarity: 0.5169074883435442\n",
      "0.5039103790685887\n",
      "Remote sensing scientists and technologists that develop new analytical techniques or sensor systems. \n",
      "Cosine Similarity: 0.5039103790685887, Person Cosine Similarity: 0.5169543374251121\n",
      "0.49885904295302663\n",
      "Remote sensing scientists and technologists that direct installation or testing of new remote sensing hardware or software. \n",
      "Cosine Similarity: 0.49885904295302663, Person Cosine Similarity: 0.5169543374251121\n",
      "***********************\n",
      "\n",
      "\n",
      "***********************\n",
      "Processing 2\n",
      "Konnect.io\n",
      "Artificial Intelligence (AI)\n",
      "SaaS, Demand Generation, Software, Marketplace Information and Communications Technology (ICT), Information Technology, Marketplace, SaaS, Software, Integrated with artificial intelligence,  Konnect.io is an innovative platform tailored for the cybersecurity market,  facilitating seamless connections between vendors and professionals. It aims to eliminate traditional demand generation challenges by offering a direct and privacy-centric communication channel. With its subscription-based model,  Konnect.io empowers vendors with access to unlimited,  organic,  self-qualifying leads while ensuring professionals can find and engage with solutions without compromising their data privacy. This platform redefines vendor discovery and engagement,  making it more efficient and respectful for both parties involved.\n",
      "\n",
      "Processing Example: A cybersecurity analyst at a large corporation is researching new security solutions to address a recently discovered vulnerability. They use Konnect.io to quickly browse through relevant vendors and their offerings, filter by specific features and capabilities, and easily request demonstrations or contact vendors directly. \n",
      "Job: A cybersecurity analyst at a large corporation is researching new security solutions to address a recently discovered vulnerability. They use Konnect.io to quickly browse through relevant vendors and their offerings, filter by specific features and capabilities, and easily request demonstrations or contact vendors directly.Security Analyst that research and evaluate potential security solutions.\n",
      "\n",
      "0.519663558208735\n",
      "Digital forensics analysts that conduct predictive or reactive analyses on security measures to support cyber security initiatives. \n",
      "Cosine Similarity: 0.519663558208735, Person Cosine Similarity: 0.5890966750967229\n",
      "0.5195265153261261\n",
      "Digital forensics analysts that recommend cyber defense software or hardware to support responses to cyber incidents. \n",
      "Cosine Similarity: 0.5195265153261261, Person Cosine Similarity: 0.5890491368594868\n",
      "0.5102647275258207\n",
      "Information security engineers that coordinate vulnerability assessments or analysis of information security systems. \n",
      "Cosine Similarity: 0.5102647275258207, Person Cosine Similarity: 0.5810248296307932\n",
      "***********************\n",
      "\n",
      "\n",
      "***********************\n",
      "Processing 3\n",
      "Nectar AI\n",
      "Artificial Intelligence (AI), E-Commerce, Marketing Automation, Retail, Software\n",
      "Conversational AI platform for social-first Brands Nectar is an AI powered social commerce platform that helps brands scale comms and drive conversions through messaging.\n",
      "\n",
      "Processing Example: A social media marketer for a clothing brand wants to increase engagement and drive sales through Instagram. They use Nectar AI to automate responses to customer questions, provide personalized product recommendations, and manage online orders directly through Instagram messages. \n",
      "Job: A social media marketer for a clothing brand wants to increase engagement and drive sales through Instagram. They use Nectar AI to automate responses to customer questions, provide personalized product recommendations, and manage online orders directly through Instagram messages.Social Media Manager that manage customer inquiries and provide technical support.\n",
      "\n",
      "0.4112205356272647\n",
      "Web and digital interface designers that respond to user email inquiries, or set up automated systems to send responses. \n",
      "Cosine Similarity: 0.4112205356272647, Person Cosine Similarity: 0.38156125308511524\n",
      "0.4068403476012372\n",
      "Spa managers that respond to customer inquiries or complaints. \n",
      "Cosine Similarity: 0.4068403476012372, Person Cosine Similarity: 0.44069029548642735\n",
      "0.3793397461950785\n",
      "Search marketing strategists that implement online customer service processes to ensure positive and consistent user experiences. \n",
      "Cosine Similarity: 0.3793397461950785, Person Cosine Similarity: 0.48279988598824125\n",
      "***********************\n",
      "\n",
      "\n",
      "***********************\n",
      "Processing 4\n",
      "OASIX\n",
      "Artificial Intelligence (AI), Augmented Reality, Generative AI, Marketplace, PropTech, Real Estate, Welcome to OASIX\n",
      "real estate, marketplace  where innovation meets real estate. As pioneers in the property technology space,  we leverage cutting-edge Artificial Intelligence and Augmented Reality to transform how properties are discovered,  experienced,  and transacted globally. Our platform offers immersive 3D tours,  personalized property matchmaking through our AI digital assistant DARIA™,  and comprehensive data analytics to empower informed decision-making. Starting our journey in the dynamic markets of Dubai,  we're set to expand our reach to Bali,  New York,  London,  and beyond in 2024. Join us in redefining the real estate experience,  where every interaction is an opportunity for discovery and every transaction is seamless and secure.\n",
      "\n",
      "Processing Example: A potential homebuyer wants to get a feel for a property without physically visiting it. They use OASIX's immersive 3D tour feature to explore the property virtually, allowing them to move through different rooms, examine details, and get a realistic sense of the space. \n",
      "Job: A potential homebuyer wants to get a feel for a property without physically visiting it. They use OASIX's immersive 3D tour feature to explore the property virtually, allowing them to move through different rooms, examine details, and get a realistic sense of the space.Real Estate Agents that present information about properties to potential buyers or renters, including their features, prices, and neighborhood characteristics.\n",
      "\n",
      "0.5995004599424691\n",
      "Real estate brokers that give buyers virtual tours of properties in which they are interested, using computers. \n",
      "Cosine Similarity: 0.5995004599424691, Person Cosine Similarity: 0.8248315583862262\n",
      "0.523401652842636\n",
      "Real estate sales agents that visit properties to assess them before showing them to clients. \n",
      "Cosine Similarity: 0.523401652842636, Person Cosine Similarity: 0.868989291178182\n",
      "0.5122956025771667\n",
      "Real estate sales agents that accompany buyers during visits to and inspections of property, advising them on the suitability and value of the homes they are visiting. \n",
      "Cosine Similarity: 0.5122956025771667, Person Cosine Similarity: 0.868989291178182\n",
      "***********************\n",
      "\n",
      "\n",
      "***********************\n",
      "Processing 5\n",
      "Beneree\n",
      "Artificial Intelligence (AI), Communities, Digital Marketing, E-Commerce, Local, Location Based Services, Mobile Apps, Retail, Small and Medium Businesses, Social Media, Beneree revolutionises socialising,  shopping\n",
      "A premium alternative for today's social networking, shopping and lifestyle apps.  and local commerce. Our blend of social networking,  lifestyle features,  and innovative shopping sets us apart. Experience real-time,  relevant content without intrusive ads. Support local businesses,  enjoy discounts,  and earn rewards. Join a thriving local economy. Welcome to a premium app that truly delivers.\n",
      "\n",
      "Processing Example: A young professional living in a new city is looking to connect with other locals, discover nearby restaurants and events, and find deals on local businesses. \n",
      "Job: A young professional living in a new city is looking to connect with other locals, discover nearby restaurants and events, and find deals on local businesses.Social Media Manager that curate and share content that is relevant to a specific audience.\n",
      "\n",
      "0.45909162337607196\n",
      "Financial managers that network within communities to find and attract new business. \n",
      "Cosine Similarity: 0.45909162337607196, Person Cosine Similarity: 0.359274442466812\n",
      "0.43414898131015983\n",
      "Concierges that provide information about local features, such as shopping, dining, nightlife, or recreational destinations. \n",
      "Cosine Similarity: 0.43414898131015983, Person Cosine Similarity: 0.24383546256830502\n",
      "0.4248352716935368\n",
      "Public relations specialists that post and update content on the company's web site and social media outlets. \n",
      "Cosine Similarity: 0.4248352716935368, Person Cosine Similarity: 0.39502777925225974\n",
      "***********************\n",
      "\n",
      "\n",
      "***********************\n",
      "Processing 6\n",
      "Feetura\n",
      "Artificial Intelligence (AI), E-Commerce, Social Network\n",
      "AI-powered Social Network for commerce Feetura is a social technology company focused on commerce that connects people to sell,  buy,  discover and build communities to grow their business. \n",
      "At Feetura We build social technologies that connect and bring people closer,  so that they can explore infinite online commerce opportunities together.\n",
      "\n",
      "Processing Example: A small business owner uses Feetura to connect with potential customers who are interested in their handcrafted jewelry. She posts photos and videos of her work, engages with followers, and uses the platform to run promotions and sales. \n",
      "Job: A small business owner uses Feetura to connect with potential customers who are interested in their handcrafted jewelry. She posts photos and videos of her work, engages with followers, and uses the platform to run promotions and sales.Retail Salesperson that develop and maintain relationships with customers.\n",
      "\n",
      "0.44324776949544176\n",
      "Craft artists that advertise products and work, using media such as internet advertising and brochures. \n",
      "Cosine Similarity: 0.44324776949544176, Person Cosine Similarity: 0.33319371445822943\n",
      "0.3979496084050743\n",
      "Retail salespersons that help customers try on or fit merchandise. \n",
      "Cosine Similarity: 0.3979496084050743, Person Cosine Similarity: 0.8765790778655458\n",
      "0.39696127948238735\n",
      "Potters, manufacturing that prepare work for sale or exhibition, and maintain relationships with retail, pottery, art, and resource networks that can facilitate sale or exhibition of work. \n",
      "Cosine Similarity: 0.39696127948238735, Person Cosine Similarity: 0.22583966860504934\n",
      "***********************\n",
      "\n",
      "\n",
      "***********************\n",
      "Processing 7\n",
      "Rivin\n",
      "Artificial Intelligence (AI), E-Commerce, Software, Supply Chain Management\n",
      "Instantly find sales and profitability data across all e-commerce marketplaces in seconds. Instantly find sales and profitability data across all e-commerce marketplaces in seconds.\n",
      "\n",
      "Get valuable insights into price histories,  sales per seller,  and more omni-channel data to analyze inventory.\n",
      "\n",
      "Processing Example: An e-commerce store manager is planning a holiday sale and wants to understand how previous promotions have impacted sales. \n",
      "Job: An e-commerce store manager is planning a holiday sale and wants to understand how previous promotions have impacted sales.E-commerce Manager that analyze historical sales data to identify trends and patterns.\n",
      "\n",
      "0.5765262995742154\n",
      "Advertising and promotions managers that analyze marketing or sales trends to forecast future conditions. \n",
      "Cosine Similarity: 0.5765262995742154, Person Cosine Similarity: 0.41629396119673867\n",
      "0.5570849081654269\n",
      "Marketing managers that use sales forecasting or strategic planning to ensure the sale and profitability of products, lines, or services, analyzing business developments and monitoring market trends. \n",
      "Cosine Similarity: 0.5570849081654269, Person Cosine Similarity: 0.5559481631197689\n",
      "0.5446492740272875\n",
      "Wholesale and retail buyers, except farm products that monitor and analyze sales records, trends, or economic conditions to anticipate consumer buying patterns, company sales, and needed inventory. \n",
      "Cosine Similarity: 0.5446492740272875, Person Cosine Similarity: 0.3217731373837565\n",
      "***********************\n",
      "\n",
      "\n",
      "***********************\n",
      "Processing 8\n",
      "Openmart\n",
      "Artificial Intelligence (AI), B2B, Machine Learning, Retail\n",
      "Openmart provides an AI-powered search engine designed to gather data from various sources to startups identify potential customers. —\n",
      "\n",
      "Processing Example: A startup founder is developing a new software platform for small businesses. They want to find potential customers who would be interested in using their product. \n",
      "Job: A startup founder is developing a new software platform for small businesses. They want to find potential customers who would be interested in using their product.Market Research Analyst that identify potential customer segments and their specific needs.\n",
      "\n",
      "0.6035109986160925\n",
      "Market research analysts and marketing specialists that collect and analyze data on customer demographics, preferences, needs, and buying habits to identify potential markets and factors affecting product demand. \n",
      "Cosine Similarity: 0.6035109986160925, Person Cosine Similarity: 0.7934107904909474\n",
      "0.5595486959253579\n",
      "Market research analysts and marketing specialists that seek and provide information to help companies determine their position in the marketplace. \n",
      "Cosine Similarity: 0.5595486959253579, Person Cosine Similarity: 0.7934107904909474\n",
      "0.5476663297881804\n",
      "Marketing managers that initiate market research studies, or analyze their findings. \n",
      "Cosine Similarity: 0.5476663297881804, Person Cosine Similarity: 0.5211991204285767\n",
      "***********************\n",
      "\n",
      "\n",
      "***********************\n",
      "Processing 9\n",
      "AcquireAI\n",
      "Artificial Intelligence (AI), Marketplace\n",
      "AI Acquisition platform —\n",
      "\n",
      "Processing Example: A sales representative at a software company uses AcquireAI to identify potential leads based on specific criteria, such as industry, company size, and budget. They then use the platform to qualify these leads by assessing their interest and likelihood of conversion. \n",
      "Job: A sales representative at a software company uses AcquireAI to identify potential leads based on specific criteria, such as industry, company size, and budget. They then use the platform to qualify these leads by assessing their interest and likelihood of conversion.Sales Representatives that identify potential customers or clients by researching and evaluating customer databases.\n",
      "\n",
      "0.5336595635386328\n",
      "Sales representatives, wholesale and manufacturing, technical and scientific products that identify prospective customers, using business directories, leads from existing clients, participation in organizations, or trade show or conference attendance. \n",
      "Cosine Similarity: 0.5336595635386328, Person Cosine Similarity: 0.703191219011617\n",
      "0.529708351414911\n",
      "Sales representatives of services, except advertising, insurance, financial services, and travel that identify prospective customers using business directories, leads from clients, or information from conferences or trade shows. \n",
      "Cosine Similarity: 0.529708351414911, Person Cosine Similarity: 0.6488189009727119\n",
      "0.5284775392048103\n",
      "Sales representatives, wholesale and manufacturing, except technical and scientific products that identify prospective customers by using business directories, following leads from existing clients, participating in organizations and clubs, and attending trade shows and conferences. \n",
      "Cosine Similarity: 0.5284775392048103, Person Cosine Similarity: 0.7227886265403387\n",
      "***********************\n",
      "\n",
      "\n",
      "***********************\n",
      "Processing 10\n",
      "AskShop.ai\n",
      "Artificial Intelligence (AI), E-Commerce, Information Technology, Software\n",
      "SaaS, E-Commerce, LLM, RAG —\n",
      "\n",
      "Processing Example: An online retailer is looking to expand their product offerings and wants to understand emerging trends in their target market. They use AskShop.ai to analyze customer reviews and online discussions to identify popular product categories and features. \n",
      "Job: An online retailer is looking to expand their product offerings and wants to understand emerging trends in their target market. They use AskShop.ai to analyze customer reviews and online discussions to identify popular product categories and features.Market Research Analyst that analyze market trends and identify consumer needs and preferences.\n",
      "\n",
      "0.6148649537321278\n",
      "Online merchants that investigate products or markets to determine areas for opportunity or viability for merchandising specific products, using online or offline sources. \n",
      "Cosine Similarity: 0.6148649537321278, Person Cosine Similarity: 0.29335301671278\n",
      "0.5891925820336852\n",
      "Market research analysts and marketing specialists that collect and analyze data on customer demographics, preferences, needs, and buying habits to identify potential markets and factors affecting product demand. \n",
      "Cosine Similarity: 0.5891925820336852, Person Cosine Similarity: 0.7934905215964606\n",
      "0.5809945872625624\n",
      "Search marketing strategists that conduct market research analysis to identify search query trends, real-time search and news media activity, popular social media topics, electronic commerce trends, market opportunities, or competitor performance. \n",
      "Cosine Similarity: 0.5809945872625624, Person Cosine Similarity: 0.47594214785562816\n",
      "***********************\n",
      "\n",
      "\n",
      "***********************\n",
      "Processing 11\n",
      "TO Ventures\n",
      "Angel Investment, Artificial Intelligence (AI), FinTech, Social Entrepreneurship, Venture Capital, Wholesale, TO Ventures\n",
      "Empowering the next wave of disruption: Investing in visionary startups shaping the future.  LLC is a venture capital firm founded by entrepreneur Thomas Owen,  dedicated to empowering the next generation of innovators,  shakers,  movers,  go-getters,  and entrepreneurs. With a keen eye for groundbreaking opportunities and a passion for transformative ideas,  TO Ventures stands at the forefront of early-stage investments,  focusing on sectors ripe for disruption. Our mission is to nurture and scale visionary startups into industry leaders,  leveraging a deep network of strategic partnerships and a wealth of entrepreneurial experience. At TO Ventures,  we're more than investors; we're collaborators committed to building a future where bold ideas thrive.\n",
      "\n",
      "Processing Example: A young entrepreneur working on a disruptive technology needs funding to scale their business. They research and connect with TO Ventures, hoping to secure a seed investment to support their product development. \n",
      "Job: A young entrepreneur working on a disruptive technology needs funding to scale their business. They research and connect with TO Ventures, hoping to secure a seed investment to support their product development.Venture Capitalists that identify and evaluate potential investment opportunities.\n",
      "\n",
      "0.48616787962163366\n",
      "Investment fund managers that evaluate the potential of new product developments or market opportunities, according to factors such as business plans, technologies, or market potential. \n",
      "Cosine Similarity: 0.48616787962163366, Person Cosine Similarity: 0.4725276351983586\n",
      "0.38108835417692905\n",
      "Investment fund managers that identify group or individual target investors for a specific fund. \n",
      "Cosine Similarity: 0.38108835417692905, Person Cosine Similarity: 0.47239882696868074\n",
      "0.3650999487334221\n",
      "Blockchain engineers that evaluate new blockchain technologies and vendor products. \n",
      "Cosine Similarity: 0.3650999487334221, Person Cosine Similarity: 0.31329979347296255\n",
      "***********************\n",
      "\n",
      "\n",
      "***********************\n",
      "Processing 12\n",
      "inPlace\n",
      "Artificial Intelligence (AI), Furniture, Home Appliances, Rental\n",
      "inPlace is a furniture rental platform that rents and leases furniture and appliances. —\n",
      "\n",
      "Processing Example: A small business owner is setting up a new office space and needs to furnish it quickly and affordably. \n",
      "Job: A small business owner is setting up a new office space and needs to furnish it quickly and affordably.Office Manager that procure furniture and equipment for an office.\n",
      "\n",
      "0.5293270907682754\n",
      "Property, real estate, and community association managers that purchase building and maintenance supplies, equipment, or furniture. \n",
      "Cosine Similarity: 0.5293270907682754, Person Cosine Similarity: 0.36936101075087924\n",
      "0.4918556231889211\n",
      "Food service managers that order and purchase equipment and supplies. \n",
      "Cosine Similarity: 0.4918556231889211, Person Cosine Similarity: 0.4089241834589195\n",
      "0.48976615500233933\n",
      "Interior designers that select or design, and purchase furnishings, art work, and accessories. \n",
      "Cosine Similarity: 0.48976615500233933, Person Cosine Similarity: 0.28660394534751155\n",
      "***********************\n",
      "\n",
      "\n",
      "***********************\n",
      "Processing 13\n",
      "Nextstay\n",
      "Artificial Intelligence (AI), Marketplace, PropTech, Real Estate\n",
      "Nextstay is an all-in-one marketplace for sublets. Nextstay is an all-in-one marketplace for sublets. Nextstay.ai is the next-generation marketplace that facilitates safe and fast subleasing and connects tenants and subtenants by providing a marketplace for verified subleases.\n",
      "\n",
      "Processing Example: A tenant is relocating for a short-term job assignment and needs to sublet their apartment while they're gone. They use Nextstay to list their apartment, find a suitable subtenant, and manage the entire process online. \n",
      "Job: A tenant is relocating for a short-term job assignment and needs to sublet their apartment while they're gone. They use Nextstay to list their apartment, find a suitable subtenant, and manage the entire process online.Property Managers that manage lease agreements, including subleases and tenant screening.\n",
      "\n",
      "0.3964831795244713\n",
      "Property, real estate, and community association managers that market vacant space to prospective tenants through leasing agents, advertising, or other methods. \n",
      "Cosine Similarity: 0.3964831795244713, Person Cosine Similarity: 0.6284719270552046\n",
      "0.38004761449085406\n",
      "Real estate brokers that rent properties or manage rental properties. \n",
      "Cosine Similarity: 0.38004761449085406, Person Cosine Similarity: 0.5678107881603691\n",
      "0.37968933443183495\n",
      "Lodging managers that show, rent, or assign accommodations. \n",
      "Cosine Similarity: 0.37968933443183495, Person Cosine Similarity: 0.5616760737243957\n",
      "***********************\n",
      "\n",
      "\n",
      "***********************\n",
      "Processing 14\n",
      "visualAI retail solutions, Inc.\n",
      "Artificial Intelligence (AI), E-Commerce, Enterprise Software, SaaS, visualAI,  a cutting-edge SaaS company\n",
      "SaaS, Cloud AI, Mobile App, E-Commerce  empowers e-commerce businesses with AI-driven solutions that revolutionize product discovery,  enhance user engagement,  and boost revenue. \n",
      "\n",
      "Our flagship product,  shopperGPT,  is a game-changing multimodal conversational shopping agent. Here’s how it works:\n",
      "\n",
      "Hyper-Personalized Shopping Experience: shopperGPT seamlessly integrates into e-commerce platforms,  offering shoppers a personalized journey. Users can search for products using natural language,  find products based on any specific color,  or even submit images to find visually similar matches.\n",
      "\n",
      "Retrieval Augmented Generation & Fine-Tuned LLMs: Our technology combines the power of large language models (LLMs) with client-specific data. By augmenting and fine-tuning LLM responses,  we ensure accurate and context-aware search results. Additionally,  we employ data augmentation techniques to further optimize accuracy.\n",
      "\n",
      "Platform Expansion: Initially available directly,  shopperGPT will soon integrate with popular e-commerce platforms like Magento,  BigCommerce,  Salesforce,  and Shopify. Our mission? To fundamentally transform how shoppers discover products online,  starting with the fashion vertical.\n",
      "\n",
      "Why VisualAI Matters for Retailers:\n",
      "\n",
      "Engagement Boost: Visual search can increase session durations by up to 30%,  while click-through rates improve by approximately 15-25%. Shoppers stay longer and interact more,  enhancing overall engagement. Hyper-personalization is shown to dramatically improve user engagement,  time on the site and purchases.\n",
      "Accelerated Discovery: Visual search reduces the user journey time by nearly 50%. In sectors like fashion and home décor,  this efficiency translates to a 10-15% increase in customer satisfaction ratings.\n",
      "\n",
      "Revenue Uplift: Implementing visual search leads to a 20-30% rise in conversion rates. Simplified discovery processes and impulse purchases contribute to an average order value increase of 10-20%. Moreover,  the data collected via visual search refines recommendation algorithms,  potentially boosting upsell and cross-sell rates by up to 25%\n",
      "visualAI isn’t just a technological advancement; it’s a strategic business move that elevates user experience,  streamlines product discovery,  and positively impacts the bottom line. \n",
      "\n",
      "For more information,  visit visualAI’s website.\n",
      "\n",
      "Processing Example: A fashion retailer is struggling with low conversion rates on their e-commerce website. They are looking for ways to improve the customer experience and make it easier for shoppers to find the products they are looking for. \n",
      "Job: A fashion retailer is struggling with low conversion rates on their e-commerce website. They are looking for ways to improve the customer experience and make it easier for shoppers to find the products they are looking for.Marketing Specialist that develop and implement marketing campaigns to increase customer engagement.\n",
      "\n",
      "0.6682595244401606\n",
      "Search marketing strategists that optimize shopping cart experience or web site conversion rates against key performance indicators (kpis). \n",
      "Cosine Similarity: 0.6682595244401606, Person Cosine Similarity: 0.6563074375686815\n",
      "0.6104310656076037\n",
      "Search marketing strategists that coordinate sales or other promotional strategies with merchandising, operations, or inventory control staff to ensure product catalogs are current, accurate, and organized for best findability against user intent. \n",
      "Cosine Similarity: 0.6104310656076037, Person Cosine Similarity: 0.6563258339457417\n",
      "0.5945675660611524\n",
      "Search marketing strategists that identify and develop commercial or technical specifications, such as usability, pricing, checkout, or data security, to promote transactional internet-enabled commerce functionality. \n",
      "Cosine Similarity: 0.5945675660611524, Person Cosine Similarity: 0.6563258339457417\n",
      "***********************\n",
      "\n",
      "\n",
      "***********************\n",
      "Processing 15\n",
      "Piclist\n",
      "Artificial Intelligence (AI), E-Commerce, SaaS, Software\n",
      "Piclist empowers you to crosslist to any ecommerce marketplace by simply capturing a photo Exhausted from juggling multiple marketplaces and struggling to keep track of your sales and prices? Say hello to Piclist! Our platform simplifies your selling experience by enabling you to post and manage all of your items simply by automating a photo you take.\n",
      "\n",
      "Our innovative platform allows you to sell anything,  anywhere,  simply by capturing a photo. Save time,  money,  and resources with Piclist—your phone is now your powerful sales tool.  At At Piclist every snapshot is turned into a sales opportunity.\n",
      "\n",
      "Stop spending countless hours going back and forth managing multiple platforms. Piclist streamlines your operations,  making selling and management quick,  easy,  and more effective than ever before.\n",
      "\n",
      "Processing Example: A small business owner sells handmade jewelry on multiple online marketplaces, but struggles to keep their inventory updated across all platforms. They use Piclist to easily photograph each piece and automatically list it for sale on all of their marketplaces. \n",
      "Job: A small business owner sells handmade jewelry on multiple online marketplaces, but struggles to keep their inventory updated across all platforms. They use Piclist to easily photograph each piece and automatically list it for sale on all of their marketplaces.Retail Salespersons that maintain sales records, including inventory control and order processing.\n",
      "\n",
      "0.5041037815549476\n",
      "Retail salespersons that inventory stock and requisition new stock. \n",
      "Cosine Similarity: 0.5041037815549476, Person Cosine Similarity: 0.9999560569437314\n",
      "0.48766885948454286\n",
      "Parts salespersons that fill customer orders from stock, and place orders when requested items are out of stock. \n",
      "Cosine Similarity: 0.48766885948454286, Person Cosine Similarity: 0.6963541816904602\n",
      "0.4859381398441808\n",
      "Retail salespersons that maintain records related to sales. \n",
      "Cosine Similarity: 0.4859381398441808, Person Cosine Similarity: 0.9999989608620956\n",
      "***********************\n",
      "\n",
      "\n",
      "***********************\n",
      "Processing 16\n",
      "Vengo AI\n",
      "Artificial Intelligence (AI), B2B, E-Commerce, Marketplace, SaaS\n",
      "A B2B SaaS platform that enables anyone to create, deploy, and monetize an AI identity with just one line of code. It's the Wix of AI. Vengo AI is a cutting-edge B2B SaaS platform that democratizes AI creation,  making it accessible for everyone,  from influencers and brands to entrepreneurs and businesses. Our proprietary system allows users to effortlessly integrate sophisticated AI identities into their websites with just one line of code. By joining our innovative community,  members unlock the potential to create,  customize,  and monetize their digital twins,  significantly enhancing their digital presence and generating new streams of passive income. Experience the future of AI with Vengo AI,  where technology meets simplicity and profitability.\n",
      "\n",
      "Processing Example: A social media influencer wants to create a personalized AI chatbot that can interact with their followers, answer frequently asked questions, and provide customized content recommendations. \n",
      "Job: A social media influencer wants to create a personalized AI chatbot that can interact with their followers, answer frequently asked questions, and provide customized content recommendations.Social Media Manager that develop and manage social media content and strategies.\n",
      "\n",
      "0.47130760873556915\n",
      "Search marketing strategists that execute or manage social media campaigns to inform search marketing tactics. \n",
      "Cosine Similarity: 0.47130760873556915, Person Cosine Similarity: 0.48271680357205693\n",
      "0.43070773926933936\n",
      "Search marketing strategists that create content strategies for digital media. \n",
      "Cosine Similarity: 0.43070773926933936, Person Cosine Similarity: 0.4827499922977044\n",
      "0.4304549675641728\n",
      "Search marketing strategists that execute and manage communications with digital journalists or bloggers. \n",
      "Cosine Similarity: 0.4304549675641728, Person Cosine Similarity: 0.4827499922977044\n",
      "***********************\n",
      "\n",
      "\n",
      "***********************\n",
      "Processing 17\n",
      "POPSMASH\n",
      "Artificial Intelligence (AI), E-Commerce, Generative AI, Software\n",
      "Building AI to recommend products & personalize marketing 100X faster. We make marketing personal by leveraging AI to connect customers and companies in meaningful ways. We do this by giving merchants tools to 1) forge deeper customer relationships and 2) understand customer buying preferences in fun,  engaging ways.\n",
      "\n",
      "This helps brands like yours personalize marketing and recommend the perfect products to increase conversions (CVR),  grow average order value (AOV),  and slash returns faster than any other tool on the market.\n",
      "\n",
      "We're passionate about applying our deep technical expertise to help everyone from the smallest merchants to the biggest brands move fast,  sell more,  and build businesses as great as their ambitions.\n",
      "\n",
      "Processing Example: A small online clothing retailer wants to improve their email marketing by sending out personalized product recommendations based on customer preferences. \n",
      "Job: A small online clothing retailer wants to improve their email marketing by sending out personalized product recommendations based on customer preferences.Marketing Specialist that analyze customer data and preferences to personalize marketing campaigns.\n",
      "\n",
      "0.5990688458456754\n",
      "Market research analysts and marketing specialists that collect and analyze data on customer demographics, preferences, needs, and buying habits to identify potential markets and factors affecting product demand. \n",
      "Cosine Similarity: 0.5990688458456754, Person Cosine Similarity: 0.5420283298072962\n",
      "0.5500331622870405\n",
      "Market research analysts and marketing specialists that forecast and track marketing and sales trends, analyzing collected data. \n",
      "Cosine Similarity: 0.5500331622870405, Person Cosine Similarity: 0.5420283298072962\n",
      "0.536360359056864\n",
      "Search marketing strategists that coordinate sales or other promotional strategies with merchandising, operations, or inventory control staff to ensure product catalogs are current, accurate, and organized for best findability against user intent. \n",
      "Cosine Similarity: 0.536360359056864, Person Cosine Similarity: 0.6563281890837858\n",
      "***********************\n",
      "\n",
      "\n",
      "***********************\n",
      "Processing 18\n",
      "Bizbe\n",
      "Artificial Intelligence (AI), Finance, Marketplace, SaaS, Bizbe, Boston\n",
      "Bizbe is a SaaS that Artificial Intelligence (AI), Finance, Marketplace, SaaS, Bizbe\n",
      "\n",
      "Processing Example: A small business owner uses Bizbe to manage multiple projects simultaneously, assigning tasks to team members, setting deadlines, and tracking progress in real-time. \n",
      "Job: A small business owner uses Bizbe to manage multiple projects simultaneously, assigning tasks to team members, setting deadlines, and tracking progress in real-time.Project Manager that plan, direct, or coordinate activities of projects or project teams to ensure that goals or objectives of projects are accomplished within prescribed time frames and funding parameters.\n",
      "\n",
      "0.4727745974143165\n",
      "Project management specialists that plan, schedule, or coordinate project activities to meet deadlines. \n",
      "Cosine Similarity: 0.4727745974143165, Person Cosine Similarity: 0.705536009643263\n",
      "0.4511109999378724\n",
      "Project management specialists that assign duties or responsibilities to project personnel. \n",
      "Cosine Similarity: 0.4511109999378724, Person Cosine Similarity: 0.7055160293148662\n",
      "0.44626675206161304\n",
      "Information technology project managers that monitor or track project milestones and deliverables. \n",
      "Cosine Similarity: 0.44626675206161304, Person Cosine Similarity: 0.610668540135645\n",
      "***********************\n",
      "\n",
      "\n",
      "***********************\n",
      "Processing 19\n",
      "Buy-Box AI\n",
      "Artificial Intelligence (AI), Marketplace, PropTech, Real Estate, Real Estate Investment\n",
      "Real Estate Marketplace Buy-Box AI is a marketplace for buying & selling investment properties off the market,  powered by AI.\n",
      "\n",
      "Processing Example: A real estate investor wants to buy a multi-family property in a specific neighborhood but doesn't want to rely on traditional listings. \n",
      "Job: A real estate investor wants to buy a multi-family property in a specific neighborhood but doesn't want to rely on traditional listings.Real Estate Agent that identify potential properties that meet specific criteria.\n",
      "\n",
      "0.6268719600875912\n",
      "Real estate sales agents that generate lists of properties that are compatible with buyers' needs and financial resources. \n",
      "Cosine Similarity: 0.6268719600875912, Person Cosine Similarity: 0.8130272670632759\n",
      "0.5708440469927709\n",
      "Real estate sales agents that interview clients to determine what kinds of properties they are seeking. \n",
      "Cosine Similarity: 0.5708440469927709, Person Cosine Similarity: 0.8130272670632759\n",
      "0.5687586350664314\n",
      "Real estate sales agents that solicit and compile listings of available rental properties. \n",
      "Cosine Similarity: 0.5687586350664314, Person Cosine Similarity: 0.8131025880318926\n",
      "***********************\n",
      "\n",
      "\n",
      "***********************\n",
      "Processing 20\n",
      "just words\n",
      "Artificial Intelligence (AI), Personalization, Software\n",
      "Just words is a software company that makes it simple to create self-optimized content variations for emails and advertisements. Just words makes it simple to create self-optimized content variations for emails and advertisements.\n",
      "\n",
      "Processing Example: A marketing manager for a clothing brand needs to create multiple email variations to test different subject lines and call-to-actions. \n",
      "Job: A marketing manager for a clothing brand needs to create multiple email variations to test different subject lines and call-to-actions.Marketing Managers that develop and implement marketing campaigns.\n",
      "\n",
      "0.5925185936624501\n",
      "Marketing managers that formulate, direct, or coordinate marketing activities or policies to promote products or services, working with advertising or promotion managers. \n",
      "Cosine Similarity: 0.5925185936624501, Person Cosine Similarity: 0.9999989902907062\n",
      "0.5808131751191643\n",
      "Marketing managers that identify, develop, or evaluate marketing strategy, based on knowledge of establishment objectives, market characteristics, and cost and markup factors. \n",
      "Cosine Similarity: 0.5808131751191643, Person Cosine Similarity: 0.9999999999999983\n",
      "0.5805784067050092\n",
      "General and operations managers that develop or implement product-marketing strategies, including advertising campaigns or sales promotions. \n",
      "Cosine Similarity: 0.5805784067050092, Person Cosine Similarity: 0.4829294081053642\n",
      "***********************\n",
      "\n",
      "\n",
      "***********************\n",
      "Processing 21\n",
      "OmniSynkAI\n",
      "Artificial Intelligence (AI), Business Intelligence, E-Commerce, Finance, Small and Medium Businesses, Software\n",
      "OmniSynkAI offers a software suite tailored to manage all aspects of e-commerce, eliminating the need for multiple integrations. OmniSynkAI is like Adobe Creative Cloud for e-commerce,  providing a comprehensive suite that covers financials,  order and inventory management,  website building,  omnichannel sales,  HR operations,  and marketing automation. This all-in-one solution eliminates the need for patchwork plugins,  allowing e-commerce businesses to manage everything in one place.\n",
      "\n",
      "Processing Example: An e-commerce store owner uses OmniSynkAI to manage inventory levels across multiple online marketplaces, automatically adjusting stock levels based on real-time sales data. \n",
      "Job: An e-commerce store owner uses OmniSynkAI to manage inventory levels across multiple online marketplaces, automatically adjusting stock levels based on real-time sales data.E-commerce Managers that maintain inventory records and order status, purchase, or order materials, products, or supplies.\n",
      "\n",
      "0.591235800008133\n",
      "Online merchants that order or purchase merchandise to maintain optimal inventory levels. \n",
      "Cosine Similarity: 0.591235800008133, Person Cosine Similarity: 0.6572580646560909\n",
      "0.5259588058081094\n",
      "Online merchants that create, manage, or automate orders or invoices, using order management or invoicing software. \n",
      "Cosine Similarity: 0.5259588058081094, Person Cosine Similarity: 0.6572580646560909\n",
      "0.4892416804245163\n",
      "Spa managers that inventory products and order new supplies. \n",
      "Cosine Similarity: 0.4892416804245163, Person Cosine Similarity: 0.5008768849087829\n",
      "***********************\n",
      "\n",
      "\n",
      "***********************\n",
      "Processing 22\n",
      "Kwibal\n",
      "Artificial Intelligence (AI), Consumer Applications, Machine Learning, Marketing Automation, Marketplace, Same Day Delivery\n",
      "AI consumer application Kwibal is an AI powered application for consumers to browse,  buy,  sell secondhand platforms in one centralized platform,  like Kayak or Priceline but for resale marketplaces. Kwibal creates a more retail-like convenient consumer experience,  and enables global sustainability and promotes a more equitable online shopping opportunity.\n",
      "\n",
      "Processing Example: A shopper is looking to buy a used designer handbag but wants to compare prices and availability across different resale platforms. They want to avoid having to browse multiple websites individually. \n",
      "Job: A shopper is looking to buy a used designer handbag but wants to compare prices and availability across different resale platforms. They want to avoid having to browse multiple websites individually.Shoppers that research and compare prices, features, and availability of products from different sources.\n",
      "\n",
      "0.5634536541327078\n",
      "Online merchants that investigate sources, such as auctions, estate sales, liquidators, wholesalers, or trade shows for new items, used items, or collectibles. \n",
      "Cosine Similarity: 0.5634536541327078, Person Cosine Similarity: 0.5029170851710837\n",
      "0.5468267375073363\n",
      "Online merchants that investigate products or markets to determine areas for opportunity or viability for merchandising specific products, using online or offline sources. \n",
      "Cosine Similarity: 0.5468267375073363, Person Cosine Similarity: 0.5028724838400901\n",
      "0.5233456861760692\n",
      "Online merchants that purchase new or used items from online or physical sources for resale via retail or auction web site. \n",
      "Cosine Similarity: 0.5233456861760692, Person Cosine Similarity: 0.5029170851710837\n",
      "***********************\n",
      "\n",
      "\n",
      "***********************\n",
      "Processing 23\n",
      "BriteLite\n",
      "Artificial Intelligence (AI), E-Commerce Platforms, FinTech, Internet, Marketing\n",
      "Next-generation Internet scale company operating AI driven vertical markets. BriteLite is a next-generation Internet scale company. It operates AI driven vertical markets where top participants use AI technology to achieve massive growth and reach market dominance at light speed.\n",
      "\n",
      "Processing Example: A startup founder in the e-commerce space uses BriteLite to analyze market trends and identify potential growth opportunities, leveraging AI-powered insights to refine their marketing strategy and target high-potential customer segments. \n",
      "Job: A startup founder in the e-commerce space uses BriteLite to analyze market trends and identify potential growth opportunities, leveraging AI-powered insights to refine their marketing strategy and target high-potential customer segments.Market Research Analyst that analyze market trends and consumer behavior to identify opportunities for product development, marketing, or sales.\n",
      "\n",
      "0.5896371101785003\n",
      "Business intelligence analysts that analyze technology trends to identify markets for future product development or to improve sales of existing products. \n",
      "Cosine Similarity: 0.5896371101785003, Person Cosine Similarity: 0.5301164903362259\n",
      "0.5701625224867983\n",
      "Business intelligence analysts that analyze competitive market strategies through analysis of related product, market, or share trends. \n",
      "Cosine Similarity: 0.5701625224867983, Person Cosine Similarity: 0.5301164903362259\n",
      "0.5556125758160038\n",
      "Search marketing strategists that conduct market research analysis to identify search query trends, real-time search and news media activity, popular social media topics, electronic commerce trends, market opportunities, or competitor performance. \n",
      "Cosine Similarity: 0.5556125758160038, Person Cosine Similarity: 0.47594214785562816\n",
      "***********************\n",
      "\n",
      "\n",
      "***********************\n",
      "Processing 24\n",
      "MediaBook\n",
      "Artificial Intelligence (AI), Marketplace, Media and Entertainment, SaaS, Social Media, Video, Video Streaming, Virtual Workforce\n",
      "MediaBook® is next-generation AI-enabled video-production-as-a-service empowering the masses to shoot “on location” from home or office. MediaBook® is a next-generation AI-enabled video-production-as-a-service company that empowers everyone  to shoot “on location” from home or office in broadcast quality - on all handheld devices,  no experience,  crew or post-production required. Our revolutionary new “Be Anywhere’ camera app enables users to do 'location shooting' at home or on the road,  to “be anywhere” on mobile devices - we provide the industry's only turnkey solution that includes a full suite of software applications that automates post-production. Our platform includes a patented camera app,  a patented portable line of Pop-up Studios,  and an endless stream of revenue from SaaS and the Be Anywhere Pop-up Studios and camera app. In addition to the suite of applications,  we developed a curated marketplace library of searchable location-based video loops in portrait and landscape for sale at MediaBook.tv where anyone can search using our AI engine to access location-based loops for creators to purchase as locations.\n",
      "\n",
      "Processing Example: A small business owner wants to create a video ad for their new product but doesn't have the budget or expertise for a traditional video shoot. \n",
      "Job: A small business owner wants to create a video ad for their new product but doesn't have the budget or expertise for a traditional video shoot.Marketing Specialist that create and edit video content for marketing campaigns.\n",
      "\n",
      "0.5627890049289732\n",
      "Search marketing strategists that execute or manage banner, video, or other non-text link ad campaigns. \n",
      "Cosine Similarity: 0.5627890049289732, Person Cosine Similarity: 0.6562960891759031\n",
      "0.5337202179803531\n",
      "Search marketing strategists that create content strategies for digital media. \n",
      "Cosine Similarity: 0.5337202179803531, Person Cosine Similarity: 0.6563096876466885\n",
      "0.527859476002632\n",
      "Search marketing strategists that conduct online marketing initiatives, such as paid ad placement, affiliate programs, sponsorship programs, email promotions, or viral marketing campaigns on social media web sites. \n",
      "Cosine Similarity: 0.527859476002632, Person Cosine Similarity: 0.6562640266581831\n",
      "***********************\n",
      "\n",
      "\n",
      "***********************\n",
      "Processing 25\n",
      "Autoket\n",
      "Artificial Intelligence (AI), Automotive, E-Commerce, E-Commerce Platforms, Machine Learning, SaaS, Supply Chain Management\n",
      "Autoket is an AI-powered B2B e-commerce marketplace operating in the automotive supply chain industry. Autoket is an AI-powered B2B marketplace that helps purchasing managers at auto repair shops buy quality parts from a database software of reputable auto part suppliers making the procurement process easy and efficient. We empower our auto shops and auto part suppliers so they can increase their sales while keeping valuable analytics at their fingertips. Our vision is to revolutionize the automotive supply chain industry.\n",
      "\n",
      "* Launched at the Founder Institute.\n",
      "\n",
      "Processing Example: A purchasing manager at a small auto repair shop is overwhelmed with finding the right parts for a variety of vehicles. They often have to spend hours researching different suppliers and comparing prices, leading to delays in repairs. \n",
      "Job: A purchasing manager at a small auto repair shop is overwhelmed with finding the right parts for a variety of vehicles. They often have to spend hours researching different suppliers and comparing prices, leading to delays in repairs.Purchasing Managers that identify and evaluate suppliers, products, or services.\n",
      "\n",
      "0.6578513141459608\n",
      "Purchasing managers that direct and coordinate activities of personnel engaged in buying, selling, and distributing materials, equipment, machinery, and supplies. \n",
      "Cosine Similarity: 0.6578513141459608, Person Cosine Similarity: 0.9999785761152215\n",
      "0.6529906878394542\n",
      "Purchasing managers that locate vendors of materials, equipment or supplies, and interview them to determine product availability and terms of sales. \n",
      "Cosine Similarity: 0.6529906878394542, Person Cosine Similarity: 0.9999990802826627\n",
      "0.6524110780891832\n",
      "Purchasing managers that prepare and process requisitions and purchase orders for supplies and equipment. \n",
      "Cosine Similarity: 0.6524110780891832, Person Cosine Similarity: 0.9999991714312473\n",
      "***********************\n",
      "\n",
      "\n",
      "***********************\n",
      "Processing 26\n",
      "REmoulade.AI\n",
      "Artificial Intelligence (AI), Marketplace, Real Estate, Residential, Software\n",
      "REmoulade.ai democratizes residential real estate, allowing American consumers to purchase by themselves at a fraction of the current cost. “The secret sauce to selling your home”\n",
      "\n",
      "Purchasing a home is the largest financial transaction that most Americans will make in their lifetime. REmoulade.ai empowers the American Real Estate consumer to complete this purchase on their own and at a fraction of the current cost.\n",
      "\n",
      "Our Mission: Our mission is to reduce the costs of buying or selling residential Real Estate. In doing so,  we hope to reduce the barriers to entry for American home ownership.\n",
      "\n",
      "Processing Example: A first-time homebuyer is nervous about navigating the complex process of purchasing a house. They're looking for a way to manage the process themselves, without relying on a realtor, and save money in the process. \n",
      "Job: A first-time homebuyer is nervous about navigating the complex process of purchasing a house. They're looking for a way to manage the process themselves, without relying on a realtor, and save money in the process.Real Estate Agents that negotiate the terms of sale with the seller or seller's agent.\n",
      "\n",
      "0.5264157858116805\n",
      "Real estate sales agents that act as an intermediary in negotiations between buyers and sellers, generally representing one or the other. \n",
      "Cosine Similarity: 0.5264157858116805, Person Cosine Similarity: 0.8690200875946285\n",
      "0.514490151304933\n",
      "Real estate sales agents that evaluate mortgage options to help clients obtain financing at the best prevailing rates and terms. \n",
      "Cosine Similarity: 0.514490151304933, Person Cosine Similarity: 0.8690200875946285\n",
      "0.504568384737644\n",
      "Real estate brokers that act as an intermediary in negotiations between buyers and sellers over property prices and settlement details and during the closing of sales. \n",
      "Cosine Similarity: 0.504568384737644, Person Cosine Similarity: 0.8248883562212931\n",
      "***********************\n",
      "\n",
      "\n",
      "***********************\n",
      "Processing 27\n",
      "RealM Technologies, Inc.\n",
      "3D Technology, Advertising, Artificial Intelligence (AI), E-Commerce, Real Estate, Retail, Software, Virtual Reality\n",
      "Revolutionizing housing experience with emotionally fulfilling&customizable living spaces, enhancing lifestyle and community connections. —\n",
      "\n",
      "Processing Example: A homeowner uses the platform to design their dream home, incorporating personalized features, selecting materials, and visualizing the finished space in 3D. They can then collaborate with an architect or interior designer to refine the design and obtain quotes. \n",
      "Job: A homeowner uses the platform to design their dream home, incorporating personalized features, selecting materials, and visualizing the finished space in 3D. They can then collaborate with an architect or interior designer to refine the design and obtain quotes.Interior Designers that develop interior design plans, specifications, or contract documents.\n",
      "\n",
      "0.5334743589852446\n",
      "Interior designers that review and detail shop drawings for construction plans. \n",
      "Cosine Similarity: 0.5334743589852446, Person Cosine Similarity: 0.9999991870213562\n",
      "0.5325301488501719\n",
      "Interior designers that use computer-aided drafting (cad) and related software to produce construction documents. \n",
      "Cosine Similarity: 0.5325301488501719, Person Cosine Similarity: 0.9999991870213562\n",
      "0.5323073324342241\n",
      "Interior designers that render design ideas in form of paste-ups or drawings. \n",
      "Cosine Similarity: 0.5323073324342241, Person Cosine Similarity: 0.9999991334937186\n",
      "***********************\n",
      "\n",
      "\n",
      "***********************\n",
      "Processing 28\n",
      "Robozaps\n",
      "Artificial Intelligence (AI), Marketplace, Robotics\n",
      "The world's #1 marketplace for humanoid robots Robozaps is a marketplace to buy and sell humanoid robots. Some of the brands include Tesla Optimus,  Figure AI,  UBTECH,  and Boston Dynamics\n",
      "\n",
      "Processing Example: A robotics research lab needs a new humanoid robot for their research project on human-robot interaction. They need a robot with specific capabilities like advanced AI and dexterity for complex tasks. \n",
      "Job: A robotics research lab needs a new humanoid robot for their research project on human-robot interaction. They need a robot with specific capabilities like advanced AI and dexterity for complex tasks.Research Scientists that research and procure scientific equipment or supplies.\n",
      "\n",
      "0.5614472918226022\n",
      "Robotics engineers that conduct research on robotic technology to create new robotic systems or system capabilities. \n",
      "Cosine Similarity: 0.5614472918226022, Person Cosine Similarity: 0.4510035523152989\n",
      "0.5479229487101546\n",
      "Robotics engineers that conduct research into the feasibility, design, operation, or performance of robotic mechanisms, components, or systems, such as planetary rovers, multiple mobile robots, reconfigurable robots, or man-machine interactions. \n",
      "Cosine Similarity: 0.5479229487101546, Person Cosine Similarity: 0.4510035523152989\n",
      "0.5155537702376825\n",
      "Robotics technicians that train robots, using artificial intelligence software or interactive training techniques, to perform simple or complex tasks, such as designing and carrying out a series of iterative tests of chemical samples. \n",
      "Cosine Similarity: 0.5155537702376825, Person Cosine Similarity: 0.3548195508182648\n",
      "***********************\n",
      "\n",
      "\n",
      "***********************\n",
      "Processing 29\n",
      "LANS\n",
      "Artificial Intelligence (AI), Marketplace\n",
      "marketplace for drop-in work spots LANS is a San Francisco-based company creating a marketplace for drop-in work spots.\n",
      "\n",
      "Processing Example: A freelance graphic designer needs a quiet place to work for a few hours while traveling for a conference. \n",
      "Job: A freelance graphic designer needs a quiet place to work for a few hours while traveling for a conference.Office and Administrative Support Workers that locate or arrange for office space or equipment.\n",
      "\n",
      "0.54747992833388\n",
      "Concierges that perform office duties on a temporary basis when needed. \n",
      "Cosine Similarity: 0.54747992833388, Person Cosine Similarity: 0.3284835687131924\n",
      "0.4995447195935385\n",
      "Secretaries and administrative assistants, except legal, medical, and executive that prepare conference or event materials, such as flyers or invitations. \n",
      "Cosine Similarity: 0.4995447195935385, Person Cosine Similarity: 0.6584081168032905\n",
      "0.4953125112003893\n",
      "Secretaries and administrative assistants, except legal, medical, and executive that arrange conference, meeting, or travel reservations for office personnel. \n",
      "Cosine Similarity: 0.4953125112003893, Person Cosine Similarity: 0.658229620841583\n",
      "***********************\n",
      "\n",
      "\n"
     ]
    }
   ],
   "source": [
    "\n",
    "results = []\n",
    "# results = list(pd.read_csv(\"../output/onet_df.csv\").values)\n",
    "\n",
    "for index, row in list(df.iterrows())[0:]:\n",
    "    print(\"***********************\")\n",
    "    print(f\"Processing {index}\")\n",
    "    name = row[\"organization name\"]\n",
    "    print(name)\n",
    "    print(row[\"industries\"])\n",
    "    print(row[\"description_all\"])\n",
    "        \n",
    "    job_results = []\n",
    "    for i in range(1): \n",
    "        example = row[f\"Example{i+1}\"]\n",
    "        description = row[f'Example_Description{i+1}']\n",
    "        job_title = row[f'Example_Job_Title{i+1}']\n",
    "        print(f\"\\nProcessing Example: {example} \\nJob: {description}\\n\")\n",
    "\n",
    "        job_embedding = np.array(row[f'Example_Description{i+1}_embedding']).reshape(1,-1)\n",
    "        job_title_embedding = np.array(row[f'Example_Job_Title{i+1}_embedding']).reshape(1,-1)\n",
    "        cosine_sim = cosine_similarity(job_embedding, task_embeddings)\n",
    "        \n",
    "        top3 = sorted(zip(cosine_sim[0], df_exp[['title', 'Task', 'description','title_embedding']].values), reverse=True)[:3]\n",
    "        for cosine_sim_job, onet in top3:\n",
    "            print(cosine_sim_job)\n",
    "            onet_title_embedding = np.array([onet[3]])\n",
    "            cosine_sim_title =cosine_similarity(job_title_embedding, onet_title_embedding)[0][0]\n",
    "            print(f\"{onet[2]} \\nCosine Similarity: {cosine_sim_job}, Person Cosine Similarity: {cosine_sim_title}\")\n",
    "            results.append([name,example,row[f\"situation{i+1}_conf_interval\"], row[f\"situation{i+1}_conf_interval_reasoning\"],job_title,onet[0],onet[1],job_title, cosine_sim_job,cosine_sim_title])\n",
    " \n",
    "\n",
    "    if index % 50 == 0:\n",
    "        print(\"**Saving Results**\\n\\n\")\n",
    "        onet_df = pd.DataFrame(results, columns=[\"organization_name\",\"example\",\"situation_conf_interval\", \"situation_conf_interval_reasoning\",\"job\",\"onet_title\",\"onet_task\",\"example_job_title\",\"task_similarity\", \"job_title_similarity\"])\n",
    "        onet_df.situation_conf_interval = onet_df.situation_conf_interval.astype(\"float\")\n",
    "        onet_df.to_csv(\"../../output/onet_df.csv\", index=False)\n",
    "        time.sleep(10)\n",
    "        \n",
    "    print(\"***********************\\n\\n\")\n",
    "\n",
    "\n",
    "onet_df = pd.DataFrame(results, columns=[\"organization_name\",\"example\",\"situation_conf_interval\", \"situation_conf_interval_reasoning\",\"job\",\"onet_title\",\"onet_task\",\"example_job_title\",\"task_similarity\", \"job_title_similarity\"])\n",
    "onet_df.situation_conf_interval = onet_df.situation_conf_interval.astype(\"float\")\n",
    "onet_df.to_csv(\"../../output/onet_df.csv\", index=False)"
   ]
  },
  {
   "cell_type": "code",
   "execution_count": null,
   "id": "806c0b4c-6c61-47a8-aac4-31fd8e26a86d",
   "metadata": {},
   "outputs": [
    {
     "data": {
      "text/plain": [
       "0.3624161073825503"
      ]
     },
     "execution_count": 219,
     "metadata": {},
     "output_type": "execute_result"
    }
   ],
   "source": [
    "len(pre[pre.automation_rating > 30])/len(pre)"
   ]
  },
  {
   "cell_type": "code",
   "execution_count": null,
   "id": "e892886e-8d2e-4af2-9a89-1bbc81060c6c",
   "metadata": {},
   "outputs": [
    {
     "data": {
      "text/plain": [
       "0.46621621621621623"
      ]
     },
     "execution_count": 220,
     "metadata": {},
     "output_type": "execute_result"
    }
   ],
   "source": [
    "len(post[post.automation_rating > 30])/len(post)"
   ]
  },
  {
   "cell_type": "code",
   "execution_count": null,
   "id": "53dff495-def9-48b8-af3f-51bfffae3b1c",
   "metadata": {},
   "outputs": [
    {
     "data": {
      "text/plain": [
       "array(['TYR Tactical', '2010-01-01', '101-250',\n",
       "       'Apparel,E-Commerce,Military,Wearables,—,Peoria', 'Arizona',\n",
       "       'United States',\n",
       "       'TYR Tactical provides a wide range of military gear such as shields, armor plates, vests, tactical apparel, bags and weapon accessories.',\n",
       "       'www.tyrtactical.com/',\n",
       "       'TYR Tactical provides a wide range of military gear such as shields, armor plates, vests, tactical apparel, bags and weapon accessories. Arizona',\n",
       "       \"Description: TYR Tactical is a leading provider of high-performance tactical gear and apparel, specializing in lightweight, durable equipment designed for military and law enforcement professionals. Their products include advanced body armor, tactical vests, shields, and a wide range of accessories to enhance performance and safety in demanding environments.\\n\\nConfidence Interval: 8\\n\\nReasoning:  This description is based on the information available on their website, emphasizing their focus on military and law enforcement clientele and their emphasis on performance and durability. However, I'm not able to assess the specifics of each individual product or their overall product line with certainty.\",\n",
       "       'TYR Tactical is a leading provider of high-performance tactical gear and apparel, specializing in lightweight, durable equipment designed for military and law enforcement professionals. Their products include advanced body armor, tactical vests, shields, and a wide range of accessories to enhance performance and safety in demanding environments.',\n",
       "       np.int64(8),\n",
       "       \"This description is based on the information available on their website, emphasizing their focus on military and law enforcement clientele and their emphasis on performance and durability. However, I'm not able to assess the specifics of each individual product or their overall product line with certainty.\",\n",
       "       \"Here's an analysis of TYR Tactical:\\n\\nDescription of TYR Tactical: TYR Tactical provides a wide range of military gear such as shields, armor plates, vests, tactical apparel, bags, and weapon accessories. Arizona\\n\\nRating: 1\\n\\nReasoning: TYR Tactical's products are designed to enhance the capabilities of military personnel, not replace them.  The gear is used by humans in a very hands-on, active way. \\n\\nONET Job: N/A \\n\\nExplanation: \\n\\n No Job Replacement: TYR Tactical's products are tools that assist military personnel in performing their duties.  They don't automate tasks or replace human decision-making. \\n Focus on Enhancement: The gear is designed to provide protection, improve mobility, and enhance tactical effectiveness. This is a direct support function, not an automation function.\",\n",
       "       np.int64(1),\n",
       "       \"TYR Tactical's products are designed to enhance the capabilities of military personnel, not replace them. The gear is used by humans in a very hands-on, active way. ONET Job: N/A Explanation: No Job Replacement: TYR Tactical's products are tools that assist military personnel in performing their duties. They don't automate tasks or replace human decision-making. Focus on Enhancement: The gear is designed to provide protection, improve mobility, and enhance tactical effectiveness. This is a direct support function, not an automation function.\"],\n",
       "      dtype=object)"
      ]
     },
     "execution_count": 181,
     "metadata": {},
     "output_type": "execute_result"
    }
   ],
   "source": [
    "pre[pre.automation_rating == 1].iloc[0].values"
   ]
  },
  {
   "cell_type": "code",
   "execution_count": null,
   "id": "73e8b572-41ab-4656-b2a9-b2404e8277ee",
   "metadata": {},
   "outputs": [
    {
     "data": {
      "text/plain": [
       "organization name                                                                          Jetlore\n",
       "founded date                                                                            2011-01-01\n",
       "number of employees                                                                          11-50\n",
       "industries                                       Artificial Intelligence (AI),Big Data,E-Commer...\n",
       "full description                                                                        California\n",
       "headquarters location                                                                United States\n",
       "description                                      Jetlore offers an AI-powered prediction platfo...\n",
       "website                                                                            www.jetlore.com\n",
       "description_all                                  Jetlore offers an AI-powered prediction platfo...\n",
       "generated_description_llm                        Description (in two sentences): Jetlore levera...\n",
       "generated_description                            Jetlore leverages artificial intelligence to p...\n",
       "generated_description_conf_interval                                                              8\n",
       "generated_description_conf_interval_reasoning    Based on the website and its description, Jetl...\n",
       "automation_rating_llm                            Jetlore Analysis\\n\\nDescription of Jetlore: Je...\n",
       "automation_rating                                                                               75\n",
       "automation_rating_reasoning                      Jetlore's AI-powered prediction platform can a...\n",
       "Name: 0, dtype: object"
      ]
     },
     "execution_count": 144,
     "metadata": {},
     "output_type": "execute_result"
    }
   ],
   "source": [
    "df.iloc[0]"
   ]
  },
  {
   "cell_type": "code",
   "execution_count": null,
   "id": "bed992ae-1332-48da-aa0a-ffe06922ed07",
   "metadata": {},
   "outputs": [],
   "source": [
    "\n",
    "# words = [\"task\", \" AI \", \"automate\", \"workflow\", \"streamline\",\"productivity\", \"generate\", \"data\"]\n",
    "# pattern = '|'.join(words)\n",
    "# df = df[df.generated_description.str.contains(pattern, case=False, na=False)]"
   ]
  },
  {
   "cell_type": "code",
   "execution_count": null,
   "id": "0c9bc3d5-e324-48bf-9fc8-3477a29caa20",
   "metadata": {},
   "outputs": [
    {
     "data": {
      "text/plain": [
       "13131"
      ]
     },
     "execution_count": 89,
     "metadata": {},
     "output_type": "execute_result"
    }
   ],
   "source": [
    "# Load and process the data\n",
    "df = pd.read_csv(\"../output/df_with_filter.csv\")\n",
    "df['founded date'] = pd.to_datetime(df['founded date'])\n",
    "df['year'] = df['founded date'].dt.year\n",
    "df[\"AI startup\"] = df['industries'].str.contains(r'\\(AI\\)', na=False)\n",
    "len(df)"
   ]
  },
  {
   "cell_type": "code",
   "execution_count": null,
   "id": "caa4f816-a292-48cb-afd6-8ac6b32ac53f",
   "metadata": {},
   "outputs": [
    {
     "data": {
      "text/html": [
       "<div>\n",
       "<style scoped>\n",
       "    .dataframe tbody tr th:only-of-type {\n",
       "        vertical-align: middle;\n",
       "    }\n",
       "\n",
       "    .dataframe tbody tr th {\n",
       "        vertical-align: top;\n",
       "    }\n",
       "\n",
       "    .dataframe thead th {\n",
       "        text-align: right;\n",
       "    }\n",
       "</style>\n",
       "<table border=\"1\" class=\"dataframe\">\n",
       "  <thead>\n",
       "    <tr style=\"text-align: right;\">\n",
       "      <th></th>\n",
       "      <th>year</th>\n",
       "      <th>automation_rating</th>\n",
       "      <th>total number of startups</th>\n",
       "      <th>total number of AI startups</th>\n",
       "      <th>percent AI startups</th>\n",
       "      <th>percent of startups with rating above 70</th>\n",
       "    </tr>\n",
       "  </thead>\n",
       "  <tbody>\n",
       "    <tr>\n",
       "      <th>0</th>\n",
       "      <td>2010</td>\n",
       "      <td>23.045596</td>\n",
       "      <td>965</td>\n",
       "      <td>2</td>\n",
       "      <td>0.002073</td>\n",
       "      <td>0.095337</td>\n",
       "    </tr>\n",
       "    <tr>\n",
       "      <th>1</th>\n",
       "      <td>2011</td>\n",
       "      <td>25.663655</td>\n",
       "      <td>996</td>\n",
       "      <td>17</td>\n",
       "      <td>0.017068</td>\n",
       "      <td>0.111446</td>\n",
       "    </tr>\n",
       "    <tr>\n",
       "      <th>2</th>\n",
       "      <td>2012</td>\n",
       "      <td>26.236948</td>\n",
       "      <td>996</td>\n",
       "      <td>9</td>\n",
       "      <td>0.009036</td>\n",
       "      <td>0.142570</td>\n",
       "    </tr>\n",
       "    <tr>\n",
       "      <th>3</th>\n",
       "      <td>2013</td>\n",
       "      <td>26.156784</td>\n",
       "      <td>995</td>\n",
       "      <td>24</td>\n",
       "      <td>0.024121</td>\n",
       "      <td>0.139698</td>\n",
       "    </tr>\n",
       "    <tr>\n",
       "      <th>4</th>\n",
       "      <td>2014</td>\n",
       "      <td>27.043129</td>\n",
       "      <td>997</td>\n",
       "      <td>25</td>\n",
       "      <td>0.025075</td>\n",
       "      <td>0.134403</td>\n",
       "    </tr>\n",
       "    <tr>\n",
       "      <th>5</th>\n",
       "      <td>2015</td>\n",
       "      <td>26.671026</td>\n",
       "      <td>994</td>\n",
       "      <td>26</td>\n",
       "      <td>0.026157</td>\n",
       "      <td>0.150905</td>\n",
       "    </tr>\n",
       "    <tr>\n",
       "      <th>6</th>\n",
       "      <td>2016</td>\n",
       "      <td>27.864594</td>\n",
       "      <td>997</td>\n",
       "      <td>40</td>\n",
       "      <td>0.040120</td>\n",
       "      <td>0.159478</td>\n",
       "    </tr>\n",
       "    <tr>\n",
       "      <th>7</th>\n",
       "      <td>2017</td>\n",
       "      <td>27.824597</td>\n",
       "      <td>992</td>\n",
       "      <td>37</td>\n",
       "      <td>0.037298</td>\n",
       "      <td>0.156250</td>\n",
       "    </tr>\n",
       "    <tr>\n",
       "      <th>8</th>\n",
       "      <td>2018</td>\n",
       "      <td>27.751766</td>\n",
       "      <td>991</td>\n",
       "      <td>33</td>\n",
       "      <td>0.033300</td>\n",
       "      <td>0.163471</td>\n",
       "    </tr>\n",
       "    <tr>\n",
       "      <th>9</th>\n",
       "      <td>2019</td>\n",
       "      <td>27.400609</td>\n",
       "      <td>986</td>\n",
       "      <td>35</td>\n",
       "      <td>0.035497</td>\n",
       "      <td>0.154158</td>\n",
       "    </tr>\n",
       "    <tr>\n",
       "      <th>10</th>\n",
       "      <td>2020</td>\n",
       "      <td>29.867735</td>\n",
       "      <td>998</td>\n",
       "      <td>37</td>\n",
       "      <td>0.037074</td>\n",
       "      <td>0.163327</td>\n",
       "    </tr>\n",
       "    <tr>\n",
       "      <th>11</th>\n",
       "      <td>2021</td>\n",
       "      <td>29.530653</td>\n",
       "      <td>995</td>\n",
       "      <td>33</td>\n",
       "      <td>0.033166</td>\n",
       "      <td>0.152764</td>\n",
       "    </tr>\n",
       "    <tr>\n",
       "      <th>12</th>\n",
       "      <td>2022</td>\n",
       "      <td>34.485751</td>\n",
       "      <td>772</td>\n",
       "      <td>46</td>\n",
       "      <td>0.059585</td>\n",
       "      <td>0.209845</td>\n",
       "    </tr>\n",
       "    <tr>\n",
       "      <th>13</th>\n",
       "      <td>2023</td>\n",
       "      <td>38.632275</td>\n",
       "      <td>378</td>\n",
       "      <td>46</td>\n",
       "      <td>0.121693</td>\n",
       "      <td>0.296296</td>\n",
       "    </tr>\n",
       "    <tr>\n",
       "      <th>14</th>\n",
       "      <td>2024</td>\n",
       "      <td>33.367089</td>\n",
       "      <td>79</td>\n",
       "      <td>14</td>\n",
       "      <td>0.177215</td>\n",
       "      <td>0.215190</td>\n",
       "    </tr>\n",
       "  </tbody>\n",
       "</table>\n",
       "</div>"
      ],
      "text/plain": [
       "    year  automation_rating  total number of startups  \\\n",
       "0   2010          23.045596                       965   \n",
       "1   2011          25.663655                       996   \n",
       "2   2012          26.236948                       996   \n",
       "3   2013          26.156784                       995   \n",
       "4   2014          27.043129                       997   \n",
       "5   2015          26.671026                       994   \n",
       "6   2016          27.864594                       997   \n",
       "7   2017          27.824597                       992   \n",
       "8   2018          27.751766                       991   \n",
       "9   2019          27.400609                       986   \n",
       "10  2020          29.867735                       998   \n",
       "11  2021          29.530653                       995   \n",
       "12  2022          34.485751                       772   \n",
       "13  2023          38.632275                       378   \n",
       "14  2024          33.367089                        79   \n",
       "\n",
       "    total number of AI startups  percent AI startups  \\\n",
       "0                             2             0.002073   \n",
       "1                            17             0.017068   \n",
       "2                             9             0.009036   \n",
       "3                            24             0.024121   \n",
       "4                            25             0.025075   \n",
       "5                            26             0.026157   \n",
       "6                            40             0.040120   \n",
       "7                            37             0.037298   \n",
       "8                            33             0.033300   \n",
       "9                            35             0.035497   \n",
       "10                           37             0.037074   \n",
       "11                           33             0.033166   \n",
       "12                           46             0.059585   \n",
       "13                           46             0.121693   \n",
       "14                           14             0.177215   \n",
       "\n",
       "    percent of startups with rating above 70  \n",
       "0                                   0.095337  \n",
       "1                                   0.111446  \n",
       "2                                   0.142570  \n",
       "3                                   0.139698  \n",
       "4                                   0.134403  \n",
       "5                                   0.150905  \n",
       "6                                   0.159478  \n",
       "7                                   0.156250  \n",
       "8                                   0.163471  \n",
       "9                                   0.154158  \n",
       "10                                  0.163327  \n",
       "11                                  0.152764  \n",
       "12                                  0.209845  \n",
       "13                                  0.296296  \n",
       "14                                  0.215190  "
      ]
     },
     "execution_count": 90,
     "metadata": {},
     "output_type": "execute_result"
    }
   ],
   "source": [
    "grouped = df.groupby('year').agg({'automation_rating':'mean','organization name':'count','AI startup':'sum'}).reset_index().rename({'organization name':'total number of startups','AI startup':'total number of AI startups'},axis=1)\n",
    "greater = df[df.automation_rating > 60].groupby('year').agg({'organization name':'count'}).reset_index().rename({'organization name':'greater'},axis=1)\n",
    "grouped = grouped.merge(greater, on=\"year\")\n",
    "grouped[\"percent AI startups\"] = grouped[\"total number of AI startups\"]/grouped[\"total number of startups\"]\n",
    "grouped[\"percent of startups with rating above 70\"] = grouped[\"greater\"]/grouped[\"total number of startups\"]\n",
    "grouped = grouped.drop(columns=[\"greater\"])\n",
    "grouped"
   ]
  },
  {
   "cell_type": "code",
   "execution_count": null,
   "id": "74ee7e7b-5f80-49a4-891f-a58938f50332",
   "metadata": {},
   "outputs": [
    {
     "data": {
      "application/vnd.plotly.v1+json": {
       "config": {
        "plotlyServerURL": "https://plot.ly"
       },
       "data": [
        {
         "mode": "markers",
         "name": "Average Automation Rating",
         "type": "scatter",
         "x": [
          2010,
          2011,
          2012,
          2013,
          2014,
          2015,
          2016,
          2017,
          2018,
          2019,
          2020,
          2021,
          2022,
          2023,
          2024
         ],
         "y": [
          23.04559585492228,
          25.663654618473895,
          26.23694779116466,
          26.15678391959799,
          27.043129388164495,
          26.67102615694165,
          27.86459378134403,
          27.824596774193548,
          27.751765893037337,
          27.400608519269777,
          29.867735470941884,
          29.530653266331658,
          34.48575129533679,
          38.63227513227513,
          33.36708860759494
         ]
        },
        {
         "line": {
          "color": "firebrick",
          "width": 2
         },
         "mode": "lines",
         "name": "Smoothed Line",
         "type": "scatter",
         "x": [
          2010,
          2011,
          2012,
          2013,
          2014,
          2015,
          2016,
          2017,
          2018,
          2019,
          2020,
          2021,
          2022,
          2023,
          2024
         ],
         "y": [
          24.899737981128116,
          25.211690420694463,
          25.701467939561656,
          26.214125775674933,
          26.668404784076312,
          27.05665681908401,
          27.406018470055542,
          27.774700962295583,
          28.27271916408803,
          29.042503526772826,
          30.168425258490004,
          31.56502051812931,
          32.957787965592736,
          34.02490478460226,
          34.578042099344316
         ]
        }
       ],
       "layout": {
        "annotations": [
         {
          "font": {
           "size": 12
          },
          "showarrow": false,
          "text": "ChatGPT asked: Is the goal of the product of company to be used by a task & occupation in the US workforce?",
          "x": 0.5,
          "xanchor": "center",
          "xref": "paper",
          "y": -0.2,
          "yref": "paper"
         }
        ],
        "height": 600,
        "margin": {
         "b": 100,
         "l": 120,
         "r": 120,
         "t": 50
        },
        "template": {
         "data": {
          "bar": [
           {
            "error_x": {
             "color": "#2a3f5f"
            },
            "error_y": {
             "color": "#2a3f5f"
            },
            "marker": {
             "line": {
              "color": "#E5ECF6",
              "width": 0.5
             },
             "pattern": {
              "fillmode": "overlay",
              "size": 10,
              "solidity": 0.2
             }
            },
            "type": "bar"
           }
          ],
          "barpolar": [
           {
            "marker": {
             "line": {
              "color": "#E5ECF6",
              "width": 0.5
             },
             "pattern": {
              "fillmode": "overlay",
              "size": 10,
              "solidity": 0.2
             }
            },
            "type": "barpolar"
           }
          ],
          "carpet": [
           {
            "aaxis": {
             "endlinecolor": "#2a3f5f",
             "gridcolor": "white",
             "linecolor": "white",
             "minorgridcolor": "white",
             "startlinecolor": "#2a3f5f"
            },
            "baxis": {
             "endlinecolor": "#2a3f5f",
             "gridcolor": "white",
             "linecolor": "white",
             "minorgridcolor": "white",
             "startlinecolor": "#2a3f5f"
            },
            "type": "carpet"
           }
          ],
          "choropleth": [
           {
            "colorbar": {
             "outlinewidth": 0,
             "ticks": ""
            },
            "type": "choropleth"
           }
          ],
          "contour": [
           {
            "colorbar": {
             "outlinewidth": 0,
             "ticks": ""
            },
            "colorscale": [
             [
              0,
              "#0d0887"
             ],
             [
              0.1111111111111111,
              "#46039f"
             ],
             [
              0.2222222222222222,
              "#7201a8"
             ],
             [
              0.3333333333333333,
              "#9c179e"
             ],
             [
              0.4444444444444444,
              "#bd3786"
             ],
             [
              0.5555555555555556,
              "#d8576b"
             ],
             [
              0.6666666666666666,
              "#ed7953"
             ],
             [
              0.7777777777777778,
              "#fb9f3a"
             ],
             [
              0.8888888888888888,
              "#fdca26"
             ],
             [
              1,
              "#f0f921"
             ]
            ],
            "type": "contour"
           }
          ],
          "contourcarpet": [
           {
            "colorbar": {
             "outlinewidth": 0,
             "ticks": ""
            },
            "type": "contourcarpet"
           }
          ],
          "heatmap": [
           {
            "colorbar": {
             "outlinewidth": 0,
             "ticks": ""
            },
            "colorscale": [
             [
              0,
              "#0d0887"
             ],
             [
              0.1111111111111111,
              "#46039f"
             ],
             [
              0.2222222222222222,
              "#7201a8"
             ],
             [
              0.3333333333333333,
              "#9c179e"
             ],
             [
              0.4444444444444444,
              "#bd3786"
             ],
             [
              0.5555555555555556,
              "#d8576b"
             ],
             [
              0.6666666666666666,
              "#ed7953"
             ],
             [
              0.7777777777777778,
              "#fb9f3a"
             ],
             [
              0.8888888888888888,
              "#fdca26"
             ],
             [
              1,
              "#f0f921"
             ]
            ],
            "type": "heatmap"
           }
          ],
          "heatmapgl": [
           {
            "colorbar": {
             "outlinewidth": 0,
             "ticks": ""
            },
            "colorscale": [
             [
              0,
              "#0d0887"
             ],
             [
              0.1111111111111111,
              "#46039f"
             ],
             [
              0.2222222222222222,
              "#7201a8"
             ],
             [
              0.3333333333333333,
              "#9c179e"
             ],
             [
              0.4444444444444444,
              "#bd3786"
             ],
             [
              0.5555555555555556,
              "#d8576b"
             ],
             [
              0.6666666666666666,
              "#ed7953"
             ],
             [
              0.7777777777777778,
              "#fb9f3a"
             ],
             [
              0.8888888888888888,
              "#fdca26"
             ],
             [
              1,
              "#f0f921"
             ]
            ],
            "type": "heatmapgl"
           }
          ],
          "histogram": [
           {
            "marker": {
             "pattern": {
              "fillmode": "overlay",
              "size": 10,
              "solidity": 0.2
             }
            },
            "type": "histogram"
           }
          ],
          "histogram2d": [
           {
            "colorbar": {
             "outlinewidth": 0,
             "ticks": ""
            },
            "colorscale": [
             [
              0,
              "#0d0887"
             ],
             [
              0.1111111111111111,
              "#46039f"
             ],
             [
              0.2222222222222222,
              "#7201a8"
             ],
             [
              0.3333333333333333,
              "#9c179e"
             ],
             [
              0.4444444444444444,
              "#bd3786"
             ],
             [
              0.5555555555555556,
              "#d8576b"
             ],
             [
              0.6666666666666666,
              "#ed7953"
             ],
             [
              0.7777777777777778,
              "#fb9f3a"
             ],
             [
              0.8888888888888888,
              "#fdca26"
             ],
             [
              1,
              "#f0f921"
             ]
            ],
            "type": "histogram2d"
           }
          ],
          "histogram2dcontour": [
           {
            "colorbar": {
             "outlinewidth": 0,
             "ticks": ""
            },
            "colorscale": [
             [
              0,
              "#0d0887"
             ],
             [
              0.1111111111111111,
              "#46039f"
             ],
             [
              0.2222222222222222,
              "#7201a8"
             ],
             [
              0.3333333333333333,
              "#9c179e"
             ],
             [
              0.4444444444444444,
              "#bd3786"
             ],
             [
              0.5555555555555556,
              "#d8576b"
             ],
             [
              0.6666666666666666,
              "#ed7953"
             ],
             [
              0.7777777777777778,
              "#fb9f3a"
             ],
             [
              0.8888888888888888,
              "#fdca26"
             ],
             [
              1,
              "#f0f921"
             ]
            ],
            "type": "histogram2dcontour"
           }
          ],
          "mesh3d": [
           {
            "colorbar": {
             "outlinewidth": 0,
             "ticks": ""
            },
            "type": "mesh3d"
           }
          ],
          "parcoords": [
           {
            "line": {
             "colorbar": {
              "outlinewidth": 0,
              "ticks": ""
             }
            },
            "type": "parcoords"
           }
          ],
          "pie": [
           {
            "automargin": true,
            "type": "pie"
           }
          ],
          "scatter": [
           {
            "fillpattern": {
             "fillmode": "overlay",
             "size": 10,
             "solidity": 0.2
            },
            "type": "scatter"
           }
          ],
          "scatter3d": [
           {
            "line": {
             "colorbar": {
              "outlinewidth": 0,
              "ticks": ""
             }
            },
            "marker": {
             "colorbar": {
              "outlinewidth": 0,
              "ticks": ""
             }
            },
            "type": "scatter3d"
           }
          ],
          "scattercarpet": [
           {
            "marker": {
             "colorbar": {
              "outlinewidth": 0,
              "ticks": ""
             }
            },
            "type": "scattercarpet"
           }
          ],
          "scattergeo": [
           {
            "marker": {
             "colorbar": {
              "outlinewidth": 0,
              "ticks": ""
             }
            },
            "type": "scattergeo"
           }
          ],
          "scattergl": [
           {
            "marker": {
             "colorbar": {
              "outlinewidth": 0,
              "ticks": ""
             }
            },
            "type": "scattergl"
           }
          ],
          "scattermapbox": [
           {
            "marker": {
             "colorbar": {
              "outlinewidth": 0,
              "ticks": ""
             }
            },
            "type": "scattermapbox"
           }
          ],
          "scatterpolar": [
           {
            "marker": {
             "colorbar": {
              "outlinewidth": 0,
              "ticks": ""
             }
            },
            "type": "scatterpolar"
           }
          ],
          "scatterpolargl": [
           {
            "marker": {
             "colorbar": {
              "outlinewidth": 0,
              "ticks": ""
             }
            },
            "type": "scatterpolargl"
           }
          ],
          "scatterternary": [
           {
            "marker": {
             "colorbar": {
              "outlinewidth": 0,
              "ticks": ""
             }
            },
            "type": "scatterternary"
           }
          ],
          "surface": [
           {
            "colorbar": {
             "outlinewidth": 0,
             "ticks": ""
            },
            "colorscale": [
             [
              0,
              "#0d0887"
             ],
             [
              0.1111111111111111,
              "#46039f"
             ],
             [
              0.2222222222222222,
              "#7201a8"
             ],
             [
              0.3333333333333333,
              "#9c179e"
             ],
             [
              0.4444444444444444,
              "#bd3786"
             ],
             [
              0.5555555555555556,
              "#d8576b"
             ],
             [
              0.6666666666666666,
              "#ed7953"
             ],
             [
              0.7777777777777778,
              "#fb9f3a"
             ],
             [
              0.8888888888888888,
              "#fdca26"
             ],
             [
              1,
              "#f0f921"
             ]
            ],
            "type": "surface"
           }
          ],
          "table": [
           {
            "cells": {
             "fill": {
              "color": "#EBF0F8"
             },
             "line": {
              "color": "white"
             }
            },
            "header": {
             "fill": {
              "color": "#C8D4E3"
             },
             "line": {
              "color": "white"
             }
            },
            "type": "table"
           }
          ]
         },
         "layout": {
          "annotationdefaults": {
           "arrowcolor": "#2a3f5f",
           "arrowhead": 0,
           "arrowwidth": 1
          },
          "autotypenumbers": "strict",
          "coloraxis": {
           "colorbar": {
            "outlinewidth": 0,
            "ticks": ""
           }
          },
          "colorscale": {
           "diverging": [
            [
             0,
             "#8e0152"
            ],
            [
             0.1,
             "#c51b7d"
            ],
            [
             0.2,
             "#de77ae"
            ],
            [
             0.3,
             "#f1b6da"
            ],
            [
             0.4,
             "#fde0ef"
            ],
            [
             0.5,
             "#f7f7f7"
            ],
            [
             0.6,
             "#e6f5d0"
            ],
            [
             0.7,
             "#b8e186"
            ],
            [
             0.8,
             "#7fbc41"
            ],
            [
             0.9,
             "#4d9221"
            ],
            [
             1,
             "#276419"
            ]
           ],
           "sequential": [
            [
             0,
             "#0d0887"
            ],
            [
             0.1111111111111111,
             "#46039f"
            ],
            [
             0.2222222222222222,
             "#7201a8"
            ],
            [
             0.3333333333333333,
             "#9c179e"
            ],
            [
             0.4444444444444444,
             "#bd3786"
            ],
            [
             0.5555555555555556,
             "#d8576b"
            ],
            [
             0.6666666666666666,
             "#ed7953"
            ],
            [
             0.7777777777777778,
             "#fb9f3a"
            ],
            [
             0.8888888888888888,
             "#fdca26"
            ],
            [
             1,
             "#f0f921"
            ]
           ],
           "sequentialminus": [
            [
             0,
             "#0d0887"
            ],
            [
             0.1111111111111111,
             "#46039f"
            ],
            [
             0.2222222222222222,
             "#7201a8"
            ],
            [
             0.3333333333333333,
             "#9c179e"
            ],
            [
             0.4444444444444444,
             "#bd3786"
            ],
            [
             0.5555555555555556,
             "#d8576b"
            ],
            [
             0.6666666666666666,
             "#ed7953"
            ],
            [
             0.7777777777777778,
             "#fb9f3a"
            ],
            [
             0.8888888888888888,
             "#fdca26"
            ],
            [
             1,
             "#f0f921"
            ]
           ]
          },
          "colorway": [
           "#636efa",
           "#EF553B",
           "#00cc96",
           "#ab63fa",
           "#FFA15A",
           "#19d3f3",
           "#FF6692",
           "#B6E880",
           "#FF97FF",
           "#FECB52"
          ],
          "font": {
           "color": "#2a3f5f"
          },
          "geo": {
           "bgcolor": "white",
           "lakecolor": "white",
           "landcolor": "#E5ECF6",
           "showlakes": true,
           "showland": true,
           "subunitcolor": "white"
          },
          "hoverlabel": {
           "align": "left"
          },
          "hovermode": "closest",
          "mapbox": {
           "style": "light"
          },
          "paper_bgcolor": "white",
          "plot_bgcolor": "#E5ECF6",
          "polar": {
           "angularaxis": {
            "gridcolor": "white",
            "linecolor": "white",
            "ticks": ""
           },
           "bgcolor": "#E5ECF6",
           "radialaxis": {
            "gridcolor": "white",
            "linecolor": "white",
            "ticks": ""
           }
          },
          "scene": {
           "xaxis": {
            "backgroundcolor": "#E5ECF6",
            "gridcolor": "white",
            "gridwidth": 2,
            "linecolor": "white",
            "showbackground": true,
            "ticks": "",
            "zerolinecolor": "white"
           },
           "yaxis": {
            "backgroundcolor": "#E5ECF6",
            "gridcolor": "white",
            "gridwidth": 2,
            "linecolor": "white",
            "showbackground": true,
            "ticks": "",
            "zerolinecolor": "white"
           },
           "zaxis": {
            "backgroundcolor": "#E5ECF6",
            "gridcolor": "white",
            "gridwidth": 2,
            "linecolor": "white",
            "showbackground": true,
            "ticks": "",
            "zerolinecolor": "white"
           }
          },
          "shapedefaults": {
           "line": {
            "color": "#2a3f5f"
           }
          },
          "ternary": {
           "aaxis": {
            "gridcolor": "white",
            "linecolor": "white",
            "ticks": ""
           },
           "baxis": {
            "gridcolor": "white",
            "linecolor": "white",
            "ticks": ""
           },
           "bgcolor": "#E5ECF6",
           "caxis": {
            "gridcolor": "white",
            "linecolor": "white",
            "ticks": ""
           }
          },
          "title": {
           "x": 0.05
          },
          "xaxis": {
           "automargin": true,
           "gridcolor": "white",
           "linecolor": "white",
           "ticks": "",
           "title": {
            "standoff": 15
           },
           "zerolinecolor": "white",
           "zerolinewidth": 2
          },
          "yaxis": {
           "automargin": true,
           "gridcolor": "white",
           "linecolor": "white",
           "ticks": "",
           "title": {
            "standoff": 15
           },
           "zerolinecolor": "white",
           "zerolinewidth": 2
          }
         }
        },
        "title": {
         "text": "Average Automation Rating: 13K Ecommerce Startups"
        },
        "width": 800,
        "xaxis": {
         "autorange": true,
         "range": [
          2009.074804144554,
          2024.925195855446
         ],
         "title": {
          "text": "Year Founded"
         },
         "type": "linear"
        },
        "yaxis": {
         "autorange": true,
         "range": [
          22.016286846040487,
          39.66158414115692
         ],
         "title": {
          "text": "Mean Automation Rating for Year (1-100)"
         },
         "type": "linear"
        }
       }
      },
      "image/png": "[encoded data removed]",
      "text/html": [
       "<div>                            <div id=\"e0f0bcfd-191a-45c3-a4e5-1969fa049438\" class=\"plotly-graph-div\" style=\"height:600px; width:800px;\"></div>            <script type=\"text/javascript\">                require([\"plotly\"], function(Plotly) {                    window.PLOTLYENV=window.PLOTLYENV || {};                                    if (document.getElementById(\"e0f0bcfd-191a-45c3-a4e5-1969fa049438\")) {                    Plotly.newPlot(                        \"e0f0bcfd-191a-45c3-a4e5-1969fa049438\",                        [{\"mode\":\"markers\",\"name\":\"Average Automation Rating\",\"x\":[2010,2011,2012,2013,2014,2015,2016,2017,2018,2019,2020,2021,2022,2023,2024],\"y\":[23.04559585492228,25.663654618473895,26.23694779116466,26.15678391959799,27.043129388164495,26.67102615694165,27.86459378134403,27.824596774193548,27.751765893037337,27.400608519269777,29.867735470941884,29.530653266331658,34.48575129533679,38.63227513227513,33.36708860759494],\"type\":\"scatter\"},{\"line\":{\"color\":\"firebrick\",\"width\":2},\"mode\":\"lines\",\"name\":\"Smoothed Line\",\"x\":[2010,2011,2012,2013,2014,2015,2016,2017,2018,2019,2020,2021,2022,2023,2024],\"y\":[24.899737981128116,25.211690420694463,25.701467939561656,26.214125775674933,26.668404784076312,27.05665681908401,27.406018470055542,27.774700962295583,28.27271916408803,29.042503526772826,30.168425258490004,31.56502051812931,32.957787965592736,34.02490478460226,34.578042099344316],\"type\":\"scatter\"}],                        {\"template\":{\"data\":{\"histogram2dcontour\":[{\"type\":\"histogram2dcontour\",\"colorbar\":{\"outlinewidth\":0,\"ticks\":\"\"},\"colorscale\":[[0.0,\"#0d0887\"],[0.1111111111111111,\"#46039f\"],[0.2222222222222222,\"#7201a8\"],[0.3333333333333333,\"#9c179e\"],[0.4444444444444444,\"#bd3786\"],[0.5555555555555556,\"#d8576b\"],[0.6666666666666666,\"#ed7953\"],[0.7777777777777778,\"#fb9f3a\"],[0.8888888888888888,\"#fdca26\"],[1.0,\"#f0f921\"]]}],\"choropleth\":[{\"type\":\"choropleth\",\"colorbar\":{\"outlinewidth\":0,\"ticks\":\"\"}}],\"histogram2d\":[{\"type\":\"histogram2d\",\"colorbar\":{\"outlinewidth\":0,\"ticks\":\"\"},\"colorscale\":[[0.0,\"#0d0887\"],[0.1111111111111111,\"#46039f\"],[0.2222222222222222,\"#7201a8\"],[0.3333333333333333,\"#9c179e\"],[0.4444444444444444,\"#bd3786\"],[0.5555555555555556,\"#d8576b\"],[0.6666666666666666,\"#ed7953\"],[0.7777777777777778,\"#fb9f3a\"],[0.8888888888888888,\"#fdca26\"],[1.0,\"#f0f921\"]]}],\"heatmap\":[{\"type\":\"heatmap\",\"colorbar\":{\"outlinewidth\":0,\"ticks\":\"\"},\"colorscale\":[[0.0,\"#0d0887\"],[0.1111111111111111,\"#46039f\"],[0.2222222222222222,\"#7201a8\"],[0.3333333333333333,\"#9c179e\"],[0.4444444444444444,\"#bd3786\"],[0.5555555555555556,\"#d8576b\"],[0.6666666666666666,\"#ed7953\"],[0.7777777777777778,\"#fb9f3a\"],[0.8888888888888888,\"#fdca26\"],[1.0,\"#f0f921\"]]}],\"heatmapgl\":[{\"type\":\"heatmapgl\",\"colorbar\":{\"outlinewidth\":0,\"ticks\":\"\"},\"colorscale\":[[0.0,\"#0d0887\"],[0.1111111111111111,\"#46039f\"],[0.2222222222222222,\"#7201a8\"],[0.3333333333333333,\"#9c179e\"],[0.4444444444444444,\"#bd3786\"],[0.5555555555555556,\"#d8576b\"],[0.6666666666666666,\"#ed7953\"],[0.7777777777777778,\"#fb9f3a\"],[0.8888888888888888,\"#fdca26\"],[1.0,\"#f0f921\"]]}],\"contourcarpet\":[{\"type\":\"contourcarpet\",\"colorbar\":{\"outlinewidth\":0,\"ticks\":\"\"}}],\"contour\":[{\"type\":\"contour\",\"colorbar\":{\"outlinewidth\":0,\"ticks\":\"\"},\"colorscale\":[[0.0,\"#0d0887\"],[0.1111111111111111,\"#46039f\"],[0.2222222222222222,\"#7201a8\"],[0.3333333333333333,\"#9c179e\"],[0.4444444444444444,\"#bd3786\"],[0.5555555555555556,\"#d8576b\"],[0.6666666666666666,\"#ed7953\"],[0.7777777777777778,\"#fb9f3a\"],[0.8888888888888888,\"#fdca26\"],[1.0,\"#f0f921\"]]}],\"surface\":[{\"type\":\"surface\",\"colorbar\":{\"outlinewidth\":0,\"ticks\":\"\"},\"colorscale\":[[0.0,\"#0d0887\"],[0.1111111111111111,\"#46039f\"],[0.2222222222222222,\"#7201a8\"],[0.3333333333333333,\"#9c179e\"],[0.4444444444444444,\"#bd3786\"],[0.5555555555555556,\"#d8576b\"],[0.6666666666666666,\"#ed7953\"],[0.7777777777777778,\"#fb9f3a\"],[0.8888888888888888,\"#fdca26\"],[1.0,\"#f0f921\"]]}],\"mesh3d\":[{\"type\":\"mesh3d\",\"colorbar\":{\"outlinewidth\":0,\"ticks\":\"\"}}],\"scatter\":[{\"fillpattern\":{\"fillmode\":\"overlay\",\"size\":10,\"solidity\":0.2},\"type\":\"scatter\"}],\"parcoords\":[{\"type\":\"parcoords\",\"line\":{\"colorbar\":{\"outlinewidth\":0,\"ticks\":\"\"}}}],\"scatterpolargl\":[{\"type\":\"scatterpolargl\",\"marker\":{\"colorbar\":{\"outlinewidth\":0,\"ticks\":\"\"}}}],\"bar\":[{\"error_x\":{\"color\":\"#2a3f5f\"},\"error_y\":{\"color\":\"#2a3f5f\"},\"marker\":{\"line\":{\"color\":\"#E5ECF6\",\"width\":0.5},\"pattern\":{\"fillmode\":\"overlay\",\"size\":10,\"solidity\":0.2}},\"type\":\"bar\"}],\"scattergeo\":[{\"type\":\"scattergeo\",\"marker\":{\"colorbar\":{\"outlinewidth\":0,\"ticks\":\"\"}}}],\"scatterpolar\":[{\"type\":\"scatterpolar\",\"marker\":{\"colorbar\":{\"outlinewidth\":0,\"ticks\":\"\"}}}],\"histogram\":[{\"marker\":{\"pattern\":{\"fillmode\":\"overlay\",\"size\":10,\"solidity\":0.2}},\"type\":\"histogram\"}],\"scattergl\":[{\"type\":\"scattergl\",\"marker\":{\"colorbar\":{\"outlinewidth\":0,\"ticks\":\"\"}}}],\"scatter3d\":[{\"type\":\"scatter3d\",\"line\":{\"colorbar\":{\"outlinewidth\":0,\"ticks\":\"\"}},\"marker\":{\"colorbar\":{\"outlinewidth\":0,\"ticks\":\"\"}}}],\"scattermapbox\":[{\"type\":\"scattermapbox\",\"marker\":{\"colorbar\":{\"outlinewidth\":0,\"ticks\":\"\"}}}],\"scatterternary\":[{\"type\":\"scatterternary\",\"marker\":{\"colorbar\":{\"outlinewidth\":0,\"ticks\":\"\"}}}],\"scattercarpet\":[{\"type\":\"scattercarpet\",\"marker\":{\"colorbar\":{\"outlinewidth\":0,\"ticks\":\"\"}}}],\"carpet\":[{\"aaxis\":{\"endlinecolor\":\"#2a3f5f\",\"gridcolor\":\"white\",\"linecolor\":\"white\",\"minorgridcolor\":\"white\",\"startlinecolor\":\"#2a3f5f\"},\"baxis\":{\"endlinecolor\":\"#2a3f5f\",\"gridcolor\":\"white\",\"linecolor\":\"white\",\"minorgridcolor\":\"white\",\"startlinecolor\":\"#2a3f5f\"},\"type\":\"carpet\"}],\"table\":[{\"cells\":{\"fill\":{\"color\":\"#EBF0F8\"},\"line\":{\"color\":\"white\"}},\"header\":{\"fill\":{\"color\":\"#C8D4E3\"},\"line\":{\"color\":\"white\"}},\"type\":\"table\"}],\"barpolar\":[{\"marker\":{\"line\":{\"color\":\"#E5ECF6\",\"width\":0.5},\"pattern\":{\"fillmode\":\"overlay\",\"size\":10,\"solidity\":0.2}},\"type\":\"barpolar\"}],\"pie\":[{\"automargin\":true,\"type\":\"pie\"}]},\"layout\":{\"autotypenumbers\":\"strict\",\"colorway\":[\"#636efa\",\"#EF553B\",\"#00cc96\",\"#ab63fa\",\"#FFA15A\",\"#19d3f3\",\"#FF6692\",\"#B6E880\",\"#FF97FF\",\"#FECB52\"],\"font\":{\"color\":\"#2a3f5f\"},\"hovermode\":\"closest\",\"hoverlabel\":{\"align\":\"left\"},\"paper_bgcolor\":\"white\",\"plot_bgcolor\":\"#E5ECF6\",\"polar\":{\"bgcolor\":\"#E5ECF6\",\"angularaxis\":{\"gridcolor\":\"white\",\"linecolor\":\"white\",\"ticks\":\"\"},\"radialaxis\":{\"gridcolor\":\"white\",\"linecolor\":\"white\",\"ticks\":\"\"}},\"ternary\":{\"bgcolor\":\"#E5ECF6\",\"aaxis\":{\"gridcolor\":\"white\",\"linecolor\":\"white\",\"ticks\":\"\"},\"baxis\":{\"gridcolor\":\"white\",\"linecolor\":\"white\",\"ticks\":\"\"},\"caxis\":{\"gridcolor\":\"white\",\"linecolor\":\"white\",\"ticks\":\"\"}},\"coloraxis\":{\"colorbar\":{\"outlinewidth\":0,\"ticks\":\"\"}},\"colorscale\":{\"sequential\":[[0.0,\"#0d0887\"],[0.1111111111111111,\"#46039f\"],[0.2222222222222222,\"#7201a8\"],[0.3333333333333333,\"#9c179e\"],[0.4444444444444444,\"#bd3786\"],[0.5555555555555556,\"#d8576b\"],[0.6666666666666666,\"#ed7953\"],[0.7777777777777778,\"#fb9f3a\"],[0.8888888888888888,\"#fdca26\"],[1.0,\"#f0f921\"]],\"sequentialminus\":[[0.0,\"#0d0887\"],[0.1111111111111111,\"#46039f\"],[0.2222222222222222,\"#7201a8\"],[0.3333333333333333,\"#9c179e\"],[0.4444444444444444,\"#bd3786\"],[0.5555555555555556,\"#d8576b\"],[0.6666666666666666,\"#ed7953\"],[0.7777777777777778,\"#fb9f3a\"],[0.8888888888888888,\"#fdca26\"],[1.0,\"#f0f921\"]],\"diverging\":[[0,\"#8e0152\"],[0.1,\"#c51b7d\"],[0.2,\"#de77ae\"],[0.3,\"#f1b6da\"],[0.4,\"#fde0ef\"],[0.5,\"#f7f7f7\"],[0.6,\"#e6f5d0\"],[0.7,\"#b8e186\"],[0.8,\"#7fbc41\"],[0.9,\"#4d9221\"],[1,\"#276419\"]]},\"xaxis\":{\"gridcolor\":\"white\",\"linecolor\":\"white\",\"ticks\":\"\",\"title\":{\"standoff\":15},\"zerolinecolor\":\"white\",\"automargin\":true,\"zerolinewidth\":2},\"yaxis\":{\"gridcolor\":\"white\",\"linecolor\":\"white\",\"ticks\":\"\",\"title\":{\"standoff\":15},\"zerolinecolor\":\"white\",\"automargin\":true,\"zerolinewidth\":2},\"scene\":{\"xaxis\":{\"backgroundcolor\":\"#E5ECF6\",\"gridcolor\":\"white\",\"linecolor\":\"white\",\"showbackground\":true,\"ticks\":\"\",\"zerolinecolor\":\"white\",\"gridwidth\":2},\"yaxis\":{\"backgroundcolor\":\"#E5ECF6\",\"gridcolor\":\"white\",\"linecolor\":\"white\",\"showbackground\":true,\"ticks\":\"\",\"zerolinecolor\":\"white\",\"gridwidth\":2},\"zaxis\":{\"backgroundcolor\":\"#E5ECF6\",\"gridcolor\":\"white\",\"linecolor\":\"white\",\"showbackground\":true,\"ticks\":\"\",\"zerolinecolor\":\"white\",\"gridwidth\":2}},\"shapedefaults\":{\"line\":{\"color\":\"#2a3f5f\"}},\"annotationdefaults\":{\"arrowcolor\":\"#2a3f5f\",\"arrowhead\":0,\"arrowwidth\":1},\"geo\":{\"bgcolor\":\"white\",\"landcolor\":\"#E5ECF6\",\"subunitcolor\":\"white\",\"showland\":true,\"showlakes\":true,\"lakecolor\":\"white\"},\"title\":{\"x\":0.05},\"mapbox\":{\"style\":\"light\"}}},\"margin\":{\"l\":120,\"r\":120,\"t\":50,\"b\":100},\"title\":{\"text\":\"Average Automation Rating: 13K Ecommerce Startups\"},\"xaxis\":{\"title\":{\"text\":\"Year Founded\"}},\"yaxis\":{\"title\":{\"text\":\"Mean Automation Rating for Year (1-100)\"}},\"width\":800,\"height\":600,\"annotations\":[{\"font\":{\"size\":12},\"showarrow\":false,\"text\":\"ChatGPT asked: Is the goal of the product of company to be used by a task & occupation in the US workforce?\",\"x\":0.5,\"xanchor\":\"center\",\"xref\":\"paper\",\"y\":-0.2,\"yref\":\"paper\"}]},                        {\"responsive\": true}                    ).then(function(){\n",
       "                            \n",
       "var gd = document.getElementById('e0f0bcfd-191a-45c3-a4e5-1969fa049438');\n",
       "var x = new MutationObserver(function (mutations, observer) {{\n",
       "        var display = window.getComputedStyle(gd).display;\n",
       "        if (!display || display === 'none') {{\n",
       "            console.log([gd, 'removed!']);\n",
       "            Plotly.purge(gd);\n",
       "            observer.disconnect();\n",
       "        }}\n",
       "}});\n",
       "\n",
       "// Listen for the removal of the full notebook cells\n",
       "var notebookContainer = gd.closest('#notebook-container');\n",
       "if (notebookContainer) {{\n",
       "    x.observe(notebookContainer, {childList: true});\n",
       "}}\n",
       "\n",
       "// Listen for the clearing of the current output cell\n",
       "var outputEl = gd.closest('.output');\n",
       "if (outputEl) {{\n",
       "    x.observe(outputEl, {childList: true});\n",
       "}}\n",
       "\n",
       "                        })                };                });            </script>        </div>"
      ]
     },
     "metadata": {},
     "output_type": "display_data"
    }
   ],
   "source": [
    "import plotly.express as px\n",
    "import plotly.graph_objects as go\n",
    "import pandas as pd\n",
    "import numpy as np\n",
    "from scipy.ndimage import gaussian_filter1d\n",
    "import plotly.io as pio\n",
    "\n",
    "# Apply Gaussian smoothing\n",
    "smoothed_ratings = gaussian_filter1d(grouped['automation_rating'], sigma=2)\n",
    "\n",
    "# Create the figure\n",
    "fig = go.Figure()\n",
    "\n",
    "# Add the scatter plot\n",
    "fig.add_trace(go.Scatter(\n",
    "    x=grouped[\"year\"], \n",
    "    y=grouped[\"automation_rating\"], \n",
    "    mode='markers', \n",
    "    name='Average Automation Rating'\n",
    "))\n",
    "\n",
    "# Add the smooth line\n",
    "fig.add_trace(go.Scatter(\n",
    "    x=grouped[\"year\"], \n",
    "    y=smoothed_ratings, \n",
    "    mode='lines', \n",
    "    name='Smoothed Line',\n",
    "    line=dict(color='firebrick', width=2)\n",
    "))\n",
    "\n",
    "# Update layout with titles and dimensions\n",
    "fig.update_layout(\n",
    "    title=\"Average Automation Rating: 13K Ecommerce Startups\",\n",
    "    xaxis_title=\"Year Founded\",\n",
    "    yaxis_title=\"Mean Automation Rating for Year (1-100)\",\n",
    "    width=800,\n",
    "    height=600,\n",
    "    margin=dict(l=120, r=120, t=50, b=100) \n",
    ")\n",
    "\n",
    "# Add the annotation for the caption\n",
    "fig.add_annotation(\n",
    "    text=\"ChatGPT asked: Is the goal of the product of company to be used by a task & occupation in the US workforce?\",\n",
    "    xref=\"paper\", yref=\"paper\",\n",
    "    x=0.5, y=-0.2,\n",
    "    showarrow=False,\n",
    "    font=dict(size=12),\n",
    "    xanchor='center'\n",
    ")\n",
    "\n",
    "# Show the plot\n",
    "fig.show()\n",
    "pio.write_image(fig, '../output/automation_rating_over_years.png')"
   ]
  },
  {
   "cell_type": "code",
   "execution_count": null,
   "id": "ecc048b4-bf91-4a54-83fc-39339dd9789b",
   "metadata": {},
   "outputs": [
    {
     "data": {
      "application/vnd.plotly.v1+json": {
       "config": {
        "plotlyServerURL": "https://plot.ly"
       },
       "data": [
        {
         "mode": "markers",
         "name": "Percent with rating above 70",
         "type": "scatter",
         "x": [
          2010,
          2011,
          2012,
          2013,
          2014,
          2015,
          2016,
          2017,
          2018,
          2019,
          2020,
          2021,
          2022,
          2023,
          2024
         ],
         "y": [
          0.09533678756476684,
          0.11144578313253012,
          0.142570281124498,
          0.13969849246231156,
          0.13440320962888666,
          0.15090543259557343,
          0.15947843530591777,
          0.15625,
          0.16347124117053483,
          0.15415821501014199,
          0.16332665330661322,
          0.1527638190954774,
          0.20984455958549222,
          0.2962962962962963,
          0.21518987341772153
         ]
        },
        {
         "line": {
          "color": "firebrick",
          "width": 2
         },
         "mode": "lines",
         "name": "Smoothed Line",
         "type": "scatter",
         "x": [
          2010,
          2011,
          2012,
          2013,
          2014,
          2015,
          2016,
          2017,
          2018,
          2019,
          2020,
          2021,
          2022,
          2023,
          2024
         ],
         "y": [
          0.11517800412188547,
          0.1198152312978902,
          0.12714339030520805,
          0.1348768420487717,
          0.14178135860218863,
          0.14761736455129087,
          0.15239407895015267,
          0.15625224702454765,
          0.16004829925096634,
          0.1657189083888309,
          0.17553199120538823,
          0.1901523317739053,
          0.20709280194365084,
          0.2216720510002098,
          0.22986417923187533
         ]
        }
       ],
       "layout": {
        "annotations": [
         {
          "font": {
           "size": 12
          },
          "showarrow": false,
          "text": "ChatGPT asked: Is the goal of the product of company to be used by a task & occupation in the US workforce?",
          "x": 0.5,
          "xanchor": "center",
          "xref": "paper",
          "y": -0.2,
          "yref": "paper"
         }
        ],
        "height": 600,
        "margin": {
         "b": 100,
         "l": 120,
         "r": 120,
         "t": 50
        },
        "template": {
         "data": {
          "bar": [
           {
            "error_x": {
             "color": "#2a3f5f"
            },
            "error_y": {
             "color": "#2a3f5f"
            },
            "marker": {
             "line": {
              "color": "#E5ECF6",
              "width": 0.5
             },
             "pattern": {
              "fillmode": "overlay",
              "size": 10,
              "solidity": 0.2
             }
            },
            "type": "bar"
           }
          ],
          "barpolar": [
           {
            "marker": {
             "line": {
              "color": "#E5ECF6",
              "width": 0.5
             },
             "pattern": {
              "fillmode": "overlay",
              "size": 10,
              "solidity": 0.2
             }
            },
            "type": "barpolar"
           }
          ],
          "carpet": [
           {
            "aaxis": {
             "endlinecolor": "#2a3f5f",
             "gridcolor": "white",
             "linecolor": "white",
             "minorgridcolor": "white",
             "startlinecolor": "#2a3f5f"
            },
            "baxis": {
             "endlinecolor": "#2a3f5f",
             "gridcolor": "white",
             "linecolor": "white",
             "minorgridcolor": "white",
             "startlinecolor": "#2a3f5f"
            },
            "type": "carpet"
           }
          ],
          "choropleth": [
           {
            "colorbar": {
             "outlinewidth": 0,
             "ticks": ""
            },
            "type": "choropleth"
           }
          ],
          "contour": [
           {
            "colorbar": {
             "outlinewidth": 0,
             "ticks": ""
            },
            "colorscale": [
             [
              0,
              "#0d0887"
             ],
             [
              0.1111111111111111,
              "#46039f"
             ],
             [
              0.2222222222222222,
              "#7201a8"
             ],
             [
              0.3333333333333333,
              "#9c179e"
             ],
             [
              0.4444444444444444,
              "#bd3786"
             ],
             [
              0.5555555555555556,
              "#d8576b"
             ],
             [
              0.6666666666666666,
              "#ed7953"
             ],
             [
              0.7777777777777778,
              "#fb9f3a"
             ],
             [
              0.8888888888888888,
              "#fdca26"
             ],
             [
              1,
              "#f0f921"
             ]
            ],
            "type": "contour"
           }
          ],
          "contourcarpet": [
           {
            "colorbar": {
             "outlinewidth": 0,
             "ticks": ""
            },
            "type": "contourcarpet"
           }
          ],
          "heatmap": [
           {
            "colorbar": {
             "outlinewidth": 0,
             "ticks": ""
            },
            "colorscale": [
             [
              0,
              "#0d0887"
             ],
             [
              0.1111111111111111,
              "#46039f"
             ],
             [
              0.2222222222222222,
              "#7201a8"
             ],
             [
              0.3333333333333333,
              "#9c179e"
             ],
             [
              0.4444444444444444,
              "#bd3786"
             ],
             [
              0.5555555555555556,
              "#d8576b"
             ],
             [
              0.6666666666666666,
              "#ed7953"
             ],
             [
              0.7777777777777778,
              "#fb9f3a"
             ],
             [
              0.8888888888888888,
              "#fdca26"
             ],
             [
              1,
              "#f0f921"
             ]
            ],
            "type": "heatmap"
           }
          ],
          "heatmapgl": [
           {
            "colorbar": {
             "outlinewidth": 0,
             "ticks": ""
            },
            "colorscale": [
             [
              0,
              "#0d0887"
             ],
             [
              0.1111111111111111,
              "#46039f"
             ],
             [
              0.2222222222222222,
              "#7201a8"
             ],
             [
              0.3333333333333333,
              "#9c179e"
             ],
             [
              0.4444444444444444,
              "#bd3786"
             ],
             [
              0.5555555555555556,
              "#d8576b"
             ],
             [
              0.6666666666666666,
              "#ed7953"
             ],
             [
              0.7777777777777778,
              "#fb9f3a"
             ],
             [
              0.8888888888888888,
              "#fdca26"
             ],
             [
              1,
              "#f0f921"
             ]
            ],
            "type": "heatmapgl"
           }
          ],
          "histogram": [
           {
            "marker": {
             "pattern": {
              "fillmode": "overlay",
              "size": 10,
              "solidity": 0.2
             }
            },
            "type": "histogram"
           }
          ],
          "histogram2d": [
           {
            "colorbar": {
             "outlinewidth": 0,
             "ticks": ""
            },
            "colorscale": [
             [
              0,
              "#0d0887"
             ],
             [
              0.1111111111111111,
              "#46039f"
             ],
             [
              0.2222222222222222,
              "#7201a8"
             ],
             [
              0.3333333333333333,
              "#9c179e"
             ],
             [
              0.4444444444444444,
              "#bd3786"
             ],
             [
              0.5555555555555556,
              "#d8576b"
             ],
             [
              0.6666666666666666,
              "#ed7953"
             ],
             [
              0.7777777777777778,
              "#fb9f3a"
             ],
             [
              0.8888888888888888,
              "#fdca26"
             ],
             [
              1,
              "#f0f921"
             ]
            ],
            "type": "histogram2d"
           }
          ],
          "histogram2dcontour": [
           {
            "colorbar": {
             "outlinewidth": 0,
             "ticks": ""
            },
            "colorscale": [
             [
              0,
              "#0d0887"
             ],
             [
              0.1111111111111111,
              "#46039f"
             ],
             [
              0.2222222222222222,
              "#7201a8"
             ],
             [
              0.3333333333333333,
              "#9c179e"
             ],
             [
              0.4444444444444444,
              "#bd3786"
             ],
             [
              0.5555555555555556,
              "#d8576b"
             ],
             [
              0.6666666666666666,
              "#ed7953"
             ],
             [
              0.7777777777777778,
              "#fb9f3a"
             ],
             [
              0.8888888888888888,
              "#fdca26"
             ],
             [
              1,
              "#f0f921"
             ]
            ],
            "type": "histogram2dcontour"
           }
          ],
          "mesh3d": [
           {
            "colorbar": {
             "outlinewidth": 0,
             "ticks": ""
            },
            "type": "mesh3d"
           }
          ],
          "parcoords": [
           {
            "line": {
             "colorbar": {
              "outlinewidth": 0,
              "ticks": ""
             }
            },
            "type": "parcoords"
           }
          ],
          "pie": [
           {
            "automargin": true,
            "type": "pie"
           }
          ],
          "scatter": [
           {
            "fillpattern": {
             "fillmode": "overlay",
             "size": 10,
             "solidity": 0.2
            },
            "type": "scatter"
           }
          ],
          "scatter3d": [
           {
            "line": {
             "colorbar": {
              "outlinewidth": 0,
              "ticks": ""
             }
            },
            "marker": {
             "colorbar": {
              "outlinewidth": 0,
              "ticks": ""
             }
            },
            "type": "scatter3d"
           }
          ],
          "scattercarpet": [
           {
            "marker": {
             "colorbar": {
              "outlinewidth": 0,
              "ticks": ""
             }
            },
            "type": "scattercarpet"
           }
          ],
          "scattergeo": [
           {
            "marker": {
             "colorbar": {
              "outlinewidth": 0,
              "ticks": ""
             }
            },
            "type": "scattergeo"
           }
          ],
          "scattergl": [
           {
            "marker": {
             "colorbar": {
              "outlinewidth": 0,
              "ticks": ""
             }
            },
            "type": "scattergl"
           }
          ],
          "scattermapbox": [
           {
            "marker": {
             "colorbar": {
              "outlinewidth": 0,
              "ticks": ""
             }
            },
            "type": "scattermapbox"
           }
          ],
          "scatterpolar": [
           {
            "marker": {
             "colorbar": {
              "outlinewidth": 0,
              "ticks": ""
             }
            },
            "type": "scatterpolar"
           }
          ],
          "scatterpolargl": [
           {
            "marker": {
             "colorbar": {
              "outlinewidth": 0,
              "ticks": ""
             }
            },
            "type": "scatterpolargl"
           }
          ],
          "scatterternary": [
           {
            "marker": {
             "colorbar": {
              "outlinewidth": 0,
              "ticks": ""
             }
            },
            "type": "scatterternary"
           }
          ],
          "surface": [
           {
            "colorbar": {
             "outlinewidth": 0,
             "ticks": ""
            },
            "colorscale": [
             [
              0,
              "#0d0887"
             ],
             [
              0.1111111111111111,
              "#46039f"
             ],
             [
              0.2222222222222222,
              "#7201a8"
             ],
             [
              0.3333333333333333,
              "#9c179e"
             ],
             [
              0.4444444444444444,
              "#bd3786"
             ],
             [
              0.5555555555555556,
              "#d8576b"
             ],
             [
              0.6666666666666666,
              "#ed7953"
             ],
             [
              0.7777777777777778,
              "#fb9f3a"
             ],
             [
              0.8888888888888888,
              "#fdca26"
             ],
             [
              1,
              "#f0f921"
             ]
            ],
            "type": "surface"
           }
          ],
          "table": [
           {
            "cells": {
             "fill": {
              "color": "#EBF0F8"
             },
             "line": {
              "color": "white"
             }
            },
            "header": {
             "fill": {
              "color": "#C8D4E3"
             },
             "line": {
              "color": "white"
             }
            },
            "type": "table"
           }
          ]
         },
         "layout": {
          "annotationdefaults": {
           "arrowcolor": "#2a3f5f",
           "arrowhead": 0,
           "arrowwidth": 1
          },
          "autotypenumbers": "strict",
          "coloraxis": {
           "colorbar": {
            "outlinewidth": 0,
            "ticks": ""
           }
          },
          "colorscale": {
           "diverging": [
            [
             0,
             "#8e0152"
            ],
            [
             0.1,
             "#c51b7d"
            ],
            [
             0.2,
             "#de77ae"
            ],
            [
             0.3,
             "#f1b6da"
            ],
            [
             0.4,
             "#fde0ef"
            ],
            [
             0.5,
             "#f7f7f7"
            ],
            [
             0.6,
             "#e6f5d0"
            ],
            [
             0.7,
             "#b8e186"
            ],
            [
             0.8,
             "#7fbc41"
            ],
            [
             0.9,
             "#4d9221"
            ],
            [
             1,
             "#276419"
            ]
           ],
           "sequential": [
            [
             0,
             "#0d0887"
            ],
            [
             0.1111111111111111,
             "#46039f"
            ],
            [
             0.2222222222222222,
             "#7201a8"
            ],
            [
             0.3333333333333333,
             "#9c179e"
            ],
            [
             0.4444444444444444,
             "#bd3786"
            ],
            [
             0.5555555555555556,
             "#d8576b"
            ],
            [
             0.6666666666666666,
             "#ed7953"
            ],
            [
             0.7777777777777778,
             "#fb9f3a"
            ],
            [
             0.8888888888888888,
             "#fdca26"
            ],
            [
             1,
             "#f0f921"
            ]
           ],
           "sequentialminus": [
            [
             0,
             "#0d0887"
            ],
            [
             0.1111111111111111,
             "#46039f"
            ],
            [
             0.2222222222222222,
             "#7201a8"
            ],
            [
             0.3333333333333333,
             "#9c179e"
            ],
            [
             0.4444444444444444,
             "#bd3786"
            ],
            [
             0.5555555555555556,
             "#d8576b"
            ],
            [
             0.6666666666666666,
             "#ed7953"
            ],
            [
             0.7777777777777778,
             "#fb9f3a"
            ],
            [
             0.8888888888888888,
             "#fdca26"
            ],
            [
             1,
             "#f0f921"
            ]
           ]
          },
          "colorway": [
           "#636efa",
           "#EF553B",
           "#00cc96",
           "#ab63fa",
           "#FFA15A",
           "#19d3f3",
           "#FF6692",
           "#B6E880",
           "#FF97FF",
           "#FECB52"
          ],
          "font": {
           "color": "#2a3f5f"
          },
          "geo": {
           "bgcolor": "white",
           "lakecolor": "white",
           "landcolor": "#E5ECF6",
           "showlakes": true,
           "showland": true,
           "subunitcolor": "white"
          },
          "hoverlabel": {
           "align": "left"
          },
          "hovermode": "closest",
          "mapbox": {
           "style": "light"
          },
          "paper_bgcolor": "white",
          "plot_bgcolor": "#E5ECF6",
          "polar": {
           "angularaxis": {
            "gridcolor": "white",
            "linecolor": "white",
            "ticks": ""
           },
           "bgcolor": "#E5ECF6",
           "radialaxis": {
            "gridcolor": "white",
            "linecolor": "white",
            "ticks": ""
           }
          },
          "scene": {
           "xaxis": {
            "backgroundcolor": "#E5ECF6",
            "gridcolor": "white",
            "gridwidth": 2,
            "linecolor": "white",
            "showbackground": true,
            "ticks": "",
            "zerolinecolor": "white"
           },
           "yaxis": {
            "backgroundcolor": "#E5ECF6",
            "gridcolor": "white",
            "gridwidth": 2,
            "linecolor": "white",
            "showbackground": true,
            "ticks": "",
            "zerolinecolor": "white"
           },
           "zaxis": {
            "backgroundcolor": "#E5ECF6",
            "gridcolor": "white",
            "gridwidth": 2,
            "linecolor": "white",
            "showbackground": true,
            "ticks": "",
            "zerolinecolor": "white"
           }
          },
          "shapedefaults": {
           "line": {
            "color": "#2a3f5f"
           }
          },
          "ternary": {
           "aaxis": {
            "gridcolor": "white",
            "linecolor": "white",
            "ticks": ""
           },
           "baxis": {
            "gridcolor": "white",
            "linecolor": "white",
            "ticks": ""
           },
           "bgcolor": "#E5ECF6",
           "caxis": {
            "gridcolor": "white",
            "linecolor": "white",
            "ticks": ""
           }
          },
          "title": {
           "x": 0.05
          },
          "xaxis": {
           "automargin": true,
           "gridcolor": "white",
           "linecolor": "white",
           "ticks": "",
           "title": {
            "standoff": 15
           },
           "zerolinecolor": "white",
           "zerolinewidth": 2
          },
          "yaxis": {
           "automargin": true,
           "gridcolor": "white",
           "linecolor": "white",
           "ticks": "",
           "title": {
            "standoff": 15
           },
           "zerolinecolor": "white",
           "zerolinewidth": 2
          }
         }
        },
        "title": {
         "text": "Percentage Automating Work: 13K Ecommerce Startups"
        },
        "width": 800,
        "xaxis": {
         "autorange": true,
         "range": [
          2009.0720720720722,
          2024.9279279279278
         ],
         "title": {
          "text": "Year Founded"
         },
         "type": "linear"
        },
        "yaxis": {
         "autorange": true,
         "range": [
          0.08206587661079791,
          0.3095672072502652
         ],
         "title": {
          "text": "Percent of Startups with Rating above 70 out of 100"
         },
         "type": "linear"
        }
       }
      },
      "image/png": "[encoded data removed]",
      "text/html": [
       "<div>                            <div id=\"84f7273d-7337-4471-b82c-8ed42012fe04\" class=\"plotly-graph-div\" style=\"height:600px; width:800px;\"></div>            <script type=\"text/javascript\">                require([\"plotly\"], function(Plotly) {                    window.PLOTLYENV=window.PLOTLYENV || {};                                    if (document.getElementById(\"84f7273d-7337-4471-b82c-8ed42012fe04\")) {                    Plotly.newPlot(                        \"84f7273d-7337-4471-b82c-8ed42012fe04\",                        [{\"mode\":\"markers\",\"name\":\"Percent with rating above 70\",\"x\":[2010,2011,2012,2013,2014,2015,2016,2017,2018,2019,2020,2021,2022,2023,2024],\"y\":[0.09533678756476684,0.11144578313253012,0.142570281124498,0.13969849246231156,0.13440320962888666,0.15090543259557343,0.15947843530591777,0.15625,0.16347124117053483,0.15415821501014199,0.16332665330661322,0.1527638190954774,0.20984455958549222,0.2962962962962963,0.21518987341772153],\"type\":\"scatter\"},{\"line\":{\"color\":\"firebrick\",\"width\":2},\"mode\":\"lines\",\"name\":\"Smoothed Line\",\"x\":[2010,2011,2012,2013,2014,2015,2016,2017,2018,2019,2020,2021,2022,2023,2024],\"y\":[0.11517800412188547,0.1198152312978902,0.12714339030520805,0.1348768420487717,0.14178135860218863,0.14761736455129087,0.15239407895015267,0.15625224702454765,0.16004829925096634,0.1657189083888309,0.17553199120538823,0.1901523317739053,0.20709280194365084,0.2216720510002098,0.22986417923187533],\"type\":\"scatter\"}],                        {\"template\":{\"data\":{\"histogram2dcontour\":[{\"type\":\"histogram2dcontour\",\"colorbar\":{\"outlinewidth\":0,\"ticks\":\"\"},\"colorscale\":[[0.0,\"#0d0887\"],[0.1111111111111111,\"#46039f\"],[0.2222222222222222,\"#7201a8\"],[0.3333333333333333,\"#9c179e\"],[0.4444444444444444,\"#bd3786\"],[0.5555555555555556,\"#d8576b\"],[0.6666666666666666,\"#ed7953\"],[0.7777777777777778,\"#fb9f3a\"],[0.8888888888888888,\"#fdca26\"],[1.0,\"#f0f921\"]]}],\"choropleth\":[{\"type\":\"choropleth\",\"colorbar\":{\"outlinewidth\":0,\"ticks\":\"\"}}],\"histogram2d\":[{\"type\":\"histogram2d\",\"colorbar\":{\"outlinewidth\":0,\"ticks\":\"\"},\"colorscale\":[[0.0,\"#0d0887\"],[0.1111111111111111,\"#46039f\"],[0.2222222222222222,\"#7201a8\"],[0.3333333333333333,\"#9c179e\"],[0.4444444444444444,\"#bd3786\"],[0.5555555555555556,\"#d8576b\"],[0.6666666666666666,\"#ed7953\"],[0.7777777777777778,\"#fb9f3a\"],[0.8888888888888888,\"#fdca26\"],[1.0,\"#f0f921\"]]}],\"heatmap\":[{\"type\":\"heatmap\",\"colorbar\":{\"outlinewidth\":0,\"ticks\":\"\"},\"colorscale\":[[0.0,\"#0d0887\"],[0.1111111111111111,\"#46039f\"],[0.2222222222222222,\"#7201a8\"],[0.3333333333333333,\"#9c179e\"],[0.4444444444444444,\"#bd3786\"],[0.5555555555555556,\"#d8576b\"],[0.6666666666666666,\"#ed7953\"],[0.7777777777777778,\"#fb9f3a\"],[0.8888888888888888,\"#fdca26\"],[1.0,\"#f0f921\"]]}],\"heatmapgl\":[{\"type\":\"heatmapgl\",\"colorbar\":{\"outlinewidth\":0,\"ticks\":\"\"},\"colorscale\":[[0.0,\"#0d0887\"],[0.1111111111111111,\"#46039f\"],[0.2222222222222222,\"#7201a8\"],[0.3333333333333333,\"#9c179e\"],[0.4444444444444444,\"#bd3786\"],[0.5555555555555556,\"#d8576b\"],[0.6666666666666666,\"#ed7953\"],[0.7777777777777778,\"#fb9f3a\"],[0.8888888888888888,\"#fdca26\"],[1.0,\"#f0f921\"]]}],\"contourcarpet\":[{\"type\":\"contourcarpet\",\"colorbar\":{\"outlinewidth\":0,\"ticks\":\"\"}}],\"contour\":[{\"type\":\"contour\",\"colorbar\":{\"outlinewidth\":0,\"ticks\":\"\"},\"colorscale\":[[0.0,\"#0d0887\"],[0.1111111111111111,\"#46039f\"],[0.2222222222222222,\"#7201a8\"],[0.3333333333333333,\"#9c179e\"],[0.4444444444444444,\"#bd3786\"],[0.5555555555555556,\"#d8576b\"],[0.6666666666666666,\"#ed7953\"],[0.7777777777777778,\"#fb9f3a\"],[0.8888888888888888,\"#fdca26\"],[1.0,\"#f0f921\"]]}],\"surface\":[{\"type\":\"surface\",\"colorbar\":{\"outlinewidth\":0,\"ticks\":\"\"},\"colorscale\":[[0.0,\"#0d0887\"],[0.1111111111111111,\"#46039f\"],[0.2222222222222222,\"#7201a8\"],[0.3333333333333333,\"#9c179e\"],[0.4444444444444444,\"#bd3786\"],[0.5555555555555556,\"#d8576b\"],[0.6666666666666666,\"#ed7953\"],[0.7777777777777778,\"#fb9f3a\"],[0.8888888888888888,\"#fdca26\"],[1.0,\"#f0f921\"]]}],\"mesh3d\":[{\"type\":\"mesh3d\",\"colorbar\":{\"outlinewidth\":0,\"ticks\":\"\"}}],\"scatter\":[{\"fillpattern\":{\"fillmode\":\"overlay\",\"size\":10,\"solidity\":0.2},\"type\":\"scatter\"}],\"parcoords\":[{\"type\":\"parcoords\",\"line\":{\"colorbar\":{\"outlinewidth\":0,\"ticks\":\"\"}}}],\"scatterpolargl\":[{\"type\":\"scatterpolargl\",\"marker\":{\"colorbar\":{\"outlinewidth\":0,\"ticks\":\"\"}}}],\"bar\":[{\"error_x\":{\"color\":\"#2a3f5f\"},\"error_y\":{\"color\":\"#2a3f5f\"},\"marker\":{\"line\":{\"color\":\"#E5ECF6\",\"width\":0.5},\"pattern\":{\"fillmode\":\"overlay\",\"size\":10,\"solidity\":0.2}},\"type\":\"bar\"}],\"scattergeo\":[{\"type\":\"scattergeo\",\"marker\":{\"colorbar\":{\"outlinewidth\":0,\"ticks\":\"\"}}}],\"scatterpolar\":[{\"type\":\"scatterpolar\",\"marker\":{\"colorbar\":{\"outlinewidth\":0,\"ticks\":\"\"}}}],\"histogram\":[{\"marker\":{\"pattern\":{\"fillmode\":\"overlay\",\"size\":10,\"solidity\":0.2}},\"type\":\"histogram\"}],\"scattergl\":[{\"type\":\"scattergl\",\"marker\":{\"colorbar\":{\"outlinewidth\":0,\"ticks\":\"\"}}}],\"scatter3d\":[{\"type\":\"scatter3d\",\"line\":{\"colorbar\":{\"outlinewidth\":0,\"ticks\":\"\"}},\"marker\":{\"colorbar\":{\"outlinewidth\":0,\"ticks\":\"\"}}}],\"scattermapbox\":[{\"type\":\"scattermapbox\",\"marker\":{\"colorbar\":{\"outlinewidth\":0,\"ticks\":\"\"}}}],\"scatterternary\":[{\"type\":\"scatterternary\",\"marker\":{\"colorbar\":{\"outlinewidth\":0,\"ticks\":\"\"}}}],\"scattercarpet\":[{\"type\":\"scattercarpet\",\"marker\":{\"colorbar\":{\"outlinewidth\":0,\"ticks\":\"\"}}}],\"carpet\":[{\"aaxis\":{\"endlinecolor\":\"#2a3f5f\",\"gridcolor\":\"white\",\"linecolor\":\"white\",\"minorgridcolor\":\"white\",\"startlinecolor\":\"#2a3f5f\"},\"baxis\":{\"endlinecolor\":\"#2a3f5f\",\"gridcolor\":\"white\",\"linecolor\":\"white\",\"minorgridcolor\":\"white\",\"startlinecolor\":\"#2a3f5f\"},\"type\":\"carpet\"}],\"table\":[{\"cells\":{\"fill\":{\"color\":\"#EBF0F8\"},\"line\":{\"color\":\"white\"}},\"header\":{\"fill\":{\"color\":\"#C8D4E3\"},\"line\":{\"color\":\"white\"}},\"type\":\"table\"}],\"barpolar\":[{\"marker\":{\"line\":{\"color\":\"#E5ECF6\",\"width\":0.5},\"pattern\":{\"fillmode\":\"overlay\",\"size\":10,\"solidity\":0.2}},\"type\":\"barpolar\"}],\"pie\":[{\"automargin\":true,\"type\":\"pie\"}]},\"layout\":{\"autotypenumbers\":\"strict\",\"colorway\":[\"#636efa\",\"#EF553B\",\"#00cc96\",\"#ab63fa\",\"#FFA15A\",\"#19d3f3\",\"#FF6692\",\"#B6E880\",\"#FF97FF\",\"#FECB52\"],\"font\":{\"color\":\"#2a3f5f\"},\"hovermode\":\"closest\",\"hoverlabel\":{\"align\":\"left\"},\"paper_bgcolor\":\"white\",\"plot_bgcolor\":\"#E5ECF6\",\"polar\":{\"bgcolor\":\"#E5ECF6\",\"angularaxis\":{\"gridcolor\":\"white\",\"linecolor\":\"white\",\"ticks\":\"\"},\"radialaxis\":{\"gridcolor\":\"white\",\"linecolor\":\"white\",\"ticks\":\"\"}},\"ternary\":{\"bgcolor\":\"#E5ECF6\",\"aaxis\":{\"gridcolor\":\"white\",\"linecolor\":\"white\",\"ticks\":\"\"},\"baxis\":{\"gridcolor\":\"white\",\"linecolor\":\"white\",\"ticks\":\"\"},\"caxis\":{\"gridcolor\":\"white\",\"linecolor\":\"white\",\"ticks\":\"\"}},\"coloraxis\":{\"colorbar\":{\"outlinewidth\":0,\"ticks\":\"\"}},\"colorscale\":{\"sequential\":[[0.0,\"#0d0887\"],[0.1111111111111111,\"#46039f\"],[0.2222222222222222,\"#7201a8\"],[0.3333333333333333,\"#9c179e\"],[0.4444444444444444,\"#bd3786\"],[0.5555555555555556,\"#d8576b\"],[0.6666666666666666,\"#ed7953\"],[0.7777777777777778,\"#fb9f3a\"],[0.8888888888888888,\"#fdca26\"],[1.0,\"#f0f921\"]],\"sequentialminus\":[[0.0,\"#0d0887\"],[0.1111111111111111,\"#46039f\"],[0.2222222222222222,\"#7201a8\"],[0.3333333333333333,\"#9c179e\"],[0.4444444444444444,\"#bd3786\"],[0.5555555555555556,\"#d8576b\"],[0.6666666666666666,\"#ed7953\"],[0.7777777777777778,\"#fb9f3a\"],[0.8888888888888888,\"#fdca26\"],[1.0,\"#f0f921\"]],\"diverging\":[[0,\"#8e0152\"],[0.1,\"#c51b7d\"],[0.2,\"#de77ae\"],[0.3,\"#f1b6da\"],[0.4,\"#fde0ef\"],[0.5,\"#f7f7f7\"],[0.6,\"#e6f5d0\"],[0.7,\"#b8e186\"],[0.8,\"#7fbc41\"],[0.9,\"#4d9221\"],[1,\"#276419\"]]},\"xaxis\":{\"gridcolor\":\"white\",\"linecolor\":\"white\",\"ticks\":\"\",\"title\":{\"standoff\":15},\"zerolinecolor\":\"white\",\"automargin\":true,\"zerolinewidth\":2},\"yaxis\":{\"gridcolor\":\"white\",\"linecolor\":\"white\",\"ticks\":\"\",\"title\":{\"standoff\":15},\"zerolinecolor\":\"white\",\"automargin\":true,\"zerolinewidth\":2},\"scene\":{\"xaxis\":{\"backgroundcolor\":\"#E5ECF6\",\"gridcolor\":\"white\",\"linecolor\":\"white\",\"showbackground\":true,\"ticks\":\"\",\"zerolinecolor\":\"white\",\"gridwidth\":2},\"yaxis\":{\"backgroundcolor\":\"#E5ECF6\",\"gridcolor\":\"white\",\"linecolor\":\"white\",\"showbackground\":true,\"ticks\":\"\",\"zerolinecolor\":\"white\",\"gridwidth\":2},\"zaxis\":{\"backgroundcolor\":\"#E5ECF6\",\"gridcolor\":\"white\",\"linecolor\":\"white\",\"showbackground\":true,\"ticks\":\"\",\"zerolinecolor\":\"white\",\"gridwidth\":2}},\"shapedefaults\":{\"line\":{\"color\":\"#2a3f5f\"}},\"annotationdefaults\":{\"arrowcolor\":\"#2a3f5f\",\"arrowhead\":0,\"arrowwidth\":1},\"geo\":{\"bgcolor\":\"white\",\"landcolor\":\"#E5ECF6\",\"subunitcolor\":\"white\",\"showland\":true,\"showlakes\":true,\"lakecolor\":\"white\"},\"title\":{\"x\":0.05},\"mapbox\":{\"style\":\"light\"}}},\"margin\":{\"l\":120,\"r\":120,\"t\":50,\"b\":100},\"title\":{\"text\":\"Percentage Automating Work: 13K Ecommerce Startups\"},\"xaxis\":{\"title\":{\"text\":\"Year Founded\"}},\"yaxis\":{\"title\":{\"text\":\"Percent of Startups with Rating above 70 out of 100\"}},\"width\":800,\"height\":600,\"annotations\":[{\"font\":{\"size\":12},\"showarrow\":false,\"text\":\"ChatGPT asked: Is the goal of the product of company to be used by a task & occupation in the US workforce?\",\"x\":0.5,\"xanchor\":\"center\",\"xref\":\"paper\",\"y\":-0.2,\"yref\":\"paper\"}]},                        {\"responsive\": true}                    ).then(function(){\n",
       "                            \n",
       "var gd = document.getElementById('84f7273d-7337-4471-b82c-8ed42012fe04');\n",
       "var x = new MutationObserver(function (mutations, observer) {{\n",
       "        var display = window.getComputedStyle(gd).display;\n",
       "        if (!display || display === 'none') {{\n",
       "            console.log([gd, 'removed!']);\n",
       "            Plotly.purge(gd);\n",
       "            observer.disconnect();\n",
       "        }}\n",
       "}});\n",
       "\n",
       "// Listen for the removal of the full notebook cells\n",
       "var notebookContainer = gd.closest('#notebook-container');\n",
       "if (notebookContainer) {{\n",
       "    x.observe(notebookContainer, {childList: true});\n",
       "}}\n",
       "\n",
       "// Listen for the clearing of the current output cell\n",
       "var outputEl = gd.closest('.output');\n",
       "if (outputEl) {{\n",
       "    x.observe(outputEl, {childList: true});\n",
       "}}\n",
       "\n",
       "                        })                };                });            </script>        </div>"
      ]
     },
     "metadata": {},
     "output_type": "display_data"
    }
   ],
   "source": [
    "\n",
    "\n",
    "# Apply Gaussian smoothing\n",
    "smoothed_ratings = gaussian_filter1d(grouped[\"percent of startups with rating above 70\"], sigma=2)\n",
    "\n",
    "# Create the figure\n",
    "fig = go.Figure()\n",
    "\n",
    "# Add the scatter plot\n",
    "fig.add_trace(go.Scatter(\n",
    "    x=grouped[\"year\"], \n",
    "    y=grouped[\"percent of startups with rating above 70\"], \n",
    "    mode='markers', \n",
    "    name='Percent with rating above 70'\n",
    "))\n",
    "\n",
    "# Add the smooth line\n",
    "fig.add_trace(go.Scatter(\n",
    "    x=grouped[\"year\"], \n",
    "    y=smoothed_ratings, \n",
    "    mode='lines', \n",
    "    name='Smoothed Line',\n",
    "    line=dict(color='firebrick', width=2)\n",
    "))\n",
    "\n",
    "# Update layout with titles and dimensions\n",
    "fig.update_layout(\n",
    "    title=\"Percentage Automating Work: 13K Ecommerce Startups\",\n",
    "    xaxis_title=\"Year Founded\",\n",
    "    yaxis_title=\"Percent of Startups with Rating above 70 out of 100\",\n",
    "    width=800,\n",
    "    height=600,\n",
    "    margin=dict(l=120, r=120, t=50, b=100) \n",
    ")\n",
    "\n",
    "# Add the annotation for the caption\n",
    "fig.add_annotation(\n",
    "    text=\"ChatGPT asked: Is the goal of the product of company to be used by a task & occupation in the US workforce?\",\n",
    "    xref=\"paper\", yref=\"paper\",\n",
    "    x=0.5, y=-0.2,\n",
    "    showarrow=False,\n",
    "    font=dict(size=12),\n",
    "    xanchor='center'\n",
    ")\n",
    "\n",
    "# Show the plot\n",
    "fig.show()\n",
    "pio.write_image(fig, '../output/percentage_automation_rating_over_years.png')"
   ]
  },
  {
   "cell_type": "code",
   "execution_count": null,
   "id": "6cea7f08-79cc-4193-9e80-7677b5b92996",
   "metadata": {},
   "outputs": [
    {
     "data": {
      "application/vnd.plotly.v1+json": {
       "config": {
        "plotlyServerURL": "https://plot.ly"
       },
       "data": [
        {
         "mode": "markers",
         "name": "Percent AI startups",
         "type": "scatter",
         "x": [
          2010,
          2011,
          2012,
          2013,
          2014,
          2015,
          2016,
          2017,
          2018,
          2019,
          2020,
          2021,
          2022,
          2023,
          2024
         ],
         "y": [
          0.002072538860103627,
          0.01706827309236948,
          0.009036144578313253,
          0.024120603015075376,
          0.025075225677031094,
          0.026156941649899398,
          0.04012036108324975,
          0.037298387096774195,
          0.033299697275479316,
          0.035496957403651115,
          0.03707414829659319,
          0.033165829145728645,
          0.05958549222797927,
          0.12169312169312169,
          0.17721518987341772
         ]
        },
        {
         "line": {
          "color": "firebrick",
          "width": 2
         },
         "mode": "lines",
         "name": "Smoothed Line",
         "type": "scatter",
         "x": [
          2010,
          2011,
          2012,
          2013,
          2014,
          2015,
          2016,
          2017,
          2018,
          2019,
          2020,
          2021,
          2022,
          2023,
          2024
         ],
         "y": [
          0.011050899804945728,
          0.012940786021065381,
          0.016273731049305733,
          0.020411968837696692,
          0.02474879283792297,
          0.028749422060896895,
          0.03198556284613191,
          0.03439442078245693,
          0.03670757437111513,
          0.04072390431254437,
          0.049030863340882455,
          0.06371095164439301,
          0.08407540531330236,
          0.10504645697717303,
          0.11862817076895457
         ]
        }
       ],
       "layout": {
        "annotations": [
         {
          "font": {
           "size": 12
          },
          "showarrow": false,
          "text": "\"Artificial Intelligence (AI)\" keyword listed in crunchbase industries for Startup",
          "x": 0.5,
          "xanchor": "center",
          "xref": "paper",
          "y": -0.15,
          "yref": "paper"
         }
        ],
        "height": 600,
        "margin": {
         "b": 100,
         "l": 50,
         "r": 50,
         "t": 50
        },
        "template": {
         "data": {
          "bar": [
           {
            "error_x": {
             "color": "#2a3f5f"
            },
            "error_y": {
             "color": "#2a3f5f"
            },
            "marker": {
             "line": {
              "color": "#E5ECF6",
              "width": 0.5
             },
             "pattern": {
              "fillmode": "overlay",
              "size": 10,
              "solidity": 0.2
             }
            },
            "type": "bar"
           }
          ],
          "barpolar": [
           {
            "marker": {
             "line": {
              "color": "#E5ECF6",
              "width": 0.5
             },
             "pattern": {
              "fillmode": "overlay",
              "size": 10,
              "solidity": 0.2
             }
            },
            "type": "barpolar"
           }
          ],
          "carpet": [
           {
            "aaxis": {
             "endlinecolor": "#2a3f5f",
             "gridcolor": "white",
             "linecolor": "white",
             "minorgridcolor": "white",
             "startlinecolor": "#2a3f5f"
            },
            "baxis": {
             "endlinecolor": "#2a3f5f",
             "gridcolor": "white",
             "linecolor": "white",
             "minorgridcolor": "white",
             "startlinecolor": "#2a3f5f"
            },
            "type": "carpet"
           }
          ],
          "choropleth": [
           {
            "colorbar": {
             "outlinewidth": 0,
             "ticks": ""
            },
            "type": "choropleth"
           }
          ],
          "contour": [
           {
            "colorbar": {
             "outlinewidth": 0,
             "ticks": ""
            },
            "colorscale": [
             [
              0,
              "#0d0887"
             ],
             [
              0.1111111111111111,
              "#46039f"
             ],
             [
              0.2222222222222222,
              "#7201a8"
             ],
             [
              0.3333333333333333,
              "#9c179e"
             ],
             [
              0.4444444444444444,
              "#bd3786"
             ],
             [
              0.5555555555555556,
              "#d8576b"
             ],
             [
              0.6666666666666666,
              "#ed7953"
             ],
             [
              0.7777777777777778,
              "#fb9f3a"
             ],
             [
              0.8888888888888888,
              "#fdca26"
             ],
             [
              1,
              "#f0f921"
             ]
            ],
            "type": "contour"
           }
          ],
          "contourcarpet": [
           {
            "colorbar": {
             "outlinewidth": 0,
             "ticks": ""
            },
            "type": "contourcarpet"
           }
          ],
          "heatmap": [
           {
            "colorbar": {
             "outlinewidth": 0,
             "ticks": ""
            },
            "colorscale": [
             [
              0,
              "#0d0887"
             ],
             [
              0.1111111111111111,
              "#46039f"
             ],
             [
              0.2222222222222222,
              "#7201a8"
             ],
             [
              0.3333333333333333,
              "#9c179e"
             ],
             [
              0.4444444444444444,
              "#bd3786"
             ],
             [
              0.5555555555555556,
              "#d8576b"
             ],
             [
              0.6666666666666666,
              "#ed7953"
             ],
             [
              0.7777777777777778,
              "#fb9f3a"
             ],
             [
              0.8888888888888888,
              "#fdca26"
             ],
             [
              1,
              "#f0f921"
             ]
            ],
            "type": "heatmap"
           }
          ],
          "heatmapgl": [
           {
            "colorbar": {
             "outlinewidth": 0,
             "ticks": ""
            },
            "colorscale": [
             [
              0,
              "#0d0887"
             ],
             [
              0.1111111111111111,
              "#46039f"
             ],
             [
              0.2222222222222222,
              "#7201a8"
             ],
             [
              0.3333333333333333,
              "#9c179e"
             ],
             [
              0.4444444444444444,
              "#bd3786"
             ],
             [
              0.5555555555555556,
              "#d8576b"
             ],
             [
              0.6666666666666666,
              "#ed7953"
             ],
             [
              0.7777777777777778,
              "#fb9f3a"
             ],
             [
              0.8888888888888888,
              "#fdca26"
             ],
             [
              1,
              "#f0f921"
             ]
            ],
            "type": "heatmapgl"
           }
          ],
          "histogram": [
           {
            "marker": {
             "pattern": {
              "fillmode": "overlay",
              "size": 10,
              "solidity": 0.2
             }
            },
            "type": "histogram"
           }
          ],
          "histogram2d": [
           {
            "colorbar": {
             "outlinewidth": 0,
             "ticks": ""
            },
            "colorscale": [
             [
              0,
              "#0d0887"
             ],
             [
              0.1111111111111111,
              "#46039f"
             ],
             [
              0.2222222222222222,
              "#7201a8"
             ],
             [
              0.3333333333333333,
              "#9c179e"
             ],
             [
              0.4444444444444444,
              "#bd3786"
             ],
             [
              0.5555555555555556,
              "#d8576b"
             ],
             [
              0.6666666666666666,
              "#ed7953"
             ],
             [
              0.7777777777777778,
              "#fb9f3a"
             ],
             [
              0.8888888888888888,
              "#fdca26"
             ],
             [
              1,
              "#f0f921"
             ]
            ],
            "type": "histogram2d"
           }
          ],
          "histogram2dcontour": [
           {
            "colorbar": {
             "outlinewidth": 0,
             "ticks": ""
            },
            "colorscale": [
             [
              0,
              "#0d0887"
             ],
             [
              0.1111111111111111,
              "#46039f"
             ],
             [
              0.2222222222222222,
              "#7201a8"
             ],
             [
              0.3333333333333333,
              "#9c179e"
             ],
             [
              0.4444444444444444,
              "#bd3786"
             ],
             [
              0.5555555555555556,
              "#d8576b"
             ],
             [
              0.6666666666666666,
              "#ed7953"
             ],
             [
              0.7777777777777778,
              "#fb9f3a"
             ],
             [
              0.8888888888888888,
              "#fdca26"
             ],
             [
              1,
              "#f0f921"
             ]
            ],
            "type": "histogram2dcontour"
           }
          ],
          "mesh3d": [
           {
            "colorbar": {
             "outlinewidth": 0,
             "ticks": ""
            },
            "type": "mesh3d"
           }
          ],
          "parcoords": [
           {
            "line": {
             "colorbar": {
              "outlinewidth": 0,
              "ticks": ""
             }
            },
            "type": "parcoords"
           }
          ],
          "pie": [
           {
            "automargin": true,
            "type": "pie"
           }
          ],
          "scatter": [
           {
            "fillpattern": {
             "fillmode": "overlay",
             "size": 10,
             "solidity": 0.2
            },
            "type": "scatter"
           }
          ],
          "scatter3d": [
           {
            "line": {
             "colorbar": {
              "outlinewidth": 0,
              "ticks": ""
             }
            },
            "marker": {
             "colorbar": {
              "outlinewidth": 0,
              "ticks": ""
             }
            },
            "type": "scatter3d"
           }
          ],
          "scattercarpet": [
           {
            "marker": {
             "colorbar": {
              "outlinewidth": 0,
              "ticks": ""
             }
            },
            "type": "scattercarpet"
           }
          ],
          "scattergeo": [
           {
            "marker": {
             "colorbar": {
              "outlinewidth": 0,
              "ticks": ""
             }
            },
            "type": "scattergeo"
           }
          ],
          "scattergl": [
           {
            "marker": {
             "colorbar": {
              "outlinewidth": 0,
              "ticks": ""
             }
            },
            "type": "scattergl"
           }
          ],
          "scattermapbox": [
           {
            "marker": {
             "colorbar": {
              "outlinewidth": 0,
              "ticks": ""
             }
            },
            "type": "scattermapbox"
           }
          ],
          "scatterpolar": [
           {
            "marker": {
             "colorbar": {
              "outlinewidth": 0,
              "ticks": ""
             }
            },
            "type": "scatterpolar"
           }
          ],
          "scatterpolargl": [
           {
            "marker": {
             "colorbar": {
              "outlinewidth": 0,
              "ticks": ""
             }
            },
            "type": "scatterpolargl"
           }
          ],
          "scatterternary": [
           {
            "marker": {
             "colorbar": {
              "outlinewidth": 0,
              "ticks": ""
             }
            },
            "type": "scatterternary"
           }
          ],
          "surface": [
           {
            "colorbar": {
             "outlinewidth": 0,
             "ticks": ""
            },
            "colorscale": [
             [
              0,
              "#0d0887"
             ],
             [
              0.1111111111111111,
              "#46039f"
             ],
             [
              0.2222222222222222,
              "#7201a8"
             ],
             [
              0.3333333333333333,
              "#9c179e"
             ],
             [
              0.4444444444444444,
              "#bd3786"
             ],
             [
              0.5555555555555556,
              "#d8576b"
             ],
             [
              0.6666666666666666,
              "#ed7953"
             ],
             [
              0.7777777777777778,
              "#fb9f3a"
             ],
             [
              0.8888888888888888,
              "#fdca26"
             ],
             [
              1,
              "#f0f921"
             ]
            ],
            "type": "surface"
           }
          ],
          "table": [
           {
            "cells": {
             "fill": {
              "color": "#EBF0F8"
             },
             "line": {
              "color": "white"
             }
            },
            "header": {
             "fill": {
              "color": "#C8D4E3"
             },
             "line": {
              "color": "white"
             }
            },
            "type": "table"
           }
          ]
         },
         "layout": {
          "annotationdefaults": {
           "arrowcolor": "#2a3f5f",
           "arrowhead": 0,
           "arrowwidth": 1
          },
          "autotypenumbers": "strict",
          "coloraxis": {
           "colorbar": {
            "outlinewidth": 0,
            "ticks": ""
           }
          },
          "colorscale": {
           "diverging": [
            [
             0,
             "#8e0152"
            ],
            [
             0.1,
             "#c51b7d"
            ],
            [
             0.2,
             "#de77ae"
            ],
            [
             0.3,
             "#f1b6da"
            ],
            [
             0.4,
             "#fde0ef"
            ],
            [
             0.5,
             "#f7f7f7"
            ],
            [
             0.6,
             "#e6f5d0"
            ],
            [
             0.7,
             "#b8e186"
            ],
            [
             0.8,
             "#7fbc41"
            ],
            [
             0.9,
             "#4d9221"
            ],
            [
             1,
             "#276419"
            ]
           ],
           "sequential": [
            [
             0,
             "#0d0887"
            ],
            [
             0.1111111111111111,
             "#46039f"
            ],
            [
             0.2222222222222222,
             "#7201a8"
            ],
            [
             0.3333333333333333,
             "#9c179e"
            ],
            [
             0.4444444444444444,
             "#bd3786"
            ],
            [
             0.5555555555555556,
             "#d8576b"
            ],
            [
             0.6666666666666666,
             "#ed7953"
            ],
            [
             0.7777777777777778,
             "#fb9f3a"
            ],
            [
             0.8888888888888888,
             "#fdca26"
            ],
            [
             1,
             "#f0f921"
            ]
           ],
           "sequentialminus": [
            [
             0,
             "#0d0887"
            ],
            [
             0.1111111111111111,
             "#46039f"
            ],
            [
             0.2222222222222222,
             "#7201a8"
            ],
            [
             0.3333333333333333,
             "#9c179e"
            ],
            [
             0.4444444444444444,
             "#bd3786"
            ],
            [
             0.5555555555555556,
             "#d8576b"
            ],
            [
             0.6666666666666666,
             "#ed7953"
            ],
            [
             0.7777777777777778,
             "#fb9f3a"
            ],
            [
             0.8888888888888888,
             "#fdca26"
            ],
            [
             1,
             "#f0f921"
            ]
           ]
          },
          "colorway": [
           "#636efa",
           "#EF553B",
           "#00cc96",
           "#ab63fa",
           "#FFA15A",
           "#19d3f3",
           "#FF6692",
           "#B6E880",
           "#FF97FF",
           "#FECB52"
          ],
          "font": {
           "color": "#2a3f5f"
          },
          "geo": {
           "bgcolor": "white",
           "lakecolor": "white",
           "landcolor": "#E5ECF6",
           "showlakes": true,
           "showland": true,
           "subunitcolor": "white"
          },
          "hoverlabel": {
           "align": "left"
          },
          "hovermode": "closest",
          "mapbox": {
           "style": "light"
          },
          "paper_bgcolor": "white",
          "plot_bgcolor": "#E5ECF6",
          "polar": {
           "angularaxis": {
            "gridcolor": "white",
            "linecolor": "white",
            "ticks": ""
           },
           "bgcolor": "#E5ECF6",
           "radialaxis": {
            "gridcolor": "white",
            "linecolor": "white",
            "ticks": ""
           }
          },
          "scene": {
           "xaxis": {
            "backgroundcolor": "#E5ECF6",
            "gridcolor": "white",
            "gridwidth": 2,
            "linecolor": "white",
            "showbackground": true,
            "ticks": "",
            "zerolinecolor": "white"
           },
           "yaxis": {
            "backgroundcolor": "#E5ECF6",
            "gridcolor": "white",
            "gridwidth": 2,
            "linecolor": "white",
            "showbackground": true,
            "ticks": "",
            "zerolinecolor": "white"
           },
           "zaxis": {
            "backgroundcolor": "#E5ECF6",
            "gridcolor": "white",
            "gridwidth": 2,
            "linecolor": "white",
            "showbackground": true,
            "ticks": "",
            "zerolinecolor": "white"
           }
          },
          "shapedefaults": {
           "line": {
            "color": "#2a3f5f"
           }
          },
          "ternary": {
           "aaxis": {
            "gridcolor": "white",
            "linecolor": "white",
            "ticks": ""
           },
           "baxis": {
            "gridcolor": "white",
            "linecolor": "white",
            "ticks": ""
           },
           "bgcolor": "#E5ECF6",
           "caxis": {
            "gridcolor": "white",
            "linecolor": "white",
            "ticks": ""
           }
          },
          "title": {
           "x": 0.05
          },
          "xaxis": {
           "automargin": true,
           "gridcolor": "white",
           "linecolor": "white",
           "ticks": "",
           "title": {
            "standoff": 15
           },
           "zerolinecolor": "white",
           "zerolinewidth": 2
          },
          "yaxis": {
           "automargin": true,
           "gridcolor": "white",
           "linecolor": "white",
           "ticks": "",
           "title": {
            "standoff": 15
           },
           "zerolinecolor": "white",
           "zerolinewidth": 2
          }
         }
        },
        "title": {
         "text": "Percent AI startups: 13K Ecommerce Startups"
        },
        "width": 800,
        "xaxis": {
         "autorange": true,
         "range": [
          2009.1027846027846,
          2024.8972153972154
         ],
         "title": {
          "text": "Year Founded"
         },
         "type": "linear"
        },
        "yaxis": {
         "autorange": true,
         "range": [
          -0.009493485263417114,
          0.18878121399693845
         ],
         "title": {
          "text": "Percent AI startups"
         },
         "type": "linear"
        }
       }
      },
      "image/png": "[encoded data removed]",
      "text/html": [
       "<div>                            <div id=\"32650132-4f8e-49b0-9864-6ac4ec2e24f9\" class=\"plotly-graph-div\" style=\"height:600px; width:800px;\"></div>            <script type=\"text/javascript\">                require([\"plotly\"], function(Plotly) {                    window.PLOTLYENV=window.PLOTLYENV || {};                                    if (document.getElementById(\"32650132-4f8e-49b0-9864-6ac4ec2e24f9\")) {                    Plotly.newPlot(                        \"32650132-4f8e-49b0-9864-6ac4ec2e24f9\",                        [{\"mode\":\"markers\",\"name\":\"Percent AI startups\",\"x\":[2010,2011,2012,2013,2014,2015,2016,2017,2018,2019,2020,2021,2022,2023,2024],\"y\":[0.002072538860103627,0.01706827309236948,0.009036144578313253,0.024120603015075376,0.025075225677031094,0.026156941649899398,0.04012036108324975,0.037298387096774195,0.033299697275479316,0.035496957403651115,0.03707414829659319,0.033165829145728645,0.05958549222797927,0.12169312169312169,0.17721518987341772],\"type\":\"scatter\"},{\"line\":{\"color\":\"firebrick\",\"width\":2},\"mode\":\"lines\",\"name\":\"Smoothed Line\",\"x\":[2010,2011,2012,2013,2014,2015,2016,2017,2018,2019,2020,2021,2022,2023,2024],\"y\":[0.011050899804945728,0.012940786021065381,0.016273731049305733,0.020411968837696692,0.02474879283792297,0.028749422060896895,0.03198556284613191,0.03439442078245693,0.03670757437111513,0.04072390431254437,0.049030863340882455,0.06371095164439301,0.08407540531330236,0.10504645697717303,0.11862817076895457],\"type\":\"scatter\"}],                        {\"template\":{\"data\":{\"histogram2dcontour\":[{\"type\":\"histogram2dcontour\",\"colorbar\":{\"outlinewidth\":0,\"ticks\":\"\"},\"colorscale\":[[0.0,\"#0d0887\"],[0.1111111111111111,\"#46039f\"],[0.2222222222222222,\"#7201a8\"],[0.3333333333333333,\"#9c179e\"],[0.4444444444444444,\"#bd3786\"],[0.5555555555555556,\"#d8576b\"],[0.6666666666666666,\"#ed7953\"],[0.7777777777777778,\"#fb9f3a\"],[0.8888888888888888,\"#fdca26\"],[1.0,\"#f0f921\"]]}],\"choropleth\":[{\"type\":\"choropleth\",\"colorbar\":{\"outlinewidth\":0,\"ticks\":\"\"}}],\"histogram2d\":[{\"type\":\"histogram2d\",\"colorbar\":{\"outlinewidth\":0,\"ticks\":\"\"},\"colorscale\":[[0.0,\"#0d0887\"],[0.1111111111111111,\"#46039f\"],[0.2222222222222222,\"#7201a8\"],[0.3333333333333333,\"#9c179e\"],[0.4444444444444444,\"#bd3786\"],[0.5555555555555556,\"#d8576b\"],[0.6666666666666666,\"#ed7953\"],[0.7777777777777778,\"#fb9f3a\"],[0.8888888888888888,\"#fdca26\"],[1.0,\"#f0f921\"]]}],\"heatmap\":[{\"type\":\"heatmap\",\"colorbar\":{\"outlinewidth\":0,\"ticks\":\"\"},\"colorscale\":[[0.0,\"#0d0887\"],[0.1111111111111111,\"#46039f\"],[0.2222222222222222,\"#7201a8\"],[0.3333333333333333,\"#9c179e\"],[0.4444444444444444,\"#bd3786\"],[0.5555555555555556,\"#d8576b\"],[0.6666666666666666,\"#ed7953\"],[0.7777777777777778,\"#fb9f3a\"],[0.8888888888888888,\"#fdca26\"],[1.0,\"#f0f921\"]]}],\"heatmapgl\":[{\"type\":\"heatmapgl\",\"colorbar\":{\"outlinewidth\":0,\"ticks\":\"\"},\"colorscale\":[[0.0,\"#0d0887\"],[0.1111111111111111,\"#46039f\"],[0.2222222222222222,\"#7201a8\"],[0.3333333333333333,\"#9c179e\"],[0.4444444444444444,\"#bd3786\"],[0.5555555555555556,\"#d8576b\"],[0.6666666666666666,\"#ed7953\"],[0.7777777777777778,\"#fb9f3a\"],[0.8888888888888888,\"#fdca26\"],[1.0,\"#f0f921\"]]}],\"contourcarpet\":[{\"type\":\"contourcarpet\",\"colorbar\":{\"outlinewidth\":0,\"ticks\":\"\"}}],\"contour\":[{\"type\":\"contour\",\"colorbar\":{\"outlinewidth\":0,\"ticks\":\"\"},\"colorscale\":[[0.0,\"#0d0887\"],[0.1111111111111111,\"#46039f\"],[0.2222222222222222,\"#7201a8\"],[0.3333333333333333,\"#9c179e\"],[0.4444444444444444,\"#bd3786\"],[0.5555555555555556,\"#d8576b\"],[0.6666666666666666,\"#ed7953\"],[0.7777777777777778,\"#fb9f3a\"],[0.8888888888888888,\"#fdca26\"],[1.0,\"#f0f921\"]]}],\"surface\":[{\"type\":\"surface\",\"colorbar\":{\"outlinewidth\":0,\"ticks\":\"\"},\"colorscale\":[[0.0,\"#0d0887\"],[0.1111111111111111,\"#46039f\"],[0.2222222222222222,\"#7201a8\"],[0.3333333333333333,\"#9c179e\"],[0.4444444444444444,\"#bd3786\"],[0.5555555555555556,\"#d8576b\"],[0.6666666666666666,\"#ed7953\"],[0.7777777777777778,\"#fb9f3a\"],[0.8888888888888888,\"#fdca26\"],[1.0,\"#f0f921\"]]}],\"mesh3d\":[{\"type\":\"mesh3d\",\"colorbar\":{\"outlinewidth\":0,\"ticks\":\"\"}}],\"scatter\":[{\"fillpattern\":{\"fillmode\":\"overlay\",\"size\":10,\"solidity\":0.2},\"type\":\"scatter\"}],\"parcoords\":[{\"type\":\"parcoords\",\"line\":{\"colorbar\":{\"outlinewidth\":0,\"ticks\":\"\"}}}],\"scatterpolargl\":[{\"type\":\"scatterpolargl\",\"marker\":{\"colorbar\":{\"outlinewidth\":0,\"ticks\":\"\"}}}],\"bar\":[{\"error_x\":{\"color\":\"#2a3f5f\"},\"error_y\":{\"color\":\"#2a3f5f\"},\"marker\":{\"line\":{\"color\":\"#E5ECF6\",\"width\":0.5},\"pattern\":{\"fillmode\":\"overlay\",\"size\":10,\"solidity\":0.2}},\"type\":\"bar\"}],\"scattergeo\":[{\"type\":\"scattergeo\",\"marker\":{\"colorbar\":{\"outlinewidth\":0,\"ticks\":\"\"}}}],\"scatterpolar\":[{\"type\":\"scatterpolar\",\"marker\":{\"colorbar\":{\"outlinewidth\":0,\"ticks\":\"\"}}}],\"histogram\":[{\"marker\":{\"pattern\":{\"fillmode\":\"overlay\",\"size\":10,\"solidity\":0.2}},\"type\":\"histogram\"}],\"scattergl\":[{\"type\":\"scattergl\",\"marker\":{\"colorbar\":{\"outlinewidth\":0,\"ticks\":\"\"}}}],\"scatter3d\":[{\"type\":\"scatter3d\",\"line\":{\"colorbar\":{\"outlinewidth\":0,\"ticks\":\"\"}},\"marker\":{\"colorbar\":{\"outlinewidth\":0,\"ticks\":\"\"}}}],\"scattermapbox\":[{\"type\":\"scattermapbox\",\"marker\":{\"colorbar\":{\"outlinewidth\":0,\"ticks\":\"\"}}}],\"scatterternary\":[{\"type\":\"scatterternary\",\"marker\":{\"colorbar\":{\"outlinewidth\":0,\"ticks\":\"\"}}}],\"scattercarpet\":[{\"type\":\"scattercarpet\",\"marker\":{\"colorbar\":{\"outlinewidth\":0,\"ticks\":\"\"}}}],\"carpet\":[{\"aaxis\":{\"endlinecolor\":\"#2a3f5f\",\"gridcolor\":\"white\",\"linecolor\":\"white\",\"minorgridcolor\":\"white\",\"startlinecolor\":\"#2a3f5f\"},\"baxis\":{\"endlinecolor\":\"#2a3f5f\",\"gridcolor\":\"white\",\"linecolor\":\"white\",\"minorgridcolor\":\"white\",\"startlinecolor\":\"#2a3f5f\"},\"type\":\"carpet\"}],\"table\":[{\"cells\":{\"fill\":{\"color\":\"#EBF0F8\"},\"line\":{\"color\":\"white\"}},\"header\":{\"fill\":{\"color\":\"#C8D4E3\"},\"line\":{\"color\":\"white\"}},\"type\":\"table\"}],\"barpolar\":[{\"marker\":{\"line\":{\"color\":\"#E5ECF6\",\"width\":0.5},\"pattern\":{\"fillmode\":\"overlay\",\"size\":10,\"solidity\":0.2}},\"type\":\"barpolar\"}],\"pie\":[{\"automargin\":true,\"type\":\"pie\"}]},\"layout\":{\"autotypenumbers\":\"strict\",\"colorway\":[\"#636efa\",\"#EF553B\",\"#00cc96\",\"#ab63fa\",\"#FFA15A\",\"#19d3f3\",\"#FF6692\",\"#B6E880\",\"#FF97FF\",\"#FECB52\"],\"font\":{\"color\":\"#2a3f5f\"},\"hovermode\":\"closest\",\"hoverlabel\":{\"align\":\"left\"},\"paper_bgcolor\":\"white\",\"plot_bgcolor\":\"#E5ECF6\",\"polar\":{\"bgcolor\":\"#E5ECF6\",\"angularaxis\":{\"gridcolor\":\"white\",\"linecolor\":\"white\",\"ticks\":\"\"},\"radialaxis\":{\"gridcolor\":\"white\",\"linecolor\":\"white\",\"ticks\":\"\"}},\"ternary\":{\"bgcolor\":\"#E5ECF6\",\"aaxis\":{\"gridcolor\":\"white\",\"linecolor\":\"white\",\"ticks\":\"\"},\"baxis\":{\"gridcolor\":\"white\",\"linecolor\":\"white\",\"ticks\":\"\"},\"caxis\":{\"gridcolor\":\"white\",\"linecolor\":\"white\",\"ticks\":\"\"}},\"coloraxis\":{\"colorbar\":{\"outlinewidth\":0,\"ticks\":\"\"}},\"colorscale\":{\"sequential\":[[0.0,\"#0d0887\"],[0.1111111111111111,\"#46039f\"],[0.2222222222222222,\"#7201a8\"],[0.3333333333333333,\"#9c179e\"],[0.4444444444444444,\"#bd3786\"],[0.5555555555555556,\"#d8576b\"],[0.6666666666666666,\"#ed7953\"],[0.7777777777777778,\"#fb9f3a\"],[0.8888888888888888,\"#fdca26\"],[1.0,\"#f0f921\"]],\"sequentialminus\":[[0.0,\"#0d0887\"],[0.1111111111111111,\"#46039f\"],[0.2222222222222222,\"#7201a8\"],[0.3333333333333333,\"#9c179e\"],[0.4444444444444444,\"#bd3786\"],[0.5555555555555556,\"#d8576b\"],[0.6666666666666666,\"#ed7953\"],[0.7777777777777778,\"#fb9f3a\"],[0.8888888888888888,\"#fdca26\"],[1.0,\"#f0f921\"]],\"diverging\":[[0,\"#8e0152\"],[0.1,\"#c51b7d\"],[0.2,\"#de77ae\"],[0.3,\"#f1b6da\"],[0.4,\"#fde0ef\"],[0.5,\"#f7f7f7\"],[0.6,\"#e6f5d0\"],[0.7,\"#b8e186\"],[0.8,\"#7fbc41\"],[0.9,\"#4d9221\"],[1,\"#276419\"]]},\"xaxis\":{\"gridcolor\":\"white\",\"linecolor\":\"white\",\"ticks\":\"\",\"title\":{\"standoff\":15},\"zerolinecolor\":\"white\",\"automargin\":true,\"zerolinewidth\":2},\"yaxis\":{\"gridcolor\":\"white\",\"linecolor\":\"white\",\"ticks\":\"\",\"title\":{\"standoff\":15},\"zerolinecolor\":\"white\",\"automargin\":true,\"zerolinewidth\":2},\"scene\":{\"xaxis\":{\"backgroundcolor\":\"#E5ECF6\",\"gridcolor\":\"white\",\"linecolor\":\"white\",\"showbackground\":true,\"ticks\":\"\",\"zerolinecolor\":\"white\",\"gridwidth\":2},\"yaxis\":{\"backgroundcolor\":\"#E5ECF6\",\"gridcolor\":\"white\",\"linecolor\":\"white\",\"showbackground\":true,\"ticks\":\"\",\"zerolinecolor\":\"white\",\"gridwidth\":2},\"zaxis\":{\"backgroundcolor\":\"#E5ECF6\",\"gridcolor\":\"white\",\"linecolor\":\"white\",\"showbackground\":true,\"ticks\":\"\",\"zerolinecolor\":\"white\",\"gridwidth\":2}},\"shapedefaults\":{\"line\":{\"color\":\"#2a3f5f\"}},\"annotationdefaults\":{\"arrowcolor\":\"#2a3f5f\",\"arrowhead\":0,\"arrowwidth\":1},\"geo\":{\"bgcolor\":\"white\",\"landcolor\":\"#E5ECF6\",\"subunitcolor\":\"white\",\"showland\":true,\"showlakes\":true,\"lakecolor\":\"white\"},\"title\":{\"x\":0.05},\"mapbox\":{\"style\":\"light\"}}},\"margin\":{\"l\":50,\"r\":50,\"t\":50,\"b\":100},\"title\":{\"text\":\"Percent AI startups: 13K Ecommerce Startups\"},\"xaxis\":{\"title\":{\"text\":\"Year Founded\"}},\"yaxis\":{\"title\":{\"text\":\"Percent AI startups\"}},\"width\":800,\"height\":600,\"annotations\":[{\"font\":{\"size\":12},\"showarrow\":false,\"text\":\"\\\"Artificial Intelligence (AI)\\\" keyword listed in crunchbase industries for Startup\",\"x\":0.5,\"xanchor\":\"center\",\"xref\":\"paper\",\"y\":-0.15,\"yref\":\"paper\"}]},                        {\"responsive\": true}                    ).then(function(){\n",
       "                            \n",
       "var gd = document.getElementById('32650132-4f8e-49b0-9864-6ac4ec2e24f9');\n",
       "var x = new MutationObserver(function (mutations, observer) {{\n",
       "        var display = window.getComputedStyle(gd).display;\n",
       "        if (!display || display === 'none') {{\n",
       "            console.log([gd, 'removed!']);\n",
       "            Plotly.purge(gd);\n",
       "            observer.disconnect();\n",
       "        }}\n",
       "}});\n",
       "\n",
       "// Listen for the removal of the full notebook cells\n",
       "var notebookContainer = gd.closest('#notebook-container');\n",
       "if (notebookContainer) {{\n",
       "    x.observe(notebookContainer, {childList: true});\n",
       "}}\n",
       "\n",
       "// Listen for the clearing of the current output cell\n",
       "var outputEl = gd.closest('.output');\n",
       "if (outputEl) {{\n",
       "    x.observe(outputEl, {childList: true});\n",
       "}}\n",
       "\n",
       "                        })                };                });            </script>        </div>"
      ]
     },
     "metadata": {},
     "output_type": "display_data"
    }
   ],
   "source": [
    "\n",
    "\n",
    "# Apply Gaussian smoothing\n",
    "smoothed_ratings = gaussian_filter1d(grouped['percent AI startups'], sigma=2)\n",
    "\n",
    "# Create the figure\n",
    "fig = go.Figure()\n",
    "\n",
    "# Add the scatter plot\n",
    "fig.add_trace(go.Scatter(\n",
    "    x=grouped[\"year\"], \n",
    "    y=grouped[\"percent AI startups\"], \n",
    "    mode='markers',\n",
    "    name='Percent AI startups'\n",
    "))\n",
    "\n",
    "# Add the smooth line\n",
    "fig.add_trace(go.Scatter(\n",
    "    x=grouped[\"year\"], \n",
    "    y=smoothed_ratings, \n",
    "    mode='lines', \n",
    "    name='Smoothed Line',\n",
    "    line=dict(color='firebrick', width=2)\n",
    "))\n",
    "\n",
    "# Update layout with titles and dimensions\n",
    "fig.update_layout(\n",
    "    title=\"Percent AI startups: 13K Ecommerce Startups\",\n",
    "    xaxis_title=\"Year Founded\",\n",
    "    yaxis_title=\"Percent AI startups\",\n",
    "    width=800,\n",
    "    height=600,\n",
    "    margin=dict(l=50, r=50, t=50, b=100) \n",
    ")\n",
    "\n",
    "# Add the annotation for the caption\n",
    "fig.add_annotation(\n",
    "    text='\"Artificial Intelligence (AI)\" keyword listed in crunchbase industries for Startup',\n",
    "    xref=\"paper\", yref=\"paper\",\n",
    "    x=0.5, y=-0.15,\n",
    "    showarrow=False,\n",
    "    font=dict(size=12),\n",
    "    xanchor='center'\n",
    ")\n",
    "\n",
    "# Show the plot\n",
    "fig.show()\n",
    "pio.write_image(fig, '../output/percentage_ai_startups_over_years.png')"
   ]
  },
  {
   "cell_type": "code",
   "execution_count": null,
   "id": "cf3bfa2f-e1ee-4c90-9a4b-9a87aee9e11e",
   "metadata": {},
   "outputs": [],
   "source": []
  },
  {
   "cell_type": "code",
   "execution_count": null,
   "id": "56be897e-522d-41fe-b7c4-af97b3b86d18",
   "metadata": {},
   "outputs": [],
   "source": []
  },
  {
   "cell_type": "code",
   "execution_count": null,
   "id": "0f4c0ef7-4179-4fac-8795-cea6fb5e1002",
   "metadata": {},
   "outputs": [],
   "source": []
  }
 ],
 "metadata": {
  "kernelspec": {
   "display_name": "Python 3 (ipykernel)",
   "language": "python",
   "name": "python3"
  },
  "language_info": {
   "codemirror_mode": {
    "name": "ipython",
    "version": 3
   },
   "file_extension": ".py",
   "mimetype": "text/x-python",
   "name": "python",
   "nbconvert_exporter": "python",
   "pygments_lexer": "ipython3",
   "version": "3.9.6"
  }
 },
 "nbformat": 4,
 "nbformat_minor": 5
}
