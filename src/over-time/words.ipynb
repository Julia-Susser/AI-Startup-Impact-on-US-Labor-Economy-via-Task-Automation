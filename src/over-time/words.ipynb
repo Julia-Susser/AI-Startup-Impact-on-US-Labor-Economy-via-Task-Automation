{
 "cells": [
  {
   "cell_type": "code",
   "execution_count": 16,
   "id": "93ef3263-9c68-4a8e-a8f4-fae12a070dcc",
   "metadata": {},
   "outputs": [],
   "source": [
    "import pandas as pd\n",
    "import numpy as np\n",
    "import plotly.express as px\n",
    "import plotly.graph_objects as go\n",
    "import pandas as pd\n",
    "import numpy as np\n",
    "from scipy.ndimage import gaussian_filter1d\n",
    "import plotly.io as pio\n"
   ]
  },
  {
   "cell_type": "code",
   "execution_count": 20,
   "id": "1fc6a4ac-0b0a-4ae3-8f93-50d891ab9cc1",
   "metadata": {},
   "outputs": [
    {
     "data": {
      "text/plain": [
       "471"
      ]
     },
     "execution_count": 20,
     "metadata": {},
     "output_type": "execute_result"
    }
   ],
   "source": [
    "df = pd.read_csv(\"../../output/data/retail-data.csv\",index_col=0)\n",
    "df['founded date'] = pd.to_datetime(df['founded date'])\n",
    "df['year'] = df['founded date'].dt.year\n",
    "df[\"automate\"] = df.description_all.str.contains(\"automate | AI\")\n",
    "sum(df[\"automate\"])"
   ]
  },
  {
   "cell_type": "code",
   "execution_count": 21,
   "id": "022c0515-6f09-4a5d-a41a-bad1f5f21be2",
   "metadata": {},
   "outputs": [
    {
     "data": {
      "application/vnd.plotly.v1+json": {
       "config": {
        "plotlyServerURL": "https://plot.ly"
       },
       "data": [
        {
         "mode": "markers",
         "name": "Percent AI startups",
         "type": "scatter",
         "x": [
          2010,
          2011,
          2012,
          2013,
          2014,
          2015,
          2016,
          2017,
          2018,
          2019,
          2020,
          2021,
          2022,
          2023,
          2024
         ],
         "y": [
          0.004132231404958678,
          0.012012012012012012,
          0.014028056112224449,
          0.021042084168336674,
          0.013013013013013013,
          0.028056112224448898,
          0.03707414829659319,
          0.041123370110330994,
          0.03722334004024145,
          0.04036326942482341,
          0.04714142427281846,
          0.04141414141414142,
          0.07632600258732213,
          0.1679790026246719,
          0.16666666666666666
         ]
        }
       ],
       "layout": {
        "annotations": [
         {
          "font": {
           "size": 12
          },
          "showarrow": false,
          "text": "\"Artificial Intelligence (AI)\" keyword listed in crunchbase industries for Startup",
          "x": 0.5,
          "xanchor": "center",
          "xref": "paper",
          "y": -0.15,
          "yref": "paper"
         }
        ],
        "height": 600,
        "margin": {
         "b": 100,
         "l": 50,
         "r": 50,
         "t": 50
        },
        "template": {
         "data": {
          "bar": [
           {
            "error_x": {
             "color": "#2a3f5f"
            },
            "error_y": {
             "color": "#2a3f5f"
            },
            "marker": {
             "line": {
              "color": "#E5ECF6",
              "width": 0.5
             },
             "pattern": {
              "fillmode": "overlay",
              "size": 10,
              "solidity": 0.2
             }
            },
            "type": "bar"
           }
          ],
          "barpolar": [
           {
            "marker": {
             "line": {
              "color": "#E5ECF6",
              "width": 0.5
             },
             "pattern": {
              "fillmode": "overlay",
              "size": 10,
              "solidity": 0.2
             }
            },
            "type": "barpolar"
           }
          ],
          "carpet": [
           {
            "aaxis": {
             "endlinecolor": "#2a3f5f",
             "gridcolor": "white",
             "linecolor": "white",
             "minorgridcolor": "white",
             "startlinecolor": "#2a3f5f"
            },
            "baxis": {
             "endlinecolor": "#2a3f5f",
             "gridcolor": "white",
             "linecolor": "white",
             "minorgridcolor": "white",
             "startlinecolor": "#2a3f5f"
            },
            "type": "carpet"
           }
          ],
          "choropleth": [
           {
            "colorbar": {
             "outlinewidth": 0,
             "ticks": ""
            },
            "type": "choropleth"
           }
          ],
          "contour": [
           {
            "colorbar": {
             "outlinewidth": 0,
             "ticks": ""
            },
            "colorscale": [
             [
              0,
              "#0d0887"
             ],
             [
              0.1111111111111111,
              "#46039f"
             ],
             [
              0.2222222222222222,
              "#7201a8"
             ],
             [
              0.3333333333333333,
              "#9c179e"
             ],
             [
              0.4444444444444444,
              "#bd3786"
             ],
             [
              0.5555555555555556,
              "#d8576b"
             ],
             [
              0.6666666666666666,
              "#ed7953"
             ],
             [
              0.7777777777777778,
              "#fb9f3a"
             ],
             [
              0.8888888888888888,
              "#fdca26"
             ],
             [
              1,
              "#f0f921"
             ]
            ],
            "type": "contour"
           }
          ],
          "contourcarpet": [
           {
            "colorbar": {
             "outlinewidth": 0,
             "ticks": ""
            },
            "type": "contourcarpet"
           }
          ],
          "heatmap": [
           {
            "colorbar": {
             "outlinewidth": 0,
             "ticks": ""
            },
            "colorscale": [
             [
              0,
              "#0d0887"
             ],
             [
              0.1111111111111111,
              "#46039f"
             ],
             [
              0.2222222222222222,
              "#7201a8"
             ],
             [
              0.3333333333333333,
              "#9c179e"
             ],
             [
              0.4444444444444444,
              "#bd3786"
             ],
             [
              0.5555555555555556,
              "#d8576b"
             ],
             [
              0.6666666666666666,
              "#ed7953"
             ],
             [
              0.7777777777777778,
              "#fb9f3a"
             ],
             [
              0.8888888888888888,
              "#fdca26"
             ],
             [
              1,
              "#f0f921"
             ]
            ],
            "type": "heatmap"
           }
          ],
          "heatmapgl": [
           {
            "colorbar": {
             "outlinewidth": 0,
             "ticks": ""
            },
            "colorscale": [
             [
              0,
              "#0d0887"
             ],
             [
              0.1111111111111111,
              "#46039f"
             ],
             [
              0.2222222222222222,
              "#7201a8"
             ],
             [
              0.3333333333333333,
              "#9c179e"
             ],
             [
              0.4444444444444444,
              "#bd3786"
             ],
             [
              0.5555555555555556,
              "#d8576b"
             ],
             [
              0.6666666666666666,
              "#ed7953"
             ],
             [
              0.7777777777777778,
              "#fb9f3a"
             ],
             [
              0.8888888888888888,
              "#fdca26"
             ],
             [
              1,
              "#f0f921"
             ]
            ],
            "type": "heatmapgl"
           }
          ],
          "histogram": [
           {
            "marker": {
             "pattern": {
              "fillmode": "overlay",
              "size": 10,
              "solidity": 0.2
             }
            },
            "type": "histogram"
           }
          ],
          "histogram2d": [
           {
            "colorbar": {
             "outlinewidth": 0,
             "ticks": ""
            },
            "colorscale": [
             [
              0,
              "#0d0887"
             ],
             [
              0.1111111111111111,
              "#46039f"
             ],
             [
              0.2222222222222222,
              "#7201a8"
             ],
             [
              0.3333333333333333,
              "#9c179e"
             ],
             [
              0.4444444444444444,
              "#bd3786"
             ],
             [
              0.5555555555555556,
              "#d8576b"
             ],
             [
              0.6666666666666666,
              "#ed7953"
             ],
             [
              0.7777777777777778,
              "#fb9f3a"
             ],
             [
              0.8888888888888888,
              "#fdca26"
             ],
             [
              1,
              "#f0f921"
             ]
            ],
            "type": "histogram2d"
           }
          ],
          "histogram2dcontour": [
           {
            "colorbar": {
             "outlinewidth": 0,
             "ticks": ""
            },
            "colorscale": [
             [
              0,
              "#0d0887"
             ],
             [
              0.1111111111111111,
              "#46039f"
             ],
             [
              0.2222222222222222,
              "#7201a8"
             ],
             [
              0.3333333333333333,
              "#9c179e"
             ],
             [
              0.4444444444444444,
              "#bd3786"
             ],
             [
              0.5555555555555556,
              "#d8576b"
             ],
             [
              0.6666666666666666,
              "#ed7953"
             ],
             [
              0.7777777777777778,
              "#fb9f3a"
             ],
             [
              0.8888888888888888,
              "#fdca26"
             ],
             [
              1,
              "#f0f921"
             ]
            ],
            "type": "histogram2dcontour"
           }
          ],
          "mesh3d": [
           {
            "colorbar": {
             "outlinewidth": 0,
             "ticks": ""
            },
            "type": "mesh3d"
           }
          ],
          "parcoords": [
           {
            "line": {
             "colorbar": {
              "outlinewidth": 0,
              "ticks": ""
             }
            },
            "type": "parcoords"
           }
          ],
          "pie": [
           {
            "automargin": true,
            "type": "pie"
           }
          ],
          "scatter": [
           {
            "fillpattern": {
             "fillmode": "overlay",
             "size": 10,
             "solidity": 0.2
            },
            "type": "scatter"
           }
          ],
          "scatter3d": [
           {
            "line": {
             "colorbar": {
              "outlinewidth": 0,
              "ticks": ""
             }
            },
            "marker": {
             "colorbar": {
              "outlinewidth": 0,
              "ticks": ""
             }
            },
            "type": "scatter3d"
           }
          ],
          "scattercarpet": [
           {
            "marker": {
             "colorbar": {
              "outlinewidth": 0,
              "ticks": ""
             }
            },
            "type": "scattercarpet"
           }
          ],
          "scattergeo": [
           {
            "marker": {
             "colorbar": {
              "outlinewidth": 0,
              "ticks": ""
             }
            },
            "type": "scattergeo"
           }
          ],
          "scattergl": [
           {
            "marker": {
             "colorbar": {
              "outlinewidth": 0,
              "ticks": ""
             }
            },
            "type": "scattergl"
           }
          ],
          "scattermapbox": [
           {
            "marker": {
             "colorbar": {
              "outlinewidth": 0,
              "ticks": ""
             }
            },
            "type": "scattermapbox"
           }
          ],
          "scatterpolar": [
           {
            "marker": {
             "colorbar": {
              "outlinewidth": 0,
              "ticks": ""
             }
            },
            "type": "scatterpolar"
           }
          ],
          "scatterpolargl": [
           {
            "marker": {
             "colorbar": {
              "outlinewidth": 0,
              "ticks": ""
             }
            },
            "type": "scatterpolargl"
           }
          ],
          "scatterternary": [
           {
            "marker": {
             "colorbar": {
              "outlinewidth": 0,
              "ticks": ""
             }
            },
            "type": "scatterternary"
           }
          ],
          "surface": [
           {
            "colorbar": {
             "outlinewidth": 0,
             "ticks": ""
            },
            "colorscale": [
             [
              0,
              "#0d0887"
             ],
             [
              0.1111111111111111,
              "#46039f"
             ],
             [
              0.2222222222222222,
              "#7201a8"
             ],
             [
              0.3333333333333333,
              "#9c179e"
             ],
             [
              0.4444444444444444,
              "#bd3786"
             ],
             [
              0.5555555555555556,
              "#d8576b"
             ],
             [
              0.6666666666666666,
              "#ed7953"
             ],
             [
              0.7777777777777778,
              "#fb9f3a"
             ],
             [
              0.8888888888888888,
              "#fdca26"
             ],
             [
              1,
              "#f0f921"
             ]
            ],
            "type": "surface"
           }
          ],
          "table": [
           {
            "cells": {
             "fill": {
              "color": "#EBF0F8"
             },
             "line": {
              "color": "white"
             }
            },
            "header": {
             "fill": {
              "color": "#C8D4E3"
             },
             "line": {
              "color": "white"
             }
            },
            "type": "table"
           }
          ]
         },
         "layout": {
          "annotationdefaults": {
           "arrowcolor": "#2a3f5f",
           "arrowhead": 0,
           "arrowwidth": 1
          },
          "autotypenumbers": "strict",
          "coloraxis": {
           "colorbar": {
            "outlinewidth": 0,
            "ticks": ""
           }
          },
          "colorscale": {
           "diverging": [
            [
             0,
             "#8e0152"
            ],
            [
             0.1,
             "#c51b7d"
            ],
            [
             0.2,
             "#de77ae"
            ],
            [
             0.3,
             "#f1b6da"
            ],
            [
             0.4,
             "#fde0ef"
            ],
            [
             0.5,
             "#f7f7f7"
            ],
            [
             0.6,
             "#e6f5d0"
            ],
            [
             0.7,
             "#b8e186"
            ],
            [
             0.8,
             "#7fbc41"
            ],
            [
             0.9,
             "#4d9221"
            ],
            [
             1,
             "#276419"
            ]
           ],
           "sequential": [
            [
             0,
             "#0d0887"
            ],
            [
             0.1111111111111111,
             "#46039f"
            ],
            [
             0.2222222222222222,
             "#7201a8"
            ],
            [
             0.3333333333333333,
             "#9c179e"
            ],
            [
             0.4444444444444444,
             "#bd3786"
            ],
            [
             0.5555555555555556,
             "#d8576b"
            ],
            [
             0.6666666666666666,
             "#ed7953"
            ],
            [
             0.7777777777777778,
             "#fb9f3a"
            ],
            [
             0.8888888888888888,
             "#fdca26"
            ],
            [
             1,
             "#f0f921"
            ]
           ],
           "sequentialminus": [
            [
             0,
             "#0d0887"
            ],
            [
             0.1111111111111111,
             "#46039f"
            ],
            [
             0.2222222222222222,
             "#7201a8"
            ],
            [
             0.3333333333333333,
             "#9c179e"
            ],
            [
             0.4444444444444444,
             "#bd3786"
            ],
            [
             0.5555555555555556,
             "#d8576b"
            ],
            [
             0.6666666666666666,
             "#ed7953"
            ],
            [
             0.7777777777777778,
             "#fb9f3a"
            ],
            [
             0.8888888888888888,
             "#fdca26"
            ],
            [
             1,
             "#f0f921"
            ]
           ]
          },
          "colorway": [
           "#636efa",
           "#EF553B",
           "#00cc96",
           "#ab63fa",
           "#FFA15A",
           "#19d3f3",
           "#FF6692",
           "#B6E880",
           "#FF97FF",
           "#FECB52"
          ],
          "font": {
           "color": "#2a3f5f"
          },
          "geo": {
           "bgcolor": "white",
           "lakecolor": "white",
           "landcolor": "#E5ECF6",
           "showlakes": true,
           "showland": true,
           "subunitcolor": "white"
          },
          "hoverlabel": {
           "align": "left"
          },
          "hovermode": "closest",
          "mapbox": {
           "style": "light"
          },
          "paper_bgcolor": "white",
          "plot_bgcolor": "#E5ECF6",
          "polar": {
           "angularaxis": {
            "gridcolor": "white",
            "linecolor": "white",
            "ticks": ""
           },
           "bgcolor": "#E5ECF6",
           "radialaxis": {
            "gridcolor": "white",
            "linecolor": "white",
            "ticks": ""
           }
          },
          "scene": {
           "xaxis": {
            "backgroundcolor": "#E5ECF6",
            "gridcolor": "white",
            "gridwidth": 2,
            "linecolor": "white",
            "showbackground": true,
            "ticks": "",
            "zerolinecolor": "white"
           },
           "yaxis": {
            "backgroundcolor": "#E5ECF6",
            "gridcolor": "white",
            "gridwidth": 2,
            "linecolor": "white",
            "showbackground": true,
            "ticks": "",
            "zerolinecolor": "white"
           },
           "zaxis": {
            "backgroundcolor": "#E5ECF6",
            "gridcolor": "white",
            "gridwidth": 2,
            "linecolor": "white",
            "showbackground": true,
            "ticks": "",
            "zerolinecolor": "white"
           }
          },
          "shapedefaults": {
           "line": {
            "color": "#2a3f5f"
           }
          },
          "ternary": {
           "aaxis": {
            "gridcolor": "white",
            "linecolor": "white",
            "ticks": ""
           },
           "baxis": {
            "gridcolor": "white",
            "linecolor": "white",
            "ticks": ""
           },
           "bgcolor": "#E5ECF6",
           "caxis": {
            "gridcolor": "white",
            "linecolor": "white",
            "ticks": ""
           }
          },
          "title": {
           "x": 0.05
          },
          "xaxis": {
           "automargin": true,
           "gridcolor": "white",
           "linecolor": "white",
           "ticks": "",
           "title": {
            "standoff": 15
           },
           "zerolinecolor": "white",
           "zerolinewidth": 2
          },
          "yaxis": {
           "automargin": true,
           "gridcolor": "white",
           "linecolor": "white",
           "ticks": "",
           "title": {
            "standoff": 15
           },
           "zerolinecolor": "white",
           "zerolinewidth": 2
          }
         }
        },
        "title": {
         "text": "Percent AI startups: 13K Ecommerce Startups"
        },
        "width": 800,
        "xaxis": {
         "title": {
          "text": "Year Founded"
         }
        },
        "yaxis": {
         "title": {
          "text": "Percent AI startups"
         }
        }
       }
      }
     },
     "metadata": {},
     "output_type": "display_data"
    },
    {
     "ename": "ValueError",
     "evalue": "\nImage export using the \"kaleido\" engine requires the kaleido package,\nwhich can be installed using pip:\n    $ pip install -U kaleido\n",
     "output_type": "error",
     "traceback": [
      "\u001b[0;31m---------------------------------------------------------------------------\u001b[0m",
      "\u001b[0;31mValueError\u001b[0m                                Traceback (most recent call last)",
      "Cell \u001b[0;32mIn[21], line 40\u001b[0m\n\u001b[1;32m     38\u001b[0m \u001b[38;5;66;03m# Show the plot\u001b[39;00m\n\u001b[1;32m     39\u001b[0m fig\u001b[38;5;241m.\u001b[39mshow()\n\u001b[0;32m---> 40\u001b[0m \u001b[43mpio\u001b[49m\u001b[38;5;241;43m.\u001b[39;49m\u001b[43mwrite_image\u001b[49m\u001b[43m(\u001b[49m\u001b[43mfig\u001b[49m\u001b[43m,\u001b[49m\u001b[43m \u001b[49m\u001b[38;5;124;43m'\u001b[39;49m\u001b[38;5;124;43m../output/percentage_ai_startups_over_years.png\u001b[39;49m\u001b[38;5;124;43m'\u001b[39;49m\u001b[43m)\u001b[49m\n",
      "File \u001b[0;32m~/Library/Python/3.9/lib/python/site-packages/plotly/io/_kaleido.py:266\u001b[0m, in \u001b[0;36mwrite_image\u001b[0;34m(fig, file, format, scale, width, height, validate, engine)\u001b[0m\n\u001b[1;32m    250\u001b[0m             \u001b[38;5;28;01mraise\u001b[39;00m \u001b[38;5;167;01mValueError\u001b[39;00m(\n\u001b[1;32m    251\u001b[0m \u001b[38;5;250m                \u001b[39m\u001b[38;5;124;03m\"\"\"\u001b[39;00m\n\u001b[1;32m    252\u001b[0m \u001b[38;5;124;03mCannot infer image type from output path '{file}'.\u001b[39;00m\n\u001b[0;32m   (...)\u001b[0m\n\u001b[1;32m    260\u001b[0m                 )\n\u001b[1;32m    261\u001b[0m             )\n\u001b[1;32m    263\u001b[0m     \u001b[38;5;66;03m# Request image\u001b[39;00m\n\u001b[1;32m    264\u001b[0m     \u001b[38;5;66;03m# -------------\u001b[39;00m\n\u001b[1;32m    265\u001b[0m     \u001b[38;5;66;03m# Do this first so we don't create a file if image conversion fails\u001b[39;00m\n\u001b[0;32m--> 266\u001b[0m     img_data \u001b[38;5;241m=\u001b[39m \u001b[43mto_image\u001b[49m\u001b[43m(\u001b[49m\n\u001b[1;32m    267\u001b[0m \u001b[43m        \u001b[49m\u001b[43mfig\u001b[49m\u001b[43m,\u001b[49m\n\u001b[1;32m    268\u001b[0m \u001b[43m        \u001b[49m\u001b[38;5;28;43mformat\u001b[39;49m\u001b[38;5;241;43m=\u001b[39;49m\u001b[38;5;28;43mformat\u001b[39;49m\u001b[43m,\u001b[49m\n\u001b[1;32m    269\u001b[0m \u001b[43m        \u001b[49m\u001b[43mscale\u001b[49m\u001b[38;5;241;43m=\u001b[39;49m\u001b[43mscale\u001b[49m\u001b[43m,\u001b[49m\n\u001b[1;32m    270\u001b[0m \u001b[43m        \u001b[49m\u001b[43mwidth\u001b[49m\u001b[38;5;241;43m=\u001b[39;49m\u001b[43mwidth\u001b[49m\u001b[43m,\u001b[49m\n\u001b[1;32m    271\u001b[0m \u001b[43m        \u001b[49m\u001b[43mheight\u001b[49m\u001b[38;5;241;43m=\u001b[39;49m\u001b[43mheight\u001b[49m\u001b[43m,\u001b[49m\n\u001b[1;32m    272\u001b[0m \u001b[43m        \u001b[49m\u001b[43mvalidate\u001b[49m\u001b[38;5;241;43m=\u001b[39;49m\u001b[43mvalidate\u001b[49m\u001b[43m,\u001b[49m\n\u001b[1;32m    273\u001b[0m \u001b[43m        \u001b[49m\u001b[43mengine\u001b[49m\u001b[38;5;241;43m=\u001b[39;49m\u001b[43mengine\u001b[49m\u001b[43m,\u001b[49m\n\u001b[1;32m    274\u001b[0m \u001b[43m    \u001b[49m\u001b[43m)\u001b[49m\n\u001b[1;32m    276\u001b[0m     \u001b[38;5;66;03m# Open file\u001b[39;00m\n\u001b[1;32m    277\u001b[0m     \u001b[38;5;66;03m# ---------\u001b[39;00m\n\u001b[1;32m    278\u001b[0m     \u001b[38;5;28;01mif\u001b[39;00m path \u001b[38;5;129;01mis\u001b[39;00m \u001b[38;5;28;01mNone\u001b[39;00m:\n\u001b[1;32m    279\u001b[0m         \u001b[38;5;66;03m# We previously failed to make sense of `file` as a pathlib object.\u001b[39;00m\n\u001b[1;32m    280\u001b[0m         \u001b[38;5;66;03m# Attempt to write to `file` as an open file descriptor.\u001b[39;00m\n",
      "File \u001b[0;32m~/Library/Python/3.9/lib/python/site-packages/plotly/io/_kaleido.py:132\u001b[0m, in \u001b[0;36mto_image\u001b[0;34m(fig, format, width, height, scale, validate, engine)\u001b[0m\n\u001b[1;32m    130\u001b[0m     \u001b[38;5;66;03m# Raise informative error message if Kaleido is not installed\u001b[39;00m\n\u001b[1;32m    131\u001b[0m     \u001b[38;5;28;01mif\u001b[39;00m scope \u001b[38;5;129;01mis\u001b[39;00m \u001b[38;5;28;01mNone\u001b[39;00m:\n\u001b[0;32m--> 132\u001b[0m         \u001b[38;5;28;01mraise\u001b[39;00m \u001b[38;5;167;01mValueError\u001b[39;00m(\n\u001b[1;32m    133\u001b[0m \u001b[38;5;250m            \u001b[39m\u001b[38;5;124;03m\"\"\"\u001b[39;00m\n\u001b[1;32m    134\u001b[0m \u001b[38;5;124;03mImage export using the \"kaleido\" engine requires the kaleido package,\u001b[39;00m\n\u001b[1;32m    135\u001b[0m \u001b[38;5;124;03mwhich can be installed using pip:\u001b[39;00m\n\u001b[1;32m    136\u001b[0m \u001b[38;5;124;03m    $ pip install -U kaleido\u001b[39;00m\n\u001b[1;32m    137\u001b[0m \u001b[38;5;124;03m\"\"\"\u001b[39;00m\n\u001b[1;32m    138\u001b[0m         )\n\u001b[1;32m    140\u001b[0m     \u001b[38;5;66;03m# Validate figure\u001b[39;00m\n\u001b[1;32m    141\u001b[0m     \u001b[38;5;66;03m# ---------------\u001b[39;00m\n\u001b[1;32m    142\u001b[0m     fig_dict \u001b[38;5;241m=\u001b[39m validate_coerce_fig_to_dict(fig, validate)\n",
      "\u001b[0;31mValueError\u001b[0m: \nImage export using the \"kaleido\" engine requires the kaleido package,\nwhich can be installed using pip:\n    $ pip install -U kaleido\n"
     ]
    }
   ],
   "source": [
    "grouped = df.groupby('year').agg({'organization name':'count','automate':'sum'}).reset_index().rename({'organization name':'total number of startups','automate':'total number of automate startups'},axis=1)\n",
    "grouped[\"percent AI startups\"] = grouped[\"total number of automate startups\"]/grouped[\"total number of startups\"]\n",
    "\n",
    "\n",
    "\n",
    "# Create the figure\n",
    "fig = go.Figure()\n",
    "\n",
    "# Add the scatter plot\n",
    "fig.add_trace(go.Scatter(\n",
    "    x=grouped[\"year\"], \n",
    "    y=grouped[\"percent AI startups\"], \n",
    "    mode='markers',\n",
    "    name='Percent AI startups'\n",
    "))\n",
    "\n",
    "\n",
    "# Update layout with titles and dimensions\n",
    "fig.update_layout(\n",
    "    title=\"Percent AI startups: 13K Ecommerce Startups\",\n",
    "    xaxis_title=\"Year Founded\",\n",
    "    yaxis_title=\"Percent AI startups\",\n",
    "    width=800,\n",
    "    height=600,\n",
    "    margin=dict(l=50, r=50, t=50, b=100) \n",
    ")\n",
    "\n",
    "# Add the annotation for the caption\n",
    "fig.add_annotation(\n",
    "    text='\"Artificial Intelligence (AI)\" keyword listed in crunchbase industries for Startup',\n",
    "    xref=\"paper\", yref=\"paper\",\n",
    "    x=0.5, y=-0.15,\n",
    "    showarrow=False,\n",
    "    font=dict(size=12),\n",
    "    xanchor='center'\n",
    ")\n",
    "\n",
    "# Show the plot\n",
    "fig.show()\n",
    "pio.write_image(fig, '../output/percentage_ai_startups_over_years.png')"
   ]
  },
  {
   "cell_type": "code",
   "execution_count": 22,
   "id": "169551cd",
   "metadata": {},
   "outputs": [
    {
     "name": "stdout",
     "output_type": "stream",
     "text": [
      "Defaulting to user installation because normal site-packages is not writeable\n",
      "Collecting kaleido\n",
      "  Downloading kaleido-0.2.1-py2.py3-none-macosx_11_0_arm64.whl (85.8 MB)\n",
      "\u001b[K     |████████████████████████████████| 85.8 MB 18.5 MB/s eta 0:00:01\n",
      "\u001b[?25hInstalling collected packages: kaleido\n",
      "Successfully installed kaleido-0.2.1\n",
      "\u001b[33mWARNING: You are using pip version 21.2.4; however, version 24.2 is available.\n",
      "You should consider upgrading via the '/Library/Developer/CommandLineTools/usr/bin/python3 -m pip install --upgrade pip' command.\u001b[0m\n",
      "Note: you may need to restart the kernel to use updated packages.\n"
     ]
    }
   ],
   "source": [
    "pip install -U kaleido"
   ]
  },
  {
   "cell_type": "code",
   "execution_count": 76,
   "id": "d9e5d63f-be08-40f4-90db-c4391f615a9e",
   "metadata": {},
   "outputs": [
    {
     "data": {
      "text/plain": [
       "1.651668923945931"
      ]
     },
     "execution_count": 76,
     "metadata": {},
     "output_type": "execute_result"
    }
   ],
   "source": [
    "pre.automation_rating.std()"
   ]
  },
  {
   "cell_type": "code",
   "execution_count": 77,
   "id": "cf9d2c81-aa69-47bd-8fd9-dca90ed4a2b5",
   "metadata": {},
   "outputs": [
    {
     "data": {
      "text/plain": [
       "1.5178834971047954"
      ]
     },
     "execution_count": 77,
     "metadata": {},
     "output_type": "execute_result"
    }
   ],
   "source": [
    "post.automation_rating.std()"
   ]
  },
  {
   "cell_type": "code",
   "execution_count": 87,
   "id": "15f6c205-77b1-4116-8d9b-a626ca6a1f27",
   "metadata": {},
   "outputs": [
    {
     "data": {
      "text/plain": [
       "901"
      ]
     },
     "execution_count": 87,
     "metadata": {},
     "output_type": "execute_result"
    }
   ],
   "source": [
    "len(pre[pre[\"automation_rating\"]>6])"
   ]
  },
  {
   "cell_type": "code",
   "execution_count": 58,
   "id": "a9f84465-8f33-4926-b1d3-4ac187c1b590",
   "metadata": {},
   "outputs": [
    {
     "name": "stdout",
     "output_type": "stream",
     "text": [
      "98\n",
      "2232\n"
     ]
    }
   ],
   "source": [
    "print(len(pre[pre.generated_description.str.contains(\"language\")]))\n",
    "print(len(pre))"
   ]
  },
  {
   "cell_type": "code",
   "execution_count": 59,
   "id": "69fc8887-a6c8-4d3a-be87-c0116172d6e3",
   "metadata": {},
   "outputs": [
    {
     "name": "stdout",
     "output_type": "stream",
     "text": [
      "40\n",
      "695\n"
     ]
    }
   ],
   "source": [
    "print(len(post[post.generated_description.str.contains(\"language\")]))\n",
    "print(len(post))"
   ]
  },
  {
   "cell_type": "code",
   "execution_count": 60,
   "id": "021ebbbb-5318-42e7-a599-937b7fd05a85",
   "metadata": {},
   "outputs": [
    {
     "data": {
      "text/plain": [
       "organization name\n",
       "Intelligent Racing         Intelligent Racing Analysis\\n\\nRating: 2\\n\\nRe...\n",
       "Bright Feeds               Bright Feeds Analysis\\n\\nRating: 7\\n\\nReasonin...\n",
       "CTNEX                      CTNEX Analysis\\n\\nRating: 7\\n\\nReasoning: Whil...\n",
       "Fathom                     Here's an analysis of Fathom:\\n\\nRating: 4\\n\\n...\n",
       "Chronly                    Chronly Analysis\\n\\nRating: 8\\n\\nReasoning: Ch...\n",
       "                                                 ...                        \n",
       "Definitive Intelligence    Definitive Intelligence Rating:\\n\\nRating: 7\\n...\n",
       "Aiden                      Aiden Analysis\\n\\nRating: 8\\n\\nReasoning: Aide...\n",
       "Clearbrief                 Clearbrief Analysis:\\n\\nRating: 8\\n\\nReasoning...\n",
       "Webaverse                  Webaverse Rating: \\n\\nRating: 3\\n\\nReasoning: ...\n",
       "Formulate                  Formulate Rating: \\n\\nRating: 7\\n\\nReasoning: ...\n",
       "Name: automation_rating_llm, Length: 2927, dtype: object"
      ]
     },
     "execution_count": 60,
     "metadata": {},
     "output_type": "execute_result"
    }
   ],
   "source": [
    "df.automation_rating_llm"
   ]
  },
  {
   "cell_type": "code",
   "execution_count": 61,
   "id": "a0ae0864-3dcb-4737-ba27-eab56067104a",
   "metadata": {},
   "outputs": [
    {
     "name": "stdout",
     "output_type": "stream",
     "text": [
      "CTNEX is a mobile marketplace app that connects buyers and sellers in Africa's informal SME sector, offering integrated services like AI-powered delivery, embedded finance, and quick credit underwriting. By digitizing this sector, CTNEX aims to create economic opportunities and foster growth within the African market.\n",
      "Chronly is an AI-powered workforce management platform that helps tech teams track progress, identify areas for improvement, and optimize resource allocation. It provides real-time insights to ensure projects stay on schedule and within budget.\n",
      "MyJobAide LLC offers an AI-powered job assistant designed to help job seekers get interview calls for their target positions. It provides personalized guidance and support throughout the job search process, aiming to streamline the journey and increase success rates.\n",
      "TraceChain develops advanced traceability software solutions using AI and ML for regulated industries. Their L4 and L5 solutions provide a comprehensive view of the supply chain, enabling enhanced compliance and efficiency.\n",
      "Arkifi offers AI-powered financial analyst tools designed to eliminate \"hallucination\" and deliver reliable, consistent results. Their technology is built to provide businesses with confidence in their financial insights and analysis.\n",
      "Ainstein develops affordable, autonomous AI agents that are designed to empower individuals with enhanced capabilities and productivity. These AI workers, accessible to everyone, aim to democratize artificial intelligence and unlock new possibilities for human potential.\n",
      "SatYield is a technology company that leverages satellite imagery and artificial intelligence to provide accurate crop yield predictions months before harvest. This information empowers farmers, insurers, and commodity traders to make informed decisions, minimizing risk and enhancing food security.\n",
      "ChatGPTDemo.io is a platform that offers free access to ChatGPT, GPT-3, and GPT-4 through the official ChatGPT API. It also features an extensive directory of AI tools and resources, categorized by function, to help users discover and explore the capabilities of these technologies.\n",
      "ContextQA is a low-code, no-code test automation platform that uses AI to streamline testing processes. It offers features like automated test case generation, self-healing tests, visual regression analysis, and root cause analysis, allowing for comprehensive testing across various platforms and applications.\n",
      "Lepton AI empowers businesses to deploy and run AI applications at scale within minutes through its cloud-native platform. The company focuses on streamlining the process of building and deploying AI models, simplifying the complexity of AI infrastructure management.\n",
      "Sweetspot is a platform that utilizes artificial intelligence to streamline the process of securing government contracts for businesses. It assists companies in identifying, managing, and responding to government bids, making it easier for them to win lucrative contracts.\n",
      "Magnifi is an AI-powered recruitment platform that helps companies find the best candidates by analyzing their experience and translating it into quantifiable skills and competencies. This platform simplifies the hiring process by matching qualified candidates to relevant job openings based on their unique skills and experience.\n",
      "Reo.Dev is a growth platform designed specifically for developer-focused companies. It integrates with various developer tools like GitHub, Docker, and Slack to analyze developer activity and identify potential sales opportunities and accounts ready to purchase.\n",
      "LUBU Technologies offers AI-powered smart insoles that provide real-time feedback on gait and biomechanics, helping users improve performance and reduce injury risk. The insoles collect data on factors such as pressure distribution, stride length, and impact forces, then use AI algorithms to analyze and provide personalized insights.\n",
      "Zime is an AI-powered sales coaching platform that uses behavioral science to drive best practices adoption within sales teams. By analyzing data and leveraging a company's existing knowledge, Zime provides real-time coaching and guidance to individual sales reps, ensuring they consistently implement the most effective strategies.\n",
      "Echo Labs is a company focused on developing advanced AI technology for transcription. Their flagship product aims to achieve human-level accuracy in transcribing audio and video content, offering a more efficient and precise alternative to traditional methods.\n",
      "AminoAnalytica is a generative AI company focused on protein-based therapeutics. Their technology helps biopharma companies design and develop manufacturable proteins faster, ultimately leading to more efficient drug development and production.\n",
      "Civio.ai utilizes artificial intelligence to help businesses generate revenue through government contracts and grants. Their platform analyzes government spending data, identifies potential funding opportunities, and automates the application process for improved efficiency.\n",
      "Safebooks AI offers an automated platform that helps enterprises ensure the accuracy and quality of their financial data. By automating the verification process, Safebooks AI enables businesses to confidently sign off on 100% of their financial data, eliminating potential errors and improving transparency.\n",
      "Echo Systems AI, Inc. offers a real-time voice assistant that leverages artificial intelligence for enhanced communication and collaboration within businesses. This AI-powered assistant is designed to streamline workflows, improve productivity, and provide intelligent insights through natural language interactions.\n"
     ]
    },
    {
     "name": "stderr",
     "output_type": "stream",
     "text": [
      "/var/folders/nf/2dvvlnxj5v962kwwzmpfj17h0000gn/T/ipykernel_21420/3336887918.py:2: FutureWarning: Series.__getitem__ treating keys as positions is deprecated. In a future version, integer keys will always be treated as labels (consistent with DataFrame behavior). To access a value by position, use `ser.iloc[pos]`\n",
      "  print(post.generated_description[x])\n"
     ]
    }
   ],
   "source": [
    "for x in range(20):\n",
    "    print(post.generated_description[x])"
   ]
  },
  {
   "cell_type": "code",
   "execution_count": 53,
   "id": "20f59d36-44ee-4235-a378-e6256005a4a0",
   "metadata": {},
   "outputs": [
    {
     "name": "stdout",
     "output_type": "stream",
     "text": [
      "Intelligent Racing offers professional training programs in artificial intelligence and machine learning, equipping individuals with the skills needed to succeed in this rapidly evolving field. Their curriculum covers a wide range of topics, from foundational concepts to advanced techniques, empowering learners to leverage AI for real-world applications.\n",
      "Bright Feeds is a company tackling food waste by converting it into animal feed using a combination of artificial intelligence and innovative drying technology. They aim to create a sustainable solution for food waste management, reducing landfill waste and providing valuable resources for animal feed production.\n",
      "Fathom is an AI-powered podcast search engine and player that allows users to effortlessly find podcasts based on their interests and discover new conversations on specific topics. Users can ask questions and receive answers from podcasters and their guests, preview episodes, and browse recommended content based on their listening history.\n",
      "ClickHouse is a high-performance, open-source database designed for real-time analytics and data processing. Leveraging a column-oriented architecture, it excels at generating fast, analytical reports by efficiently storing and querying vast amounts of data.\n",
      "Parasanti specializes in edge computing solutions, offering software and hardware that enable real-time analytics and machine learning on devices with limited bandwidth. Their technology allows for the collection and processing of data from diverse sources, even in challenging environments, making it ideal for IoT applications and distributed systems.\n",
      "Boatrax is an IoT platform designed for boat owners, offering AI-powered preventative maintenance and real-time tracking features. The plug-and-play device connects to your boat's helm and automatically transmits data to your mobile app, providing insights for safety and cost optimization.\n",
      "Talentprise is a recruitment services company specializing in sourcing and headhunting for IT roles. They use AI technology for candidate shortlisting and offer a range of services including job finder tools and IT recruitment support.\n",
      "Ango AI is a data labeling platform specifically designed for the medical AI industry. Their platform facilitates the transfer of knowledge from human experts to AI models, allowing for the creation of high-quality training data that is crucial for the development of accurate and reliable medical AI applications.\n",
      "Levogy is an IT services company that specializes in a range of technologies, including enterprise integration, EDI, web and application development, cloud migration and management, analytics, machine learning, and artificial intelligence. They offer custom solutions tailored to meet the specific needs of their clients, helping them optimize their IT infrastructure and operations.\n",
      "Digital First AI is a generative AI tool that provides personalized marketing strategy recommendations and helps execute them, allowing businesses to scale their revenue. It leverages information about a company to suggest marketing activities tailored to its specific needs.\n",
      "Inergio provides an AI-powered digital asset performance management solution specifically tailored for the solar, wind, and electricity industries. Their focus is on leveraging data analytics to optimize asset performance, reduce operational costs, and transition from scheduled maintenance to reliability-centered maintenance.\n",
      "WiteSand offers a cloud-based platform that uses AI/ML to simplify enterprise networking management. They consolidate on-premise networking tools into a unified service, providing a centralized portal for provisioning, monitoring, analysis, and security.\n",
      "CassetteAI is a user-friendly music creation platform that leverages generative AI to empower anyone, regardless of technical or musical expertise, to create original beats, sound effects, and music. The platform simplifies the process by allowing users to generate music with text-based prompts, making it accessible and democratic.\n",
      "AINOA Consulting is an East Coast-based company specializing in AI transformation. They leverage a human-centered approach to accelerate the adoption and integration of AI technologies within organizations, ensuring a smooth and successful transition.\n",
      "Aftom is a technology company that utilizes artificial intelligence to enhance worker safety and improve project productivity in various industries. The company focuses on providing solutions that streamline operations and minimize workplace risks.\n",
      "Omdena is a global community platform that connects individuals with diverse skillsets to collaborate on developing AI solutions for real-world challenges. Through structured projects, participants gain practical AI experience while addressing pressing issues in areas like healthcare, sustainability, and humanitarian aid.\n",
      "Baller Mixed Reality creates Augmented Reality NFTs autographed by famous athletes and entertainers, allowing fans to interact with these digital collectibles in real-world settings. Baller leverages blockchain technology to ensure authenticity and prevent counterfeiting, bringing a new level of engagement and value to the sports memorabilia market.\n",
      "DAGWorks provides a collaborative platform designed to streamline the development, production, and maintenance of machine learning ETLs for data science teams. This open-core platform seamlessly integrates with existing MLOps and data infrastructure, enabling efficient workflow management and collaboration.\n",
      "Joggr is an AI-powered platform that automates documentation generation and updates for software developers, ensuring documentation remains accurate and accessible with every code change. By eliminating the manual effort of updating documentation, Joggr saves developers time and resources, streamlining the development process.\n",
      "Thoro Inc provides an autonomous platform for commercial and industrial equipment, aiming to enhance efficiency and safety in various sectors like cleaning, logistics, and hospitality. Their solution, including software, hardware, and cloud-based support, allows equipment to navigate complex environments while interacting with people safely.\n"
     ]
    },
    {
     "name": "stderr",
     "output_type": "stream",
     "text": [
      "/var/folders/nf/2dvvlnxj5v962kwwzmpfj17h0000gn/T/ipykernel_21420/119646399.py:2: FutureWarning: Series.__getitem__ treating keys as positions is deprecated. In a future version, integer keys will always be treated as labels (consistent with DataFrame behavior). To access a value by position, use `ser.iloc[pos]`\n",
      "  print(pre.generated_description[x])\n"
     ]
    }
   ],
   "source": [
    "for x in range(20):\n",
    "    print(pre.generated_description[x])"
   ]
  },
  {
   "cell_type": "code",
   "execution_count": 49,
   "id": "e95b6d49-4fac-4e9e-8847-38206297f824",
   "metadata": {},
   "outputs": [],
   "source": []
  },
  {
   "cell_type": "code",
   "execution_count": 61,
   "id": "11ecc9d9-0ec8-4dc2-b9ed-285f15e90539",
   "metadata": {},
   "outputs": [],
   "source": [
    "onet_df = pd.read_csv(\"../output/results/onet_df.csv\")\n",
    "\n",
    "# onet_df = onet_df[onet_df.task_similarity > .68]\n",
    "onet_df = onet_df.groupby(\"organization_name\").aggregate({\"task_similarity\":\"max\"})\n",
    "\n",
    "startup_df = pd.read_csv(\"../output/results/df_with_examples.csv\")\n",
    "cols = ['organization name', 'founded date', 'website', 'description_all', 'industries_parsed', 'generated_description', 'parsed_description', 'Tasks/Jobs', 'Industry', 'Customers', 'generated_description_conf_interval', 'parsed_description_conf_interval']\n",
    "df = startup_df[cols]\n",
    "df = df.merge(onet_df,left_on=\"organization name\",right_on=\"organization_name\")\n",
    "df['founded date'] = pd.to_datetime(df['founded date'])\n",
    "df.set_index('founded date', inplace=True)\n",
    "\n",
    "# Resample to six-month frequency and count occurrences\n",
    "result = df.resample('1M')['task_similarity'].mean()"
   ]
  },
  {
   "cell_type": "code",
   "execution_count": 62,
   "id": "8200f81f-246c-4859-a082-d49baf341e9b",
   "metadata": {},
   "outputs": [
    {
     "data": {
      "text/plain": [
       "founded date\n",
       "2022-11-30    0.763586\n",
       "2022-12-31    0.745866\n",
       "2023-01-31    0.738791\n",
       "2023-02-28    0.753321\n",
       "2023-03-31    0.727385\n",
       "2023-04-30    0.743651\n",
       "2023-05-31    0.744339\n",
       "2023-06-30    0.732133\n",
       "2023-07-31    0.758891\n",
       "2023-08-31    0.736735\n",
       "2023-09-30    0.738918\n",
       "2023-10-31    0.749878\n",
       "2023-11-30    0.746484\n",
       "2023-12-31    0.727157\n",
       "2024-01-31    0.746109\n",
       "2024-02-29    0.755897\n",
       "2024-03-31    0.753329\n",
       "2024-04-30    0.750903\n",
       "2024-05-31    0.740903\n",
       "2024-06-30    0.722489\n",
       "Freq: M, Name: task_similarity, dtype: float64"
      ]
     },
     "execution_count": 62,
     "metadata": {},
     "output_type": "execute_result"
    }
   ],
   "source": [
    "result"
   ]
  },
  {
   "cell_type": "code",
   "execution_count": 60,
   "id": "f15c90d1-050f-4638-860e-c94b48ffca77",
   "metadata": {},
   "outputs": [
    {
     "ename": "KeyError",
     "evalue": "'founded date'",
     "output_type": "error",
     "traceback": [
      "\u001b[0;31m---------------------------------------------------------------------------\u001b[0m",
      "\u001b[0;31mKeyError\u001b[0m                                  Traceback (most recent call last)",
      "File \u001b[0;32m/opt/anaconda3/lib/python3.11/site-packages/pandas/core/indexes/base.py:3791\u001b[0m, in \u001b[0;36mIndex.get_loc\u001b[0;34m(self, key)\u001b[0m\n\u001b[1;32m   3790\u001b[0m \u001b[38;5;28;01mtry\u001b[39;00m:\n\u001b[0;32m-> 3791\u001b[0m     \u001b[38;5;28;01mreturn\u001b[39;00m \u001b[38;5;28mself\u001b[39m\u001b[38;5;241m.\u001b[39m_engine\u001b[38;5;241m.\u001b[39mget_loc(casted_key)\n\u001b[1;32m   3792\u001b[0m \u001b[38;5;28;01mexcept\u001b[39;00m \u001b[38;5;167;01mKeyError\u001b[39;00m \u001b[38;5;28;01mas\u001b[39;00m err:\n",
      "File \u001b[0;32mindex.pyx:152\u001b[0m, in \u001b[0;36mpandas._libs.index.IndexEngine.get_loc\u001b[0;34m()\u001b[0m\n",
      "File \u001b[0;32mindex.pyx:181\u001b[0m, in \u001b[0;36mpandas._libs.index.IndexEngine.get_loc\u001b[0;34m()\u001b[0m\n",
      "File \u001b[0;32mpandas/_libs/hashtable_class_helper.pxi:7080\u001b[0m, in \u001b[0;36mpandas._libs.hashtable.PyObjectHashTable.get_item\u001b[0;34m()\u001b[0m\n",
      "File \u001b[0;32mpandas/_libs/hashtable_class_helper.pxi:7088\u001b[0m, in \u001b[0;36mpandas._libs.hashtable.PyObjectHashTable.get_item\u001b[0;34m()\u001b[0m\n",
      "\u001b[0;31mKeyError\u001b[0m: 'founded date'",
      "\nThe above exception was the direct cause of the following exception:\n",
      "\u001b[0;31mKeyError\u001b[0m                                  Traceback (most recent call last)",
      "Cell \u001b[0;32mIn[60], line 1\u001b[0m\n\u001b[0;32m----> 1\u001b[0m df[\u001b[38;5;124m'\u001b[39m\u001b[38;5;124mfounded date\u001b[39m\u001b[38;5;124m'\u001b[39m] \u001b[38;5;241m=\u001b[39m pd\u001b[38;5;241m.\u001b[39mto_datetime(df[\u001b[38;5;124m'\u001b[39m\u001b[38;5;124mfounded date\u001b[39m\u001b[38;5;124m'\u001b[39m])\n\u001b[1;32m      2\u001b[0m df\u001b[38;5;241m.\u001b[39mset_index(\u001b[38;5;124m'\u001b[39m\u001b[38;5;124mfounded date\u001b[39m\u001b[38;5;124m'\u001b[39m, inplace\u001b[38;5;241m=\u001b[39m\u001b[38;5;28;01mTrue\u001b[39;00m)\n\u001b[1;32m      4\u001b[0m \u001b[38;5;66;03m# Resample to six-month frequency and count occurrences\u001b[39;00m\n",
      "File \u001b[0;32m/opt/anaconda3/lib/python3.11/site-packages/pandas/core/frame.py:3893\u001b[0m, in \u001b[0;36mDataFrame.__getitem__\u001b[0;34m(self, key)\u001b[0m\n\u001b[1;32m   3891\u001b[0m \u001b[38;5;28;01mif\u001b[39;00m \u001b[38;5;28mself\u001b[39m\u001b[38;5;241m.\u001b[39mcolumns\u001b[38;5;241m.\u001b[39mnlevels \u001b[38;5;241m>\u001b[39m \u001b[38;5;241m1\u001b[39m:\n\u001b[1;32m   3892\u001b[0m     \u001b[38;5;28;01mreturn\u001b[39;00m \u001b[38;5;28mself\u001b[39m\u001b[38;5;241m.\u001b[39m_getitem_multilevel(key)\n\u001b[0;32m-> 3893\u001b[0m indexer \u001b[38;5;241m=\u001b[39m \u001b[38;5;28mself\u001b[39m\u001b[38;5;241m.\u001b[39mcolumns\u001b[38;5;241m.\u001b[39mget_loc(key)\n\u001b[1;32m   3894\u001b[0m \u001b[38;5;28;01mif\u001b[39;00m is_integer(indexer):\n\u001b[1;32m   3895\u001b[0m     indexer \u001b[38;5;241m=\u001b[39m [indexer]\n",
      "File \u001b[0;32m/opt/anaconda3/lib/python3.11/site-packages/pandas/core/indexes/base.py:3798\u001b[0m, in \u001b[0;36mIndex.get_loc\u001b[0;34m(self, key)\u001b[0m\n\u001b[1;32m   3793\u001b[0m     \u001b[38;5;28;01mif\u001b[39;00m \u001b[38;5;28misinstance\u001b[39m(casted_key, \u001b[38;5;28mslice\u001b[39m) \u001b[38;5;129;01mor\u001b[39;00m (\n\u001b[1;32m   3794\u001b[0m         \u001b[38;5;28misinstance\u001b[39m(casted_key, abc\u001b[38;5;241m.\u001b[39mIterable)\n\u001b[1;32m   3795\u001b[0m         \u001b[38;5;129;01mand\u001b[39;00m \u001b[38;5;28many\u001b[39m(\u001b[38;5;28misinstance\u001b[39m(x, \u001b[38;5;28mslice\u001b[39m) \u001b[38;5;28;01mfor\u001b[39;00m x \u001b[38;5;129;01min\u001b[39;00m casted_key)\n\u001b[1;32m   3796\u001b[0m     ):\n\u001b[1;32m   3797\u001b[0m         \u001b[38;5;28;01mraise\u001b[39;00m InvalidIndexError(key)\n\u001b[0;32m-> 3798\u001b[0m     \u001b[38;5;28;01mraise\u001b[39;00m \u001b[38;5;167;01mKeyError\u001b[39;00m(key) \u001b[38;5;28;01mfrom\u001b[39;00m \u001b[38;5;21;01merr\u001b[39;00m\n\u001b[1;32m   3799\u001b[0m \u001b[38;5;28;01mexcept\u001b[39;00m \u001b[38;5;167;01mTypeError\u001b[39;00m:\n\u001b[1;32m   3800\u001b[0m     \u001b[38;5;66;03m# If we have a listlike key, _check_indexing_error will raise\u001b[39;00m\n\u001b[1;32m   3801\u001b[0m     \u001b[38;5;66;03m#  InvalidIndexError. Otherwise we fall through and re-raise\u001b[39;00m\n\u001b[1;32m   3802\u001b[0m     \u001b[38;5;66;03m#  the TypeError.\u001b[39;00m\n\u001b[1;32m   3803\u001b[0m     \u001b[38;5;28mself\u001b[39m\u001b[38;5;241m.\u001b[39m_check_indexing_error(key)\n",
      "\u001b[0;31mKeyError\u001b[0m: 'founded date'"
     ]
    }
   ],
   "source": []
  },
  {
   "cell_type": "code",
   "execution_count": 59,
   "id": "ba3dd675-4b84-4154-80f0-2f5548d453ff",
   "metadata": {},
   "outputs": [
    {
     "data": {
      "text/plain": [
       "founded date\n",
       "2022-11-30      1\n",
       "2022-12-31     70\n",
       "2023-01-31    970\n",
       "2023-02-28     67\n",
       "2023-03-31    102\n",
       "2023-04-30     96\n",
       "2023-05-31    101\n",
       "2023-06-30     78\n",
       "2023-07-31     73\n",
       "2023-08-31     77\n",
       "2023-09-30     77\n",
       "2023-10-31     67\n",
       "2023-11-30     67\n",
       "2023-12-31     31\n",
       "2024-01-31    163\n",
       "2024-02-29     31\n",
       "2024-03-31     49\n",
       "2024-04-30     29\n",
       "2024-05-31     24\n",
       "2024-06-30     12\n",
       "Freq: M, Name: task_similarity, dtype: int64"
      ]
     },
     "execution_count": 59,
     "metadata": {},
     "output_type": "execute_result"
    }
   ],
   "source": [
    "result"
   ]
  },
  {
   "cell_type": "code",
   "execution_count": 54,
   "id": "ec84710a-e0d6-432a-9d0d-2a847e41af6f",
   "metadata": {},
   "outputs": [
    {
     "data": {
      "text/plain": [
       "founded date\n",
       "2023-01-01    Pika.art is an AI-powered platform that allows...\n",
       "2023-01-01    Pika.art is an AI-powered platform that allows...\n",
       "2023-01-01    Pika.art is an AI-powered platform that allows...\n",
       "2023-01-01    Contextual AI is a company that provides a gen...\n",
       "2023-01-01    Contextual AI is a company that provides a gen...\n",
       "                                    ...                        \n",
       "2024-06-18    PrimeRole is a B2B sales intelligence platform...\n",
       "2024-06-18    PrimeRole is a B2B sales intelligence platform...\n",
       "2024-06-18    PrimeRole is a B2B sales intelligence platform...\n",
       "2024-06-18    PrimeRole is a B2B sales intelligence platform...\n",
       "2024-06-18    PrimeRole is a B2B sales intelligence platform...\n",
       "Name: generated_description, Length: 9357, dtype: object"
      ]
     },
     "execution_count": 54,
     "metadata": {},
     "output_type": "execute_result"
    }
   ],
   "source": [
    "df.generated_description"
   ]
  },
  {
   "cell_type": "code",
   "execution_count": null,
   "id": "b76d56d2-3582-4f79-b337-b0e073acf975",
   "metadata": {},
   "outputs": [],
   "source": []
  }
 ],
 "metadata": {
  "kernelspec": {
   "display_name": "Python 3 (ipykernel)",
   "language": "python",
   "name": "python3"
  },
  "language_info": {
   "codemirror_mode": {
    "name": "ipython",
    "version": 3
   },
   "file_extension": ".py",
   "mimetype": "text/x-python",
   "name": "python",
   "nbconvert_exporter": "python",
   "pygments_lexer": "ipython3",
   "version": "3.9.6"
  }
 },
 "nbformat": 4,
 "nbformat_minor": 5
}
