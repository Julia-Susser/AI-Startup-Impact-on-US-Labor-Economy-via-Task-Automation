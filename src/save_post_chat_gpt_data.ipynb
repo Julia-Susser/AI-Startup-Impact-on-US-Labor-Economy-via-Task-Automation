{
 "cells": [
  {
   "cell_type": "code",
   "execution_count": 11,
   "id": "2482380a-189d-454c-9d82-54eed550b0cd",
   "metadata": {},
   "outputs": [],
   "source": [
    "import pandas as pd\n",
    "from llms import gemini\n",
    "from llms import chatGPT\n",
    "from sklearn.metrics.pairwise import cosine_similarity\n",
    "from datetime import datetime\n",
    "x_chat = chatGPT()\n",
    "x_gemini = gemini()\n",
    "\n",
    "def parse_date(date):\n",
    "    if \",\" in date:\n",
    "        return datetime.strptime(date, \"%b %d, %Y\")\n",
    "    elif len(date)==4:\n",
    "        return datetime.strptime(date, \"%Y\")\n",
    "    else:\n",
    "        return datetime.strptime(date, \"%b %Y\")"
   ]
  },
  {
   "cell_type": "code",
   "execution_count": 12,
   "id": "cd077cc3-3c83-4399-80c8-263cb92cf91b",
   "metadata": {},
   "outputs": [
    {
     "name": "stdout",
     "output_type": "stream",
     "text": [
      "2210\n",
      "2196\n"
     ]
    }
   ],
   "source": [
    "data = open(\"../input/post_chat_gpt/data.txt\").read().split(\"\\n\\n\")\n",
    "labels = [\"organization name\",\"full_description\", \"industries\",\"headquarters location\",\"founded date\",\"description\",\"CB rank\",\"headquarters region\",\"postal code\", \"estimated revenue\",\"operating status\",\"exit date\",\"closed date\",\"company type\",\"website\",\"twitter\",\"facebook\",\"linkedin\",\"email\",\"phone number\",\"number of articles\",\"hub tags\",\"actively hiring\",\"num of sub orgs\",\"investor type\",\"investor stage\",\"number of founders\",\"founders\",\"number of employees\",\"total funding amount\",\"number of funding rounds\",\"last funding amount\",\"last funding type\"]\n",
    "\n",
    "data = [[y for y in x.split(\"\\n\") if y != \"\" and \"Logo\" not in y] for x in data if x != \"\"]\n",
    "bad = [[len(x),x] for x in data if len(x) != len(labels)]\n",
    "dataset = [x for x in data if len(x) == len(labels)]\n",
    "print(len(dataset))\n",
    "\n",
    "\n",
    "df = pd.DataFrame(dataset,columns=labels)\n",
    "\n",
    "df['description_all'] = df['description'] + \" \" + df['full_description']\n",
    "df['industries_parsed'] = df['industries'].apply(lambda x: [i.strip() for i in x.split(',') if i.strip() != 'Artificial Intelligence (AI)' and i.strip() !='—'])\n",
    "# df['founded date'] = pd.to_datetime(df['founded date'], format='%b %Y', errors='coerce').combine_first(pd.to_datetime(df['founded date'], errors='coerce', infer_datetime_format=True))\n",
    "df[\"founded date\"] = df[\"founded date\"].apply(lambda x: parse_date(x))\n",
    "df = df.drop_duplicates(subset=['organization name'], keep='first')\n",
    "print(len(df))\n",
    "df.to_csv(\"../output/data/data_post_chat_gpt.csv\")\n"
   ]
  },
  {
   "cell_type": "code",
   "execution_count": 4,
   "id": "2a39fa1c-e9d3-4293-b047-c31e49268e9e",
   "metadata": {},
   "outputs": [
    {
     "data": {
      "text/plain": [
       "organization name\n",
       "Pika                     1\n",
       "E-Guardians AI           1\n",
       "Pincites                 1\n",
       "Capria AI Accelerator    1\n",
       "Fynch                    1\n",
       "                        ..\n",
       "magik.ai                 1\n",
       "Covered                  1\n",
       "Duckie                   1\n",
       "Brand Nexus              1\n",
       "PrimeRole                1\n",
       "Name: count, Length: 2196, dtype: int64"
      ]
     },
     "execution_count": 4,
     "metadata": {},
     "output_type": "execute_result"
    }
   ],
   "source": [
    "df[\"organization name\"].value_counts()"
   ]
  },
  {
   "cell_type": "code",
   "execution_count": null,
   "id": "e0f5b0cc-5af0-4ca2-870b-f248d6a02424",
   "metadata": {},
   "outputs": [],
   "source": []
  }
 ],
 "metadata": {
  "kernelspec": {
   "display_name": "Python 3 (ipykernel)",
   "language": "python",
   "name": "python3"
  },
  "language_info": {
   "codemirror_mode": {
    "name": "ipython",
    "version": 3
   },
   "file_extension": ".py",
   "mimetype": "text/x-python",
   "name": "python",
   "nbconvert_exporter": "python",
   "pygments_lexer": "ipython3",
   "version": "3.12.4"
  }
 },
 "nbformat": 4,
 "nbformat_minor": 5
}
