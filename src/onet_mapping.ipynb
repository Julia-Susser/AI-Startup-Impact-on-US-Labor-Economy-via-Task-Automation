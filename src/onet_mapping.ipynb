{
 "cells": [
  {
   "cell_type": "code",
   "execution_count": 9,
   "metadata": {},
   "outputs": [],
   "source": [
    "import pandas as pd\n",
    "import numpy as np\n",
    "from decimal import Decimal\n",
    "from llms import gemini\n",
    "from llms import chatGPT\n",
    "from sklearn.metrics.pairwise import cosine_similarity\n",
    "import json\n",
    "import time\n",
    "# from lemmatize import lemmatize\n",
    "x_chat = chatGPT()\n",
    "x_gemini = gemini()\n",
    "\n",
    "\n"
   ]
  },
  {
   "cell_type": "code",
   "execution_count": 47,
   "metadata": {},
   "outputs": [],
   "source": [
    "df = pd.read_csv('../output/df_with_examples.csv')\n",
    "df = df.dropna(subset=[\"Example1\"])"
   ]
  },
  {
   "cell_type": "code",
   "execution_count": 48,
   "metadata": {},
   "outputs": [
    {
     "name": "stdout",
     "output_type": "stream",
     "text": [
      "Processing final batch 0 to 3\n",
      "Processing final batch 0 to 3\n",
      "Processing final batch 0 to 3\n",
      "Processing final batch 0 to 3\n",
      "Processing final batch 0 to 3\n",
      "Processing final batch 0 to 3\n"
     ]
    }
   ],
   "source": [
    "\n",
    "job_cols = [[f\"Example_Description{i}\",f\"Example_Job_Title{i}\"] for i in range(1,4)]\n",
    "for job in job_cols[0:]:\n",
    "    for col in job:\n",
    "        df = x_chat.run_batch_embeddings(df,col)\n",
    "\n",
    "df.to_csv('../output/df_with_examples_embeddings.csv', index=False)"
   ]
  },
  {
   "cell_type": "code",
   "execution_count": 8,
   "metadata": {},
   "outputs": [
    {
     "data": {
      "text/plain": [
       "'Sales managers that determine price schedules and discount rates.'"
      ]
     },
     "execution_count": 8,
     "metadata": {},
     "output_type": "execute_result"
    }
   ],
   "source": [
    "df_exp.description.iloc[2]"
   ]
  },
  {
   "cell_type": "code",
   "execution_count": 29,
   "metadata": {},
   "outputs": [],
   "source": [
    "# random_descriptions = df_exp['description'].sample(10, random_state=2)\n",
    "# print(\"\\n\".join(random_descriptions.values))\n"
   ]
  },
  {
   "cell_type": "code",
   "execution_count": 6,
   "metadata": {},
   "outputs": [
    {
     "data": {
      "text/plain": [
       "(11582, 3072)"
      ]
     },
     "execution_count": 6,
     "metadata": {},
     "output_type": "execute_result"
    }
   ],
   "source": [
    "df_exp = pd.read_csv('../input/gpts_labels/gpt_exposure_embeddings.csv')\n",
    "\n",
    "df_exp.task_embedding = df_exp.task_embedding.apply(lambda x: x.strip(\"[]\").split(\", \"))\n",
    "\n",
    "task_embeddings = []\n",
    "for x in df_exp.task_embedding:\n",
    "    task_embeddings.append([float(y) for y in x])\n",
    "df_exp.task_embedding = task_embeddings\n",
    "\n",
    "\n",
    "task_embeddings = np.array(task_embeddings)\n",
    "task_embeddings = np.vstack(task_embeddings)\n",
    "\n",
    "\n",
    "df_exp.title_embedding = df_exp.title_embedding.apply(lambda x: x.strip(\"[]\").split(\", \"))\n",
    "title_embeddings = []\n",
    "for x in df_exp.title_embedding:\n",
    "    title_embeddings.append([float(y) for y in x])\n",
    "df_exp.title_embedding = title_embeddings\n",
    "\n",
    "\n",
    "task_embeddings.shape"
   ]
  },
  {
   "cell_type": "code",
   "execution_count": null,
   "metadata": {},
   "outputs": [],
   "source": [
    "df = pd.read_csv('../output/df_with_examples_embeddings.csv')\n",
    "df.loc[:, [\"Job1_ONET\", \"Job2_ONET\", \"Job3_ONET\"]] = 'N/A'\n",
    "\n",
    "# list(df.Job1_embedding.apply(ast.literal_eval))\n",
    "for i in range(3):\n",
    "    df[f\"Job{i+1}_embedding\"] = df[f\"Job{i+1}_embedding\"].apply(lambda x: [float(y) for y in x.strip(\"[]\").split(\", \")])\n",
    "    df[f\"Job{i+1}_title_embedding\"] = df[f\"Job{i+1}_title_embedding\"].apply(lambda x: [float(y) for y in x.strip(\"[]\").split(\", \")])\n",
    "\n",
    "\n"
   ]
  },
  {
   "cell_type": "code",
   "execution_count": 7,
   "metadata": {},
   "outputs": [],
   "source": [
    "results = []"
   ]
  },
  {
   "cell_type": "code",
   "execution_count": 49,
   "metadata": {},
   "outputs": [
    {
     "name": "stdout",
     "output_type": "stream",
     "text": [
      "***********************\n",
      "Processing 0\n",
      "AI Virtual Staging\n",
      "(in two sentences): AI Virtual Staging utilizes artificial intelligence to create virtual stagings of real estate properties. Their service allows real estate agents and sellers to showcase properties in a more visually appealing way without the cost and hassle of traditional staging.\n",
      "\n",
      "Processing Example: A real estate agent is preparing a listing for a vacant property that needs to be presented attractively to potential buyers. \n",
      "Job: Real Estate Agents that prepare marketing materials for properties.\n",
      "\n",
      "0.6984024770632478\n",
      "Real Estate Sales Agents: Advise sellers on how to make homes more appealing to potential buyers. Real estate sales agents that advise sellers on how to make homes more appealing to potential buyers. \n",
      "Cosine Similarity: 0.6984024770632478, Person Cosine Similarity: 0.8690320510816708\n",
      "0.6788320209389851\n",
      "Real Estate Sales Agents: Promote sales of properties through advertisements, open houses, and participation in multiple listing services. Real estate sales agents that promote sales of properties through advertisements, open houses, and participation in multiple listing services. \n",
      "Cosine Similarity: 0.6788320209389851, Person Cosine Similarity: 0.8690320510816708\n",
      "0.6715951815973091\n",
      "Real Estate Sales Agents: Prepare documents such as representation contracts, purchase agreements, closing statements, deeds, and leases. Real estate sales agents that prepare documents such as representation contracts, purchase agreements, closing statements, deeds, and leases. \n",
      "Cosine Similarity: 0.6715951815973091, Person Cosine Similarity: 0.8690320510816708\n",
      "**Saving Results**\n",
      "\n",
      "\n",
      "***********************\n",
      "\n",
      "\n",
      "***********************\n",
      "Processing 1\n",
      "AI Mavericks\n",
      "(in two sentences): AI Mavericks hosts high-profile events centered around AI and business growth, targeting founders, CEOs, and leadership teams seeking to leverage AI for strategic advantage. Their events provide an immersive platform for learning, networking, and gaining practical insights on integrating AI into business strategies.\n",
      "\n",
      "Processing Example: A CEO of a tech startup is looking to explore how AI can transform their business model and is searching for practical advice from industry experts. \n",
      "Job: Business Development Manager that identify and research potential strategic partnerships and collaborations.\n",
      "\n",
      "0.47376414850885296\n",
      "Advertising and Promotions Managers: Direct and coordinate product research and development. Advertising and promotions managers that direct and coordinate product research and development. \n",
      "Cosine Similarity: 0.47376414850885296, Person Cosine Similarity: 0.4194517775713091\n",
      "0.47328867251993706\n",
      "Financial Managers: Network within communities to find and attract new business. Financial managers that network within communities to find and attract new business. \n",
      "Cosine Similarity: 0.47328867251993706, Person Cosine Similarity: 0.361941211692984\n",
      "0.46501286161636796\n",
      "Advertising and Promotions Managers: Identify and develop contacts for promotional campaigns and industry programs that meet identified buyer targets, such as dealers, distributors, or consumers. Advertising and promotions managers that identify and develop contacts for promotional campaigns and industry programs that meet identified buyer targets, such as dealers, distributors, or consumers. \n",
      "Cosine Similarity: 0.46501286161636796, Person Cosine Similarity: 0.4194517775713091\n",
      "***********************\n",
      "\n",
      "\n",
      "***********************\n",
      "Processing 2\n",
      "AI Teaches Me from BAM Software Development\n",
      "(in two sentences): AI Teaches Me is a personalized learning platform developed by BAM Software Development. It utilizes AI models to create customized learning experiences that can teach any subject to anyone, regardless of location or time.\n",
      "\n",
      "Processing Example: A high school student struggling with algebra wants to improve their understanding before the next test. \n",
      "Job: Tutor that provide individualized instruction and support to students to help them learn and understand subject matter.\n",
      "\n",
      "0.7635341508954494\n",
      "Tutors: Provide private instruction to individual or small groups of students to improve academic performance, improve occupational skills, or prepare for academic or occupational tests. Tutors that provide private instruction to individual or small groups of students to improve academic performance, improve occupational skills, or prepare for academic or occupational tests. \n",
      "Cosine Similarity: 0.7635341508954494, Person Cosine Similarity: 0.8354687147792419\n",
      "0.667007046127098\n",
      "Tutors: Review class material with students by discussing text, working solutions to problems, or reviewing worksheets or other assignments. Tutors that review class material with students by discussing text, working solutions to problems, or reviewing worksheets or other assignments. \n",
      "Cosine Similarity: 0.667007046127098, Person Cosine Similarity: 0.8354687147792419\n",
      "0.6478780755687612\n",
      "Tutors: Prepare lesson plans or learning modules for tutoring sessions according to students' needs and goals. Tutors that prepare lesson plans or learning modules for tutoring sessions according to students' needs and goals. \n",
      "Cosine Similarity: 0.6478780755687612, Person Cosine Similarity: 0.8354141705327108\n",
      "***********************\n",
      "\n",
      "\n"
     ]
    }
   ],
   "source": [
    "\n",
    "\n",
    "# results = list(pd.read_csv(\"../output/onet_df.csv\").values)\n",
    "\n",
    "for index, row in list(df.iterrows())[0:]:\n",
    "    print(\"***********************\")\n",
    "    print(f\"Processing {index}\")\n",
    "    name = row[\"organization name\"]\n",
    "    print(name)\n",
    "    print(row[\"generated_description\"])\n",
    "        \n",
    "    job_results = []\n",
    "    for i in range(1): \n",
    "        example = row[f\"Example{i+1}\"]\n",
    "        description = row[f'Example_Description{i+1}']\n",
    "        job_title = row[f'Example_Job_Title{i+1}']\n",
    "        print(f\"\\nProcessing Example: {example} \\nJob: {description}\\n\")\n",
    "\n",
    "        job_embedding = np.array(row[f'Example_Description{i+1}_embedding']).reshape(1,-1)\n",
    "        job_title_embedding = np.array(row[f'Example_Job_Title{i+1}_embedding']).reshape(1,-1)\n",
    "        cosine_sim = cosine_similarity(job_embedding, task_embeddings, 'cosine')\n",
    "        \n",
    "        top3 = sorted(zip(cosine_sim[0], df_exp[['title', 'Task', 'description','title_embedding']].values), reverse=True)[:3]\n",
    "        for cosine_sim_job, onet in top3:\n",
    "            print(cosine_sim_job)\n",
    "            onet_title_embedding = np.array([onet[3]])\n",
    "            cosine_sim_title = cosine_similarity(job_title_embedding, onet_title_embedding, 'cosine')[0][0]\n",
    "            print(f\"{onet[2]} \\nCosine Similarity: {cosine_sim_job}, Person Cosine Similarity: {cosine_sim_title}\")\n",
    "            results.append([name,example,row[f\"situation{i+1}_conf_interval\"], row[f\"situation{i+1}_conf_interval_reasoning\"],job,onet[0],onet[1],job_title, cosine_sim_job,cosine_sim_title])\n",
    " \n",
    "\n",
    "    if index % 50 == 0:\n",
    "        print(\"**Saving Results**\\n\\n\")\n",
    "        onet_df = pd.DataFrame(results, columns=[\"organization_name\",\"example\",\"situation_conf_interval\", \"situation_conf_interval_reasoning\",\"job\",\"onet_title\",\"onet_task\",\"example_job_title\",\"task_similarity\", \"job_title_similarity\"])\n",
    "        onet_df.situation_conf_interval = onet_df.situation_conf_interval.astype(\"float\")\n",
    "        onet_df.to_csv(\"../output/onet_df.csv\", index=False)\n",
    "        time.sleep(10)\n",
    "        \n",
    "    print(\"***********************\\n\\n\")\n",
    "\n",
    "\n",
    "onet_df = pd.DataFrame(results, columns=[\"organization_name\",\"example\",\"situation_conf_interval\", \"situation_conf_interval_reasoning\",\"job\",\"onet_title\",\"onet_task\",\"example_job_title\",\"task_similarity\", \"job_title_similarity\"])\n",
    "onet_df.situation_conf_interval = onet_df.situation_conf_interval.astype(\"float\")\n",
    "onet_df.to_csv(\"../output/onet_df.csv\", index=False)"
   ]
  },
  {
   "cell_type": "code",
   "execution_count": 7,
   "metadata": {},
   "outputs": [
    {
     "data": {
      "text/plain": [
       "organization_name                                                            PrimeRole\n",
       "example                              A sales representative uses PrimeRole to autom...\n",
       "situation_conf_interval                                                            9.0\n",
       "situation_conf_interval_reasoning    This task directly matches the \"identify poten...\n",
       "job                                  Sales Representatives that identify potential ...\n",
       "onet_title                           Sales Representatives, Wholesale and Manufactu...\n",
       "onet_task                            Contact regular and prospective customers to d...\n",
       "example_job_title                                                Sales Representatives\n",
       "task_similarity                                                               0.726466\n",
       "job_title_similarity                                                          0.722785\n",
       "Name: 9356, dtype: object"
      ]
     },
     "execution_count": 7,
     "metadata": {},
     "output_type": "execute_result"
    }
   ],
   "source": [
    "onet_df.iloc[-1]"
   ]
  },
  {
   "cell_type": "code",
   "execution_count": 4,
   "metadata": {},
   "outputs": [
    {
     "data": {
      "text/html": [
       "<div>\n",
       "<style scoped>\n",
       "    .dataframe tbody tr th:only-of-type {\n",
       "        vertical-align: middle;\n",
       "    }\n",
       "\n",
       "    .dataframe tbody tr th {\n",
       "        vertical-align: top;\n",
       "    }\n",
       "\n",
       "    .dataframe thead th {\n",
       "        text-align: right;\n",
       "    }\n",
       "</style>\n",
       "<table border=\"1\" class=\"dataframe\">\n",
       "  <thead>\n",
       "    <tr style=\"text-align: right;\">\n",
       "      <th></th>\n",
       "      <th>organization name</th>\n",
       "      <th>full_description</th>\n",
       "      <th>industries</th>\n",
       "      <th>headquarters location</th>\n",
       "      <th>founded date</th>\n",
       "      <th>description</th>\n",
       "      <th>CB rank</th>\n",
       "      <th>headquarters region</th>\n",
       "      <th>postal code</th>\n",
       "      <th>estimated revenue</th>\n",
       "      <th>...</th>\n",
       "      <th>situation3_conf_interval_reasoning</th>\n",
       "      <th>Job1_embedding</th>\n",
       "      <th>Job1_title_embedding</th>\n",
       "      <th>Job2_embedding</th>\n",
       "      <th>Job2_title_embedding</th>\n",
       "      <th>Job3_embedding</th>\n",
       "      <th>Job3_title_embedding</th>\n",
       "      <th>Job1_ONET</th>\n",
       "      <th>Job2_ONET</th>\n",
       "      <th>Job3_ONET</th>\n",
       "    </tr>\n",
       "  </thead>\n",
       "  <tbody>\n",
       "    <tr>\n",
       "      <th>1446</th>\n",
       "      <td>Leveragai</td>\n",
       "      <td>Leveragai is an AI-driven company that special...</td>\n",
       "      <td>Artificial Intelligence (AI), Consulting, Corp...</td>\n",
       "      <td>Baltimore, Maryland, United States</td>\n",
       "      <td>2023-06-01</td>\n",
       "      <td>Artificial Intelligence, Consultancy, Solution...</td>\n",
       "      <td>468,809</td>\n",
       "      <td>Greater Baltimore-Maryland Area, East Coast, S...</td>\n",
       "      <td>21223</td>\n",
       "      <td>—</td>\n",
       "      <td>...</td>\n",
       "      <td>While Leveragai's AI could automate customer s...</td>\n",
       "      <td>[-0.008085760287940502, -0.019565412774682045,...</td>\n",
       "      <td>[-0.0012607682729139924, -0.018306555226445198...</td>\n",
       "      <td>[-0.02003137767314911, -0.02099858596920967, -...</td>\n",
       "      <td>[0.015798592939972878, -0.0158467348664999, -0...</td>\n",
       "      <td>[-0.03139056637883186, -0.033278316259384155, ...</td>\n",
       "      <td>[-8.562059520045295e-05, -0.0230860598385334, ...</td>\n",
       "      <td>N/A</td>\n",
       "      <td>N/A</td>\n",
       "      <td>N/A</td>\n",
       "    </tr>\n",
       "  </tbody>\n",
       "</table>\n",
       "<p>1 rows × 71 columns</p>\n",
       "</div>"
      ],
      "text/plain": [
       "     organization name                                   full_description  \\\n",
       "1446         Leveragai  Leveragai is an AI-driven company that special...   \n",
       "\n",
       "                                             industries  \\\n",
       "1446  Artificial Intelligence (AI), Consulting, Corp...   \n",
       "\n",
       "                   headquarters location founded date  \\\n",
       "1446  Baltimore, Maryland, United States   2023-06-01   \n",
       "\n",
       "                                            description  CB rank  \\\n",
       "1446  Artificial Intelligence, Consultancy, Solution...  468,809   \n",
       "\n",
       "                                    headquarters region postal code  \\\n",
       "1446  Greater Baltimore-Maryland Area, East Coast, S...       21223   \n",
       "\n",
       "     estimated revenue  ...  \\\n",
       "1446                 —  ...   \n",
       "\n",
       "                     situation3_conf_interval_reasoning  \\\n",
       "1446  While Leveragai's AI could automate customer s...   \n",
       "\n",
       "                                         Job1_embedding  \\\n",
       "1446  [-0.008085760287940502, -0.019565412774682045,...   \n",
       "\n",
       "                                   Job1_title_embedding  \\\n",
       "1446  [-0.0012607682729139924, -0.018306555226445198...   \n",
       "\n",
       "                                         Job2_embedding  \\\n",
       "1446  [-0.02003137767314911, -0.02099858596920967, -...   \n",
       "\n",
       "                                   Job2_title_embedding  \\\n",
       "1446  [0.015798592939972878, -0.0158467348664999, -0...   \n",
       "\n",
       "                                         Job3_embedding  \\\n",
       "1446  [-0.03139056637883186, -0.033278316259384155, ...   \n",
       "\n",
       "                                   Job3_title_embedding Job1_ONET Job2_ONET  \\\n",
       "1446  [-8.562059520045295e-05, -0.0230860598385334, ...       N/A       N/A   \n",
       "\n",
       "     Job3_ONET  \n",
       "1446       N/A  \n",
       "\n",
       "[1 rows x 71 columns]"
      ]
     },
     "execution_count": 4,
     "metadata": {},
     "output_type": "execute_result"
    }
   ],
   "source": [
    "# pd.read_csv(\"../output/onet_df.csv\")\n",
    "\n",
    "\n",
    "df[df[\"organization name\"]==\"Leveragai\"]\n",
    "\n"
   ]
  },
  {
   "cell_type": "code",
   "execution_count": 10,
   "metadata": {},
   "outputs": [],
   "source": [
    "s1 = \"Animators and Multimedia Artists that create storyboards to illustrate scenes or action sequences for films, television programs, or other media.\"\n",
    "s2 = \"Special effects artists and animators that apply story development, directing, cinematography, and editing to animation to create storyboards that show the flow of the animation and map out key scenes and characters.\"\n",
    "\n"
   ]
  },
  {
   "cell_type": "code",
   "execution_count": 13,
   "metadata": {},
   "outputs": [
    {
     "data": {
      "text/plain": [
       "0.6625274673336069"
      ]
     },
     "execution_count": 13,
     "metadata": {},
     "output_type": "execute_result"
    }
   ],
   "source": [
    "e1 = x_chat.get_embedding(s1)\n",
    "#e1 = df_exp[df_exp.description.str.contains(\"managers that evaluate the organization\")].task_embedding.iloc[0]\n",
    "e2 = x_chat.get_embedding(s2)\n",
    "\n",
    "#e2 = x_chat.get_embedding(\"Computer Information Systems Managers evaluate cloud service offering different provider select suitable option company 's need\")\n",
    "e1 = np.array(e1).reshape(1,-1)\n",
    "e2 = np.array(e2).reshape(1,-1)\n",
    "cosine_similarity(e1,e2, 'cosine')[0][0]"
   ]
  },
  {
   "cell_type": "code",
   "execution_count": 17,
   "metadata": {},
   "outputs": [],
   "source": [
    "title_embeddings = np.array(df_exp.title_embedding)\n",
    "title_embeddings = np.vstack(title_embeddings)"
   ]
  },
  {
   "cell_type": "code",
   "execution_count": 147,
   "metadata": {},
   "outputs": [
    {
     "data": {
      "text/plain": [
       "6093"
      ]
     },
     "execution_count": 147,
     "metadata": {},
     "output_type": "execute_result"
    }
   ],
   "source": [
    "onet_df = pd.read_csv(\"../output/results v3/onet_df.csv\")\n",
    "onet_df = onet_df[[col for col in onet_df.columns if \"titles\" not in col]]\n",
    "onet_df[[\"Job_similarity_titles\"]]= 'N/A'\n",
    "len(onet_df)"
   ]
  }
 ],
 "metadata": {
  "kernelspec": {
   "display_name": "Python 3 (ipykernel)",
   "language": "python",
   "name": "python3"
  },
  "language_info": {
   "codemirror_mode": {
    "name": "ipython",
    "version": 3
   },
   "file_extension": ".py",
   "mimetype": "text/x-python",
   "name": "python",
   "nbconvert_exporter": "python",
   "pygments_lexer": "ipython3",
   "version": "3.11.7"
  }
 },
 "nbformat": 4,
 "nbformat_minor": 4
}
