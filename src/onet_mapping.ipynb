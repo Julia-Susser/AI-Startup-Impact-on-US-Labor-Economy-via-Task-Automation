{
 "cells": [
  {
   "cell_type": "code",
   "execution_count": 68,
   "metadata": {},
   "outputs": [],
   "source": [
    "import pandas as pd\n",
    "import numpy as np\n",
    "from decimal import Decimal\n",
    "\n",
    "x_chat = chatGPT()\n",
    "x_gemini = gemini()\n",
    "\n",
    "\n"
   ]
  },
  {
   "cell_type": "code",
   "execution_count": 70,
   "metadata": {},
   "outputs": [],
   "source": [
    "df_exp = pd.read_csv('../output/onet/gpt_exposure_embeddings.csv')\n",
    "# df_exp = df_exp[df_exp.Title==\"Fundraising Managers\"]\n",
    "df_exp.Embeddings = df_exp.Embeddings.apply(lambda x: x.strip(\"[]\").split(\", \"))\n",
    "embeddings = []\n",
    "for x in df_exp.Embeddings:\n",
    "    embeddings.append([float(y) for y in x])\n",
    "\n",
    "\n",
    "embeddings = np.array(embeddings)\n",
    "df_exp.Embeddings = embeddings\n",
    "embeddings = np.vstack(embeddings)\n",
    "embeddings.shape\n"
   ]
  },
  {
   "cell_type": "code",
   "execution_count": 71,
   "metadata": {},
   "outputs": [
    {
     "data": {
      "text/plain": [
       "(11582, 3072)"
      ]
     },
     "execution_count": 71,
     "metadata": {},
     "output_type": "execute_result"
    }
   ],
   "source": [
    "embeddings.shape"
   ]
  },
  {
   "cell_type": "code",
   "execution_count": 73,
   "metadata": {},
   "outputs": [],
   "source": [
    "sample_df = pd.read_csv('../output/df_with_examples_embeddings.csv')\n",
    "sample_df.loc[:, [\"Job1_ONET\", \"Job2_ONET\", \"Job3_ONET\"]] = 'N/A'\n",
    "\n",
    "# list(sample_df.Job1_embedding.apply(ast.literal_eval))\n",
    "for i in range(3):\n",
    "    sample_df[f\"Job{i+1}_embedding\"] = sample_df[f\"Job{i+1}_embedding\"].apply(lambda x: [Decimal(y) for y in x.strip(\"[]\").split(\", \")])\n",
    "    sample_df[f\"Job{i+1}_title_embedding\"] = sample_df[f\"Job{i+1}_title_embedding\"].apply(lambda x: [Decimal(y) for y in x.strip(\"[]\").split(\", \")])\n",
    "\n",
    "\n"
   ]
  },
  {
   "cell_type": "code",
   "execution_count": null,
   "metadata": {},
   "outputs": [
    {
     "name": "stdout",
     "output_type": "stream",
     "text": [
      "***********************\n",
      "Processing 0\n",
      "Catio\n",
      "Catio is a cloud architecture platform that helps companies design and optimize their cloud-native tech stacks. Using AI, Catio provides guidance on technology selection, planning, and continuous improvement, acting as a \"copilot\" for architects and engineers.\n",
      "\n",
      "Processing Example: A cloud architect uses Catio to evaluate different cloud service offerings from various providers, comparing costs, performance, and security features to select the most suitable options for their company's specific needs. \n",
      "Job: Computer and Information Systems Managers that evaluate cloud service offerings from different providers to select the most suitable options for the company's needs.\n",
      "\n",
      "Computer and Information Systems Managers: Evaluate the organization's technology use and needs and recommend improvements, such as hardware and software upgrades. \n",
      "Cosine Similarity: 0.7308420357826921, Person Cosine Similarity: 0.9999987394994386\n",
      "Computer and Information Systems Managers: Consult with users, management, vendors, and technicians to assess computing needs and system requirements. \n",
      "Cosine Similarity: 0.7046414376949868, Person Cosine Similarity: 0.9999987394994386\n",
      "Computer and Information Systems Managers: Develop computer information resources, providing for data security and control, strategic computing, and disaster recovery. \n",
      "Cosine Similarity: 0.7045860675666318, Person Cosine Similarity: 0.9999987394994386\n",
      "\n",
      "Processing Example: An engineer uses Catio to design and implement a highly scalable and resilient cloud infrastructure for a new application, leveraging the platform's AI-powered suggestions for optimal resource allocation and deployment strategies. \n",
      "Job: Cloud Architects that design and implement cloud infrastructures for new applications, including resource allocation and deployment strategies.\n",
      "\n",
      "Database Architects: Set up database clusters, backup, or recovery processes. \n",
      "Cosine Similarity: 0.556780175304831, Person Cosine Similarity: 0.5055660382284406\n",
      "Database Architects: Develop database architectural strategies at the modeling, design and implementation stages to address business or industry requirements. \n",
      "Cosine Similarity: 0.54296647763798, Person Cosine Similarity: 0.5055660382284406\n",
      "Computer Systems Engineers/Architects: Configure servers to meet functional specifications. \n",
      "Cosine Similarity: 0.521183988883428, Person Cosine Similarity: 0.4415472056162679\n",
      "\n",
      "Processing Example: An IT professional uses Catio to continuously monitor and analyze the performance of their cloud environment, identifying potential bottlenecks and recommending adjustments to improve efficiency and reduce costs. \n",
      "Job: Systems Administrators that monitor and analyze cloud environments to identify bottlenecks and recommend adjustments for efficiency.\n",
      "\n"
     ]
    }
   ],
   "source": [
    "\n",
    "results = []\n",
    "for index, row in list(sample_df.iterrows())[0:]:\n",
    "    print(\"***********************\")\n",
    "    print(f\"Processing {index}\")\n",
    "    name = row[\"organization name\"]\n",
    "    print(name)\n",
    "    print(row[\"generated_description\"])\n",
    "        \n",
    "    job_results = []\n",
    "    for i in range(3): \n",
    "        example = row[f\"Example{i+1}\"]\n",
    "        job = row[f'Job{i+1}']\n",
    "        job_title = row[f'Job{i+1}_title']\n",
    "        print(f\"\\nProcessing Example: {example} \\nJob: {job}\\n\")\n",
    "        job_embedding = np.array(row[f'Job{i+1}_embedding']).reshape(1,-1)\n",
    "        job_title_embedding = np.array(row[f'Job{i+1}_title_embedding']).reshape(1,-1)\n",
    "        cosine_sim = cosine_similarity(job_embedding, embeddings, 'cosine')\n",
    "        \n",
    "        top3 = sorted(zip(cosine_sim[0], df_exp[['Title', 'Task']].values), reverse=True)[:3]\n",
    "        for cosine_sim_job, onet in top3:\n",
    "            onet_title_embedding = np.array([x_chat.get_embedding(onet[0])])\n",
    "            cosine_sim_title = cosine_similarity(job_title_embedding, onet_title_embedding, 'cosine')[0][0]\n",
    "            print(f\"{onet[0]}: {onet[1]} \\nCosine Similarity: {cosine_sim_job}, Person Cosine Similarity: {cosine_sim_title}\")\n",
    "            results.append([name,example,row[f\"situation{i+1}_conf_interval\"], row[f\"situation{i+1}_conf_interval_reasoning\"],job,onet[0],onet[1],job_title, cosine_sim_job,cosine_sim_title])\n",
    " \n",
    "\n",
    "    if index % 5 == 0:\n",
    "        print(\"**Saving Results**\\n\\n\")\n",
    "        onet_df = pd.DataFrame(results, columns=[\"organization_name\",\"example\",\"situation_conf_interval\", \"situation_conf_interval_reasoning\",\"job\",\"onet_title\",\"onet_task\",\"example_job_title\",\"task_similarity\", \"job_title_similarity\"])\n",
    "        onet_df.to_csv(\"../output/onet_df.csv\", index=False)\n",
    "        \n",
    "    print(\"***********************\\n\\n\")\n"
   ]
  },
  {
   "cell_type": "code",
   "execution_count": null,
   "metadata": {},
   "outputs": [],
   "source": []
  }
 ],
 "metadata": {
  "kernelspec": {
   "display_name": "Python 3 (ipykernel)",
   "language": "python",
   "name": "python3"
  },
  "language_info": {
   "codemirror_mode": {
    "name": "ipython",
    "version": 3
   },
   "file_extension": ".py",
   "mimetype": "text/x-python",
   "name": "python",
   "nbconvert_exporter": "python",
   "pygments_lexer": "ipython3",
   "version": "3.11.7"
  }
 },
 "nbformat": 4,
 "nbformat_minor": 4
}
