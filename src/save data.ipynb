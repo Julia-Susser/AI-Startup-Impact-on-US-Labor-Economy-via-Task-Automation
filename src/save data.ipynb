{
 "cells": [
  {
   "cell_type": "code",
   "execution_count": 1,
   "id": "cd077cc3-3c83-4399-80c8-263cb92cf91b",
   "metadata": {},
   "outputs": [
    {
     "name": "stdout",
     "output_type": "stream",
     "text": [
      "4669\n",
      "4558\n",
      "4349\n",
      "3802\n",
      "4266\n",
      "987\n"
     ]
    },
    {
     "name": "stderr",
     "output_type": "stream",
     "text": [
      "/var/folders/nf/2dvvlnxj5v962kwwzmpfj17h0000gn/T/ipykernel_58646/2304414593.py:44: UserWarning: The argument 'infer_datetime_format' is deprecated and will be removed in a future version. A strict version of it is now the default, see https://pandas.pydata.org/pdeps/0004-consistent-to-datetime-parsing.html. You can safely remove this argument.\n",
      "  df['founded date'] = pd.to_datetime(df['founded date'], format='%b %Y', errors='coerce').combine_first(pd.to_datetime(df['founded date'], errors='coerce', infer_datetime_format=True))\n"
     ]
    }
   ],
   "source": [
    "import pandas as pd\n",
    "data = open(\"../input/2019/data2019.txt\").read().split(\"\\n\\n\")\n",
    "data = [[y for y in x.split(\"\\n\") if y != \"\" and \"Logo\" not in y] for x in data if x != \"\"]\n",
    "bad = [[len(x),x] for x in data if len(x) != 22]\n",
    "good2019 = [x for x in data if len(x) == 22]\n",
    "print(len(good2019))\n",
    "\n",
    "data = open(\"../input/2020/data2020.txt\").read().split(\"\\n\\n\")\n",
    "data = [[y for y in x.split(\"\\n\") if y != \"\" and \"Logo\" not in y] for x in data if x != \"\"]\n",
    "bad = [[len(x),x] for x in data if len(x) != 22]\n",
    "good2020 = [x for x in data if len(x) == 22]\n",
    "print(len(good2020))\n",
    "\n",
    "data = open(\"../input/2021/data2021.txt\").read().split(\"\\n\\n\")\n",
    "data = [[y for y in x.split(\"\\n\") if y != \"\" and \"Logo\" not in y] for x in data if x != \"\"]\n",
    "bad = [[len(x),x] for x in data if len(x) != 22]\n",
    "good2021 = [x for x in data if len(x) == 22]\n",
    "print(len(good2021))\n",
    "\n",
    "data = open(\"../input/2022/data2022.txt\").read().split(\"\\n\\n\")\n",
    "data = [[y for y in x.split(\"\\n\") if y != \"\" and \"Logo\" not in y] for x in data if x != \"\"]\n",
    "bad = [[len(x),x] for x in data if len(x) != 22]\n",
    "good2022 = [x for x in data if len(x) == 22]\n",
    "print(len(good2022))\n",
    "\n",
    "data = open(\"../input/2023/data2023.txt\").read().split(\"\\n\\n\")\n",
    "data = [[y for y in x.split(\"\\n\") if y != \"\" and \"Logo\" not in y] for x in data if x != \"\"]\n",
    "bad = [[len(x),x] for x in data if len(x) != 22]\n",
    "good2023 = [x for x in data if len(x) == 22]\n",
    "print(len(good2023))\n",
    "\n",
    "data = open(\"../input/2024/data2024.txt\").read().split(\"\\n\\n\")\n",
    "data = [[y for y in x.split(\"\\n\") if y != \"\" and \"Logo\" not in y] for x in data if x != \"\"]\n",
    "bad = [[len(x),x] for x in data if len(x) != 22]\n",
    "good2024 = [x for x in data if len(x) == 22]\n",
    "print(len(good2024))\n",
    "\n",
    "labels = [\"organization name\",\"num employees\", \"founded date\",\"description\",\"industries\",\"headquarters location\",\"description\",\"cb rank\",\"postal code\",\"headquarters region\",\"website\",\"actively hiring\",\"linkedin\",\"num articles\",\"email\",\"hub tag\",\"phone num\",\"num of sub org\",\"industry groups\",\"total funding amt\",\"company type\",\"estimated rev\"]\n",
    "dataset = good2019+ good2020 + good2021 + good2022 + good2023 + good2024\n",
    "df = pd.DataFrame(dataset,columns=labels)\n",
    "\n",
    "df['description_all'] = df['description'].iloc[:,0] + \" \" + df['description'].iloc[:,1]\n",
    "df['industries_parsed'] = df['industries'].apply(lambda x: [i.strip() for i in x.split(',') if i.strip() != 'Artificial Intelligence (AI)' and i.strip() !='—'])\n",
    "df['founded date'] = pd.to_datetime(df['founded date'], format='%b %Y', errors='coerce').combine_first(pd.to_datetime(df['founded date'], errors='coerce', infer_datetime_format=True))\n",
    "df.to_csv(\"../output/data.csv\")"
   ]
  },
  {
   "cell_type": "code",
   "execution_count": 3,
   "id": "ecbbc281-a31e-4197-a4bc-0ef20c660c60",
   "metadata": {},
   "outputs": [
    {
     "name": "stderr",
     "output_type": "stream",
     "text": [
      "/var/folders/nf/2dvvlnxj5v962kwwzmpfj17h0000gn/T/ipykernel_42932/683242698.py:4: FutureWarning: Series.__getitem__ treating keys as positions is deprecated. In a future version, integer keys will always be treated as labels (consistent with DataFrame behavior). To access a value by position, use `ser.iloc[pos]`\n",
      "  codes['Major Group Name'] = codes.apply(lambda x: x[4] if pd.notnull(x['Major Group']) else None, axis=1)\n",
      "/var/folders/nf/2dvvlnxj5v962kwwzmpfj17h0000gn/T/ipykernel_42932/683242698.py:5: FutureWarning: Series.__getitem__ treating keys as positions is deprecated. In a future version, integer keys will always be treated as labels (consistent with DataFrame behavior). To access a value by position, use `ser.iloc[pos]`\n",
      "  codes['Minor Group Name'] = codes.apply(lambda x: x[4] if pd.notnull(x['Minor Group']) else None, axis=1)\n",
      "/var/folders/nf/2dvvlnxj5v962kwwzmpfj17h0000gn/T/ipykernel_42932/683242698.py:6: FutureWarning: Series.__getitem__ treating keys as positions is deprecated. In a future version, integer keys will always be treated as labels (consistent with DataFrame behavior). To access a value by position, use `ser.iloc[pos]`\n",
      "  codes['Broad Group Name'] = codes.apply(lambda x: x[4] if pd.notnull(x['Broad Group']) else None, axis=1)\n",
      "/var/folders/nf/2dvvlnxj5v962kwwzmpfj17h0000gn/T/ipykernel_42932/683242698.py:8: FutureWarning: Series.fillna with 'method' is deprecated and will raise in a future version. Use obj.ffill() or obj.bfill() instead.\n",
      "  codes['Major Group'] = codes['Major Group'].fillna(method='ffill')\n",
      "/var/folders/nf/2dvvlnxj5v962kwwzmpfj17h0000gn/T/ipykernel_42932/683242698.py:9: FutureWarning: Series.fillna with 'method' is deprecated and will raise in a future version. Use obj.ffill() or obj.bfill() instead.\n",
      "  codes['Minor Group'] = codes['Minor Group'].fillna(method='ffill')\n",
      "/var/folders/nf/2dvvlnxj5v962kwwzmpfj17h0000gn/T/ipykernel_42932/683242698.py:10: FutureWarning: Series.fillna with 'method' is deprecated and will raise in a future version. Use obj.ffill() or obj.bfill() instead.\n",
      "  codes['Broad Group'] = codes['Broad Group'].fillna(method='ffill')\n",
      "/var/folders/nf/2dvvlnxj5v962kwwzmpfj17h0000gn/T/ipykernel_42932/683242698.py:11: FutureWarning: Series.fillna with 'method' is deprecated and will raise in a future version. Use obj.ffill() or obj.bfill() instead.\n",
      "  codes['Major Group Name'] = codes['Major Group Name'].fillna(method='ffill')\n",
      "/var/folders/nf/2dvvlnxj5v962kwwzmpfj17h0000gn/T/ipykernel_42932/683242698.py:12: FutureWarning: Series.fillna with 'method' is deprecated and will raise in a future version. Use obj.ffill() or obj.bfill() instead.\n",
      "  codes['Minor Group Name'] = codes['Minor Group Name'].fillna(method='ffill')\n",
      "/var/folders/nf/2dvvlnxj5v962kwwzmpfj17h0000gn/T/ipykernel_42932/683242698.py:13: FutureWarning: Series.fillna with 'method' is deprecated and will raise in a future version. Use obj.ffill() or obj.bfill() instead.\n",
      "  codes['Broad Group Name'] = codes['Broad Group Name'].fillna(method='ffill')\n"
     ]
    }
   ],
   "source": [
    "import pandas as pd\n",
    "codes = pd.read_csv(\"../input/soc_structure_2018.csv\")\n",
    "\n",
    "codes['Major Group Name'] = codes.apply(lambda x: x[4] if pd.notnull(x['Major Group']) else None, axis=1)\n",
    "codes['Minor Group Name'] = codes.apply(lambda x: x[4] if pd.notnull(x['Minor Group']) else None, axis=1)\n",
    "codes['Broad Group Name'] = codes.apply(lambda x: x[4] if pd.notnull(x['Broad Group']) else None, axis=1)\n",
    "\n",
    "codes['Major Group'] = codes['Major Group'].fillna(method='ffill')\n",
    "codes['Minor Group'] = codes['Minor Group'].fillna(method='ffill')\n",
    "codes['Broad Group'] = codes['Broad Group'].fillna(method='ffill')\n",
    "codes['Major Group Name'] = codes['Major Group Name'].fillna(method='ffill')\n",
    "codes['Minor Group Name'] = codes['Minor Group Name'].fillna(method='ffill')\n",
    "codes['Broad Group Name'] = codes['Broad Group Name'].fillna(method='ffill')\n",
    "\n",
    "codes = codes[codes[\"Detailed Occupation\"].notna()]\n",
    "codes = codes.rename({\"Unnamed: 4\":\"Title\"},axis=1)\n",
    "codes.to_csv(\"../output/soc_codes.csv\")\n"
   ]
  },
  {
   "cell_type": "code",
   "execution_count": 12,
   "id": "392ad4ca-8a8c-4e15-b6ed-5fd74e96449b",
   "metadata": {},
   "outputs": [
    {
     "data": {
      "text/plain": [
       "'NLSQL Allows anyone to easily make data-driven decisions, increasing productivity and driving businesses forward faster. NLSQL technology with text AI bot interface can provide you with data analytics, business insights, and data visualization. NLSQL is cognitive BI technology, which helps company employees to get information quickly and easily using only Natural Language'"
      ]
     },
     "execution_count": 12,
     "metadata": {},
     "output_type": "execute_result"
    }
   ],
   "source": [
    "df.description_all[0]"
   ]
  },
  {
   "cell_type": "code",
   "execution_count": 8,
   "id": "e230c795-5efb-4bec-9ca9-aaec1d95b697",
   "metadata": {},
   "outputs": [
    {
     "data": {
      "text/plain": [
       "0        NLSQL Allows anyone to easily make data-driven...\n",
       "1        TrueFocus Automation, a robotic process automa...\n",
       "2        Immunai is a biotech company that combines sin...\n",
       "3        Kili Technology enables large companies to tra...\n",
       "4        Soda is the data monitoring platform that keep...\n",
       "                               ...                        \n",
       "22626    Solatis is an innovative AI technology tool de...\n",
       "22627    Harnessing the power of AI to help law enforce...\n",
       "22628    Many potential users of AI are held back by th...\n",
       "22629    PawFoto operates and develops an online platfo...\n",
       "22630    Sleeping Pills Alternative, to help you sleep ...\n",
       "Name: description, Length: 22631, dtype: object"
      ]
     },
     "execution_count": 8,
     "metadata": {},
     "output_type": "execute_result"
    }
   ],
   "source": [
    "df.description.iloc[:,0]"
   ]
  },
  {
   "cell_type": "code",
   "execution_count": 11,
   "id": "35c15fb5-8a80-4cba-8aa4-2c467d3756cb",
   "metadata": {},
   "outputs": [
    {
     "data": {
      "text/html": [
       "<div>\n",
       "<style scoped>\n",
       "    .dataframe tbody tr th:only-of-type {\n",
       "        vertical-align: middle;\n",
       "    }\n",
       "\n",
       "    .dataframe tbody tr th {\n",
       "        vertical-align: top;\n",
       "    }\n",
       "\n",
       "    .dataframe thead th {\n",
       "        text-align: right;\n",
       "    }\n",
       "</style>\n",
       "<table border=\"1\" class=\"dataframe\">\n",
       "  <thead>\n",
       "    <tr style=\"text-align: right;\">\n",
       "      <th></th>\n",
       "      <th>description</th>\n",
       "      <th>description</th>\n",
       "    </tr>\n",
       "  </thead>\n",
       "  <tbody>\n",
       "  </tbody>\n",
       "</table>\n",
       "</div>"
      ],
      "text/plain": [
       "Empty DataFrame\n",
       "Columns: [description, description]\n",
       "Index: []"
      ]
     },
     "execution_count": 11,
     "metadata": {},
     "output_type": "execute_result"
    }
   ],
   "source": [
    "df.description[df.description.iloc[:,1].isnull()]"
   ]
  },
  {
   "cell_type": "code",
   "execution_count": null,
   "id": "a323ffb0-4a37-4307-8f3e-9b5998e14862",
   "metadata": {},
   "outputs": [],
   "source": []
  }
 ],
 "metadata": {
  "kernelspec": {
   "display_name": "Python 3 (ipykernel)",
   "language": "python",
   "name": "python3"
  },
  "language_info": {
   "codemirror_mode": {
    "name": "ipython",
    "version": 3
   },
   "file_extension": ".py",
   "mimetype": "text/x-python",
   "name": "python",
   "nbconvert_exporter": "python",
   "pygments_lexer": "ipython3",
   "version": "3.11.7"
  }
 },
 "nbformat": 4,
 "nbformat_minor": 5
}
