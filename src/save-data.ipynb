{
 "cells": [
  {
   "cell_type": "code",
   "execution_count": 30,
   "id": "684234c2-9f98-4360-b789-d695c30e8468",
   "metadata": {},
   "outputs": [],
   "source": [
    "import json\n",
    "import pandas as pd \n",
    "from datetime import datetime\n",
    "import os\n",
    "def parse_date(date):\n",
    "    if \",\" in date:\n",
    "        return datetime.strptime(date, \"%b %d, %Y\")\n",
    "    elif len(date)==4:\n",
    "        return datetime.strptime(date, \"%Y\")\n",
    "    else:\n",
    "        return datetime.strptime(date, \"%b %Y\")\n",
    "folder = \"../input/crunchbase/retail-over-time\"\n",
    "files = os.listdir(folder)\n"
   ]
  },
  {
   "cell_type": "code",
   "execution_count": 138,
   "id": "02e7797b-7b20-47a6-b19a-42c9856b4630",
   "metadata": {},
   "outputs": [
    {
     "name": "stdout",
     "output_type": "stream",
     "text": [
      "<_io.TextIOWrapper name='../input/crunchbase/retail-over-time/log (3).json' mode='r' encoding='UTF-8'>\n",
      "<_io.TextIOWrapper name='../input/crunchbase/retail-over-time/log (1).json' mode='r' encoding='UTF-8'>\n",
      "<_io.TextIOWrapper name='../input/crunchbase/retail-over-time/log (2).json' mode='r' encoding='UTF-8'>\n"
     ]
    }
   ],
   "source": [
    "processed_data = []\n",
    "for file in files:\n",
    "    with open(folder+\"/\"+file, 'r') as file:\n",
    "        print(file)\n",
    "        data = json.load(file)\n",
    "    \n",
    "    header = data[0]\n",
    "    count = 0\n",
    "    for i, line in enumerate(data):\n",
    "        if line[0] == \"Organization Name\":\n",
    "            continue\n",
    "        processed_data.append(line)\n",
    "\n",
    "    \n",
    "\n",
    "\n",
    "df = pd.DataFrame(processed_data)\n",
    "df.columns = [x.lower() for x in header]\n",
    "df[\"founded date\"] = df[\"founded date\"].apply(lambda x: parse_date(x))\n",
    "\n"
   ]
  },
  {
   "cell_type": "code",
   "execution_count": 139,
   "id": "ecc319b4",
   "metadata": {},
   "outputs": [],
   "source": [
    "import numpy as np\n",
    "def fix(x):\n",
    "    parts = x.split(\",\")\n",
    "    split_index = next((i for i, part in enumerate(parts) if len(part) > 40 or part == \"—\"), None)\n",
    "    industries = \", \".join(parts[:split_index])\n",
    "    description = \", \".join(parts[split_index:-1])\n",
    "    return [industries, description]\n",
    "   \n",
    "df[\"headquarters location\"] = list(df.industries.apply(lambda x: x.split(\",\")[-1]) + \", \" + df[\"full description\"] + \", \" + df[\"headquarters location\"])\n",
    "df[[\"industries\",\"full description\"]] = list(df.industries.apply(lambda x: fix(x)))"
   ]
  },
  {
   "cell_type": "code",
   "execution_count": 140,
   "id": "f9232255",
   "metadata": {},
   "outputs": [],
   "source": [
    "df['description_all'] = df['description'] + \" \" + df['full description']"
   ]
  },
  {
   "cell_type": "code",
   "execution_count": 146,
   "id": "3f76c9db-3cc1-4709-b772-0c877130581f",
   "metadata": {},
   "outputs": [],
   "source": [
    "df = df.sort_values(by=\"founded date\")\n",
    "df = df.drop_duplicates(subset=['organization name'], keep='first')\n",
    "df = df.reset_index(drop=True)\n",
    "df.to_csv(\"../output/data/retail-data.csv\")\n"
   ]
  },
  {
   "cell_type": "code",
   "execution_count": 147,
   "id": "3b87c68e-573a-4458-8482-d0a15b2a85b2",
   "metadata": {},
   "outputs": [
    {
     "data": {
      "text/plain": [
       "13159"
      ]
     },
     "execution_count": 147,
     "metadata": {},
     "output_type": "execute_result"
    }
   ],
   "source": [
    "len(df)"
   ]
  },
  {
   "cell_type": "code",
   "execution_count": 5,
   "id": "14660b53-fac9-4930-9793-cdf48980c7fa",
   "metadata": {},
   "outputs": [
    {
     "data": {
      "text/plain": [
       "1000"
      ]
     },
     "execution_count": 5,
     "metadata": {},
     "output_type": "execute_result"
    }
   ],
   "source": [
    "pre = df[pd.to_datetime(df['founded date'])<'11/30/2022']\n",
    "post = df[pd.to_datetime(df['founded date'])>='11/30/2022']\n",
    "len(pre)"
   ]
  }
 ],
 "metadata": {
  "kernelspec": {
   "display_name": "Python 3 (ipykernel)",
   "language": "python",
   "name": "python3"
  },
  "language_info": {
   "codemirror_mode": {
    "name": "ipython",
    "version": 3
   },
   "file_extension": ".py",
   "mimetype": "text/x-python",
   "name": "python",
   "nbconvert_exporter": "python",
   "pygments_lexer": "ipython3",
   "version": "3.9.6"
  }
 },
 "nbformat": 4,
 "nbformat_minor": 5
}
