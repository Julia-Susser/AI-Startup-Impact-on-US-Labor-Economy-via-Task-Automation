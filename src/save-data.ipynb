{
 "cells": [
  {
   "cell_type": "code",
   "execution_count": 2,
   "id": "684234c2-9f98-4360-b789-d695c30e8468",
   "metadata": {},
   "outputs": [],
   "source": [
    "import json\n",
    "import pandas as pd \n",
    "from datetime import datetime\n",
    "def parse_date(date):\n",
    "    if \",\" in date:\n",
    "        return datetime.strptime(date, \"%b %d, %Y\")\n",
    "    elif len(date)==4:\n",
    "        return datetime.strptime(date, \"%Y\")\n",
    "    else:\n",
    "        return datetime.strptime(date, \"%b %Y\")\n",
    "        \n",
    "with open('../input/crunchbase/retail/log.json', 'r') as file:\n",
    "    data = json.load(file)\n",
    "\n",
    "header = data[0]\n",
    "processed_data = []\n",
    "count = 0\n",
    "for i, line in enumerate(data):\n",
    "    if line[0] == \"Organization Name\":\n",
    "        continue\n",
    "    processed_data.append(line)\n",
    "\n",
    "    \n",
    "\n",
    "\n",
    "df = pd.DataFrame(processed_data)\n",
    "df.columns = [x.lower() for x in header]\n",
    "df[\"founded date\"] = df[\"founded date\"].apply(lambda x: parse_date(x))\n",
    "df['description_all'] = df['description'] + \" \" + df['full description']"
   ]
  },
  {
   "cell_type": "code",
   "execution_count": 7,
   "id": "3f76c9db-3cc1-4709-b772-0c877130581f",
   "metadata": {},
   "outputs": [],
   "source": [
    "df.to_csv(\"../output/data/retail-data.csv\")\n"
   ]
  },
  {
   "cell_type": "code",
   "execution_count": 4,
   "id": "3b87c68e-573a-4458-8482-d0a15b2a85b2",
   "metadata": {},
   "outputs": [
    {
     "data": {
      "text/plain": [
       "1464"
      ]
     },
     "execution_count": 4,
     "metadata": {},
     "output_type": "execute_result"
    }
   ],
   "source": [
    "len(df)"
   ]
  },
  {
   "cell_type": "code",
   "execution_count": 5,
   "id": "14660b53-fac9-4930-9793-cdf48980c7fa",
   "metadata": {},
   "outputs": [
    {
     "data": {
      "text/plain": [
       "1000"
      ]
     },
     "execution_count": 5,
     "metadata": {},
     "output_type": "execute_result"
    }
   ],
   "source": [
    "pre = df[pd.to_datetime(df['founded date'])<'11/30/2022']\n",
    "post = df[pd.to_datetime(df['founded date'])>='11/30/2022']\n",
    "len(pre)"
   ]
  },
  {
   "cell_type": "code",
   "execution_count": 6,
   "id": "772c5f85-9956-4060-873f-544c10843fb6",
   "metadata": {},
   "outputs": [
    {
     "data": {
      "text/plain": [
       "464"
      ]
     },
     "execution_count": 6,
     "metadata": {},
     "output_type": "execute_result"
    }
   ],
   "source": [
    "len(post)"
   ]
  },
  {
   "cell_type": "code",
   "execution_count": null,
   "id": "007d1993-c4cd-48f1-9c0b-bb40d0f3e8cd",
   "metadata": {},
   "outputs": [],
   "source": []
  }
 ],
 "metadata": {
  "kernelspec": {
   "display_name": "Python 3 (ipykernel)",
   "language": "python",
   "name": "python3"
  },
  "language_info": {
   "codemirror_mode": {
    "name": "ipython",
    "version": 3
   },
   "file_extension": ".py",
   "mimetype": "text/x-python",
   "name": "python",
   "nbconvert_exporter": "python",
   "pygments_lexer": "ipython3",
   "version": "3.12.4"
  }
 },
 "nbformat": 4,
 "nbformat_minor": 5
}
