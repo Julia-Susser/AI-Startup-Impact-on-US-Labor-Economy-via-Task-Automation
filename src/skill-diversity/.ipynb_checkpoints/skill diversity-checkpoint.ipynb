{
 "cells": [
  {
   "cell_type": "code",
   "execution_count": 87,
   "id": "65bd05ff-07c2-40da-9686-6d68ed3e76ae",
   "metadata": {},
   "outputs": [],
   "source": [
    "import pandas as pd\n",
    "import numpy as np\n",
    "\n",
    "df = pd.read_csv(\"aggregated-occupation-level-data.csv\",index_col=0).reset_index()"
   ]
  },
  {
   "cell_type": "code",
   "execution_count": 88,
   "id": "1557ed63-afff-4a5b-8a64-49bdb9aea0e7",
   "metadata": {},
   "outputs": [],
   "source": [
    "levels_columns = [x for x in list(df.columns) if \"_LVL\" in x ]\n",
    "importance_columns = [x for x in list(df.columns) if \"_IMP\" in x ]\n",
    "\n",
    "# Melting the importance columns\n",
    "importance_cols = [col for col in df.columns if col.endswith('_IMP')]\n",
    "level_cols = [col for col in df.columns if col.endswith('_LVL')]\n",
    "\n",
    "melted_imp = df.melt(id_vars=['OCCUPATION_2018_DESC'], value_vars=importance_cols, var_name='Skill', value_name='Importance')\n",
    "melted_lvl = df.melt(id_vars=['OCCUPATION_2018_DESC'], value_vars=level_cols, var_name='Skill', value_name='Level')\n",
    "\n",
    "# Cleaning the 'Skill' column to remove the suffix\n",
    "melted_imp['Skill'] = melted_imp['Skill'].str.replace('_IMP', '')\n",
    "melted_lvl['Skill'] = melted_lvl['Skill'].str.replace('_LVL', '')\n",
    "\n",
    "df = melted_lvl.merge(melted_imp, on=[\"OCCUPATION_2018_DESC\",\"Skill\"])\n",
    "df = df.merge(skill_ratings,on=\"Skill\")\n",
    "df = df[\"Level\"]/5 * df[\"Importance\"]/5 * df[\"percent_not_exposed\"]"
   ]
  },
  {
   "cell_type": "code",
   "execution_count": 89,
   "id": "53b2f350-ede7-461c-8c4e-ee8a36fffb5b",
   "metadata": {},
   "outputs": [],
   "source": [
    "# rankings = df[cols].sum(axis=1).sort_values(ascending=False).round(2).reset_index()\n",
    "# rankings.columns = [\"OCCUPATION_2018_DESC\",\"skill_diversity\"]\n",
    "# exposure = df[['HUMAN_NUMERIC',\n",
    "#  'GPT4_NUMERIC',\n",
    "#  'GPT4_AUTOMATION_NUMERIC']].reset_index()\n",
    "# rankings = exposure.merge(rankings, on=\"OCCUPATION_2018_DESC\").sort_values(by=\"skill_diversity\",ascending=False)\n",
    "# rankings.to_csv(\"skill_diversity.csv\")"
   ]
  },
  {
   "cell_type": "code",
   "execution_count": 90,
   "id": "0c1edcb4-8968-45f7-961f-9c6ee90eb589",
   "metadata": {},
   "outputs": [
    {
     "data": {
      "text/plain": [
       "0       0.572858\n",
       "1       0.428676\n",
       "2       0.398293\n",
       "3       0.362524\n",
       "4       0.441537\n",
       "          ...   \n",
       "3435    0.104404\n",
       "3436    0.104404\n",
       "3437    0.082471\n",
       "3438    0.143665\n",
       "3439    0.109668\n",
       "Length: 3440, dtype: float64"
      ]
     },
     "execution_count": 90,
     "metadata": {},
     "output_type": "execute_result"
    }
   ],
   "source": []
  },
  {
   "cell_type": "code",
   "execution_count": 81,
   "id": "bfc0d941-fb9c-48a8-9410-ca387db8f951",
   "metadata": {},
   "outputs": [],
   "source": [
    "exposed_tasks = pd.read_csv(\"../../input/gpts_labels/gpts_labels_new.csv\")\n",
    "importance_tasks = pd.read_csv(\"../../input/onet_2023/Task Ratings.csv\",index_col=0).reset_index()\n",
    "importance_tasks = importance_tasks[importance_tasks[\"Scale Name\"] == \"Importance\"][[\"O*NET-SOC Code\",\"Title\",\"Task\",\"Data Value\"]].rename({\"Data Value\":\"task_importance\"},axis=1)\n",
    "exposed_tasks = importance_tasks.merge(exposed_tasks, on=[\"Title\",\"Task\"])\n",
    "exposed_tasks[\"task_importance\"] = exposed_tasks[\"task_importance\"]/5\n",
    "exposed_tasks[\"task_exposure\"] = (exposed_tasks[\"human_numeric\"]+exposed_tasks[\"gpt_4_automation_numeric\"])/2\n",
    "exposed_tasks[\"weighted_task_exposure\"] = exposed_tasks[\"task_exposure\"] * exposed_tasks[\"task_importance\"]\n",
    "\n",
    "skills = pd.read_csv(\"../../output/parsed_BLS_data/dwa.csv\", index_col=0)\n",
    "exposed_tasks = exposed_tasks.merge(skills, on=[\"Task\"])\n",
    "skill_activities = pd.read_csv(\"../../input/onet_2023/Skills to Work Activities.csv\").iloc[:,[1,3]]\n",
    "skill_activities.columns = [\"skill\",\"activity\"]\n",
    "exposed_tasks = exposed_tasks.merge(skill_activities, on=\"activity\")\n",
    "\n",
    "\n",
    "skill_importance = exposed_tasks.groupby(\"skill\")[\"task_importance\"].sum().sort_values(ascending=False).reset_index().rename({\"task_importance\":\"skill_importance_weighting_across_tasks\"},axis=1)\n",
    "\n",
    "\n",
    "\n",
    "skill_exposure = exposed_tasks.groupby(\"skill\")[\"weighted_task_exposure\"].sum().sort_values(ascending=False).reset_index().rename({\"weighted_task_exposure\":\"skill_exposure_weighting_across_tasks\"},axis=1)\n",
    "\n",
    "\n",
    "skill_ratings = skill_importance.merge(skill_exposure,on=\"skill\")\n",
    "skill_ratings[\"percent_exposed\"] = skill_ratings[\"skill_exposure_weighting_across_tasks\"]/skill_ratings[\"skill_importance_weighting_across_tasks\"]\n",
    "\n",
    "skill_ratings[\"percent_not_exposed\"] = 1- skill_ratings[\"percent_exposed\"] \n",
    "skill_ratings = skill_ratings.sort_values(by=\"percent_not_exposed\",ascending=False)\n",
    "skill_ratings[\"Skill\"] = skill_ratings[\"skill\"].apply(lambda x: x.upper())\n"
   ]
  },
  {
   "cell_type": "code",
   "execution_count": null,
   "id": "71ff89e9-165b-4520-809d-9966a09f874a",
   "metadata": {},
   "outputs": [],
   "source": []
  }
 ],
 "metadata": {
  "kernelspec": {
   "display_name": "Python 3 (ipykernel)",
   "language": "python",
   "name": "python3"
  },
  "language_info": {
   "codemirror_mode": {
    "name": "ipython",
    "version": 3
   },
   "file_extension": ".py",
   "mimetype": "text/x-python",
   "name": "python",
   "nbconvert_exporter": "python",
   "pygments_lexer": "ipython3",
   "version": "3.11.7"
  }
 },
 "nbformat": 4,
 "nbformat_minor": 5
}
