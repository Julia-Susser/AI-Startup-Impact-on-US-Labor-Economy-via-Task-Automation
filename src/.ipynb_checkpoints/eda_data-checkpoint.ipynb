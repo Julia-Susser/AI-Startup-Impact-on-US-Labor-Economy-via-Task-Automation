{
 "cells": [
  {
   "cell_type": "code",
   "execution_count": 1,
   "id": "51515061-2e5c-4156-9abd-dc586ed2db21",
   "metadata": {},
   "outputs": [],
   "source": [
    "import pandas as pd\n",
    "import numpy as np\n",
    "import json\n",
    "import re\n",
    "from llms import gemini\n",
    "from llms import chatGPT\n",
    "from sklearn.metrics.pairwise import cosine_similarity\n",
    "import seaborn as sns\n",
    "from mpl_toolkits.mplot3d import Axes3D  # for 3D plotting\n",
    "import plotly.express as px\n",
    "from sklearn.manifold import TSNE\n",
    "from reportlab.pdfgen import canvas\n",
    "from reportlab.lib.pagesizes import letter\n",
    "from reportlab.lib.utils import ImageReader\n",
    "import plotly.io as pio\n",
    "\n",
    "\n",
    "x_chat = chatGPT()\n",
    "x_gemini = gemini()"
   ]
  },
  {
   "cell_type": "code",
   "execution_count": null,
   "id": "70f05d31-a8d6-45bc-a67e-dad5f4072555",
   "metadata": {},
   "outputs": [],
   "source": [
    "df = pd.read_csv(\"../output/bls_df.csv\",index_col=0)\n",
    "tsne = pd.read_csv(\"../output/tsne.csv\",index_col=0)\n",
    "df = pd.concat([df,tsne],axis=1)\n",
    "\n",
    "# df.example_task_embedding = df.example_task_embedding.apply(lambda x: [float(y) for y in x.strip(\"[]\").split(\", \")])\n",
    "# df.onet_task_embedding = df.onet_task_embedding.apply(lambda x: [float(y) for y in x.strip(\"[]\").split(\", \")])\n",
    "# df.onet_title_embedding = df.onet_title_embedding.apply(lambda x: [float(y) for y in x.strip(\"[]\").split(\", \")])\n",
    "\n"
   ]
  },
  {
   "cell_type": "code",
   "execution_count": null,
   "id": "e80ca9ad-9524-4f8c-8fd7-51ab7e23e3a6",
   "metadata": {},
   "outputs": [],
   "source": [
    "\n",
    "\n",
    "wage_employment = pd.read_csv(\"../input/wage_employment2022/national2022.csv\")\n",
    "wage_employment = wage_employment[wage_employment.O_GROUP == \"detailed\"]\n",
    "wage_employment = wage_employment.rename({\"OCC_CODE\": \"Detailed Occupation\"}, axis=1)\n",
    "wage_employment = wage_employment.replace(\"#\", np.nan).replace(\"*\", np.nan).replace({\",\": \"\"}, regex=True)\n",
    "wage_employment[[\"H_MEDIAN\", \"A_MEDIAN\",\"TOT_EMP\",\"JOBS_1000\"]] = wage_employment[[\"H_MEDIAN\", \"A_MEDIAN\",\"TOT_EMP\",\"JOBS_1000\"]].astype(\"float\")\n",
    "wage_employment[\"H_MEDIAN\"] = wage_employment[\"H_MEDIAN\"].round(0)\n",
    "wage_employment = wage_employment[[\"Detailed Occupation\",\"H_MEDIAN\",\"A_MEDIAN\",\"TOT_EMP\",\"JOBS_1000\"]]\n",
    "wage_employment.columns = [\"Detailed Occupation\",\"H_MEDIAN_US\",\"A_MEDIAN_US\",\"TOT_EMP_US\",\"JOBS_1000_US\"]\n",
    "\n",
    "\n",
    "all_tasks = df.groupby(\"Task\").aggregate({\"onet_weight\":\"sum\"}).reset_index()\n",
    "task_statements = pd.read_csv(\"../input/onet/Task Statements.csv\")[[\"Task\",\"Title\"]]\n",
    "all_tasks = all_tasks.merge(task_statements, on=[\"Task\"], how=\"outer\")\n",
    "onet_occ = pd.read_csv(\"../input/onet/Occupation Data.csv\")[[\"O*NET-SOC Code\",\"Title\"]]\n",
    "onet_occ.columns = [\"Detailed Occupation\",\"onet_title\"]\n",
    "onet_occ[\"Detailed Occupation\"] = onet_occ[\"Detailed Occupation\"].apply(lambda x: x[:-3])\n",
    "all_tasks = all_tasks.merge(onet_occ, left_on=\"Title\",right_on=\"onet_title\").drop(columns=[\"Title\"])\n",
    "\n",
    "all_tasks = all_tasks.replace(np.nan,0)\n",
    "perc_of_10K = (wage_employment.groupby(\"Detailed Occupation\")[\"TOT_EMP_US\"].first()/df[\"TOT_EMP_US\"].sum() * 10000).reset_index() # num of people for every 10K workers\n",
    "perc_of_10K = perc_of_10K.rename({\"TOT_EMP_US\":\"Percent of 10K workers\"},axis=1)\n",
    "\n",
    "\n",
    "all_tasks = all_tasks.merge(perc_of_10K, on=\"Detailed Occupation\")\n",
    "ratios = all_tasks['onet_weight'] / all_tasks['Percent of 10K workers']\n",
    "all_tasks[\"automated_weight\"] = np.minimum(ratios, 1)\n",
    "\n",
    "\n",
    "all_occupations = all_tasks.groupby(\"Detailed Occupation\").aggregate({\"automated_weight\":\"sum\",\"Task\":\"count\", \"onet_title\":\"first\"})\n",
    "all_occupations.columns = [\"occupation_# tasks automated\",\"occupation_# of tasks\",\"onet_title\"]\n",
    "all_occupations[\"occupation_onet_rating\"] = all_occupations[\"occupation_# tasks automated\"]/all_occupations[\"occupation_# of tasks\"]\n",
    "df = df.merge(all_tasks[[\"Task\",\"automated_weight\",\"Percent of 10K workers\"]], on=\"Task\")\n",
    "df = df.merge(all_occupations,on=[\"Detailed Occupation\",\"onet_title\"])\n",
    "\n",
    "\n",
    "all_occupations = all_occupations.merge(wage_employment, on=\"Detailed Occupation\")\n",
    "all_tasks = all_tasks.merge(wage_employment, on=\"Detailed Occupation\")\n",
    "all_tasks = all_tasks.rename({\"Title\":\"onet_title\"},axis=1)"
   ]
  }
 ],
 "metadata": {
  "kernelspec": {
   "display_name": "Python 3 (ipykernel)",
   "language": "python",
   "name": "python3"
  },
  "language_info": {
   "codemirror_mode": {
    "name": "ipython",
    "version": 3
   },
   "file_extension": ".py",
   "mimetype": "text/x-python",
   "name": "python",
   "nbconvert_exporter": "python",
   "pygments_lexer": "ipython3",
   "version": "3.11.7"
  }
 },
 "nbformat": 4,
 "nbformat_minor": 5
}
