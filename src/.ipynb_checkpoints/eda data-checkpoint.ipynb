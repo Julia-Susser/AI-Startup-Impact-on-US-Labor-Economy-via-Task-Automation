{
 "cells": [
  {
   "cell_type": "code",
   "execution_count": null,
   "id": "51515061-2e5c-4156-9abd-dc586ed2db21",
   "metadata": {},
   "outputs": [],
   "source": [
    "import pandas as pd\n",
    "import numpy as np\n",
    "import json\n",
    "import re\n",
    "from llms import gemini\n",
    "from llms import chatGPT\n",
    "from sklearn.metrics.pairwise import cosine_similarity\n",
    "import seaborn as sns\n",
    "from mpl_toolkits.mplot3d import Axes3D  # for 3D plotting\n",
    "import plotly.express as px\n",
    "from sklearn.manifold import TSNE\n",
    "from reportlab.pdfgen import canvas\n",
    "from reportlab.lib.pagesizes import letter\n",
    "from reportlab.lib.utils import ImageReader\n",
    "import plotly.io as pio\n",
    "import os\n",
    "from os import getenv\n",
    "from dotenv import load_dotenv\n",
    "import requests\n",
    "import ast\n",
    "\n",
    "x_chat = chatGPT()\n",
    "x_gemini = gemini()\n",
    "\n",
    "\n",
    "\n",
    "load_dotenv(\"../.env\",override=True)\n",
    "GEO_KEY = getenv(\"geo_api_key\")\n",
    "\n",
    "df = pd.read_csv(\"../output/bls_df.csv\",index_col=0)\n",
    "tsne = pd.read_csv(\"../output/tsne.csv\",index_col=0)\n",
    "df = pd.concat([df,tsne],axis=1)\n",
    "\n",
    "\n"
   ]
  }
 ],
 "metadata": {
  "kernelspec": {
   "display_name": "Python 3 (ipykernel)",
   "language": "python",
   "name": "python3"
  },
  "language_info": {
   "codemirror_mode": {
    "name": "ipython",
    "version": 3
   },
   "file_extension": ".py",
   "mimetype": "text/x-python",
   "name": "python",
   "nbconvert_exporter": "python",
   "pygments_lexer": "ipython3",
   "version": "3.11.7"
  }
 },
 "nbformat": 4,
 "nbformat_minor": 5
}
