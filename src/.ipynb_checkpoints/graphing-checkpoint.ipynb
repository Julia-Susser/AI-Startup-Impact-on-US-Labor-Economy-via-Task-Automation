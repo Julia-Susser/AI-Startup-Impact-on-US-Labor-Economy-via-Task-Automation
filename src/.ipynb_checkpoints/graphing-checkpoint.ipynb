{
 "cells": [
  {
   "cell_type": "code",
   "execution_count": 2,
   "id": "3689af8b-9618-492e-832d-abbfb61aee9a",
   "metadata": {},
   "outputs": [],
   "source": [
    "import pandas as pd\n",
    "import numpy as np\n",
    "import json\n",
    "import re\n",
    "from llms import gemini\n",
    "from llms import chatGPT\n",
    "from sklearn.metrics.pairwise import cosine_similarity\n",
    "import seaborn as sns\n",
    "from mpl_toolkits.mplot3d import Axes3D  # for 3D plotting\n",
    "import plotly.express as px\n",
    "from sklearn.manifold import TSNE\n",
    "from reportlab.pdfgen import canvas\n",
    "from reportlab.lib.pagesizes import letter\n",
    "from reportlab.lib.utils import ImageReader\n",
    "import plotly.io as pio\n",
    "import os\n",
    "from os import getenv\n",
    "from dotenv import load_dotenv\n",
    "import requests\n",
    "import ast\n",
    "import matplotlib.pyplot as plt\n",
    "from scipy.interpolate import make_interp_spline\n",
    "\n",
    "#group by occupation and quantify per occupation then merge into area grouped by JOB_1000 and then put on a graph of US to get total JOB_1000 in each locality\n",
    "\n",
    "#weighted_onet_rating for each occupation and then plot different things so like the color in the rating and the sides are different things like wage and skill\n",
    "#weighted onet_rating for task then plot things on the x and y axis\n",
    "\n",
    "#run a regression to predict weighted onet rating for each occupation\n",
    "#run a regression to predict onet_rating for each task (weighted by number of people employed in the occupation \n",
    "# num of people per 10K is equal to # of startups focused on automating task for it to qualify as automated\n",
    "\n",
    "#embed the skills and then tsne those and then show automation"
   ]
  },
  {
   "cell_type": "code",
   "execution_count": 3,
   "id": "85e10be0-75c6-4504-af08-25fd22152a83",
   "metadata": {},
   "outputs": [],
   "source": [
    "locations = pd.read_csv(\"../output/EDA_data/automation_by_geography.csv\",index_col=0)\n",
    "locations.Boundary = locations.Boundary.apply(lambda x: ast.literal_eval(x) if not pd.isnull(x) else x)\n",
    "\n",
    "\n",
    "all_tasks = pd.read_csv(\"../output/EDA_data/all_tasks_automation.csv\",index_col=0)\n",
    "skills_activities = pd.read_csv(\"../output/parsed_BLS_data/activity_skill_embeddings.csv\")\n",
    "all_occupations = pd.read_csv(\"../output/EDA_data/all_occupations_automation.csv\")\n",
    "\n",
    "df = pd.read_csv(\"../output/EDA_data/startup_data.csv\",index_col=0)\n",
    "\n",
    "dwa = pd.read_csv(\"../output/parsed_BLS_data/dwa.csv\")\n",
    "# df_activity = df.merge(dwa, on=\"Task\",how=\"left\")\n",
    "all_tasks_activity = all_tasks.merge(dwa, on=\"Task\",how=\"left\")\n",
    "all_tasks_activity = all_tasks_activity.merge(skills_activities,on=\"activity\")\n",
    "# df_activity = df_activity.merge(skills_activities,on=\"activity\")"
   ]
  },
  {
   "cell_type": "code",
   "execution_count": 11,
   "id": "39971382-5117-4130-b739-8b19464ed448",
   "metadata": {},
   "outputs": [],
   "source": [
    "locations['weighted_automation_#_per_1000_people'] = locations['weighted_automation_#_per_1000_people'].round(2)"
   ]
  },
  {
   "cell_type": "code",
   "execution_count": 40,
   "id": "3097b88f-7462-434d-8ea2-a5afb041bd06",
   "metadata": {},
   "outputs": [],
   "source": [
    "# import folium\n",
    "# import numpy as np\n",
    "# import matplotlib.cm as cm\n",
    "# import matplotlib.colors as mcolors\n",
    "# import branca.colormap as cm\n",
    "\n",
    "# # Initialize the map centered around the US\n",
    "# m = folium.Map(location=[37.0902, -95.7129], zoom_start=4, tiles='CartoDB positron')\n",
    "\n",
    "# # Normalize the onet_rating for color mapping\n",
    "# vmin = 0\n",
    "# vmax = 200\n",
    "# norm = mcolors.Normalize(vmin=vmin, vmax=vmax)\n",
    "# cmap_metro = cm.LinearColormap(\n",
    "#     colors=['lightblue', 'cyan', 'lightgreen', 'green', 'darkgreen'],\n",
    "#     vmin=vmin,  # Minimum rating\n",
    "#     vmax=vmax  # Maximum rating\n",
    "# )\n",
    "\n",
    "# cmap_rural = cm.LinearColormap(\n",
    "#     colors=['yellow', '#FFD700', '#FFA500', 'red', 'darkred'],\n",
    "#     vmin=vmin,  # Minimum rating\n",
    "#     vmax=vmax  # Maximum rating\n",
    "# )\n",
    "\n",
    "# # Function to convert the bounds to a list of lat/lng\n",
    "# def get_boundary_coords(boundary):\n",
    "#     ne = boundary['bounds']['northeast']\n",
    "#     sw = boundary['bounds']['southwest']\n",
    "#     return [\n",
    "#         [ne['lat'], ne['lng']],\n",
    "#         [ne['lat'], sw['lng']],\n",
    "#         [sw['lat'], sw['lng']],\n",
    "#         [sw['lat'], ne['lng']],\n",
    "#         [ne['lat'], ne['lng']]\n",
    "#     ]\n",
    "\n",
    "# # Add polygons to the map\n",
    "# for idx, row in list(locations.dropna(subset=[\"Boundary\"]).iterrows()):\n",
    "#     try:\n",
    "#         boundary_coords = get_boundary_coords(row['Boundary'])\n",
    "#     except KeyError:\n",
    "#         continue\n",
    "    \n",
    "#     # Choose color map based on type\n",
    "#     if row['Type'] == 'METRO':\n",
    "#         color = cmap_metro(row['weighted_automation_#_per_1000_people'])\n",
    "#     else:\n",
    "#         color = cmap_rural(row['weighted_automation_#_per_1000_people'])\n",
    "    \n",
    "#     folium.Polygon(\n",
    "#         locations=boundary_coords,\n",
    "#         color=None,\n",
    "#         fill=True,\n",
    "#         fill_color=color,\n",
    "#         fill_opacity=1,\n",
    "#         popup=row['name'] + \" \" + row['state']+ \" \" +str(row['weighted_automation_#_per_1000_people'])\n",
    "#     ).add_to(m)\n",
    "\n",
    "# # Add color bar legend for metro\n",
    "# cmap_metro.caption = 'Metro Areas: Weighted # of jobs Automated Per 10K employees Scale'\n",
    "# cmap_metro.add_to(m)\n",
    "\n",
    "# # Add color bar legend for rural\n",
    "# cmap_rural.caption = 'Rural Areas: Weighted # of jobs Automated Per 10K employees Scale'\n",
    "# cmap_rural.add_to(m)\n",
    "\n",
    "# # Save and display the map\n",
    "# m.save('map.html')\n",
    "# m\n"
   ]
  },
  {
   "cell_type": "code",
   "execution_count": 41,
   "id": "e418c0b9-c611-4eba-9eac-70a4eb769815",
   "metadata": {},
   "outputs": [],
   "source": [
    "# df[\"weighted_JOBS_1000_diff\"] = (df[\"weighted_JOBS_1000_METRO\"]-df[\"weighted_JOBS_1000_RURAL\"])/df[\"weighted_JOBS_1000_METRO\"]*100\n",
    "\n",
    "# occ_type = \"Major Group Name\"\n",
    "# occ_groups = list(df.groupby(occ_type)[\"onet_title\"].count().sort_values(ascending=False).index)\n",
    "\n",
    "# values = [\"weighted_JOBS_1000_diff\"]\n",
    "\n",
    "# for occ_group in occ_groups[:1]:\n",
    "#     for value in values:\n",
    "#         graph_df = df[df[occ_type] == occ_group]\n",
    "#         graph_df.head()\n",
    "        \n",
    "#         # Plot using Plotly with clusters\n",
    "#         fig = px.scatter(graph_df, x='onet_task_embedding_tsne1', y='example_task_embedding_tsne1',\n",
    "#                          color=value,\n",
    "#                          hover_data=['onet_task','job'],\n",
    "#                          labels={value: 'Weighted Percent More in Metro'},\n",
    "#                          range_color=(-10, 60)\n",
    "#                          )\n",
    "#         fig.update_traces(marker_size=10)\n",
    "#         fig.update_layout(\n",
    "#             title=f\"\", \n",
    "#             hovermode='closest',\n",
    "#             width=1000,  # Set the width of the figure\n",
    "#             height=1000,  # Set the height of the figure\n",
    "#             legend=dict(font=dict(size=5)),\n",
    "#             margin=dict(l=40, r=40, t=40, b=150)\n",
    "#         )\n",
    "        \n",
    "#         caption = (\n",
    "#             f\"\"\"Scatter plot of task embeddings for {occ_group}, showing whether each task is more concentrated in metro areas than in rural areas. \n",
    "#             The concentration is determined based on the number of jobs in metro and non-metro areas for each occupation, weighted by total employment in each area.\"\"\"\n",
    "#         )\n",
    "\n",
    "#         fig.add_annotation(\n",
    "#             text=caption,\n",
    "#             xref=\"paper\", yref=\"paper\",\n",
    "#             x=0.5, y=-0.15,\n",
    "#             showarrow=False,\n",
    "#             font=dict(size=12),\n",
    "#         )\n",
    "        \n",
    "#         fig.show()\n"
   ]
  },
  {
   "cell_type": "code",
   "execution_count": 18,
   "id": "adb54082-1bde-4cd3-95fd-0de8b8bb07f3",
   "metadata": {},
   "outputs": [],
   "source": [
    "\n",
    "grouped = all_tasks_activity.groupby([\"activity\",\"skill\"]).aggregate({\"task_automation_rating\":\"sum\",\"activity_embedding_tsne1\":\"first\",\"skill_embedding_tsne1\":\"first\"}).reset_index()\n",
    "grouped['text_label'] = grouped.apply(lambda row: row['skill'] if row['task_automation_rating'] >= 0 else '', axis=1)\n"
   ]
  },
  {
   "cell_type": "code",
   "execution_count": 42,
   "id": "ebd41f9d-e65e-4bef-8649-4a0a78b4feb1",
   "metadata": {},
   "outputs": [],
   "source": [
    "\n",
    "# # Assuming `grouped` is your DataFrame\n",
    "# fig = px.scatter(grouped, \n",
    "#                  x='activity_embedding_tsne1', \n",
    "#                  y='skill_embedding_tsne1',\n",
    "#                  color=\"task_automation_rating\",\n",
    "#                  color_continuous_scale=px.colors.sequential.Viridis,\n",
    "#                  hover_data=['activity', 'skill'],\n",
    "#                  text='text_label',  # Add the filtered text labels\n",
    "#                  labels={'value': 'Value'},\n",
    "#                  range_color=(0, 50))\n",
    "\n",
    "# fig.update_traces(marker_size=10, textposition='top center')                  \n",
    "\n",
    "# fig.update_layout(\n",
    "#     title=f\"Visualization of the number of tasks being automated for each skill & activity\", \n",
    "#     hovermode='closest',\n",
    "#     width=1000,  # Set the width of the figure\n",
    "#     height=1000,  # Set the height of the figure\n",
    "#     legend=dict(font=dict(size=8)),\n",
    "# )\n",
    "\n",
    "# fig.show()\n",
    "# # pio.write_html(fig, file='Skills Automated.html', auto_open=True)"
   ]
  },
  {
   "cell_type": "code",
   "execution_count": 110,
   "id": "700adc6b-3714-4a7b-9865-e79e9dabbf58",
   "metadata": {},
   "outputs": [
    {
     "name": "stderr",
     "output_type": "stream",
     "text": [
      "/var/folders/nf/2dvvlnxj5v962kwwzmpfj17h0000gn/T/ipykernel_75419/2868078825.py:13: FutureWarning:\n",
      "\n",
      "The default of observed=False is deprecated and will be changed to True in a future version of pandas. Pass observed=False to retain current behavior or observed=True to adopt the future default and silence this warning.\n",
      "\n"
     ]
    },
    {
     "data": {
      "application/vnd.plotly.v1+json": {
       "config": {
        "plotlyServerURL": "https://plot.ly"
       },
       "data": [
        {
         "alignmentgroup": "True",
         "hovertemplate": "Minor Group Name=Animal Care and Service Workers<br>Income Buckets=%{x}<br># of people automated=%{y}<extra></extra>",
         "legendgroup": "Animal Care and Service Workers",
         "marker": {
          "color": "#636efa",
          "pattern": {
           "shape": ""
          }
         },
         "name": "Animal Care and Service Workers",
         "offsetgroup": "Animal Care and Service Workers",
         "orientation": "v",
         "showlegend": true,
         "textposition": "auto",
         "type": "bar",
         "x": [
          "<30k",
          "30k-40k"
         ],
         "xaxis": "x",
         "y": [
          58334.09090909089,
          0
         ],
         "yaxis": "y"
        },
        {
         "alignmentgroup": "True",
         "hovertemplate": "Minor Group Name=Building Cleaning and Pest Control Workers<br>Income Buckets=%{x}<br># of people automated=%{y}<extra></extra>",
         "legendgroup": "Building Cleaning and Pest Control Workers",
         "marker": {
          "color": "#EF553B",
          "pattern": {
           "shape": ""
          }
         },
         "name": "Building Cleaning and Pest Control Workers",
         "offsetgroup": "Building Cleaning and Pest Control Workers",
         "orientation": "v",
         "showlegend": true,
         "textposition": "auto",
         "type": "bar",
         "x": [
          "<30k",
          "30k-40k"
         ],
         "xaxis": "x",
         "y": [
          0,
          0
         ],
         "yaxis": "y"
        },
        {
         "alignmentgroup": "True",
         "hovertemplate": "Minor Group Name=Cooks and Food Preparation Workers<br>Income Buckets=%{x}<br># of people automated=%{y}<extra></extra>",
         "legendgroup": "Cooks and Food Preparation Workers",
         "marker": {
          "color": "#00cc96",
          "pattern": {
           "shape": ""
          }
         },
         "name": "Cooks and Food Preparation Workers",
         "offsetgroup": "Cooks and Food Preparation Workers",
         "orientation": "v",
         "showlegend": true,
         "textposition": "auto",
         "type": "bar",
         "x": [
          "<30k",
          "30k-40k"
         ],
         "xaxis": "x",
         "y": [
          0,
          0
         ],
         "yaxis": "y"
        },
        {
         "alignmentgroup": "True",
         "hovertemplate": "Minor Group Name=Entertainment Attendants and Related Workers<br>Income Buckets=%{x}<br># of people automated=%{y}<extra></extra>",
         "legendgroup": "Entertainment Attendants and Related Workers",
         "marker": {
          "color": "#ab63fa",
          "pattern": {
           "shape": ""
          }
         },
         "name": "Entertainment Attendants and Related Workers",
         "offsetgroup": "Entertainment Attendants and Related Workers",
         "orientation": "v",
         "showlegend": true,
         "textposition": "auto",
         "type": "bar",
         "x": [
          "<30k",
          "30k-40k",
          "40k-50k"
         ],
         "xaxis": "x",
         "y": [
          0,
          0,
          0
         ],
         "yaxis": "y"
        },
        {
         "alignmentgroup": "True",
         "hovertemplate": "Minor Group Name=Food and Beverage Serving Workers<br>Income Buckets=%{x}<br># of people automated=%{y}<extra></extra>",
         "legendgroup": "Food and Beverage Serving Workers",
         "marker": {
          "color": "#FFA15A",
          "pattern": {
           "shape": ""
          }
         },
         "name": "Food and Beverage Serving Workers",
         "offsetgroup": "Food and Beverage Serving Workers",
         "orientation": "v",
         "showlegend": true,
         "textposition": "auto",
         "type": "bar",
         "x": [
          "<30k",
          "30k-40k"
         ],
         "xaxis": "x",
         "y": [
          303016.5,
          0
         ],
         "yaxis": "y"
        },
        {
         "alignmentgroup": "True",
         "hovertemplate": "Minor Group Name=Information and Record Clerks<br>Income Buckets=%{x}<br># of people automated=%{y}<extra></extra>",
         "legendgroup": "Information and Record Clerks",
         "marker": {
          "color": "#19d3f3",
          "pattern": {
           "shape": ""
          }
         },
         "name": "Information and Record Clerks",
         "offsetgroup": "Information and Record Clerks",
         "orientation": "v",
         "showlegend": true,
         "textposition": "auto",
         "type": "bar",
         "x": [
          "<30k",
          "30k-40k",
          "40k-50k",
          "50k-60k"
         ],
         "xaxis": "x",
         "y": [
          36477,
          7065505.837320574,
          0,
          0
         ],
         "yaxis": "y"
        },
        {
         "alignmentgroup": "True",
         "hovertemplate": "Minor Group Name=Other Food Preparation and Serving Related Workers<br>Income Buckets=%{x}<br># of people automated=%{y}<extra></extra>",
         "legendgroup": "Other Food Preparation and Serving Related Workers",
         "marker": {
          "color": "#FF6692",
          "pattern": {
           "shape": ""
          }
         },
         "name": "Other Food Preparation and Serving Related Workers",
         "offsetgroup": "Other Food Preparation and Serving Related Workers",
         "orientation": "v",
         "showlegend": true,
         "textposition": "auto",
         "type": "bar",
         "x": [
          "<30k"
         ],
         "xaxis": "x",
         "y": [
          57819.54545454538
         ],
         "yaxis": "y"
        },
        {
         "alignmentgroup": "True",
         "hovertemplate": "Minor Group Name=Other Personal Care and Service Workers<br>Income Buckets=%{x}<br># of people automated=%{y}<extra></extra>",
         "legendgroup": "Other Personal Care and Service Workers",
         "marker": {
          "color": "#B6E880",
          "pattern": {
           "shape": ""
          }
         },
         "name": "Other Personal Care and Service Workers",
         "offsetgroup": "Other Personal Care and Service Workers",
         "orientation": "v",
         "showlegend": true,
         "textposition": "auto",
         "type": "bar",
         "x": [
          "<30k",
          "30k-40k",
          "40k-50k"
         ],
         "xaxis": "x",
         "y": [
          20884.54545454543,
          0,
          45552.727272727265
         ],
         "yaxis": "y"
        },
        {
         "alignmentgroup": "True",
         "hovertemplate": "Minor Group Name=Other Protective Service Workers<br>Income Buckets=%{x}<br># of people automated=%{y}<extra></extra>",
         "legendgroup": "Other Protective Service Workers",
         "marker": {
          "color": "#FF97FF",
          "pattern": {
           "shape": ""
          }
         },
         "name": "Other Protective Service Workers",
         "offsetgroup": "Other Protective Service Workers",
         "orientation": "v",
         "showlegend": true,
         "textposition": "auto",
         "type": "bar",
         "x": [
          "<30k",
          "30k-40k",
          "40k-50k",
          "50k-60k"
         ],
         "xaxis": "x",
         "y": [
          0,
          190284.28571428562,
          0,
          0
         ],
         "yaxis": "y"
        },
        {
         "alignmentgroup": "True",
         "hovertemplate": "Minor Group Name=Personal Appearance Workers<br>Income Buckets=%{x}<br># of people automated=%{y}<extra></extra>",
         "legendgroup": "Personal Appearance Workers",
         "marker": {
          "color": "#FECB52",
          "pattern": {
           "shape": ""
          }
         },
         "name": "Personal Appearance Workers",
         "offsetgroup": "Personal Appearance Workers",
         "orientation": "v",
         "showlegend": true,
         "textposition": "auto",
         "type": "bar",
         "x": [
          "<30k",
          "30k-40k",
          "90k-100k"
         ],
         "xaxis": "x",
         "y": [
          0,
          56750,
          0
         ],
         "yaxis": "y"
        },
        {
         "alignmentgroup": "True",
         "hovertemplate": "Minor Group Name=Retail Sales Workers<br>Income Buckets=%{x}<br># of people automated=%{y}<extra></extra>",
         "legendgroup": "Retail Sales Workers",
         "marker": {
          "color": "#636efa",
          "pattern": {
           "shape": ""
          }
         },
         "name": "Retail Sales Workers",
         "offsetgroup": "Retail Sales Workers",
         "orientation": "v",
         "showlegend": true,
         "textposition": "auto",
         "type": "bar",
         "x": [
          "<30k",
          "30k-40k"
         ],
         "xaxis": "x",
         "y": [
          454626.20689655165,
          1787037.5
         ],
         "yaxis": "y"
        },
        {
         "alignmentgroup": "True",
         "hovertemplate": "Minor Group Name=Textile, Apparel, and Furnishings Workers<br>Income Buckets=%{x}<br># of people automated=%{y}<extra></extra>",
         "legendgroup": "Textile, Apparel, and Furnishings Workers",
         "marker": {
          "color": "#EF553B",
          "pattern": {
           "shape": ""
          }
         },
         "name": "Textile, Apparel, and Furnishings Workers",
         "offsetgroup": "Textile, Apparel, and Furnishings Workers",
         "orientation": "v",
         "showlegend": true,
         "textposition": "auto",
         "type": "bar",
         "x": [
          "<30k",
          "30k-40k",
          "60k-70k"
         ],
         "xaxis": "x",
         "y": [
          0,
          11290.909090909077,
          0
         ],
         "yaxis": "y"
        },
        {
         "alignmentgroup": "True",
         "hovertemplate": "Minor Group Name=Agricultural Workers<br>Income Buckets=%{x}<br># of people automated=%{y}<extra></extra>",
         "legendgroup": "Agricultural Workers",
         "marker": {
          "color": "#00cc96",
          "pattern": {
           "shape": ""
          }
         },
         "name": "Agricultural Workers",
         "offsetgroup": "Agricultural Workers",
         "orientation": "v",
         "showlegend": true,
         "textposition": "auto",
         "type": "bar",
         "x": [
          "30k-40k",
          "40k-50k"
         ],
         "xaxis": "x",
         "y": [
          78300.30303030298,
          694.0909090909082
         ],
         "yaxis": "y"
        },
        {
         "alignmentgroup": "True",
         "hovertemplate": "Minor Group Name=Art and Design Workers<br>Income Buckets=%{x}<br># of people automated=%{y}<extra></extra>",
         "legendgroup": "Art and Design Workers",
         "marker": {
          "color": "#ab63fa",
          "pattern": {
           "shape": ""
          }
         },
         "name": "Art and Design Workers",
         "offsetgroup": "Art and Design Workers",
         "orientation": "v",
         "showlegend": true,
         "textposition": "auto",
         "type": "bar",
         "x": [
          "30k-40k",
          "50k-60k",
          "60k-70k",
          "70k-80k",
          "90k-100k"
         ],
         "xaxis": "x",
         "y": [
          32370.79999999999,
          131321.25,
          30002,
          29855.852941176465,
          12853.571428571428
         ],
         "yaxis": "y"
        },
        {
         "alignmentgroup": "True",
         "hovertemplate": "Minor Group Name=Assemblers and Fabricators<br>Income Buckets=%{x}<br># of people automated=%{y}<extra></extra>",
         "legendgroup": "Assemblers and Fabricators",
         "marker": {
          "color": "#FFA15A",
          "pattern": {
           "shape": ""
          }
         },
         "name": "Assemblers and Fabricators",
         "offsetgroup": "Assemblers and Fabricators",
         "orientation": "v",
         "showlegend": true,
         "textposition": "auto",
         "type": "bar",
         "x": [
          "30k-40k",
          "40k-50k",
          "50k-60k"
         ],
         "xaxis": "x",
         "y": [
          0,
          0,
          0
         ],
         "yaxis": "y"
        },
        {
         "alignmentgroup": "True",
         "hovertemplate": "Minor Group Name=Baggage Porters, Bellhops, and Concierges<br>Income Buckets=%{x}<br># of people automated=%{y}<extra></extra>",
         "legendgroup": "Baggage Porters, Bellhops, and Concierges",
         "marker": {
          "color": "#19d3f3",
          "pattern": {
           "shape": ""
          }
         },
         "name": "Baggage Porters, Bellhops, and Concierges",
         "offsetgroup": "Baggage Porters, Bellhops, and Concierges",
         "orientation": "v",
         "showlegend": true,
         "textposition": "auto",
         "type": "bar",
         "x": [
          "30k-40k"
         ],
         "xaxis": "x",
         "y": [
          0
         ],
         "yaxis": "y"
        },
        {
         "alignmentgroup": "True",
         "hovertemplate": "Minor Group Name=Communications Equipment Operators<br>Income Buckets=%{x}<br># of people automated=%{y}<extra></extra>",
         "legendgroup": "Communications Equipment Operators",
         "marker": {
          "color": "#FF6692",
          "pattern": {
           "shape": ""
          }
         },
         "name": "Communications Equipment Operators",
         "offsetgroup": "Communications Equipment Operators",
         "orientation": "v",
         "showlegend": true,
         "textposition": "auto",
         "type": "bar",
         "x": [
          "30k-40k"
         ],
         "xaxis": "x",
         "y": [
          0
         ],
         "yaxis": "y"
        },
        {
         "alignmentgroup": "True",
         "hovertemplate": "Minor Group Name=Counselors, Social Workers, and Other Community and Social Service Specialists<br>Income Buckets=%{x}<br># of people automated=%{y}<extra></extra>",
         "legendgroup": "Counselors, Social Workers, and Other Community and Social Service Specialists",
         "marker": {
          "color": "#B6E880",
          "pattern": {
           "shape": ""
          }
         },
         "name": "Counselors, Social Workers, and Other Community and Social Service Specialists",
         "offsetgroup": "Counselors, Social Workers, and Other Community and Social Service Specialists",
         "orientation": "v",
         "showlegend": true,
         "textposition": "auto",
         "type": "bar",
         "x": [
          "30k-40k",
          "40k-50k",
          "50k-60k",
          "60k-70k"
         ],
         "xaxis": "x",
         "y": [
          109154.29411764705,
          2113.7931034482726,
          1401370.8232689209,
          72120.58823529408
         ],
         "yaxis": "y"
        },
        {
         "alignmentgroup": "True",
         "hovertemplate": "Minor Group Name=Entertainers and Performers, Sports and Related Workers<br>Income Buckets=%{x}<br># of people automated=%{y}<extra></extra>",
         "legendgroup": "Entertainers and Performers, Sports and Related Workers",
         "marker": {
          "color": "#FF97FF",
          "pattern": {
           "shape": ""
          }
         },
         "name": "Entertainers and Performers, Sports and Related Workers",
         "offsetgroup": "Entertainers and Performers, Sports and Related Workers",
         "orientation": "v",
         "showlegend": true,
         "textposition": "auto",
         "type": "bar",
         "x": [
          "30k-40k",
          "40k-50k",
          "50k-60k",
          "60k-70k",
          "80k-90k",
          "90k-100k"
         ],
         "xaxis": "x",
         "y": [
          2385,
          39101.785714285696,
          0,
          1948.3333333333326,
          3705.3012048192654,
          0
         ],
         "yaxis": "y"
        },
        {
         "alignmentgroup": "True",
         "hovertemplate": "Minor Group Name=Financial Clerks<br>Income Buckets=%{x}<br># of people automated=%{y}<extra></extra>",
         "legendgroup": "Financial Clerks",
         "marker": {
          "color": "#FECB52",
          "pattern": {
           "shape": ""
          }
         },
         "name": "Financial Clerks",
         "offsetgroup": "Financial Clerks",
         "orientation": "v",
         "showlegend": true,
         "textposition": "auto",
         "type": "bar",
         "x": [
          "30k-40k",
          "40k-50k"
         ],
         "xaxis": "x",
         "y": [
          37800.66666666663,
          1616044.5358851673
         ],
         "yaxis": "y"
        },
        {
         "alignmentgroup": "True",
         "hovertemplate": "Minor Group Name=Food Processing Workers<br>Income Buckets=%{x}<br># of people automated=%{y}<extra></extra>",
         "legendgroup": "Food Processing Workers",
         "marker": {
          "color": "#636efa",
          "pattern": {
           "shape": ""
          }
         },
         "name": "Food Processing Workers",
         "offsetgroup": "Food Processing Workers",
         "orientation": "v",
         "showlegend": true,
         "textposition": "auto",
         "type": "bar",
         "x": [
          "30k-40k"
         ],
         "xaxis": "x",
         "y": [
          0
         ],
         "yaxis": "y"
        },
        {
         "alignmentgroup": "True",
         "hovertemplate": "Minor Group Name=Forest, Conservation, and Logging Workers<br>Income Buckets=%{x}<br># of people automated=%{y}<extra></extra>",
         "legendgroup": "Forest, Conservation, and Logging Workers",
         "marker": {
          "color": "#EF553B",
          "pattern": {
           "shape": ""
          }
         },
         "name": "Forest, Conservation, and Logging Workers",
         "offsetgroup": "Forest, Conservation, and Logging Workers",
         "orientation": "v",
         "showlegend": true,
         "textposition": "auto",
         "type": "bar",
         "x": [
          "30k-40k",
          "40k-50k"
         ],
         "xaxis": "x",
         "y": [
          0,
          0
         ],
         "yaxis": "y"
        },
        {
         "alignmentgroup": "True",
         "hovertemplate": "Minor Group Name=Funeral Service Workers<br>Income Buckets=%{x}<br># of people automated=%{y}<extra></extra>",
         "legendgroup": "Funeral Service Workers",
         "marker": {
          "color": "#00cc96",
          "pattern": {
           "shape": ""
          }
         },
         "name": "Funeral Service Workers",
         "offsetgroup": "Funeral Service Workers",
         "orientation": "v",
         "showlegend": true,
         "textposition": "auto",
         "type": "bar",
         "x": [
          "30k-40k",
          "40k-50k",
          "50k-60k"
         ],
         "xaxis": "x",
         "y": [
          0,
          0,
          0
         ],
         "yaxis": "y"
        },
        {
         "alignmentgroup": "True",
         "hovertemplate": "Minor Group Name=Grounds Maintenance Workers<br>Income Buckets=%{x}<br># of people automated=%{y}<extra></extra>",
         "legendgroup": "Grounds Maintenance Workers",
         "marker": {
          "color": "#ab63fa",
          "pattern": {
           "shape": ""
          }
         },
         "name": "Grounds Maintenance Workers",
         "offsetgroup": "Grounds Maintenance Workers",
         "orientation": "v",
         "showlegend": true,
         "textposition": "auto",
         "type": "bar",
         "x": [
          "30k-40k",
          "40k-50k"
         ],
         "xaxis": "x",
         "y": [
          67720.74074074067,
          0
         ],
         "yaxis": "y"
        },
        {
         "alignmentgroup": "True",
         "hovertemplate": "Minor Group Name=Health Technologists and Technicians<br>Income Buckets=%{x}<br># of people automated=%{y}<extra></extra>",
         "legendgroup": "Health Technologists and Technicians",
         "marker": {
          "color": "#FFA15A",
          "pattern": {
           "shape": ""
          }
         },
         "name": "Health Technologists and Technicians",
         "offsetgroup": "Health Technologists and Technicians",
         "orientation": "v",
         "showlegend": true,
         "textposition": "auto",
         "type": "bar",
         "x": [
          "30k-40k",
          "40k-50k",
          "50k-60k",
          "60k-70k",
          "70k-80k",
          "80k-90k"
         ],
         "xaxis": "x",
         "y": [
          96799.35483870968,
          171783.4535104364,
          1034797.0251716243,
          19915.133333333324,
          0,
          5929.130434782606
         ],
         "yaxis": "y"
        },
        {
         "alignmentgroup": "True",
         "hovertemplate": "Minor Group Name=Helpers, Construction Trades<br>Income Buckets=%{x}<br># of people automated=%{y}<extra></extra>",
         "legendgroup": "Helpers, Construction Trades",
         "marker": {
          "color": "#19d3f3",
          "pattern": {
           "shape": ""
          }
         },
         "name": "Helpers, Construction Trades",
         "offsetgroup": "Helpers, Construction Trades",
         "orientation": "v",
         "showlegend": true,
         "textposition": "auto",
         "type": "bar",
         "x": [
          "30k-40k"
         ],
         "xaxis": "x",
         "y": [
          0
         ],
         "yaxis": "y"
        },
        {
         "alignmentgroup": "True",
         "hovertemplate": "Minor Group Name=Home Health and Personal Care Aides; and Nursing Assistants, Orderlies, and Psychiatric Aides<br>Income Buckets=%{x}<br># of people automated=%{y}<extra></extra>",
         "legendgroup": "Home Health and Personal Care Aides; and Nursing Assistants, Orderlies, and Psychiatric Aides",
         "marker": {
          "color": "#FF6692",
          "pattern": {
           "shape": ""
          }
         },
         "name": "Home Health and Personal Care Aides; and Nursing Assistants, Orderlies, and Psychiatric Aides",
         "offsetgroup": "Home Health and Personal Care Aides; and Nursing Assistants, Orderlies, and Psychiatric Aides",
         "orientation": "v",
         "showlegend": true,
         "textposition": "auto",
         "type": "bar",
         "x": [
          "30k-40k"
         ],
         "xaxis": "x",
         "y": [
          5320825.636363634
         ],
         "yaxis": "y"
        },
        {
         "alignmentgroup": "True",
         "hovertemplate": "Minor Group Name=Librarians, Curators, and Archivists<br>Income Buckets=%{x}<br># of people automated=%{y}<extra></extra>",
         "legendgroup": "Librarians, Curators, and Archivists",
         "marker": {
          "color": "#B6E880",
          "pattern": {
           "shape": ""
          }
         },
         "name": "Librarians, Curators, and Archivists",
         "offsetgroup": "Librarians, Curators, and Archivists",
         "orientation": "v",
         "showlegend": true,
         "textposition": "auto",
         "type": "bar",
         "x": [
          "30k-40k",
          "40k-50k",
          "50k-60k",
          "60k-70k"
         ],
         "xaxis": "x",
         "y": [
          4190.285714285711,
          0,
          0,
          23883.333333333325
         ],
         "yaxis": "y"
        },
        {
         "alignmentgroup": "True",
         "hovertemplate": "Minor Group Name=Material Moving Workers<br>Income Buckets=%{x}<br># of people automated=%{y}<extra></extra>",
         "legendgroup": "Material Moving Workers",
         "marker": {
          "color": "#FF97FF",
          "pattern": {
           "shape": ""
          }
         },
         "name": "Material Moving Workers",
         "offsetgroup": "Material Moving Workers",
         "orientation": "v",
         "showlegend": true,
         "textposition": "auto",
         "type": "bar",
         "x": [
          "30k-40k",
          "40k-50k",
          "50k-60k",
          "60k-70k"
         ],
         "xaxis": "x",
         "y": [
          686830,
          0,
          0,
          0
         ],
         "yaxis": "y"
        },
        {
         "alignmentgroup": "True",
         "hovertemplate": "Minor Group Name=Material Recording, Scheduling, Dispatching, and Distributing Workers<br>Income Buckets=%{x}<br># of people automated=%{y}<extra></extra>",
         "legendgroup": "Material Recording, Scheduling, Dispatching, and Distributing Workers",
         "marker": {
          "color": "#FECB52",
          "pattern": {
           "shape": ""
          }
         },
         "name": "Material Recording, Scheduling, Dispatching, and Distributing Workers",
         "offsetgroup": "Material Recording, Scheduling, Dispatching, and Distributing Workers",
         "orientation": "v",
         "showlegend": true,
         "textposition": "auto",
         "type": "bar",
         "x": [
          "30k-40k",
          "40k-50k",
          "50k-60k"
         ],
         "xaxis": "x",
         "y": [
          501381.8181818181,
          136860.13037809645,
          0
         ],
         "yaxis": "y"
        },
        {
         "alignmentgroup": "True",
         "hovertemplate": "Minor Group Name=Metal Workers and Plastic Workers<br>Income Buckets=%{x}<br># of people automated=%{y}<extra></extra>",
         "legendgroup": "Metal Workers and Plastic Workers",
         "marker": {
          "color": "#636efa",
          "pattern": {
           "shape": ""
          }
         },
         "name": "Metal Workers and Plastic Workers",
         "offsetgroup": "Metal Workers and Plastic Workers",
         "orientation": "v",
         "showlegend": true,
         "textposition": "auto",
         "type": "bar",
         "x": [
          "30k-40k",
          "40k-50k",
          "50k-60k"
         ],
         "xaxis": "x",
         "y": [
          0,
          0,
          0
         ],
         "yaxis": "y"
        },
        {
         "alignmentgroup": "True",
         "hovertemplate": "Minor Group Name=Motor Vehicle Operators<br>Income Buckets=%{x}<br># of people automated=%{y}<extra></extra>",
         "legendgroup": "Motor Vehicle Operators",
         "marker": {
          "color": "#EF553B",
          "pattern": {
           "shape": ""
          }
         },
         "name": "Motor Vehicle Operators",
         "offsetgroup": "Motor Vehicle Operators",
         "orientation": "v",
         "showlegend": true,
         "textposition": "auto",
         "type": "bar",
         "x": [
          "30k-40k",
          "40k-50k",
          "50k-60k"
         ],
         "xaxis": "x",
         "y": [
          0,
          0,
          0
         ],
         "yaxis": "y"
        },
        {
         "alignmentgroup": "True",
         "hovertemplate": "Minor Group Name=Occupational Therapy and Physical Therapist Assistants and Aides<br>Income Buckets=%{x}<br># of people automated=%{y}<extra></extra>",
         "legendgroup": "Occupational Therapy and Physical Therapist Assistants and Aides",
         "marker": {
          "color": "#00cc96",
          "pattern": {
           "shape": ""
          }
         },
         "name": "Occupational Therapy and Physical Therapist Assistants and Aides",
         "offsetgroup": "Occupational Therapy and Physical Therapist Assistants and Aides",
         "orientation": "v",
         "showlegend": true,
         "textposition": "auto",
         "type": "bar",
         "x": [
          "30k-40k",
          "60k-70k"
         ],
         "xaxis": "x",
         "y": [
          0,
          0
         ],
         "yaxis": "y"
        },
        {
         "alignmentgroup": "True",
         "hovertemplate": "Minor Group Name=Other Construction and Related Workers<br>Income Buckets=%{x}<br># of people automated=%{y}<extra></extra>",
         "legendgroup": "Other Construction and Related Workers",
         "marker": {
          "color": "#ab63fa",
          "pattern": {
           "shape": ""
          }
         },
         "name": "Other Construction and Related Workers",
         "offsetgroup": "Other Construction and Related Workers",
         "orientation": "v",
         "showlegend": true,
         "textposition": "auto",
         "type": "bar",
         "x": [
          "30k-40k",
          "40k-50k",
          "60k-70k",
          "90k-100k"
         ],
         "xaxis": "x",
         "y": [
          0,
          0,
          26827.272727272724,
          0
         ],
         "yaxis": "y"
        },
        {
         "alignmentgroup": "True",
         "hovertemplate": "Minor Group Name=Other Educational Instruction and Library Occupations<br>Income Buckets=%{x}<br># of people automated=%{y}<extra></extra>",
         "legendgroup": "Other Educational Instruction and Library Occupations",
         "marker": {
          "color": "#FFA15A",
          "pattern": {
           "shape": ""
          }
         },
         "name": "Other Educational Instruction and Library Occupations",
         "offsetgroup": "Other Educational Instruction and Library Occupations",
         "orientation": "v",
         "showlegend": true,
         "textposition": "auto",
         "type": "bar",
         "x": [
          "30k-40k",
          "50k-60k",
          "60k-70k"
         ],
         "xaxis": "x",
         "y": [
          0,
          0,
          46353.99999999999
         ],
         "yaxis": "y"
        },
        {
         "alignmentgroup": "True",
         "hovertemplate": "Minor Group Name=Other Healthcare Support Occupations<br>Income Buckets=%{x}<br># of people automated=%{y}<extra></extra>",
         "legendgroup": "Other Healthcare Support Occupations",
         "marker": {
          "color": "#19d3f3",
          "pattern": {
           "shape": ""
          }
         },
         "name": "Other Healthcare Support Occupations",
         "offsetgroup": "Other Healthcare Support Occupations",
         "orientation": "v",
         "showlegend": true,
         "textposition": "auto",
         "type": "bar",
         "x": [
          "30k-40k",
          "40k-50k"
         ],
         "xaxis": "x",
         "y": [
          728893.3333333333,
          155302.5
         ],
         "yaxis": "y"
        },
        {
         "alignmentgroup": "True",
         "hovertemplate": "Minor Group Name=Other Installation, Maintenance, and Repair Occupations<br>Income Buckets=%{x}<br># of people automated=%{y}<extra></extra>",
         "legendgroup": "Other Installation, Maintenance, and Repair Occupations",
         "marker": {
          "color": "#FF6692",
          "pattern": {
           "shape": ""
          }
         },
         "name": "Other Installation, Maintenance, and Repair Occupations",
         "offsetgroup": "Other Installation, Maintenance, and Repair Occupations",
         "orientation": "v",
         "showlegend": true,
         "textposition": "auto",
         "type": "bar",
         "x": [
          "30k-40k",
          "40k-50k",
          "50k-60k",
          "60k-70k",
          "80k-90k"
         ],
         "xaxis": "x",
         "y": [
          0,
          0,
          289204.5748987854,
          9943.5,
          0
         ],
         "yaxis": "y"
        },
        {
         "alignmentgroup": "True",
         "hovertemplate": "Minor Group Name=Other Office and Administrative Support Workers<br>Income Buckets=%{x}<br># of people automated=%{y}<extra></extra>",
         "legendgroup": "Other Office and Administrative Support Workers",
         "marker": {
          "color": "#B6E880",
          "pattern": {
           "shape": ""
          }
         },
         "name": "Other Office and Administrative Support Workers",
         "offsetgroup": "Other Office and Administrative Support Workers",
         "orientation": "v",
         "showlegend": true,
         "textposition": "auto",
         "type": "bar",
         "x": [
          "30k-40k",
          "40k-50k"
         ],
         "xaxis": "x",
         "y": [
          2596833.492063492,
          68561.90476190473
         ],
         "yaxis": "y"
        },
        {
         "alignmentgroup": "True",
         "hovertemplate": "Minor Group Name=Other Production Occupations<br>Income Buckets=%{x}<br># of people automated=%{y}<extra></extra>",
         "legendgroup": "Other Production Occupations",
         "marker": {
          "color": "#FF97FF",
          "pattern": {
           "shape": ""
          }
         },
         "name": "Other Production Occupations",
         "offsetgroup": "Other Production Occupations",
         "orientation": "v",
         "showlegend": true,
         "textposition": "auto",
         "type": "bar",
         "x": [
          "30k-40k",
          "40k-50k",
          "50k-60k",
          "60k-70k"
         ],
         "xaxis": "x",
         "y": [
          120727.5,
          89245.625,
          0,
          0
         ],
         "yaxis": "y"
        },
        {
         "alignmentgroup": "True",
         "hovertemplate": "Minor Group Name=Other Sales and Related Workers<br>Income Buckets=%{x}<br># of people automated=%{y}<extra></extra>",
         "legendgroup": "Other Sales and Related Workers",
         "marker": {
          "color": "#FECB52",
          "pattern": {
           "shape": ""
          }
         },
         "name": "Other Sales and Related Workers",
         "offsetgroup": "Other Sales and Related Workers",
         "orientation": "v",
         "showlegend": true,
         "textposition": "auto",
         "type": "bar",
         "x": [
          "30k-40k",
          "40k-50k",
          "60k-70k"
         ],
         "xaxis": "x",
         "y": [
          49523.33333333333,
          94584.24242424242,
          13765.78947368421
         ],
         "yaxis": "y"
        },
        {
         "alignmentgroup": "True",
         "hovertemplate": "Minor Group Name=Other Teachers and Instructors<br>Income Buckets=%{x}<br># of people automated=%{y}<extra></extra>",
         "legendgroup": "Other Teachers and Instructors",
         "marker": {
          "color": "#636efa",
          "pattern": {
           "shape": ""
          }
         },
         "name": "Other Teachers and Instructors",
         "offsetgroup": "Other Teachers and Instructors",
         "orientation": "v",
         "showlegend": true,
         "textposition": "auto",
         "type": "bar",
         "x": [
          "30k-40k",
          "40k-50k",
          "50k-60k"
         ],
         "xaxis": "x",
         "y": [
          30114.73684210525,
          0,
          0
         ],
         "yaxis": "y"
        },
        {
         "alignmentgroup": "True",
         "hovertemplate": "Minor Group Name=Other Transportation Workers<br>Income Buckets=%{x}<br># of people automated=%{y}<extra></extra>",
         "legendgroup": "Other Transportation Workers",
         "marker": {
          "color": "#EF553B",
          "pattern": {
           "shape": ""
          }
         },
         "name": "Other Transportation Workers",
         "offsetgroup": "Other Transportation Workers",
         "orientation": "v",
         "showlegend": true,
         "textposition": "auto",
         "type": "bar",
         "x": [
          "30k-40k",
          "40k-50k",
          "50k-60k",
          "70k-80k"
         ],
         "xaxis": "x",
         "y": [
          0,
          0,
          0,
          421.03448275862
         ],
         "yaxis": "y"
        },
        {
         "alignmentgroup": "True",
         "hovertemplate": "Minor Group Name=Preschool, Elementary, Middle, Secondary, and Special Education Teachers<br>Income Buckets=%{x}<br># of people automated=%{y}<extra></extra>",
         "legendgroup": "Preschool, Elementary, Middle, Secondary, and Special Education Teachers",
         "marker": {
          "color": "#00cc96",
          "pattern": {
           "shape": ""
          }
         },
         "name": "Preschool, Elementary, Middle, Secondary, and Special Education Teachers",
         "offsetgroup": "Preschool, Elementary, Middle, Secondary, and Special Education Teachers",
         "orientation": "v",
         "showlegend": true,
         "textposition": "auto",
         "type": "bar",
         "x": [
          "30k-40k",
          "60k-70k"
         ],
         "xaxis": "x",
         "y": [
          0,
          1264916.776315789
         ],
         "yaxis": "y"
        },
        {
         "alignmentgroup": "True",
         "hovertemplate": "Minor Group Name=Printing Workers<br>Income Buckets=%{x}<br># of people automated=%{y}<extra></extra>",
         "legendgroup": "Printing Workers",
         "marker": {
          "color": "#ab63fa",
          "pattern": {
           "shape": ""
          }
         },
         "name": "Printing Workers",
         "offsetgroup": "Printing Workers",
         "orientation": "v",
         "showlegend": true,
         "textposition": "auto",
         "type": "bar",
         "x": [
          "30k-40k",
          "40k-50k"
         ],
         "xaxis": "x",
         "y": [
          0,
          0
         ],
         "yaxis": "y"
        },
        {
         "alignmentgroup": "True",
         "hovertemplate": "Minor Group Name=Secretaries and Administrative Assistants<br>Income Buckets=%{x}<br># of people automated=%{y}<extra></extra>",
         "legendgroup": "Secretaries and Administrative Assistants",
         "marker": {
          "color": "#FFA15A",
          "pattern": {
           "shape": ""
          }
         },
         "name": "Secretaries and Administrative Assistants",
         "offsetgroup": "Secretaries and Administrative Assistants",
         "orientation": "v",
         "showlegend": true,
         "textposition": "auto",
         "type": "bar",
         "x": [
          "30k-40k",
          "40k-50k",
          "60k-70k"
         ],
         "xaxis": "x",
         "y": [
          213321.875,
          1241656.25,
          86407.27272727272
         ],
         "yaxis": "y"
        },
        {
         "alignmentgroup": "True",
         "hovertemplate": "Minor Group Name=Supervisors of Food Preparation and Serving Workers<br>Income Buckets=%{x}<br># of people automated=%{y}<extra></extra>",
         "legendgroup": "Supervisors of Food Preparation and Serving Workers",
         "marker": {
          "color": "#19d3f3",
          "pattern": {
           "shape": ""
          }
         },
         "name": "Supervisors of Food Preparation and Serving Workers",
         "offsetgroup": "Supervisors of Food Preparation and Serving Workers",
         "orientation": "v",
         "showlegend": true,
         "textposition": "auto",
         "type": "bar",
         "x": [
          "30k-40k",
          "50k-60k"
         ],
         "xaxis": "x",
         "y": [
          0,
          7628.095238095236
         ],
         "yaxis": "y"
        },
        {
         "alignmentgroup": "True",
         "hovertemplate": "Minor Group Name=Tour and Travel Guides<br>Income Buckets=%{x}<br># of people automated=%{y}<extra></extra>",
         "legendgroup": "Tour and Travel Guides",
         "marker": {
          "color": "#FF6692",
          "pattern": {
           "shape": ""
          }
         },
         "name": "Tour and Travel Guides",
         "offsetgroup": "Tour and Travel Guides",
         "orientation": "v",
         "showlegend": true,
         "textposition": "auto",
         "type": "bar",
         "x": [
          "30k-40k"
         ],
         "xaxis": "x",
         "y": [
          36717.77089783281
         ],
         "yaxis": "y"
        },
        {
         "alignmentgroup": "True",
         "hovertemplate": "Minor Group Name=Vehicle and Mobile Equipment Mechanics, Installers, and Repairers<br>Income Buckets=%{x}<br># of people automated=%{y}<extra></extra>",
         "legendgroup": "Vehicle and Mobile Equipment Mechanics, Installers, and Repairers",
         "marker": {
          "color": "#B6E880",
          "pattern": {
           "shape": ""
          }
         },
         "name": "Vehicle and Mobile Equipment Mechanics, Installers, and Repairers",
         "offsetgroup": "Vehicle and Mobile Equipment Mechanics, Installers, and Repairers",
         "orientation": "v",
         "showlegend": true,
         "textposition": "auto",
         "type": "bar",
         "x": [
          "30k-40k",
          "40k-50k",
          "50k-60k",
          "60k-70k",
          "70k-80k"
         ],
         "xaxis": "x",
         "y": [
          0,
          94786,
          0,
          0,
          7056.315789473681
         ],
         "yaxis": "y"
        },
        {
         "alignmentgroup": "True",
         "hovertemplate": "Minor Group Name=Woodworkers<br>Income Buckets=%{x}<br># of people automated=%{y}<extra></extra>",
         "legendgroup": "Woodworkers",
         "marker": {
          "color": "#FF97FF",
          "pattern": {
           "shape": ""
          }
         },
         "name": "Woodworkers",
         "offsetgroup": "Woodworkers",
         "orientation": "v",
         "showlegend": true,
         "textposition": "auto",
         "type": "bar",
         "x": [
          "30k-40k",
          "40k-50k"
         ],
         "xaxis": "x",
         "y": [
          0,
          0
         ],
         "yaxis": "y"
        },
        {
         "alignmentgroup": "True",
         "hovertemplate": "Minor Group Name=Air Transportation Workers<br>Income Buckets=%{x}<br># of people automated=%{y}<extra></extra>",
         "legendgroup": "Air Transportation Workers",
         "marker": {
          "color": "#FECB52",
          "pattern": {
           "shape": ""
          }
         },
         "name": "Air Transportation Workers",
         "offsetgroup": "Air Transportation Workers",
         "orientation": "v",
         "showlegend": true,
         "textposition": "auto",
         "type": "bar",
         "x": [
          "40k-50k",
          "60k-70k"
         ],
         "xaxis": "x",
         "y": [
          0,
          0
         ],
         "yaxis": "y"
        },
        {
         "alignmentgroup": "True",
         "hovertemplate": "Minor Group Name=Business Operations Specialists<br>Income Buckets=%{x}<br># of people automated=%{y}<extra></extra>",
         "legendgroup": "Business Operations Specialists",
         "marker": {
          "color": "#636efa",
          "pattern": {
           "shape": ""
          }
         },
         "name": "Business Operations Specialists",
         "offsetgroup": "Business Operations Specialists",
         "orientation": "v",
         "showlegend": true,
         "textposition": "auto",
         "type": "bar",
         "x": [
          "40k-50k",
          "50k-60k",
          "60k-70k",
          "70k-80k",
          "80k-90k",
          "90k-100k"
         ],
         "xaxis": "x",
         "y": [
          0,
          53366.66666666666,
          14548890.14866712,
          942085.0629268012,
          0,
          1757946.2727272725
         ],
         "yaxis": "y"
        },
        {
         "alignmentgroup": "True",
         "hovertemplate": "Minor Group Name=Construction Trades Workers<br>Income Buckets=%{x}<br># of people automated=%{y}<extra></extra>",
         "legendgroup": "Construction Trades Workers",
         "marker": {
          "color": "#EF553B",
          "pattern": {
           "shape": ""
          }
         },
         "name": "Construction Trades Workers",
         "offsetgroup": "Construction Trades Workers",
         "orientation": "v",
         "showlegend": true,
         "textposition": "auto",
         "type": "bar",
         "x": [
          "40k-50k",
          "50k-60k",
          "60k-70k"
         ],
         "xaxis": "x",
         "y": [
          97817.89473684206,
          51262.49999999998,
          0
         ],
         "yaxis": "y"
        },
        {
         "alignmentgroup": "True",
         "hovertemplate": "Minor Group Name=Drafters, Engineering Technicians, and Mapping Technicians<br>Income Buckets=%{x}<br># of people automated=%{y}<extra></extra>",
         "legendgroup": "Drafters, Engineering Technicians, and Mapping Technicians",
         "marker": {
          "color": "#00cc96",
          "pattern": {
           "shape": ""
          }
         },
         "name": "Drafters, Engineering Technicians, and Mapping Technicians",
         "offsetgroup": "Drafters, Engineering Technicians, and Mapping Technicians",
         "orientation": "v",
         "showlegend": true,
         "textposition": "auto",
         "type": "bar",
         "x": [
          "40k-50k",
          "50k-60k",
          "60k-70k",
          "70k-80k"
         ],
         "xaxis": "x",
         "y": [
          0,
          12979.285714285708,
          6713.99999999997,
          812.4999999999997
         ],
         "yaxis": "y"
        },
        {
         "alignmentgroup": "True",
         "hovertemplate": "Minor Group Name=Electrical and Electronic Equipment Mechanics, Installers, and Repairers<br>Income Buckets=%{x}<br># of people automated=%{y}<extra></extra>",
         "legendgroup": "Electrical and Electronic Equipment Mechanics, Installers, and Repairers",
         "marker": {
          "color": "#ab63fa",
          "pattern": {
           "shape": ""
          }
         },
         "name": "Electrical and Electronic Equipment Mechanics, Installers, and Repairers",
         "offsetgroup": "Electrical and Electronic Equipment Mechanics, Installers, and Repairers",
         "orientation": "v",
         "showlegend": true,
         "textposition": "auto",
         "type": "bar",
         "x": [
          "40k-50k",
          "50k-60k",
          "60k-70k",
          "70k-80k",
          "90k-100k"
         ],
         "xaxis": "x",
         "y": [
          0,
          19644,
          0,
          0,
          0
         ],
         "yaxis": "y"
        },
        {
         "alignmentgroup": "True",
         "hovertemplate": "Minor Group Name=Extraction Workers<br>Income Buckets=%{x}<br># of people automated=%{y}<extra></extra>",
         "legendgroup": "Extraction Workers",
         "marker": {
          "color": "#FFA15A",
          "pattern": {
           "shape": ""
          }
         },
         "name": "Extraction Workers",
         "offsetgroup": "Extraction Workers",
         "orientation": "v",
         "showlegend": true,
         "textposition": "auto",
         "type": "bar",
         "x": [
          "40k-50k",
          "50k-60k",
          "60k-70k"
         ],
         "xaxis": "x",
         "y": [
          0,
          6445.333333333327,
          0
         ],
         "yaxis": "y"
        },
        {
         "alignmentgroup": "True",
         "hovertemplate": "Minor Group Name=Financial Specialists<br>Income Buckets=%{x}<br># of people automated=%{y}<extra></extra>",
         "legendgroup": "Financial Specialists",
         "marker": {
          "color": "#19d3f3",
          "pattern": {
           "shape": ""
          }
         },
         "name": "Financial Specialists",
         "offsetgroup": "Financial Specialists",
         "orientation": "v",
         "showlegend": true,
         "textposition": "auto",
         "type": "bar",
         "x": [
          "40k-50k",
          "50k-60k",
          "60k-70k",
          "70k-80k",
          "80k-90k",
          "90k-100k"
         ],
         "xaxis": "x",
         "y": [
          55730,
          6073.2,
          448829.6666666666,
          1503146.6666666663,
          17199.999999999996,
          445025.4395604395
         ],
         "yaxis": "y"
        },
        {
         "alignmentgroup": "True",
         "hovertemplate": "Minor Group Name=Firefighting and Prevention Workers<br>Income Buckets=%{x}<br># of people automated=%{y}<extra></extra>",
         "legendgroup": "Firefighting and Prevention Workers",
         "marker": {
          "color": "#FF6692",
          "pattern": {
           "shape": ""
          }
         },
         "name": "Firefighting and Prevention Workers",
         "offsetgroup": "Firefighting and Prevention Workers",
         "orientation": "v",
         "showlegend": true,
         "textposition": "auto",
         "type": "bar",
         "x": [
          "40k-50k",
          "50k-60k",
          "60k-70k"
         ],
         "xaxis": "x",
         "y": [
          143.125,
          0,
          483.6666666666662
         ],
         "yaxis": "y"
        },
        {
         "alignmentgroup": "True",
         "hovertemplate": "Minor Group Name=Law Enforcement Workers<br>Income Buckets=%{x}<br># of people automated=%{y}<extra></extra>",
         "legendgroup": "Law Enforcement Workers",
         "marker": {
          "color": "#B6E880",
          "pattern": {
           "shape": ""
          }
         },
         "name": "Law Enforcement Workers",
         "offsetgroup": "Law Enforcement Workers",
         "orientation": "v",
         "showlegend": true,
         "textposition": "auto",
         "type": "bar",
         "x": [
          "40k-50k",
          "50k-60k",
          "60k-70k",
          "80k-90k"
         ],
         "xaxis": "x",
         "y": [
          0,
          816.25,
          0,
          7782.608695652171
         ],
         "yaxis": "y"
        },
        {
         "alignmentgroup": "True",
         "hovertemplate": "Minor Group Name=Life, Physical, and Social Science Technicians<br>Income Buckets=%{x}<br># of people automated=%{y}<extra></extra>",
         "legendgroup": "Life, Physical, and Social Science Technicians",
         "marker": {
          "color": "#FF97FF",
          "pattern": {
           "shape": ""
          }
         },
         "name": "Life, Physical, and Social Science Technicians",
         "offsetgroup": "Life, Physical, and Social Science Technicians",
         "orientation": "v",
         "showlegend": true,
         "textposition": "auto",
         "type": "bar",
         "x": [
          "40k-50k",
          "50k-60k",
          "60k-70k"
         ],
         "xaxis": "x",
         "y": [
          81080.82036019533,
          51234.67391304348,
          0
         ],
         "yaxis": "y"
        },
        {
         "alignmentgroup": "True",
         "hovertemplate": "Minor Group Name=Media and Communication Equipment Workers<br>Income Buckets=%{x}<br># of people automated=%{y}<extra></extra>",
         "legendgroup": "Media and Communication Equipment Workers",
         "marker": {
          "color": "#FECB52",
          "pattern": {
           "shape": ""
          }
         },
         "name": "Media and Communication Equipment Workers",
         "offsetgroup": "Media and Communication Equipment Workers",
         "orientation": "v",
         "showlegend": true,
         "textposition": "auto",
         "type": "bar",
         "x": [
          "40k-50k",
          "50k-60k",
          "60k-70k"
         ],
         "xaxis": "x",
         "y": [
          4901.379310344824,
          12043.793103448272,
          67080.39194688368
         ],
         "yaxis": "y"
        },
        {
         "alignmentgroup": "True",
         "hovertemplate": "Minor Group Name=Media and Communication Workers<br>Income Buckets=%{x}<br># of people automated=%{y}<extra></extra>",
         "legendgroup": "Media and Communication Workers",
         "marker": {
          "color": "#636efa",
          "pattern": {
           "shape": ""
          }
         },
         "name": "Media and Communication Workers",
         "offsetgroup": "Media and Communication Workers",
         "orientation": "v",
         "showlegend": true,
         "textposition": "auto",
         "type": "bar",
         "x": [
          "40k-50k",
          "50k-60k",
          "60k-70k",
          "70k-80k"
         ],
         "xaxis": "x",
         "y": [
          6705,
          47776.23529411764,
          170493.8888888889,
          168464.5714285714
         ],
         "yaxis": "y"
        },
        {
         "alignmentgroup": "True",
         "hovertemplate": "Minor Group Name=Other Management Occupations<br>Income Buckets=%{x}<br># of people automated=%{y}<extra></extra>",
         "legendgroup": "Other Management Occupations",
         "marker": {
          "color": "#EF553B",
          "pattern": {
           "shape": ""
          }
         },
         "name": "Other Management Occupations",
         "offsetgroup": "Other Management Occupations",
         "orientation": "v",
         "showlegend": true,
         "textposition": "auto",
         "type": "bar",
         "x": [
          "40k-50k",
          "50k-60k",
          "60k-70k",
          "70k-80k",
          "80k-90k",
          "90k-100k"
         ],
         "xaxis": "x",
         "y": [
          0,
          721.6326530612237,
          244481.90476190473,
          38820,
          0,
          74888.96551724138
         ],
         "yaxis": "y"
        },
        {
         "alignmentgroup": "True",
         "hovertemplate": "Minor Group Name=Religious Workers<br>Income Buckets=%{x}<br># of people automated=%{y}<extra></extra>",
         "legendgroup": "Religious Workers",
         "marker": {
          "color": "#00cc96",
          "pattern": {
           "shape": ""
          }
         },
         "name": "Religious Workers",
         "offsetgroup": "Religious Workers",
         "orientation": "v",
         "showlegend": true,
         "textposition": "auto",
         "type": "bar",
         "x": [
          "40k-50k",
          "50k-60k"
         ],
         "xaxis": "x",
         "y": [
          0,
          0
         ],
         "yaxis": "y"
        },
        {
         "alignmentgroup": "True",
         "hovertemplate": "Minor Group Name=Sales Representatives, Services<br>Income Buckets=%{x}<br># of people automated=%{y}<extra></extra>",
         "legendgroup": "Sales Representatives, Services",
         "marker": {
          "color": "#ab63fa",
          "pattern": {
           "shape": ""
          }
         },
         "name": "Sales Representatives, Services",
         "offsetgroup": "Sales Representatives, Services",
         "orientation": "v",
         "showlegend": true,
         "textposition": "auto",
         "type": "bar",
         "x": [
          "40k-50k",
          "50k-60k",
          "60k-70k"
         ],
         "xaxis": "x",
         "y": [
          46532.5,
          427151.05263157893,
          1113911.3333333333
         ],
         "yaxis": "y"
        },
        {
         "alignmentgroup": "True",
         "hovertemplate": "Minor Group Name=Supervisors of Building and Grounds Cleaning and Maintenance Workers<br>Income Buckets=%{x}<br># of people automated=%{y}<extra></extra>",
         "legendgroup": "Supervisors of Building and Grounds Cleaning and Maintenance Workers",
         "marker": {
          "color": "#FFA15A",
          "pattern": {
           "shape": ""
          }
         },
         "name": "Supervisors of Building and Grounds Cleaning and Maintenance Workers",
         "offsetgroup": "Supervisors of Building and Grounds Cleaning and Maintenance Workers",
         "orientation": "v",
         "showlegend": true,
         "textposition": "auto",
         "type": "bar",
         "x": [
          "40k-50k",
          "50k-60k"
         ],
         "xaxis": "x",
         "y": [
          0,
          4389.642857142855
         ],
         "yaxis": "y"
        },
        {
         "alignmentgroup": "True",
         "hovertemplate": "Minor Group Name=Supervisors of Personal Care and Service Workers<br>Income Buckets=%{x}<br># of people automated=%{y}<extra></extra>",
         "legendgroup": "Supervisors of Personal Care and Service Workers",
         "marker": {
          "color": "#19d3f3",
          "pattern": {
           "shape": ""
          }
         },
         "name": "Supervisors of Personal Care and Service Workers",
         "offsetgroup": "Supervisors of Personal Care and Service Workers",
         "orientation": "v",
         "showlegend": true,
         "textposition": "auto",
         "type": "bar",
         "x": [
          "40k-50k",
          "50k-60k"
         ],
         "xaxis": "x",
         "y": [
          0,
          0
         ],
         "yaxis": "y"
        },
        {
         "alignmentgroup": "True",
         "hovertemplate": "Minor Group Name=Supervisors of Protective Service Workers<br>Income Buckets=%{x}<br># of people automated=%{y}<extra></extra>",
         "legendgroup": "Supervisors of Protective Service Workers",
         "marker": {
          "color": "#FF6692",
          "pattern": {
           "shape": ""
          }
         },
         "name": "Supervisors of Protective Service Workers",
         "offsetgroup": "Supervisors of Protective Service Workers",
         "orientation": "v",
         "showlegend": true,
         "textposition": "auto",
         "type": "bar",
         "x": [
          "40k-50k",
          "60k-70k",
          "80k-90k",
          "90k-100k"
         ],
         "xaxis": "x",
         "y": [
          0,
          0,
          0,
          0
         ],
         "yaxis": "y"
        },
        {
         "alignmentgroup": "True",
         "hovertemplate": "Minor Group Name=Supervisors of Sales Workers<br>Income Buckets=%{x}<br># of people automated=%{y}<extra></extra>",
         "legendgroup": "Supervisors of Sales Workers",
         "marker": {
          "color": "#B6E880",
          "pattern": {
           "shape": ""
          }
         },
         "name": "Supervisors of Sales Workers",
         "offsetgroup": "Supervisors of Sales Workers",
         "orientation": "v",
         "showlegend": true,
         "textposition": "auto",
         "type": "bar",
         "x": [
          "40k-50k",
          "80k-90k"
         ],
         "xaxis": "x",
         "y": [
          52245.71428571427,
          0
         ],
         "yaxis": "y"
        },
        {
         "alignmentgroup": "True",
         "hovertemplate": "Minor Group Name=Top Executives<br>Income Buckets=%{x}<br># of people automated=%{y}<extra></extra>",
         "legendgroup": "Top Executives",
         "marker": {
          "color": "#FF97FF",
          "pattern": {
           "shape": ""
          }
         },
         "name": "Top Executives",
         "offsetgroup": "Top Executives",
         "orientation": "v",
         "showlegend": true,
         "textposition": "auto",
         "type": "bar",
         "x": [
          "40k-50k",
          "90k-100k"
         ],
         "xaxis": "x",
         "y": [
          0,
          198628.23529411762
         ],
         "yaxis": "y"
        },
        {
         "alignmentgroup": "True",
         "hovertemplate": "Minor Group Name=Water Transportation Workers<br>Income Buckets=%{x}<br># of people automated=%{y}<extra></extra>",
         "legendgroup": "Water Transportation Workers",
         "marker": {
          "color": "#FECB52",
          "pattern": {
           "shape": ""
          }
         },
         "name": "Water Transportation Workers",
         "offsetgroup": "Water Transportation Workers",
         "orientation": "v",
         "showlegend": true,
         "textposition": "auto",
         "type": "bar",
         "x": [
          "40k-50k",
          "80k-90k",
          "90k-100k"
         ],
         "xaxis": "x",
         "y": [
          0,
          0,
          0
         ],
         "yaxis": "y"
        },
        {
         "alignmentgroup": "True",
         "hovertemplate": "Minor Group Name=Computer Occupations<br>Income Buckets=%{x}<br># of people automated=%{y}<extra></extra>",
         "legendgroup": "Computer Occupations",
         "marker": {
          "color": "#636efa",
          "pattern": {
           "shape": ""
          }
         },
         "name": "Computer Occupations",
         "offsetgroup": "Computer Occupations",
         "orientation": "v",
         "showlegend": true,
         "textposition": "auto",
         "type": "bar",
         "x": [
          "50k-60k",
          "60k-70k",
          "70k-80k",
          "80k-90k",
          "90k-100k"
         ],
         "xaxis": "x",
         "y": [
          130655.625,
          25987.6923076923,
          39726.206896551725,
          18253.125,
          1498370.3634097707
         ],
         "yaxis": "y"
        },
        {
         "alignmentgroup": "True",
         "hovertemplate": "Minor Group Name=Healthcare Diagnosing or Treating Practitioners<br>Income Buckets=%{x}<br># of people automated=%{y}<extra></extra>",
         "legendgroup": "Healthcare Diagnosing or Treating Practitioners",
         "marker": {
          "color": "#EF553B",
          "pattern": {
           "shape": ""
          }
         },
         "name": "Healthcare Diagnosing or Treating Practitioners",
         "offsetgroup": "Healthcare Diagnosing or Treating Practitioners",
         "orientation": "v",
         "showlegend": true,
         "textposition": "auto",
         "type": "bar",
         "x": [
          "50k-60k",
          "60k-70k",
          "70k-80k",
          "80k-90k",
          "90k-100k"
         ],
         "xaxis": "x",
         "y": [
          0,
          27899.999999999996,
          23924.99999999999,
          1002278.9673913042,
          60786.66666666664
         ],
         "yaxis": "y"
        },
        {
         "alignmentgroup": "True",
         "hovertemplate": "Minor Group Name=Lawyers, Judges, and Related Workers<br>Income Buckets=%{x}<br># of people automated=%{y}<extra></extra>",
         "legendgroup": "Lawyers, Judges, and Related Workers",
         "marker": {
          "color": "#00cc96",
          "pattern": {
           "shape": ""
          }
         },
         "name": "Lawyers, Judges, and Related Workers",
         "offsetgroup": "Lawyers, Judges, and Related Workers",
         "orientation": "v",
         "showlegend": true,
         "textposition": "auto",
         "type": "bar",
         "x": [
          "50k-60k",
          "60k-70k",
          "90k-100k"
         ],
         "xaxis": "x",
         "y": [
          0,
          1167,
          892.1428571428568
         ],
         "yaxis": "y"
        },
        {
         "alignmentgroup": "True",
         "hovertemplate": "Minor Group Name=Legal Support Workers<br>Income Buckets=%{x}<br># of people automated=%{y}<extra></extra>",
         "legendgroup": "Legal Support Workers",
         "marker": {
          "color": "#ab63fa",
          "pattern": {
           "shape": ""
          }
         },
         "name": "Legal Support Workers",
         "offsetgroup": "Legal Support Workers",
         "orientation": "v",
         "showlegend": true,
         "textposition": "auto",
         "type": "bar",
         "x": [
          "50k-60k"
         ],
         "xaxis": "x",
         "y": [
          236614.3137254902
         ],
         "yaxis": "y"
        },
        {
         "alignmentgroup": "True",
         "hovertemplate": "Minor Group Name=Occupational Health and Safety Specialists and Technicians<br>Income Buckets=%{x}<br># of people automated=%{y}<extra></extra>",
         "legendgroup": "Occupational Health and Safety Specialists and Technicians",
         "marker": {
          "color": "#FFA15A",
          "pattern": {
           "shape": ""
          }
         },
         "name": "Occupational Health and Safety Specialists and Technicians",
         "offsetgroup": "Occupational Health and Safety Specialists and Technicians",
         "orientation": "v",
         "showlegend": true,
         "textposition": "auto",
         "type": "bar",
         "x": [
          "50k-60k",
          "70k-80k"
         ],
         "xaxis": "x",
         "y": [
          0,
          0
         ],
         "yaxis": "y"
        },
        {
         "alignmentgroup": "True",
         "hovertemplate": "Minor Group Name=Other Healthcare Practitioners and Technical Occupations<br>Income Buckets=%{x}<br># of people automated=%{y}<extra></extra>",
         "legendgroup": "Other Healthcare Practitioners and Technical Occupations",
         "marker": {
          "color": "#19d3f3",
          "pattern": {
           "shape": ""
          }
         },
         "name": "Other Healthcare Practitioners and Technical Occupations",
         "offsetgroup": "Other Healthcare Practitioners and Technical Occupations",
         "orientation": "v",
         "showlegend": true,
         "textposition": "auto",
         "type": "bar",
         "x": [
          "50k-60k",
          "60k-70k",
          "80k-90k"
         ],
         "xaxis": "x",
         "y": [
          24614.021739130432,
          0,
          0
         ],
         "yaxis": "y"
        },
        {
         "alignmentgroup": "True",
         "hovertemplate": "Minor Group Name=Plant and System Operators<br>Income Buckets=%{x}<br># of people automated=%{y}<extra></extra>",
         "legendgroup": "Plant and System Operators",
         "marker": {
          "color": "#FF6692",
          "pattern": {
           "shape": ""
          }
         },
         "name": "Plant and System Operators",
         "offsetgroup": "Plant and System Operators",
         "orientation": "v",
         "showlegend": true,
         "textposition": "auto",
         "type": "bar",
         "x": [
          "50k-60k",
          "60k-70k",
          "70k-80k",
          "80k-90k",
          "90k-100k"
         ],
         "xaxis": "x",
         "y": [
          0,
          0,
          0,
          0,
          457.8260869565216
         ],
         "yaxis": "y"
        },
        {
         "alignmentgroup": "True",
         "hovertemplate": "Minor Group Name=Postsecondary Teachers<br>Income Buckets=%{x}<br># of people automated=%{y}<extra></extra>",
         "legendgroup": "Postsecondary Teachers",
         "marker": {
          "color": "#B6E880",
          "pattern": {
           "shape": ""
          }
         },
         "name": "Postsecondary Teachers",
         "offsetgroup": "Postsecondary Teachers",
         "orientation": "v",
         "showlegend": true,
         "textposition": "auto",
         "type": "bar",
         "x": [
          "50k-60k",
          "60k-70k",
          "70k-80k",
          "80k-90k",
          "90k-100k"
         ],
         "xaxis": "x",
         "y": [
          5155,
          21057.5,
          96407.79762845849,
          48598,
          0
         ],
         "yaxis": "y"
        },
        {
         "alignmentgroup": "True",
         "hovertemplate": "Minor Group Name=Rail Transportation Workers<br>Income Buckets=%{x}<br># of people automated=%{y}<extra></extra>",
         "legendgroup": "Rail Transportation Workers",
         "marker": {
          "color": "#FF97FF",
          "pattern": {
           "shape": ""
          }
         },
         "name": "Rail Transportation Workers",
         "offsetgroup": "Rail Transportation Workers",
         "orientation": "v",
         "showlegend": true,
         "textposition": "auto",
         "type": "bar",
         "x": [
          "50k-60k",
          "60k-70k",
          "70k-80k",
          "80k-90k"
         ],
         "xaxis": "x",
         "y": [
          0,
          0,
          0,
          0
         ],
         "yaxis": "y"
        },
        {
         "alignmentgroup": "True",
         "hovertemplate": "Minor Group Name=Supervisors of Farming, Fishing, and Forestry Workers<br>Income Buckets=%{x}<br># of people automated=%{y}<extra></extra>",
         "legendgroup": "Supervisors of Farming, Fishing, and Forestry Workers",
         "marker": {
          "color": "#FECB52",
          "pattern": {
           "shape": ""
          }
         },
         "name": "Supervisors of Farming, Fishing, and Forestry Workers",
         "offsetgroup": "Supervisors of Farming, Fishing, and Forestry Workers",
         "orientation": "v",
         "showlegend": true,
         "textposition": "auto",
         "type": "bar",
         "x": [
          "50k-60k"
         ],
         "xaxis": "x",
         "y": [
          0
         ],
         "yaxis": "y"
        },
        {
         "alignmentgroup": "True",
         "hovertemplate": "Minor Group Name=Supervisors of Transportation and Material Moving Workers<br>Income Buckets=%{x}<br># of people automated=%{y}<extra></extra>",
         "legendgroup": "Supervisors of Transportation and Material Moving Workers",
         "marker": {
          "color": "#636efa",
          "pattern": {
           "shape": ""
          }
         },
         "name": "Supervisors of Transportation and Material Moving Workers",
         "offsetgroup": "Supervisors of Transportation and Material Moving Workers",
         "orientation": "v",
         "showlegend": true,
         "textposition": "auto",
         "type": "bar",
         "x": [
          "50k-60k"
         ],
         "xaxis": "x",
         "y": [
          0
         ],
         "yaxis": "y"
        },
        {
         "alignmentgroup": "True",
         "hovertemplate": "Minor Group Name=Architects, Surveyors, and Cartographers<br>Income Buckets=%{x}<br># of people automated=%{y}<extra></extra>",
         "legendgroup": "Architects, Surveyors, and Cartographers",
         "marker": {
          "color": "#EF553B",
          "pattern": {
           "shape": ""
          }
         },
         "name": "Architects, Surveyors, and Cartographers",
         "offsetgroup": "Architects, Surveyors, and Cartographers",
         "orientation": "v",
         "showlegend": true,
         "textposition": "auto",
         "type": "bar",
         "x": [
          "60k-70k",
          "70k-80k",
          "80k-90k"
         ],
         "xaxis": "x",
         "y": [
          0,
          0,
          8957.499999999996
         ],
         "yaxis": "y"
        },
        {
         "alignmentgroup": "True",
         "hovertemplate": "Minor Group Name=Life Scientists<br>Income Buckets=%{x}<br># of people automated=%{y}<extra></extra>",
         "legendgroup": "Life Scientists",
         "marker": {
          "color": "#00cc96",
          "pattern": {
           "shape": ""
          }
         },
         "name": "Life Scientists",
         "offsetgroup": "Life Scientists",
         "orientation": "v",
         "showlegend": true,
         "textposition": "auto",
         "type": "bar",
         "x": [
          "60k-70k",
          "70k-80k",
          "80k-90k",
          "90k-100k"
         ],
         "xaxis": "x",
         "y": [
          8633.333333333327,
          1609.9999999999984,
          13692.301587301585,
          7896.428571428568
         ],
         "yaxis": "y"
        },
        {
         "alignmentgroup": "True",
         "hovertemplate": "Minor Group Name=Sales Representatives, Wholesale and Manufacturing<br>Income Buckets=%{x}<br># of people automated=%{y}<extra></extra>",
         "legendgroup": "Sales Representatives, Wholesale and Manufacturing",
         "marker": {
          "color": "#ab63fa",
          "pattern": {
           "shape": ""
          }
         },
         "name": "Sales Representatives, Wholesale and Manufacturing",
         "offsetgroup": "Sales Representatives, Wholesale and Manufacturing",
         "orientation": "v",
         "showlegend": true,
         "textposition": "auto",
         "type": "bar",
         "x": [
          "60k-70k",
          "90k-100k"
         ],
         "xaxis": "x",
         "y": [
          804252.6315789473,
          58166
         ],
         "yaxis": "y"
        },
        {
         "alignmentgroup": "True",
         "hovertemplate": "Minor Group Name=Social Scientists and Related Workers<br>Income Buckets=%{x}<br># of people automated=%{y}<extra></extra>",
         "legendgroup": "Social Scientists and Related Workers",
         "marker": {
          "color": "#FFA15A",
          "pattern": {
           "shape": ""
          }
         },
         "name": "Social Scientists and Related Workers",
         "offsetgroup": "Social Scientists and Related Workers",
         "orientation": "v",
         "showlegend": true,
         "textposition": "auto",
         "type": "bar",
         "x": [
          "60k-70k",
          "70k-80k",
          "80k-90k",
          "90k-100k"
         ],
         "xaxis": "x",
         "y": [
          1146.875,
          0,
          4990.5263157894715,
          9456.820512820506
         ],
         "yaxis": "y"
        },
        {
         "alignmentgroup": "True",
         "hovertemplate": "Minor Group Name=Supervisors of Office and Administrative Support Workers<br>Income Buckets=%{x}<br># of people automated=%{y}<extra></extra>",
         "legendgroup": "Supervisors of Office and Administrative Support Workers",
         "marker": {
          "color": "#19d3f3",
          "pattern": {
           "shape": ""
          }
         },
         "name": "Supervisors of Office and Administrative Support Workers",
         "offsetgroup": "Supervisors of Office and Administrative Support Workers",
         "orientation": "v",
         "showlegend": true,
         "textposition": "auto",
         "type": "bar",
         "x": [
          "60k-70k"
         ],
         "xaxis": "x",
         "y": [
          0
         ],
         "yaxis": "y"
        },
        {
         "alignmentgroup": "True",
         "hovertemplate": "Minor Group Name=Supervisors of Production Workers<br>Income Buckets=%{x}<br># of people automated=%{y}<extra></extra>",
         "legendgroup": "Supervisors of Production Workers",
         "marker": {
          "color": "#FF6692",
          "pattern": {
           "shape": ""
          }
         },
         "name": "Supervisors of Production Workers",
         "offsetgroup": "Supervisors of Production Workers",
         "orientation": "v",
         "showlegend": true,
         "textposition": "auto",
         "type": "bar",
         "x": [
          "60k-70k"
         ],
         "xaxis": "x",
         "y": [
          0
         ],
         "yaxis": "y"
        },
        {
         "alignmentgroup": "True",
         "hovertemplate": "Minor Group Name=Mathematical Science Occupations<br>Income Buckets=%{x}<br># of people automated=%{y}<extra></extra>",
         "legendgroup": "Mathematical Science Occupations",
         "marker": {
          "color": "#B6E880",
          "pattern": {
           "shape": ""
          }
         },
         "name": "Mathematical Science Occupations",
         "offsetgroup": "Mathematical Science Occupations",
         "orientation": "v",
         "showlegend": true,
         "textposition": "auto",
         "type": "bar",
         "x": [
          "70k-80k",
          "80k-90k",
          "90k-100k"
         ],
         "xaxis": "x",
         "y": [
          0,
          0,
          2676.521739130434
         ],
         "yaxis": "y"
        },
        {
         "alignmentgroup": "True",
         "hovertemplate": "Minor Group Name=Physical Scientists<br>Income Buckets=%{x}<br># of people automated=%{y}<extra></extra>",
         "legendgroup": "Physical Scientists",
         "marker": {
          "color": "#FF97FF",
          "pattern": {
           "shape": ""
          }
         },
         "name": "Physical Scientists",
         "offsetgroup": "Physical Scientists",
         "orientation": "v",
         "showlegend": true,
         "textposition": "auto",
         "type": "bar",
         "x": [
          "70k-80k",
          "80k-90k"
         ],
         "xaxis": "x",
         "y": [
          6181.6,
          52492.820512820515
         ],
         "yaxis": "y"
        },
        {
         "alignmentgroup": "True",
         "hovertemplate": "Minor Group Name=Supervisors of Construction and Extraction Workers<br>Income Buckets=%{x}<br># of people automated=%{y}<extra></extra>",
         "legendgroup": "Supervisors of Construction and Extraction Workers",
         "marker": {
          "color": "#FECB52",
          "pattern": {
           "shape": ""
          }
         },
         "name": "Supervisors of Construction and Extraction Workers",
         "offsetgroup": "Supervisors of Construction and Extraction Workers",
         "orientation": "v",
         "showlegend": true,
         "textposition": "auto",
         "type": "bar",
         "x": [
          "70k-80k"
         ],
         "xaxis": "x",
         "y": [
          0
         ],
         "yaxis": "y"
        },
        {
         "alignmentgroup": "True",
         "hovertemplate": "Minor Group Name=Supervisors of Installation, Maintenance, and Repair Workers<br>Income Buckets=%{x}<br># of people automated=%{y}<extra></extra>",
         "legendgroup": "Supervisors of Installation, Maintenance, and Repair Workers",
         "marker": {
          "color": "#636efa",
          "pattern": {
           "shape": ""
          }
         },
         "name": "Supervisors of Installation, Maintenance, and Repair Workers",
         "offsetgroup": "Supervisors of Installation, Maintenance, and Repair Workers",
         "orientation": "v",
         "showlegend": true,
         "textposition": "auto",
         "type": "bar",
         "x": [
          "70k-80k"
         ],
         "xaxis": "x",
         "y": [
          0
         ],
         "yaxis": "y"
        },
        {
         "alignmentgroup": "True",
         "hovertemplate": "Minor Group Name=Engineers<br>Income Buckets=%{x}<br># of people automated=%{y}<extra></extra>",
         "legendgroup": "Engineers",
         "marker": {
          "color": "#EF553B",
          "pattern": {
           "shape": ""
          }
         },
         "name": "Engineers",
         "offsetgroup": "Engineers",
         "orientation": "v",
         "showlegend": true,
         "textposition": "auto",
         "type": "bar",
         "x": [
          "80k-90k",
          "90k-100k"
         ],
         "xaxis": "x",
         "y": [
          4353.098591549289,
          243744.21795845992
         ],
         "yaxis": "y"
        },
        {
         "alignmentgroup": "True",
         "hovertemplate": "Minor Group Name=Operations Specialties Managers<br>Income Buckets=%{x}<br># of people automated=%{y}<extra></extra>",
         "legendgroup": "Operations Specialties Managers",
         "marker": {
          "color": "#00cc96",
          "pattern": {
           "shape": ""
          }
         },
         "name": "Operations Specialties Managers",
         "offsetgroup": "Operations Specialties Managers",
         "orientation": "v",
         "showlegend": true,
         "textposition": "auto",
         "type": "bar",
         "x": [
          "90k-100k"
         ],
         "xaxis": "x",
         "y": [
          99155.52995391702
         ],
         "yaxis": "y"
        }
       ],
       "layout": {
        "barmode": "stack",
        "height": 800,
        "legend": {
         "font": {
          "size": 10
         },
         "itemsizing": "constant",
         "title": {
          "text": "Minor Group Name"
         },
         "tracegroupgap": 0
        },
        "template": {
         "data": {
          "bar": [
           {
            "error_x": {
             "color": "#2a3f5f"
            },
            "error_y": {
             "color": "#2a3f5f"
            },
            "marker": {
             "line": {
              "color": "#E5ECF6",
              "width": 0.5
             },
             "pattern": {
              "fillmode": "overlay",
              "size": 10,
              "solidity": 0.2
             }
            },
            "type": "bar"
           }
          ],
          "barpolar": [
           {
            "marker": {
             "line": {
              "color": "#E5ECF6",
              "width": 0.5
             },
             "pattern": {
              "fillmode": "overlay",
              "size": 10,
              "solidity": 0.2
             }
            },
            "type": "barpolar"
           }
          ],
          "carpet": [
           {
            "aaxis": {
             "endlinecolor": "#2a3f5f",
             "gridcolor": "white",
             "linecolor": "white",
             "minorgridcolor": "white",
             "startlinecolor": "#2a3f5f"
            },
            "baxis": {
             "endlinecolor": "#2a3f5f",
             "gridcolor": "white",
             "linecolor": "white",
             "minorgridcolor": "white",
             "startlinecolor": "#2a3f5f"
            },
            "type": "carpet"
           }
          ],
          "choropleth": [
           {
            "colorbar": {
             "outlinewidth": 0,
             "ticks": ""
            },
            "type": "choropleth"
           }
          ],
          "contour": [
           {
            "colorbar": {
             "outlinewidth": 0,
             "ticks": ""
            },
            "colorscale": [
             [
              0,
              "#0d0887"
             ],
             [
              0.1111111111111111,
              "#46039f"
             ],
             [
              0.2222222222222222,
              "#7201a8"
             ],
             [
              0.3333333333333333,
              "#9c179e"
             ],
             [
              0.4444444444444444,
              "#bd3786"
             ],
             [
              0.5555555555555556,
              "#d8576b"
             ],
             [
              0.6666666666666666,
              "#ed7953"
             ],
             [
              0.7777777777777778,
              "#fb9f3a"
             ],
             [
              0.8888888888888888,
              "#fdca26"
             ],
             [
              1,
              "#f0f921"
             ]
            ],
            "type": "contour"
           }
          ],
          "contourcarpet": [
           {
            "colorbar": {
             "outlinewidth": 0,
             "ticks": ""
            },
            "type": "contourcarpet"
           }
          ],
          "heatmap": [
           {
            "colorbar": {
             "outlinewidth": 0,
             "ticks": ""
            },
            "colorscale": [
             [
              0,
              "#0d0887"
             ],
             [
              0.1111111111111111,
              "#46039f"
             ],
             [
              0.2222222222222222,
              "#7201a8"
             ],
             [
              0.3333333333333333,
              "#9c179e"
             ],
             [
              0.4444444444444444,
              "#bd3786"
             ],
             [
              0.5555555555555556,
              "#d8576b"
             ],
             [
              0.6666666666666666,
              "#ed7953"
             ],
             [
              0.7777777777777778,
              "#fb9f3a"
             ],
             [
              0.8888888888888888,
              "#fdca26"
             ],
             [
              1,
              "#f0f921"
             ]
            ],
            "type": "heatmap"
           }
          ],
          "heatmapgl": [
           {
            "colorbar": {
             "outlinewidth": 0,
             "ticks": ""
            },
            "colorscale": [
             [
              0,
              "#0d0887"
             ],
             [
              0.1111111111111111,
              "#46039f"
             ],
             [
              0.2222222222222222,
              "#7201a8"
             ],
             [
              0.3333333333333333,
              "#9c179e"
             ],
             [
              0.4444444444444444,
              "#bd3786"
             ],
             [
              0.5555555555555556,
              "#d8576b"
             ],
             [
              0.6666666666666666,
              "#ed7953"
             ],
             [
              0.7777777777777778,
              "#fb9f3a"
             ],
             [
              0.8888888888888888,
              "#fdca26"
             ],
             [
              1,
              "#f0f921"
             ]
            ],
            "type": "heatmapgl"
           }
          ],
          "histogram": [
           {
            "marker": {
             "pattern": {
              "fillmode": "overlay",
              "size": 10,
              "solidity": 0.2
             }
            },
            "type": "histogram"
           }
          ],
          "histogram2d": [
           {
            "colorbar": {
             "outlinewidth": 0,
             "ticks": ""
            },
            "colorscale": [
             [
              0,
              "#0d0887"
             ],
             [
              0.1111111111111111,
              "#46039f"
             ],
             [
              0.2222222222222222,
              "#7201a8"
             ],
             [
              0.3333333333333333,
              "#9c179e"
             ],
             [
              0.4444444444444444,
              "#bd3786"
             ],
             [
              0.5555555555555556,
              "#d8576b"
             ],
             [
              0.6666666666666666,
              "#ed7953"
             ],
             [
              0.7777777777777778,
              "#fb9f3a"
             ],
             [
              0.8888888888888888,
              "#fdca26"
             ],
             [
              1,
              "#f0f921"
             ]
            ],
            "type": "histogram2d"
           }
          ],
          "histogram2dcontour": [
           {
            "colorbar": {
             "outlinewidth": 0,
             "ticks": ""
            },
            "colorscale": [
             [
              0,
              "#0d0887"
             ],
             [
              0.1111111111111111,
              "#46039f"
             ],
             [
              0.2222222222222222,
              "#7201a8"
             ],
             [
              0.3333333333333333,
              "#9c179e"
             ],
             [
              0.4444444444444444,
              "#bd3786"
             ],
             [
              0.5555555555555556,
              "#d8576b"
             ],
             [
              0.6666666666666666,
              "#ed7953"
             ],
             [
              0.7777777777777778,
              "#fb9f3a"
             ],
             [
              0.8888888888888888,
              "#fdca26"
             ],
             [
              1,
              "#f0f921"
             ]
            ],
            "type": "histogram2dcontour"
           }
          ],
          "mesh3d": [
           {
            "colorbar": {
             "outlinewidth": 0,
             "ticks": ""
            },
            "type": "mesh3d"
           }
          ],
          "parcoords": [
           {
            "line": {
             "colorbar": {
              "outlinewidth": 0,
              "ticks": ""
             }
            },
            "type": "parcoords"
           }
          ],
          "pie": [
           {
            "automargin": true,
            "type": "pie"
           }
          ],
          "scatter": [
           {
            "fillpattern": {
             "fillmode": "overlay",
             "size": 10,
             "solidity": 0.2
            },
            "type": "scatter"
           }
          ],
          "scatter3d": [
           {
            "line": {
             "colorbar": {
              "outlinewidth": 0,
              "ticks": ""
             }
            },
            "marker": {
             "colorbar": {
              "outlinewidth": 0,
              "ticks": ""
             }
            },
            "type": "scatter3d"
           }
          ],
          "scattercarpet": [
           {
            "marker": {
             "colorbar": {
              "outlinewidth": 0,
              "ticks": ""
             }
            },
            "type": "scattercarpet"
           }
          ],
          "scattergeo": [
           {
            "marker": {
             "colorbar": {
              "outlinewidth": 0,
              "ticks": ""
             }
            },
            "type": "scattergeo"
           }
          ],
          "scattergl": [
           {
            "marker": {
             "colorbar": {
              "outlinewidth": 0,
              "ticks": ""
             }
            },
            "type": "scattergl"
           }
          ],
          "scattermapbox": [
           {
            "marker": {
             "colorbar": {
              "outlinewidth": 0,
              "ticks": ""
             }
            },
            "type": "scattermapbox"
           }
          ],
          "scatterpolar": [
           {
            "marker": {
             "colorbar": {
              "outlinewidth": 0,
              "ticks": ""
             }
            },
            "type": "scatterpolar"
           }
          ],
          "scatterpolargl": [
           {
            "marker": {
             "colorbar": {
              "outlinewidth": 0,
              "ticks": ""
             }
            },
            "type": "scatterpolargl"
           }
          ],
          "scatterternary": [
           {
            "marker": {
             "colorbar": {
              "outlinewidth": 0,
              "ticks": ""
             }
            },
            "type": "scatterternary"
           }
          ],
          "surface": [
           {
            "colorbar": {
             "outlinewidth": 0,
             "ticks": ""
            },
            "colorscale": [
             [
              0,
              "#0d0887"
             ],
             [
              0.1111111111111111,
              "#46039f"
             ],
             [
              0.2222222222222222,
              "#7201a8"
             ],
             [
              0.3333333333333333,
              "#9c179e"
             ],
             [
              0.4444444444444444,
              "#bd3786"
             ],
             [
              0.5555555555555556,
              "#d8576b"
             ],
             [
              0.6666666666666666,
              "#ed7953"
             ],
             [
              0.7777777777777778,
              "#fb9f3a"
             ],
             [
              0.8888888888888888,
              "#fdca26"
             ],
             [
              1,
              "#f0f921"
             ]
            ],
            "type": "surface"
           }
          ],
          "table": [
           {
            "cells": {
             "fill": {
              "color": "#EBF0F8"
             },
             "line": {
              "color": "white"
             }
            },
            "header": {
             "fill": {
              "color": "#C8D4E3"
             },
             "line": {
              "color": "white"
             }
            },
            "type": "table"
           }
          ]
         },
         "layout": {
          "annotationdefaults": {
           "arrowcolor": "#2a3f5f",
           "arrowhead": 0,
           "arrowwidth": 1
          },
          "autotypenumbers": "strict",
          "coloraxis": {
           "colorbar": {
            "outlinewidth": 0,
            "ticks": ""
           }
          },
          "colorscale": {
           "diverging": [
            [
             0,
             "#8e0152"
            ],
            [
             0.1,
             "#c51b7d"
            ],
            [
             0.2,
             "#de77ae"
            ],
            [
             0.3,
             "#f1b6da"
            ],
            [
             0.4,
             "#fde0ef"
            ],
            [
             0.5,
             "#f7f7f7"
            ],
            [
             0.6,
             "#e6f5d0"
            ],
            [
             0.7,
             "#b8e186"
            ],
            [
             0.8,
             "#7fbc41"
            ],
            [
             0.9,
             "#4d9221"
            ],
            [
             1,
             "#276419"
            ]
           ],
           "sequential": [
            [
             0,
             "#0d0887"
            ],
            [
             0.1111111111111111,
             "#46039f"
            ],
            [
             0.2222222222222222,
             "#7201a8"
            ],
            [
             0.3333333333333333,
             "#9c179e"
            ],
            [
             0.4444444444444444,
             "#bd3786"
            ],
            [
             0.5555555555555556,
             "#d8576b"
            ],
            [
             0.6666666666666666,
             "#ed7953"
            ],
            [
             0.7777777777777778,
             "#fb9f3a"
            ],
            [
             0.8888888888888888,
             "#fdca26"
            ],
            [
             1,
             "#f0f921"
            ]
           ],
           "sequentialminus": [
            [
             0,
             "#0d0887"
            ],
            [
             0.1111111111111111,
             "#46039f"
            ],
            [
             0.2222222222222222,
             "#7201a8"
            ],
            [
             0.3333333333333333,
             "#9c179e"
            ],
            [
             0.4444444444444444,
             "#bd3786"
            ],
            [
             0.5555555555555556,
             "#d8576b"
            ],
            [
             0.6666666666666666,
             "#ed7953"
            ],
            [
             0.7777777777777778,
             "#fb9f3a"
            ],
            [
             0.8888888888888888,
             "#fdca26"
            ],
            [
             1,
             "#f0f921"
            ]
           ]
          },
          "colorway": [
           "#636efa",
           "#EF553B",
           "#00cc96",
           "#ab63fa",
           "#FFA15A",
           "#19d3f3",
           "#FF6692",
           "#B6E880",
           "#FF97FF",
           "#FECB52"
          ],
          "font": {
           "color": "#2a3f5f"
          },
          "geo": {
           "bgcolor": "white",
           "lakecolor": "white",
           "landcolor": "#E5ECF6",
           "showlakes": true,
           "showland": true,
           "subunitcolor": "white"
          },
          "hoverlabel": {
           "align": "left"
          },
          "hovermode": "closest",
          "mapbox": {
           "style": "light"
          },
          "paper_bgcolor": "white",
          "plot_bgcolor": "#E5ECF6",
          "polar": {
           "angularaxis": {
            "gridcolor": "white",
            "linecolor": "white",
            "ticks": ""
           },
           "bgcolor": "#E5ECF6",
           "radialaxis": {
            "gridcolor": "white",
            "linecolor": "white",
            "ticks": ""
           }
          },
          "scene": {
           "xaxis": {
            "backgroundcolor": "#E5ECF6",
            "gridcolor": "white",
            "gridwidth": 2,
            "linecolor": "white",
            "showbackground": true,
            "ticks": "",
            "zerolinecolor": "white"
           },
           "yaxis": {
            "backgroundcolor": "#E5ECF6",
            "gridcolor": "white",
            "gridwidth": 2,
            "linecolor": "white",
            "showbackground": true,
            "ticks": "",
            "zerolinecolor": "white"
           },
           "zaxis": {
            "backgroundcolor": "#E5ECF6",
            "gridcolor": "white",
            "gridwidth": 2,
            "linecolor": "white",
            "showbackground": true,
            "ticks": "",
            "zerolinecolor": "white"
           }
          },
          "shapedefaults": {
           "line": {
            "color": "#2a3f5f"
           }
          },
          "ternary": {
           "aaxis": {
            "gridcolor": "white",
            "linecolor": "white",
            "ticks": ""
           },
           "baxis": {
            "gridcolor": "white",
            "linecolor": "white",
            "ticks": ""
           },
           "bgcolor": "#E5ECF6",
           "caxis": {
            "gridcolor": "white",
            "linecolor": "white",
            "ticks": ""
           }
          },
          "title": {
           "x": 0.05
          },
          "xaxis": {
           "automargin": true,
           "gridcolor": "white",
           "linecolor": "white",
           "ticks": "",
           "title": {
            "standoff": 15
           },
           "zerolinecolor": "white",
           "zerolinewidth": 2
          },
          "yaxis": {
           "automargin": true,
           "gridcolor": "white",
           "linecolor": "white",
           "ticks": "",
           "title": {
            "standoff": 15
           },
           "zerolinecolor": "white",
           "zerolinewidth": 2
          }
         }
        },
        "title": {
         "text": "# Jobs Automated in Each Income Bucket"
        },
        "width": 1000,
        "xaxis": {
         "anchor": "y",
         "autorange": true,
         "categoryarray": [
          30000,
          40000,
          50000,
          60000,
          70000,
          80000,
          90000,
          100000
         ],
         "categoryorder": "array",
         "domain": [
          0,
          1
         ],
         "range": [
          7.5,
          15.5
         ],
         "title": {
          "text": "Income Buckets"
         },
         "type": "category"
        },
        "yaxis": {
         "anchor": "x",
         "autorange": true,
         "domain": [
          0,
          1
         ],
         "range": [
          0,
          20868167.866578598
         ],
         "title": {
          "text": "# of people automated"
         },
         "type": "linear"
        }
       }
      },
      "image/png": "[encoded data removed]",
      "text/html": [
       "<div>                            <div id=\"6fdaad73-de1c-45fa-bb65-610effed6b2e\" class=\"plotly-graph-div\" style=\"height:800px; width:1000px;\"></div>            <script type=\"text/javascript\">                require([\"plotly\"], function(Plotly) {                    window.PLOTLYENV=window.PLOTLYENV || {};                                    if (document.getElementById(\"6fdaad73-de1c-45fa-bb65-610effed6b2e\")) {                    Plotly.newPlot(                        \"6fdaad73-de1c-45fa-bb65-610effed6b2e\",                        [{\"alignmentgroup\":\"True\",\"hovertemplate\":\"Minor Group Name=Animal Care and Service Workers<br>Income Buckets=%{x}<br># of people automated=%{y}<extra></extra>\",\"legendgroup\":\"Animal Care and Service Workers\",\"marker\":{\"color\":\"#636efa\",\"pattern\":{\"shape\":\"\"}},\"name\":\"Animal Care and Service Workers\",\"offsetgroup\":\"Animal Care and Service Workers\",\"orientation\":\"v\",\"showlegend\":true,\"textposition\":\"auto\",\"x\":[\"<30k\",\"30k-40k\"],\"xaxis\":\"x\",\"y\":[58334.09090909089,0.0],\"yaxis\":\"y\",\"type\":\"bar\"},{\"alignmentgroup\":\"True\",\"hovertemplate\":\"Minor Group Name=Building Cleaning and Pest Control Workers<br>Income Buckets=%{x}<br># of people automated=%{y}<extra></extra>\",\"legendgroup\":\"Building Cleaning and Pest Control Workers\",\"marker\":{\"color\":\"#EF553B\",\"pattern\":{\"shape\":\"\"}},\"name\":\"Building Cleaning and Pest Control Workers\",\"offsetgroup\":\"Building Cleaning and Pest Control Workers\",\"orientation\":\"v\",\"showlegend\":true,\"textposition\":\"auto\",\"x\":[\"<30k\",\"30k-40k\"],\"xaxis\":\"x\",\"y\":[0.0,0.0],\"yaxis\":\"y\",\"type\":\"bar\"},{\"alignmentgroup\":\"True\",\"hovertemplate\":\"Minor Group Name=Cooks and Food Preparation Workers<br>Income Buckets=%{x}<br># of people automated=%{y}<extra></extra>\",\"legendgroup\":\"Cooks and Food Preparation Workers\",\"marker\":{\"color\":\"#00cc96\",\"pattern\":{\"shape\":\"\"}},\"name\":\"Cooks and Food Preparation Workers\",\"offsetgroup\":\"Cooks and Food Preparation Workers\",\"orientation\":\"v\",\"showlegend\":true,\"textposition\":\"auto\",\"x\":[\"<30k\",\"30k-40k\"],\"xaxis\":\"x\",\"y\":[0.0,0.0],\"yaxis\":\"y\",\"type\":\"bar\"},{\"alignmentgroup\":\"True\",\"hovertemplate\":\"Minor Group Name=Entertainment Attendants and Related Workers<br>Income Buckets=%{x}<br># of people automated=%{y}<extra></extra>\",\"legendgroup\":\"Entertainment Attendants and Related Workers\",\"marker\":{\"color\":\"#ab63fa\",\"pattern\":{\"shape\":\"\"}},\"name\":\"Entertainment Attendants and Related Workers\",\"offsetgroup\":\"Entertainment Attendants and Related Workers\",\"orientation\":\"v\",\"showlegend\":true,\"textposition\":\"auto\",\"x\":[\"<30k\",\"30k-40k\",\"40k-50k\"],\"xaxis\":\"x\",\"y\":[0.0,0.0,0.0],\"yaxis\":\"y\",\"type\":\"bar\"},{\"alignmentgroup\":\"True\",\"hovertemplate\":\"Minor Group Name=Food and Beverage Serving Workers<br>Income Buckets=%{x}<br># of people automated=%{y}<extra></extra>\",\"legendgroup\":\"Food and Beverage Serving Workers\",\"marker\":{\"color\":\"#FFA15A\",\"pattern\":{\"shape\":\"\"}},\"name\":\"Food and Beverage Serving Workers\",\"offsetgroup\":\"Food and Beverage Serving Workers\",\"orientation\":\"v\",\"showlegend\":true,\"textposition\":\"auto\",\"x\":[\"<30k\",\"30k-40k\"],\"xaxis\":\"x\",\"y\":[303016.5,0.0],\"yaxis\":\"y\",\"type\":\"bar\"},{\"alignmentgroup\":\"True\",\"hovertemplate\":\"Minor Group Name=Information and Record Clerks<br>Income Buckets=%{x}<br># of people automated=%{y}<extra></extra>\",\"legendgroup\":\"Information and Record Clerks\",\"marker\":{\"color\":\"#19d3f3\",\"pattern\":{\"shape\":\"\"}},\"name\":\"Information and Record Clerks\",\"offsetgroup\":\"Information and Record Clerks\",\"orientation\":\"v\",\"showlegend\":true,\"textposition\":\"auto\",\"x\":[\"<30k\",\"30k-40k\",\"40k-50k\",\"50k-60k\"],\"xaxis\":\"x\",\"y\":[36477.0,7065505.837320574,0.0,0.0],\"yaxis\":\"y\",\"type\":\"bar\"},{\"alignmentgroup\":\"True\",\"hovertemplate\":\"Minor Group Name=Other Food Preparation and Serving Related Workers<br>Income Buckets=%{x}<br># of people automated=%{y}<extra></extra>\",\"legendgroup\":\"Other Food Preparation and Serving Related Workers\",\"marker\":{\"color\":\"#FF6692\",\"pattern\":{\"shape\":\"\"}},\"name\":\"Other Food Preparation and Serving Related Workers\",\"offsetgroup\":\"Other Food Preparation and Serving Related Workers\",\"orientation\":\"v\",\"showlegend\":true,\"textposition\":\"auto\",\"x\":[\"<30k\"],\"xaxis\":\"x\",\"y\":[57819.54545454538],\"yaxis\":\"y\",\"type\":\"bar\"},{\"alignmentgroup\":\"True\",\"hovertemplate\":\"Minor Group Name=Other Personal Care and Service Workers<br>Income Buckets=%{x}<br># of people automated=%{y}<extra></extra>\",\"legendgroup\":\"Other Personal Care and Service Workers\",\"marker\":{\"color\":\"#B6E880\",\"pattern\":{\"shape\":\"\"}},\"name\":\"Other Personal Care and Service Workers\",\"offsetgroup\":\"Other Personal Care and Service Workers\",\"orientation\":\"v\",\"showlegend\":true,\"textposition\":\"auto\",\"x\":[\"<30k\",\"30k-40k\",\"40k-50k\"],\"xaxis\":\"x\",\"y\":[20884.54545454543,0.0,45552.727272727265],\"yaxis\":\"y\",\"type\":\"bar\"},{\"alignmentgroup\":\"True\",\"hovertemplate\":\"Minor Group Name=Other Protective Service Workers<br>Income Buckets=%{x}<br># of people automated=%{y}<extra></extra>\",\"legendgroup\":\"Other Protective Service Workers\",\"marker\":{\"color\":\"#FF97FF\",\"pattern\":{\"shape\":\"\"}},\"name\":\"Other Protective Service Workers\",\"offsetgroup\":\"Other Protective Service Workers\",\"orientation\":\"v\",\"showlegend\":true,\"textposition\":\"auto\",\"x\":[\"<30k\",\"30k-40k\",\"40k-50k\",\"50k-60k\"],\"xaxis\":\"x\",\"y\":[0.0,190284.28571428562,0.0,0.0],\"yaxis\":\"y\",\"type\":\"bar\"},{\"alignmentgroup\":\"True\",\"hovertemplate\":\"Minor Group Name=Personal Appearance Workers<br>Income Buckets=%{x}<br># of people automated=%{y}<extra></extra>\",\"legendgroup\":\"Personal Appearance Workers\",\"marker\":{\"color\":\"#FECB52\",\"pattern\":{\"shape\":\"\"}},\"name\":\"Personal Appearance Workers\",\"offsetgroup\":\"Personal Appearance Workers\",\"orientation\":\"v\",\"showlegend\":true,\"textposition\":\"auto\",\"x\":[\"<30k\",\"30k-40k\",\"90k-100k\"],\"xaxis\":\"x\",\"y\":[0.0,56750.0,0.0],\"yaxis\":\"y\",\"type\":\"bar\"},{\"alignmentgroup\":\"True\",\"hovertemplate\":\"Minor Group Name=Retail Sales Workers<br>Income Buckets=%{x}<br># of people automated=%{y}<extra></extra>\",\"legendgroup\":\"Retail Sales Workers\",\"marker\":{\"color\":\"#636efa\",\"pattern\":{\"shape\":\"\"}},\"name\":\"Retail Sales Workers\",\"offsetgroup\":\"Retail Sales Workers\",\"orientation\":\"v\",\"showlegend\":true,\"textposition\":\"auto\",\"x\":[\"<30k\",\"30k-40k\"],\"xaxis\":\"x\",\"y\":[454626.20689655165,1787037.5],\"yaxis\":\"y\",\"type\":\"bar\"},{\"alignmentgroup\":\"True\",\"hovertemplate\":\"Minor Group Name=Textile, Apparel, and Furnishings Workers<br>Income Buckets=%{x}<br># of people automated=%{y}<extra></extra>\",\"legendgroup\":\"Textile, Apparel, and Furnishings Workers\",\"marker\":{\"color\":\"#EF553B\",\"pattern\":{\"shape\":\"\"}},\"name\":\"Textile, Apparel, and Furnishings Workers\",\"offsetgroup\":\"Textile, Apparel, and Furnishings Workers\",\"orientation\":\"v\",\"showlegend\":true,\"textposition\":\"auto\",\"x\":[\"<30k\",\"30k-40k\",\"60k-70k\"],\"xaxis\":\"x\",\"y\":[0.0,11290.909090909077,0.0],\"yaxis\":\"y\",\"type\":\"bar\"},{\"alignmentgroup\":\"True\",\"hovertemplate\":\"Minor Group Name=Agricultural Workers<br>Income Buckets=%{x}<br># of people automated=%{y}<extra></extra>\",\"legendgroup\":\"Agricultural Workers\",\"marker\":{\"color\":\"#00cc96\",\"pattern\":{\"shape\":\"\"}},\"name\":\"Agricultural Workers\",\"offsetgroup\":\"Agricultural Workers\",\"orientation\":\"v\",\"showlegend\":true,\"textposition\":\"auto\",\"x\":[\"30k-40k\",\"40k-50k\"],\"xaxis\":\"x\",\"y\":[78300.30303030298,694.0909090909082],\"yaxis\":\"y\",\"type\":\"bar\"},{\"alignmentgroup\":\"True\",\"hovertemplate\":\"Minor Group Name=Art and Design Workers<br>Income Buckets=%{x}<br># of people automated=%{y}<extra></extra>\",\"legendgroup\":\"Art and Design Workers\",\"marker\":{\"color\":\"#ab63fa\",\"pattern\":{\"shape\":\"\"}},\"name\":\"Art and Design Workers\",\"offsetgroup\":\"Art and Design Workers\",\"orientation\":\"v\",\"showlegend\":true,\"textposition\":\"auto\",\"x\":[\"30k-40k\",\"50k-60k\",\"60k-70k\",\"70k-80k\",\"90k-100k\"],\"xaxis\":\"x\",\"y\":[32370.79999999999,131321.25,30002.0,29855.852941176465,12853.571428571428],\"yaxis\":\"y\",\"type\":\"bar\"},{\"alignmentgroup\":\"True\",\"hovertemplate\":\"Minor Group Name=Assemblers and Fabricators<br>Income Buckets=%{x}<br># of people automated=%{y}<extra></extra>\",\"legendgroup\":\"Assemblers and Fabricators\",\"marker\":{\"color\":\"#FFA15A\",\"pattern\":{\"shape\":\"\"}},\"name\":\"Assemblers and Fabricators\",\"offsetgroup\":\"Assemblers and Fabricators\",\"orientation\":\"v\",\"showlegend\":true,\"textposition\":\"auto\",\"x\":[\"30k-40k\",\"40k-50k\",\"50k-60k\"],\"xaxis\":\"x\",\"y\":[0.0,0.0,0.0],\"yaxis\":\"y\",\"type\":\"bar\"},{\"alignmentgroup\":\"True\",\"hovertemplate\":\"Minor Group Name=Baggage Porters, Bellhops, and Concierges<br>Income Buckets=%{x}<br># of people automated=%{y}<extra></extra>\",\"legendgroup\":\"Baggage Porters, Bellhops, and Concierges\",\"marker\":{\"color\":\"#19d3f3\",\"pattern\":{\"shape\":\"\"}},\"name\":\"Baggage Porters, Bellhops, and Concierges\",\"offsetgroup\":\"Baggage Porters, Bellhops, and Concierges\",\"orientation\":\"v\",\"showlegend\":true,\"textposition\":\"auto\",\"x\":[\"30k-40k\"],\"xaxis\":\"x\",\"y\":[0.0],\"yaxis\":\"y\",\"type\":\"bar\"},{\"alignmentgroup\":\"True\",\"hovertemplate\":\"Minor Group Name=Communications Equipment Operators<br>Income Buckets=%{x}<br># of people automated=%{y}<extra></extra>\",\"legendgroup\":\"Communications Equipment Operators\",\"marker\":{\"color\":\"#FF6692\",\"pattern\":{\"shape\":\"\"}},\"name\":\"Communications Equipment Operators\",\"offsetgroup\":\"Communications Equipment Operators\",\"orientation\":\"v\",\"showlegend\":true,\"textposition\":\"auto\",\"x\":[\"30k-40k\"],\"xaxis\":\"x\",\"y\":[0.0],\"yaxis\":\"y\",\"type\":\"bar\"},{\"alignmentgroup\":\"True\",\"hovertemplate\":\"Minor Group Name=Counselors, Social Workers, and Other Community and Social Service Specialists<br>Income Buckets=%{x}<br># of people automated=%{y}<extra></extra>\",\"legendgroup\":\"Counselors, Social Workers, and Other Community and Social Service Specialists\",\"marker\":{\"color\":\"#B6E880\",\"pattern\":{\"shape\":\"\"}},\"name\":\"Counselors, Social Workers, and Other Community and Social Service Specialists\",\"offsetgroup\":\"Counselors, Social Workers, and Other Community and Social Service Specialists\",\"orientation\":\"v\",\"showlegend\":true,\"textposition\":\"auto\",\"x\":[\"30k-40k\",\"40k-50k\",\"50k-60k\",\"60k-70k\"],\"xaxis\":\"x\",\"y\":[109154.29411764705,2113.7931034482726,1401370.8232689209,72120.58823529408],\"yaxis\":\"y\",\"type\":\"bar\"},{\"alignmentgroup\":\"True\",\"hovertemplate\":\"Minor Group Name=Entertainers and Performers, Sports and Related Workers<br>Income Buckets=%{x}<br># of people automated=%{y}<extra></extra>\",\"legendgroup\":\"Entertainers and Performers, Sports and Related Workers\",\"marker\":{\"color\":\"#FF97FF\",\"pattern\":{\"shape\":\"\"}},\"name\":\"Entertainers and Performers, Sports and Related Workers\",\"offsetgroup\":\"Entertainers and Performers, Sports and Related Workers\",\"orientation\":\"v\",\"showlegend\":true,\"textposition\":\"auto\",\"x\":[\"30k-40k\",\"40k-50k\",\"50k-60k\",\"60k-70k\",\"80k-90k\",\"90k-100k\"],\"xaxis\":\"x\",\"y\":[2385.0,39101.785714285696,0.0,1948.3333333333326,3705.3012048192654,0.0],\"yaxis\":\"y\",\"type\":\"bar\"},{\"alignmentgroup\":\"True\",\"hovertemplate\":\"Minor Group Name=Financial Clerks<br>Income Buckets=%{x}<br># of people automated=%{y}<extra></extra>\",\"legendgroup\":\"Financial Clerks\",\"marker\":{\"color\":\"#FECB52\",\"pattern\":{\"shape\":\"\"}},\"name\":\"Financial Clerks\",\"offsetgroup\":\"Financial Clerks\",\"orientation\":\"v\",\"showlegend\":true,\"textposition\":\"auto\",\"x\":[\"30k-40k\",\"40k-50k\"],\"xaxis\":\"x\",\"y\":[37800.66666666663,1616044.5358851673],\"yaxis\":\"y\",\"type\":\"bar\"},{\"alignmentgroup\":\"True\",\"hovertemplate\":\"Minor Group Name=Food Processing Workers<br>Income Buckets=%{x}<br># of people automated=%{y}<extra></extra>\",\"legendgroup\":\"Food Processing Workers\",\"marker\":{\"color\":\"#636efa\",\"pattern\":{\"shape\":\"\"}},\"name\":\"Food Processing Workers\",\"offsetgroup\":\"Food Processing Workers\",\"orientation\":\"v\",\"showlegend\":true,\"textposition\":\"auto\",\"x\":[\"30k-40k\"],\"xaxis\":\"x\",\"y\":[0.0],\"yaxis\":\"y\",\"type\":\"bar\"},{\"alignmentgroup\":\"True\",\"hovertemplate\":\"Minor Group Name=Forest, Conservation, and Logging Workers<br>Income Buckets=%{x}<br># of people automated=%{y}<extra></extra>\",\"legendgroup\":\"Forest, Conservation, and Logging Workers\",\"marker\":{\"color\":\"#EF553B\",\"pattern\":{\"shape\":\"\"}},\"name\":\"Forest, Conservation, and Logging Workers\",\"offsetgroup\":\"Forest, Conservation, and Logging Workers\",\"orientation\":\"v\",\"showlegend\":true,\"textposition\":\"auto\",\"x\":[\"30k-40k\",\"40k-50k\"],\"xaxis\":\"x\",\"y\":[0.0,0.0],\"yaxis\":\"y\",\"type\":\"bar\"},{\"alignmentgroup\":\"True\",\"hovertemplate\":\"Minor Group Name=Funeral Service Workers<br>Income Buckets=%{x}<br># of people automated=%{y}<extra></extra>\",\"legendgroup\":\"Funeral Service Workers\",\"marker\":{\"color\":\"#00cc96\",\"pattern\":{\"shape\":\"\"}},\"name\":\"Funeral Service Workers\",\"offsetgroup\":\"Funeral Service Workers\",\"orientation\":\"v\",\"showlegend\":true,\"textposition\":\"auto\",\"x\":[\"30k-40k\",\"40k-50k\",\"50k-60k\"],\"xaxis\":\"x\",\"y\":[0.0,0.0,0.0],\"yaxis\":\"y\",\"type\":\"bar\"},{\"alignmentgroup\":\"True\",\"hovertemplate\":\"Minor Group Name=Grounds Maintenance Workers<br>Income Buckets=%{x}<br># of people automated=%{y}<extra></extra>\",\"legendgroup\":\"Grounds Maintenance Workers\",\"marker\":{\"color\":\"#ab63fa\",\"pattern\":{\"shape\":\"\"}},\"name\":\"Grounds Maintenance Workers\",\"offsetgroup\":\"Grounds Maintenance Workers\",\"orientation\":\"v\",\"showlegend\":true,\"textposition\":\"auto\",\"x\":[\"30k-40k\",\"40k-50k\"],\"xaxis\":\"x\",\"y\":[67720.74074074067,0.0],\"yaxis\":\"y\",\"type\":\"bar\"},{\"alignmentgroup\":\"True\",\"hovertemplate\":\"Minor Group Name=Health Technologists and Technicians<br>Income Buckets=%{x}<br># of people automated=%{y}<extra></extra>\",\"legendgroup\":\"Health Technologists and Technicians\",\"marker\":{\"color\":\"#FFA15A\",\"pattern\":{\"shape\":\"\"}},\"name\":\"Health Technologists and Technicians\",\"offsetgroup\":\"Health Technologists and Technicians\",\"orientation\":\"v\",\"showlegend\":true,\"textposition\":\"auto\",\"x\":[\"30k-40k\",\"40k-50k\",\"50k-60k\",\"60k-70k\",\"70k-80k\",\"80k-90k\"],\"xaxis\":\"x\",\"y\":[96799.35483870968,171783.4535104364,1034797.0251716243,19915.133333333324,0.0,5929.130434782606],\"yaxis\":\"y\",\"type\":\"bar\"},{\"alignmentgroup\":\"True\",\"hovertemplate\":\"Minor Group Name=Helpers, Construction Trades<br>Income Buckets=%{x}<br># of people automated=%{y}<extra></extra>\",\"legendgroup\":\"Helpers, Construction Trades\",\"marker\":{\"color\":\"#19d3f3\",\"pattern\":{\"shape\":\"\"}},\"name\":\"Helpers, Construction Trades\",\"offsetgroup\":\"Helpers, Construction Trades\",\"orientation\":\"v\",\"showlegend\":true,\"textposition\":\"auto\",\"x\":[\"30k-40k\"],\"xaxis\":\"x\",\"y\":[0.0],\"yaxis\":\"y\",\"type\":\"bar\"},{\"alignmentgroup\":\"True\",\"hovertemplate\":\"Minor Group Name=Home Health and Personal Care Aides; and Nursing Assistants, Orderlies, and Psychiatric Aides<br>Income Buckets=%{x}<br># of people automated=%{y}<extra></extra>\",\"legendgroup\":\"Home Health and Personal Care Aides; and Nursing Assistants, Orderlies, and Psychiatric Aides\",\"marker\":{\"color\":\"#FF6692\",\"pattern\":{\"shape\":\"\"}},\"name\":\"Home Health and Personal Care Aides; and Nursing Assistants, Orderlies, and Psychiatric Aides\",\"offsetgroup\":\"Home Health and Personal Care Aides; and Nursing Assistants, Orderlies, and Psychiatric Aides\",\"orientation\":\"v\",\"showlegend\":true,\"textposition\":\"auto\",\"x\":[\"30k-40k\"],\"xaxis\":\"x\",\"y\":[5320825.636363634],\"yaxis\":\"y\",\"type\":\"bar\"},{\"alignmentgroup\":\"True\",\"hovertemplate\":\"Minor Group Name=Librarians, Curators, and Archivists<br>Income Buckets=%{x}<br># of people automated=%{y}<extra></extra>\",\"legendgroup\":\"Librarians, Curators, and Archivists\",\"marker\":{\"color\":\"#B6E880\",\"pattern\":{\"shape\":\"\"}},\"name\":\"Librarians, Curators, and Archivists\",\"offsetgroup\":\"Librarians, Curators, and Archivists\",\"orientation\":\"v\",\"showlegend\":true,\"textposition\":\"auto\",\"x\":[\"30k-40k\",\"40k-50k\",\"50k-60k\",\"60k-70k\"],\"xaxis\":\"x\",\"y\":[4190.285714285711,0.0,0.0,23883.333333333325],\"yaxis\":\"y\",\"type\":\"bar\"},{\"alignmentgroup\":\"True\",\"hovertemplate\":\"Minor Group Name=Material Moving Workers<br>Income Buckets=%{x}<br># of people automated=%{y}<extra></extra>\",\"legendgroup\":\"Material Moving Workers\",\"marker\":{\"color\":\"#FF97FF\",\"pattern\":{\"shape\":\"\"}},\"name\":\"Material Moving Workers\",\"offsetgroup\":\"Material Moving Workers\",\"orientation\":\"v\",\"showlegend\":true,\"textposition\":\"auto\",\"x\":[\"30k-40k\",\"40k-50k\",\"50k-60k\",\"60k-70k\"],\"xaxis\":\"x\",\"y\":[686830.0,0.0,0.0,0.0],\"yaxis\":\"y\",\"type\":\"bar\"},{\"alignmentgroup\":\"True\",\"hovertemplate\":\"Minor Group Name=Material Recording, Scheduling, Dispatching, and Distributing Workers<br>Income Buckets=%{x}<br># of people automated=%{y}<extra></extra>\",\"legendgroup\":\"Material Recording, Scheduling, Dispatching, and Distributing Workers\",\"marker\":{\"color\":\"#FECB52\",\"pattern\":{\"shape\":\"\"}},\"name\":\"Material Recording, Scheduling, Dispatching, and Distributing Workers\",\"offsetgroup\":\"Material Recording, Scheduling, Dispatching, and Distributing Workers\",\"orientation\":\"v\",\"showlegend\":true,\"textposition\":\"auto\",\"x\":[\"30k-40k\",\"40k-50k\",\"50k-60k\"],\"xaxis\":\"x\",\"y\":[501381.8181818181,136860.13037809645,0.0],\"yaxis\":\"y\",\"type\":\"bar\"},{\"alignmentgroup\":\"True\",\"hovertemplate\":\"Minor Group Name=Metal Workers and Plastic Workers<br>Income Buckets=%{x}<br># of people automated=%{y}<extra></extra>\",\"legendgroup\":\"Metal Workers and Plastic Workers\",\"marker\":{\"color\":\"#636efa\",\"pattern\":{\"shape\":\"\"}},\"name\":\"Metal Workers and Plastic Workers\",\"offsetgroup\":\"Metal Workers and Plastic Workers\",\"orientation\":\"v\",\"showlegend\":true,\"textposition\":\"auto\",\"x\":[\"30k-40k\",\"40k-50k\",\"50k-60k\"],\"xaxis\":\"x\",\"y\":[0.0,0.0,0.0],\"yaxis\":\"y\",\"type\":\"bar\"},{\"alignmentgroup\":\"True\",\"hovertemplate\":\"Minor Group Name=Motor Vehicle Operators<br>Income Buckets=%{x}<br># of people automated=%{y}<extra></extra>\",\"legendgroup\":\"Motor Vehicle Operators\",\"marker\":{\"color\":\"#EF553B\",\"pattern\":{\"shape\":\"\"}},\"name\":\"Motor Vehicle Operators\",\"offsetgroup\":\"Motor Vehicle Operators\",\"orientation\":\"v\",\"showlegend\":true,\"textposition\":\"auto\",\"x\":[\"30k-40k\",\"40k-50k\",\"50k-60k\"],\"xaxis\":\"x\",\"y\":[0.0,0.0,0.0],\"yaxis\":\"y\",\"type\":\"bar\"},{\"alignmentgroup\":\"True\",\"hovertemplate\":\"Minor Group Name=Occupational Therapy and Physical Therapist Assistants and Aides<br>Income Buckets=%{x}<br># of people automated=%{y}<extra></extra>\",\"legendgroup\":\"Occupational Therapy and Physical Therapist Assistants and Aides\",\"marker\":{\"color\":\"#00cc96\",\"pattern\":{\"shape\":\"\"}},\"name\":\"Occupational Therapy and Physical Therapist Assistants and Aides\",\"offsetgroup\":\"Occupational Therapy and Physical Therapist Assistants and Aides\",\"orientation\":\"v\",\"showlegend\":true,\"textposition\":\"auto\",\"x\":[\"30k-40k\",\"60k-70k\"],\"xaxis\":\"x\",\"y\":[0.0,0.0],\"yaxis\":\"y\",\"type\":\"bar\"},{\"alignmentgroup\":\"True\",\"hovertemplate\":\"Minor Group Name=Other Construction and Related Workers<br>Income Buckets=%{x}<br># of people automated=%{y}<extra></extra>\",\"legendgroup\":\"Other Construction and Related Workers\",\"marker\":{\"color\":\"#ab63fa\",\"pattern\":{\"shape\":\"\"}},\"name\":\"Other Construction and Related Workers\",\"offsetgroup\":\"Other Construction and Related Workers\",\"orientation\":\"v\",\"showlegend\":true,\"textposition\":\"auto\",\"x\":[\"30k-40k\",\"40k-50k\",\"60k-70k\",\"90k-100k\"],\"xaxis\":\"x\",\"y\":[0.0,0.0,26827.272727272724,0.0],\"yaxis\":\"y\",\"type\":\"bar\"},{\"alignmentgroup\":\"True\",\"hovertemplate\":\"Minor Group Name=Other Educational Instruction and Library Occupations<br>Income Buckets=%{x}<br># of people automated=%{y}<extra></extra>\",\"legendgroup\":\"Other Educational Instruction and Library Occupations\",\"marker\":{\"color\":\"#FFA15A\",\"pattern\":{\"shape\":\"\"}},\"name\":\"Other Educational Instruction and Library Occupations\",\"offsetgroup\":\"Other Educational Instruction and Library Occupations\",\"orientation\":\"v\",\"showlegend\":true,\"textposition\":\"auto\",\"x\":[\"30k-40k\",\"50k-60k\",\"60k-70k\"],\"xaxis\":\"x\",\"y\":[0.0,0.0,46353.99999999999],\"yaxis\":\"y\",\"type\":\"bar\"},{\"alignmentgroup\":\"True\",\"hovertemplate\":\"Minor Group Name=Other Healthcare Support Occupations<br>Income Buckets=%{x}<br># of people automated=%{y}<extra></extra>\",\"legendgroup\":\"Other Healthcare Support Occupations\",\"marker\":{\"color\":\"#19d3f3\",\"pattern\":{\"shape\":\"\"}},\"name\":\"Other Healthcare Support Occupations\",\"offsetgroup\":\"Other Healthcare Support Occupations\",\"orientation\":\"v\",\"showlegend\":true,\"textposition\":\"auto\",\"x\":[\"30k-40k\",\"40k-50k\"],\"xaxis\":\"x\",\"y\":[728893.3333333333,155302.5],\"yaxis\":\"y\",\"type\":\"bar\"},{\"alignmentgroup\":\"True\",\"hovertemplate\":\"Minor Group Name=Other Installation, Maintenance, and Repair Occupations<br>Income Buckets=%{x}<br># of people automated=%{y}<extra></extra>\",\"legendgroup\":\"Other Installation, Maintenance, and Repair Occupations\",\"marker\":{\"color\":\"#FF6692\",\"pattern\":{\"shape\":\"\"}},\"name\":\"Other Installation, Maintenance, and Repair Occupations\",\"offsetgroup\":\"Other Installation, Maintenance, and Repair Occupations\",\"orientation\":\"v\",\"showlegend\":true,\"textposition\":\"auto\",\"x\":[\"30k-40k\",\"40k-50k\",\"50k-60k\",\"60k-70k\",\"80k-90k\"],\"xaxis\":\"x\",\"y\":[0.0,0.0,289204.5748987854,9943.5,0.0],\"yaxis\":\"y\",\"type\":\"bar\"},{\"alignmentgroup\":\"True\",\"hovertemplate\":\"Minor Group Name=Other Office and Administrative Support Workers<br>Income Buckets=%{x}<br># of people automated=%{y}<extra></extra>\",\"legendgroup\":\"Other Office and Administrative Support Workers\",\"marker\":{\"color\":\"#B6E880\",\"pattern\":{\"shape\":\"\"}},\"name\":\"Other Office and Administrative Support Workers\",\"offsetgroup\":\"Other Office and Administrative Support Workers\",\"orientation\":\"v\",\"showlegend\":true,\"textposition\":\"auto\",\"x\":[\"30k-40k\",\"40k-50k\"],\"xaxis\":\"x\",\"y\":[2596833.492063492,68561.90476190473],\"yaxis\":\"y\",\"type\":\"bar\"},{\"alignmentgroup\":\"True\",\"hovertemplate\":\"Minor Group Name=Other Production Occupations<br>Income Buckets=%{x}<br># of people automated=%{y}<extra></extra>\",\"legendgroup\":\"Other Production Occupations\",\"marker\":{\"color\":\"#FF97FF\",\"pattern\":{\"shape\":\"\"}},\"name\":\"Other Production Occupations\",\"offsetgroup\":\"Other Production Occupations\",\"orientation\":\"v\",\"showlegend\":true,\"textposition\":\"auto\",\"x\":[\"30k-40k\",\"40k-50k\",\"50k-60k\",\"60k-70k\"],\"xaxis\":\"x\",\"y\":[120727.5,89245.625,0.0,0.0],\"yaxis\":\"y\",\"type\":\"bar\"},{\"alignmentgroup\":\"True\",\"hovertemplate\":\"Minor Group Name=Other Sales and Related Workers<br>Income Buckets=%{x}<br># of people automated=%{y}<extra></extra>\",\"legendgroup\":\"Other Sales and Related Workers\",\"marker\":{\"color\":\"#FECB52\",\"pattern\":{\"shape\":\"\"}},\"name\":\"Other Sales and Related Workers\",\"offsetgroup\":\"Other Sales and Related Workers\",\"orientation\":\"v\",\"showlegend\":true,\"textposition\":\"auto\",\"x\":[\"30k-40k\",\"40k-50k\",\"60k-70k\"],\"xaxis\":\"x\",\"y\":[49523.33333333333,94584.24242424242,13765.78947368421],\"yaxis\":\"y\",\"type\":\"bar\"},{\"alignmentgroup\":\"True\",\"hovertemplate\":\"Minor Group Name=Other Teachers and Instructors<br>Income Buckets=%{x}<br># of people automated=%{y}<extra></extra>\",\"legendgroup\":\"Other Teachers and Instructors\",\"marker\":{\"color\":\"#636efa\",\"pattern\":{\"shape\":\"\"}},\"name\":\"Other Teachers and Instructors\",\"offsetgroup\":\"Other Teachers and Instructors\",\"orientation\":\"v\",\"showlegend\":true,\"textposition\":\"auto\",\"x\":[\"30k-40k\",\"40k-50k\",\"50k-60k\"],\"xaxis\":\"x\",\"y\":[30114.73684210525,0.0,0.0],\"yaxis\":\"y\",\"type\":\"bar\"},{\"alignmentgroup\":\"True\",\"hovertemplate\":\"Minor Group Name=Other Transportation Workers<br>Income Buckets=%{x}<br># of people automated=%{y}<extra></extra>\",\"legendgroup\":\"Other Transportation Workers\",\"marker\":{\"color\":\"#EF553B\",\"pattern\":{\"shape\":\"\"}},\"name\":\"Other Transportation Workers\",\"offsetgroup\":\"Other Transportation Workers\",\"orientation\":\"v\",\"showlegend\":true,\"textposition\":\"auto\",\"x\":[\"30k-40k\",\"40k-50k\",\"50k-60k\",\"70k-80k\"],\"xaxis\":\"x\",\"y\":[0.0,0.0,0.0,421.03448275862],\"yaxis\":\"y\",\"type\":\"bar\"},{\"alignmentgroup\":\"True\",\"hovertemplate\":\"Minor Group Name=Preschool, Elementary, Middle, Secondary, and Special Education Teachers<br>Income Buckets=%{x}<br># of people automated=%{y}<extra></extra>\",\"legendgroup\":\"Preschool, Elementary, Middle, Secondary, and Special Education Teachers\",\"marker\":{\"color\":\"#00cc96\",\"pattern\":{\"shape\":\"\"}},\"name\":\"Preschool, Elementary, Middle, Secondary, and Special Education Teachers\",\"offsetgroup\":\"Preschool, Elementary, Middle, Secondary, and Special Education Teachers\",\"orientation\":\"v\",\"showlegend\":true,\"textposition\":\"auto\",\"x\":[\"30k-40k\",\"60k-70k\"],\"xaxis\":\"x\",\"y\":[0.0,1264916.776315789],\"yaxis\":\"y\",\"type\":\"bar\"},{\"alignmentgroup\":\"True\",\"hovertemplate\":\"Minor Group Name=Printing Workers<br>Income Buckets=%{x}<br># of people automated=%{y}<extra></extra>\",\"legendgroup\":\"Printing Workers\",\"marker\":{\"color\":\"#ab63fa\",\"pattern\":{\"shape\":\"\"}},\"name\":\"Printing Workers\",\"offsetgroup\":\"Printing Workers\",\"orientation\":\"v\",\"showlegend\":true,\"textposition\":\"auto\",\"x\":[\"30k-40k\",\"40k-50k\"],\"xaxis\":\"x\",\"y\":[0.0,0.0],\"yaxis\":\"y\",\"type\":\"bar\"},{\"alignmentgroup\":\"True\",\"hovertemplate\":\"Minor Group Name=Secretaries and Administrative Assistants<br>Income Buckets=%{x}<br># of people automated=%{y}<extra></extra>\",\"legendgroup\":\"Secretaries and Administrative Assistants\",\"marker\":{\"color\":\"#FFA15A\",\"pattern\":{\"shape\":\"\"}},\"name\":\"Secretaries and Administrative Assistants\",\"offsetgroup\":\"Secretaries and Administrative Assistants\",\"orientation\":\"v\",\"showlegend\":true,\"textposition\":\"auto\",\"x\":[\"30k-40k\",\"40k-50k\",\"60k-70k\"],\"xaxis\":\"x\",\"y\":[213321.875,1241656.25,86407.27272727272],\"yaxis\":\"y\",\"type\":\"bar\"},{\"alignmentgroup\":\"True\",\"hovertemplate\":\"Minor Group Name=Supervisors of Food Preparation and Serving Workers<br>Income Buckets=%{x}<br># of people automated=%{y}<extra></extra>\",\"legendgroup\":\"Supervisors of Food Preparation and Serving Workers\",\"marker\":{\"color\":\"#19d3f3\",\"pattern\":{\"shape\":\"\"}},\"name\":\"Supervisors of Food Preparation and Serving Workers\",\"offsetgroup\":\"Supervisors of Food Preparation and Serving Workers\",\"orientation\":\"v\",\"showlegend\":true,\"textposition\":\"auto\",\"x\":[\"30k-40k\",\"50k-60k\"],\"xaxis\":\"x\",\"y\":[0.0,7628.095238095236],\"yaxis\":\"y\",\"type\":\"bar\"},{\"alignmentgroup\":\"True\",\"hovertemplate\":\"Minor Group Name=Tour and Travel Guides<br>Income Buckets=%{x}<br># of people automated=%{y}<extra></extra>\",\"legendgroup\":\"Tour and Travel Guides\",\"marker\":{\"color\":\"#FF6692\",\"pattern\":{\"shape\":\"\"}},\"name\":\"Tour and Travel Guides\",\"offsetgroup\":\"Tour and Travel Guides\",\"orientation\":\"v\",\"showlegend\":true,\"textposition\":\"auto\",\"x\":[\"30k-40k\"],\"xaxis\":\"x\",\"y\":[36717.77089783281],\"yaxis\":\"y\",\"type\":\"bar\"},{\"alignmentgroup\":\"True\",\"hovertemplate\":\"Minor Group Name=Vehicle and Mobile Equipment Mechanics, Installers, and Repairers<br>Income Buckets=%{x}<br># of people automated=%{y}<extra></extra>\",\"legendgroup\":\"Vehicle and Mobile Equipment Mechanics, Installers, and Repairers\",\"marker\":{\"color\":\"#B6E880\",\"pattern\":{\"shape\":\"\"}},\"name\":\"Vehicle and Mobile Equipment Mechanics, Installers, and Repairers\",\"offsetgroup\":\"Vehicle and Mobile Equipment Mechanics, Installers, and Repairers\",\"orientation\":\"v\",\"showlegend\":true,\"textposition\":\"auto\",\"x\":[\"30k-40k\",\"40k-50k\",\"50k-60k\",\"60k-70k\",\"70k-80k\"],\"xaxis\":\"x\",\"y\":[0.0,94786.0,0.0,0.0,7056.315789473681],\"yaxis\":\"y\",\"type\":\"bar\"},{\"alignmentgroup\":\"True\",\"hovertemplate\":\"Minor Group Name=Woodworkers<br>Income Buckets=%{x}<br># of people automated=%{y}<extra></extra>\",\"legendgroup\":\"Woodworkers\",\"marker\":{\"color\":\"#FF97FF\",\"pattern\":{\"shape\":\"\"}},\"name\":\"Woodworkers\",\"offsetgroup\":\"Woodworkers\",\"orientation\":\"v\",\"showlegend\":true,\"textposition\":\"auto\",\"x\":[\"30k-40k\",\"40k-50k\"],\"xaxis\":\"x\",\"y\":[0.0,0.0],\"yaxis\":\"y\",\"type\":\"bar\"},{\"alignmentgroup\":\"True\",\"hovertemplate\":\"Minor Group Name=Air Transportation Workers<br>Income Buckets=%{x}<br># of people automated=%{y}<extra></extra>\",\"legendgroup\":\"Air Transportation Workers\",\"marker\":{\"color\":\"#FECB52\",\"pattern\":{\"shape\":\"\"}},\"name\":\"Air Transportation Workers\",\"offsetgroup\":\"Air Transportation Workers\",\"orientation\":\"v\",\"showlegend\":true,\"textposition\":\"auto\",\"x\":[\"40k-50k\",\"60k-70k\"],\"xaxis\":\"x\",\"y\":[0.0,0.0],\"yaxis\":\"y\",\"type\":\"bar\"},{\"alignmentgroup\":\"True\",\"hovertemplate\":\"Minor Group Name=Business Operations Specialists<br>Income Buckets=%{x}<br># of people automated=%{y}<extra></extra>\",\"legendgroup\":\"Business Operations Specialists\",\"marker\":{\"color\":\"#636efa\",\"pattern\":{\"shape\":\"\"}},\"name\":\"Business Operations Specialists\",\"offsetgroup\":\"Business Operations Specialists\",\"orientation\":\"v\",\"showlegend\":true,\"textposition\":\"auto\",\"x\":[\"40k-50k\",\"50k-60k\",\"60k-70k\",\"70k-80k\",\"80k-90k\",\"90k-100k\"],\"xaxis\":\"x\",\"y\":[0.0,53366.66666666666,14548890.14866712,942085.0629268012,0.0,1757946.2727272725],\"yaxis\":\"y\",\"type\":\"bar\"},{\"alignmentgroup\":\"True\",\"hovertemplate\":\"Minor Group Name=Construction Trades Workers<br>Income Buckets=%{x}<br># of people automated=%{y}<extra></extra>\",\"legendgroup\":\"Construction Trades Workers\",\"marker\":{\"color\":\"#EF553B\",\"pattern\":{\"shape\":\"\"}},\"name\":\"Construction Trades Workers\",\"offsetgroup\":\"Construction Trades Workers\",\"orientation\":\"v\",\"showlegend\":true,\"textposition\":\"auto\",\"x\":[\"40k-50k\",\"50k-60k\",\"60k-70k\"],\"xaxis\":\"x\",\"y\":[97817.89473684206,51262.49999999998,0.0],\"yaxis\":\"y\",\"type\":\"bar\"},{\"alignmentgroup\":\"True\",\"hovertemplate\":\"Minor Group Name=Drafters, Engineering Technicians, and Mapping Technicians<br>Income Buckets=%{x}<br># of people automated=%{y}<extra></extra>\",\"legendgroup\":\"Drafters, Engineering Technicians, and Mapping Technicians\",\"marker\":{\"color\":\"#00cc96\",\"pattern\":{\"shape\":\"\"}},\"name\":\"Drafters, Engineering Technicians, and Mapping Technicians\",\"offsetgroup\":\"Drafters, Engineering Technicians, and Mapping Technicians\",\"orientation\":\"v\",\"showlegend\":true,\"textposition\":\"auto\",\"x\":[\"40k-50k\",\"50k-60k\",\"60k-70k\",\"70k-80k\"],\"xaxis\":\"x\",\"y\":[0.0,12979.285714285708,6713.99999999997,812.4999999999997],\"yaxis\":\"y\",\"type\":\"bar\"},{\"alignmentgroup\":\"True\",\"hovertemplate\":\"Minor Group Name=Electrical and Electronic Equipment Mechanics, Installers, and Repairers<br>Income Buckets=%{x}<br># of people automated=%{y}<extra></extra>\",\"legendgroup\":\"Electrical and Electronic Equipment Mechanics, Installers, and Repairers\",\"marker\":{\"color\":\"#ab63fa\",\"pattern\":{\"shape\":\"\"}},\"name\":\"Electrical and Electronic Equipment Mechanics, Installers, and Repairers\",\"offsetgroup\":\"Electrical and Electronic Equipment Mechanics, Installers, and Repairers\",\"orientation\":\"v\",\"showlegend\":true,\"textposition\":\"auto\",\"x\":[\"40k-50k\",\"50k-60k\",\"60k-70k\",\"70k-80k\",\"90k-100k\"],\"xaxis\":\"x\",\"y\":[0.0,19644.0,0.0,0.0,0.0],\"yaxis\":\"y\",\"type\":\"bar\"},{\"alignmentgroup\":\"True\",\"hovertemplate\":\"Minor Group Name=Extraction Workers<br>Income Buckets=%{x}<br># of people automated=%{y}<extra></extra>\",\"legendgroup\":\"Extraction Workers\",\"marker\":{\"color\":\"#FFA15A\",\"pattern\":{\"shape\":\"\"}},\"name\":\"Extraction Workers\",\"offsetgroup\":\"Extraction Workers\",\"orientation\":\"v\",\"showlegend\":true,\"textposition\":\"auto\",\"x\":[\"40k-50k\",\"50k-60k\",\"60k-70k\"],\"xaxis\":\"x\",\"y\":[0.0,6445.333333333327,0.0],\"yaxis\":\"y\",\"type\":\"bar\"},{\"alignmentgroup\":\"True\",\"hovertemplate\":\"Minor Group Name=Financial Specialists<br>Income Buckets=%{x}<br># of people automated=%{y}<extra></extra>\",\"legendgroup\":\"Financial Specialists\",\"marker\":{\"color\":\"#19d3f3\",\"pattern\":{\"shape\":\"\"}},\"name\":\"Financial Specialists\",\"offsetgroup\":\"Financial Specialists\",\"orientation\":\"v\",\"showlegend\":true,\"textposition\":\"auto\",\"x\":[\"40k-50k\",\"50k-60k\",\"60k-70k\",\"70k-80k\",\"80k-90k\",\"90k-100k\"],\"xaxis\":\"x\",\"y\":[55730.0,6073.2,448829.6666666666,1503146.6666666663,17199.999999999996,445025.4395604395],\"yaxis\":\"y\",\"type\":\"bar\"},{\"alignmentgroup\":\"True\",\"hovertemplate\":\"Minor Group Name=Firefighting and Prevention Workers<br>Income Buckets=%{x}<br># of people automated=%{y}<extra></extra>\",\"legendgroup\":\"Firefighting and Prevention Workers\",\"marker\":{\"color\":\"#FF6692\",\"pattern\":{\"shape\":\"\"}},\"name\":\"Firefighting and Prevention Workers\",\"offsetgroup\":\"Firefighting and Prevention Workers\",\"orientation\":\"v\",\"showlegend\":true,\"textposition\":\"auto\",\"x\":[\"40k-50k\",\"50k-60k\",\"60k-70k\"],\"xaxis\":\"x\",\"y\":[143.125,0.0,483.6666666666662],\"yaxis\":\"y\",\"type\":\"bar\"},{\"alignmentgroup\":\"True\",\"hovertemplate\":\"Minor Group Name=Law Enforcement Workers<br>Income Buckets=%{x}<br># of people automated=%{y}<extra></extra>\",\"legendgroup\":\"Law Enforcement Workers\",\"marker\":{\"color\":\"#B6E880\",\"pattern\":{\"shape\":\"\"}},\"name\":\"Law Enforcement Workers\",\"offsetgroup\":\"Law Enforcement Workers\",\"orientation\":\"v\",\"showlegend\":true,\"textposition\":\"auto\",\"x\":[\"40k-50k\",\"50k-60k\",\"60k-70k\",\"80k-90k\"],\"xaxis\":\"x\",\"y\":[0.0,816.25,0.0,7782.608695652171],\"yaxis\":\"y\",\"type\":\"bar\"},{\"alignmentgroup\":\"True\",\"hovertemplate\":\"Minor Group Name=Life, Physical, and Social Science Technicians<br>Income Buckets=%{x}<br># of people automated=%{y}<extra></extra>\",\"legendgroup\":\"Life, Physical, and Social Science Technicians\",\"marker\":{\"color\":\"#FF97FF\",\"pattern\":{\"shape\":\"\"}},\"name\":\"Life, Physical, and Social Science Technicians\",\"offsetgroup\":\"Life, Physical, and Social Science Technicians\",\"orientation\":\"v\",\"showlegend\":true,\"textposition\":\"auto\",\"x\":[\"40k-50k\",\"50k-60k\",\"60k-70k\"],\"xaxis\":\"x\",\"y\":[81080.82036019533,51234.67391304348,0.0],\"yaxis\":\"y\",\"type\":\"bar\"},{\"alignmentgroup\":\"True\",\"hovertemplate\":\"Minor Group Name=Media and Communication Equipment Workers<br>Income Buckets=%{x}<br># of people automated=%{y}<extra></extra>\",\"legendgroup\":\"Media and Communication Equipment Workers\",\"marker\":{\"color\":\"#FECB52\",\"pattern\":{\"shape\":\"\"}},\"name\":\"Media and Communication Equipment Workers\",\"offsetgroup\":\"Media and Communication Equipment Workers\",\"orientation\":\"v\",\"showlegend\":true,\"textposition\":\"auto\",\"x\":[\"40k-50k\",\"50k-60k\",\"60k-70k\"],\"xaxis\":\"x\",\"y\":[4901.379310344824,12043.793103448272,67080.39194688368],\"yaxis\":\"y\",\"type\":\"bar\"},{\"alignmentgroup\":\"True\",\"hovertemplate\":\"Minor Group Name=Media and Communication Workers<br>Income Buckets=%{x}<br># of people automated=%{y}<extra></extra>\",\"legendgroup\":\"Media and Communication Workers\",\"marker\":{\"color\":\"#636efa\",\"pattern\":{\"shape\":\"\"}},\"name\":\"Media and Communication Workers\",\"offsetgroup\":\"Media and Communication Workers\",\"orientation\":\"v\",\"showlegend\":true,\"textposition\":\"auto\",\"x\":[\"40k-50k\",\"50k-60k\",\"60k-70k\",\"70k-80k\"],\"xaxis\":\"x\",\"y\":[6705.0,47776.23529411764,170493.8888888889,168464.5714285714],\"yaxis\":\"y\",\"type\":\"bar\"},{\"alignmentgroup\":\"True\",\"hovertemplate\":\"Minor Group Name=Other Management Occupations<br>Income Buckets=%{x}<br># of people automated=%{y}<extra></extra>\",\"legendgroup\":\"Other Management Occupations\",\"marker\":{\"color\":\"#EF553B\",\"pattern\":{\"shape\":\"\"}},\"name\":\"Other Management Occupations\",\"offsetgroup\":\"Other Management Occupations\",\"orientation\":\"v\",\"showlegend\":true,\"textposition\":\"auto\",\"x\":[\"40k-50k\",\"50k-60k\",\"60k-70k\",\"70k-80k\",\"80k-90k\",\"90k-100k\"],\"xaxis\":\"x\",\"y\":[0.0,721.6326530612237,244481.90476190473,38820.0,0.0,74888.96551724138],\"yaxis\":\"y\",\"type\":\"bar\"},{\"alignmentgroup\":\"True\",\"hovertemplate\":\"Minor Group Name=Religious Workers<br>Income Buckets=%{x}<br># of people automated=%{y}<extra></extra>\",\"legendgroup\":\"Religious Workers\",\"marker\":{\"color\":\"#00cc96\",\"pattern\":{\"shape\":\"\"}},\"name\":\"Religious Workers\",\"offsetgroup\":\"Religious Workers\",\"orientation\":\"v\",\"showlegend\":true,\"textposition\":\"auto\",\"x\":[\"40k-50k\",\"50k-60k\"],\"xaxis\":\"x\",\"y\":[0.0,0.0],\"yaxis\":\"y\",\"type\":\"bar\"},{\"alignmentgroup\":\"True\",\"hovertemplate\":\"Minor Group Name=Sales Representatives, Services<br>Income Buckets=%{x}<br># of people automated=%{y}<extra></extra>\",\"legendgroup\":\"Sales Representatives, Services\",\"marker\":{\"color\":\"#ab63fa\",\"pattern\":{\"shape\":\"\"}},\"name\":\"Sales Representatives, Services\",\"offsetgroup\":\"Sales Representatives, Services\",\"orientation\":\"v\",\"showlegend\":true,\"textposition\":\"auto\",\"x\":[\"40k-50k\",\"50k-60k\",\"60k-70k\"],\"xaxis\":\"x\",\"y\":[46532.5,427151.05263157893,1113911.3333333333],\"yaxis\":\"y\",\"type\":\"bar\"},{\"alignmentgroup\":\"True\",\"hovertemplate\":\"Minor Group Name=Supervisors of Building and Grounds Cleaning and Maintenance Workers<br>Income Buckets=%{x}<br># of people automated=%{y}<extra></extra>\",\"legendgroup\":\"Supervisors of Building and Grounds Cleaning and Maintenance Workers\",\"marker\":{\"color\":\"#FFA15A\",\"pattern\":{\"shape\":\"\"}},\"name\":\"Supervisors of Building and Grounds Cleaning and Maintenance Workers\",\"offsetgroup\":\"Supervisors of Building and Grounds Cleaning and Maintenance Workers\",\"orientation\":\"v\",\"showlegend\":true,\"textposition\":\"auto\",\"x\":[\"40k-50k\",\"50k-60k\"],\"xaxis\":\"x\",\"y\":[0.0,4389.642857142855],\"yaxis\":\"y\",\"type\":\"bar\"},{\"alignmentgroup\":\"True\",\"hovertemplate\":\"Minor Group Name=Supervisors of Personal Care and Service Workers<br>Income Buckets=%{x}<br># of people automated=%{y}<extra></extra>\",\"legendgroup\":\"Supervisors of Personal Care and Service Workers\",\"marker\":{\"color\":\"#19d3f3\",\"pattern\":{\"shape\":\"\"}},\"name\":\"Supervisors of Personal Care and Service Workers\",\"offsetgroup\":\"Supervisors of Personal Care and Service Workers\",\"orientation\":\"v\",\"showlegend\":true,\"textposition\":\"auto\",\"x\":[\"40k-50k\",\"50k-60k\"],\"xaxis\":\"x\",\"y\":[0.0,0.0],\"yaxis\":\"y\",\"type\":\"bar\"},{\"alignmentgroup\":\"True\",\"hovertemplate\":\"Minor Group Name=Supervisors of Protective Service Workers<br>Income Buckets=%{x}<br># of people automated=%{y}<extra></extra>\",\"legendgroup\":\"Supervisors of Protective Service Workers\",\"marker\":{\"color\":\"#FF6692\",\"pattern\":{\"shape\":\"\"}},\"name\":\"Supervisors of Protective Service Workers\",\"offsetgroup\":\"Supervisors of Protective Service Workers\",\"orientation\":\"v\",\"showlegend\":true,\"textposition\":\"auto\",\"x\":[\"40k-50k\",\"60k-70k\",\"80k-90k\",\"90k-100k\"],\"xaxis\":\"x\",\"y\":[0.0,0.0,0.0,0.0],\"yaxis\":\"y\",\"type\":\"bar\"},{\"alignmentgroup\":\"True\",\"hovertemplate\":\"Minor Group Name=Supervisors of Sales Workers<br>Income Buckets=%{x}<br># of people automated=%{y}<extra></extra>\",\"legendgroup\":\"Supervisors of Sales Workers\",\"marker\":{\"color\":\"#B6E880\",\"pattern\":{\"shape\":\"\"}},\"name\":\"Supervisors of Sales Workers\",\"offsetgroup\":\"Supervisors of Sales Workers\",\"orientation\":\"v\",\"showlegend\":true,\"textposition\":\"auto\",\"x\":[\"40k-50k\",\"80k-90k\"],\"xaxis\":\"x\",\"y\":[52245.71428571427,0.0],\"yaxis\":\"y\",\"type\":\"bar\"},{\"alignmentgroup\":\"True\",\"hovertemplate\":\"Minor Group Name=Top Executives<br>Income Buckets=%{x}<br># of people automated=%{y}<extra></extra>\",\"legendgroup\":\"Top Executives\",\"marker\":{\"color\":\"#FF97FF\",\"pattern\":{\"shape\":\"\"}},\"name\":\"Top Executives\",\"offsetgroup\":\"Top Executives\",\"orientation\":\"v\",\"showlegend\":true,\"textposition\":\"auto\",\"x\":[\"40k-50k\",\"90k-100k\"],\"xaxis\":\"x\",\"y\":[0.0,198628.23529411762],\"yaxis\":\"y\",\"type\":\"bar\"},{\"alignmentgroup\":\"True\",\"hovertemplate\":\"Minor Group Name=Water Transportation Workers<br>Income Buckets=%{x}<br># of people automated=%{y}<extra></extra>\",\"legendgroup\":\"Water Transportation Workers\",\"marker\":{\"color\":\"#FECB52\",\"pattern\":{\"shape\":\"\"}},\"name\":\"Water Transportation Workers\",\"offsetgroup\":\"Water Transportation Workers\",\"orientation\":\"v\",\"showlegend\":true,\"textposition\":\"auto\",\"x\":[\"40k-50k\",\"80k-90k\",\"90k-100k\"],\"xaxis\":\"x\",\"y\":[0.0,0.0,0.0],\"yaxis\":\"y\",\"type\":\"bar\"},{\"alignmentgroup\":\"True\",\"hovertemplate\":\"Minor Group Name=Computer Occupations<br>Income Buckets=%{x}<br># of people automated=%{y}<extra></extra>\",\"legendgroup\":\"Computer Occupations\",\"marker\":{\"color\":\"#636efa\",\"pattern\":{\"shape\":\"\"}},\"name\":\"Computer Occupations\",\"offsetgroup\":\"Computer Occupations\",\"orientation\":\"v\",\"showlegend\":true,\"textposition\":\"auto\",\"x\":[\"50k-60k\",\"60k-70k\",\"70k-80k\",\"80k-90k\",\"90k-100k\"],\"xaxis\":\"x\",\"y\":[130655.625,25987.6923076923,39726.206896551725,18253.125,1498370.3634097707],\"yaxis\":\"y\",\"type\":\"bar\"},{\"alignmentgroup\":\"True\",\"hovertemplate\":\"Minor Group Name=Healthcare Diagnosing or Treating Practitioners<br>Income Buckets=%{x}<br># of people automated=%{y}<extra></extra>\",\"legendgroup\":\"Healthcare Diagnosing or Treating Practitioners\",\"marker\":{\"color\":\"#EF553B\",\"pattern\":{\"shape\":\"\"}},\"name\":\"Healthcare Diagnosing or Treating Practitioners\",\"offsetgroup\":\"Healthcare Diagnosing or Treating Practitioners\",\"orientation\":\"v\",\"showlegend\":true,\"textposition\":\"auto\",\"x\":[\"50k-60k\",\"60k-70k\",\"70k-80k\",\"80k-90k\",\"90k-100k\"],\"xaxis\":\"x\",\"y\":[0.0,27899.999999999996,23924.99999999999,1002278.9673913042,60786.66666666664],\"yaxis\":\"y\",\"type\":\"bar\"},{\"alignmentgroup\":\"True\",\"hovertemplate\":\"Minor Group Name=Lawyers, Judges, and Related Workers<br>Income Buckets=%{x}<br># of people automated=%{y}<extra></extra>\",\"legendgroup\":\"Lawyers, Judges, and Related Workers\",\"marker\":{\"color\":\"#00cc96\",\"pattern\":{\"shape\":\"\"}},\"name\":\"Lawyers, Judges, and Related Workers\",\"offsetgroup\":\"Lawyers, Judges, and Related Workers\",\"orientation\":\"v\",\"showlegend\":true,\"textposition\":\"auto\",\"x\":[\"50k-60k\",\"60k-70k\",\"90k-100k\"],\"xaxis\":\"x\",\"y\":[0.0,1167.0,892.1428571428568],\"yaxis\":\"y\",\"type\":\"bar\"},{\"alignmentgroup\":\"True\",\"hovertemplate\":\"Minor Group Name=Legal Support Workers<br>Income Buckets=%{x}<br># of people automated=%{y}<extra></extra>\",\"legendgroup\":\"Legal Support Workers\",\"marker\":{\"color\":\"#ab63fa\",\"pattern\":{\"shape\":\"\"}},\"name\":\"Legal Support Workers\",\"offsetgroup\":\"Legal Support Workers\",\"orientation\":\"v\",\"showlegend\":true,\"textposition\":\"auto\",\"x\":[\"50k-60k\"],\"xaxis\":\"x\",\"y\":[236614.3137254902],\"yaxis\":\"y\",\"type\":\"bar\"},{\"alignmentgroup\":\"True\",\"hovertemplate\":\"Minor Group Name=Occupational Health and Safety Specialists and Technicians<br>Income Buckets=%{x}<br># of people automated=%{y}<extra></extra>\",\"legendgroup\":\"Occupational Health and Safety Specialists and Technicians\",\"marker\":{\"color\":\"#FFA15A\",\"pattern\":{\"shape\":\"\"}},\"name\":\"Occupational Health and Safety Specialists and Technicians\",\"offsetgroup\":\"Occupational Health and Safety Specialists and Technicians\",\"orientation\":\"v\",\"showlegend\":true,\"textposition\":\"auto\",\"x\":[\"50k-60k\",\"70k-80k\"],\"xaxis\":\"x\",\"y\":[0.0,0.0],\"yaxis\":\"y\",\"type\":\"bar\"},{\"alignmentgroup\":\"True\",\"hovertemplate\":\"Minor Group Name=Other Healthcare Practitioners and Technical Occupations<br>Income Buckets=%{x}<br># of people automated=%{y}<extra></extra>\",\"legendgroup\":\"Other Healthcare Practitioners and Technical Occupations\",\"marker\":{\"color\":\"#19d3f3\",\"pattern\":{\"shape\":\"\"}},\"name\":\"Other Healthcare Practitioners and Technical Occupations\",\"offsetgroup\":\"Other Healthcare Practitioners and Technical Occupations\",\"orientation\":\"v\",\"showlegend\":true,\"textposition\":\"auto\",\"x\":[\"50k-60k\",\"60k-70k\",\"80k-90k\"],\"xaxis\":\"x\",\"y\":[24614.021739130432,0.0,0.0],\"yaxis\":\"y\",\"type\":\"bar\"},{\"alignmentgroup\":\"True\",\"hovertemplate\":\"Minor Group Name=Plant and System Operators<br>Income Buckets=%{x}<br># of people automated=%{y}<extra></extra>\",\"legendgroup\":\"Plant and System Operators\",\"marker\":{\"color\":\"#FF6692\",\"pattern\":{\"shape\":\"\"}},\"name\":\"Plant and System Operators\",\"offsetgroup\":\"Plant and System Operators\",\"orientation\":\"v\",\"showlegend\":true,\"textposition\":\"auto\",\"x\":[\"50k-60k\",\"60k-70k\",\"70k-80k\",\"80k-90k\",\"90k-100k\"],\"xaxis\":\"x\",\"y\":[0.0,0.0,0.0,0.0,457.8260869565216],\"yaxis\":\"y\",\"type\":\"bar\"},{\"alignmentgroup\":\"True\",\"hovertemplate\":\"Minor Group Name=Postsecondary Teachers<br>Income Buckets=%{x}<br># of people automated=%{y}<extra></extra>\",\"legendgroup\":\"Postsecondary Teachers\",\"marker\":{\"color\":\"#B6E880\",\"pattern\":{\"shape\":\"\"}},\"name\":\"Postsecondary Teachers\",\"offsetgroup\":\"Postsecondary Teachers\",\"orientation\":\"v\",\"showlegend\":true,\"textposition\":\"auto\",\"x\":[\"50k-60k\",\"60k-70k\",\"70k-80k\",\"80k-90k\",\"90k-100k\"],\"xaxis\":\"x\",\"y\":[5155.0,21057.5,96407.79762845849,48598.0,0.0],\"yaxis\":\"y\",\"type\":\"bar\"},{\"alignmentgroup\":\"True\",\"hovertemplate\":\"Minor Group Name=Rail Transportation Workers<br>Income Buckets=%{x}<br># of people automated=%{y}<extra></extra>\",\"legendgroup\":\"Rail Transportation Workers\",\"marker\":{\"color\":\"#FF97FF\",\"pattern\":{\"shape\":\"\"}},\"name\":\"Rail Transportation Workers\",\"offsetgroup\":\"Rail Transportation Workers\",\"orientation\":\"v\",\"showlegend\":true,\"textposition\":\"auto\",\"x\":[\"50k-60k\",\"60k-70k\",\"70k-80k\",\"80k-90k\"],\"xaxis\":\"x\",\"y\":[0.0,0.0,0.0,0.0],\"yaxis\":\"y\",\"type\":\"bar\"},{\"alignmentgroup\":\"True\",\"hovertemplate\":\"Minor Group Name=Supervisors of Farming, Fishing, and Forestry Workers<br>Income Buckets=%{x}<br># of people automated=%{y}<extra></extra>\",\"legendgroup\":\"Supervisors of Farming, Fishing, and Forestry Workers\",\"marker\":{\"color\":\"#FECB52\",\"pattern\":{\"shape\":\"\"}},\"name\":\"Supervisors of Farming, Fishing, and Forestry Workers\",\"offsetgroup\":\"Supervisors of Farming, Fishing, and Forestry Workers\",\"orientation\":\"v\",\"showlegend\":true,\"textposition\":\"auto\",\"x\":[\"50k-60k\"],\"xaxis\":\"x\",\"y\":[0.0],\"yaxis\":\"y\",\"type\":\"bar\"},{\"alignmentgroup\":\"True\",\"hovertemplate\":\"Minor Group Name=Supervisors of Transportation and Material Moving Workers<br>Income Buckets=%{x}<br># of people automated=%{y}<extra></extra>\",\"legendgroup\":\"Supervisors of Transportation and Material Moving Workers\",\"marker\":{\"color\":\"#636efa\",\"pattern\":{\"shape\":\"\"}},\"name\":\"Supervisors of Transportation and Material Moving Workers\",\"offsetgroup\":\"Supervisors of Transportation and Material Moving Workers\",\"orientation\":\"v\",\"showlegend\":true,\"textposition\":\"auto\",\"x\":[\"50k-60k\"],\"xaxis\":\"x\",\"y\":[0.0],\"yaxis\":\"y\",\"type\":\"bar\"},{\"alignmentgroup\":\"True\",\"hovertemplate\":\"Minor Group Name=Architects, Surveyors, and Cartographers<br>Income Buckets=%{x}<br># of people automated=%{y}<extra></extra>\",\"legendgroup\":\"Architects, Surveyors, and Cartographers\",\"marker\":{\"color\":\"#EF553B\",\"pattern\":{\"shape\":\"\"}},\"name\":\"Architects, Surveyors, and Cartographers\",\"offsetgroup\":\"Architects, Surveyors, and Cartographers\",\"orientation\":\"v\",\"showlegend\":true,\"textposition\":\"auto\",\"x\":[\"60k-70k\",\"70k-80k\",\"80k-90k\"],\"xaxis\":\"x\",\"y\":[0.0,0.0,8957.499999999996],\"yaxis\":\"y\",\"type\":\"bar\"},{\"alignmentgroup\":\"True\",\"hovertemplate\":\"Minor Group Name=Life Scientists<br>Income Buckets=%{x}<br># of people automated=%{y}<extra></extra>\",\"legendgroup\":\"Life Scientists\",\"marker\":{\"color\":\"#00cc96\",\"pattern\":{\"shape\":\"\"}},\"name\":\"Life Scientists\",\"offsetgroup\":\"Life Scientists\",\"orientation\":\"v\",\"showlegend\":true,\"textposition\":\"auto\",\"x\":[\"60k-70k\",\"70k-80k\",\"80k-90k\",\"90k-100k\"],\"xaxis\":\"x\",\"y\":[8633.333333333327,1609.9999999999984,13692.301587301585,7896.428571428568],\"yaxis\":\"y\",\"type\":\"bar\"},{\"alignmentgroup\":\"True\",\"hovertemplate\":\"Minor Group Name=Sales Representatives, Wholesale and Manufacturing<br>Income Buckets=%{x}<br># of people automated=%{y}<extra></extra>\",\"legendgroup\":\"Sales Representatives, Wholesale and Manufacturing\",\"marker\":{\"color\":\"#ab63fa\",\"pattern\":{\"shape\":\"\"}},\"name\":\"Sales Representatives, Wholesale and Manufacturing\",\"offsetgroup\":\"Sales Representatives, Wholesale and Manufacturing\",\"orientation\":\"v\",\"showlegend\":true,\"textposition\":\"auto\",\"x\":[\"60k-70k\",\"90k-100k\"],\"xaxis\":\"x\",\"y\":[804252.6315789473,58166.0],\"yaxis\":\"y\",\"type\":\"bar\"},{\"alignmentgroup\":\"True\",\"hovertemplate\":\"Minor Group Name=Social Scientists and Related Workers<br>Income Buckets=%{x}<br># of people automated=%{y}<extra></extra>\",\"legendgroup\":\"Social Scientists and Related Workers\",\"marker\":{\"color\":\"#FFA15A\",\"pattern\":{\"shape\":\"\"}},\"name\":\"Social Scientists and Related Workers\",\"offsetgroup\":\"Social Scientists and Related Workers\",\"orientation\":\"v\",\"showlegend\":true,\"textposition\":\"auto\",\"x\":[\"60k-70k\",\"70k-80k\",\"80k-90k\",\"90k-100k\"],\"xaxis\":\"x\",\"y\":[1146.875,0.0,4990.5263157894715,9456.820512820506],\"yaxis\":\"y\",\"type\":\"bar\"},{\"alignmentgroup\":\"True\",\"hovertemplate\":\"Minor Group Name=Supervisors of Office and Administrative Support Workers<br>Income Buckets=%{x}<br># of people automated=%{y}<extra></extra>\",\"legendgroup\":\"Supervisors of Office and Administrative Support Workers\",\"marker\":{\"color\":\"#19d3f3\",\"pattern\":{\"shape\":\"\"}},\"name\":\"Supervisors of Office and Administrative Support Workers\",\"offsetgroup\":\"Supervisors of Office and Administrative Support Workers\",\"orientation\":\"v\",\"showlegend\":true,\"textposition\":\"auto\",\"x\":[\"60k-70k\"],\"xaxis\":\"x\",\"y\":[0.0],\"yaxis\":\"y\",\"type\":\"bar\"},{\"alignmentgroup\":\"True\",\"hovertemplate\":\"Minor Group Name=Supervisors of Production Workers<br>Income Buckets=%{x}<br># of people automated=%{y}<extra></extra>\",\"legendgroup\":\"Supervisors of Production Workers\",\"marker\":{\"color\":\"#FF6692\",\"pattern\":{\"shape\":\"\"}},\"name\":\"Supervisors of Production Workers\",\"offsetgroup\":\"Supervisors of Production Workers\",\"orientation\":\"v\",\"showlegend\":true,\"textposition\":\"auto\",\"x\":[\"60k-70k\"],\"xaxis\":\"x\",\"y\":[0.0],\"yaxis\":\"y\",\"type\":\"bar\"},{\"alignmentgroup\":\"True\",\"hovertemplate\":\"Minor Group Name=Mathematical Science Occupations<br>Income Buckets=%{x}<br># of people automated=%{y}<extra></extra>\",\"legendgroup\":\"Mathematical Science Occupations\",\"marker\":{\"color\":\"#B6E880\",\"pattern\":{\"shape\":\"\"}},\"name\":\"Mathematical Science Occupations\",\"offsetgroup\":\"Mathematical Science Occupations\",\"orientation\":\"v\",\"showlegend\":true,\"textposition\":\"auto\",\"x\":[\"70k-80k\",\"80k-90k\",\"90k-100k\"],\"xaxis\":\"x\",\"y\":[0.0,0.0,2676.521739130434],\"yaxis\":\"y\",\"type\":\"bar\"},{\"alignmentgroup\":\"True\",\"hovertemplate\":\"Minor Group Name=Physical Scientists<br>Income Buckets=%{x}<br># of people automated=%{y}<extra></extra>\",\"legendgroup\":\"Physical Scientists\",\"marker\":{\"color\":\"#FF97FF\",\"pattern\":{\"shape\":\"\"}},\"name\":\"Physical Scientists\",\"offsetgroup\":\"Physical Scientists\",\"orientation\":\"v\",\"showlegend\":true,\"textposition\":\"auto\",\"x\":[\"70k-80k\",\"80k-90k\"],\"xaxis\":\"x\",\"y\":[6181.6,52492.820512820515],\"yaxis\":\"y\",\"type\":\"bar\"},{\"alignmentgroup\":\"True\",\"hovertemplate\":\"Minor Group Name=Supervisors of Construction and Extraction Workers<br>Income Buckets=%{x}<br># of people automated=%{y}<extra></extra>\",\"legendgroup\":\"Supervisors of Construction and Extraction Workers\",\"marker\":{\"color\":\"#FECB52\",\"pattern\":{\"shape\":\"\"}},\"name\":\"Supervisors of Construction and Extraction Workers\",\"offsetgroup\":\"Supervisors of Construction and Extraction Workers\",\"orientation\":\"v\",\"showlegend\":true,\"textposition\":\"auto\",\"x\":[\"70k-80k\"],\"xaxis\":\"x\",\"y\":[0.0],\"yaxis\":\"y\",\"type\":\"bar\"},{\"alignmentgroup\":\"True\",\"hovertemplate\":\"Minor Group Name=Supervisors of Installation, Maintenance, and Repair Workers<br>Income Buckets=%{x}<br># of people automated=%{y}<extra></extra>\",\"legendgroup\":\"Supervisors of Installation, Maintenance, and Repair Workers\",\"marker\":{\"color\":\"#636efa\",\"pattern\":{\"shape\":\"\"}},\"name\":\"Supervisors of Installation, Maintenance, and Repair Workers\",\"offsetgroup\":\"Supervisors of Installation, Maintenance, and Repair Workers\",\"orientation\":\"v\",\"showlegend\":true,\"textposition\":\"auto\",\"x\":[\"70k-80k\"],\"xaxis\":\"x\",\"y\":[0.0],\"yaxis\":\"y\",\"type\":\"bar\"},{\"alignmentgroup\":\"True\",\"hovertemplate\":\"Minor Group Name=Engineers<br>Income Buckets=%{x}<br># of people automated=%{y}<extra></extra>\",\"legendgroup\":\"Engineers\",\"marker\":{\"color\":\"#EF553B\",\"pattern\":{\"shape\":\"\"}},\"name\":\"Engineers\",\"offsetgroup\":\"Engineers\",\"orientation\":\"v\",\"showlegend\":true,\"textposition\":\"auto\",\"x\":[\"80k-90k\",\"90k-100k\"],\"xaxis\":\"x\",\"y\":[4353.098591549289,243744.21795845992],\"yaxis\":\"y\",\"type\":\"bar\"},{\"alignmentgroup\":\"True\",\"hovertemplate\":\"Minor Group Name=Operations Specialties Managers<br>Income Buckets=%{x}<br># of people automated=%{y}<extra></extra>\",\"legendgroup\":\"Operations Specialties Managers\",\"marker\":{\"color\":\"#00cc96\",\"pattern\":{\"shape\":\"\"}},\"name\":\"Operations Specialties Managers\",\"offsetgroup\":\"Operations Specialties Managers\",\"orientation\":\"v\",\"showlegend\":true,\"textposition\":\"auto\",\"x\":[\"90k-100k\"],\"xaxis\":\"x\",\"y\":[99155.52995391702],\"yaxis\":\"y\",\"type\":\"bar\"}],                        {\"template\":{\"data\":{\"histogram2dcontour\":[{\"type\":\"histogram2dcontour\",\"colorbar\":{\"outlinewidth\":0,\"ticks\":\"\"},\"colorscale\":[[0.0,\"#0d0887\"],[0.1111111111111111,\"#46039f\"],[0.2222222222222222,\"#7201a8\"],[0.3333333333333333,\"#9c179e\"],[0.4444444444444444,\"#bd3786\"],[0.5555555555555556,\"#d8576b\"],[0.6666666666666666,\"#ed7953\"],[0.7777777777777778,\"#fb9f3a\"],[0.8888888888888888,\"#fdca26\"],[1.0,\"#f0f921\"]]}],\"choropleth\":[{\"type\":\"choropleth\",\"colorbar\":{\"outlinewidth\":0,\"ticks\":\"\"}}],\"histogram2d\":[{\"type\":\"histogram2d\",\"colorbar\":{\"outlinewidth\":0,\"ticks\":\"\"},\"colorscale\":[[0.0,\"#0d0887\"],[0.1111111111111111,\"#46039f\"],[0.2222222222222222,\"#7201a8\"],[0.3333333333333333,\"#9c179e\"],[0.4444444444444444,\"#bd3786\"],[0.5555555555555556,\"#d8576b\"],[0.6666666666666666,\"#ed7953\"],[0.7777777777777778,\"#fb9f3a\"],[0.8888888888888888,\"#fdca26\"],[1.0,\"#f0f921\"]]}],\"heatmap\":[{\"type\":\"heatmap\",\"colorbar\":{\"outlinewidth\":0,\"ticks\":\"\"},\"colorscale\":[[0.0,\"#0d0887\"],[0.1111111111111111,\"#46039f\"],[0.2222222222222222,\"#7201a8\"],[0.3333333333333333,\"#9c179e\"],[0.4444444444444444,\"#bd3786\"],[0.5555555555555556,\"#d8576b\"],[0.6666666666666666,\"#ed7953\"],[0.7777777777777778,\"#fb9f3a\"],[0.8888888888888888,\"#fdca26\"],[1.0,\"#f0f921\"]]}],\"heatmapgl\":[{\"type\":\"heatmapgl\",\"colorbar\":{\"outlinewidth\":0,\"ticks\":\"\"},\"colorscale\":[[0.0,\"#0d0887\"],[0.1111111111111111,\"#46039f\"],[0.2222222222222222,\"#7201a8\"],[0.3333333333333333,\"#9c179e\"],[0.4444444444444444,\"#bd3786\"],[0.5555555555555556,\"#d8576b\"],[0.6666666666666666,\"#ed7953\"],[0.7777777777777778,\"#fb9f3a\"],[0.8888888888888888,\"#fdca26\"],[1.0,\"#f0f921\"]]}],\"contourcarpet\":[{\"type\":\"contourcarpet\",\"colorbar\":{\"outlinewidth\":0,\"ticks\":\"\"}}],\"contour\":[{\"type\":\"contour\",\"colorbar\":{\"outlinewidth\":0,\"ticks\":\"\"},\"colorscale\":[[0.0,\"#0d0887\"],[0.1111111111111111,\"#46039f\"],[0.2222222222222222,\"#7201a8\"],[0.3333333333333333,\"#9c179e\"],[0.4444444444444444,\"#bd3786\"],[0.5555555555555556,\"#d8576b\"],[0.6666666666666666,\"#ed7953\"],[0.7777777777777778,\"#fb9f3a\"],[0.8888888888888888,\"#fdca26\"],[1.0,\"#f0f921\"]]}],\"surface\":[{\"type\":\"surface\",\"colorbar\":{\"outlinewidth\":0,\"ticks\":\"\"},\"colorscale\":[[0.0,\"#0d0887\"],[0.1111111111111111,\"#46039f\"],[0.2222222222222222,\"#7201a8\"],[0.3333333333333333,\"#9c179e\"],[0.4444444444444444,\"#bd3786\"],[0.5555555555555556,\"#d8576b\"],[0.6666666666666666,\"#ed7953\"],[0.7777777777777778,\"#fb9f3a\"],[0.8888888888888888,\"#fdca26\"],[1.0,\"#f0f921\"]]}],\"mesh3d\":[{\"type\":\"mesh3d\",\"colorbar\":{\"outlinewidth\":0,\"ticks\":\"\"}}],\"scatter\":[{\"fillpattern\":{\"fillmode\":\"overlay\",\"size\":10,\"solidity\":0.2},\"type\":\"scatter\"}],\"parcoords\":[{\"type\":\"parcoords\",\"line\":{\"colorbar\":{\"outlinewidth\":0,\"ticks\":\"\"}}}],\"scatterpolargl\":[{\"type\":\"scatterpolargl\",\"marker\":{\"colorbar\":{\"outlinewidth\":0,\"ticks\":\"\"}}}],\"bar\":[{\"error_x\":{\"color\":\"#2a3f5f\"},\"error_y\":{\"color\":\"#2a3f5f\"},\"marker\":{\"line\":{\"color\":\"#E5ECF6\",\"width\":0.5},\"pattern\":{\"fillmode\":\"overlay\",\"size\":10,\"solidity\":0.2}},\"type\":\"bar\"}],\"scattergeo\":[{\"type\":\"scattergeo\",\"marker\":{\"colorbar\":{\"outlinewidth\":0,\"ticks\":\"\"}}}],\"scatterpolar\":[{\"type\":\"scatterpolar\",\"marker\":{\"colorbar\":{\"outlinewidth\":0,\"ticks\":\"\"}}}],\"histogram\":[{\"marker\":{\"pattern\":{\"fillmode\":\"overlay\",\"size\":10,\"solidity\":0.2}},\"type\":\"histogram\"}],\"scattergl\":[{\"type\":\"scattergl\",\"marker\":{\"colorbar\":{\"outlinewidth\":0,\"ticks\":\"\"}}}],\"scatter3d\":[{\"type\":\"scatter3d\",\"line\":{\"colorbar\":{\"outlinewidth\":0,\"ticks\":\"\"}},\"marker\":{\"colorbar\":{\"outlinewidth\":0,\"ticks\":\"\"}}}],\"scattermapbox\":[{\"type\":\"scattermapbox\",\"marker\":{\"colorbar\":{\"outlinewidth\":0,\"ticks\":\"\"}}}],\"scatterternary\":[{\"type\":\"scatterternary\",\"marker\":{\"colorbar\":{\"outlinewidth\":0,\"ticks\":\"\"}}}],\"scattercarpet\":[{\"type\":\"scattercarpet\",\"marker\":{\"colorbar\":{\"outlinewidth\":0,\"ticks\":\"\"}}}],\"carpet\":[{\"aaxis\":{\"endlinecolor\":\"#2a3f5f\",\"gridcolor\":\"white\",\"linecolor\":\"white\",\"minorgridcolor\":\"white\",\"startlinecolor\":\"#2a3f5f\"},\"baxis\":{\"endlinecolor\":\"#2a3f5f\",\"gridcolor\":\"white\",\"linecolor\":\"white\",\"minorgridcolor\":\"white\",\"startlinecolor\":\"#2a3f5f\"},\"type\":\"carpet\"}],\"table\":[{\"cells\":{\"fill\":{\"color\":\"#EBF0F8\"},\"line\":{\"color\":\"white\"}},\"header\":{\"fill\":{\"color\":\"#C8D4E3\"},\"line\":{\"color\":\"white\"}},\"type\":\"table\"}],\"barpolar\":[{\"marker\":{\"line\":{\"color\":\"#E5ECF6\",\"width\":0.5},\"pattern\":{\"fillmode\":\"overlay\",\"size\":10,\"solidity\":0.2}},\"type\":\"barpolar\"}],\"pie\":[{\"automargin\":true,\"type\":\"pie\"}]},\"layout\":{\"autotypenumbers\":\"strict\",\"colorway\":[\"#636efa\",\"#EF553B\",\"#00cc96\",\"#ab63fa\",\"#FFA15A\",\"#19d3f3\",\"#FF6692\",\"#B6E880\",\"#FF97FF\",\"#FECB52\"],\"font\":{\"color\":\"#2a3f5f\"},\"hovermode\":\"closest\",\"hoverlabel\":{\"align\":\"left\"},\"paper_bgcolor\":\"white\",\"plot_bgcolor\":\"#E5ECF6\",\"polar\":{\"bgcolor\":\"#E5ECF6\",\"angularaxis\":{\"gridcolor\":\"white\",\"linecolor\":\"white\",\"ticks\":\"\"},\"radialaxis\":{\"gridcolor\":\"white\",\"linecolor\":\"white\",\"ticks\":\"\"}},\"ternary\":{\"bgcolor\":\"#E5ECF6\",\"aaxis\":{\"gridcolor\":\"white\",\"linecolor\":\"white\",\"ticks\":\"\"},\"baxis\":{\"gridcolor\":\"white\",\"linecolor\":\"white\",\"ticks\":\"\"},\"caxis\":{\"gridcolor\":\"white\",\"linecolor\":\"white\",\"ticks\":\"\"}},\"coloraxis\":{\"colorbar\":{\"outlinewidth\":0,\"ticks\":\"\"}},\"colorscale\":{\"sequential\":[[0.0,\"#0d0887\"],[0.1111111111111111,\"#46039f\"],[0.2222222222222222,\"#7201a8\"],[0.3333333333333333,\"#9c179e\"],[0.4444444444444444,\"#bd3786\"],[0.5555555555555556,\"#d8576b\"],[0.6666666666666666,\"#ed7953\"],[0.7777777777777778,\"#fb9f3a\"],[0.8888888888888888,\"#fdca26\"],[1.0,\"#f0f921\"]],\"sequentialminus\":[[0.0,\"#0d0887\"],[0.1111111111111111,\"#46039f\"],[0.2222222222222222,\"#7201a8\"],[0.3333333333333333,\"#9c179e\"],[0.4444444444444444,\"#bd3786\"],[0.5555555555555556,\"#d8576b\"],[0.6666666666666666,\"#ed7953\"],[0.7777777777777778,\"#fb9f3a\"],[0.8888888888888888,\"#fdca26\"],[1.0,\"#f0f921\"]],\"diverging\":[[0,\"#8e0152\"],[0.1,\"#c51b7d\"],[0.2,\"#de77ae\"],[0.3,\"#f1b6da\"],[0.4,\"#fde0ef\"],[0.5,\"#f7f7f7\"],[0.6,\"#e6f5d0\"],[0.7,\"#b8e186\"],[0.8,\"#7fbc41\"],[0.9,\"#4d9221\"],[1,\"#276419\"]]},\"xaxis\":{\"gridcolor\":\"white\",\"linecolor\":\"white\",\"ticks\":\"\",\"title\":{\"standoff\":15},\"zerolinecolor\":\"white\",\"automargin\":true,\"zerolinewidth\":2},\"yaxis\":{\"gridcolor\":\"white\",\"linecolor\":\"white\",\"ticks\":\"\",\"title\":{\"standoff\":15},\"zerolinecolor\":\"white\",\"automargin\":true,\"zerolinewidth\":2},\"scene\":{\"xaxis\":{\"backgroundcolor\":\"#E5ECF6\",\"gridcolor\":\"white\",\"linecolor\":\"white\",\"showbackground\":true,\"ticks\":\"\",\"zerolinecolor\":\"white\",\"gridwidth\":2},\"yaxis\":{\"backgroundcolor\":\"#E5ECF6\",\"gridcolor\":\"white\",\"linecolor\":\"white\",\"showbackground\":true,\"ticks\":\"\",\"zerolinecolor\":\"white\",\"gridwidth\":2},\"zaxis\":{\"backgroundcolor\":\"#E5ECF6\",\"gridcolor\":\"white\",\"linecolor\":\"white\",\"showbackground\":true,\"ticks\":\"\",\"zerolinecolor\":\"white\",\"gridwidth\":2}},\"shapedefaults\":{\"line\":{\"color\":\"#2a3f5f\"}},\"annotationdefaults\":{\"arrowcolor\":\"#2a3f5f\",\"arrowhead\":0,\"arrowwidth\":1},\"geo\":{\"bgcolor\":\"white\",\"landcolor\":\"#E5ECF6\",\"subunitcolor\":\"white\",\"showland\":true,\"showlakes\":true,\"lakecolor\":\"white\"},\"title\":{\"x\":0.05},\"mapbox\":{\"style\":\"light\"}}},\"xaxis\":{\"anchor\":\"y\",\"domain\":[0.0,1.0],\"title\":{\"text\":\"Income Buckets\"},\"categoryorder\":\"array\",\"categoryarray\":[30000,40000,50000,60000,70000,80000,90000,100000]},\"yaxis\":{\"anchor\":\"x\",\"domain\":[0.0,1.0],\"title\":{\"text\":\"# of people automated\"}},\"legend\":{\"title\":{\"text\":\"Minor Group Name\"},\"tracegroupgap\":0,\"font\":{\"size\":10},\"itemsizing\":\"constant\"},\"title\":{\"text\":\"# Jobs Automated in Each Income Bucket\"},\"barmode\":\"stack\",\"width\":1000,\"height\":800},                        {\"responsive\": true}                    ).then(function(){\n",
       "                            \n",
       "var gd = document.getElementById('6fdaad73-de1c-45fa-bb65-610effed6b2e');\n",
       "var x = new MutationObserver(function (mutations, observer) {{\n",
       "        var display = window.getComputedStyle(gd).display;\n",
       "        if (!display || display === 'none') {{\n",
       "            console.log([gd, 'removed!']);\n",
       "            Plotly.purge(gd);\n",
       "            observer.disconnect();\n",
       "        }}\n",
       "}});\n",
       "\n",
       "// Listen for the removal of the full notebook cells\n",
       "var notebookContainer = gd.closest('#notebook-container');\n",
       "if (notebookContainer) {{\n",
       "    x.observe(notebookContainer, {childList: true});\n",
       "}}\n",
       "\n",
       "// Listen for the clearing of the current output cell\n",
       "var outputEl = gd.closest('.output');\n",
       "if (outputEl) {{\n",
       "    x.observe(outputEl, {childList: true});\n",
       "}}\n",
       "\n",
       "                        })                };                });            </script>        </div>"
      ]
     },
     "metadata": {},
     "output_type": "display_data"
    }
   ],
   "source": [
    "# bins = [0, 30000, 35000, 40000, 45000, 50000, 55000, 60000, 65000, 70000, 75000, 80000, 85000, 90000, 95000, 100000]\n",
    "# labels = ['<30k', '30k-35k', '35k-40k', '40k-45k', '45k-50k', '50k-55k', '55k-60k', '60k-65k', '65k-70k', '70k-75k', '75k-80k', '80k-85k', '85k-90k', '90k-95k', '95k-100k']\n",
    "# bins = [0,30000, 40000, 50000, 60000, 70000, 80000, 90000, 100000]\n",
    "# labels = ['<30k', '30k-40k', '40k-50k', '50k-60k', '60k-70k', '70k-80k', '80k-90k', '90k-100k']\n",
    "\n",
    "\n",
    "# # Create a new column 'H_MEDIAN_US_Bucket' with the bucket labels\n",
    "# all_occupations['A_MEDIAN_US_Bucket'] = pd.cut(all_occupations['A_MEDIAN_US'], bins=bins, labels=labels, right=False)\n",
    "# labels = [30000, 40000, 50000, 60000, 70000, 80000, 90000, 100000]\n",
    "# all_occupations['A_MEDIAN_US_Bucket_Num'] = pd.cut(all_occupations['A_MEDIAN_US'], bins=bins, labels=labels, right=False)\n",
    "\n",
    "# # Group by 'H_MEDIAN_US_Bucket' and 'Detailed_Occupation'\n",
    "# grouped = all_occupations.groupby(['A_MEDIAN_US_Bucket','Minor Group Name']).agg({\n",
    "#     'occupation_automation_rating': 'sum',\n",
    "#     'Detailed Occupation': 'count',\n",
    "#     'TOT_EMP_US':'sum'\n",
    "# }).rename(columns={'Detailed Occupation': 'count'})\n",
    "\n",
    "# # # Calculate the percentage likelihood to be automated\n",
    "# grouped['percent_likely_automated'] = grouped['occupation_automation_rating'] / grouped['count']\n",
    "# grouped[\"# of people automated\"] = grouped[\"occupation_automation_rating\"]*grouped[\"TOT_EMP_US\"]\n",
    "# # Reset index to make the DataFrame easier to read\n",
    "# grouped = grouped.reset_index().dropna()\n",
    "# # Create the interactive plot\n",
    "# fig = px.bar(grouped, \n",
    "#              x='A_MEDIAN_US_Bucket', \n",
    "#              y='# of people automated', \n",
    "#              color='Minor Group Name', \n",
    "#              title='# Jobs Automated in Each Income Bucket',\n",
    "#              labels={'A_MEDIAN_US_Bucket': 'Income Buckets'})\n",
    "\n",
    "# # Update layout for better visualization\n",
    "# fig.update_layout(barmode='stack')\n",
    "# fig.update_layout(legend=dict(font=dict(size=10), itemsizing='constant'), width=1000, height=800)\n",
    "# fig.update_layout(xaxis={'categoryorder':'array', 'categoryarray':labels})\n",
    "\n",
    "# # Display the plot\n",
    "# fig.show()\n",
    "# pio.write_html(fig, file='# Jobs Automated in Each Income Bucket.html', auto_open=True)\n"
   ]
  },
  {
   "cell_type": "code",
   "execution_count": 43,
   "id": "44e0ffb2-edba-472b-8b48-7ec119a7e4f6",
   "metadata": {},
   "outputs": [],
   "source": [
    "# grouped = all_occupations.groupby(['A_MEDIAN_US_Bucket']).agg({\n",
    "#     '# of people automated':'sum',\n",
    "#     'TOT_EMP_US':'sum',\n",
    "#     'occupation_automation_rating': 'sum',\n",
    "#     'Detailed Occupation': 'count'\n",
    "# }).rename(columns={'Detailed Occupation': 'count'}).reset_index()\n",
    "\n",
    "# grouped['percent of occupations automated'] = grouped['occupation_automation_rating'] / grouped['count']\n",
    "# grouped['percent of people automated'] = grouped['# of people automated'] / grouped['TOT_EMP_US']\n",
    "\n",
    "# x = np.arange(len(grouped['A_MEDIAN_US_Bucket']))\n",
    "\n",
    "# fig, ax1 = plt.subplots(figsize=(10, 6))\n",
    "\n",
    "# # Scatter plot for percent of occupations automated\n",
    "# ax1.scatter(x, grouped['percent of occupations automated'], color='blue', label='Percent of Occupations Automated', s=100)\n",
    "# spl = make_interp_spline(x, grouped['percent of occupations automated'], k=3)\n",
    "# x_smooth = np.linspace(x.min(), x.max(), 500)\n",
    "# y_smooth = spl(x_smooth)\n",
    "# ax1.plot(x_smooth, y_smooth, color='blue', label='Smoothed Line (Percent of Occupations Automated)')\n",
    "# ax1.set_xlabel('Annual Median Salary Bucket')\n",
    "# ax1.set_ylabel('Percent of Occupations Automated and People Automated')\n",
    "# ax1.tick_params(axis='y')\n",
    "\n",
    "# # Scatter plot for percent of people automated\n",
    "# ax1.scatter(x, grouped[\"percent of people automated\"], color='green', label='Percent of People Automated', s=100)\n",
    "# spl2 = make_interp_spline(x, grouped[\"percent of people automated\"], k=3)\n",
    "# y_smooth2 = spl2(x_smooth)\n",
    "# ax1.plot(x_smooth, y_smooth2, color='green', label='Smoothed Line (Percent of People Automated)')\n",
    "\n",
    "# # Set y-axis limits to 0 to 0.4\n",
    "# ax1.set_ylim(0, 0.25)\n",
    "\n",
    "# # Adding labels and title\n",
    "# plt.xlabel('Income Buckets')\n",
    "# plt.ylabel('Percent Likely Automated')\n",
    "# plt.xticks(x, grouped['A_MEDIAN_US_Bucket'], rotation=45)\n",
    "# plt.title('Percent Automated across Income Buckets')\n",
    "# fig.tight_layout()\n",
    "# plt.grid(True)\n",
    "\n",
    "# # Adding legends\n",
    "# fig.legend(loc=\"upper left\", bbox_to_anchor=(0.1, 0.9))\n",
    "\n",
    "# plt.show()"
   ]
  },
  {
   "cell_type": "code",
   "execution_count": 29,
   "id": "4312de8e-17ba-4efb-bfa9-841051983e0f",
   "metadata": {},
   "outputs": [],
   "source": [
    "# df_activity = pd.read_csv(\"../output/EDA_data/startup_data_with_activities.csv\")\n",
    "occ_groups = list(df_activity.groupby(\"Major Group Name\")[\"onet_weight\"].sum().sort_values(ascending=False).index)\n",
    "colors = px.colors.qualitative.Plotly\n",
    "element_counts = df_activity[\"activity\"].value_counts()\n",
    "color_map_activity = {element: colors[i % len(colors)] for i, element in enumerate(element_counts.index)}\n",
    "\n",
    "element_counts = df_activity[\"skill\"].value_counts()\n",
    "color_map_skill = {element: colors[i % len(colors)] for i, element in enumerate(element_counts.index)}\n"
   ]
  },
  {
   "cell_type": "code",
   "execution_count": 44,
   "id": "ca00c732-d0c1-4cbf-a536-e157c135efee",
   "metadata": {},
   "outputs": [],
   "source": [
    "# occ_type = \"Major Group Name\"\n",
    "# occ_groups = list(df.groupby(occ_type)[\"onet_title\"].count().sort_values(ascending=False).index)\n",
    "\n",
    "# values = [\"Job Zone\",\"TOT_EMP_US\",\"H_MEDIAN_US\",\"A_MEDIAN_US\",\"activity\",\"skill\"]\n",
    "# for occ_group in occ_groups[:5]:\n",
    "#     for value in values[:1]:\n",
    "#         print(value)\n",
    "#         graph_df = df_activity[df_activity[\"Major Group Name\"] == occ_group]\n",
    "#         graph_df.head()\n",
    "#         if value == \"skill\":\n",
    "#             color_map = color_map_skill\n",
    "#         else:\n",
    "#             color_map = color_map_activity\n",
    "#         # Plot using Plotly with clusters\n",
    "#         fig = px.scatter(graph_df, x='onet_task_embedding_tsne1', y='example_task_embedding_tsne2',\n",
    "#                          color=value,\n",
    "#                          hover_data=['job'],\n",
    "#                          color_discrete_map=color_map,\n",
    "#                          labels={value: 'Value'},\n",
    "#                          range_color=(0,5)\n",
    "#                         )\n",
    "#         fig.update_traces(marker_size=10)                  \n",
    "        \n",
    "#         fig.update_layout(\n",
    "#             title=f\"{occ_group} {value}\", \n",
    "#             hovermode='closest',\n",
    "#             width=1000,  # Set the width of the figure\n",
    "#             height=600,  # Set the height of the figure\n",
    "#             legend=dict(font=dict(size=8)),\n",
    "#         )\n",
    "#         fig.show()"
   ]
  },
  {
   "cell_type": "code",
   "execution_count": 88,
   "id": "b75a2d0a-fb84-423e-b350-fd99ff08f185",
   "metadata": {},
   "outputs": [
    {
     "data": {
      "image/png": "[encoded data removed]",
      "text/plain": [
       "<Figure size 1000x600 with 1 Axes>"
      ]
     },
     "metadata": {},
     "output_type": "display_data"
    }
   ],
   "source": [
    "# all_occupations[\"Job Zone\"] = all_occupations[\"Job Zone\"].astype(\"int\")\n",
    "\n",
    "# grouped = all_occupations.groupby(['Job Zone']).agg({\n",
    "#     '# of people automated':'sum',\n",
    "#     'TOT_EMP_US':'sum',\n",
    "#     'occupation_automation_rating': 'sum',\n",
    "#     'Detailed Occupation': 'count'\n",
    "# }).rename(columns={'Detailed Occupation': 'count'}).reset_index()\n",
    "\n",
    "# grouped['percent of occupations automated'] = grouped['occupation_automation_rating'] / grouped['count']\n",
    "# grouped['percent of people automated'] = grouped['# of people automated'] / grouped['TOT_EMP_US']\n",
    "\n",
    "# x = grouped[\"Job Zone\"]\n",
    "\n",
    "# fig, ax1 = plt.subplots(figsize=(10, 6))\n",
    "\n",
    "# # Scatter plot for percent of occupations automated\n",
    "# ax1.scatter(x, grouped['percent of occupations automated'], color='blue', label='Percent of Occupations Automated', s=100)\n",
    "# spl = make_interp_spline(x, grouped['percent of occupations automated'], k=3)\n",
    "# x_smooth = np.linspace(x.min(), x.max(), 500)\n",
    "# y_smooth = spl(x_smooth)\n",
    "# ax1.plot(x_smooth, y_smooth, color='blue', label='Smoothed Line (Percent of Occupations Automated)')\n",
    "# ax1.set_xlabel('Amount of Preparation (1 - little to none), (5 - extensive)')\n",
    "# ax1.set_ylabel('Percent of Occupations Automated and People Automated')\n",
    "# ax1.tick_params(axis='y')\n",
    "\n",
    "# # Scatter plot for percent of people automated\n",
    "# ax1.scatter(x, grouped[\"percent of people automated\"], color='green', label='Percent of People Automated', s=100)\n",
    "# spl2 = make_interp_spline(x, grouped[\"percent of people automated\"], k=3)\n",
    "# y_smooth2 = spl2(x_smooth)\n",
    "# ax1.plot(x_smooth, y_smooth2, color='green', label='Smoothed Line (Percent of People Automated)')\n",
    "\n",
    "# # Set y-axis limits to 0 to 0.4\n",
    "# ax1.set_ylim(0, 0.25)\n",
    "\n",
    "# # Adding labels and title\n",
    "# plt.title('Percent of Occupations Automated and People Automated across Job Zones')\n",
    "# fig.tight_layout()\n",
    "# plt.grid(True)\n",
    "\n",
    "# # Adding legends\n",
    "# fig.legend(loc=\"upper left\", bbox_to_anchor=(0.1, 0.9))\n",
    "\n",
    "# plt.show()\n"
   ]
  },
  {
   "cell_type": "code",
   "execution_count": 45,
   "id": "b57aaa1a-6c8e-4ae5-916a-797b4d3ff14a",
   "metadata": {},
   "outputs": [],
   "source": [
    "\n",
    "# all_occupations[\"Required Level Of Education (Categories 1-12)\"] = all_occupations[\"Required Level Of Education (Categories 1-12)\"].apply(lambda x: int(x*2)/2 if not pd.isnull(x) else np.nan)\n",
    "\n",
    "# all_occupations[\"# of people automated\"] = all_occupations[\"occupation_automation_rating\"]*all_occupations[\"TOT_EMP_US\"]\n",
    "\n",
    "# grouped = all_occupations.groupby([\"Required Level Of Education (Categories 1-12)\"]).agg({\n",
    "#     '# of people automated':'sum',\n",
    "#     'TOT_EMP_US':'sum',\n",
    "#     'occupation_automation_rating': 'sum',\n",
    "#     'Detailed Occupation': 'count'\n",
    "# }).rename(columns={'Detailed Occupation': 'count'}).reset_index()\n",
    "\n",
    "# grouped['percent of occupations automated'] = grouped['occupation_automation_rating'] / grouped['count']\n",
    "# grouped['percent of people automated'] = grouped['# of people automated'] / grouped['TOT_EMP_US']\n",
    "\n",
    "# x = grouped[\"Required Level Of Education (Categories 1-12)\"]\n",
    "\n",
    "# fig, ax1 = plt.subplots(figsize=(10, 6))\n",
    "\n",
    "# # Scatter plot for percent of occupations automated\n",
    "# ax1.scatter(x, grouped['percent of occupations automated'], color='blue', label='Percent of Occupations Automated', s=100)\n",
    "# spl = make_interp_spline(x, grouped['percent of occupations automated'], k=3)\n",
    "# x_smooth = np.linspace(x.min(), x.max(), 500)\n",
    "# y_smooth = spl(x_smooth)\n",
    "# ax1.plot(x_smooth, y_smooth, color='blue', label='Smoothed Line (Percent of Occupations Automated)')\n",
    "# ax1.set_xlabel('Required Level Of Education (Categories 1-12)')\n",
    "# ax1.set_ylabel('Percent of Occupations Automated and People Automated')\n",
    "# ax1.tick_params(axis='y')\n",
    "\n",
    "# # Scatter plot for percent of people automated\n",
    "# ax1.scatter(x, grouped[\"percent of people automated\"], color='green', label='Percent of People Automated', s=100)\n",
    "# spl2 = make_interp_spline(x, grouped[\"percent of people automated\"], k=3)\n",
    "# y_smooth2 = spl2(x_smooth)\n",
    "# ax1.plot(x_smooth, y_smooth2, color='green', label='Smoothed Line (Percent of People Automated)')\n",
    "\n",
    "# # Set y-axis limits to 0 to 0.4\n",
    "# ax1.set_ylim(0, 0.27)\n",
    "\n",
    "# # Adding labels and title\n",
    "# plt.title('Percent of Occupations Automated and People Automated across Education Levels')\n",
    "# fig.tight_layout()\n",
    "# plt.grid(True)\n",
    "\n",
    "# # Adding legends\n",
    "# fig.legend(loc=\"upper left\", bbox_to_anchor=(0.1, 0.9))\n",
    "\n",
    "# plt.show()"
   ]
  },
  {
   "cell_type": "code",
   "execution_count": 46,
   "id": "b46b92bc-875f-4484-9935-896b4cb6b366",
   "metadata": {},
   "outputs": [],
   "source": [
    "# for value in [\"Job Zone\",\"Required Level Of Education (Categories 1-12)\"]:\n",
    "#     fig = px.scatter(\n",
    "#         all_occupations,\n",
    "#         x=value,\n",
    "#         y=\"occupation_automation_rating\",\n",
    "#         color=\"Broad Group Name\",\n",
    "#         title=\"Occupation Automation Rating across Education Levels\",\n",
    "#         labels={\n",
    "#             \"Required Level Of Education (Categories 1-12)\": \"Required Level Of Education (Categories 1-12)\",\n",
    "#             \"occupation_automation_rating\": \"Occupation Automation Rating\"\n",
    "#         }\n",
    "#     )\n",
    "    \n",
    "#     # Update layout to set y-axis limit and move the legend to the side\n",
    "#     fig.update_layout(\n",
    "#         yaxis=dict(range=[0, 1]),\n",
    "#         legend=dict(\n",
    "#             title=\"Broad Group Name\",\n",
    "#             yanchor=\"top\",\n",
    "#             y=0.99,\n",
    "#             xanchor=\"left\",\n",
    "#             x=1.02\n",
    "#         )\n",
    "#     )\n",
    "    \n",
    "#     # Show the plot\n",
    "#     fig.show()"
   ]
  },
  {
   "cell_type": "code",
   "execution_count": 47,
   "id": "e53cc121-2a7b-4591-9570-8be1ce0024a3",
   "metadata": {},
   "outputs": [],
   "source": [
    "# all_occupations = pd.read_csv(\"../output/EDA_data/all_occupations_automation.csv\")\n",
    "# grouped = all_tasks_activity.groupby(['Detailed Occupation', 'activity'])['Task'].count().reset_index()\n",
    "# top_activity = grouped.loc[grouped.groupby('Detailed Occupation')['Task'].idxmax()].reset_index(drop=True).drop(columns=[\"Task\"])\n",
    "# grouped = all_tasks_activity.groupby(['Detailed Occupation', 'skill'])['Task'].count().reset_index()\n",
    "# top_skill = grouped.loc[grouped.groupby('Detailed Occupation')['Task'].idxmax()].reset_index(drop=True).drop(columns=[\"Task\"])\n",
    "# all_occupations = all_occupations.merge(top_activity,on=\"Detailed Occupation\")\n",
    "# all_occupations = all_occupations.merge(top_skill,on=\"Detailed Occupation\")\n",
    "\n",
    "# values = [[\"occupation_automation_rating\",(0,.15)],[\"Job Zone\",(0,5)],[\"Required Level Of Education (Categories 1-12)\",(0,7)],[\"A_MEDIAN_US\",(0,150000)],[\"skill\",np.nan],[\"activity\",np.nan]]\n",
    "          \n",
    "# for value in values:\n",
    "#     color = value[1]\n",
    "#     value = value[0]\n",
    "#     fig = px.scatter(\n",
    "#         all_occupations,\n",
    "#         x=\"all_onet_occupations_embedding_tsne1\",\n",
    "#         y=\"all_onet_occupations_embedding_tsne2\",\n",
    "#         color=value,\n",
    "#         title=f\"Occupation versus {value}\",\n",
    "#         labels={\n",
    "#             \"occupation_automation_rating\": \"Occupation Automation Rating\"\n",
    "#         },\n",
    "#         range_color=color\n",
    "#     )\n",
    "    \n",
    "#     # Update layout to set y-axis limit and move the legend to the side\n",
    "#     fig.update_layout(\n",
    "#         legend=dict(\n",
    "#             title=\"Major Group Name\",\n",
    "#             yanchor=\"top\",\n",
    "#             y=0.99,\n",
    "#             xanchor=\"left\",\n",
    "#             x=1.02\n",
    "#         )\n",
    "#     )\n",
    "#     fig.update_layout(legend=dict(font=dict(size=10), itemsizing='constant'), width=800, height=600)\n",
    "    \n",
    "#     # Show the plot\n",
    "#     fig.show()"
   ]
  },
  {
   "cell_type": "code",
   "execution_count": 4,
   "id": "a583dc97-597a-421b-875a-621f78528880",
   "metadata": {},
   "outputs": [
    {
     "data": {
      "text/html": [
       "<div>\n",
       "<style scoped>\n",
       "    .dataframe tbody tr th:only-of-type {\n",
       "        vertical-align: middle;\n",
       "    }\n",
       "\n",
       "    .dataframe tbody tr th {\n",
       "        vertical-align: top;\n",
       "    }\n",
       "\n",
       "    .dataframe thead th {\n",
       "        text-align: right;\n",
       "    }\n",
       "</style>\n",
       "<table border=\"1\" class=\"dataframe\">\n",
       "  <thead>\n",
       "    <tr style=\"text-align: right;\">\n",
       "      <th></th>\n",
       "      <th>Task</th>\n",
       "      <th>Title</th>\n",
       "      <th>onet_weight</th>\n",
       "      <th>Detailed Occupation</th>\n",
       "      <th>Percent of workers</th>\n",
       "      <th>task_automation_rating</th>\n",
       "      <th>H_MEDIAN_US</th>\n",
       "      <th>A_MEDIAN_US</th>\n",
       "      <th>TOT_EMP_US</th>\n",
       "      <th>Major Group</th>\n",
       "      <th>...</th>\n",
       "      <th>skill_activity</th>\n",
       "      <th>activity_embedding</th>\n",
       "      <th>skill_embedding</th>\n",
       "      <th>skill_activity_embedding</th>\n",
       "      <th>activity_embedding_tsne1</th>\n",
       "      <th>activity_embedding_tsne2</th>\n",
       "      <th>skill_embedding_tsne1</th>\n",
       "      <th>skill_embedding_tsne2</th>\n",
       "      <th>activity__skill_embedding_tsne1</th>\n",
       "      <th>activity_skill_embedding_tsne2</th>\n",
       "    </tr>\n",
       "  </thead>\n",
       "  <tbody>\n",
       "    <tr>\n",
       "      <th>0</th>\n",
       "      <td>Accompany buyers during visits to and inspecti...</td>\n",
       "      <td>Real Estate Sales Agents</td>\n",
       "      <td>0.833333</td>\n",
       "      <td>41-9022</td>\n",
       "      <td>0.001195</td>\n",
       "      <td>1.0</td>\n",
       "      <td>24.0</td>\n",
       "      <td>49980.0</td>\n",
       "      <td>193010.0</td>\n",
       "      <td>41-0000</td>\n",
       "      <td>...</td>\n",
       "      <td>Reading Comprehension Providing Consultation a...</td>\n",
       "      <td>[0.018376313149929047, -0.0191972479224205, -0...</td>\n",
       "      <td>[0.001248258980922401, -0.0028923852369189262,...</td>\n",
       "      <td>[0.0177425779402256, -0.012033086270093918, -0...</td>\n",
       "      <td>-13.663583</td>\n",
       "      <td>54.819090</td>\n",
       "      <td>-51.417774</td>\n",
       "      <td>-37.176903</td>\n",
       "      <td>-43.176857</td>\n",
       "      <td>55.128464</td>\n",
       "    </tr>\n",
       "    <tr>\n",
       "      <th>1</th>\n",
       "      <td>Accompany buyers during visits to and inspecti...</td>\n",
       "      <td>Real Estate Sales Agents</td>\n",
       "      <td>0.833333</td>\n",
       "      <td>41-9022</td>\n",
       "      <td>0.001195</td>\n",
       "      <td>1.0</td>\n",
       "      <td>24.0</td>\n",
       "      <td>49980.0</td>\n",
       "      <td>193010.0</td>\n",
       "      <td>41-0000</td>\n",
       "      <td>...</td>\n",
       "      <td>Active Listening Providing Consultation and Ad...</td>\n",
       "      <td>[0.018362609669566154, -0.019215214997529984, ...</td>\n",
       "      <td>[-0.00400182418525219, 0.01651468500494957, -0...</td>\n",
       "      <td>[0.004215531051158905, -0.006146164610981941, ...</td>\n",
       "      <td>-6.184702</td>\n",
       "      <td>27.054934</td>\n",
       "      <td>-30.424196</td>\n",
       "      <td>-52.409603</td>\n",
       "      <td>-54.624233</td>\n",
       "      <td>48.321236</td>\n",
       "    </tr>\n",
       "    <tr>\n",
       "      <th>2</th>\n",
       "      <td>Accompany buyers during visits to and inspecti...</td>\n",
       "      <td>Real Estate Sales Agents</td>\n",
       "      <td>0.833333</td>\n",
       "      <td>41-9022</td>\n",
       "      <td>0.001195</td>\n",
       "      <td>1.0</td>\n",
       "      <td>24.0</td>\n",
       "      <td>49980.0</td>\n",
       "      <td>193010.0</td>\n",
       "      <td>41-0000</td>\n",
       "      <td>...</td>\n",
       "      <td>Writing Providing Consultation and Advice to O...</td>\n",
       "      <td>[0.018362609669566154, -0.019215214997529984, ...</td>\n",
       "      <td>[-0.00389291625469923, 0.006863066926598549, -...</td>\n",
       "      <td>[0.01621137745678425, 0.0010989004513248801, -...</td>\n",
       "      <td>-6.184702</td>\n",
       "      <td>27.054934</td>\n",
       "      <td>-30.424196</td>\n",
       "      <td>-52.409603</td>\n",
       "      <td>-54.624233</td>\n",
       "      <td>48.321236</td>\n",
       "    </tr>\n",
       "    <tr>\n",
       "      <th>3</th>\n",
       "      <td>Accompany buyers during visits to and inspecti...</td>\n",
       "      <td>Real Estate Sales Agents</td>\n",
       "      <td>0.833333</td>\n",
       "      <td>41-9022</td>\n",
       "      <td>0.001195</td>\n",
       "      <td>1.0</td>\n",
       "      <td>24.0</td>\n",
       "      <td>49980.0</td>\n",
       "      <td>193010.0</td>\n",
       "      <td>41-0000</td>\n",
       "      <td>...</td>\n",
       "      <td>Speaking Providing Consultation and Advice to ...</td>\n",
       "      <td>[0.018376007676124573, -0.01916535571217537, -...</td>\n",
       "      <td>[-0.011149774305522442, 0.026949692517518997, ...</td>\n",
       "      <td>[0.010580141097307205, 0.0005324220401234925, ...</td>\n",
       "      <td>-19.880928</td>\n",
       "      <td>31.280710</td>\n",
       "      <td>-25.122020</td>\n",
       "      <td>-37.641483</td>\n",
       "      <td>-24.145685</td>\n",
       "      <td>38.072712</td>\n",
       "    </tr>\n",
       "    <tr>\n",
       "      <th>4</th>\n",
       "      <td>Accompany buyers during visits to and inspecti...</td>\n",
       "      <td>Real Estate Sales Agents</td>\n",
       "      <td>0.833333</td>\n",
       "      <td>41-9022</td>\n",
       "      <td>0.001195</td>\n",
       "      <td>1.0</td>\n",
       "      <td>24.0</td>\n",
       "      <td>49980.0</td>\n",
       "      <td>193010.0</td>\n",
       "      <td>41-0000</td>\n",
       "      <td>...</td>\n",
       "      <td>Critical Thinking Providing Consultation and A...</td>\n",
       "      <td>[0.018362609669566154, -0.019215214997529984, ...</td>\n",
       "      <td>[-0.010979258455336094, 0.031712185591459274, ...</td>\n",
       "      <td>[0.004644608125090599, -0.00827916618436575, -...</td>\n",
       "      <td>-6.184702</td>\n",
       "      <td>27.054934</td>\n",
       "      <td>-30.424196</td>\n",
       "      <td>-52.409603</td>\n",
       "      <td>-54.624233</td>\n",
       "      <td>48.321236</td>\n",
       "    </tr>\n",
       "  </tbody>\n",
       "</table>\n",
       "<p>5 rows × 39 columns</p>\n",
       "</div>"
      ],
      "text/plain": [
       "                                                Task  \\\n",
       "0  Accompany buyers during visits to and inspecti...   \n",
       "1  Accompany buyers during visits to and inspecti...   \n",
       "2  Accompany buyers during visits to and inspecti...   \n",
       "3  Accompany buyers during visits to and inspecti...   \n",
       "4  Accompany buyers during visits to and inspecti...   \n",
       "\n",
       "                      Title  onet_weight Detailed Occupation  \\\n",
       "0  Real Estate Sales Agents     0.833333             41-9022   \n",
       "1  Real Estate Sales Agents     0.833333             41-9022   \n",
       "2  Real Estate Sales Agents     0.833333             41-9022   \n",
       "3  Real Estate Sales Agents     0.833333             41-9022   \n",
       "4  Real Estate Sales Agents     0.833333             41-9022   \n",
       "\n",
       "   Percent of workers  task_automation_rating  H_MEDIAN_US  A_MEDIAN_US  \\\n",
       "0            0.001195                     1.0         24.0      49980.0   \n",
       "1            0.001195                     1.0         24.0      49980.0   \n",
       "2            0.001195                     1.0         24.0      49980.0   \n",
       "3            0.001195                     1.0         24.0      49980.0   \n",
       "4            0.001195                     1.0         24.0      49980.0   \n",
       "\n",
       "   TOT_EMP_US Major Group  ...  \\\n",
       "0    193010.0     41-0000  ...   \n",
       "1    193010.0     41-0000  ...   \n",
       "2    193010.0     41-0000  ...   \n",
       "3    193010.0     41-0000  ...   \n",
       "4    193010.0     41-0000  ...   \n",
       "\n",
       "                                      skill_activity  \\\n",
       "0  Reading Comprehension Providing Consultation a...   \n",
       "1  Active Listening Providing Consultation and Ad...   \n",
       "2  Writing Providing Consultation and Advice to O...   \n",
       "3  Speaking Providing Consultation and Advice to ...   \n",
       "4  Critical Thinking Providing Consultation and A...   \n",
       "\n",
       "                                  activity_embedding  \\\n",
       "0  [0.018376313149929047, -0.0191972479224205, -0...   \n",
       "1  [0.018362609669566154, -0.019215214997529984, ...   \n",
       "2  [0.018362609669566154, -0.019215214997529984, ...   \n",
       "3  [0.018376007676124573, -0.01916535571217537, -...   \n",
       "4  [0.018362609669566154, -0.019215214997529984, ...   \n",
       "\n",
       "                                     skill_embedding  \\\n",
       "0  [0.001248258980922401, -0.0028923852369189262,...   \n",
       "1  [-0.00400182418525219, 0.01651468500494957, -0...   \n",
       "2  [-0.00389291625469923, 0.006863066926598549, -...   \n",
       "3  [-0.011149774305522442, 0.026949692517518997, ...   \n",
       "4  [-0.010979258455336094, 0.031712185591459274, ...   \n",
       "\n",
       "                            skill_activity_embedding activity_embedding_tsne1  \\\n",
       "0  [0.0177425779402256, -0.012033086270093918, -0...               -13.663583   \n",
       "1  [0.004215531051158905, -0.006146164610981941, ...                -6.184702   \n",
       "2  [0.01621137745678425, 0.0010989004513248801, -...                -6.184702   \n",
       "3  [0.010580141097307205, 0.0005324220401234925, ...               -19.880928   \n",
       "4  [0.004644608125090599, -0.00827916618436575, -...                -6.184702   \n",
       "\n",
       "   activity_embedding_tsne2  skill_embedding_tsne1  skill_embedding_tsne2  \\\n",
       "0                 54.819090             -51.417774             -37.176903   \n",
       "1                 27.054934             -30.424196             -52.409603   \n",
       "2                 27.054934             -30.424196             -52.409603   \n",
       "3                 31.280710             -25.122020             -37.641483   \n",
       "4                 27.054934             -30.424196             -52.409603   \n",
       "\n",
       "   activity__skill_embedding_tsne1  activity_skill_embedding_tsne2  \n",
       "0                       -43.176857                       55.128464  \n",
       "1                       -54.624233                       48.321236  \n",
       "2                       -54.624233                       48.321236  \n",
       "3                       -24.145685                       38.072712  \n",
       "4                       -54.624233                       48.321236  \n",
       "\n",
       "[5 rows x 39 columns]"
      ]
     },
     "execution_count": 4,
     "metadata": {},
     "output_type": "execute_result"
    }
   ],
   "source": [
    "all_tasks_activity.head()"
   ]
  },
  {
   "cell_type": "code",
   "execution_count": 48,
   "id": "9582b4fb-8f17-4879-bad3-b3fb8b036baf",
   "metadata": {},
   "outputs": [],
   "source": [
    "# values = [[\"task_automation_rating\",(0,.15)],[\"Job Zone\",(0,5)],[\"Required Level Of Education (Categories 1-12)\",(0,7)],[\"A_MEDIAN_US\",(0,150000)],[\"skill\",np.nan],[\"activity\",np.nan]]\n",
    "          \n",
    "# for value in values:\n",
    "#     color = value[1]\n",
    "#     value = value[0]\n",
    "#     fig = px.scatter(\n",
    "#         all_tasks_activity,\n",
    "#         x=\"all_onet_tasks_embedding_tsne1\",\n",
    "#         y=\"all_onet_tasks_embedding_tsne2\",\n",
    "#         color=value,\n",
    "#         title=f\"Task versus {value}\",\n",
    "#         range_color=color\n",
    "#     )\n",
    "    \n",
    "#     # Update layout to set y-axis limit and move the legend to the side\n",
    "#     fig.update_layout(\n",
    "#         legend=dict(\n",
    "#             title=\"Major Group Name\",\n",
    "#             yanchor=\"top\",\n",
    "#             y=0.99,\n",
    "#             xanchor=\"left\",\n",
    "#             x=1.02\n",
    "#         )\n",
    "#     )\n",
    "#     fig.update_layout(legend=dict(font=dict(size=10), itemsizing='constant'), width=800, height=600)\n",
    "    \n",
    "#     # Show the plot\n",
    "#     fig.show()"
   ]
  },
  {
   "cell_type": "code",
   "execution_count": 17,
   "id": "7c159035-742f-47b1-bc6e-04b0caca49f5",
   "metadata": {},
   "outputs": [
    {
     "name": "stderr",
     "output_type": "stream",
     "text": [
      "/var/folders/nf/2dvvlnxj5v962kwwzmpfj17h0000gn/T/ipykernel_31509/4098020632.py:1: UserWarning:\n",
      "\n",
      "Boolean Series key will be reindexed to match DataFrame index.\n",
      "\n"
     ]
    },
    {
     "data": {
      "text/plain": [
       "0        1.0\n",
       "1        1.0\n",
       "2        1.0\n",
       "3        1.0\n",
       "4        1.0\n",
       "        ... \n",
       "14515    0.0\n",
       "14516    0.0\n",
       "14517    0.0\n",
       "14518    0.0\n",
       "14519    0.0\n",
       "Name: task_automation_rating, Length: 1410, dtype: float64"
      ]
     },
     "execution_count": 17,
     "metadata": {},
     "output_type": "execute_result"
    }
   ],
   "source": [
    "all_tasks[all_tasks_activity[value].astype('float')>0.6][value]"
   ]
  },
  {
   "cell_type": "code",
   "execution_count": 28,
   "id": "290b2aef-0e5b-4fd0-ab96-56208bbdd52d",
   "metadata": {},
   "outputs": [
    {
     "data": {
      "text/html": [
       "<div>\n",
       "<style scoped>\n",
       "    .dataframe tbody tr th:only-of-type {\n",
       "        vertical-align: middle;\n",
       "    }\n",
       "\n",
       "    .dataframe tbody tr th {\n",
       "        vertical-align: top;\n",
       "    }\n",
       "\n",
       "    .dataframe thead th {\n",
       "        text-align: right;\n",
       "    }\n",
       "</style>\n",
       "<table border=\"1\" class=\"dataframe\">\n",
       "  <thead>\n",
       "    <tr style=\"text-align: right;\">\n",
       "      <th></th>\n",
       "      <th>Task</th>\n",
       "      <th>Title</th>\n",
       "      <th>onet_weight</th>\n",
       "      <th>Detailed Occupation</th>\n",
       "      <th>Percent of workers</th>\n",
       "      <th>task_automation_rating</th>\n",
       "      <th>H_MEDIAN_US</th>\n",
       "      <th>A_MEDIAN_US</th>\n",
       "      <th>TOT_EMP_US</th>\n",
       "      <th>Major Group</th>\n",
       "      <th>...</th>\n",
       "      <th>skill_activity</th>\n",
       "      <th>activity_embedding</th>\n",
       "      <th>skill_embedding</th>\n",
       "      <th>skill_activity_embedding</th>\n",
       "      <th>activity_embedding_tsne1</th>\n",
       "      <th>activity_embedding_tsne2</th>\n",
       "      <th>skill_embedding_tsne1</th>\n",
       "      <th>skill_embedding_tsne2</th>\n",
       "      <th>activity__skill_embedding_tsne1</th>\n",
       "      <th>activity_skill_embedding_tsne2</th>\n",
       "    </tr>\n",
       "  </thead>\n",
       "  <tbody>\n",
       "    <tr>\n",
       "      <th>0</th>\n",
       "      <td>Accompany buyers during visits to and inspecti...</td>\n",
       "      <td>Real Estate Sales Agents</td>\n",
       "      <td>0.833333</td>\n",
       "      <td>41-9022</td>\n",
       "      <td>0.001195</td>\n",
       "      <td>1.0</td>\n",
       "      <td>24.0</td>\n",
       "      <td>49980.0</td>\n",
       "      <td>193010.0</td>\n",
       "      <td>41-0000</td>\n",
       "      <td>...</td>\n",
       "      <td>Reading Comprehension Providing Consultation a...</td>\n",
       "      <td>[0.018376313149929047, -0.0191972479224205, -0...</td>\n",
       "      <td>[0.001248258980922401, -0.0028923852369189262,...</td>\n",
       "      <td>[0.0177425779402256, -0.012033086270093918, -0...</td>\n",
       "      <td>-13.663583</td>\n",
       "      <td>54.819090</td>\n",
       "      <td>-51.417774</td>\n",
       "      <td>-37.176903</td>\n",
       "      <td>-43.176857</td>\n",
       "      <td>55.128464</td>\n",
       "    </tr>\n",
       "    <tr>\n",
       "      <th>1</th>\n",
       "      <td>Accompany buyers during visits to and inspecti...</td>\n",
       "      <td>Real Estate Sales Agents</td>\n",
       "      <td>0.833333</td>\n",
       "      <td>41-9022</td>\n",
       "      <td>0.001195</td>\n",
       "      <td>1.0</td>\n",
       "      <td>24.0</td>\n",
       "      <td>49980.0</td>\n",
       "      <td>193010.0</td>\n",
       "      <td>41-0000</td>\n",
       "      <td>...</td>\n",
       "      <td>Active Listening Providing Consultation and Ad...</td>\n",
       "      <td>[0.018362609669566154, -0.019215214997529984, ...</td>\n",
       "      <td>[-0.00400182418525219, 0.01651468500494957, -0...</td>\n",
       "      <td>[0.004215531051158905, -0.006146164610981941, ...</td>\n",
       "      <td>-6.184702</td>\n",
       "      <td>27.054934</td>\n",
       "      <td>-30.424196</td>\n",
       "      <td>-52.409603</td>\n",
       "      <td>-54.624233</td>\n",
       "      <td>48.321236</td>\n",
       "    </tr>\n",
       "    <tr>\n",
       "      <th>2</th>\n",
       "      <td>Accompany buyers during visits to and inspecti...</td>\n",
       "      <td>Real Estate Sales Agents</td>\n",
       "      <td>0.833333</td>\n",
       "      <td>41-9022</td>\n",
       "      <td>0.001195</td>\n",
       "      <td>1.0</td>\n",
       "      <td>24.0</td>\n",
       "      <td>49980.0</td>\n",
       "      <td>193010.0</td>\n",
       "      <td>41-0000</td>\n",
       "      <td>...</td>\n",
       "      <td>Writing Providing Consultation and Advice to O...</td>\n",
       "      <td>[0.018362609669566154, -0.019215214997529984, ...</td>\n",
       "      <td>[-0.00389291625469923, 0.006863066926598549, -...</td>\n",
       "      <td>[0.01621137745678425, 0.0010989004513248801, -...</td>\n",
       "      <td>-6.184702</td>\n",
       "      <td>27.054934</td>\n",
       "      <td>-30.424196</td>\n",
       "      <td>-52.409603</td>\n",
       "      <td>-54.624233</td>\n",
       "      <td>48.321236</td>\n",
       "    </tr>\n",
       "    <tr>\n",
       "      <th>3</th>\n",
       "      <td>Accompany buyers during visits to and inspecti...</td>\n",
       "      <td>Real Estate Sales Agents</td>\n",
       "      <td>0.833333</td>\n",
       "      <td>41-9022</td>\n",
       "      <td>0.001195</td>\n",
       "      <td>1.0</td>\n",
       "      <td>24.0</td>\n",
       "      <td>49980.0</td>\n",
       "      <td>193010.0</td>\n",
       "      <td>41-0000</td>\n",
       "      <td>...</td>\n",
       "      <td>Speaking Providing Consultation and Advice to ...</td>\n",
       "      <td>[0.018376007676124573, -0.01916535571217537, -...</td>\n",
       "      <td>[-0.011149774305522442, 0.026949692517518997, ...</td>\n",
       "      <td>[0.010580141097307205, 0.0005324220401234925, ...</td>\n",
       "      <td>-19.880928</td>\n",
       "      <td>31.280710</td>\n",
       "      <td>-25.122020</td>\n",
       "      <td>-37.641483</td>\n",
       "      <td>-24.145685</td>\n",
       "      <td>38.072712</td>\n",
       "    </tr>\n",
       "    <tr>\n",
       "      <th>4</th>\n",
       "      <td>Accompany buyers during visits to and inspecti...</td>\n",
       "      <td>Real Estate Sales Agents</td>\n",
       "      <td>0.833333</td>\n",
       "      <td>41-9022</td>\n",
       "      <td>0.001195</td>\n",
       "      <td>1.0</td>\n",
       "      <td>24.0</td>\n",
       "      <td>49980.0</td>\n",
       "      <td>193010.0</td>\n",
       "      <td>41-0000</td>\n",
       "      <td>...</td>\n",
       "      <td>Critical Thinking Providing Consultation and A...</td>\n",
       "      <td>[0.018362609669566154, -0.019215214997529984, ...</td>\n",
       "      <td>[-0.010979258455336094, 0.031712185591459274, ...</td>\n",
       "      <td>[0.004644608125090599, -0.00827916618436575, -...</td>\n",
       "      <td>-6.184702</td>\n",
       "      <td>27.054934</td>\n",
       "      <td>-30.424196</td>\n",
       "      <td>-52.409603</td>\n",
       "      <td>-54.624233</td>\n",
       "      <td>48.321236</td>\n",
       "    </tr>\n",
       "    <tr>\n",
       "      <th>...</th>\n",
       "      <td>...</td>\n",
       "      <td>...</td>\n",
       "      <td>...</td>\n",
       "      <td>...</td>\n",
       "      <td>...</td>\n",
       "      <td>...</td>\n",
       "      <td>...</td>\n",
       "      <td>...</td>\n",
       "      <td>...</td>\n",
       "      <td>...</td>\n",
       "      <td>...</td>\n",
       "      <td>...</td>\n",
       "      <td>...</td>\n",
       "      <td>...</td>\n",
       "      <td>...</td>\n",
       "      <td>...</td>\n",
       "      <td>...</td>\n",
       "      <td>...</td>\n",
       "      <td>...</td>\n",
       "      <td>...</td>\n",
       "      <td>...</td>\n",
       "    </tr>\n",
       "    <tr>\n",
       "      <th>302335</th>\n",
       "      <td>Select locations and plan underground or surfa...</td>\n",
       "      <td>Mining and Geological Engineers, Including Min...</td>\n",
       "      <td>0.333333</td>\n",
       "      <td>17-2151</td>\n",
       "      <td>0.000046</td>\n",
       "      <td>1.0</td>\n",
       "      <td>47.0</td>\n",
       "      <td>97490.0</td>\n",
       "      <td>7390.0</td>\n",
       "      <td>17-0000</td>\n",
       "      <td>...</td>\n",
       "      <td>Critical Thinking Organizing, Planning, and Pr...</td>\n",
       "      <td>[0.027103010565042496, -0.006246859207749367, ...</td>\n",
       "      <td>[-0.010979258455336094, 0.031712185591459274, ...</td>\n",
       "      <td>[0.008430613204836845, 0.004530890844762325, -...</td>\n",
       "      <td>-31.485537</td>\n",
       "      <td>50.512630</td>\n",
       "      <td>-67.191414</td>\n",
       "      <td>-1.743640</td>\n",
       "      <td>18.963224</td>\n",
       "      <td>-49.390144</td>\n",
       "    </tr>\n",
       "    <tr>\n",
       "      <th>302336</th>\n",
       "      <td>Select locations and plan underground or surfa...</td>\n",
       "      <td>Mining and Geological Engineers, Including Min...</td>\n",
       "      <td>0.333333</td>\n",
       "      <td>17-2151</td>\n",
       "      <td>0.000046</td>\n",
       "      <td>1.0</td>\n",
       "      <td>47.0</td>\n",
       "      <td>97490.0</td>\n",
       "      <td>7390.0</td>\n",
       "      <td>17-0000</td>\n",
       "      <td>...</td>\n",
       "      <td>Complex Problem Solving Organizing, Planning, ...</td>\n",
       "      <td>[0.027145275846123695, -0.006220175884664059, ...</td>\n",
       "      <td>[0.022713636979460716, -0.016538802534341812, ...</td>\n",
       "      <td>[0.015874657779932022, -0.016913041472434998, ...</td>\n",
       "      <td>-13.517184</td>\n",
       "      <td>34.997692</td>\n",
       "      <td>-41.978058</td>\n",
       "      <td>-5.347779</td>\n",
       "      <td>27.349808</td>\n",
       "      <td>-29.534760</td>\n",
       "    </tr>\n",
       "    <tr>\n",
       "      <th>302337</th>\n",
       "      <td>Select locations and plan underground or surfa...</td>\n",
       "      <td>Mining and Geological Engineers, Including Min...</td>\n",
       "      <td>0.333333</td>\n",
       "      <td>17-2151</td>\n",
       "      <td>0.000046</td>\n",
       "      <td>1.0</td>\n",
       "      <td>47.0</td>\n",
       "      <td>97490.0</td>\n",
       "      <td>7390.0</td>\n",
       "      <td>17-0000</td>\n",
       "      <td>...</td>\n",
       "      <td>Judgment and Decision Making Organizing, Plann...</td>\n",
       "      <td>[0.027145275846123695, -0.006220175884664059, ...</td>\n",
       "      <td>[0.01418448705226183, -0.04066448286175728, -0...</td>\n",
       "      <td>[0.02217358723282814, -0.020927520468831062, -...</td>\n",
       "      <td>-13.517184</td>\n",
       "      <td>34.997692</td>\n",
       "      <td>-41.978058</td>\n",
       "      <td>-5.347779</td>\n",
       "      <td>27.349808</td>\n",
       "      <td>-29.534760</td>\n",
       "    </tr>\n",
       "    <tr>\n",
       "      <th>302338</th>\n",
       "      <td>Select locations and plan underground or surfa...</td>\n",
       "      <td>Mining and Geological Engineers, Including Min...</td>\n",
       "      <td>0.333333</td>\n",
       "      <td>17-2151</td>\n",
       "      <td>0.000046</td>\n",
       "      <td>1.0</td>\n",
       "      <td>47.0</td>\n",
       "      <td>97490.0</td>\n",
       "      <td>7390.0</td>\n",
       "      <td>17-0000</td>\n",
       "      <td>...</td>\n",
       "      <td>Systems Analysis Organizing, Planning, and Pri...</td>\n",
       "      <td>[0.027159346267580986, -0.006186706479638815, ...</td>\n",
       "      <td>[-0.01930052600800991, 0.027839433401823044, -...</td>\n",
       "      <td>[-0.0024656755849719048, -0.000368527282262221...</td>\n",
       "      <td>-38.508900</td>\n",
       "      <td>31.785673</td>\n",
       "      <td>-58.244490</td>\n",
       "      <td>-16.179546</td>\n",
       "      <td>9.170935</td>\n",
       "      <td>-27.022793</td>\n",
       "    </tr>\n",
       "    <tr>\n",
       "      <th>302339</th>\n",
       "      <td>Select locations and plan underground or surfa...</td>\n",
       "      <td>Mining and Geological Engineers, Including Min...</td>\n",
       "      <td>0.333333</td>\n",
       "      <td>17-2151</td>\n",
       "      <td>0.000046</td>\n",
       "      <td>1.0</td>\n",
       "      <td>47.0</td>\n",
       "      <td>97490.0</td>\n",
       "      <td>7390.0</td>\n",
       "      <td>17-0000</td>\n",
       "      <td>...</td>\n",
       "      <td>Time Management Organizing, Planning, and Prio...</td>\n",
       "      <td>[0.027145275846123695, -0.006220175884664059, ...</td>\n",
       "      <td>[0.003857853589579463, 0.00022051940322853625,...</td>\n",
       "      <td>[0.022430401295423508, -0.015907350927591324, ...</td>\n",
       "      <td>-13.517184</td>\n",
       "      <td>34.997692</td>\n",
       "      <td>-41.978058</td>\n",
       "      <td>-5.347779</td>\n",
       "      <td>27.349808</td>\n",
       "      <td>-29.534760</td>\n",
       "    </tr>\n",
       "  </tbody>\n",
       "</table>\n",
       "<p>9522 rows × 39 columns</p>\n",
       "</div>"
      ],
      "text/plain": [
       "                                                     Task  \\\n",
       "0       Accompany buyers during visits to and inspecti...   \n",
       "1       Accompany buyers during visits to and inspecti...   \n",
       "2       Accompany buyers during visits to and inspecti...   \n",
       "3       Accompany buyers during visits to and inspecti...   \n",
       "4       Accompany buyers during visits to and inspecti...   \n",
       "...                                                   ...   \n",
       "302335  Select locations and plan underground or surfa...   \n",
       "302336  Select locations and plan underground or surfa...   \n",
       "302337  Select locations and plan underground or surfa...   \n",
       "302338  Select locations and plan underground or surfa...   \n",
       "302339  Select locations and plan underground or surfa...   \n",
       "\n",
       "                                                    Title  onet_weight  \\\n",
       "0                                Real Estate Sales Agents     0.833333   \n",
       "1                                Real Estate Sales Agents     0.833333   \n",
       "2                                Real Estate Sales Agents     0.833333   \n",
       "3                                Real Estate Sales Agents     0.833333   \n",
       "4                                Real Estate Sales Agents     0.833333   \n",
       "...                                                   ...          ...   \n",
       "302335  Mining and Geological Engineers, Including Min...     0.333333   \n",
       "302336  Mining and Geological Engineers, Including Min...     0.333333   \n",
       "302337  Mining and Geological Engineers, Including Min...     0.333333   \n",
       "302338  Mining and Geological Engineers, Including Min...     0.333333   \n",
       "302339  Mining and Geological Engineers, Including Min...     0.333333   \n",
       "\n",
       "       Detailed Occupation  Percent of workers  task_automation_rating  \\\n",
       "0                  41-9022            0.001195                     1.0   \n",
       "1                  41-9022            0.001195                     1.0   \n",
       "2                  41-9022            0.001195                     1.0   \n",
       "3                  41-9022            0.001195                     1.0   \n",
       "4                  41-9022            0.001195                     1.0   \n",
       "...                    ...                 ...                     ...   \n",
       "302335             17-2151            0.000046                     1.0   \n",
       "302336             17-2151            0.000046                     1.0   \n",
       "302337             17-2151            0.000046                     1.0   \n",
       "302338             17-2151            0.000046                     1.0   \n",
       "302339             17-2151            0.000046                     1.0   \n",
       "\n",
       "        H_MEDIAN_US  A_MEDIAN_US  TOT_EMP_US Major Group  ...  \\\n",
       "0              24.0      49980.0    193010.0     41-0000  ...   \n",
       "1              24.0      49980.0    193010.0     41-0000  ...   \n",
       "2              24.0      49980.0    193010.0     41-0000  ...   \n",
       "3              24.0      49980.0    193010.0     41-0000  ...   \n",
       "4              24.0      49980.0    193010.0     41-0000  ...   \n",
       "...             ...          ...         ...         ...  ...   \n",
       "302335         47.0      97490.0      7390.0     17-0000  ...   \n",
       "302336         47.0      97490.0      7390.0     17-0000  ...   \n",
       "302337         47.0      97490.0      7390.0     17-0000  ...   \n",
       "302338         47.0      97490.0      7390.0     17-0000  ...   \n",
       "302339         47.0      97490.0      7390.0     17-0000  ...   \n",
       "\n",
       "                                           skill_activity  \\\n",
       "0       Reading Comprehension Providing Consultation a...   \n",
       "1       Active Listening Providing Consultation and Ad...   \n",
       "2       Writing Providing Consultation and Advice to O...   \n",
       "3       Speaking Providing Consultation and Advice to ...   \n",
       "4       Critical Thinking Providing Consultation and A...   \n",
       "...                                                   ...   \n",
       "302335  Critical Thinking Organizing, Planning, and Pr...   \n",
       "302336  Complex Problem Solving Organizing, Planning, ...   \n",
       "302337  Judgment and Decision Making Organizing, Plann...   \n",
       "302338  Systems Analysis Organizing, Planning, and Pri...   \n",
       "302339  Time Management Organizing, Planning, and Prio...   \n",
       "\n",
       "                                       activity_embedding  \\\n",
       "0       [0.018376313149929047, -0.0191972479224205, -0...   \n",
       "1       [0.018362609669566154, -0.019215214997529984, ...   \n",
       "2       [0.018362609669566154, -0.019215214997529984, ...   \n",
       "3       [0.018376007676124573, -0.01916535571217537, -...   \n",
       "4       [0.018362609669566154, -0.019215214997529984, ...   \n",
       "...                                                   ...   \n",
       "302335  [0.027103010565042496, -0.006246859207749367, ...   \n",
       "302336  [0.027145275846123695, -0.006220175884664059, ...   \n",
       "302337  [0.027145275846123695, -0.006220175884664059, ...   \n",
       "302338  [0.027159346267580986, -0.006186706479638815, ...   \n",
       "302339  [0.027145275846123695, -0.006220175884664059, ...   \n",
       "\n",
       "                                          skill_embedding  \\\n",
       "0       [0.001248258980922401, -0.0028923852369189262,...   \n",
       "1       [-0.00400182418525219, 0.01651468500494957, -0...   \n",
       "2       [-0.00389291625469923, 0.006863066926598549, -...   \n",
       "3       [-0.011149774305522442, 0.026949692517518997, ...   \n",
       "4       [-0.010979258455336094, 0.031712185591459274, ...   \n",
       "...                                                   ...   \n",
       "302335  [-0.010979258455336094, 0.031712185591459274, ...   \n",
       "302336  [0.022713636979460716, -0.016538802534341812, ...   \n",
       "302337  [0.01418448705226183, -0.04066448286175728, -0...   \n",
       "302338  [-0.01930052600800991, 0.027839433401823044, -...   \n",
       "302339  [0.003857853589579463, 0.00022051940322853625,...   \n",
       "\n",
       "                                 skill_activity_embedding  \\\n",
       "0       [0.0177425779402256, -0.012033086270093918, -0...   \n",
       "1       [0.004215531051158905, -0.006146164610981941, ...   \n",
       "2       [0.01621137745678425, 0.0010989004513248801, -...   \n",
       "3       [0.010580141097307205, 0.0005324220401234925, ...   \n",
       "4       [0.004644608125090599, -0.00827916618436575, -...   \n",
       "...                                                   ...   \n",
       "302335  [0.008430613204836845, 0.004530890844762325, -...   \n",
       "302336  [0.015874657779932022, -0.016913041472434998, ...   \n",
       "302337  [0.02217358723282814, -0.020927520468831062, -...   \n",
       "302338  [-0.0024656755849719048, -0.000368527282262221...   \n",
       "302339  [0.022430401295423508, -0.015907350927591324, ...   \n",
       "\n",
       "       activity_embedding_tsne1  activity_embedding_tsne2  \\\n",
       "0                    -13.663583                 54.819090   \n",
       "1                     -6.184702                 27.054934   \n",
       "2                     -6.184702                 27.054934   \n",
       "3                    -19.880928                 31.280710   \n",
       "4                     -6.184702                 27.054934   \n",
       "...                         ...                       ...   \n",
       "302335               -31.485537                 50.512630   \n",
       "302336               -13.517184                 34.997692   \n",
       "302337               -13.517184                 34.997692   \n",
       "302338               -38.508900                 31.785673   \n",
       "302339               -13.517184                 34.997692   \n",
       "\n",
       "        skill_embedding_tsne1  skill_embedding_tsne2  \\\n",
       "0                  -51.417774             -37.176903   \n",
       "1                  -30.424196             -52.409603   \n",
       "2                  -30.424196             -52.409603   \n",
       "3                  -25.122020             -37.641483   \n",
       "4                  -30.424196             -52.409603   \n",
       "...                       ...                    ...   \n",
       "302335             -67.191414              -1.743640   \n",
       "302336             -41.978058              -5.347779   \n",
       "302337             -41.978058              -5.347779   \n",
       "302338             -58.244490             -16.179546   \n",
       "302339             -41.978058              -5.347779   \n",
       "\n",
       "        activity__skill_embedding_tsne1  activity_skill_embedding_tsne2  \n",
       "0                            -43.176857                       55.128464  \n",
       "1                            -54.624233                       48.321236  \n",
       "2                            -54.624233                       48.321236  \n",
       "3                            -24.145685                       38.072712  \n",
       "4                            -54.624233                       48.321236  \n",
       "...                                 ...                             ...  \n",
       "302335                        18.963224                      -49.390144  \n",
       "302336                        27.349808                      -29.534760  \n",
       "302337                        27.349808                      -29.534760  \n",
       "302338                         9.170935                      -27.022793  \n",
       "302339                        27.349808                      -29.534760  \n",
       "\n",
       "[9522 rows x 39 columns]"
      ]
     },
     "execution_count": 28,
     "metadata": {},
     "output_type": "execute_result"
    }
   ],
   "source": [
    "k = all_tasks_activity[all_tasks_activity[value]>0]\n",
    "k = k[k[value]>0]\n",
    "k"
   ]
  },
  {
   "cell_type": "code",
   "execution_count": 49,
   "id": "99dea3d7-b250-4b08-bc48-c4e28833e2bb",
   "metadata": {},
   "outputs": [],
   "source": [
    "# values = [[\"Job Zone\",(0,5)],[\"Required Level Of Education (Categories 1-12)\",(0,7)],[\"A_MEDIAN_US\",(0,150000)],[\"skill\",np.nan],[\"activity\",np.nan]]\n",
    "          \n",
    "# for value in values:\n",
    "#     color = value[1]\n",
    "#     value = value[0]\n",
    "#     fig = px.scatter(\n",
    "#             all_tasks_activity[all_tasks_activity[\"task_automation_rating\"]>0],\n",
    "#             x=\"all_onet_tasks_embedding_tsne1\",\n",
    "#             y=\"all_onet_tasks_embedding_tsne2\",\n",
    "#             color=value,\n",
    "#             title=f\"Task versus {value}\",\n",
    "#             labels={\n",
    "#                 \"occupation_automation_rating\": \"Occupation Automation Rating\"\n",
    "#             },\n",
    "#             range_color=color\n",
    "#         )\n",
    "        \n",
    "#     # Update layout to set y-axis limit and move the legend to the side\n",
    "#     fig.update_layout(\n",
    "#         legend=dict(\n",
    "#             title=\"Major Group Name\",\n",
    "#             yanchor=\"top\",\n",
    "#             y=0.99,\n",
    "#             xanchor=\"left\",\n",
    "#             x=1.02\n",
    "#         )\n",
    "#     )\n",
    "#     fig.update_layout(legend=dict(font=dict(size=10), itemsizing='constant'), width=1000, height=600)\n",
    "    \n",
    "#     # Show the plot\n",
    "#     fig.show()"
   ]
  },
  {
   "cell_type": "code",
   "execution_count": 50,
   "id": "d4361505-2dd4-4290-9049-a33a098e8535",
   "metadata": {},
   "outputs": [],
   "source": [
    "\n",
    "# fig = px.scatter(\n",
    "#     all_occupations,\n",
    "#     x=\"all_onet_occupations_embedding_tsne1\",\n",
    "#     y=\"all_onet_occupations_embedding_tsne2\",\n",
    "#     color=\"activity\",\n",
    "#     title=\"Occupation Automation Rating across Education Levels\",\n",
    "#     labels={\n",
    "#         \"occupation_automation_rating\": \"Occupation Automation Rating\"\n",
    "#     },\n",
    "#     hover_data=['Title_x']\n",
    "# )\n",
    "\n",
    "# # Update layout to set y-axis limit and move the legend to the side\n",
    "# fig.update_layout(\n",
    "#     legend=dict(\n",
    "#         title=\"Major Group Name\",\n",
    "#         yanchor=\"top\",\n",
    "#         y=0.99,\n",
    "#         xanchor=\"left\",\n",
    "#         x=1.02\n",
    "#     )\n",
    "# )\n",
    "# fig.update_layout(legend=dict(font=dict(size=10), itemsizing='constant'), width=1000, height=800)\n",
    "\n",
    "# # Show the plot\n",
    "# fig.show()"
   ]
  },
  {
   "cell_type": "code",
   "execution_count": null,
   "id": "5c4320d1-7ab5-46fb-9f2e-dd1bcdfa7b2e",
   "metadata": {},
   "outputs": [],
   "source": [
    "all_occupations"
   ]
  }
 ],
 "metadata": {
  "kernelspec": {
   "display_name": "Python 3 (ipykernel)",
   "language": "python",
   "name": "python3"
  },
  "language_info": {
   "codemirror_mode": {
    "name": "ipython",
    "version": 3
   },
   "file_extension": ".py",
   "mimetype": "text/x-python",
   "name": "python",
   "nbconvert_exporter": "python",
   "pygments_lexer": "ipython3",
   "version": "3.11.7"
  }
 },
 "nbformat": 4,
 "nbformat_minor": 5
}
