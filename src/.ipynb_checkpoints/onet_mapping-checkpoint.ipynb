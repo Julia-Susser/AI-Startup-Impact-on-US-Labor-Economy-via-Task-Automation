{
 "cells": [
  {
   "cell_type": "code",
   "execution_count": 1,
   "metadata": {},
   "outputs": [],
   "source": [
    "import pandas as pd\n",
    "import numpy as np\n",
    "from decimal import Decimal\n",
    "from llms import gemini\n",
    "from llms import chatGPT\n",
    "from sklearn.metrics.pairwise import cosine_similarity\n",
    "from lemmatize import lemmatize\n",
    "x_chat = chatGPT()\n",
    "x_gemini = gemini()\n",
    "\n",
    "\n"
   ]
  },
  {
   "cell_type": "code",
   "execution_count": 4,
   "metadata": {},
   "outputs": [
    {
     "name": "stdout",
     "output_type": "stream",
     "text": [
      "Processing ('0', 0): Pika\n"
     ]
    }
   ],
   "source": [
    "sample_df = pd.read_csv('../output/df_with_examples.csv')\n",
    "job_cols = [[f\"Job{i}\",f\"Job{i}_title\"] for i in range(1,4)]\n",
    "for job in job_cols:\n",
    "    for col in job:\n",
    "        sample_df[col+\"_lemmatize\"] = sample_df[col].apply(lambda x: lemmatize(x))\n",
    "\n",
    "lemmatize_cols = [[f\"Job{i}_lemmatize\",f\"Job{i}_title_lemmatize\"] for i in range(1,4)]\n",
    "\n",
    "embedding_cols = []\n",
    "for i in range(1,4):  \n",
    "    embedding_cols += [f\"Job{i}_embedding\",f\"Job{i}_title_embedding\"]\n",
    "\n",
    "results = []\n",
    "for i, x in list(sample_df.iterrows())[0:1]:\n",
    "    name = x[\"organization name\"]\n",
    "    print(f\"Processing {str(i), len(results)}: {name}\")\n",
    "    job_embeddings = [name]\n",
    "    for job in lemmatize_cols: \n",
    "        for col in job:\n",
    "            if pd.isnull(x[col]):\n",
    "                job_embeddings.append(np.nan)\n",
    "                continue\n",
    "            job_embeddings.append(x_chat.get_embedding(x[col]))\n",
    "    results.append(job_embeddings)\n",
    "\n",
    "\n",
    "results_df = pd.DataFrame(results, columns=['organization name']+embedding_cols)\n",
    "sample_df = sample_df.merge(results_df, on=\"organization name\")\n",
    "\n",
    "sample_df.to_csv('../output/df_with_examples_embeddings.csv', index=False)"
   ]
  },
  {
   "cell_type": "code",
   "execution_count": 5,
   "metadata": {},
   "outputs": [],
   "source": [
    "df_exp = pd.read_csv('../output/onet/gpt_exposure_embeddings_lemmatize.csv')\n",
    "df_exp.task_embedding = df_exp.task_embedding.apply(lambda x: x.strip(\"[]\").split(\", \"))\n",
    "\n"
   ]
  },
  {
   "cell_type": "code",
   "execution_count": 6,
   "metadata": {},
   "outputs": [
    {
     "data": {
      "text/plain": [
       "(11582, 3072)"
      ]
     },
     "execution_count": 6,
     "metadata": {},
     "output_type": "execute_result"
    }
   ],
   "source": [
    "task_embeddings = []\n",
    "for x in df_exp.task_embedding:\n",
    "    task_embeddings.append([float(y) for y in x])\n",
    "df_exp.task_embedding = task_embeddings\n",
    "\n",
    "\n",
    "task_embeddings = np.array(task_embeddings)\n",
    "task_embeddings = np.vstack(task_embeddings)\n",
    "task_embeddings.shape"
   ]
  },
  {
   "cell_type": "code",
   "execution_count": 7,
   "metadata": {},
   "outputs": [],
   "source": [
    "df_exp.title_embedding = df_exp.title_embedding.apply(lambda x: x.strip(\"[]\").split(\", \"))\n",
    "title_embeddings = []\n",
    "for x in df_exp.task_embedding:\n",
    "    title_embeddings.append([float(y) for y in x])\n",
    "df_exp.title_embedding = title_embeddings\n"
   ]
  },
  {
   "cell_type": "code",
   "execution_count": 8,
   "metadata": {},
   "outputs": [],
   "source": [
    "sample_df = pd.read_csv('../output/df_with_examples_embeddings.csv')\n",
    "sample_df.loc[:, [\"Job1_ONET\", \"Job2_ONET\", \"Job3_ONET\"]] = 'N/A'\n",
    "\n",
    "# list(sample_df.Job1_embedding.apply(ast.literal_eval))\n",
    "for i in range(3):\n",
    "    sample_df[f\"Job{i+1}_embedding\"] = sample_df[f\"Job{i+1}_embedding\"].apply(lambda x: [float(y) for y in x.strip(\"[]\").split(\", \")])\n",
    "    sample_df[f\"Job{i+1}_title_embedding\"] = sample_df[f\"Job{i+1}_title_embedding\"].apply(lambda x: [float(y) for y in x.strip(\"[]\").split(\", \")])\n",
    "\n",
    "\n"
   ]
  },
  {
   "cell_type": "code",
   "execution_count": 9,
   "metadata": {},
   "outputs": [
    {
     "name": "stdout",
     "output_type": "stream",
     "text": [
      "***********************\n",
      "Processing 0\n",
      "Pika\n",
      "Pika is an AI-powered platform that allows users to create and edit films using captions and still images. The platform simplifies the video creation process by leveraging AI to generate dynamic visuals and sequences, making film production accessible to a wider audience.\n",
      "Animators Multimedia Artists create storyboards illustrate scene action sequence film television program medium\n",
      "\n",
      "Processing Example: A filmmaker uses Pika to create a quick storyboard for their short film, turning their initial script into a visual representation of the scenes, complete with dynamic camera angles and transitions. \n",
      "Job: Animators and Multimedia Artists that create storyboards to illustrate scenes or action sequences for films, television programs, or other media.\n",
      "\n",
      "Special effects artists and animators that apply story development, directing, cinematography, and editing to animation to create storyboards that show the flow of the animation and map out key scenes and characters.\n",
      "Special Effects Artists and Animators: Apply story development, directing, cinematography, and editing to animation to create storyboards that show the flow of the animation and map out key scenes and characters. Special effect artist animator apply story development direct cinematography edit animation create storyboards show flow animation map key scene character \n",
      "Cosine Similarity: 0.6625843205668418, Person Cosine Similarity: 0.5746210644396745\n",
      "Art directors that prepare detailed storyboards showing sequence and timing of story development for television production.\n",
      "Art Directors: Prepare detailed storyboards showing sequence and timing of story development for television production. Art director prepare detailed storyboards show sequence timing story development television production \n",
      "Cosine Similarity: 0.6511791259850079, Person Cosine Similarity: 0.4321929742977242\n",
      "Special effects artists and animators that script, plan, and create animated narrative sequences under tight deadlines, using computer software and hand drawing techniques.\n",
      "Special Effects Artists and Animators: Script, plan, and create animated narrative sequences under tight deadlines, using computer software and hand drawing techniques. Special effect artist animator script plan create animate narrative sequence tight deadline use computer software hand draw technique \n",
      "Cosine Similarity: 0.6193185760785405, Person Cosine Similarity: 0.5687875185830513\n",
      "**Saving Results**\n",
      "\n",
      "\n",
      "***********************\n",
      "\n",
      "\n"
     ]
    }
   ],
   "source": [
    "\n",
    "results = []\n",
    "# results = list(pd.read_csv(\"../output/onet_df.csv\").values)\n",
    "\n",
    "for index, row in list(sample_df.iterrows())[0:1]:\n",
    "    print(\"***********************\")\n",
    "    print(f\"Processing {index}\")\n",
    "    name = row[\"organization name\"]\n",
    "    print(name)\n",
    "    print(row[\"generated_description\"])\n",
    "        \n",
    "    job_results = []\n",
    "    for i in range(1): \n",
    "        print(row[f'Job{i+1}_lemmatize'])\n",
    "        example = row[f\"Example{i+1}\"]\n",
    "        job = row[f'Job{i+1}']\n",
    "        job_title = row[f'Job{i+1}_title']\n",
    "        print(f\"\\nProcessing Example: {example} \\nJob: {job}\\n\")\n",
    "\n",
    "        job_embedding = np.array(x_chat.get_embedding(row[f'Job{i+1}_lemmatize'])).reshape(1,-1)\n",
    "        job_title_embedding = np.array(row[f'Job{i+1}_title_embedding']).reshape(1,-1)\n",
    "        cosine_sim = cosine_similarity(job_embedding, task_embeddings, 'cosine')\n",
    "        \n",
    "        top3 = sorted(zip(cosine_sim[0], df_exp[['Title', 'Task', 'description','title_embedding']].values), reverse=True)[:3]\n",
    "        for cosine_sim_job, onet in top3:\n",
    "            onet_title_embedding = np.array([onet[4]])\n",
    "            cosine_sim_title = cosine_similarity(job_title_embedding, onet_title_embedding, 'cosine')[0][0]\n",
    "            print(f\"{onet[0]}: {onet[1]} {onet[2]} \\nCosine Similarity: {cosine_sim_job}, Person Cosine Similarity: {cosine_sim_title}\")\n",
    "            results.append([name,example,row[f\"situation{i+1}_conf_interval\"], row[f\"situation{i+1}_conf_interval_reasoning\"],job,onet[0],onet[1],job_title, cosine_sim_job,cosine_sim_title])\n",
    " \n",
    "\n",
    "    if index % 5 == 0:\n",
    "        print(\"**Saving Results**\\n\\n\")\n",
    "        onet_df = pd.DataFrame(results, columns=[\"organization_name\",\"example\",\"situation_conf_interval\", \"situation_conf_interval_reasoning\",\"job\",\"onet_title\",\"onet_task\",\"example_job_title\",\"task_similarity\", \"job_title_similarity\"])\n",
    "        onet_df.situation_conf_interval = onet_df.situation_conf_interval.astype(\"float\")\n",
    "        onet_df.to_csv(\"../output/onet_df.csv\", index=False)\n",
    "        \n",
    "    print(\"***********************\\n\\n\")\n"
   ]
  },
  {
   "cell_type": "code",
   "execution_count": 25,
   "metadata": {},
   "outputs": [],
   "source": [
    "onet_df.situation_conf_interval = onet_df.situation_conf_interval.astype(\"float\")\n",
    "onet_df.to_csv(\"../output/onet_df.csv\", index=False)"
   ]
  },
  {
   "cell_type": "code",
   "execution_count": 10,
   "metadata": {},
   "outputs": [],
   "source": [
    "s1 = \"Animators and Multimedia Artists that create storyboards to illustrate scenes or action sequences for films, television programs, or other media.\"\n",
    "s2 = \"Special effects artists and animators that apply story development, directing, cinematography, and editing to animation to create storyboards that show the flow of the animation and map out key scenes and characters.\"\n",
    "\n"
   ]
  },
  {
   "cell_type": "code",
   "execution_count": 89,
   "metadata": {},
   "outputs": [
    {
     "data": {
      "text/plain": [
       "'Computer Information Systems Managers'"
      ]
     },
     "execution_count": 89,
     "metadata": {},
     "output_type": "execute_result"
    }
   ],
   "source": [
    "row[f'Job{i+1}_title_lemmatize']"
   ]
  },
  {
   "cell_type": "code",
   "execution_count": null,
   "metadata": {},
   "outputs": [],
   "source": []
  },
  {
   "cell_type": "code",
   "execution_count": 12,
   "metadata": {},
   "outputs": [],
   "source": [
    "s1 = lemmatize(s1)\n",
    "s2 = lemmatize(s2)"
   ]
  },
  {
   "cell_type": "code",
   "execution_count": 80,
   "metadata": {},
   "outputs": [
    {
     "data": {
      "text/plain": [
       "\"Computer Information Systems Managers evaluate cloud service offering different provider select suitable option company 's need\""
      ]
     },
     "execution_count": 80,
     "metadata": {},
     "output_type": "execute_result"
    }
   ],
   "source": [
    "s2"
   ]
  },
  {
   "cell_type": "code",
   "execution_count": 13,
   "metadata": {},
   "outputs": [
    {
     "data": {
      "text/plain": [
       "0.6625274673336069"
      ]
     },
     "execution_count": 13,
     "metadata": {},
     "output_type": "execute_result"
    }
   ],
   "source": [
    "e1 = x_chat.get_embedding(s1)\n",
    "#e1 = df_exp[df_exp.description.str.contains(\"managers that evaluate the organization\")].task_embedding.iloc[0]\n",
    "e2 = x_chat.get_embedding(s2)\n",
    "\n",
    "#e2 = x_chat.get_embedding(\"Computer Information Systems Managers evaluate cloud service offering different provider select suitable option company 's need\")\n",
    "e1 = np.array(e1).reshape(1,-1)\n",
    "e2 = np.array(e2).reshape(1,-1)\n",
    "cosine_similarity(e1,e2, 'cosine')[0][0]"
   ]
  },
  {
   "cell_type": "code",
   "execution_count": 31,
   "metadata": {},
   "outputs": [
    {
     "ename": "NameError",
     "evalue": "name 'df_exp' is not defined",
     "output_type": "error",
     "traceback": [
      "\u001b[0;31m---------------------------------------------------------------------------\u001b[0m",
      "\u001b[0;31mNameError\u001b[0m                                 Traceback (most recent call last)",
      "Cell \u001b[0;32mIn[31], line 1\u001b[0m\n\u001b[0;32m----> 1\u001b[0m df_exp\u001b[38;5;241m.\u001b[39mhead()\n",
      "\u001b[0;31mNameError\u001b[0m: name 'df_exp' is not defined"
     ]
    }
   ],
   "source": [
    "df_exp.head()"
   ]
  },
  {
   "cell_type": "code",
   "execution_count": 87,
   "metadata": {},
   "outputs": [
    {
     "data": {
      "text/plain": [
       "'Computer Information Systems Managers'"
      ]
     },
     "execution_count": 87,
     "metadata": {},
     "output_type": "execute_result"
    }
   ],
   "source": [
    "onet[4]"
   ]
  },
  {
   "cell_type": "code",
   "execution_count": 52,
   "metadata": {},
   "outputs": [
    {
     "data": {
      "text/plain": [
       "array([[-0.0173959 , -0.00603199, -0.00627242, ..., -0.00116768,\n",
       "         0.01875363, -0.00108724]])"
      ]
     },
     "execution_count": 52,
     "metadata": {},
     "output_type": "execute_result"
    }
   ],
   "source": [
    "job_embedding"
   ]
  },
  {
   "cell_type": "code",
   "execution_count": 53,
   "metadata": {},
   "outputs": [
    {
     "data": {
      "text/plain": [
       "array([[-2.50668246e-02,  2.44815517e-02, -2.90852250e-03, ...,\n",
       "        -6.56648027e-03,  1.38823958e-02, -7.29361054e-05]])"
      ]
     },
     "execution_count": 53,
     "metadata": {},
     "output_type": "execute_result"
    }
   ],
   "source": [
    "e2"
   ]
  },
  {
   "cell_type": "code",
   "execution_count": null,
   "metadata": {},
   "outputs": [],
   "source": []
  }
 ],
 "metadata": {
  "kernelspec": {
   "display_name": "Python 3 (ipykernel)",
   "language": "python",
   "name": "python3"
  },
  "language_info": {
   "codemirror_mode": {
    "name": "ipython",
    "version": 3
   },
   "file_extension": ".py",
   "mimetype": "text/x-python",
   "name": "python",
   "nbconvert_exporter": "python",
   "pygments_lexer": "ipython3",
   "version": "3.11.7"
  }
 },
 "nbformat": 4,
 "nbformat_minor": 4
}
