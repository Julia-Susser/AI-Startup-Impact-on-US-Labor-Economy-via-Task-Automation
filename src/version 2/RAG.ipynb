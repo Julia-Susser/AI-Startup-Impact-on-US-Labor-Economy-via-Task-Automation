{
 "cells": [
  {
   "cell_type": "code",
   "execution_count": 82,
   "id": "b6712ce7-3edb-49e2-a4bf-f6f5f1dd7ba5",
   "metadata": {},
   "outputs": [],
   "source": [
    "from langchain_community.vectorstores import Chroma\n",
    "from langchain_openai import OpenAIEmbeddings\n",
    "\n",
    "embeddings = OpenAIEmbeddings()\n",
    "vectorstore = Chroma(\"langchain_store\", embeddings)"
   ]
  },
  {
   "cell_type": "code",
   "execution_count": 72,
   "id": "d3fb84ba-0571-4ae7-8de3-3e028b35b7f9",
   "metadata": {},
   "outputs": [],
   "source": [
    "df_exp = pd.read_csv('../output/onet/gpt_exposure_embeddings.csv')\n",
    "df_exp = df_exp.head()\n"
   ]
  },
  {
   "cell_type": "code",
   "execution_count": 83,
   "id": "330dac7e-51ce-421a-9521-0db63d53a061",
   "metadata": {},
   "outputs": [
    {
     "name": "stdout",
     "output_type": "stream",
     "text": [
      "Sales managers that resolve customer complaints regarding sales and service.\n",
      "Sales managers that monitor customer preferences to determine focus of sales efforts.\n",
      "Sales managers that determine price schedules and discount rates.\n",
      "Sales managers that review operational records and reports to project sales and determine profitability.\n",
      "Sales managers that confer or consult with department heads to plan advertising services and to secure information on equipment and customer specifications.\n"
     ]
    }
   ],
   "source": [
    "for description in df_exp.description:\n",
    "    print(description)\n",
    "    vectorstore.add_texts([description])"
   ]
  },
  {
   "cell_type": "code",
   "execution_count": 84,
   "id": "abefbcce-7805-4442-b128-36aae0776189",
   "metadata": {},
   "outputs": [
    {
     "data": {
      "text/plain": [
       "[Document(page_content='Sales managers that resolve customer complaints regarding sales and service.'),\n",
       " Document(page_content='Sales managers that resolve customer complaints regarding sales and service.'),\n",
       " Document(page_content='Sales managers that resolve customer complaints regarding sales and service.'),\n",
       " Document(page_content='Sales managers that monitor customer preferences to determine focus of sales efforts.')]"
      ]
     },
     "execution_count": 84,
     "metadata": {},
     "output_type": "execute_result"
    }
   ],
   "source": [
    "vectorstore.similarity_search('sales managers')"
   ]
  },
  {
   "cell_type": "code",
   "execution_count": 85,
   "id": "910c422f-47e5-4340-97f3-0c8dc07ea07f",
   "metadata": {},
   "outputs": [
    {
     "name": "stdout",
     "output_type": "stream",
     "text": [
      "input_variables=['context', 'question'] messages=[HumanMessagePromptTemplate(prompt=PromptTemplate(input_variables=['context', 'question'], template='these are example task: {context}.\\n\\n {question}.'))]\n",
      "1. Reviewing operational records and reports.\n",
      "2. Projecting sales.\n",
      "3. Determining profitability.\n",
      "4. Resolving customer complaints regarding sales and service.\n"
     ]
    }
   ],
   "source": [
    "from langchain.chat_models import ChatOpenAI\n",
    "from langchain.chains import RetrievalQA\n",
    "from langchain.chat_models import ChatOpenAI\n",
    "from langchain_core.output_parsers import StrOutputParser\n",
    "from langchain_core.runnables import RunnablePassthrough\n",
    "from langchain import hub\n",
    "from langchain_core.prompts import ChatPromptTemplate\n",
    "\n",
    "llm = ChatOpenAI(model_name=\"gpt-4\", temperature=0.7, max_tokens=2000)\n",
    "retriever = vectorstore.as_retriever()\n",
    "# prompt = hub.pull(\"rlm/rag-prompt\")\n",
    "\n",
    "def format_docs(docs):\n",
    "    return \"\\n\\n\".join(doc.page_content for doc in docs)\n",
    "\n",
    "\n",
    "\n",
    "prompt = ChatPromptTemplate.from_template(\n",
    "    \"these are example task: {context}.\\n\\n {question}.\"\n",
    ")\n",
    "\n",
    "print(prompt)\n",
    "\n",
    "# Configure the Rag (Retrieval-Augmented Generation) Chain\n",
    "rag_chain = (\n",
    "    {\"context\": retriever, \"question\": RunnablePassthrough()}\n",
    "    | prompt\n",
    "    | llm\n",
    "    | StrOutputParser()\n",
    ")\n",
    "\n",
    "\n",
    "\n",
    "prompt = \"what are tasks for sales managers\"\n",
    "print(rag_chain.invoke(prompt))\n",
    "\n",
    "\n"
   ]
  },
  {
   "cell_type": "code",
   "execution_count": null,
   "id": "51f7e1ad-2310-49ad-83a2-6d2716b54609",
   "metadata": {},
   "outputs": [],
   "source": [
    "#does vector store consider examples from prompt as well"
   ]
  }
 ],
 "metadata": {
  "kernelspec": {
   "display_name": "Python 3 (ipykernel)",
   "language": "python",
   "name": "python3"
  },
  "language_info": {
   "codemirror_mode": {
    "name": "ipython",
    "version": 3
   },
   "file_extension": ".py",
   "mimetype": "text/x-python",
   "name": "python",
   "nbconvert_exporter": "python",
   "pygments_lexer": "ipython3",
   "version": "3.11.7"
  }
 },
 "nbformat": 4,
 "nbformat_minor": 5
}
