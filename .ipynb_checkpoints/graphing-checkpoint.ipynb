{
 "cells": [
  {
   "cell_type": "code",
   "execution_count": 5,
   "id": "ff29811a-59df-45b5-95f9-63956961531c",
   "metadata": {},
   "outputs": [
    {
     "data": {
      "text/html": [
       "<div>\n",
       "<style scoped>\n",
       "    .dataframe tbody tr th:only-of-type {\n",
       "        vertical-align: middle;\n",
       "    }\n",
       "\n",
       "    .dataframe tbody tr th {\n",
       "        vertical-align: top;\n",
       "    }\n",
       "\n",
       "    .dataframe thead th {\n",
       "        text-align: right;\n",
       "    }\n",
       "</style>\n",
       "<table border=\"1\" class=\"dataframe\">\n",
       "  <thead>\n",
       "    <tr style=\"text-align: right;\">\n",
       "      <th></th>\n",
       "      <th>Unnamed: 0</th>\n",
       "      <th>organization name</th>\n",
       "      <th>num employees</th>\n",
       "      <th>founded date</th>\n",
       "      <th>description</th>\n",
       "      <th>industries</th>\n",
       "      <th>headquarters location</th>\n",
       "      <th>description.1</th>\n",
       "      <th>cb rank</th>\n",
       "      <th>postal code</th>\n",
       "      <th>...</th>\n",
       "      <th>Company</th>\n",
       "      <th>parsed_description</th>\n",
       "      <th>Tasks/Jobs</th>\n",
       "      <th>Industry</th>\n",
       "      <th>People Using Tool</th>\n",
       "      <th>openai_embedding_entire</th>\n",
       "      <th>cluster_label</th>\n",
       "      <th>generated_cluster_label</th>\n",
       "      <th>new_cluster_index</th>\n",
       "      <th>openai_embedding_industry</th>\n",
       "    </tr>\n",
       "  </thead>\n",
       "  <tbody>\n",
       "    <tr>\n",
       "      <th>0</th>\n",
       "      <td>0</td>\n",
       "      <td>Semilla Co. (Flou / Seed Academy)</td>\n",
       "      <td>1-10</td>\n",
       "      <td>2023-02-01</td>\n",
       "      <td>Semilla Co. (\"Seed\") is building the future of...</td>\n",
       "      <td>Consumer Software, Content Creators, EdTech, L...</td>\n",
       "      <td>Fort Lauderdale, Florida, United States</td>\n",
       "      <td>Building the future of the music and entertain...</td>\n",
       "      <td>43,978</td>\n",
       "      <td>33316</td>\n",
       "      <td>...</td>\n",
       "      <td>Semilla Co. (Flou / Seed Academy)</td>\n",
       "      <td>\\nTasks/Jobs: Music Business Management, Marke...</td>\n",
       "      <td>Music Business Management, Marketing, Business...</td>\n",
       "      <td>Music Industry</td>\n",
       "      <td>Music Creators, Entrepreneurs</td>\n",
       "      <td>[-0.004338318016380072, -0.021966977044939995,...</td>\n",
       "      <td>33</td>\n",
       "      <td>Music and Audio Production Tools</td>\n",
       "      <td>37</td>\n",
       "      <td>[0.026692301034927368, 0.013956104405224323, -...</td>\n",
       "    </tr>\n",
       "    <tr>\n",
       "      <th>1</th>\n",
       "      <td>1</td>\n",
       "      <td>NaijaBuzz300</td>\n",
       "      <td>1-10</td>\n",
       "      <td>2024-03-03</td>\n",
       "      <td>NaijaBuzz300's AI content tools helps artists ...</td>\n",
       "      <td>Marketing</td>\n",
       "      <td>Kaduna, Kaduna, Nigeria</td>\n",
       "      <td>Helping artists grow &amp; scale up their music ca...</td>\n",
       "      <td>—</td>\n",
       "      <td>902101</td>\n",
       "      <td>...</td>\n",
       "      <td>NaijaBuzz300</td>\n",
       "      <td>\\nTasks/Jobs: Music production, Songwriting, M...</td>\n",
       "      <td>Music production, Songwriting, Marketing, Prom...</td>\n",
       "      <td>Music</td>\n",
       "      <td>Musicians, Labels, Promoters</td>\n",
       "      <td>[-0.006098032463341951, -0.021988358348608017,...</td>\n",
       "      <td>33</td>\n",
       "      <td>Music and Audio Production Tools</td>\n",
       "      <td>37</td>\n",
       "      <td>[0.018011273816227913, -0.006110658403486013, ...</td>\n",
       "    </tr>\n",
       "    <tr>\n",
       "      <th>2</th>\n",
       "      <td>2</td>\n",
       "      <td>SONOTELLER</td>\n",
       "      <td>1-10</td>\n",
       "      <td>2023-02-01</td>\n",
       "      <td>SONOTELLER is an AI engine capable of 'listeni...</td>\n",
       "      <td>Artificial Intelligence (AI), Music, SaaS, Sof...</td>\n",
       "      <td>Madrid, Madrid, Spain</td>\n",
       "      <td>SaaS AI music and lyrics analysis</td>\n",
       "      <td>240,839</td>\n",
       "      <td>28005</td>\n",
       "      <td>...</td>\n",
       "      <td>SONOTELLER</td>\n",
       "      <td>\\nTasks/Jobs: Music analysis, Playlist creatio...</td>\n",
       "      <td>Music analysis, Playlist creation, Music disco...</td>\n",
       "      <td>Music technology</td>\n",
       "      <td>Music enthusiasts, Music professionals</td>\n",
       "      <td>[-0.012888072989881039, -0.0282617025077343, -...</td>\n",
       "      <td>33</td>\n",
       "      <td>Music and Audio Production Tools</td>\n",
       "      <td>37</td>\n",
       "      <td>[-0.01105504296720028, -0.008627908304333687, ...</td>\n",
       "    </tr>\n",
       "    <tr>\n",
       "      <th>3</th>\n",
       "      <td>3</td>\n",
       "      <td>AISong</td>\n",
       "      <td>1-10</td>\n",
       "      <td>2024-03-01</td>\n",
       "      <td>AISong.Fun is a platform that uses the AI to p...</td>\n",
       "      <td>Artificial Intelligence (AI), Music</td>\n",
       "      <td>—</td>\n",
       "      <td>Free AI Song, Music &amp; Lyrics Generator</td>\n",
       "      <td>—</td>\n",
       "      <td>—</td>\n",
       "      <td>...</td>\n",
       "      <td>AISong</td>\n",
       "      <td>\\nTasks/Jobs: Song composition, Music producti...</td>\n",
       "      <td>Song composition, Music production, Lyrics gen...</td>\n",
       "      <td>Music creation</td>\n",
       "      <td>Artists, Creators, Musicians</td>\n",
       "      <td>[0.005447404459118843, -0.03911559656262398, -...</td>\n",
       "      <td>33</td>\n",
       "      <td>Music and Audio Production Tools</td>\n",
       "      <td>37</td>\n",
       "      <td>[-0.012054158374667168, -0.043048035353422165,...</td>\n",
       "    </tr>\n",
       "    <tr>\n",
       "      <th>4</th>\n",
       "      <td>4</td>\n",
       "      <td>SoundAI</td>\n",
       "      <td>1-10</td>\n",
       "      <td>2023-04-17</td>\n",
       "      <td>—</td>\n",
       "      <td>Artificial Intelligence (AI), Information Tech...</td>\n",
       "      <td>Dubai, Dubai, United Arab Emirates</td>\n",
       "      <td>is an artificial intelligence service that is ...</td>\n",
       "      <td>330,604</td>\n",
       "      <td>—</td>\n",
       "      <td>...</td>\n",
       "      <td>SoundAI</td>\n",
       "      <td>\\nTasks/Jobs: Music generation, Sound design, ...</td>\n",
       "      <td>Music generation, Sound design, Audio mixing, ...</td>\n",
       "      <td>Music production</td>\n",
       "      <td>Musicians, Producers</td>\n",
       "      <td>[-0.0040488275699317455, -0.010498875752091408...</td>\n",
       "      <td>33</td>\n",
       "      <td>Music and Audio Production Tools</td>\n",
       "      <td>37</td>\n",
       "      <td>[-0.008610591292381287, -0.0062893228605389595...</td>\n",
       "    </tr>\n",
       "  </tbody>\n",
       "</table>\n",
       "<p>5 rows × 37 columns</p>\n",
       "</div>"
      ],
      "text/plain": [
       "   Unnamed: 0                  organization name num employees founded date  \\\n",
       "0           0  Semilla Co. (Flou / Seed Academy)          1-10   2023-02-01   \n",
       "1           1                       NaijaBuzz300          1-10   2024-03-03   \n",
       "2           2                         SONOTELLER          1-10   2023-02-01   \n",
       "3           3                             AISong          1-10   2024-03-01   \n",
       "4           4                            SoundAI          1-10   2023-04-17   \n",
       "\n",
       "                                         description  \\\n",
       "0  Semilla Co. (\"Seed\") is building the future of...   \n",
       "1  NaijaBuzz300's AI content tools helps artists ...   \n",
       "2  SONOTELLER is an AI engine capable of 'listeni...   \n",
       "3  AISong.Fun is a platform that uses the AI to p...   \n",
       "4                                                  —   \n",
       "\n",
       "                                          industries  \\\n",
       "0  Consumer Software, Content Creators, EdTech, L...   \n",
       "1                                          Marketing   \n",
       "2  Artificial Intelligence (AI), Music, SaaS, Sof...   \n",
       "3                Artificial Intelligence (AI), Music   \n",
       "4  Artificial Intelligence (AI), Information Tech...   \n",
       "\n",
       "                     headquarters location  \\\n",
       "0  Fort Lauderdale, Florida, United States   \n",
       "1                  Kaduna, Kaduna, Nigeria   \n",
       "2                    Madrid, Madrid, Spain   \n",
       "3                                        —   \n",
       "4       Dubai, Dubai, United Arab Emirates   \n",
       "\n",
       "                                       description.1  cb rank postal code  \\\n",
       "0  Building the future of the music and entertain...   43,978       33316   \n",
       "1  Helping artists grow & scale up their music ca...        —      902101   \n",
       "2                  SaaS AI music and lyrics analysis  240,839       28005   \n",
       "3             Free AI Song, Music & Lyrics Generator        —           —   \n",
       "4  is an artificial intelligence service that is ...  330,604           —   \n",
       "\n",
       "   ...                            Company  \\\n",
       "0  ...  Semilla Co. (Flou / Seed Academy)   \n",
       "1  ...                       NaijaBuzz300   \n",
       "2  ...                         SONOTELLER   \n",
       "3  ...                             AISong   \n",
       "4  ...                            SoundAI   \n",
       "\n",
       "                                  parsed_description  \\\n",
       "0  \\nTasks/Jobs: Music Business Management, Marke...   \n",
       "1  \\nTasks/Jobs: Music production, Songwriting, M...   \n",
       "2  \\nTasks/Jobs: Music analysis, Playlist creatio...   \n",
       "3  \\nTasks/Jobs: Song composition, Music producti...   \n",
       "4  \\nTasks/Jobs: Music generation, Sound design, ...   \n",
       "\n",
       "                                          Tasks/Jobs           Industry  \\\n",
       "0  Music Business Management, Marketing, Business...     Music Industry   \n",
       "1  Music production, Songwriting, Marketing, Prom...              Music   \n",
       "2  Music analysis, Playlist creation, Music disco...   Music technology   \n",
       "3  Song composition, Music production, Lyrics gen...     Music creation   \n",
       "4  Music generation, Sound design, Audio mixing, ...  Music production    \n",
       "\n",
       "                         People Using Tool  \\\n",
       "0           Music Creators, Entrepreneurs    \n",
       "1            Musicians, Labels, Promoters    \n",
       "2  Music enthusiasts, Music professionals    \n",
       "3             Artists, Creators, Musicians   \n",
       "4                    Musicians, Producers    \n",
       "\n",
       "                             openai_embedding_entire cluster_label  \\\n",
       "0  [-0.004338318016380072, -0.021966977044939995,...            33   \n",
       "1  [-0.006098032463341951, -0.021988358348608017,...            33   \n",
       "2  [-0.012888072989881039, -0.0282617025077343, -...            33   \n",
       "3  [0.005447404459118843, -0.03911559656262398, -...            33   \n",
       "4  [-0.0040488275699317455, -0.010498875752091408...            33   \n",
       "\n",
       "            generated_cluster_label new_cluster_index  \\\n",
       "0  Music and Audio Production Tools                37   \n",
       "1  Music and Audio Production Tools                37   \n",
       "2  Music and Audio Production Tools                37   \n",
       "3  Music and Audio Production Tools                37   \n",
       "4  Music and Audio Production Tools                37   \n",
       "\n",
       "                           openai_embedding_industry  \n",
       "0  [0.026692301034927368, 0.013956104405224323, -...  \n",
       "1  [0.018011273816227913, -0.006110658403486013, ...  \n",
       "2  [-0.01105504296720028, -0.008627908304333687, ...  \n",
       "3  [-0.012054158374667168, -0.043048035353422165,...  \n",
       "4  [-0.008610591292381287, -0.0062893228605389595...  \n",
       "\n",
       "[5 rows x 37 columns]"
      ]
     },
     "execution_count": 5,
     "metadata": {},
     "output_type": "execute_result"
    }
   ],
   "source": [
    "import ast\n",
    "import pandas as pd\n",
    "import numpy as np\n",
    "from dotenv import load_dotenv\n",
    "import os\n",
    "from os import getenv\n",
    "from openai import OpenAI\n",
    "import pathlib\n",
    "import textwrap\n",
    "import google.generativeai as genai\n",
    "import time\n",
    "\n",
    "load_dotenv(\"../.env\",override=True)\n",
    "GOOGLE_API_KEY = getenv(\"GEMINI_API_KEY\")\n",
    "OPENAI_API_KEY = getenv(\"OPENAI_API_KEY\")\n",
    "\n",
    "\n",
    "sample_df = pd.read_csv(\"./output/sample_df_current.csv\")\n",
    "sample_df['openai_embedding_entire'] = sample_df['openai_embedding_entire'].apply(ast.literal_eval)\n",
    "sample_df['openai_embedding_industry'] = sample_df['openai_embedding_industry'].apply(ast.literal_eval)\n",
    "sample_df = sample_df.dropna(subset=['parsed_description'])\n",
    "sample_df.head()"
   ]
  },
  {
   "cell_type": "code",
   "execution_count": 98,
   "id": "60550d53-b67c-4f20-b36e-6b5ad2a4a680",
   "metadata": {},
   "outputs": [],
   "source": [
    "sorted_labels = \"\"\"High-Performance Computing Solutions\n",
    "\n",
    "Advanced Cybersecurity Solutions\n",
    "\n",
    "Data Management and Quality Control\n",
    "\n",
    "Retail Supply Chain Management\n",
    "\n",
    "Industrial Sales Automation\n",
    "\n",
    "Data Insights and Analytics\n",
    "\n",
    "Customer Data Analysis\n",
    "\n",
    "Image Enhancement Solutions\n",
    "\n",
    "Marketing Data Analytics\n",
    "\n",
    "Sales and Marketing Outreach\n",
    "\n",
    "Financial Management Systems\n",
    "\n",
    "Industrial Sourcing Solutions\n",
    "\n",
    "Decentralized Tech and Identity\n",
    "\n",
    "Tax and Accounting Automation\n",
    "\n",
    "Insurance Management Services\n",
    "\n",
    "Venture Capital and Financing\n",
    "\n",
    "Real Estate Investment Analysis\n",
    "\n",
    "Regulatory Compliance and Risk Management\n",
    "\n",
    "Legal and Technological Automation\n",
    "\n",
    "Document Management Automation\n",
    "\n",
    "Project and Team Management\n",
    "\n",
    "Social and Event Planning Tools\n",
    "\n",
    "Mobile and Software Development Technologies\n",
    "\n",
    "E-commerce and Retail Strategies\n",
    "\n",
    "E-commerce Management\n",
    "\n",
    "AI Research and Development\n",
    "\n",
    "AI Toolset for Developers\n",
    "\n",
    "AI Systems Development\n",
    "\n",
    "AI-Driven Business Strategies\n",
    "\n",
    "Market and Business Strategy\n",
    "\n",
    "Automated Business Systems\n",
    "\n",
    "No-Code AI Platforms\n",
    "\n",
    "Web Development and AI tools\n",
    "\n",
    "Development Tools Automation\n",
    "\n",
    "Tech and Blockchain News\n",
    "\n",
    "Social Media and Digital Insights\n",
    "\n",
    "Social Media and Marketing Strategies\n",
    "\n",
    "Client Management in Legal Services\n",
    "\n",
    "Healthcare Data Management Systems\n",
    "\n",
    "Healthcare Workflow Optimization\n",
    "\n",
    "Sustainability and Non-Profit Solutions\n",
    "\n",
    "Biotechnological Research\n",
    "\n",
    "Personalized Wellness Programs\n",
    "\n",
    "Mental Health and Therapy\n",
    "\n",
    "Personal Growth and Development\n",
    "\n",
    "Wellness and Sleep Health\n",
    "\n",
    "Educational Technologies and Learning Platforms\n",
    "\n",
    "Gamification in Education\n",
    "\n",
    "Language and Speech Learning\n",
    "\n",
    "Technical Writing and Proposals\n",
    "\n",
    "Creative Business Tools\n",
    "\n",
    "Creative Content and Media Tools\n",
    "\n",
    "Animation and Visual Effects Tools\n",
    "\n",
    "HR and Recruitment Automation\n",
    "\n",
    "Career Development Tools\n",
    "\n",
    "Solutions for Industrial Automation\n",
    "\n",
    "Restaurant and Hospitality Services\n",
    "\n",
    "Travel Booking and Planning Systems\n",
    "\n",
    "Hospitality and Travel Operations\n",
    "\n",
    "Home and Interior Design\n",
    "\n",
    "Construction and Workflow Automation\n",
    "\n",
    "Music and Audio Production Tools\n",
    "\n",
    "Veterinary and Pet Care Technologies\"\"\"\n",
    "\n"
   ]
  },
  {
   "cell_type": "code",
   "execution_count": 99,
   "id": "dae690be-73e4-4fb9-a2fc-9541620b888a",
   "metadata": {},
   "outputs": [],
   "source": [
    "#sorted_labels = list(grouped_clusters.sort_values(\"cluster_label\").reset_index().generated_cluster_label)\n",
    "if \"new_cluster_index\" in sample_df.columns:\n",
    "    sample_df = sample_df.drop(columns=[\"new_cluster_index\"])\n",
    "\n",
    "sorted_generated_labels = pd.DataFrame({\"generated_cluster_label\": sorted_labels.split(\"\\n\\n\")}).reset_index().rename({\"index\":\"new_cluster_index\"},axis=1)\n",
    "sample_df = sample_df.merge(sorted_generated_labels, on=\"generated_cluster_label\", how=\"left\")\n"
   ]
  },
  {
   "cell_type": "code",
   "execution_count": 110,
   "id": "18de49eb-1c5a-4385-8902-7b7f8e6a86fe",
   "metadata": {},
   "outputs": [
    {
     "data": {
      "application/vnd.plotly.v1+json": {
       "config": {
        "plotlyServerURL": "https://plot.ly"
       },
       "data": [
        {
         "customdata": [
          [
           "Music and Audio Production Tools"
          ],
          [
           "Music and Audio Production Tools"
          ],
          [
           "Music and Audio Production Tools"
          ],
          [
           "Music and Audio Production Tools"
          ],
          [
           "Music and Audio Production Tools"
          ],
          [
           "Music and Audio Production Tools"
          ],
          [
           "Music and Audio Production Tools"
          ],
          [
           "Music and Audio Production Tools"
          ],
          [
           "Music and Audio Production Tools"
          ],
          [
           "Music and Audio Production Tools"
          ],
          [
           "Music and Audio Production Tools"
          ],
          [
           "AI Toolset for Developers"
          ],
          [
           "AI Toolset for Developers"
          ],
          [
           "AI Toolset for Developers"
          ],
          [
           "AI Toolset for Developers"
          ],
          [
           "AI Toolset for Developers"
          ],
          [
           "AI Toolset for Developers"
          ],
          [
           "AI Toolset for Developers"
          ],
          [
           "AI Toolset for Developers"
          ],
          [
           "AI Toolset for Developers"
          ],
          [
           "AI Toolset for Developers"
          ],
          [
           "AI Toolset for Developers"
          ],
          [
           "Construction and Workflow Automation"
          ],
          [
           "Construction and Workflow Automation"
          ],
          [
           "Construction and Workflow Automation"
          ],
          [
           "Web Development and AI tools"
          ],
          [
           "Web Development and AI tools"
          ],
          [
           "Web Development and AI tools"
          ],
          [
           "Web Development and AI tools"
          ],
          [
           "Web Development and AI tools"
          ],
          [
           "Web Development and AI tools"
          ],
          [
           "AI Research and Development"
          ],
          [
           "AI Research and Development"
          ],
          [
           "AI Research and Development"
          ],
          [
           "AI Research and Development"
          ],
          [
           "AI Research and Development"
          ],
          [
           "AI Research and Development"
          ],
          [
           "AI Research and Development"
          ],
          [
           "AI Research and Development"
          ],
          [
           "AI Research and Development"
          ],
          [
           "AI Research and Development"
          ],
          [
           "AI Research and Development"
          ],
          [
           "AI Research and Development"
          ],
          [
           "AI Research and Development"
          ],
          [
           "AI Research and Development"
          ],
          [
           "AI Research and Development"
          ],
          [
           "AI Research and Development"
          ],
          [
           "AI Research and Development"
          ],
          [
           "AI Research and Development"
          ],
          [
           "AI Research and Development"
          ],
          [
           "AI Research and Development"
          ],
          [
           "AI Research and Development"
          ],
          [
           "AI Research and Development"
          ],
          [
           "Tech and Blockchain News"
          ],
          [
           "Tech and Blockchain News"
          ],
          [
           "Tech and Blockchain News"
          ],
          [
           "Tech and Blockchain News"
          ],
          [
           "Tech and Blockchain News"
          ],
          [
           "HR and Recruitment Automation"
          ],
          [
           "HR and Recruitment Automation"
          ],
          [
           "HR and Recruitment Automation"
          ],
          [
           "HR and Recruitment Automation"
          ],
          [
           "HR and Recruitment Automation"
          ],
          [
           "HR and Recruitment Automation"
          ],
          [
           "HR and Recruitment Automation"
          ],
          [
           "HR and Recruitment Automation"
          ],
          [
           "HR and Recruitment Automation"
          ],
          [
           "HR and Recruitment Automation"
          ],
          [
           "HR and Recruitment Automation"
          ],
          [
           "Retail Supply Chain Management"
          ],
          [
           "Retail Supply Chain Management"
          ],
          [
           "Retail Supply Chain Management"
          ],
          [
           "Retail Supply Chain Management"
          ],
          [
           "Retail Supply Chain Management"
          ],
          [
           "Advanced Cybersecurity Solutions"
          ],
          [
           "Advanced Cybersecurity Solutions"
          ],
          [
           "Advanced Cybersecurity Solutions"
          ],
          [
           "Advanced Cybersecurity Solutions"
          ],
          [
           "Advanced Cybersecurity Solutions"
          ],
          [
           "Advanced Cybersecurity Solutions"
          ],
          [
           "Advanced Cybersecurity Solutions"
          ],
          [
           "Advanced Cybersecurity Solutions"
          ],
          [
           "Advanced Cybersecurity Solutions"
          ],
          [
           "Advanced Cybersecurity Solutions"
          ],
          [
           "Advanced Cybersecurity Solutions"
          ],
          [
           "Advanced Cybersecurity Solutions"
          ],
          [
           "Mobile and Software Development Technologies"
          ],
          [
           "Mobile and Software Development Technologies"
          ],
          [
           "Mobile and Software Development Technologies"
          ],
          [
           "Mobile and Software Development Technologies"
          ],
          [
           "Mobile and Software Development Technologies"
          ],
          [
           "Mobile and Software Development Technologies"
          ],
          [
           "Mobile and Software Development Technologies"
          ],
          [
           "Mobile and Software Development Technologies"
          ],
          [
           "Mobile and Software Development Technologies"
          ],
          [
           "Mobile and Software Development Technologies"
          ],
          [
           "Mobile and Software Development Technologies"
          ],
          [
           "Mobile and Software Development Technologies"
          ],
          [
           "Mobile and Software Development Technologies"
          ],
          [
           "Mobile and Software Development Technologies"
          ],
          [
           "Mobile and Software Development Technologies"
          ],
          [
           "Mobile and Software Development Technologies"
          ],
          [
           "Mobile and Software Development Technologies"
          ],
          [
           "Mobile and Software Development Technologies"
          ],
          [
           "Mobile and Software Development Technologies"
          ],
          [
           "Mobile and Software Development Technologies"
          ],
          [
           "Mobile and Software Development Technologies"
          ],
          [
           "Educational Technologies and Learning Platforms"
          ],
          [
           "Educational Technologies and Learning Platforms"
          ],
          [
           "Educational Technologies and Learning Platforms"
          ],
          [
           "Educational Technologies and Learning Platforms"
          ],
          [
           "Educational Technologies and Learning Platforms"
          ],
          [
           "Educational Technologies and Learning Platforms"
          ],
          [
           "Educational Technologies and Learning Platforms"
          ],
          [
           "Educational Technologies and Learning Platforms"
          ],
          [
           "Educational Technologies and Learning Platforms"
          ],
          [
           "Educational Technologies and Learning Platforms"
          ],
          [
           "Educational Technologies and Learning Platforms"
          ],
          [
           "Educational Technologies and Learning Platforms"
          ],
          [
           "Educational Technologies and Learning Platforms"
          ],
          [
           "Educational Technologies and Learning Platforms"
          ],
          [
           "Educational Technologies and Learning Platforms"
          ],
          [
           "Educational Technologies and Learning Platforms"
          ],
          [
           "Educational Technologies and Learning Platforms"
          ],
          [
           "Healthcare Data Management Systems"
          ],
          [
           "Healthcare Data Management Systems"
          ],
          [
           "Healthcare Data Management Systems"
          ],
          [
           "Healthcare Data Management Systems"
          ],
          [
           "Healthcare Data Management Systems"
          ],
          [
           "Healthcare Data Management Systems"
          ],
          [
           "Healthcare Data Management Systems"
          ],
          [
           "Healthcare Data Management Systems"
          ],
          [
           "Healthcare Data Management Systems"
          ],
          [
           "Creative Business Tools"
          ],
          [
           "Creative Business Tools"
          ],
          [
           "Creative Business Tools"
          ],
          [
           "Creative Business Tools"
          ],
          [
           "Creative Business Tools"
          ],
          [
           "Creative Business Tools"
          ],
          [
           "Creative Business Tools"
          ],
          [
           "Creative Business Tools"
          ],
          [
           "Creative Business Tools"
          ],
          [
           "Creative Business Tools"
          ],
          [
           "Creative Business Tools"
          ],
          [
           "Creative Business Tools"
          ],
          [
           "Creative Business Tools"
          ],
          [
           "Creative Business Tools"
          ],
          [
           "Creative Business Tools"
          ],
          [
           "Creative Business Tools"
          ],
          [
           "Creative Business Tools"
          ],
          [
           "Creative Business Tools"
          ],
          [
           "Creative Business Tools"
          ],
          [
           "Creative Business Tools"
          ],
          [
           "Restaurant and Hospitality Services"
          ],
          [
           "Restaurant and Hospitality Services"
          ],
          [
           "Restaurant and Hospitality Services"
          ],
          [
           "Restaurant and Hospitality Services"
          ],
          [
           "Restaurant and Hospitality Services"
          ],
          [
           "Restaurant and Hospitality Services"
          ],
          [
           "Restaurant and Hospitality Services"
          ],
          [
           "Restaurant and Hospitality Services"
          ],
          [
           "Regulatory Compliance and Risk Management"
          ],
          [
           "Regulatory Compliance and Risk Management"
          ],
          [
           "Regulatory Compliance and Risk Management"
          ],
          [
           "Regulatory Compliance and Risk Management"
          ],
          [
           "Regulatory Compliance and Risk Management"
          ],
          [
           "Regulatory Compliance and Risk Management"
          ],
          [
           "Regulatory Compliance and Risk Management"
          ],
          [
           "Regulatory Compliance and Risk Management"
          ],
          [
           "Regulatory Compliance and Risk Management"
          ],
          [
           "Regulatory Compliance and Risk Management"
          ],
          [
           "Gamification in Education"
          ],
          [
           "Gamification in Education"
          ],
          [
           "Marketing Data Analytics"
          ],
          [
           "Marketing Data Analytics"
          ],
          [
           "Marketing Data Analytics"
          ],
          [
           "Personalized Wellness Programs"
          ],
          [
           "Personalized Wellness Programs"
          ],
          [
           "Personalized Wellness Programs"
          ],
          [
           "Personalized Wellness Programs"
          ],
          [
           "Personalized Wellness Programs"
          ],
          [
           "Personalized Wellness Programs"
          ],
          [
           "Personalized Wellness Programs"
          ],
          [
           "Personalized Wellness Programs"
          ],
          [
           "AI-Driven Business Strategies"
          ],
          [
           "AI-Driven Business Strategies"
          ],
          [
           "AI-Driven Business Strategies"
          ],
          [
           "AI-Driven Business Strategies"
          ],
          [
           "AI-Driven Business Strategies"
          ],
          [
           "E-commerce and Retail Strategies"
          ],
          [
           "E-commerce and Retail Strategies"
          ],
          [
           "E-commerce and Retail Strategies"
          ],
          [
           "E-commerce and Retail Strategies"
          ],
          [
           "E-commerce and Retail Strategies"
          ],
          [
           "E-commerce and Retail Strategies"
          ],
          [
           "E-commerce and Retail Strategies"
          ],
          [
           "AI Systems Development"
          ],
          [
           "AI Systems Development"
          ],
          [
           "AI Systems Development"
          ],
          [
           "AI Systems Development"
          ],
          [
           "AI Systems Development"
          ],
          [
           "AI Systems Development"
          ],
          [
           "AI Systems Development"
          ],
          [
           "AI Systems Development"
          ],
          [
           "AI Systems Development"
          ],
          [
           "AI Systems Development"
          ],
          [
           "AI Systems Development"
          ],
          [
           "AI Systems Development"
          ],
          [
           "AI Systems Development"
          ],
          [
           "AI Systems Development"
          ],
          [
           "AI Systems Development"
          ],
          [
           "AI Systems Development"
          ],
          [
           "AI Systems Development"
          ],
          [
           "AI Systems Development"
          ],
          [
           "AI Systems Development"
          ],
          [
           "AI Systems Development"
          ],
          [
           "AI Systems Development"
          ],
          [
           "AI Systems Development"
          ],
          [
           "AI Systems Development"
          ],
          [
           "AI Systems Development"
          ],
          [
           "AI Systems Development"
          ],
          [
           "AI Systems Development"
          ],
          [
           "AI Systems Development"
          ],
          [
           "AI Systems Development"
          ],
          [
           "AI Systems Development"
          ],
          [
           "AI Systems Development"
          ],
          [
           "AI Systems Development"
          ],
          [
           "AI Systems Development"
          ],
          [
           "AI Systems Development"
          ],
          [
           "AI Systems Development"
          ],
          [
           "AI Systems Development"
          ],
          [
           "AI Systems Development"
          ],
          [
           "AI Systems Development"
          ],
          [
           "Social Media and Marketing Strategies"
          ],
          [
           "Social Media and Marketing Strategies"
          ],
          [
           "Social Media and Marketing Strategies"
          ],
          [
           "Social Media and Marketing Strategies"
          ],
          [
           "Social Media and Marketing Strategies"
          ],
          [
           "Customer Data Analysis"
          ],
          [
           "Customer Data Analysis"
          ],
          [
           "Customer Data Analysis"
          ],
          [
           "Customer Data Analysis"
          ],
          [
           "Automated Business Systems"
          ],
          [
           "Automated Business Systems"
          ],
          [
           "Automated Business Systems"
          ],
          [
           "Automated Business Systems"
          ],
          [
           "Automated Business Systems"
          ],
          [
           "Automated Business Systems"
          ],
          [
           "Automated Business Systems"
          ],
          [
           "Automated Business Systems"
          ],
          [
           "Automated Business Systems"
          ],
          [
           "Automated Business Systems"
          ],
          [
           "Automated Business Systems"
          ],
          [
           "Automated Business Systems"
          ],
          [
           "Automated Business Systems"
          ],
          [
           "Automated Business Systems"
          ],
          [
           "Automated Business Systems"
          ],
          [
           "Automated Business Systems"
          ],
          [
           "Automated Business Systems"
          ],
          [
           "Automated Business Systems"
          ],
          [
           "Automated Business Systems"
          ],
          [
           "Automated Business Systems"
          ],
          [
           "Automated Business Systems"
          ],
          [
           "Automated Business Systems"
          ],
          [
           "Automated Business Systems"
          ],
          [
           "Automated Business Systems"
          ],
          [
           "Automated Business Systems"
          ],
          [
           "Automated Business Systems"
          ],
          [
           "Automated Business Systems"
          ],
          [
           "Automated Business Systems"
          ],
          [
           "Career Development Tools"
          ],
          [
           "Career Development Tools"
          ],
          [
           "Career Development Tools"
          ],
          [
           "Career Development Tools"
          ],
          [
           "Veterinary and Pet Care Technologies"
          ],
          [
           "Veterinary and Pet Care Technologies"
          ],
          [
           "Veterinary and Pet Care Technologies"
          ],
          [
           "Legal and Technological Automation"
          ],
          [
           "Legal and Technological Automation"
          ],
          [
           "Legal and Technological Automation"
          ],
          [
           "Legal and Technological Automation"
          ],
          [
           "Legal and Technological Automation"
          ],
          [
           "Legal and Technological Automation"
          ],
          [
           "Legal and Technological Automation"
          ],
          [
           "Data Insights and Analytics"
          ],
          [
           "Data Insights and Analytics"
          ],
          [
           "Data Insights and Analytics"
          ],
          [
           "Data Insights and Analytics"
          ],
          [
           "Data Insights and Analytics"
          ],
          [
           "Data Insights and Analytics"
          ],
          [
           "Social Media and Digital Insights"
          ],
          [
           "Social Media and Digital Insights"
          ],
          [
           "Social Media and Digital Insights"
          ],
          [
           "Social Media and Digital Insights"
          ],
          [
           "Social Media and Digital Insights"
          ],
          [
           "Social Media and Digital Insights"
          ],
          [
           "Social Media and Digital Insights"
          ],
          [
           "Social Media and Digital Insights"
          ],
          [
           "Social Media and Digital Insights"
          ],
          [
           "Social Media and Digital Insights"
          ],
          [
           "Social Media and Digital Insights"
          ],
          [
           "Social Media and Digital Insights"
          ],
          [
           "Travel Booking and Planning Systems"
          ],
          [
           "Travel Booking and Planning Systems"
          ],
          [
           "Travel Booking and Planning Systems"
          ],
          [
           "Travel Booking and Planning Systems"
          ],
          [
           "Travel Booking and Planning Systems"
          ],
          [
           "Travel Booking and Planning Systems"
          ],
          [
           "Travel Booking and Planning Systems"
          ],
          [
           "Travel Booking and Planning Systems"
          ],
          [
           "Real Estate Investment Analysis"
          ],
          [
           "Real Estate Investment Analysis"
          ],
          [
           "Real Estate Investment Analysis"
          ],
          [
           "Real Estate Investment Analysis"
          ],
          [
           "Real Estate Investment Analysis"
          ],
          [
           "Real Estate Investment Analysis"
          ],
          [
           "Real Estate Investment Analysis"
          ],
          [
           "Real Estate Investment Analysis"
          ],
          [
           "Real Estate Investment Analysis"
          ],
          [
           "Financial Management Systems"
          ],
          [
           "Financial Management Systems"
          ],
          [
           "Financial Management Systems"
          ],
          [
           "Financial Management Systems"
          ],
          [
           "Financial Management Systems"
          ],
          [
           "Financial Management Systems"
          ],
          [
           "Financial Management Systems"
          ],
          [
           "Financial Management Systems"
          ],
          [
           "Financial Management Systems"
          ],
          [
           "Financial Management Systems"
          ],
          [
           "Financial Management Systems"
          ],
          [
           "Financial Management Systems"
          ],
          [
           "Financial Management Systems"
          ],
          [
           "Financial Management Systems"
          ],
          [
           "Financial Management Systems"
          ],
          [
           "Financial Management Systems"
          ],
          [
           "Financial Management Systems"
          ],
          [
           "Data Management and Quality Control"
          ],
          [
           "Data Management and Quality Control"
          ],
          [
           "Data Management and Quality Control"
          ],
          [
           "Data Management and Quality Control"
          ],
          [
           "Data Management and Quality Control"
          ],
          [
           "Data Management and Quality Control"
          ],
          [
           "Data Management and Quality Control"
          ],
          [
           "Data Management and Quality Control"
          ],
          [
           "No-Code AI Platforms"
          ],
          [
           "No-Code AI Platforms"
          ],
          [
           "No-Code AI Platforms"
          ],
          [
           "Healthcare Workflow Optimization"
          ],
          [
           "Healthcare Workflow Optimization"
          ],
          [
           "Healthcare Workflow Optimization"
          ],
          [
           "Healthcare Workflow Optimization"
          ],
          [
           "Healthcare Workflow Optimization"
          ],
          [
           "Venture Capital and Financing"
          ],
          [
           "Venture Capital and Financing"
          ],
          [
           "Venture Capital and Financing"
          ],
          [
           "Venture Capital and Financing"
          ],
          [
           "Venture Capital and Financing"
          ],
          [
           "Venture Capital and Financing"
          ],
          [
           "Venture Capital and Financing"
          ],
          [
           "Venture Capital and Financing"
          ],
          [
           "Venture Capital and Financing"
          ],
          [
           "Venture Capital and Financing"
          ],
          [
           "Sustainability and Non-Profit Solutions"
          ],
          [
           "Sustainability and Non-Profit Solutions"
          ],
          [
           "Sustainability and Non-Profit Solutions"
          ],
          [
           "Sustainability and Non-Profit Solutions"
          ],
          [
           "Wellness and Sleep Health"
          ],
          [
           "Wellness and Sleep Health"
          ],
          [
           "Industrial Sales Automation"
          ],
          [
           "Industrial Sales Automation"
          ],
          [
           "Industrial Sales Automation"
          ],
          [
           "Tax and Accounting Automation"
          ],
          [
           "Tax and Accounting Automation"
          ],
          [
           "Tax and Accounting Automation"
          ],
          [
           "Sales and Marketing Outreach"
          ],
          [
           "Sales and Marketing Outreach"
          ],
          [
           "Sales and Marketing Outreach"
          ],
          [
           "Sales and Marketing Outreach"
          ],
          [
           "Sales and Marketing Outreach"
          ],
          [
           "Sales and Marketing Outreach"
          ],
          [
           "Sales and Marketing Outreach"
          ],
          [
           "Sales and Marketing Outreach"
          ],
          [
           "Sales and Marketing Outreach"
          ],
          [
           "Sales and Marketing Outreach"
          ],
          [
           "Sales and Marketing Outreach"
          ],
          [
           "Image Enhancement Solutions"
          ],
          [
           "Image Enhancement Solutions"
          ],
          [
           "Image Enhancement Solutions"
          ],
          [
           "Image Enhancement Solutions"
          ],
          [
           "Image Enhancement Solutions"
          ],
          [
           "Image Enhancement Solutions"
          ],
          [
           "Image Enhancement Solutions"
          ],
          [
           "Creative Content and Media Tools"
          ],
          [
           "Creative Content and Media Tools"
          ],
          [
           "Creative Content and Media Tools"
          ],
          [
           "Creative Content and Media Tools"
          ],
          [
           "Creative Content and Media Tools"
          ],
          [
           "Creative Content and Media Tools"
          ],
          [
           "Creative Content and Media Tools"
          ],
          [
           "Home and Interior Design"
          ],
          [
           "Home and Interior Design"
          ],
          [
           "Home and Interior Design"
          ],
          [
           "Home and Interior Design"
          ],
          [
           "Mental Health and Therapy"
          ],
          [
           "Mental Health and Therapy"
          ],
          [
           "Mental Health and Therapy"
          ],
          [
           "Mental Health and Therapy"
          ],
          [
           "Market and Business Strategy"
          ],
          [
           "Market and Business Strategy"
          ],
          [
           "Market and Business Strategy"
          ],
          [
           "Market and Business Strategy"
          ],
          [
           "Animation and Visual Effects Tools"
          ],
          [
           "Animation and Visual Effects Tools"
          ],
          [
           "Animation and Visual Effects Tools"
          ],
          [
           "Animation and Visual Effects Tools"
          ],
          [
           "Animation and Visual Effects Tools"
          ],
          [
           "Animation and Visual Effects Tools"
          ],
          [
           "Animation and Visual Effects Tools"
          ],
          [
           "Animation and Visual Effects Tools"
          ],
          [
           "Animation and Visual Effects Tools"
          ],
          [
           "Technical Writing and Proposals"
          ],
          [
           "Technical Writing and Proposals"
          ],
          [
           "Biotechnological Research"
          ],
          [
           "Biotechnological Research"
          ],
          [
           "Biotechnological Research"
          ],
          [
           "Project and Team Management"
          ],
          [
           "Project and Team Management"
          ],
          [
           "Project and Team Management"
          ],
          [
           "Project and Team Management"
          ],
          [
           "Project and Team Management"
          ],
          [
           "Project and Team Management"
          ],
          [
           "Project and Team Management"
          ],
          [
           "E-commerce Management"
          ],
          [
           "E-commerce Management"
          ],
          [
           "E-commerce Management"
          ],
          [
           "E-commerce Management"
          ],
          [
           "Industrial Sourcing Solutions"
          ],
          [
           "Industrial Sourcing Solutions"
          ],
          [
           "Industrial Sourcing Solutions"
          ],
          [
           "Industrial Sourcing Solutions"
          ],
          [
           "Decentralized Tech and Identity"
          ],
          [
           "Decentralized Tech and Identity"
          ],
          [
           "Decentralized Tech and Identity"
          ],
          [
           "Decentralized Tech and Identity"
          ],
          [
           "Client Management in Legal Services"
          ],
          [
           "Client Management in Legal Services"
          ],
          [
           "Social and Event Planning Tools"
          ],
          [
           "Social and Event Planning Tools"
          ],
          [
           "Social and Event Planning Tools"
          ],
          [
           "Document Management Automation"
          ],
          [
           "Document Management Automation"
          ],
          [
           "Development Tools Automation"
          ],
          [
           "Development Tools Automation"
          ],
          [
           "Development Tools Automation"
          ],
          [
           "Solutions for Industrial Automation"
          ],
          [
           "Solutions for Industrial Automation"
          ],
          [
           "Solutions for Industrial Automation"
          ],
          [
           "Language and Speech Learning"
          ],
          [
           "Language and Speech Learning"
          ],
          [
           "Language and Speech Learning"
          ],
          [
           "Insurance Management Services"
          ],
          [
           "Insurance Management Services"
          ],
          [
           "Personal Growth and Development"
          ],
          [
           "Personal Growth and Development"
          ],
          [
           "Personal Growth and Development"
          ],
          [
           "High-Performance Computing Solutions"
          ],
          [
           "High-Performance Computing Solutions"
          ],
          [
           "High-Performance Computing Solutions"
          ]
         ],
         "hovertemplate": "x=%{x}<br>y=%{y}<br>generated_cluster_label=%{customdata[0]}<br>cluster=%{marker.color}<extra></extra>",
         "legendgroup": "",
         "marker": {
          "color": [
           61,
           61,
           61,
           61,
           61,
           61,
           61,
           61,
           61,
           61,
           61,
           26,
           26,
           26,
           26,
           26,
           26,
           26,
           26,
           26,
           26,
           26,
           60,
           60,
           60,
           32,
           32,
           32,
           32,
           32,
           32,
           25,
           25,
           25,
           25,
           25,
           25,
           25,
           25,
           25,
           25,
           25,
           25,
           25,
           25,
           25,
           25,
           25,
           25,
           25,
           25,
           25,
           25,
           34,
           34,
           34,
           34,
           34,
           53,
           53,
           53,
           53,
           53,
           53,
           53,
           53,
           53,
           53,
           53,
           3,
           3,
           3,
           3,
           3,
           1,
           1,
           1,
           1,
           1,
           1,
           1,
           1,
           1,
           1,
           1,
           1,
           22,
           22,
           22,
           22,
           22,
           22,
           22,
           22,
           22,
           22,
           22,
           22,
           22,
           22,
           22,
           22,
           22,
           22,
           22,
           22,
           22,
           46,
           46,
           46,
           46,
           46,
           46,
           46,
           46,
           46,
           46,
           46,
           46,
           46,
           46,
           46,
           46,
           46,
           38,
           38,
           38,
           38,
           38,
           38,
           38,
           38,
           38,
           50,
           50,
           50,
           50,
           50,
           50,
           50,
           50,
           50,
           50,
           50,
           50,
           50,
           50,
           50,
           50,
           50,
           50,
           50,
           50,
           56,
           56,
           56,
           56,
           56,
           56,
           56,
           56,
           17,
           17,
           17,
           17,
           17,
           17,
           17,
           17,
           17,
           17,
           47,
           47,
           8,
           8,
           8,
           42,
           42,
           42,
           42,
           42,
           42,
           42,
           42,
           28,
           28,
           28,
           28,
           28,
           23,
           23,
           23,
           23,
           23,
           23,
           23,
           27,
           27,
           27,
           27,
           27,
           27,
           27,
           27,
           27,
           27,
           27,
           27,
           27,
           27,
           27,
           27,
           27,
           27,
           27,
           27,
           27,
           27,
           27,
           27,
           27,
           27,
           27,
           27,
           27,
           27,
           27,
           27,
           27,
           27,
           27,
           27,
           27,
           36,
           36,
           36,
           36,
           36,
           6,
           6,
           6,
           6,
           30,
           30,
           30,
           30,
           30,
           30,
           30,
           30,
           30,
           30,
           30,
           30,
           30,
           30,
           30,
           30,
           30,
           30,
           30,
           30,
           30,
           30,
           30,
           30,
           30,
           30,
           30,
           30,
           54,
           54,
           54,
           54,
           62,
           62,
           62,
           18,
           18,
           18,
           18,
           18,
           18,
           18,
           5,
           5,
           5,
           5,
           5,
           5,
           35,
           35,
           35,
           35,
           35,
           35,
           35,
           35,
           35,
           35,
           35,
           35,
           57,
           57,
           57,
           57,
           57,
           57,
           57,
           57,
           16,
           16,
           16,
           16,
           16,
           16,
           16,
           16,
           16,
           10,
           10,
           10,
           10,
           10,
           10,
           10,
           10,
           10,
           10,
           10,
           10,
           10,
           10,
           10,
           10,
           10,
           2,
           2,
           2,
           2,
           2,
           2,
           2,
           2,
           31,
           31,
           31,
           39,
           39,
           39,
           39,
           39,
           15,
           15,
           15,
           15,
           15,
           15,
           15,
           15,
           15,
           15,
           40,
           40,
           40,
           40,
           45,
           45,
           4,
           4,
           4,
           13,
           13,
           13,
           9,
           9,
           9,
           9,
           9,
           9,
           9,
           9,
           9,
           9,
           9,
           7,
           7,
           7,
           7,
           7,
           7,
           7,
           51,
           51,
           51,
           51,
           51,
           51,
           51,
           59,
           59,
           59,
           59,
           43,
           43,
           43,
           43,
           29,
           29,
           29,
           29,
           52,
           52,
           52,
           52,
           52,
           52,
           52,
           52,
           52,
           49,
           49,
           41,
           41,
           41,
           20,
           20,
           20,
           20,
           20,
           20,
           20,
           24,
           24,
           24,
           24,
           11,
           11,
           11,
           11,
           12,
           12,
           12,
           12,
           37,
           37,
           21,
           21,
           21,
           19,
           19,
           33,
           33,
           33,
           55,
           55,
           55,
           48,
           48,
           48,
           14,
           14,
           44,
           44,
           44,
           0,
           0,
           0
          ],
          "coloraxis": "coloraxis",
          "size": 10,
          "symbol": "circle"
         },
         "mode": "markers",
         "name": "",
         "orientation": "v",
         "showlegend": false,
         "type": "scatter",
         "x": [
          -17.246582,
          -22.577639,
          -14.846723,
          -21.39423,
          -14.560872,
          -21.596195,
          -0.6085661,
          7.965918,
          -6.6601686,
          2.5029495,
          -18.783094,
          5.453025,
          16.772793,
          10.867387,
          10.001225,
          24.756763,
          3.7171378,
          1.0150203,
          10.480784,
          18.20799,
          15.392288,
          20.728374,
          -45.72061,
          -42.61082,
          -38.021076,
          -8.852089,
          -36.05923,
          -13.826266,
          39.185276,
          -36.513767,
          -41.62146,
          28.623798,
          24.492306,
          20.13029,
          16.377918,
          12.6545925,
          15.762672,
          -6.83546,
          25.588148,
          -16.583864,
          20.230795,
          31.826231,
          4.0969357,
          28.70696,
          3.6947076,
          0.56744975,
          -16.551395,
          20.657524,
          7.2047763,
          11.238902,
          8.147223,
          -14.330961,
          -13.28896,
          -8.068511,
          -10.502254,
          -5.79672,
          -2.7939224,
          -7.678581,
          10.049684,
          -32.056713,
          4.7596264,
          10.923986,
          11.865263,
          -1.6550021,
          -2.2353234,
          3.9121277,
          1.8500186,
          11.271172,
          4.724151,
          16.931513,
          9.410604,
          13.261849,
          4.100873,
          15.085004,
          5.19183,
          1.300309,
          4.4567094,
          -2.8871634,
          -9.54379,
          -7.6368484,
          -0.32458577,
          -4.50067,
          -1.626461,
          -8.09626,
          8.814768,
          3.9031856,
          18.754196,
          1.8446118,
          28.400278,
          21.900425,
          10.867497,
          1.730643,
          2.633434,
          7.853074,
          5.2405825,
          35.500042,
          35.08293,
          28.341549,
          12.252229,
          37.28977,
          8.792821,
          26.880556,
          20.985603,
          12.51579,
          30.141985,
          14.248441,
          18.714882,
          -3.4686399,
          -11.229006,
          -9.787068,
          -13.568376,
          -4.705306,
          -9.126707,
          -13.923618,
          -3.708757,
          -20.131245,
          -39.57304,
          -6.8678417,
          3.0911458,
          19.667831,
          -16.545654,
          -7.5459332,
          -6.9700885,
          -8.095586,
          -19.909243,
          -30.58473,
          -14.677168,
          -21.795723,
          -23.33029,
          -22.239462,
          -26.772753,
          -14.909496,
          -17.662422,
          33.558052,
          8.101478,
          6.498001,
          19.42335,
          38.31899,
          -3.0919228,
          23.35178,
          18.038906,
          12.932514,
          18.444092,
          17.847538,
          -0.8470455,
          6.16315,
          26.290968,
          28.709286,
          11.237555,
          17.293846,
          12.578967,
          -31.73962,
          12.262656,
          25.113003,
          21.489058,
          -31.482235,
          28.472435,
          -24.183514,
          -27.876638,
          26.66759,
          -33.75015,
          -12.502595,
          -4.9538636,
          -31.639069,
          -17.810905,
          -19.742952,
          -18.631172,
          -17.272898,
          -23.304811,
          -24.7611,
          -13.097114,
          1.4436964,
          -1.0612551,
          -12.261194,
          -11.756814,
          -8.68822,
          31.528702,
          -8.867341,
          -15.976963,
          -5.3136334,
          -17.68283,
          -11.199497,
          -0.09467454,
          -11.263564,
          19.89078,
          16.642439,
          24.530453,
          22.496262,
          16.45322,
          28.05545,
          17.331766,
          -0.81867754,
          14.2121935,
          22.52688,
          19.736935,
          15.002389,
          30.172903,
          -32.252846,
          8.384662,
          21.034468,
          16.47523,
          -32.083458,
          4.0769053,
          30.092281,
          -3.1457593,
          8.840187,
          10.400939,
          9.211332,
          16.88069,
          0.041577157,
          12.160851,
          9.521186,
          21.015345,
          -1.8112332,
          4.3974795,
          9.834211,
          14.609748,
          9.57927,
          -0.45753628,
          18.17289,
          23.31895,
          24.954782,
          6.6807647,
          21.778051,
          12.727132,
          5.874886,
          -3.3769693,
          16.495491,
          12.586459,
          22.341036,
          18.441946,
          -0.43100893,
          13.555215,
          -0.08307244,
          2.172479,
          3.7314272,
          7.9401336,
          6.789544,
          -8.13374,
          -2.45236,
          18.356203,
          16.918083,
          20.554695,
          3.404964,
          -3.6259818,
          -15.240963,
          19.731833,
          -13.002905,
          2.0426161,
          31.83145,
          1.00008,
          -4.5326295,
          -25.665964,
          -20.384747,
          8.989742,
          -5.6605153,
          23.073399,
          10.474709,
          9.596929,
          -10.495364,
          -7.7207913,
          2.1682963,
          -0.9389637,
          -27.756311,
          -1.0316229,
          19.396095,
          -5.9573193,
          -1.8722603,
          -19.345978,
          5.3250923,
          5.068737,
          -0.5747998,
          9.92555,
          3.986984,
          -7.620679,
          -3.3674827,
          -12.565319,
          -38.924515,
          -41.20058,
          -39.855137,
          -35.149143,
          -29.986551,
          -32.354748,
          -33.462296,
          12.781089,
          5.766099,
          11.108619,
          6.200723,
          5.455049,
          4.914738,
          23.554665,
          4.9783792,
          30.040356,
          1.561549,
          19.750225,
          14.346761,
          25.919926,
          -7.791137,
          -21.355467,
          -4.8643155,
          -3.4202285,
          -1.0353197,
          -23.481415,
          -14.958683,
          -17.637745,
          -20.697618,
          -16.237537,
          -21.759886,
          -17.998497,
          -29.81052,
          -30.735027,
          -27.814558,
          -41.287914,
          -32.772804,
          -34.899605,
          -34.285023,
          -39.477917,
          -32.544567,
          -20.489138,
          -11.634977,
          -7.4760356,
          -13.647993,
          -12.40285,
          -30.749022,
          -8.51312,
          -18.381762,
          -24.016453,
          -28.62411,
          -24.709642,
          0.3373218,
          -5.131041,
          -4.9380817,
          -22.0517,
          -14.2720375,
          -24.392754,
          -15.685673,
          25.16047,
          24.33341,
          29.582142,
          35.068817,
          28.427208,
          -1.7854366,
          5.986837,
          31.965843,
          22.90198,
          23.226582,
          14.2645,
          -25.154581,
          -26.639065,
          -22.659472,
          -32.3933,
          -28.268644,
          -32.763718,
          -25.91506,
          -24.98556,
          -23.741045,
          -17.722605,
          -17.351788,
          -27.552162,
          -32.693848,
          -27.743717,
          -24.775127,
          22.620066,
          13.540156,
          26.3422,
          20.738514,
          -14.593982,
          -16.959568,
          -16.447695,
          -1.9734057,
          -11.363961,
          -4.3177557,
          -7.2265983,
          -7.0083094,
          -14.717352,
          -7.627274,
          -11.918596,
          -15.652947,
          -8.282379,
          -17.557241,
          -23.171234,
          -21.013296,
          -15.325235,
          -7.1108527,
          -6.458539,
          28.40571,
          37.913322,
          32.942806,
          35.727894,
          30.818396,
          29.617065,
          33.209072,
          9.061066,
          14.85222,
          2.666416,
          17.331057,
          10.925959,
          7.6240773,
          18.340982,
          -11.277065,
          -5.740726,
          -12.127356,
          -0.19858076,
          -27.531446,
          -26.237179,
          -21.023863,
          -25.99531,
          -20.012821,
          -16.762222,
          -7.7460694,
          -23.031904,
          23.074343,
          16.786148,
          30.55048,
          22.512365,
          29.69164,
          22.378881,
          19.490007,
          21.84361,
          24.990997,
          -18.5325,
          -25.684793,
          43.507202,
          39.701214,
          42.435238,
          4.477311,
          2.958473,
          7.7494802,
          2.1681147,
          1.1519746,
          9.283833,
          -2.0664873,
          11.971715,
          6.428005,
          28.238293,
          6.6850696,
          -4.688107,
          -6.499977,
          1.2956688,
          -14.899933,
          -10.231618,
          -6.6981134,
          32.335808,
          -15.196375,
          -29.560886,
          -34.186764,
          7.8785706,
          -10.698632,
          -22.00442,
          -7.188264,
          0.045205675,
          23.939743,
          16.874119,
          16.937548,
          7.8260407,
          36.6897,
          29.712963,
          -8.02049,
          -18.989271,
          -13.271299,
          -30.813612,
          -32.23231,
          -20.77101,
          -14.696222,
          -15.355387,
          24.042358,
          35.83632,
          37.709778
         ],
         "xaxis": "x",
         "y": [
          29.3108,
          32.7656,
          36.283844,
          40.305325,
          38.634174,
          33.207363,
          36.468216,
          32.771862,
          35.929413,
          32.758083,
          38.028675,
          29.48219,
          5.8890743,
          25.04349,
          19.470633,
          15.775681,
          23.030712,
          20.91264,
          9.2518215,
          12.716685,
          14.506677,
          8.868575,
          6.6191416,
          1.1346492,
          4.4173098,
          0.56919,
          31.97322,
          -2.2847462,
          4.299385,
          23.098316,
          17.963991,
          14.427021,
          0.4836759,
          13.474791,
          2.7401197,
          17.860369,
          6.3065004,
          11.936035,
          -10.940445,
          8.776724,
          20.206028,
          16.6619,
          16.09536,
          5.814251,
          7.948504,
          -17.933125,
          15.561941,
          2.363412,
          11.426624,
          13.205989,
          1.7080535,
          6.4418015,
          14.146708,
          25.97038,
          27.013672,
          18.857325,
          25.984182,
          20.815317,
          -9.892617,
          15.62196,
          -7.746367,
          1.0641385,
          -3.0031695,
          -13.0574045,
          -4.50705,
          -8.835261,
          -2.5742006,
          -6.0895486,
          -1.4888626,
          -34.771698,
          -37.170406,
          -42.077866,
          -45.67133,
          -41.59874,
          -3.594943,
          -5.316316,
          -8.117537,
          -4.667055,
          -0.8797289,
          -6.539847,
          -10.883546,
          -12.626665,
          -0.955748,
          -4.8375835,
          -11.024157,
          2.1041012,
          -13.115412,
          6.867701,
          -2.275083,
          -11.076298,
          -12.4428215,
          5.8442163,
          0.29545772,
          0.3995703,
          -7.9874144,
          1.1930442,
          0.41650218,
          5.887965,
          0.8338908,
          -4.2327704,
          2.116811,
          -4.6450057,
          1.6669543,
          -8.597416,
          -10.0457115,
          -4.219278,
          -8.430157,
          25.147617,
          29.402088,
          28.767658,
          22.487724,
          5.953413,
          13.364331,
          19.188839,
          8.873487,
          28.157187,
          14.691897,
          36.856552,
          37.335793,
          -10.392645,
          14.605231,
          22.4814,
          21.795517,
          13.428395,
          15.8114,
          9.817062,
          9.692473,
          27.390331,
          22.854307,
          10.930303,
          11.197022,
          20.505663,
          14.645175,
          28.752443,
          45.182915,
          -18.105137,
          38.975857,
          9.37515,
          -35.221252,
          25.985905,
          10.28788,
          33.21744,
          44.84534,
          33.13906,
          -19.564066,
          43.288998,
          32.944855,
          35.413292,
          9.361667,
          30.94081,
          25.206194,
          -22.765554,
          10.221571,
          -41.795815,
          -36.767986,
          -7.099448,
          -36.49957,
          -10.391214,
          4.074886,
          -34.87101,
          -13.029707,
          -16.867176,
          -19.404192,
          -6.8002725,
          -9.3256855,
          -11.288168,
          -15.018913,
          -19.875553,
          -0.95924187,
          -5.6474323,
          -24.282993,
          30.72132,
          27.714146,
          -8.978063,
          -16.045517,
          -8.703181,
          36.462082,
          25.209227,
          22.981413,
          32.19354,
          24.059465,
          29.203856,
          31.365412,
          18.351797,
          8.407455,
          5.5238047,
          3.618751,
          9.505454,
          16.681265,
          -21.892921,
          -23.199022,
          -37.684196,
          -30.177725,
          -25.775925,
          -23.044588,
          -32.767242,
          5.8394933,
          3.5255203,
          12.056219,
          -4.1094995,
          -11.963306,
          20.171518,
          -3.9618766,
          -5.726506,
          -1.9265137,
          26.513569,
          -12.164454,
          -13.222577,
          7.75698,
          -8.196862,
          11.277853,
          -19.09899,
          11.678249,
          4.0387335,
          12.196812,
          4.84332,
          -18.878616,
          3.2616708,
          6.1676316,
          21.182255,
          -16.969448,
          4.552594,
          -3.407983,
          11.530001,
          -4.767167,
          -7.079986,
          -10.364544,
          -11.462362,
          11.213538,
          22.091816,
          24.84872,
          -0.15733828,
          -5.2263913,
          19.949986,
          23.055834,
          13.069132,
          18.348167,
          23.094038,
          -19.59798,
          -22.425514,
          -19.284342,
          -25.164118,
          -36.798042,
          -15.490251,
          -26.20846,
          0.6563135,
          -30.266924,
          -6.970276,
          -21.912697,
          -22.400616,
          -16.916155,
          -17.657799,
          14.968582,
          3.4124691,
          -27.559963,
          -8.132439,
          1.9867234,
          -21.163143,
          -21.611982,
          7.8663807,
          5.990319,
          -14.7199745,
          -18.503464,
          13.339702,
          -22.529432,
          -20.309961,
          -1.3127503,
          6.9538193,
          -8.232914,
          -24.341278,
          9.667843,
          8.632688,
          14.713308,
          14.929441,
          14.0010395,
          17.613964,
          -10.801769,
          2.2902856,
          -4.9876714,
          -4.4317727,
          -0.32549256,
          3.7547476,
          -2.3232367,
          -4.7091227,
          -27.594065,
          -14.721823,
          -32.030613,
          -23.197334,
          -26.327442,
          -30.583487,
          21.393858,
          33.432518,
          2.6780515,
          17.716537,
          29.464315,
          28.625996,
          9.926001,
          11.033408,
          -15.687951,
          24.917412,
          17.080776,
          34.43045,
          -3.4065287,
          -0.60683787,
          -8.559749,
          -2.4250376,
          -6.4774284,
          3.5269408,
          1.1470702,
          0.69998705,
          -13.465432,
          -19.166332,
          -13.030518,
          -13.697514,
          -20.920546,
          -19.507404,
          -12.530359,
          -14.766058,
          -17.826199,
          -31.359257,
          -39.57857,
          -15.333297,
          -35.31986,
          -30.93517,
          -19.379652,
          -43.183743,
          -43.11548,
          -25.582516,
          -30.750109,
          -33.952717,
          -31.484072,
          -28.487024,
          -36.113667,
          -24.60381,
          -19.798409,
          -20.76317,
          -21.147635,
          -37.625008,
          -32.457844,
          -27.579306,
          -26.166021,
          -27.729433,
          -25.380049,
          -22.58352,
          -3.120606,
          -0.7238578,
          -2.962627,
          7.994473,
          13.350235,
          4.139903,
          11.890683,
          16.113762,
          -28.956703,
          -37.740643,
          -28.439257,
          -32.945892,
          -27.757298,
          -33.101727,
          -32.484383,
          -32.942337,
          -26.80984,
          -27.961525,
          -20.931808,
          -19.749115,
          -13.198411,
          -16.200008,
          38.627796,
          35.781178,
          -30.661201,
          -36.129124,
          -31.746864,
          -49.789074,
          -37.0327,
          -43.602352,
          -24.579832,
          -19.711523,
          -24.015162,
          -17.392326,
          -12.081648,
          -22.524666,
          -23.39256,
          -23.434187,
          -18.05896,
          -33.49648,
          -14.173697,
          22.738699,
          17.146751,
          18.930124,
          17.322746,
          23.804457,
          17.894123,
          25.530128,
          23.080185,
          24.525158,
          16.450798,
          20.07831,
          18.4239,
          25.600565,
          17.533716,
          50.079655,
          46.86703,
          47.069237,
          48.44087,
          33.656406,
          25.876263,
          29.61573,
          26.124678,
          -8.161963,
          -26.370064,
          -31.94003,
          -20.51529,
          39.89608,
          35.38486,
          37.42449,
          43.252384,
          41.015038,
          40.150593,
          32.285526,
          33.487812,
          31.390146,
          -39.211494,
          -39.293446,
          -5.9556656,
          -8.830435,
          0.30722958,
          -7.1082625,
          2.272549,
          -16.850924,
          -7.483129,
          -12.895962,
          -7.7344294,
          -6.44853,
          -28.982061,
          -38.92732,
          14.682586,
          -29.376646,
          -47.229626,
          -44.80744,
          -40.02992,
          -42.52028,
          -2.429653,
          2.0447924,
          22.498362,
          -1.5628347,
          -7.7840557,
          -11.734207,
          40.738544,
          1.2109954,
          5.1812572,
          -25.037426,
          -28.012278,
          -11.450288,
          -15.056443,
          -3.497972,
          -28.641956,
          -14.919272,
          -19.470198,
          30.743614,
          24.53296,
          25.847013,
          -6.9092946,
          -1.9785465,
          14.357377,
          15.17202,
          16.73469,
          -6.0070257,
          -6.941677,
          -1.5996993
         ],
         "yaxis": "y"
        }
       ],
       "layout": {
        "coloraxis": {
         "colorbar": {
          "title": {
           "text": "cluster"
          }
         },
         "colorscale": [
          [
           0,
           "rgb(0, 147, 146)"
          ],
          [
           0.16666666666666666,
           "rgb(114, 170, 161)"
          ],
          [
           0.3333333333333333,
           "rgb(177, 199, 179)"
          ],
          [
           0.5,
           "rgb(241, 234, 200)"
          ],
          [
           0.6666666666666666,
           "rgb(229, 185, 173)"
          ],
          [
           0.8333333333333334,
           "rgb(217, 137, 148)"
          ],
          [
           1,
           "rgb(208, 88, 126)"
          ]
         ]
        },
        "height": 600,
        "hovermode": "closest",
        "legend": {
         "tracegroupgap": 0
        },
        "margin": {
         "t": 60
        },
        "template": {
         "data": {
          "bar": [
           {
            "error_x": {
             "color": "#2a3f5f"
            },
            "error_y": {
             "color": "#2a3f5f"
            },
            "marker": {
             "line": {
              "color": "#E5ECF6",
              "width": 0.5
             },
             "pattern": {
              "fillmode": "overlay",
              "size": 10,
              "solidity": 0.2
             }
            },
            "type": "bar"
           }
          ],
          "barpolar": [
           {
            "marker": {
             "line": {
              "color": "#E5ECF6",
              "width": 0.5
             },
             "pattern": {
              "fillmode": "overlay",
              "size": 10,
              "solidity": 0.2
             }
            },
            "type": "barpolar"
           }
          ],
          "carpet": [
           {
            "aaxis": {
             "endlinecolor": "#2a3f5f",
             "gridcolor": "white",
             "linecolor": "white",
             "minorgridcolor": "white",
             "startlinecolor": "#2a3f5f"
            },
            "baxis": {
             "endlinecolor": "#2a3f5f",
             "gridcolor": "white",
             "linecolor": "white",
             "minorgridcolor": "white",
             "startlinecolor": "#2a3f5f"
            },
            "type": "carpet"
           }
          ],
          "choropleth": [
           {
            "colorbar": {
             "outlinewidth": 0,
             "ticks": ""
            },
            "type": "choropleth"
           }
          ],
          "contour": [
           {
            "colorbar": {
             "outlinewidth": 0,
             "ticks": ""
            },
            "colorscale": [
             [
              0,
              "#0d0887"
             ],
             [
              0.1111111111111111,
              "#46039f"
             ],
             [
              0.2222222222222222,
              "#7201a8"
             ],
             [
              0.3333333333333333,
              "#9c179e"
             ],
             [
              0.4444444444444444,
              "#bd3786"
             ],
             [
              0.5555555555555556,
              "#d8576b"
             ],
             [
              0.6666666666666666,
              "#ed7953"
             ],
             [
              0.7777777777777778,
              "#fb9f3a"
             ],
             [
              0.8888888888888888,
              "#fdca26"
             ],
             [
              1,
              "#f0f921"
             ]
            ],
            "type": "contour"
           }
          ],
          "contourcarpet": [
           {
            "colorbar": {
             "outlinewidth": 0,
             "ticks": ""
            },
            "type": "contourcarpet"
           }
          ],
          "heatmap": [
           {
            "colorbar": {
             "outlinewidth": 0,
             "ticks": ""
            },
            "colorscale": [
             [
              0,
              "#0d0887"
             ],
             [
              0.1111111111111111,
              "#46039f"
             ],
             [
              0.2222222222222222,
              "#7201a8"
             ],
             [
              0.3333333333333333,
              "#9c179e"
             ],
             [
              0.4444444444444444,
              "#bd3786"
             ],
             [
              0.5555555555555556,
              "#d8576b"
             ],
             [
              0.6666666666666666,
              "#ed7953"
             ],
             [
              0.7777777777777778,
              "#fb9f3a"
             ],
             [
              0.8888888888888888,
              "#fdca26"
             ],
             [
              1,
              "#f0f921"
             ]
            ],
            "type": "heatmap"
           }
          ],
          "heatmapgl": [
           {
            "colorbar": {
             "outlinewidth": 0,
             "ticks": ""
            },
            "colorscale": [
             [
              0,
              "#0d0887"
             ],
             [
              0.1111111111111111,
              "#46039f"
             ],
             [
              0.2222222222222222,
              "#7201a8"
             ],
             [
              0.3333333333333333,
              "#9c179e"
             ],
             [
              0.4444444444444444,
              "#bd3786"
             ],
             [
              0.5555555555555556,
              "#d8576b"
             ],
             [
              0.6666666666666666,
              "#ed7953"
             ],
             [
              0.7777777777777778,
              "#fb9f3a"
             ],
             [
              0.8888888888888888,
              "#fdca26"
             ],
             [
              1,
              "#f0f921"
             ]
            ],
            "type": "heatmapgl"
           }
          ],
          "histogram": [
           {
            "marker": {
             "pattern": {
              "fillmode": "overlay",
              "size": 10,
              "solidity": 0.2
             }
            },
            "type": "histogram"
           }
          ],
          "histogram2d": [
           {
            "colorbar": {
             "outlinewidth": 0,
             "ticks": ""
            },
            "colorscale": [
             [
              0,
              "#0d0887"
             ],
             [
              0.1111111111111111,
              "#46039f"
             ],
             [
              0.2222222222222222,
              "#7201a8"
             ],
             [
              0.3333333333333333,
              "#9c179e"
             ],
             [
              0.4444444444444444,
              "#bd3786"
             ],
             [
              0.5555555555555556,
              "#d8576b"
             ],
             [
              0.6666666666666666,
              "#ed7953"
             ],
             [
              0.7777777777777778,
              "#fb9f3a"
             ],
             [
              0.8888888888888888,
              "#fdca26"
             ],
             [
              1,
              "#f0f921"
             ]
            ],
            "type": "histogram2d"
           }
          ],
          "histogram2dcontour": [
           {
            "colorbar": {
             "outlinewidth": 0,
             "ticks": ""
            },
            "colorscale": [
             [
              0,
              "#0d0887"
             ],
             [
              0.1111111111111111,
              "#46039f"
             ],
             [
              0.2222222222222222,
              "#7201a8"
             ],
             [
              0.3333333333333333,
              "#9c179e"
             ],
             [
              0.4444444444444444,
              "#bd3786"
             ],
             [
              0.5555555555555556,
              "#d8576b"
             ],
             [
              0.6666666666666666,
              "#ed7953"
             ],
             [
              0.7777777777777778,
              "#fb9f3a"
             ],
             [
              0.8888888888888888,
              "#fdca26"
             ],
             [
              1,
              "#f0f921"
             ]
            ],
            "type": "histogram2dcontour"
           }
          ],
          "mesh3d": [
           {
            "colorbar": {
             "outlinewidth": 0,
             "ticks": ""
            },
            "type": "mesh3d"
           }
          ],
          "parcoords": [
           {
            "line": {
             "colorbar": {
              "outlinewidth": 0,
              "ticks": ""
             }
            },
            "type": "parcoords"
           }
          ],
          "pie": [
           {
            "automargin": true,
            "type": "pie"
           }
          ],
          "scatter": [
           {
            "fillpattern": {
             "fillmode": "overlay",
             "size": 10,
             "solidity": 0.2
            },
            "type": "scatter"
           }
          ],
          "scatter3d": [
           {
            "line": {
             "colorbar": {
              "outlinewidth": 0,
              "ticks": ""
             }
            },
            "marker": {
             "colorbar": {
              "outlinewidth": 0,
              "ticks": ""
             }
            },
            "type": "scatter3d"
           }
          ],
          "scattercarpet": [
           {
            "marker": {
             "colorbar": {
              "outlinewidth": 0,
              "ticks": ""
             }
            },
            "type": "scattercarpet"
           }
          ],
          "scattergeo": [
           {
            "marker": {
             "colorbar": {
              "outlinewidth": 0,
              "ticks": ""
             }
            },
            "type": "scattergeo"
           }
          ],
          "scattergl": [
           {
            "marker": {
             "colorbar": {
              "outlinewidth": 0,
              "ticks": ""
             }
            },
            "type": "scattergl"
           }
          ],
          "scattermapbox": [
           {
            "marker": {
             "colorbar": {
              "outlinewidth": 0,
              "ticks": ""
             }
            },
            "type": "scattermapbox"
           }
          ],
          "scatterpolar": [
           {
            "marker": {
             "colorbar": {
              "outlinewidth": 0,
              "ticks": ""
             }
            },
            "type": "scatterpolar"
           }
          ],
          "scatterpolargl": [
           {
            "marker": {
             "colorbar": {
              "outlinewidth": 0,
              "ticks": ""
             }
            },
            "type": "scatterpolargl"
           }
          ],
          "scatterternary": [
           {
            "marker": {
             "colorbar": {
              "outlinewidth": 0,
              "ticks": ""
             }
            },
            "type": "scatterternary"
           }
          ],
          "surface": [
           {
            "colorbar": {
             "outlinewidth": 0,
             "ticks": ""
            },
            "colorscale": [
             [
              0,
              "#0d0887"
             ],
             [
              0.1111111111111111,
              "#46039f"
             ],
             [
              0.2222222222222222,
              "#7201a8"
             ],
             [
              0.3333333333333333,
              "#9c179e"
             ],
             [
              0.4444444444444444,
              "#bd3786"
             ],
             [
              0.5555555555555556,
              "#d8576b"
             ],
             [
              0.6666666666666666,
              "#ed7953"
             ],
             [
              0.7777777777777778,
              "#fb9f3a"
             ],
             [
              0.8888888888888888,
              "#fdca26"
             ],
             [
              1,
              "#f0f921"
             ]
            ],
            "type": "surface"
           }
          ],
          "table": [
           {
            "cells": {
             "fill": {
              "color": "#EBF0F8"
             },
             "line": {
              "color": "white"
             }
            },
            "header": {
             "fill": {
              "color": "#C8D4E3"
             },
             "line": {
              "color": "white"
             }
            },
            "type": "table"
           }
          ]
         },
         "layout": {
          "annotationdefaults": {
           "arrowcolor": "#2a3f5f",
           "arrowhead": 0,
           "arrowwidth": 1
          },
          "autotypenumbers": "strict",
          "coloraxis": {
           "colorbar": {
            "outlinewidth": 0,
            "ticks": ""
           }
          },
          "colorscale": {
           "diverging": [
            [
             0,
             "#8e0152"
            ],
            [
             0.1,
             "#c51b7d"
            ],
            [
             0.2,
             "#de77ae"
            ],
            [
             0.3,
             "#f1b6da"
            ],
            [
             0.4,
             "#fde0ef"
            ],
            [
             0.5,
             "#f7f7f7"
            ],
            [
             0.6,
             "#e6f5d0"
            ],
            [
             0.7,
             "#b8e186"
            ],
            [
             0.8,
             "#7fbc41"
            ],
            [
             0.9,
             "#4d9221"
            ],
            [
             1,
             "#276419"
            ]
           ],
           "sequential": [
            [
             0,
             "#0d0887"
            ],
            [
             0.1111111111111111,
             "#46039f"
            ],
            [
             0.2222222222222222,
             "#7201a8"
            ],
            [
             0.3333333333333333,
             "#9c179e"
            ],
            [
             0.4444444444444444,
             "#bd3786"
            ],
            [
             0.5555555555555556,
             "#d8576b"
            ],
            [
             0.6666666666666666,
             "#ed7953"
            ],
            [
             0.7777777777777778,
             "#fb9f3a"
            ],
            [
             0.8888888888888888,
             "#fdca26"
            ],
            [
             1,
             "#f0f921"
            ]
           ],
           "sequentialminus": [
            [
             0,
             "#0d0887"
            ],
            [
             0.1111111111111111,
             "#46039f"
            ],
            [
             0.2222222222222222,
             "#7201a8"
            ],
            [
             0.3333333333333333,
             "#9c179e"
            ],
            [
             0.4444444444444444,
             "#bd3786"
            ],
            [
             0.5555555555555556,
             "#d8576b"
            ],
            [
             0.6666666666666666,
             "#ed7953"
            ],
            [
             0.7777777777777778,
             "#fb9f3a"
            ],
            [
             0.8888888888888888,
             "#fdca26"
            ],
            [
             1,
             "#f0f921"
            ]
           ]
          },
          "colorway": [
           "#636efa",
           "#EF553B",
           "#00cc96",
           "#ab63fa",
           "#FFA15A",
           "#19d3f3",
           "#FF6692",
           "#B6E880",
           "#FF97FF",
           "#FECB52"
          ],
          "font": {
           "color": "#2a3f5f"
          },
          "geo": {
           "bgcolor": "white",
           "lakecolor": "white",
           "landcolor": "#E5ECF6",
           "showlakes": true,
           "showland": true,
           "subunitcolor": "white"
          },
          "hoverlabel": {
           "align": "left"
          },
          "hovermode": "closest",
          "mapbox": {
           "style": "light"
          },
          "paper_bgcolor": "white",
          "plot_bgcolor": "#E5ECF6",
          "polar": {
           "angularaxis": {
            "gridcolor": "white",
            "linecolor": "white",
            "ticks": ""
           },
           "bgcolor": "#E5ECF6",
           "radialaxis": {
            "gridcolor": "white",
            "linecolor": "white",
            "ticks": ""
           }
          },
          "scene": {
           "xaxis": {
            "backgroundcolor": "#E5ECF6",
            "gridcolor": "white",
            "gridwidth": 2,
            "linecolor": "white",
            "showbackground": true,
            "ticks": "",
            "zerolinecolor": "white"
           },
           "yaxis": {
            "backgroundcolor": "#E5ECF6",
            "gridcolor": "white",
            "gridwidth": 2,
            "linecolor": "white",
            "showbackground": true,
            "ticks": "",
            "zerolinecolor": "white"
           },
           "zaxis": {
            "backgroundcolor": "#E5ECF6",
            "gridcolor": "white",
            "gridwidth": 2,
            "linecolor": "white",
            "showbackground": true,
            "ticks": "",
            "zerolinecolor": "white"
           }
          },
          "shapedefaults": {
           "line": {
            "color": "#2a3f5f"
           }
          },
          "ternary": {
           "aaxis": {
            "gridcolor": "white",
            "linecolor": "white",
            "ticks": ""
           },
           "baxis": {
            "gridcolor": "white",
            "linecolor": "white",
            "ticks": ""
           },
           "bgcolor": "#E5ECF6",
           "caxis": {
            "gridcolor": "white",
            "linecolor": "white",
            "ticks": ""
           }
          },
          "title": {
           "x": 0.05
          },
          "xaxis": {
           "automargin": true,
           "gridcolor": "white",
           "linecolor": "white",
           "ticks": "",
           "title": {
            "standoff": 15
           },
           "zerolinecolor": "white",
           "zerolinewidth": 2
          },
          "yaxis": {
           "automargin": true,
           "gridcolor": "white",
           "linecolor": "white",
           "ticks": "",
           "title": {
            "standoff": 15
           },
           "zerolinecolor": "white",
           "zerolinewidth": 2
          }
         }
        },
        "title": {
         "text": "2D Visualization of Embeddings with Clusters and 468 startups"
        },
        "width": 1000,
        "xaxis": {
         "anchor": "y",
         "autorange": true,
         "domain": [
          0,
          1
         ],
         "range": [
          -51.526529273972606,
          49.313121273972605
         ],
         "title": {
          "text": "x"
         },
         "type": "linear"
        },
        "yaxis": {
         "anchor": "x",
         "autorange": true,
         "domain": [
          0,
          1
         ],
         "range": [
          -57.064691243462015,
          57.35527224346202
         ],
         "title": {
          "text": "y"
         },
         "type": "linear"
        }
       }
      },
      "image/png": "[encoded data removed]",
      "text/html": [
       "<div>                            <div id=\"4854a13a-306f-463c-ae9c-da7ee47797ae\" class=\"plotly-graph-div\" style=\"height:600px; width:1000px;\"></div>            <script type=\"text/javascript\">                require([\"plotly\"], function(Plotly) {                    window.PLOTLYENV=window.PLOTLYENV || {};                                    if (document.getElementById(\"4854a13a-306f-463c-ae9c-da7ee47797ae\")) {                    Plotly.newPlot(                        \"4854a13a-306f-463c-ae9c-da7ee47797ae\",                        [{\"customdata\":[[\"Music and Audio Production Tools\"],[\"Music and Audio Production Tools\"],[\"Music and Audio Production Tools\"],[\"Music and Audio Production Tools\"],[\"Music and Audio Production Tools\"],[\"Music and Audio Production Tools\"],[\"Music and Audio Production Tools\"],[\"Music and Audio Production Tools\"],[\"Music and Audio Production Tools\"],[\"Music and Audio Production Tools\"],[\"Music and Audio Production Tools\"],[\"AI Toolset for Developers\"],[\"AI Toolset for Developers\"],[\"AI Toolset for Developers\"],[\"AI Toolset for Developers\"],[\"AI Toolset for Developers\"],[\"AI Toolset for Developers\"],[\"AI Toolset for Developers\"],[\"AI Toolset for Developers\"],[\"AI Toolset for Developers\"],[\"AI Toolset for Developers\"],[\"AI Toolset for Developers\"],[\"Construction and Workflow Automation\"],[\"Construction and Workflow Automation\"],[\"Construction and Workflow Automation\"],[\"Web Development and AI tools\"],[\"Web Development and AI tools\"],[\"Web Development and AI tools\"],[\"Web Development and AI tools\"],[\"Web Development and AI tools\"],[\"Web Development and AI tools\"],[\"AI Research and Development\"],[\"AI Research and Development\"],[\"AI Research and Development\"],[\"AI Research and Development\"],[\"AI Research and Development\"],[\"AI Research and Development\"],[\"AI Research and Development\"],[\"AI Research and Development\"],[\"AI Research and Development\"],[\"AI Research and Development\"],[\"AI Research and Development\"],[\"AI Research and Development\"],[\"AI Research and Development\"],[\"AI Research and Development\"],[\"AI Research and Development\"],[\"AI Research and Development\"],[\"AI Research and Development\"],[\"AI Research and Development\"],[\"AI Research and Development\"],[\"AI Research and Development\"],[\"AI Research and Development\"],[\"AI Research and Development\"],[\"Tech and Blockchain News\"],[\"Tech and Blockchain News\"],[\"Tech and Blockchain News\"],[\"Tech and Blockchain News\"],[\"Tech and Blockchain News\"],[\"HR and Recruitment Automation\"],[\"HR and Recruitment Automation\"],[\"HR and Recruitment Automation\"],[\"HR and Recruitment Automation\"],[\"HR and Recruitment Automation\"],[\"HR and Recruitment Automation\"],[\"HR and Recruitment Automation\"],[\"HR and Recruitment Automation\"],[\"HR and Recruitment Automation\"],[\"HR and Recruitment Automation\"],[\"HR and Recruitment Automation\"],[\"Retail Supply Chain Management\"],[\"Retail Supply Chain Management\"],[\"Retail Supply Chain Management\"],[\"Retail Supply Chain Management\"],[\"Retail Supply Chain Management\"],[\"Advanced Cybersecurity Solutions\"],[\"Advanced Cybersecurity Solutions\"],[\"Advanced Cybersecurity Solutions\"],[\"Advanced Cybersecurity Solutions\"],[\"Advanced Cybersecurity Solutions\"],[\"Advanced Cybersecurity Solutions\"],[\"Advanced Cybersecurity Solutions\"],[\"Advanced Cybersecurity Solutions\"],[\"Advanced Cybersecurity Solutions\"],[\"Advanced Cybersecurity Solutions\"],[\"Advanced Cybersecurity Solutions\"],[\"Advanced Cybersecurity Solutions\"],[\"Mobile and Software Development Technologies\"],[\"Mobile and Software Development Technologies\"],[\"Mobile and Software Development Technologies\"],[\"Mobile and Software Development Technologies\"],[\"Mobile and Software Development Technologies\"],[\"Mobile and Software Development Technologies\"],[\"Mobile and Software Development Technologies\"],[\"Mobile and Software Development Technologies\"],[\"Mobile and Software Development Technologies\"],[\"Mobile and Software Development Technologies\"],[\"Mobile and Software Development Technologies\"],[\"Mobile and Software Development Technologies\"],[\"Mobile and Software Development Technologies\"],[\"Mobile and Software Development Technologies\"],[\"Mobile and Software Development Technologies\"],[\"Mobile and Software Development Technologies\"],[\"Mobile and Software Development Technologies\"],[\"Mobile and Software Development Technologies\"],[\"Mobile and Software Development Technologies\"],[\"Mobile and Software Development Technologies\"],[\"Mobile and Software Development Technologies\"],[\"Educational Technologies and Learning Platforms\"],[\"Educational Technologies and Learning Platforms\"],[\"Educational Technologies and Learning Platforms\"],[\"Educational Technologies and Learning Platforms\"],[\"Educational Technologies and Learning Platforms\"],[\"Educational Technologies and Learning Platforms\"],[\"Educational Technologies and Learning Platforms\"],[\"Educational Technologies and Learning Platforms\"],[\"Educational Technologies and Learning Platforms\"],[\"Educational Technologies and Learning Platforms\"],[\"Educational Technologies and Learning Platforms\"],[\"Educational Technologies and Learning Platforms\"],[\"Educational Technologies and Learning Platforms\"],[\"Educational Technologies and Learning Platforms\"],[\"Educational Technologies and Learning Platforms\"],[\"Educational Technologies and Learning Platforms\"],[\"Educational Technologies and Learning Platforms\"],[\"Healthcare Data Management Systems\"],[\"Healthcare Data Management Systems\"],[\"Healthcare Data Management Systems\"],[\"Healthcare Data Management Systems\"],[\"Healthcare Data Management Systems\"],[\"Healthcare Data Management Systems\"],[\"Healthcare Data Management Systems\"],[\"Healthcare Data Management Systems\"],[\"Healthcare Data Management Systems\"],[\"Creative Business Tools\"],[\"Creative Business Tools\"],[\"Creative Business Tools\"],[\"Creative Business Tools\"],[\"Creative Business Tools\"],[\"Creative Business Tools\"],[\"Creative Business Tools\"],[\"Creative Business Tools\"],[\"Creative Business Tools\"],[\"Creative Business Tools\"],[\"Creative Business Tools\"],[\"Creative Business Tools\"],[\"Creative Business Tools\"],[\"Creative Business Tools\"],[\"Creative Business Tools\"],[\"Creative Business Tools\"],[\"Creative Business Tools\"],[\"Creative Business Tools\"],[\"Creative Business Tools\"],[\"Creative Business Tools\"],[\"Restaurant and Hospitality Services\"],[\"Restaurant and Hospitality Services\"],[\"Restaurant and Hospitality Services\"],[\"Restaurant and Hospitality Services\"],[\"Restaurant and Hospitality Services\"],[\"Restaurant and Hospitality Services\"],[\"Restaurant and Hospitality Services\"],[\"Restaurant and Hospitality Services\"],[\"Regulatory Compliance and Risk Management\"],[\"Regulatory Compliance and Risk Management\"],[\"Regulatory Compliance and Risk Management\"],[\"Regulatory Compliance and Risk Management\"],[\"Regulatory Compliance and Risk Management\"],[\"Regulatory Compliance and Risk Management\"],[\"Regulatory Compliance and Risk Management\"],[\"Regulatory Compliance and Risk Management\"],[\"Regulatory Compliance and Risk Management\"],[\"Regulatory Compliance and Risk Management\"],[\"Gamification in Education\"],[\"Gamification in Education\"],[\"Marketing Data Analytics\"],[\"Marketing Data Analytics\"],[\"Marketing Data Analytics\"],[\"Personalized Wellness Programs\"],[\"Personalized Wellness Programs\"],[\"Personalized Wellness Programs\"],[\"Personalized Wellness Programs\"],[\"Personalized Wellness Programs\"],[\"Personalized Wellness Programs\"],[\"Personalized Wellness Programs\"],[\"Personalized Wellness Programs\"],[\"AI-Driven Business Strategies\"],[\"AI-Driven Business Strategies\"],[\"AI-Driven Business Strategies\"],[\"AI-Driven Business Strategies\"],[\"AI-Driven Business Strategies\"],[\"E-commerce and Retail Strategies\"],[\"E-commerce and Retail Strategies\"],[\"E-commerce and Retail Strategies\"],[\"E-commerce and Retail Strategies\"],[\"E-commerce and Retail Strategies\"],[\"E-commerce and Retail Strategies\"],[\"E-commerce and Retail Strategies\"],[\"AI Systems Development\"],[\"AI Systems Development\"],[\"AI Systems Development\"],[\"AI Systems Development\"],[\"AI Systems Development\"],[\"AI Systems Development\"],[\"AI Systems Development\"],[\"AI Systems Development\"],[\"AI Systems Development\"],[\"AI Systems Development\"],[\"AI Systems Development\"],[\"AI Systems Development\"],[\"AI Systems Development\"],[\"AI Systems Development\"],[\"AI Systems Development\"],[\"AI Systems Development\"],[\"AI Systems Development\"],[\"AI Systems Development\"],[\"AI Systems Development\"],[\"AI Systems Development\"],[\"AI Systems Development\"],[\"AI Systems Development\"],[\"AI Systems Development\"],[\"AI Systems Development\"],[\"AI Systems Development\"],[\"AI Systems Development\"],[\"AI Systems Development\"],[\"AI Systems Development\"],[\"AI Systems Development\"],[\"AI Systems Development\"],[\"AI Systems Development\"],[\"AI Systems Development\"],[\"AI Systems Development\"],[\"AI Systems Development\"],[\"AI Systems Development\"],[\"AI Systems Development\"],[\"AI Systems Development\"],[\"Social Media and Marketing Strategies\"],[\"Social Media and Marketing Strategies\"],[\"Social Media and Marketing Strategies\"],[\"Social Media and Marketing Strategies\"],[\"Social Media and Marketing Strategies\"],[\"Customer Data Analysis\"],[\"Customer Data Analysis\"],[\"Customer Data Analysis\"],[\"Customer Data Analysis\"],[\"Automated Business Systems\"],[\"Automated Business Systems\"],[\"Automated Business Systems\"],[\"Automated Business Systems\"],[\"Automated Business Systems\"],[\"Automated Business Systems\"],[\"Automated Business Systems\"],[\"Automated Business Systems\"],[\"Automated Business Systems\"],[\"Automated Business Systems\"],[\"Automated Business Systems\"],[\"Automated Business Systems\"],[\"Automated Business Systems\"],[\"Automated Business Systems\"],[\"Automated Business Systems\"],[\"Automated Business Systems\"],[\"Automated Business Systems\"],[\"Automated Business Systems\"],[\"Automated Business Systems\"],[\"Automated Business Systems\"],[\"Automated Business Systems\"],[\"Automated Business Systems\"],[\"Automated Business Systems\"],[\"Automated Business Systems\"],[\"Automated Business Systems\"],[\"Automated Business Systems\"],[\"Automated Business Systems\"],[\"Automated Business Systems\"],[\"Career Development Tools\"],[\"Career Development Tools\"],[\"Career Development Tools\"],[\"Career Development Tools\"],[\"Veterinary and Pet Care Technologies\"],[\"Veterinary and Pet Care Technologies\"],[\"Veterinary and Pet Care Technologies\"],[\"Legal and Technological Automation\"],[\"Legal and Technological Automation\"],[\"Legal and Technological Automation\"],[\"Legal and Technological Automation\"],[\"Legal and Technological Automation\"],[\"Legal and Technological Automation\"],[\"Legal and Technological Automation\"],[\"Data Insights and Analytics\"],[\"Data Insights and Analytics\"],[\"Data Insights and Analytics\"],[\"Data Insights and Analytics\"],[\"Data Insights and Analytics\"],[\"Data Insights and Analytics\"],[\"Social Media and Digital Insights\"],[\"Social Media and Digital Insights\"],[\"Social Media and Digital Insights\"],[\"Social Media and Digital Insights\"],[\"Social Media and Digital Insights\"],[\"Social Media and Digital Insights\"],[\"Social Media and Digital Insights\"],[\"Social Media and Digital Insights\"],[\"Social Media and Digital Insights\"],[\"Social Media and Digital Insights\"],[\"Social Media and Digital Insights\"],[\"Social Media and Digital Insights\"],[\"Travel Booking and Planning Systems\"],[\"Travel Booking and Planning Systems\"],[\"Travel Booking and Planning Systems\"],[\"Travel Booking and Planning Systems\"],[\"Travel Booking and Planning Systems\"],[\"Travel Booking and Planning Systems\"],[\"Travel Booking and Planning Systems\"],[\"Travel Booking and Planning Systems\"],[\"Real Estate Investment Analysis\"],[\"Real Estate Investment Analysis\"],[\"Real Estate Investment Analysis\"],[\"Real Estate Investment Analysis\"],[\"Real Estate Investment Analysis\"],[\"Real Estate Investment Analysis\"],[\"Real Estate Investment Analysis\"],[\"Real Estate Investment Analysis\"],[\"Real Estate Investment Analysis\"],[\"Financial Management Systems\"],[\"Financial Management Systems\"],[\"Financial Management Systems\"],[\"Financial Management Systems\"],[\"Financial Management Systems\"],[\"Financial Management Systems\"],[\"Financial Management Systems\"],[\"Financial Management Systems\"],[\"Financial Management Systems\"],[\"Financial Management Systems\"],[\"Financial Management Systems\"],[\"Financial Management Systems\"],[\"Financial Management Systems\"],[\"Financial Management Systems\"],[\"Financial Management Systems\"],[\"Financial Management Systems\"],[\"Financial Management Systems\"],[\"Data Management and Quality Control\"],[\"Data Management and Quality Control\"],[\"Data Management and Quality Control\"],[\"Data Management and Quality Control\"],[\"Data Management and Quality Control\"],[\"Data Management and Quality Control\"],[\"Data Management and Quality Control\"],[\"Data Management and Quality Control\"],[\"No-Code AI Platforms\"],[\"No-Code AI Platforms\"],[\"No-Code AI Platforms\"],[\"Healthcare Workflow Optimization\"],[\"Healthcare Workflow Optimization\"],[\"Healthcare Workflow Optimization\"],[\"Healthcare Workflow Optimization\"],[\"Healthcare Workflow Optimization\"],[\"Venture Capital and Financing\"],[\"Venture Capital and Financing\"],[\"Venture Capital and Financing\"],[\"Venture Capital and Financing\"],[\"Venture Capital and Financing\"],[\"Venture Capital and Financing\"],[\"Venture Capital and Financing\"],[\"Venture Capital and Financing\"],[\"Venture Capital and Financing\"],[\"Venture Capital and Financing\"],[\"Sustainability and Non-Profit Solutions\"],[\"Sustainability and Non-Profit Solutions\"],[\"Sustainability and Non-Profit Solutions\"],[\"Sustainability and Non-Profit Solutions\"],[\"Wellness and Sleep Health\"],[\"Wellness and Sleep Health\"],[\"Industrial Sales Automation\"],[\"Industrial Sales Automation\"],[\"Industrial Sales Automation\"],[\"Tax and Accounting Automation\"],[\"Tax and Accounting Automation\"],[\"Tax and Accounting Automation\"],[\"Sales and Marketing Outreach\"],[\"Sales and Marketing Outreach\"],[\"Sales and Marketing Outreach\"],[\"Sales and Marketing Outreach\"],[\"Sales and Marketing Outreach\"],[\"Sales and Marketing Outreach\"],[\"Sales and Marketing Outreach\"],[\"Sales and Marketing Outreach\"],[\"Sales and Marketing Outreach\"],[\"Sales and Marketing Outreach\"],[\"Sales and Marketing Outreach\"],[\"Image Enhancement Solutions\"],[\"Image Enhancement Solutions\"],[\"Image Enhancement Solutions\"],[\"Image Enhancement Solutions\"],[\"Image Enhancement Solutions\"],[\"Image Enhancement Solutions\"],[\"Image Enhancement Solutions\"],[\"Creative Content and Media Tools\"],[\"Creative Content and Media Tools\"],[\"Creative Content and Media Tools\"],[\"Creative Content and Media Tools\"],[\"Creative Content and Media Tools\"],[\"Creative Content and Media Tools\"],[\"Creative Content and Media Tools\"],[\"Home and Interior Design\"],[\"Home and Interior Design\"],[\"Home and Interior Design\"],[\"Home and Interior Design\"],[\"Mental Health and Therapy\"],[\"Mental Health and Therapy\"],[\"Mental Health and Therapy\"],[\"Mental Health and Therapy\"],[\"Market and Business Strategy\"],[\"Market and Business Strategy\"],[\"Market and Business Strategy\"],[\"Market and Business Strategy\"],[\"Animation and Visual Effects Tools\"],[\"Animation and Visual Effects Tools\"],[\"Animation and Visual Effects Tools\"],[\"Animation and Visual Effects Tools\"],[\"Animation and Visual Effects Tools\"],[\"Animation and Visual Effects Tools\"],[\"Animation and Visual Effects Tools\"],[\"Animation and Visual Effects Tools\"],[\"Animation and Visual Effects Tools\"],[\"Technical Writing and Proposals\"],[\"Technical Writing and Proposals\"],[\"Biotechnological Research\"],[\"Biotechnological Research\"],[\"Biotechnological Research\"],[\"Project and Team Management\"],[\"Project and Team Management\"],[\"Project and Team Management\"],[\"Project and Team Management\"],[\"Project and Team Management\"],[\"Project and Team Management\"],[\"Project and Team Management\"],[\"E-commerce Management\"],[\"E-commerce Management\"],[\"E-commerce Management\"],[\"E-commerce Management\"],[\"Industrial Sourcing Solutions\"],[\"Industrial Sourcing Solutions\"],[\"Industrial Sourcing Solutions\"],[\"Industrial Sourcing Solutions\"],[\"Decentralized Tech and Identity\"],[\"Decentralized Tech and Identity\"],[\"Decentralized Tech and Identity\"],[\"Decentralized Tech and Identity\"],[\"Client Management in Legal Services\"],[\"Client Management in Legal Services\"],[\"Social and Event Planning Tools\"],[\"Social and Event Planning Tools\"],[\"Social and Event Planning Tools\"],[\"Document Management Automation\"],[\"Document Management Automation\"],[\"Development Tools Automation\"],[\"Development Tools Automation\"],[\"Development Tools Automation\"],[\"Solutions for Industrial Automation\"],[\"Solutions for Industrial Automation\"],[\"Solutions for Industrial Automation\"],[\"Language and Speech Learning\"],[\"Language and Speech Learning\"],[\"Language and Speech Learning\"],[\"Insurance Management Services\"],[\"Insurance Management Services\"],[\"Personal Growth and Development\"],[\"Personal Growth and Development\"],[\"Personal Growth and Development\"],[\"High-Performance Computing Solutions\"],[\"High-Performance Computing Solutions\"],[\"High-Performance Computing Solutions\"]],\"hovertemplate\":\"x=%{x}<br>y=%{y}<br>generated_cluster_label=%{customdata[0]}<br>cluster=%{marker.color}<extra></extra>\",\"legendgroup\":\"\",\"marker\":{\"color\":[61,61,61,61,61,61,61,61,61,61,61,26,26,26,26,26,26,26,26,26,26,26,60,60,60,32,32,32,32,32,32,25,25,25,25,25,25,25,25,25,25,25,25,25,25,25,25,25,25,25,25,25,25,34,34,34,34,34,53,53,53,53,53,53,53,53,53,53,53,3,3,3,3,3,1,1,1,1,1,1,1,1,1,1,1,1,22,22,22,22,22,22,22,22,22,22,22,22,22,22,22,22,22,22,22,22,22,46,46,46,46,46,46,46,46,46,46,46,46,46,46,46,46,46,38,38,38,38,38,38,38,38,38,50,50,50,50,50,50,50,50,50,50,50,50,50,50,50,50,50,50,50,50,56,56,56,56,56,56,56,56,17,17,17,17,17,17,17,17,17,17,47,47,8,8,8,42,42,42,42,42,42,42,42,28,28,28,28,28,23,23,23,23,23,23,23,27,27,27,27,27,27,27,27,27,27,27,27,27,27,27,27,27,27,27,27,27,27,27,27,27,27,27,27,27,27,27,27,27,27,27,27,27,36,36,36,36,36,6,6,6,6,30,30,30,30,30,30,30,30,30,30,30,30,30,30,30,30,30,30,30,30,30,30,30,30,30,30,30,30,54,54,54,54,62,62,62,18,18,18,18,18,18,18,5,5,5,5,5,5,35,35,35,35,35,35,35,35,35,35,35,35,57,57,57,57,57,57,57,57,16,16,16,16,16,16,16,16,16,10,10,10,10,10,10,10,10,10,10,10,10,10,10,10,10,10,2,2,2,2,2,2,2,2,31,31,31,39,39,39,39,39,15,15,15,15,15,15,15,15,15,15,40,40,40,40,45,45,4,4,4,13,13,13,9,9,9,9,9,9,9,9,9,9,9,7,7,7,7,7,7,7,51,51,51,51,51,51,51,59,59,59,59,43,43,43,43,29,29,29,29,52,52,52,52,52,52,52,52,52,49,49,41,41,41,20,20,20,20,20,20,20,24,24,24,24,11,11,11,11,12,12,12,12,37,37,21,21,21,19,19,33,33,33,55,55,55,48,48,48,14,14,44,44,44,0,0,0],\"coloraxis\":\"coloraxis\",\"symbol\":\"circle\",\"size\":10},\"mode\":\"markers\",\"name\":\"\",\"orientation\":\"v\",\"showlegend\":false,\"x\":[-17.246582,-22.577639,-14.846723,-21.39423,-14.560872,-21.596195,-0.6085661,7.965918,-6.6601686,2.5029495,-18.783094,5.453025,16.772793,10.867387,10.001225,24.756763,3.7171378,1.0150203,10.480784,18.20799,15.392288,20.728374,-45.72061,-42.61082,-38.021076,-8.852089,-36.05923,-13.826266,39.185276,-36.513767,-41.62146,28.623798,24.492306,20.13029,16.377918,12.6545925,15.762672,-6.83546,25.588148,-16.583864,20.230795,31.826231,4.0969357,28.70696,3.6947076,0.56744975,-16.551395,20.657524,7.2047763,11.238902,8.147223,-14.330961,-13.28896,-8.068511,-10.502254,-5.79672,-2.7939224,-7.678581,10.049684,-32.056713,4.7596264,10.923986,11.865263,-1.6550021,-2.2353234,3.9121277,1.8500186,11.271172,4.724151,16.931513,9.410604,13.261849,4.100873,15.085004,5.19183,1.300309,4.4567094,-2.8871634,-9.54379,-7.6368484,-0.32458577,-4.50067,-1.626461,-8.09626,8.814768,3.9031856,18.754196,1.8446118,28.400278,21.900425,10.867497,1.730643,2.633434,7.853074,5.2405825,35.500042,35.08293,28.341549,12.252229,37.28977,8.792821,26.880556,20.985603,12.51579,30.141985,14.248441,18.714882,-3.4686399,-11.229006,-9.787068,-13.568376,-4.705306,-9.126707,-13.923618,-3.708757,-20.131245,-39.57304,-6.8678417,3.0911458,19.667831,-16.545654,-7.5459332,-6.9700885,-8.095586,-19.909243,-30.58473,-14.677168,-21.795723,-23.33029,-22.239462,-26.772753,-14.909496,-17.662422,33.558052,8.101478,6.498001,19.42335,38.31899,-3.0919228,23.35178,18.038906,12.932514,18.444092,17.847538,-0.8470455,6.16315,26.290968,28.709286,11.237555,17.293846,12.578967,-31.73962,12.262656,25.113003,21.489058,-31.482235,28.472435,-24.183514,-27.876638,26.66759,-33.75015,-12.502595,-4.9538636,-31.639069,-17.810905,-19.742952,-18.631172,-17.272898,-23.304811,-24.7611,-13.097114,1.4436964,-1.0612551,-12.261194,-11.756814,-8.68822,31.528702,-8.867341,-15.976963,-5.3136334,-17.68283,-11.199497,-0.09467454,-11.263564,19.89078,16.642439,24.530453,22.496262,16.45322,28.05545,17.331766,-0.81867754,14.2121935,22.52688,19.736935,15.002389,30.172903,-32.252846,8.384662,21.034468,16.47523,-32.083458,4.0769053,30.092281,-3.1457593,8.840187,10.400939,9.211332,16.88069,0.041577157,12.160851,9.521186,21.015345,-1.8112332,4.3974795,9.834211,14.609748,9.57927,-0.45753628,18.17289,23.31895,24.954782,6.6807647,21.778051,12.727132,5.874886,-3.3769693,16.495491,12.586459,22.341036,18.441946,-0.43100893,13.555215,-0.08307244,2.172479,3.7314272,7.9401336,6.789544,-8.13374,-2.45236,18.356203,16.918083,20.554695,3.404964,-3.6259818,-15.240963,19.731833,-13.002905,2.0426161,31.83145,1.00008,-4.5326295,-25.665964,-20.384747,8.989742,-5.6605153,23.073399,10.474709,9.596929,-10.495364,-7.7207913,2.1682963,-0.9389637,-27.756311,-1.0316229,19.396095,-5.9573193,-1.8722603,-19.345978,5.3250923,5.068737,-0.5747998,9.92555,3.986984,-7.620679,-3.3674827,-12.565319,-38.924515,-41.20058,-39.855137,-35.149143,-29.986551,-32.354748,-33.462296,12.781089,5.766099,11.108619,6.200723,5.455049,4.914738,23.554665,4.9783792,30.040356,1.561549,19.750225,14.346761,25.919926,-7.791137,-21.355467,-4.8643155,-3.4202285,-1.0353197,-23.481415,-14.958683,-17.637745,-20.697618,-16.237537,-21.759886,-17.998497,-29.81052,-30.735027,-27.814558,-41.287914,-32.772804,-34.899605,-34.285023,-39.477917,-32.544567,-20.489138,-11.634977,-7.4760356,-13.647993,-12.40285,-30.749022,-8.51312,-18.381762,-24.016453,-28.62411,-24.709642,0.3373218,-5.131041,-4.9380817,-22.0517,-14.2720375,-24.392754,-15.685673,25.16047,24.33341,29.582142,35.068817,28.427208,-1.7854366,5.986837,31.965843,22.90198,23.226582,14.2645,-25.154581,-26.639065,-22.659472,-32.3933,-28.268644,-32.763718,-25.91506,-24.98556,-23.741045,-17.722605,-17.351788,-27.552162,-32.693848,-27.743717,-24.775127,22.620066,13.540156,26.3422,20.738514,-14.593982,-16.959568,-16.447695,-1.9734057,-11.363961,-4.3177557,-7.2265983,-7.0083094,-14.717352,-7.627274,-11.918596,-15.652947,-8.282379,-17.557241,-23.171234,-21.013296,-15.325235,-7.1108527,-6.458539,28.40571,37.913322,32.942806,35.727894,30.818396,29.617065,33.209072,9.061066,14.85222,2.666416,17.331057,10.925959,7.6240773,18.340982,-11.277065,-5.740726,-12.127356,-0.19858076,-27.531446,-26.237179,-21.023863,-25.99531,-20.012821,-16.762222,-7.7460694,-23.031904,23.074343,16.786148,30.55048,22.512365,29.69164,22.378881,19.490007,21.84361,24.990997,-18.5325,-25.684793,43.507202,39.701214,42.435238,4.477311,2.958473,7.7494802,2.1681147,1.1519746,9.283833,-2.0664873,11.971715,6.428005,28.238293,6.6850696,-4.688107,-6.499977,1.2956688,-14.899933,-10.231618,-6.6981134,32.335808,-15.196375,-29.560886,-34.186764,7.8785706,-10.698632,-22.00442,-7.188264,0.045205675,23.939743,16.874119,16.937548,7.8260407,36.6897,29.712963,-8.02049,-18.989271,-13.271299,-30.813612,-32.23231,-20.77101,-14.696222,-15.355387,24.042358,35.83632,37.709778],\"xaxis\":\"x\",\"y\":[29.3108,32.7656,36.283844,40.305325,38.634174,33.207363,36.468216,32.771862,35.929413,32.758083,38.028675,29.48219,5.8890743,25.04349,19.470633,15.775681,23.030712,20.91264,9.2518215,12.716685,14.506677,8.868575,6.6191416,1.1346492,4.4173098,0.56919,31.97322,-2.2847462,4.299385,23.098316,17.963991,14.427021,0.4836759,13.474791,2.7401197,17.860369,6.3065004,11.936035,-10.940445,8.776724,20.206028,16.6619,16.09536,5.814251,7.948504,-17.933125,15.561941,2.363412,11.426624,13.205989,1.7080535,6.4418015,14.146708,25.97038,27.013672,18.857325,25.984182,20.815317,-9.892617,15.62196,-7.746367,1.0641385,-3.0031695,-13.0574045,-4.50705,-8.835261,-2.5742006,-6.0895486,-1.4888626,-34.771698,-37.170406,-42.077866,-45.67133,-41.59874,-3.594943,-5.316316,-8.117537,-4.667055,-0.8797289,-6.539847,-10.883546,-12.626665,-0.955748,-4.8375835,-11.024157,2.1041012,-13.115412,6.867701,-2.275083,-11.076298,-12.4428215,5.8442163,0.29545772,0.3995703,-7.9874144,1.1930442,0.41650218,5.887965,0.8338908,-4.2327704,2.116811,-4.6450057,1.6669543,-8.597416,-10.0457115,-4.219278,-8.430157,25.147617,29.402088,28.767658,22.487724,5.953413,13.364331,19.188839,8.873487,28.157187,14.691897,36.856552,37.335793,-10.392645,14.605231,22.4814,21.795517,13.428395,15.8114,9.817062,9.692473,27.390331,22.854307,10.930303,11.197022,20.505663,14.645175,28.752443,45.182915,-18.105137,38.975857,9.37515,-35.221252,25.985905,10.28788,33.21744,44.84534,33.13906,-19.564066,43.288998,32.944855,35.413292,9.361667,30.94081,25.206194,-22.765554,10.221571,-41.795815,-36.767986,-7.099448,-36.49957,-10.391214,4.074886,-34.87101,-13.029707,-16.867176,-19.404192,-6.8002725,-9.3256855,-11.288168,-15.018913,-19.875553,-0.95924187,-5.6474323,-24.282993,30.72132,27.714146,-8.978063,-16.045517,-8.703181,36.462082,25.209227,22.981413,32.19354,24.059465,29.203856,31.365412,18.351797,8.407455,5.5238047,3.618751,9.505454,16.681265,-21.892921,-23.199022,-37.684196,-30.177725,-25.775925,-23.044588,-32.767242,5.8394933,3.5255203,12.056219,-4.1094995,-11.963306,20.171518,-3.9618766,-5.726506,-1.9265137,26.513569,-12.164454,-13.222577,7.75698,-8.196862,11.277853,-19.09899,11.678249,4.0387335,12.196812,4.84332,-18.878616,3.2616708,6.1676316,21.182255,-16.969448,4.552594,-3.407983,11.530001,-4.767167,-7.079986,-10.364544,-11.462362,11.213538,22.091816,24.84872,-0.15733828,-5.2263913,19.949986,23.055834,13.069132,18.348167,23.094038,-19.59798,-22.425514,-19.284342,-25.164118,-36.798042,-15.490251,-26.20846,0.6563135,-30.266924,-6.970276,-21.912697,-22.400616,-16.916155,-17.657799,14.968582,3.4124691,-27.559963,-8.132439,1.9867234,-21.163143,-21.611982,7.8663807,5.990319,-14.7199745,-18.503464,13.339702,-22.529432,-20.309961,-1.3127503,6.9538193,-8.232914,-24.341278,9.667843,8.632688,14.713308,14.929441,14.0010395,17.613964,-10.801769,2.2902856,-4.9876714,-4.4317727,-0.32549256,3.7547476,-2.3232367,-4.7091227,-27.594065,-14.721823,-32.030613,-23.197334,-26.327442,-30.583487,21.393858,33.432518,2.6780515,17.716537,29.464315,28.625996,9.926001,11.033408,-15.687951,24.917412,17.080776,34.43045,-3.4065287,-0.60683787,-8.559749,-2.4250376,-6.4774284,3.5269408,1.1470702,0.69998705,-13.465432,-19.166332,-13.030518,-13.697514,-20.920546,-19.507404,-12.530359,-14.766058,-17.826199,-31.359257,-39.57857,-15.333297,-35.31986,-30.93517,-19.379652,-43.183743,-43.11548,-25.582516,-30.750109,-33.952717,-31.484072,-28.487024,-36.113667,-24.60381,-19.798409,-20.76317,-21.147635,-37.625008,-32.457844,-27.579306,-26.166021,-27.729433,-25.380049,-22.58352,-3.120606,-0.7238578,-2.962627,7.994473,13.350235,4.139903,11.890683,16.113762,-28.956703,-37.740643,-28.439257,-32.945892,-27.757298,-33.101727,-32.484383,-32.942337,-26.80984,-27.961525,-20.931808,-19.749115,-13.198411,-16.200008,38.627796,35.781178,-30.661201,-36.129124,-31.746864,-49.789074,-37.0327,-43.602352,-24.579832,-19.711523,-24.015162,-17.392326,-12.081648,-22.524666,-23.39256,-23.434187,-18.05896,-33.49648,-14.173697,22.738699,17.146751,18.930124,17.322746,23.804457,17.894123,25.530128,23.080185,24.525158,16.450798,20.07831,18.4239,25.600565,17.533716,50.079655,46.86703,47.069237,48.44087,33.656406,25.876263,29.61573,26.124678,-8.161963,-26.370064,-31.94003,-20.51529,39.89608,35.38486,37.42449,43.252384,41.015038,40.150593,32.285526,33.487812,31.390146,-39.211494,-39.293446,-5.9556656,-8.830435,0.30722958,-7.1082625,2.272549,-16.850924,-7.483129,-12.895962,-7.7344294,-6.44853,-28.982061,-38.92732,14.682586,-29.376646,-47.229626,-44.80744,-40.02992,-42.52028,-2.429653,2.0447924,22.498362,-1.5628347,-7.7840557,-11.734207,40.738544,1.2109954,5.1812572,-25.037426,-28.012278,-11.450288,-15.056443,-3.497972,-28.641956,-14.919272,-19.470198,30.743614,24.53296,25.847013,-6.9092946,-1.9785465,14.357377,15.17202,16.73469,-6.0070257,-6.941677,-1.5996993],\"yaxis\":\"y\",\"type\":\"scatter\"}],                        {\"template\":{\"data\":{\"histogram2dcontour\":[{\"type\":\"histogram2dcontour\",\"colorbar\":{\"outlinewidth\":0,\"ticks\":\"\"},\"colorscale\":[[0.0,\"#0d0887\"],[0.1111111111111111,\"#46039f\"],[0.2222222222222222,\"#7201a8\"],[0.3333333333333333,\"#9c179e\"],[0.4444444444444444,\"#bd3786\"],[0.5555555555555556,\"#d8576b\"],[0.6666666666666666,\"#ed7953\"],[0.7777777777777778,\"#fb9f3a\"],[0.8888888888888888,\"#fdca26\"],[1.0,\"#f0f921\"]]}],\"choropleth\":[{\"type\":\"choropleth\",\"colorbar\":{\"outlinewidth\":0,\"ticks\":\"\"}}],\"histogram2d\":[{\"type\":\"histogram2d\",\"colorbar\":{\"outlinewidth\":0,\"ticks\":\"\"},\"colorscale\":[[0.0,\"#0d0887\"],[0.1111111111111111,\"#46039f\"],[0.2222222222222222,\"#7201a8\"],[0.3333333333333333,\"#9c179e\"],[0.4444444444444444,\"#bd3786\"],[0.5555555555555556,\"#d8576b\"],[0.6666666666666666,\"#ed7953\"],[0.7777777777777778,\"#fb9f3a\"],[0.8888888888888888,\"#fdca26\"],[1.0,\"#f0f921\"]]}],\"heatmap\":[{\"type\":\"heatmap\",\"colorbar\":{\"outlinewidth\":0,\"ticks\":\"\"},\"colorscale\":[[0.0,\"#0d0887\"],[0.1111111111111111,\"#46039f\"],[0.2222222222222222,\"#7201a8\"],[0.3333333333333333,\"#9c179e\"],[0.4444444444444444,\"#bd3786\"],[0.5555555555555556,\"#d8576b\"],[0.6666666666666666,\"#ed7953\"],[0.7777777777777778,\"#fb9f3a\"],[0.8888888888888888,\"#fdca26\"],[1.0,\"#f0f921\"]]}],\"heatmapgl\":[{\"type\":\"heatmapgl\",\"colorbar\":{\"outlinewidth\":0,\"ticks\":\"\"},\"colorscale\":[[0.0,\"#0d0887\"],[0.1111111111111111,\"#46039f\"],[0.2222222222222222,\"#7201a8\"],[0.3333333333333333,\"#9c179e\"],[0.4444444444444444,\"#bd3786\"],[0.5555555555555556,\"#d8576b\"],[0.6666666666666666,\"#ed7953\"],[0.7777777777777778,\"#fb9f3a\"],[0.8888888888888888,\"#fdca26\"],[1.0,\"#f0f921\"]]}],\"contourcarpet\":[{\"type\":\"contourcarpet\",\"colorbar\":{\"outlinewidth\":0,\"ticks\":\"\"}}],\"contour\":[{\"type\":\"contour\",\"colorbar\":{\"outlinewidth\":0,\"ticks\":\"\"},\"colorscale\":[[0.0,\"#0d0887\"],[0.1111111111111111,\"#46039f\"],[0.2222222222222222,\"#7201a8\"],[0.3333333333333333,\"#9c179e\"],[0.4444444444444444,\"#bd3786\"],[0.5555555555555556,\"#d8576b\"],[0.6666666666666666,\"#ed7953\"],[0.7777777777777778,\"#fb9f3a\"],[0.8888888888888888,\"#fdca26\"],[1.0,\"#f0f921\"]]}],\"surface\":[{\"type\":\"surface\",\"colorbar\":{\"outlinewidth\":0,\"ticks\":\"\"},\"colorscale\":[[0.0,\"#0d0887\"],[0.1111111111111111,\"#46039f\"],[0.2222222222222222,\"#7201a8\"],[0.3333333333333333,\"#9c179e\"],[0.4444444444444444,\"#bd3786\"],[0.5555555555555556,\"#d8576b\"],[0.6666666666666666,\"#ed7953\"],[0.7777777777777778,\"#fb9f3a\"],[0.8888888888888888,\"#fdca26\"],[1.0,\"#f0f921\"]]}],\"mesh3d\":[{\"type\":\"mesh3d\",\"colorbar\":{\"outlinewidth\":0,\"ticks\":\"\"}}],\"scatter\":[{\"fillpattern\":{\"fillmode\":\"overlay\",\"size\":10,\"solidity\":0.2},\"type\":\"scatter\"}],\"parcoords\":[{\"type\":\"parcoords\",\"line\":{\"colorbar\":{\"outlinewidth\":0,\"ticks\":\"\"}}}],\"scatterpolargl\":[{\"type\":\"scatterpolargl\",\"marker\":{\"colorbar\":{\"outlinewidth\":0,\"ticks\":\"\"}}}],\"bar\":[{\"error_x\":{\"color\":\"#2a3f5f\"},\"error_y\":{\"color\":\"#2a3f5f\"},\"marker\":{\"line\":{\"color\":\"#E5ECF6\",\"width\":0.5},\"pattern\":{\"fillmode\":\"overlay\",\"size\":10,\"solidity\":0.2}},\"type\":\"bar\"}],\"scattergeo\":[{\"type\":\"scattergeo\",\"marker\":{\"colorbar\":{\"outlinewidth\":0,\"ticks\":\"\"}}}],\"scatterpolar\":[{\"type\":\"scatterpolar\",\"marker\":{\"colorbar\":{\"outlinewidth\":0,\"ticks\":\"\"}}}],\"histogram\":[{\"marker\":{\"pattern\":{\"fillmode\":\"overlay\",\"size\":10,\"solidity\":0.2}},\"type\":\"histogram\"}],\"scattergl\":[{\"type\":\"scattergl\",\"marker\":{\"colorbar\":{\"outlinewidth\":0,\"ticks\":\"\"}}}],\"scatter3d\":[{\"type\":\"scatter3d\",\"line\":{\"colorbar\":{\"outlinewidth\":0,\"ticks\":\"\"}},\"marker\":{\"colorbar\":{\"outlinewidth\":0,\"ticks\":\"\"}}}],\"scattermapbox\":[{\"type\":\"scattermapbox\",\"marker\":{\"colorbar\":{\"outlinewidth\":0,\"ticks\":\"\"}}}],\"scatterternary\":[{\"type\":\"scatterternary\",\"marker\":{\"colorbar\":{\"outlinewidth\":0,\"ticks\":\"\"}}}],\"scattercarpet\":[{\"type\":\"scattercarpet\",\"marker\":{\"colorbar\":{\"outlinewidth\":0,\"ticks\":\"\"}}}],\"carpet\":[{\"aaxis\":{\"endlinecolor\":\"#2a3f5f\",\"gridcolor\":\"white\",\"linecolor\":\"white\",\"minorgridcolor\":\"white\",\"startlinecolor\":\"#2a3f5f\"},\"baxis\":{\"endlinecolor\":\"#2a3f5f\",\"gridcolor\":\"white\",\"linecolor\":\"white\",\"minorgridcolor\":\"white\",\"startlinecolor\":\"#2a3f5f\"},\"type\":\"carpet\"}],\"table\":[{\"cells\":{\"fill\":{\"color\":\"#EBF0F8\"},\"line\":{\"color\":\"white\"}},\"header\":{\"fill\":{\"color\":\"#C8D4E3\"},\"line\":{\"color\":\"white\"}},\"type\":\"table\"}],\"barpolar\":[{\"marker\":{\"line\":{\"color\":\"#E5ECF6\",\"width\":0.5},\"pattern\":{\"fillmode\":\"overlay\",\"size\":10,\"solidity\":0.2}},\"type\":\"barpolar\"}],\"pie\":[{\"automargin\":true,\"type\":\"pie\"}]},\"layout\":{\"autotypenumbers\":\"strict\",\"colorway\":[\"#636efa\",\"#EF553B\",\"#00cc96\",\"#ab63fa\",\"#FFA15A\",\"#19d3f3\",\"#FF6692\",\"#B6E880\",\"#FF97FF\",\"#FECB52\"],\"font\":{\"color\":\"#2a3f5f\"},\"hovermode\":\"closest\",\"hoverlabel\":{\"align\":\"left\"},\"paper_bgcolor\":\"white\",\"plot_bgcolor\":\"#E5ECF6\",\"polar\":{\"bgcolor\":\"#E5ECF6\",\"angularaxis\":{\"gridcolor\":\"white\",\"linecolor\":\"white\",\"ticks\":\"\"},\"radialaxis\":{\"gridcolor\":\"white\",\"linecolor\":\"white\",\"ticks\":\"\"}},\"ternary\":{\"bgcolor\":\"#E5ECF6\",\"aaxis\":{\"gridcolor\":\"white\",\"linecolor\":\"white\",\"ticks\":\"\"},\"baxis\":{\"gridcolor\":\"white\",\"linecolor\":\"white\",\"ticks\":\"\"},\"caxis\":{\"gridcolor\":\"white\",\"linecolor\":\"white\",\"ticks\":\"\"}},\"coloraxis\":{\"colorbar\":{\"outlinewidth\":0,\"ticks\":\"\"}},\"colorscale\":{\"sequential\":[[0.0,\"#0d0887\"],[0.1111111111111111,\"#46039f\"],[0.2222222222222222,\"#7201a8\"],[0.3333333333333333,\"#9c179e\"],[0.4444444444444444,\"#bd3786\"],[0.5555555555555556,\"#d8576b\"],[0.6666666666666666,\"#ed7953\"],[0.7777777777777778,\"#fb9f3a\"],[0.8888888888888888,\"#fdca26\"],[1.0,\"#f0f921\"]],\"sequentialminus\":[[0.0,\"#0d0887\"],[0.1111111111111111,\"#46039f\"],[0.2222222222222222,\"#7201a8\"],[0.3333333333333333,\"#9c179e\"],[0.4444444444444444,\"#bd3786\"],[0.5555555555555556,\"#d8576b\"],[0.6666666666666666,\"#ed7953\"],[0.7777777777777778,\"#fb9f3a\"],[0.8888888888888888,\"#fdca26\"],[1.0,\"#f0f921\"]],\"diverging\":[[0,\"#8e0152\"],[0.1,\"#c51b7d\"],[0.2,\"#de77ae\"],[0.3,\"#f1b6da\"],[0.4,\"#fde0ef\"],[0.5,\"#f7f7f7\"],[0.6,\"#e6f5d0\"],[0.7,\"#b8e186\"],[0.8,\"#7fbc41\"],[0.9,\"#4d9221\"],[1,\"#276419\"]]},\"xaxis\":{\"gridcolor\":\"white\",\"linecolor\":\"white\",\"ticks\":\"\",\"title\":{\"standoff\":15},\"zerolinecolor\":\"white\",\"automargin\":true,\"zerolinewidth\":2},\"yaxis\":{\"gridcolor\":\"white\",\"linecolor\":\"white\",\"ticks\":\"\",\"title\":{\"standoff\":15},\"zerolinecolor\":\"white\",\"automargin\":true,\"zerolinewidth\":2},\"scene\":{\"xaxis\":{\"backgroundcolor\":\"#E5ECF6\",\"gridcolor\":\"white\",\"linecolor\":\"white\",\"showbackground\":true,\"ticks\":\"\",\"zerolinecolor\":\"white\",\"gridwidth\":2},\"yaxis\":{\"backgroundcolor\":\"#E5ECF6\",\"gridcolor\":\"white\",\"linecolor\":\"white\",\"showbackground\":true,\"ticks\":\"\",\"zerolinecolor\":\"white\",\"gridwidth\":2},\"zaxis\":{\"backgroundcolor\":\"#E5ECF6\",\"gridcolor\":\"white\",\"linecolor\":\"white\",\"showbackground\":true,\"ticks\":\"\",\"zerolinecolor\":\"white\",\"gridwidth\":2}},\"shapedefaults\":{\"line\":{\"color\":\"#2a3f5f\"}},\"annotationdefaults\":{\"arrowcolor\":\"#2a3f5f\",\"arrowhead\":0,\"arrowwidth\":1},\"geo\":{\"bgcolor\":\"white\",\"landcolor\":\"#E5ECF6\",\"subunitcolor\":\"white\",\"showland\":true,\"showlakes\":true,\"lakecolor\":\"white\"},\"title\":{\"x\":0.05},\"mapbox\":{\"style\":\"light\"}}},\"xaxis\":{\"anchor\":\"y\",\"domain\":[0.0,1.0],\"title\":{\"text\":\"x\"}},\"yaxis\":{\"anchor\":\"x\",\"domain\":[0.0,1.0],\"title\":{\"text\":\"y\"}},\"coloraxis\":{\"colorbar\":{\"title\":{\"text\":\"cluster\"}},\"colorscale\":[[0.0,\"rgb(0, 147, 146)\"],[0.16666666666666666,\"rgb(114, 170, 161)\"],[0.3333333333333333,\"rgb(177, 199, 179)\"],[0.5,\"rgb(241, 234, 200)\"],[0.6666666666666666,\"rgb(229, 185, 173)\"],[0.8333333333333334,\"rgb(217, 137, 148)\"],[1.0,\"rgb(208, 88, 126)\"]]},\"legend\":{\"tracegroupgap\":0},\"margin\":{\"t\":60},\"title\":{\"text\":\"2D Visualization of Embeddings with Clusters and 468 startups\"},\"hovermode\":\"closest\",\"width\":1000,\"height\":600},                        {\"responsive\": true}                    ).then(function(){\n",
       "                            \n",
       "var gd = document.getElementById('4854a13a-306f-463c-ae9c-da7ee47797ae');\n",
       "var x = new MutationObserver(function (mutations, observer) {{\n",
       "        var display = window.getComputedStyle(gd).display;\n",
       "        if (!display || display === 'none') {{\n",
       "            console.log([gd, 'removed!']);\n",
       "            Plotly.purge(gd);\n",
       "            observer.disconnect();\n",
       "        }}\n",
       "}});\n",
       "\n",
       "// Listen for the removal of the full notebook cells\n",
       "var notebookContainer = gd.closest('#notebook-container');\n",
       "if (notebookContainer) {{\n",
       "    x.observe(notebookContainer, {childList: true});\n",
       "}}\n",
       "\n",
       "// Listen for the clearing of the current output cell\n",
       "var outputEl = gd.closest('.output');\n",
       "if (outputEl) {{\n",
       "    x.observe(outputEl, {childList: true});\n",
       "}}\n",
       "\n",
       "                        })                };                });            </script>        </div>"
      ]
     },
     "metadata": {},
     "output_type": "display_data"
    },
    {
     "data": {
      "application/vnd.plotly.v1+json": {
       "config": {
        "plotlyServerURL": "https://plot.ly"
       },
       "data": [
        {
         "customdata": [
          [
           "Music and Audio Production Tools"
          ],
          [
           "Music and Audio Production Tools"
          ],
          [
           "Music and Audio Production Tools"
          ],
          [
           "Music and Audio Production Tools"
          ],
          [
           "Music and Audio Production Tools"
          ],
          [
           "Music and Audio Production Tools"
          ],
          [
           "Music and Audio Production Tools"
          ],
          [
           "Music and Audio Production Tools"
          ],
          [
           "Music and Audio Production Tools"
          ],
          [
           "Music and Audio Production Tools"
          ],
          [
           "Music and Audio Production Tools"
          ],
          [
           "AI Toolset for Developers"
          ],
          [
           "AI Toolset for Developers"
          ],
          [
           "AI Toolset for Developers"
          ],
          [
           "AI Toolset for Developers"
          ],
          [
           "AI Toolset for Developers"
          ],
          [
           "AI Toolset for Developers"
          ],
          [
           "AI Toolset for Developers"
          ],
          [
           "AI Toolset for Developers"
          ],
          [
           "AI Toolset for Developers"
          ],
          [
           "AI Toolset for Developers"
          ],
          [
           "AI Toolset for Developers"
          ],
          [
           "Construction and Workflow Automation"
          ],
          [
           "Construction and Workflow Automation"
          ],
          [
           "Construction and Workflow Automation"
          ],
          [
           "Web Development and AI tools"
          ],
          [
           "Web Development and AI tools"
          ],
          [
           "Web Development and AI tools"
          ],
          [
           "Web Development and AI tools"
          ],
          [
           "Web Development and AI tools"
          ],
          [
           "Web Development and AI tools"
          ],
          [
           "AI Research and Development"
          ],
          [
           "AI Research and Development"
          ],
          [
           "AI Research and Development"
          ],
          [
           "AI Research and Development"
          ],
          [
           "AI Research and Development"
          ],
          [
           "AI Research and Development"
          ],
          [
           "AI Research and Development"
          ],
          [
           "AI Research and Development"
          ],
          [
           "AI Research and Development"
          ],
          [
           "AI Research and Development"
          ],
          [
           "AI Research and Development"
          ],
          [
           "AI Research and Development"
          ],
          [
           "AI Research and Development"
          ],
          [
           "AI Research and Development"
          ],
          [
           "AI Research and Development"
          ],
          [
           "AI Research and Development"
          ],
          [
           "AI Research and Development"
          ],
          [
           "AI Research and Development"
          ],
          [
           "AI Research and Development"
          ],
          [
           "AI Research and Development"
          ],
          [
           "AI Research and Development"
          ],
          [
           "AI Research and Development"
          ],
          [
           "Tech and Blockchain News"
          ],
          [
           "Tech and Blockchain News"
          ],
          [
           "Tech and Blockchain News"
          ],
          [
           "Tech and Blockchain News"
          ],
          [
           "Tech and Blockchain News"
          ],
          [
           "HR and Recruitment Automation"
          ],
          [
           "HR and Recruitment Automation"
          ],
          [
           "HR and Recruitment Automation"
          ],
          [
           "HR and Recruitment Automation"
          ],
          [
           "HR and Recruitment Automation"
          ],
          [
           "HR and Recruitment Automation"
          ],
          [
           "HR and Recruitment Automation"
          ],
          [
           "HR and Recruitment Automation"
          ],
          [
           "HR and Recruitment Automation"
          ],
          [
           "HR and Recruitment Automation"
          ],
          [
           "HR and Recruitment Automation"
          ],
          [
           "Retail Supply Chain Management"
          ],
          [
           "Retail Supply Chain Management"
          ],
          [
           "Retail Supply Chain Management"
          ],
          [
           "Retail Supply Chain Management"
          ],
          [
           "Retail Supply Chain Management"
          ],
          [
           "Advanced Cybersecurity Solutions"
          ],
          [
           "Advanced Cybersecurity Solutions"
          ],
          [
           "Advanced Cybersecurity Solutions"
          ],
          [
           "Advanced Cybersecurity Solutions"
          ],
          [
           "Advanced Cybersecurity Solutions"
          ],
          [
           "Advanced Cybersecurity Solutions"
          ],
          [
           "Advanced Cybersecurity Solutions"
          ],
          [
           "Advanced Cybersecurity Solutions"
          ],
          [
           "Advanced Cybersecurity Solutions"
          ],
          [
           "Advanced Cybersecurity Solutions"
          ],
          [
           "Advanced Cybersecurity Solutions"
          ],
          [
           "Advanced Cybersecurity Solutions"
          ],
          [
           "Mobile and Software Development Technologies"
          ],
          [
           "Mobile and Software Development Technologies"
          ],
          [
           "Mobile and Software Development Technologies"
          ],
          [
           "Mobile and Software Development Technologies"
          ],
          [
           "Mobile and Software Development Technologies"
          ],
          [
           "Mobile and Software Development Technologies"
          ],
          [
           "Mobile and Software Development Technologies"
          ],
          [
           "Mobile and Software Development Technologies"
          ],
          [
           "Mobile and Software Development Technologies"
          ],
          [
           "Mobile and Software Development Technologies"
          ],
          [
           "Mobile and Software Development Technologies"
          ],
          [
           "Mobile and Software Development Technologies"
          ],
          [
           "Mobile and Software Development Technologies"
          ],
          [
           "Mobile and Software Development Technologies"
          ],
          [
           "Mobile and Software Development Technologies"
          ],
          [
           "Mobile and Software Development Technologies"
          ],
          [
           "Mobile and Software Development Technologies"
          ],
          [
           "Mobile and Software Development Technologies"
          ],
          [
           "Mobile and Software Development Technologies"
          ],
          [
           "Mobile and Software Development Technologies"
          ],
          [
           "Mobile and Software Development Technologies"
          ],
          [
           "Educational Technologies and Learning Platforms"
          ],
          [
           "Educational Technologies and Learning Platforms"
          ],
          [
           "Educational Technologies and Learning Platforms"
          ],
          [
           "Educational Technologies and Learning Platforms"
          ],
          [
           "Educational Technologies and Learning Platforms"
          ],
          [
           "Educational Technologies and Learning Platforms"
          ],
          [
           "Educational Technologies and Learning Platforms"
          ],
          [
           "Educational Technologies and Learning Platforms"
          ],
          [
           "Educational Technologies and Learning Platforms"
          ],
          [
           "Educational Technologies and Learning Platforms"
          ],
          [
           "Educational Technologies and Learning Platforms"
          ],
          [
           "Educational Technologies and Learning Platforms"
          ],
          [
           "Educational Technologies and Learning Platforms"
          ],
          [
           "Educational Technologies and Learning Platforms"
          ],
          [
           "Educational Technologies and Learning Platforms"
          ],
          [
           "Educational Technologies and Learning Platforms"
          ],
          [
           "Educational Technologies and Learning Platforms"
          ],
          [
           "Healthcare Data Management Systems"
          ],
          [
           "Healthcare Data Management Systems"
          ],
          [
           "Healthcare Data Management Systems"
          ],
          [
           "Healthcare Data Management Systems"
          ],
          [
           "Healthcare Data Management Systems"
          ],
          [
           "Healthcare Data Management Systems"
          ],
          [
           "Healthcare Data Management Systems"
          ],
          [
           "Healthcare Data Management Systems"
          ],
          [
           "Healthcare Data Management Systems"
          ],
          [
           "Creative Business Tools"
          ],
          [
           "Creative Business Tools"
          ],
          [
           "Creative Business Tools"
          ],
          [
           "Creative Business Tools"
          ],
          [
           "Creative Business Tools"
          ],
          [
           "Creative Business Tools"
          ],
          [
           "Creative Business Tools"
          ],
          [
           "Creative Business Tools"
          ],
          [
           "Creative Business Tools"
          ],
          [
           "Creative Business Tools"
          ],
          [
           "Creative Business Tools"
          ],
          [
           "Creative Business Tools"
          ],
          [
           "Creative Business Tools"
          ],
          [
           "Creative Business Tools"
          ],
          [
           "Creative Business Tools"
          ],
          [
           "Creative Business Tools"
          ],
          [
           "Creative Business Tools"
          ],
          [
           "Creative Business Tools"
          ],
          [
           "Creative Business Tools"
          ],
          [
           "Creative Business Tools"
          ],
          [
           "Restaurant and Hospitality Services"
          ],
          [
           "Restaurant and Hospitality Services"
          ],
          [
           "Restaurant and Hospitality Services"
          ],
          [
           "Restaurant and Hospitality Services"
          ],
          [
           "Restaurant and Hospitality Services"
          ],
          [
           "Restaurant and Hospitality Services"
          ],
          [
           "Restaurant and Hospitality Services"
          ],
          [
           "Restaurant and Hospitality Services"
          ],
          [
           "Regulatory Compliance and Risk Management"
          ],
          [
           "Regulatory Compliance and Risk Management"
          ],
          [
           "Regulatory Compliance and Risk Management"
          ],
          [
           "Regulatory Compliance and Risk Management"
          ],
          [
           "Regulatory Compliance and Risk Management"
          ],
          [
           "Regulatory Compliance and Risk Management"
          ],
          [
           "Regulatory Compliance and Risk Management"
          ],
          [
           "Regulatory Compliance and Risk Management"
          ],
          [
           "Regulatory Compliance and Risk Management"
          ],
          [
           "Regulatory Compliance and Risk Management"
          ],
          [
           "Gamification in Education"
          ],
          [
           "Gamification in Education"
          ],
          [
           "Marketing Data Analytics"
          ],
          [
           "Marketing Data Analytics"
          ],
          [
           "Marketing Data Analytics"
          ],
          [
           "Personalized Wellness Programs"
          ],
          [
           "Personalized Wellness Programs"
          ],
          [
           "Personalized Wellness Programs"
          ],
          [
           "Personalized Wellness Programs"
          ],
          [
           "Personalized Wellness Programs"
          ],
          [
           "Personalized Wellness Programs"
          ],
          [
           "Personalized Wellness Programs"
          ],
          [
           "Personalized Wellness Programs"
          ],
          [
           "AI-Driven Business Strategies"
          ],
          [
           "AI-Driven Business Strategies"
          ],
          [
           "AI-Driven Business Strategies"
          ],
          [
           "AI-Driven Business Strategies"
          ],
          [
           "AI-Driven Business Strategies"
          ],
          [
           "E-commerce and Retail Strategies"
          ],
          [
           "E-commerce and Retail Strategies"
          ],
          [
           "E-commerce and Retail Strategies"
          ],
          [
           "E-commerce and Retail Strategies"
          ],
          [
           "E-commerce and Retail Strategies"
          ],
          [
           "E-commerce and Retail Strategies"
          ],
          [
           "E-commerce and Retail Strategies"
          ],
          [
           "AI Systems Development"
          ],
          [
           "AI Systems Development"
          ],
          [
           "AI Systems Development"
          ],
          [
           "AI Systems Development"
          ],
          [
           "AI Systems Development"
          ],
          [
           "AI Systems Development"
          ],
          [
           "AI Systems Development"
          ],
          [
           "AI Systems Development"
          ],
          [
           "AI Systems Development"
          ],
          [
           "AI Systems Development"
          ],
          [
           "AI Systems Development"
          ],
          [
           "AI Systems Development"
          ],
          [
           "AI Systems Development"
          ],
          [
           "AI Systems Development"
          ],
          [
           "AI Systems Development"
          ],
          [
           "AI Systems Development"
          ],
          [
           "AI Systems Development"
          ],
          [
           "AI Systems Development"
          ],
          [
           "AI Systems Development"
          ],
          [
           "AI Systems Development"
          ],
          [
           "AI Systems Development"
          ],
          [
           "AI Systems Development"
          ],
          [
           "AI Systems Development"
          ],
          [
           "AI Systems Development"
          ],
          [
           "AI Systems Development"
          ],
          [
           "AI Systems Development"
          ],
          [
           "AI Systems Development"
          ],
          [
           "AI Systems Development"
          ],
          [
           "AI Systems Development"
          ],
          [
           "AI Systems Development"
          ],
          [
           "AI Systems Development"
          ],
          [
           "AI Systems Development"
          ],
          [
           "AI Systems Development"
          ],
          [
           "AI Systems Development"
          ],
          [
           "AI Systems Development"
          ],
          [
           "AI Systems Development"
          ],
          [
           "AI Systems Development"
          ],
          [
           "Social Media and Marketing Strategies"
          ],
          [
           "Social Media and Marketing Strategies"
          ],
          [
           "Social Media and Marketing Strategies"
          ],
          [
           "Social Media and Marketing Strategies"
          ],
          [
           "Social Media and Marketing Strategies"
          ],
          [
           "Customer Data Analysis"
          ],
          [
           "Customer Data Analysis"
          ],
          [
           "Customer Data Analysis"
          ],
          [
           "Customer Data Analysis"
          ],
          [
           "Automated Business Systems"
          ],
          [
           "Automated Business Systems"
          ],
          [
           "Automated Business Systems"
          ],
          [
           "Automated Business Systems"
          ],
          [
           "Automated Business Systems"
          ],
          [
           "Automated Business Systems"
          ],
          [
           "Automated Business Systems"
          ],
          [
           "Automated Business Systems"
          ],
          [
           "Automated Business Systems"
          ],
          [
           "Automated Business Systems"
          ],
          [
           "Automated Business Systems"
          ],
          [
           "Automated Business Systems"
          ],
          [
           "Automated Business Systems"
          ],
          [
           "Automated Business Systems"
          ],
          [
           "Automated Business Systems"
          ],
          [
           "Automated Business Systems"
          ],
          [
           "Automated Business Systems"
          ],
          [
           "Automated Business Systems"
          ],
          [
           "Automated Business Systems"
          ],
          [
           "Automated Business Systems"
          ],
          [
           "Automated Business Systems"
          ],
          [
           "Automated Business Systems"
          ],
          [
           "Automated Business Systems"
          ],
          [
           "Automated Business Systems"
          ],
          [
           "Automated Business Systems"
          ],
          [
           "Automated Business Systems"
          ],
          [
           "Automated Business Systems"
          ],
          [
           "Automated Business Systems"
          ],
          [
           "Career Development Tools"
          ],
          [
           "Career Development Tools"
          ],
          [
           "Career Development Tools"
          ],
          [
           "Career Development Tools"
          ],
          [
           "Veterinary and Pet Care Technologies"
          ],
          [
           "Veterinary and Pet Care Technologies"
          ],
          [
           "Veterinary and Pet Care Technologies"
          ],
          [
           "Legal and Technological Automation"
          ],
          [
           "Legal and Technological Automation"
          ],
          [
           "Legal and Technological Automation"
          ],
          [
           "Legal and Technological Automation"
          ],
          [
           "Legal and Technological Automation"
          ],
          [
           "Legal and Technological Automation"
          ],
          [
           "Legal and Technological Automation"
          ],
          [
           "Data Insights and Analytics"
          ],
          [
           "Data Insights and Analytics"
          ],
          [
           "Data Insights and Analytics"
          ],
          [
           "Data Insights and Analytics"
          ],
          [
           "Data Insights and Analytics"
          ],
          [
           "Data Insights and Analytics"
          ],
          [
           "Social Media and Digital Insights"
          ],
          [
           "Social Media and Digital Insights"
          ],
          [
           "Social Media and Digital Insights"
          ],
          [
           "Social Media and Digital Insights"
          ],
          [
           "Social Media and Digital Insights"
          ],
          [
           "Social Media and Digital Insights"
          ],
          [
           "Social Media and Digital Insights"
          ],
          [
           "Social Media and Digital Insights"
          ],
          [
           "Social Media and Digital Insights"
          ],
          [
           "Social Media and Digital Insights"
          ],
          [
           "Social Media and Digital Insights"
          ],
          [
           "Social Media and Digital Insights"
          ],
          [
           "Travel Booking and Planning Systems"
          ],
          [
           "Travel Booking and Planning Systems"
          ],
          [
           "Travel Booking and Planning Systems"
          ],
          [
           "Travel Booking and Planning Systems"
          ],
          [
           "Travel Booking and Planning Systems"
          ],
          [
           "Travel Booking and Planning Systems"
          ],
          [
           "Travel Booking and Planning Systems"
          ],
          [
           "Travel Booking and Planning Systems"
          ],
          [
           "Real Estate Investment Analysis"
          ],
          [
           "Real Estate Investment Analysis"
          ],
          [
           "Real Estate Investment Analysis"
          ],
          [
           "Real Estate Investment Analysis"
          ],
          [
           "Real Estate Investment Analysis"
          ],
          [
           "Real Estate Investment Analysis"
          ],
          [
           "Real Estate Investment Analysis"
          ],
          [
           "Real Estate Investment Analysis"
          ],
          [
           "Real Estate Investment Analysis"
          ],
          [
           "Financial Management Systems"
          ],
          [
           "Financial Management Systems"
          ],
          [
           "Financial Management Systems"
          ],
          [
           "Financial Management Systems"
          ],
          [
           "Financial Management Systems"
          ],
          [
           "Financial Management Systems"
          ],
          [
           "Financial Management Systems"
          ],
          [
           "Financial Management Systems"
          ],
          [
           "Financial Management Systems"
          ],
          [
           "Financial Management Systems"
          ],
          [
           "Financial Management Systems"
          ],
          [
           "Financial Management Systems"
          ],
          [
           "Financial Management Systems"
          ],
          [
           "Financial Management Systems"
          ],
          [
           "Financial Management Systems"
          ],
          [
           "Financial Management Systems"
          ],
          [
           "Financial Management Systems"
          ],
          [
           "Data Management and Quality Control"
          ],
          [
           "Data Management and Quality Control"
          ],
          [
           "Data Management and Quality Control"
          ],
          [
           "Data Management and Quality Control"
          ],
          [
           "Data Management and Quality Control"
          ],
          [
           "Data Management and Quality Control"
          ],
          [
           "Data Management and Quality Control"
          ],
          [
           "Data Management and Quality Control"
          ],
          [
           "No-Code AI Platforms"
          ],
          [
           "No-Code AI Platforms"
          ],
          [
           "No-Code AI Platforms"
          ],
          [
           "Healthcare Workflow Optimization"
          ],
          [
           "Healthcare Workflow Optimization"
          ],
          [
           "Healthcare Workflow Optimization"
          ],
          [
           "Healthcare Workflow Optimization"
          ],
          [
           "Healthcare Workflow Optimization"
          ],
          [
           "Venture Capital and Financing"
          ],
          [
           "Venture Capital and Financing"
          ],
          [
           "Venture Capital and Financing"
          ],
          [
           "Venture Capital and Financing"
          ],
          [
           "Venture Capital and Financing"
          ],
          [
           "Venture Capital and Financing"
          ],
          [
           "Venture Capital and Financing"
          ],
          [
           "Venture Capital and Financing"
          ],
          [
           "Venture Capital and Financing"
          ],
          [
           "Venture Capital and Financing"
          ],
          [
           "Sustainability and Non-Profit Solutions"
          ],
          [
           "Sustainability and Non-Profit Solutions"
          ],
          [
           "Sustainability and Non-Profit Solutions"
          ],
          [
           "Sustainability and Non-Profit Solutions"
          ],
          [
           "Wellness and Sleep Health"
          ],
          [
           "Wellness and Sleep Health"
          ],
          [
           "Industrial Sales Automation"
          ],
          [
           "Industrial Sales Automation"
          ],
          [
           "Industrial Sales Automation"
          ],
          [
           "Tax and Accounting Automation"
          ],
          [
           "Tax and Accounting Automation"
          ],
          [
           "Tax and Accounting Automation"
          ],
          [
           "Sales and Marketing Outreach"
          ],
          [
           "Sales and Marketing Outreach"
          ],
          [
           "Sales and Marketing Outreach"
          ],
          [
           "Sales and Marketing Outreach"
          ],
          [
           "Sales and Marketing Outreach"
          ],
          [
           "Sales and Marketing Outreach"
          ],
          [
           "Sales and Marketing Outreach"
          ],
          [
           "Sales and Marketing Outreach"
          ],
          [
           "Sales and Marketing Outreach"
          ],
          [
           "Sales and Marketing Outreach"
          ],
          [
           "Sales and Marketing Outreach"
          ],
          [
           "Image Enhancement Solutions"
          ],
          [
           "Image Enhancement Solutions"
          ],
          [
           "Image Enhancement Solutions"
          ],
          [
           "Image Enhancement Solutions"
          ],
          [
           "Image Enhancement Solutions"
          ],
          [
           "Image Enhancement Solutions"
          ],
          [
           "Image Enhancement Solutions"
          ],
          [
           "Creative Content and Media Tools"
          ],
          [
           "Creative Content and Media Tools"
          ],
          [
           "Creative Content and Media Tools"
          ],
          [
           "Creative Content and Media Tools"
          ],
          [
           "Creative Content and Media Tools"
          ],
          [
           "Creative Content and Media Tools"
          ],
          [
           "Creative Content and Media Tools"
          ],
          [
           "Home and Interior Design"
          ],
          [
           "Home and Interior Design"
          ],
          [
           "Home and Interior Design"
          ],
          [
           "Home and Interior Design"
          ],
          [
           "Mental Health and Therapy"
          ],
          [
           "Mental Health and Therapy"
          ],
          [
           "Mental Health and Therapy"
          ],
          [
           "Mental Health and Therapy"
          ],
          [
           "Market and Business Strategy"
          ],
          [
           "Market and Business Strategy"
          ],
          [
           "Market and Business Strategy"
          ],
          [
           "Market and Business Strategy"
          ],
          [
           "Animation and Visual Effects Tools"
          ],
          [
           "Animation and Visual Effects Tools"
          ],
          [
           "Animation and Visual Effects Tools"
          ],
          [
           "Animation and Visual Effects Tools"
          ],
          [
           "Animation and Visual Effects Tools"
          ],
          [
           "Animation and Visual Effects Tools"
          ],
          [
           "Animation and Visual Effects Tools"
          ],
          [
           "Animation and Visual Effects Tools"
          ],
          [
           "Animation and Visual Effects Tools"
          ],
          [
           "Technical Writing and Proposals"
          ],
          [
           "Technical Writing and Proposals"
          ],
          [
           "Biotechnological Research"
          ],
          [
           "Biotechnological Research"
          ],
          [
           "Biotechnological Research"
          ],
          [
           "Project and Team Management"
          ],
          [
           "Project and Team Management"
          ],
          [
           "Project and Team Management"
          ],
          [
           "Project and Team Management"
          ],
          [
           "Project and Team Management"
          ],
          [
           "Project and Team Management"
          ],
          [
           "Project and Team Management"
          ],
          [
           "E-commerce Management"
          ],
          [
           "E-commerce Management"
          ],
          [
           "E-commerce Management"
          ],
          [
           "E-commerce Management"
          ],
          [
           "Industrial Sourcing Solutions"
          ],
          [
           "Industrial Sourcing Solutions"
          ],
          [
           "Industrial Sourcing Solutions"
          ],
          [
           "Industrial Sourcing Solutions"
          ],
          [
           "Decentralized Tech and Identity"
          ],
          [
           "Decentralized Tech and Identity"
          ],
          [
           "Decentralized Tech and Identity"
          ],
          [
           "Decentralized Tech and Identity"
          ],
          [
           "Client Management in Legal Services"
          ],
          [
           "Client Management in Legal Services"
          ],
          [
           "Social and Event Planning Tools"
          ],
          [
           "Social and Event Planning Tools"
          ],
          [
           "Social and Event Planning Tools"
          ],
          [
           "Document Management Automation"
          ],
          [
           "Document Management Automation"
          ],
          [
           "Development Tools Automation"
          ],
          [
           "Development Tools Automation"
          ],
          [
           "Development Tools Automation"
          ],
          [
           "Solutions for Industrial Automation"
          ],
          [
           "Solutions for Industrial Automation"
          ],
          [
           "Solutions for Industrial Automation"
          ],
          [
           "Language and Speech Learning"
          ],
          [
           "Language and Speech Learning"
          ],
          [
           "Language and Speech Learning"
          ],
          [
           "Insurance Management Services"
          ],
          [
           "Insurance Management Services"
          ],
          [
           "Personal Growth and Development"
          ],
          [
           "Personal Growth and Development"
          ],
          [
           "Personal Growth and Development"
          ],
          [
           "High-Performance Computing Solutions"
          ],
          [
           "High-Performance Computing Solutions"
          ],
          [
           "High-Performance Computing Solutions"
          ]
         ],
         "hovertemplate": "x=%{x}<br>y=%{y}<br>generated_cluster_label=%{customdata[0]}<br>cluster=%{marker.color}<extra></extra>",
         "legendgroup": "",
         "marker": {
          "color": [
           61,
           61,
           61,
           61,
           61,
           61,
           61,
           61,
           61,
           61,
           61,
           26,
           26,
           26,
           26,
           26,
           26,
           26,
           26,
           26,
           26,
           26,
           60,
           60,
           60,
           32,
           32,
           32,
           32,
           32,
           32,
           25,
           25,
           25,
           25,
           25,
           25,
           25,
           25,
           25,
           25,
           25,
           25,
           25,
           25,
           25,
           25,
           25,
           25,
           25,
           25,
           25,
           25,
           34,
           34,
           34,
           34,
           34,
           53,
           53,
           53,
           53,
           53,
           53,
           53,
           53,
           53,
           53,
           53,
           3,
           3,
           3,
           3,
           3,
           1,
           1,
           1,
           1,
           1,
           1,
           1,
           1,
           1,
           1,
           1,
           1,
           22,
           22,
           22,
           22,
           22,
           22,
           22,
           22,
           22,
           22,
           22,
           22,
           22,
           22,
           22,
           22,
           22,
           22,
           22,
           22,
           22,
           46,
           46,
           46,
           46,
           46,
           46,
           46,
           46,
           46,
           46,
           46,
           46,
           46,
           46,
           46,
           46,
           46,
           38,
           38,
           38,
           38,
           38,
           38,
           38,
           38,
           38,
           50,
           50,
           50,
           50,
           50,
           50,
           50,
           50,
           50,
           50,
           50,
           50,
           50,
           50,
           50,
           50,
           50,
           50,
           50,
           50,
           56,
           56,
           56,
           56,
           56,
           56,
           56,
           56,
           17,
           17,
           17,
           17,
           17,
           17,
           17,
           17,
           17,
           17,
           47,
           47,
           8,
           8,
           8,
           42,
           42,
           42,
           42,
           42,
           42,
           42,
           42,
           28,
           28,
           28,
           28,
           28,
           23,
           23,
           23,
           23,
           23,
           23,
           23,
           27,
           27,
           27,
           27,
           27,
           27,
           27,
           27,
           27,
           27,
           27,
           27,
           27,
           27,
           27,
           27,
           27,
           27,
           27,
           27,
           27,
           27,
           27,
           27,
           27,
           27,
           27,
           27,
           27,
           27,
           27,
           27,
           27,
           27,
           27,
           27,
           27,
           36,
           36,
           36,
           36,
           36,
           6,
           6,
           6,
           6,
           30,
           30,
           30,
           30,
           30,
           30,
           30,
           30,
           30,
           30,
           30,
           30,
           30,
           30,
           30,
           30,
           30,
           30,
           30,
           30,
           30,
           30,
           30,
           30,
           30,
           30,
           30,
           30,
           54,
           54,
           54,
           54,
           62,
           62,
           62,
           18,
           18,
           18,
           18,
           18,
           18,
           18,
           5,
           5,
           5,
           5,
           5,
           5,
           35,
           35,
           35,
           35,
           35,
           35,
           35,
           35,
           35,
           35,
           35,
           35,
           57,
           57,
           57,
           57,
           57,
           57,
           57,
           57,
           16,
           16,
           16,
           16,
           16,
           16,
           16,
           16,
           16,
           10,
           10,
           10,
           10,
           10,
           10,
           10,
           10,
           10,
           10,
           10,
           10,
           10,
           10,
           10,
           10,
           10,
           2,
           2,
           2,
           2,
           2,
           2,
           2,
           2,
           31,
           31,
           31,
           39,
           39,
           39,
           39,
           39,
           15,
           15,
           15,
           15,
           15,
           15,
           15,
           15,
           15,
           15,
           40,
           40,
           40,
           40,
           45,
           45,
           4,
           4,
           4,
           13,
           13,
           13,
           9,
           9,
           9,
           9,
           9,
           9,
           9,
           9,
           9,
           9,
           9,
           7,
           7,
           7,
           7,
           7,
           7,
           7,
           51,
           51,
           51,
           51,
           51,
           51,
           51,
           59,
           59,
           59,
           59,
           43,
           43,
           43,
           43,
           29,
           29,
           29,
           29,
           52,
           52,
           52,
           52,
           52,
           52,
           52,
           52,
           52,
           49,
           49,
           41,
           41,
           41,
           20,
           20,
           20,
           20,
           20,
           20,
           20,
           24,
           24,
           24,
           24,
           11,
           11,
           11,
           11,
           12,
           12,
           12,
           12,
           37,
           37,
           21,
           21,
           21,
           19,
           19,
           33,
           33,
           33,
           55,
           55,
           55,
           48,
           48,
           48,
           14,
           14,
           44,
           44,
           44,
           0,
           0,
           0
          ],
          "coloraxis": "coloraxis",
          "size": 10,
          "symbol": "circle"
         },
         "mode": "markers",
         "name": "",
         "orientation": "v",
         "showlegend": false,
         "type": "scatter",
         "x": [
          -17.246582,
          -22.577639,
          -14.846723,
          -21.39423,
          -14.560872,
          -21.596195,
          -0.6085661,
          7.965918,
          -6.6601686,
          2.5029495,
          -18.783094,
          5.453025,
          16.772793,
          10.867387,
          10.001225,
          24.756763,
          3.7171378,
          1.0150203,
          10.480784,
          18.20799,
          15.392288,
          20.728374,
          -45.72061,
          -42.61082,
          -38.021076,
          -8.852089,
          -36.05923,
          -13.826266,
          39.185276,
          -36.513767,
          -41.62146,
          28.623798,
          24.492306,
          20.13029,
          16.377918,
          12.6545925,
          15.762672,
          -6.83546,
          25.588148,
          -16.583864,
          20.230795,
          31.826231,
          4.0969357,
          28.70696,
          3.6947076,
          0.56744975,
          -16.551395,
          20.657524,
          7.2047763,
          11.238902,
          8.147223,
          -14.330961,
          -13.28896,
          -8.068511,
          -10.502254,
          -5.79672,
          -2.7939224,
          -7.678581,
          10.049684,
          -32.056713,
          4.7596264,
          10.923986,
          11.865263,
          -1.6550021,
          -2.2353234,
          3.9121277,
          1.8500186,
          11.271172,
          4.724151,
          16.931513,
          9.410604,
          13.261849,
          4.100873,
          15.085004,
          5.19183,
          1.300309,
          4.4567094,
          -2.8871634,
          -9.54379,
          -7.6368484,
          -0.32458577,
          -4.50067,
          -1.626461,
          -8.09626,
          8.814768,
          3.9031856,
          18.754196,
          1.8446118,
          28.400278,
          21.900425,
          10.867497,
          1.730643,
          2.633434,
          7.853074,
          5.2405825,
          35.500042,
          35.08293,
          28.341549,
          12.252229,
          37.28977,
          8.792821,
          26.880556,
          20.985603,
          12.51579,
          30.141985,
          14.248441,
          18.714882,
          -3.4686399,
          -11.229006,
          -9.787068,
          -13.568376,
          -4.705306,
          -9.126707,
          -13.923618,
          -3.708757,
          -20.131245,
          -39.57304,
          -6.8678417,
          3.0911458,
          19.667831,
          -16.545654,
          -7.5459332,
          -6.9700885,
          -8.095586,
          -19.909243,
          -30.58473,
          -14.677168,
          -21.795723,
          -23.33029,
          -22.239462,
          -26.772753,
          -14.909496,
          -17.662422,
          33.558052,
          8.101478,
          6.498001,
          19.42335,
          38.31899,
          -3.0919228,
          23.35178,
          18.038906,
          12.932514,
          18.444092,
          17.847538,
          -0.8470455,
          6.16315,
          26.290968,
          28.709286,
          11.237555,
          17.293846,
          12.578967,
          -31.73962,
          12.262656,
          25.113003,
          21.489058,
          -31.482235,
          28.472435,
          -24.183514,
          -27.876638,
          26.66759,
          -33.75015,
          -12.502595,
          -4.9538636,
          -31.639069,
          -17.810905,
          -19.742952,
          -18.631172,
          -17.272898,
          -23.304811,
          -24.7611,
          -13.097114,
          1.4436964,
          -1.0612551,
          -12.261194,
          -11.756814,
          -8.68822,
          31.528702,
          -8.867341,
          -15.976963,
          -5.3136334,
          -17.68283,
          -11.199497,
          -0.09467454,
          -11.263564,
          19.89078,
          16.642439,
          24.530453,
          22.496262,
          16.45322,
          28.05545,
          17.331766,
          -0.81867754,
          14.2121935,
          22.52688,
          19.736935,
          15.002389,
          30.172903,
          -32.252846,
          8.384662,
          21.034468,
          16.47523,
          -32.083458,
          4.0769053,
          30.092281,
          -3.1457593,
          8.840187,
          10.400939,
          9.211332,
          16.88069,
          0.041577157,
          12.160851,
          9.521186,
          21.015345,
          -1.8112332,
          4.3974795,
          9.834211,
          14.609748,
          9.57927,
          -0.45753628,
          18.17289,
          23.31895,
          24.954782,
          6.6807647,
          21.778051,
          12.727132,
          5.874886,
          -3.3769693,
          16.495491,
          12.586459,
          22.341036,
          18.441946,
          -0.43100893,
          13.555215,
          -0.08307244,
          2.172479,
          3.7314272,
          7.9401336,
          6.789544,
          -8.13374,
          -2.45236,
          18.356203,
          16.918083,
          20.554695,
          3.404964,
          -3.6259818,
          -15.240963,
          19.731833,
          -13.002905,
          2.0426161,
          31.83145,
          1.00008,
          -4.5326295,
          -25.665964,
          -20.384747,
          8.989742,
          -5.6605153,
          23.073399,
          10.474709,
          9.596929,
          -10.495364,
          -7.7207913,
          2.1682963,
          -0.9389637,
          -27.756311,
          -1.0316229,
          19.396095,
          -5.9573193,
          -1.8722603,
          -19.345978,
          5.3250923,
          5.068737,
          -0.5747998,
          9.92555,
          3.986984,
          -7.620679,
          -3.3674827,
          -12.565319,
          -38.924515,
          -41.20058,
          -39.855137,
          -35.149143,
          -29.986551,
          -32.354748,
          -33.462296,
          12.781089,
          5.766099,
          11.108619,
          6.200723,
          5.455049,
          4.914738,
          23.554665,
          4.9783792,
          30.040356,
          1.561549,
          19.750225,
          14.346761,
          25.919926,
          -7.791137,
          -21.355467,
          -4.8643155,
          -3.4202285,
          -1.0353197,
          -23.481415,
          -14.958683,
          -17.637745,
          -20.697618,
          -16.237537,
          -21.759886,
          -17.998497,
          -29.81052,
          -30.735027,
          -27.814558,
          -41.287914,
          -32.772804,
          -34.899605,
          -34.285023,
          -39.477917,
          -32.544567,
          -20.489138,
          -11.634977,
          -7.4760356,
          -13.647993,
          -12.40285,
          -30.749022,
          -8.51312,
          -18.381762,
          -24.016453,
          -28.62411,
          -24.709642,
          0.3373218,
          -5.131041,
          -4.9380817,
          -22.0517,
          -14.2720375,
          -24.392754,
          -15.685673,
          25.16047,
          24.33341,
          29.582142,
          35.068817,
          28.427208,
          -1.7854366,
          5.986837,
          31.965843,
          22.90198,
          23.226582,
          14.2645,
          -25.154581,
          -26.639065,
          -22.659472,
          -32.3933,
          -28.268644,
          -32.763718,
          -25.91506,
          -24.98556,
          -23.741045,
          -17.722605,
          -17.351788,
          -27.552162,
          -32.693848,
          -27.743717,
          -24.775127,
          22.620066,
          13.540156,
          26.3422,
          20.738514,
          -14.593982,
          -16.959568,
          -16.447695,
          -1.9734057,
          -11.363961,
          -4.3177557,
          -7.2265983,
          -7.0083094,
          -14.717352,
          -7.627274,
          -11.918596,
          -15.652947,
          -8.282379,
          -17.557241,
          -23.171234,
          -21.013296,
          -15.325235,
          -7.1108527,
          -6.458539,
          28.40571,
          37.913322,
          32.942806,
          35.727894,
          30.818396,
          29.617065,
          33.209072,
          9.061066,
          14.85222,
          2.666416,
          17.331057,
          10.925959,
          7.6240773,
          18.340982,
          -11.277065,
          -5.740726,
          -12.127356,
          -0.19858076,
          -27.531446,
          -26.237179,
          -21.023863,
          -25.99531,
          -20.012821,
          -16.762222,
          -7.7460694,
          -23.031904,
          23.074343,
          16.786148,
          30.55048,
          22.512365,
          29.69164,
          22.378881,
          19.490007,
          21.84361,
          24.990997,
          -18.5325,
          -25.684793,
          43.507202,
          39.701214,
          42.435238,
          4.477311,
          2.958473,
          7.7494802,
          2.1681147,
          1.1519746,
          9.283833,
          -2.0664873,
          11.971715,
          6.428005,
          28.238293,
          6.6850696,
          -4.688107,
          -6.499977,
          1.2956688,
          -14.899933,
          -10.231618,
          -6.6981134,
          32.335808,
          -15.196375,
          -29.560886,
          -34.186764,
          7.8785706,
          -10.698632,
          -22.00442,
          -7.188264,
          0.045205675,
          23.939743,
          16.874119,
          16.937548,
          7.8260407,
          36.6897,
          29.712963,
          -8.02049,
          -18.989271,
          -13.271299,
          -30.813612,
          -32.23231,
          -20.77101,
          -14.696222,
          -15.355387,
          24.042358,
          35.83632,
          37.709778
         ],
         "xaxis": "x",
         "y": [
          11.304382,
          12.846806,
          4.147271,
          8.952854,
          12.812164,
          5.4195943,
          13.405261,
          12.953272,
          4.8592963,
          7.60863,
          18.218155,
          -15.188867,
          -2.4664104,
          -8.308278,
          -16.521217,
          -8.097771,
          -10.658967,
          -17.403698,
          2.2475982,
          1.2527306,
          -5.3338647,
          -9.06148,
          -11.066346,
          -11.679805,
          -1.9961796,
          3.4295,
          4.257958,
          -1.4289978,
          0.44555598,
          6.1240478,
          -0.28737506,
          -18.664738,
          -33.82494,
          -17.503624,
          -13.381293,
          -30.440228,
          -20.536133,
          -14.790814,
          24.868032,
          0.040570628,
          -22.41939,
          -28.95765,
          -26.852768,
          -26.67571,
          -21.66948,
          -22.671522,
          -5.5807996,
          -25.372143,
          -31.074203,
          -24.190935,
          -17.32353,
          -8.885024,
          -11.882066,
          -9.469079,
          -0.3405627,
          -5.9680634,
          -2.7774231,
          -0.0121357925,
          27.10849,
          15.133184,
          44.76794,
          31.64266,
          22.441095,
          40.63745,
          39.457108,
          36.09583,
          33.72627,
          37.977745,
          40.39411,
          2.3229036,
          1.545582,
          6.404585,
          -0.38127795,
          -5.230695,
          -45.249023,
          -51.15861,
          -37.651028,
          -38.43409,
          -41.51283,
          -47.35982,
          -45.262318,
          -39.024006,
          -45.268524,
          -32.201775,
          -47.32708,
          -38.790962,
          12.738297,
          9.806189,
          6.791524,
          -3.4463727,
          -3.0824122,
          1.9979383,
          6.5854526,
          0.09451841,
          1.0165371,
          6.2940435,
          14.843699,
          11.9252615,
          5.3782387,
          11.292525,
          12.13959,
          13.57932,
          7.8525867,
          4.368257,
          4.290817,
          -3.2031271,
          4.8778644,
          44.06994,
          33.59527,
          42.397747,
          33.046394,
          49.044846,
          26.280914,
          40.04058,
          42.64027,
          35.437496,
          -25.673296,
          28.14583,
          24.771107,
          25.375628,
          29.877028,
          30.072886,
          37.519882,
          34.11282,
          -28.181726,
          -19.50657,
          -27.764732,
          -29.507532,
          -35.75209,
          -18.939426,
          -12.738401,
          -32.593533,
          -39.019737,
          3.624566,
          3.806692,
          2.8144584,
          12.850838,
          -17.323362,
          -3.567764,
          13.221661,
          17.838388,
          5.694637,
          16.158566,
          19.960949,
          1.1487828,
          9.539038,
          6.2758536,
          15.484644,
          23.733654,
          12.976679,
          14.125199,
          6.7095165,
          11.957383,
          10.27109,
          17.45137,
          26.87358,
          13.930099,
          27.01765,
          23.190897,
          2.782449,
          26.959633,
          -33.63293,
          -30.246344,
          -12.017316,
          -32.16761,
          -19.789896,
          -39.74153,
          -30.380856,
          -7.246015,
          -16.274973,
          -36.804054,
          37.1776,
          31.884474,
          2.0737581,
          1.6078682,
          7.5700083,
          -15.005691,
          -28.257238,
          -25.374817,
          -25.430964,
          -17.375319,
          -22.271486,
          -32.704185,
          -24.843922,
          37.597878,
          43.78877,
          39.487408,
          43.54074,
          42.04126,
          17.059458,
          10.493801,
          29.936821,
          17.358795,
          10.618842,
          18.298618,
          9.514488,
          -10.425307,
          -21.190392,
          -6.3619375,
          -18.968056,
          -16.708351,
          -17.300264,
          -26.088058,
          -17.150507,
          -3.1093247,
          -23.497355,
          -11.595321,
          -21.370422,
          -32.615566,
          -9.436349,
          -40.330414,
          -13.892737,
          -27.015043,
          -28.510094,
          -13.785525,
          -9.098608,
          -20.92521,
          -25.90182,
          36.25312,
          -11.828483,
          -17.21459,
          -17.547325,
          -7.9837527,
          -34.857994,
          -21.3557,
          -17.308264,
          -2.1703186,
          -25.27704,
          -14.143533,
          -1.856149,
          -32.174377,
          -14.191121,
          -12.9251175,
          21.505196,
          15.468333,
          18.66198,
          15.073453,
          21.854872,
          8.800947,
          12.838998,
          -8.79523,
          -15.324336,
          25.327858,
          -4.8976927,
          21.49331,
          14.443729,
          -5.586845,
          19.502556,
          -8.364065,
          1.5303092,
          20.957195,
          -8.051043,
          3.840395,
          10.940358,
          31.09558,
          -23.211868,
          25.35431,
          26.404865,
          -5.0413885,
          9.954286,
          16.577623,
          -13.984356,
          27.280796,
          -2.8450546,
          33.849407,
          0.3497666,
          14.0266,
          -6.9524975,
          16.53987,
          20.778732,
          37.824554,
          28.59039,
          33.128906,
          32.55034,
          -36.122326,
          -39.45303,
          -8.558279,
          5.281803,
          9.346507,
          0.97016644,
          10.658192,
          4.2805777,
          -2.0521603,
          4.9275417,
          -30.058254,
          -31.34046,
          -21.644033,
          -26.145996,
          -18.624313,
          -25.666922,
          30.789038,
          -2.4173386,
          27.528929,
          7.342697,
          32.34163,
          31.916624,
          0.5157046,
          2.1980698,
          2.7430584,
          8.776569,
          12.857923,
          -7.000042,
          38.876934,
          36.712357,
          35.897057,
          31.605179,
          44.039192,
          36.92352,
          43.212463,
          34.87577,
          -6.109954,
          -12.862602,
          -10.6621275,
          -25.699453,
          -15.425551,
          -6.846829,
          -17.96117,
          -15.561209,
          -7.173698,
          -16.157963,
          -20.602045,
          -23.4987,
          -25.465263,
          -22.833935,
          -17.182432,
          -12.184039,
          -16.264133,
          -27.871058,
          -25.514875,
          -17.065413,
          -21.72435,
          -14.100293,
          -18.154587,
          -25.153135,
          -22.644785,
          -17.914158,
          -27.797958,
          -16.868195,
          -17.807793,
          -18.798079,
          -18.190561,
          -34.003952,
          -34.41972,
          -26.44588,
          -9.731494,
          -2.5943308,
          -31.440905,
          -27.080647,
          -33.60093,
          -34.73883,
          -26.97237,
          -24.57206,
          -1.08849,
          -0.42182457,
          -1.6113163,
          -8.75354,
          -10.014162,
          0.9674923,
          4.8342876,
          -8.722678,
          -8.004266,
          -15.782369,
          35.124123,
          40.859966,
          38.201202,
          38.853504,
          -16.361105,
          -21.380749,
          25.601059,
          17.681,
          19.362225,
          -11.092319,
          -9.943491,
          -10.164606,
          19.185497,
          19.801458,
          26.262629,
          22.777906,
          27.220633,
          33.02301,
          16.718786,
          25.741764,
          15.012616,
          28.62894,
          16.34736,
          6.893585,
          18.055668,
          0.3853753,
          8.615328,
          21.50189,
          12.743657,
          12.6772,
          0.50054336,
          4.792766,
          -1.3597579,
          19.764803,
          6.470729,
          7.6426196,
          10.992366,
          -0.597239,
          -3.9954824,
          -5.868504,
          -9.217374,
          -10.431987,
          -4.626163,
          -8.278089,
          -13.021636,
          5.584373,
          6.8310404,
          7.6951017,
          7.479418,
          -6.6660957,
          -10.449034,
          -5.3534894,
          1.5060303,
          1.2675894,
          -14.969634,
          -15.911264,
          -2.0241935,
          -11.857984,
          14.658262,
          17.40655,
          -15.01085,
          -6.945358,
          -12.581589,
          20.061874,
          18.45695,
          11.828312,
          13.025591,
          7.05523,
          13.479831,
          24.708826,
          3.2168818,
          11.77775,
          21.382883,
          10.331935,
          11.900699,
          6.7224455,
          8.003556,
          10.688623,
          -13.459517,
          -19.54431,
          -6.979829,
          -22.050133,
          14.226756,
          11.596207,
          -21.147984,
          25.412981,
          23.44477,
          -2.559242,
          0.534559,
          -40.392918,
          -37.312153,
          13.486692,
          -7.479527,
          -6.2948914,
          -8.338365,
          18.58615,
          23.107325,
          23.119934,
          -32.569763,
          -29.055923,
          15.730164,
          16.18527,
          8.645014,
          -26.786425,
          -29.363153,
          -28.649477
         ],
         "yaxis": "y"
        }
       ],
       "layout": {
        "coloraxis": {
         "colorbar": {
          "title": {
           "text": "cluster"
          }
         },
         "colorscale": [
          [
           0,
           "rgb(0, 147, 146)"
          ],
          [
           0.16666666666666666,
           "rgb(114, 170, 161)"
          ],
          [
           0.3333333333333333,
           "rgb(177, 199, 179)"
          ],
          [
           0.5,
           "rgb(241, 234, 200)"
          ],
          [
           0.6666666666666666,
           "rgb(229, 185, 173)"
          ],
          [
           0.8333333333333334,
           "rgb(217, 137, 148)"
          ],
          [
           1,
           "rgb(208, 88, 126)"
          ]
         ]
        },
        "height": 600,
        "hovermode": "closest",
        "legend": {
         "tracegroupgap": 0
        },
        "margin": {
         "t": 60
        },
        "template": {
         "data": {
          "bar": [
           {
            "error_x": {
             "color": "#2a3f5f"
            },
            "error_y": {
             "color": "#2a3f5f"
            },
            "marker": {
             "line": {
              "color": "#E5ECF6",
              "width": 0.5
             },
             "pattern": {
              "fillmode": "overlay",
              "size": 10,
              "solidity": 0.2
             }
            },
            "type": "bar"
           }
          ],
          "barpolar": [
           {
            "marker": {
             "line": {
              "color": "#E5ECF6",
              "width": 0.5
             },
             "pattern": {
              "fillmode": "overlay",
              "size": 10,
              "solidity": 0.2
             }
            },
            "type": "barpolar"
           }
          ],
          "carpet": [
           {
            "aaxis": {
             "endlinecolor": "#2a3f5f",
             "gridcolor": "white",
             "linecolor": "white",
             "minorgridcolor": "white",
             "startlinecolor": "#2a3f5f"
            },
            "baxis": {
             "endlinecolor": "#2a3f5f",
             "gridcolor": "white",
             "linecolor": "white",
             "minorgridcolor": "white",
             "startlinecolor": "#2a3f5f"
            },
            "type": "carpet"
           }
          ],
          "choropleth": [
           {
            "colorbar": {
             "outlinewidth": 0,
             "ticks": ""
            },
            "type": "choropleth"
           }
          ],
          "contour": [
           {
            "colorbar": {
             "outlinewidth": 0,
             "ticks": ""
            },
            "colorscale": [
             [
              0,
              "#0d0887"
             ],
             [
              0.1111111111111111,
              "#46039f"
             ],
             [
              0.2222222222222222,
              "#7201a8"
             ],
             [
              0.3333333333333333,
              "#9c179e"
             ],
             [
              0.4444444444444444,
              "#bd3786"
             ],
             [
              0.5555555555555556,
              "#d8576b"
             ],
             [
              0.6666666666666666,
              "#ed7953"
             ],
             [
              0.7777777777777778,
              "#fb9f3a"
             ],
             [
              0.8888888888888888,
              "#fdca26"
             ],
             [
              1,
              "#f0f921"
             ]
            ],
            "type": "contour"
           }
          ],
          "contourcarpet": [
           {
            "colorbar": {
             "outlinewidth": 0,
             "ticks": ""
            },
            "type": "contourcarpet"
           }
          ],
          "heatmap": [
           {
            "colorbar": {
             "outlinewidth": 0,
             "ticks": ""
            },
            "colorscale": [
             [
              0,
              "#0d0887"
             ],
             [
              0.1111111111111111,
              "#46039f"
             ],
             [
              0.2222222222222222,
              "#7201a8"
             ],
             [
              0.3333333333333333,
              "#9c179e"
             ],
             [
              0.4444444444444444,
              "#bd3786"
             ],
             [
              0.5555555555555556,
              "#d8576b"
             ],
             [
              0.6666666666666666,
              "#ed7953"
             ],
             [
              0.7777777777777778,
              "#fb9f3a"
             ],
             [
              0.8888888888888888,
              "#fdca26"
             ],
             [
              1,
              "#f0f921"
             ]
            ],
            "type": "heatmap"
           }
          ],
          "heatmapgl": [
           {
            "colorbar": {
             "outlinewidth": 0,
             "ticks": ""
            },
            "colorscale": [
             [
              0,
              "#0d0887"
             ],
             [
              0.1111111111111111,
              "#46039f"
             ],
             [
              0.2222222222222222,
              "#7201a8"
             ],
             [
              0.3333333333333333,
              "#9c179e"
             ],
             [
              0.4444444444444444,
              "#bd3786"
             ],
             [
              0.5555555555555556,
              "#d8576b"
             ],
             [
              0.6666666666666666,
              "#ed7953"
             ],
             [
              0.7777777777777778,
              "#fb9f3a"
             ],
             [
              0.8888888888888888,
              "#fdca26"
             ],
             [
              1,
              "#f0f921"
             ]
            ],
            "type": "heatmapgl"
           }
          ],
          "histogram": [
           {
            "marker": {
             "pattern": {
              "fillmode": "overlay",
              "size": 10,
              "solidity": 0.2
             }
            },
            "type": "histogram"
           }
          ],
          "histogram2d": [
           {
            "colorbar": {
             "outlinewidth": 0,
             "ticks": ""
            },
            "colorscale": [
             [
              0,
              "#0d0887"
             ],
             [
              0.1111111111111111,
              "#46039f"
             ],
             [
              0.2222222222222222,
              "#7201a8"
             ],
             [
              0.3333333333333333,
              "#9c179e"
             ],
             [
              0.4444444444444444,
              "#bd3786"
             ],
             [
              0.5555555555555556,
              "#d8576b"
             ],
             [
              0.6666666666666666,
              "#ed7953"
             ],
             [
              0.7777777777777778,
              "#fb9f3a"
             ],
             [
              0.8888888888888888,
              "#fdca26"
             ],
             [
              1,
              "#f0f921"
             ]
            ],
            "type": "histogram2d"
           }
          ],
          "histogram2dcontour": [
           {
            "colorbar": {
             "outlinewidth": 0,
             "ticks": ""
            },
            "colorscale": [
             [
              0,
              "#0d0887"
             ],
             [
              0.1111111111111111,
              "#46039f"
             ],
             [
              0.2222222222222222,
              "#7201a8"
             ],
             [
              0.3333333333333333,
              "#9c179e"
             ],
             [
              0.4444444444444444,
              "#bd3786"
             ],
             [
              0.5555555555555556,
              "#d8576b"
             ],
             [
              0.6666666666666666,
              "#ed7953"
             ],
             [
              0.7777777777777778,
              "#fb9f3a"
             ],
             [
              0.8888888888888888,
              "#fdca26"
             ],
             [
              1,
              "#f0f921"
             ]
            ],
            "type": "histogram2dcontour"
           }
          ],
          "mesh3d": [
           {
            "colorbar": {
             "outlinewidth": 0,
             "ticks": ""
            },
            "type": "mesh3d"
           }
          ],
          "parcoords": [
           {
            "line": {
             "colorbar": {
              "outlinewidth": 0,
              "ticks": ""
             }
            },
            "type": "parcoords"
           }
          ],
          "pie": [
           {
            "automargin": true,
            "type": "pie"
           }
          ],
          "scatter": [
           {
            "fillpattern": {
             "fillmode": "overlay",
             "size": 10,
             "solidity": 0.2
            },
            "type": "scatter"
           }
          ],
          "scatter3d": [
           {
            "line": {
             "colorbar": {
              "outlinewidth": 0,
              "ticks": ""
             }
            },
            "marker": {
             "colorbar": {
              "outlinewidth": 0,
              "ticks": ""
             }
            },
            "type": "scatter3d"
           }
          ],
          "scattercarpet": [
           {
            "marker": {
             "colorbar": {
              "outlinewidth": 0,
              "ticks": ""
             }
            },
            "type": "scattercarpet"
           }
          ],
          "scattergeo": [
           {
            "marker": {
             "colorbar": {
              "outlinewidth": 0,
              "ticks": ""
             }
            },
            "type": "scattergeo"
           }
          ],
          "scattergl": [
           {
            "marker": {
             "colorbar": {
              "outlinewidth": 0,
              "ticks": ""
             }
            },
            "type": "scattergl"
           }
          ],
          "scattermapbox": [
           {
            "marker": {
             "colorbar": {
              "outlinewidth": 0,
              "ticks": ""
             }
            },
            "type": "scattermapbox"
           }
          ],
          "scatterpolar": [
           {
            "marker": {
             "colorbar": {
              "outlinewidth": 0,
              "ticks": ""
             }
            },
            "type": "scatterpolar"
           }
          ],
          "scatterpolargl": [
           {
            "marker": {
             "colorbar": {
              "outlinewidth": 0,
              "ticks": ""
             }
            },
            "type": "scatterpolargl"
           }
          ],
          "scatterternary": [
           {
            "marker": {
             "colorbar": {
              "outlinewidth": 0,
              "ticks": ""
             }
            },
            "type": "scatterternary"
           }
          ],
          "surface": [
           {
            "colorbar": {
             "outlinewidth": 0,
             "ticks": ""
            },
            "colorscale": [
             [
              0,
              "#0d0887"
             ],
             [
              0.1111111111111111,
              "#46039f"
             ],
             [
              0.2222222222222222,
              "#7201a8"
             ],
             [
              0.3333333333333333,
              "#9c179e"
             ],
             [
              0.4444444444444444,
              "#bd3786"
             ],
             [
              0.5555555555555556,
              "#d8576b"
             ],
             [
              0.6666666666666666,
              "#ed7953"
             ],
             [
              0.7777777777777778,
              "#fb9f3a"
             ],
             [
              0.8888888888888888,
              "#fdca26"
             ],
             [
              1,
              "#f0f921"
             ]
            ],
            "type": "surface"
           }
          ],
          "table": [
           {
            "cells": {
             "fill": {
              "color": "#EBF0F8"
             },
             "line": {
              "color": "white"
             }
            },
            "header": {
             "fill": {
              "color": "#C8D4E3"
             },
             "line": {
              "color": "white"
             }
            },
            "type": "table"
           }
          ]
         },
         "layout": {
          "annotationdefaults": {
           "arrowcolor": "#2a3f5f",
           "arrowhead": 0,
           "arrowwidth": 1
          },
          "autotypenumbers": "strict",
          "coloraxis": {
           "colorbar": {
            "outlinewidth": 0,
            "ticks": ""
           }
          },
          "colorscale": {
           "diverging": [
            [
             0,
             "#8e0152"
            ],
            [
             0.1,
             "#c51b7d"
            ],
            [
             0.2,
             "#de77ae"
            ],
            [
             0.3,
             "#f1b6da"
            ],
            [
             0.4,
             "#fde0ef"
            ],
            [
             0.5,
             "#f7f7f7"
            ],
            [
             0.6,
             "#e6f5d0"
            ],
            [
             0.7,
             "#b8e186"
            ],
            [
             0.8,
             "#7fbc41"
            ],
            [
             0.9,
             "#4d9221"
            ],
            [
             1,
             "#276419"
            ]
           ],
           "sequential": [
            [
             0,
             "#0d0887"
            ],
            [
             0.1111111111111111,
             "#46039f"
            ],
            [
             0.2222222222222222,
             "#7201a8"
            ],
            [
             0.3333333333333333,
             "#9c179e"
            ],
            [
             0.4444444444444444,
             "#bd3786"
            ],
            [
             0.5555555555555556,
             "#d8576b"
            ],
            [
             0.6666666666666666,
             "#ed7953"
            ],
            [
             0.7777777777777778,
             "#fb9f3a"
            ],
            [
             0.8888888888888888,
             "#fdca26"
            ],
            [
             1,
             "#f0f921"
            ]
           ],
           "sequentialminus": [
            [
             0,
             "#0d0887"
            ],
            [
             0.1111111111111111,
             "#46039f"
            ],
            [
             0.2222222222222222,
             "#7201a8"
            ],
            [
             0.3333333333333333,
             "#9c179e"
            ],
            [
             0.4444444444444444,
             "#bd3786"
            ],
            [
             0.5555555555555556,
             "#d8576b"
            ],
            [
             0.6666666666666666,
             "#ed7953"
            ],
            [
             0.7777777777777778,
             "#fb9f3a"
            ],
            [
             0.8888888888888888,
             "#fdca26"
            ],
            [
             1,
             "#f0f921"
            ]
           ]
          },
          "colorway": [
           "#636efa",
           "#EF553B",
           "#00cc96",
           "#ab63fa",
           "#FFA15A",
           "#19d3f3",
           "#FF6692",
           "#B6E880",
           "#FF97FF",
           "#FECB52"
          ],
          "font": {
           "color": "#2a3f5f"
          },
          "geo": {
           "bgcolor": "white",
           "lakecolor": "white",
           "landcolor": "#E5ECF6",
           "showlakes": true,
           "showland": true,
           "subunitcolor": "white"
          },
          "hoverlabel": {
           "align": "left"
          },
          "hovermode": "closest",
          "mapbox": {
           "style": "light"
          },
          "paper_bgcolor": "white",
          "plot_bgcolor": "#E5ECF6",
          "polar": {
           "angularaxis": {
            "gridcolor": "white",
            "linecolor": "white",
            "ticks": ""
           },
           "bgcolor": "#E5ECF6",
           "radialaxis": {
            "gridcolor": "white",
            "linecolor": "white",
            "ticks": ""
           }
          },
          "scene": {
           "xaxis": {
            "backgroundcolor": "#E5ECF6",
            "gridcolor": "white",
            "gridwidth": 2,
            "linecolor": "white",
            "showbackground": true,
            "ticks": "",
            "zerolinecolor": "white"
           },
           "yaxis": {
            "backgroundcolor": "#E5ECF6",
            "gridcolor": "white",
            "gridwidth": 2,
            "linecolor": "white",
            "showbackground": true,
            "ticks": "",
            "zerolinecolor": "white"
           },
           "zaxis": {
            "backgroundcolor": "#E5ECF6",
            "gridcolor": "white",
            "gridwidth": 2,
            "linecolor": "white",
            "showbackground": true,
            "ticks": "",
            "zerolinecolor": "white"
           }
          },
          "shapedefaults": {
           "line": {
            "color": "#2a3f5f"
           }
          },
          "ternary": {
           "aaxis": {
            "gridcolor": "white",
            "linecolor": "white",
            "ticks": ""
           },
           "baxis": {
            "gridcolor": "white",
            "linecolor": "white",
            "ticks": ""
           },
           "bgcolor": "#E5ECF6",
           "caxis": {
            "gridcolor": "white",
            "linecolor": "white",
            "ticks": ""
           }
          },
          "title": {
           "x": 0.05
          },
          "xaxis": {
           "automargin": true,
           "gridcolor": "white",
           "linecolor": "white",
           "ticks": "",
           "title": {
            "standoff": 15
           },
           "zerolinecolor": "white",
           "zerolinewidth": 2
          },
          "yaxis": {
           "automargin": true,
           "gridcolor": "white",
           "linecolor": "white",
           "ticks": "",
           "title": {
            "standoff": 15
           },
           "zerolinecolor": "white",
           "zerolinewidth": 2
          }
         }
        },
        "title": {
         "text": "2D Visualization of Embeddings with Clusters and 468 startups"
        },
        "width": 1000,
        "xaxis": {
         "anchor": "y",
         "autorange": true,
         "domain": [
          0,
          1
         ],
         "range": [
          -51.526529273972606,
          49.313121273972605
         ],
         "title": {
          "text": "x"
         },
         "type": "linear"
        },
        "yaxis": {
         "anchor": "x",
         "autorange": true,
         "domain": [
          0,
          1
         ],
         "range": [
          -58.45861270983811,
          56.344848709838104
         ],
         "title": {
          "text": "y"
         },
         "type": "linear"
        }
       }
      },
      "image/png": "[encoded data removed]",
      "text/html": [
       "<div>                            <div id=\"4f456118-82cc-4cd3-a04b-17f147b64dfb\" class=\"plotly-graph-div\" style=\"height:600px; width:1000px;\"></div>            <script type=\"text/javascript\">                require([\"plotly\"], function(Plotly) {                    window.PLOTLYENV=window.PLOTLYENV || {};                                    if (document.getElementById(\"4f456118-82cc-4cd3-a04b-17f147b64dfb\")) {                    Plotly.newPlot(                        \"4f456118-82cc-4cd3-a04b-17f147b64dfb\",                        [{\"customdata\":[[\"Music and Audio Production Tools\"],[\"Music and Audio Production Tools\"],[\"Music and Audio Production Tools\"],[\"Music and Audio Production Tools\"],[\"Music and Audio Production Tools\"],[\"Music and Audio Production Tools\"],[\"Music and Audio Production Tools\"],[\"Music and Audio Production Tools\"],[\"Music and Audio Production Tools\"],[\"Music and Audio Production Tools\"],[\"Music and Audio Production Tools\"],[\"AI Toolset for Developers\"],[\"AI Toolset for Developers\"],[\"AI Toolset for Developers\"],[\"AI Toolset for Developers\"],[\"AI Toolset for Developers\"],[\"AI Toolset for Developers\"],[\"AI Toolset for Developers\"],[\"AI Toolset for Developers\"],[\"AI Toolset for Developers\"],[\"AI Toolset for Developers\"],[\"AI Toolset for Developers\"],[\"Construction and Workflow Automation\"],[\"Construction and Workflow Automation\"],[\"Construction and Workflow Automation\"],[\"Web Development and AI tools\"],[\"Web Development and AI tools\"],[\"Web Development and AI tools\"],[\"Web Development and AI tools\"],[\"Web Development and AI tools\"],[\"Web Development and AI tools\"],[\"AI Research and Development\"],[\"AI Research and Development\"],[\"AI Research and Development\"],[\"AI Research and Development\"],[\"AI Research and Development\"],[\"AI Research and Development\"],[\"AI Research and Development\"],[\"AI Research and Development\"],[\"AI Research and Development\"],[\"AI Research and Development\"],[\"AI Research and Development\"],[\"AI Research and Development\"],[\"AI Research and Development\"],[\"AI Research and Development\"],[\"AI Research and Development\"],[\"AI Research and Development\"],[\"AI Research and Development\"],[\"AI Research and Development\"],[\"AI Research and Development\"],[\"AI Research and Development\"],[\"AI Research and Development\"],[\"AI Research and Development\"],[\"Tech and Blockchain News\"],[\"Tech and Blockchain News\"],[\"Tech and Blockchain News\"],[\"Tech and Blockchain News\"],[\"Tech and Blockchain News\"],[\"HR and Recruitment Automation\"],[\"HR and Recruitment Automation\"],[\"HR and Recruitment Automation\"],[\"HR and Recruitment Automation\"],[\"HR and Recruitment Automation\"],[\"HR and Recruitment Automation\"],[\"HR and Recruitment Automation\"],[\"HR and Recruitment Automation\"],[\"HR and Recruitment Automation\"],[\"HR and Recruitment Automation\"],[\"HR and Recruitment Automation\"],[\"Retail Supply Chain Management\"],[\"Retail Supply Chain Management\"],[\"Retail Supply Chain Management\"],[\"Retail Supply Chain Management\"],[\"Retail Supply Chain Management\"],[\"Advanced Cybersecurity Solutions\"],[\"Advanced Cybersecurity Solutions\"],[\"Advanced Cybersecurity Solutions\"],[\"Advanced Cybersecurity Solutions\"],[\"Advanced Cybersecurity Solutions\"],[\"Advanced Cybersecurity Solutions\"],[\"Advanced Cybersecurity Solutions\"],[\"Advanced Cybersecurity Solutions\"],[\"Advanced Cybersecurity Solutions\"],[\"Advanced Cybersecurity Solutions\"],[\"Advanced Cybersecurity Solutions\"],[\"Advanced Cybersecurity Solutions\"],[\"Mobile and Software Development Technologies\"],[\"Mobile and Software Development Technologies\"],[\"Mobile and Software Development Technologies\"],[\"Mobile and Software Development Technologies\"],[\"Mobile and Software Development Technologies\"],[\"Mobile and Software Development Technologies\"],[\"Mobile and Software Development Technologies\"],[\"Mobile and Software Development Technologies\"],[\"Mobile and Software Development Technologies\"],[\"Mobile and Software Development Technologies\"],[\"Mobile and Software Development Technologies\"],[\"Mobile and Software Development Technologies\"],[\"Mobile and Software Development Technologies\"],[\"Mobile and Software Development Technologies\"],[\"Mobile and Software Development Technologies\"],[\"Mobile and Software Development Technologies\"],[\"Mobile and Software Development Technologies\"],[\"Mobile and Software Development Technologies\"],[\"Mobile and Software Development Technologies\"],[\"Mobile and Software Development Technologies\"],[\"Mobile and Software Development Technologies\"],[\"Educational Technologies and Learning Platforms\"],[\"Educational Technologies and Learning Platforms\"],[\"Educational Technologies and Learning Platforms\"],[\"Educational Technologies and Learning Platforms\"],[\"Educational Technologies and Learning Platforms\"],[\"Educational Technologies and Learning Platforms\"],[\"Educational Technologies and Learning Platforms\"],[\"Educational Technologies and Learning Platforms\"],[\"Educational Technologies and Learning Platforms\"],[\"Educational Technologies and Learning Platforms\"],[\"Educational Technologies and Learning Platforms\"],[\"Educational Technologies and Learning Platforms\"],[\"Educational Technologies and Learning Platforms\"],[\"Educational Technologies and Learning Platforms\"],[\"Educational Technologies and Learning Platforms\"],[\"Educational Technologies and Learning Platforms\"],[\"Educational Technologies and Learning Platforms\"],[\"Healthcare Data Management Systems\"],[\"Healthcare Data Management Systems\"],[\"Healthcare Data Management Systems\"],[\"Healthcare Data Management Systems\"],[\"Healthcare Data Management Systems\"],[\"Healthcare Data Management Systems\"],[\"Healthcare Data Management Systems\"],[\"Healthcare Data Management Systems\"],[\"Healthcare Data Management Systems\"],[\"Creative Business Tools\"],[\"Creative Business Tools\"],[\"Creative Business Tools\"],[\"Creative Business Tools\"],[\"Creative Business Tools\"],[\"Creative Business Tools\"],[\"Creative Business Tools\"],[\"Creative Business Tools\"],[\"Creative Business Tools\"],[\"Creative Business Tools\"],[\"Creative Business Tools\"],[\"Creative Business Tools\"],[\"Creative Business Tools\"],[\"Creative Business Tools\"],[\"Creative Business Tools\"],[\"Creative Business Tools\"],[\"Creative Business Tools\"],[\"Creative Business Tools\"],[\"Creative Business Tools\"],[\"Creative Business Tools\"],[\"Restaurant and Hospitality Services\"],[\"Restaurant and Hospitality Services\"],[\"Restaurant and Hospitality Services\"],[\"Restaurant and Hospitality Services\"],[\"Restaurant and Hospitality Services\"],[\"Restaurant and Hospitality Services\"],[\"Restaurant and Hospitality Services\"],[\"Restaurant and Hospitality Services\"],[\"Regulatory Compliance and Risk Management\"],[\"Regulatory Compliance and Risk Management\"],[\"Regulatory Compliance and Risk Management\"],[\"Regulatory Compliance and Risk Management\"],[\"Regulatory Compliance and Risk Management\"],[\"Regulatory Compliance and Risk Management\"],[\"Regulatory Compliance and Risk Management\"],[\"Regulatory Compliance and Risk Management\"],[\"Regulatory Compliance and Risk Management\"],[\"Regulatory Compliance and Risk Management\"],[\"Gamification in Education\"],[\"Gamification in Education\"],[\"Marketing Data Analytics\"],[\"Marketing Data Analytics\"],[\"Marketing Data Analytics\"],[\"Personalized Wellness Programs\"],[\"Personalized Wellness Programs\"],[\"Personalized Wellness Programs\"],[\"Personalized Wellness Programs\"],[\"Personalized Wellness Programs\"],[\"Personalized Wellness Programs\"],[\"Personalized Wellness Programs\"],[\"Personalized Wellness Programs\"],[\"AI-Driven Business Strategies\"],[\"AI-Driven Business Strategies\"],[\"AI-Driven Business Strategies\"],[\"AI-Driven Business Strategies\"],[\"AI-Driven Business Strategies\"],[\"E-commerce and Retail Strategies\"],[\"E-commerce and Retail Strategies\"],[\"E-commerce and Retail Strategies\"],[\"E-commerce and Retail Strategies\"],[\"E-commerce and Retail Strategies\"],[\"E-commerce and Retail Strategies\"],[\"E-commerce and Retail Strategies\"],[\"AI Systems Development\"],[\"AI Systems Development\"],[\"AI Systems Development\"],[\"AI Systems Development\"],[\"AI Systems Development\"],[\"AI Systems Development\"],[\"AI Systems Development\"],[\"AI Systems Development\"],[\"AI Systems Development\"],[\"AI Systems Development\"],[\"AI Systems Development\"],[\"AI Systems Development\"],[\"AI Systems Development\"],[\"AI Systems Development\"],[\"AI Systems Development\"],[\"AI Systems Development\"],[\"AI Systems Development\"],[\"AI Systems Development\"],[\"AI Systems Development\"],[\"AI Systems Development\"],[\"AI Systems Development\"],[\"AI Systems Development\"],[\"AI Systems Development\"],[\"AI Systems Development\"],[\"AI Systems Development\"],[\"AI Systems Development\"],[\"AI Systems Development\"],[\"AI Systems Development\"],[\"AI Systems Development\"],[\"AI Systems Development\"],[\"AI Systems Development\"],[\"AI Systems Development\"],[\"AI Systems Development\"],[\"AI Systems Development\"],[\"AI Systems Development\"],[\"AI Systems Development\"],[\"AI Systems Development\"],[\"Social Media and Marketing Strategies\"],[\"Social Media and Marketing Strategies\"],[\"Social Media and Marketing Strategies\"],[\"Social Media and Marketing Strategies\"],[\"Social Media and Marketing Strategies\"],[\"Customer Data Analysis\"],[\"Customer Data Analysis\"],[\"Customer Data Analysis\"],[\"Customer Data Analysis\"],[\"Automated Business Systems\"],[\"Automated Business Systems\"],[\"Automated Business Systems\"],[\"Automated Business Systems\"],[\"Automated Business Systems\"],[\"Automated Business Systems\"],[\"Automated Business Systems\"],[\"Automated Business Systems\"],[\"Automated Business Systems\"],[\"Automated Business Systems\"],[\"Automated Business Systems\"],[\"Automated Business Systems\"],[\"Automated Business Systems\"],[\"Automated Business Systems\"],[\"Automated Business Systems\"],[\"Automated Business Systems\"],[\"Automated Business Systems\"],[\"Automated Business Systems\"],[\"Automated Business Systems\"],[\"Automated Business Systems\"],[\"Automated Business Systems\"],[\"Automated Business Systems\"],[\"Automated Business Systems\"],[\"Automated Business Systems\"],[\"Automated Business Systems\"],[\"Automated Business Systems\"],[\"Automated Business Systems\"],[\"Automated Business Systems\"],[\"Career Development Tools\"],[\"Career Development Tools\"],[\"Career Development Tools\"],[\"Career Development Tools\"],[\"Veterinary and Pet Care Technologies\"],[\"Veterinary and Pet Care Technologies\"],[\"Veterinary and Pet Care Technologies\"],[\"Legal and Technological Automation\"],[\"Legal and Technological Automation\"],[\"Legal and Technological Automation\"],[\"Legal and Technological Automation\"],[\"Legal and Technological Automation\"],[\"Legal and Technological Automation\"],[\"Legal and Technological Automation\"],[\"Data Insights and Analytics\"],[\"Data Insights and Analytics\"],[\"Data Insights and Analytics\"],[\"Data Insights and Analytics\"],[\"Data Insights and Analytics\"],[\"Data Insights and Analytics\"],[\"Social Media and Digital Insights\"],[\"Social Media and Digital Insights\"],[\"Social Media and Digital Insights\"],[\"Social Media and Digital Insights\"],[\"Social Media and Digital Insights\"],[\"Social Media and Digital Insights\"],[\"Social Media and Digital Insights\"],[\"Social Media and Digital Insights\"],[\"Social Media and Digital Insights\"],[\"Social Media and Digital Insights\"],[\"Social Media and Digital Insights\"],[\"Social Media and Digital Insights\"],[\"Travel Booking and Planning Systems\"],[\"Travel Booking and Planning Systems\"],[\"Travel Booking and Planning Systems\"],[\"Travel Booking and Planning Systems\"],[\"Travel Booking and Planning Systems\"],[\"Travel Booking and Planning Systems\"],[\"Travel Booking and Planning Systems\"],[\"Travel Booking and Planning Systems\"],[\"Real Estate Investment Analysis\"],[\"Real Estate Investment Analysis\"],[\"Real Estate Investment Analysis\"],[\"Real Estate Investment Analysis\"],[\"Real Estate Investment Analysis\"],[\"Real Estate Investment Analysis\"],[\"Real Estate Investment Analysis\"],[\"Real Estate Investment Analysis\"],[\"Real Estate Investment Analysis\"],[\"Financial Management Systems\"],[\"Financial Management Systems\"],[\"Financial Management Systems\"],[\"Financial Management Systems\"],[\"Financial Management Systems\"],[\"Financial Management Systems\"],[\"Financial Management Systems\"],[\"Financial Management Systems\"],[\"Financial Management Systems\"],[\"Financial Management Systems\"],[\"Financial Management Systems\"],[\"Financial Management Systems\"],[\"Financial Management Systems\"],[\"Financial Management Systems\"],[\"Financial Management Systems\"],[\"Financial Management Systems\"],[\"Financial Management Systems\"],[\"Data Management and Quality Control\"],[\"Data Management and Quality Control\"],[\"Data Management and Quality Control\"],[\"Data Management and Quality Control\"],[\"Data Management and Quality Control\"],[\"Data Management and Quality Control\"],[\"Data Management and Quality Control\"],[\"Data Management and Quality Control\"],[\"No-Code AI Platforms\"],[\"No-Code AI Platforms\"],[\"No-Code AI Platforms\"],[\"Healthcare Workflow Optimization\"],[\"Healthcare Workflow Optimization\"],[\"Healthcare Workflow Optimization\"],[\"Healthcare Workflow Optimization\"],[\"Healthcare Workflow Optimization\"],[\"Venture Capital and Financing\"],[\"Venture Capital and Financing\"],[\"Venture Capital and Financing\"],[\"Venture Capital and Financing\"],[\"Venture Capital and Financing\"],[\"Venture Capital and Financing\"],[\"Venture Capital and Financing\"],[\"Venture Capital and Financing\"],[\"Venture Capital and Financing\"],[\"Venture Capital and Financing\"],[\"Sustainability and Non-Profit Solutions\"],[\"Sustainability and Non-Profit Solutions\"],[\"Sustainability and Non-Profit Solutions\"],[\"Sustainability and Non-Profit Solutions\"],[\"Wellness and Sleep Health\"],[\"Wellness and Sleep Health\"],[\"Industrial Sales Automation\"],[\"Industrial Sales Automation\"],[\"Industrial Sales Automation\"],[\"Tax and Accounting Automation\"],[\"Tax and Accounting Automation\"],[\"Tax and Accounting Automation\"],[\"Sales and Marketing Outreach\"],[\"Sales and Marketing Outreach\"],[\"Sales and Marketing Outreach\"],[\"Sales and Marketing Outreach\"],[\"Sales and Marketing Outreach\"],[\"Sales and Marketing Outreach\"],[\"Sales and Marketing Outreach\"],[\"Sales and Marketing Outreach\"],[\"Sales and Marketing Outreach\"],[\"Sales and Marketing Outreach\"],[\"Sales and Marketing Outreach\"],[\"Image Enhancement Solutions\"],[\"Image Enhancement Solutions\"],[\"Image Enhancement Solutions\"],[\"Image Enhancement Solutions\"],[\"Image Enhancement Solutions\"],[\"Image Enhancement Solutions\"],[\"Image Enhancement Solutions\"],[\"Creative Content and Media Tools\"],[\"Creative Content and Media Tools\"],[\"Creative Content and Media Tools\"],[\"Creative Content and Media Tools\"],[\"Creative Content and Media Tools\"],[\"Creative Content and Media Tools\"],[\"Creative Content and Media Tools\"],[\"Home and Interior Design\"],[\"Home and Interior Design\"],[\"Home and Interior Design\"],[\"Home and Interior Design\"],[\"Mental Health and Therapy\"],[\"Mental Health and Therapy\"],[\"Mental Health and Therapy\"],[\"Mental Health and Therapy\"],[\"Market and Business Strategy\"],[\"Market and Business Strategy\"],[\"Market and Business Strategy\"],[\"Market and Business Strategy\"],[\"Animation and Visual Effects Tools\"],[\"Animation and Visual Effects Tools\"],[\"Animation and Visual Effects Tools\"],[\"Animation and Visual Effects Tools\"],[\"Animation and Visual Effects Tools\"],[\"Animation and Visual Effects Tools\"],[\"Animation and Visual Effects Tools\"],[\"Animation and Visual Effects Tools\"],[\"Animation and Visual Effects Tools\"],[\"Technical Writing and Proposals\"],[\"Technical Writing and Proposals\"],[\"Biotechnological Research\"],[\"Biotechnological Research\"],[\"Biotechnological Research\"],[\"Project and Team Management\"],[\"Project and Team Management\"],[\"Project and Team Management\"],[\"Project and Team Management\"],[\"Project and Team Management\"],[\"Project and Team Management\"],[\"Project and Team Management\"],[\"E-commerce Management\"],[\"E-commerce Management\"],[\"E-commerce Management\"],[\"E-commerce Management\"],[\"Industrial Sourcing Solutions\"],[\"Industrial Sourcing Solutions\"],[\"Industrial Sourcing Solutions\"],[\"Industrial Sourcing Solutions\"],[\"Decentralized Tech and Identity\"],[\"Decentralized Tech and Identity\"],[\"Decentralized Tech and Identity\"],[\"Decentralized Tech and Identity\"],[\"Client Management in Legal Services\"],[\"Client Management in Legal Services\"],[\"Social and Event Planning Tools\"],[\"Social and Event Planning Tools\"],[\"Social and Event Planning Tools\"],[\"Document Management Automation\"],[\"Document Management Automation\"],[\"Development Tools Automation\"],[\"Development Tools Automation\"],[\"Development Tools Automation\"],[\"Solutions for Industrial Automation\"],[\"Solutions for Industrial Automation\"],[\"Solutions for Industrial Automation\"],[\"Language and Speech Learning\"],[\"Language and Speech Learning\"],[\"Language and Speech Learning\"],[\"Insurance Management Services\"],[\"Insurance Management Services\"],[\"Personal Growth and Development\"],[\"Personal Growth and Development\"],[\"Personal Growth and Development\"],[\"High-Performance Computing Solutions\"],[\"High-Performance Computing Solutions\"],[\"High-Performance Computing Solutions\"]],\"hovertemplate\":\"x=%{x}<br>y=%{y}<br>generated_cluster_label=%{customdata[0]}<br>cluster=%{marker.color}<extra></extra>\",\"legendgroup\":\"\",\"marker\":{\"color\":[61,61,61,61,61,61,61,61,61,61,61,26,26,26,26,26,26,26,26,26,26,26,60,60,60,32,32,32,32,32,32,25,25,25,25,25,25,25,25,25,25,25,25,25,25,25,25,25,25,25,25,25,25,34,34,34,34,34,53,53,53,53,53,53,53,53,53,53,53,3,3,3,3,3,1,1,1,1,1,1,1,1,1,1,1,1,22,22,22,22,22,22,22,22,22,22,22,22,22,22,22,22,22,22,22,22,22,46,46,46,46,46,46,46,46,46,46,46,46,46,46,46,46,46,38,38,38,38,38,38,38,38,38,50,50,50,50,50,50,50,50,50,50,50,50,50,50,50,50,50,50,50,50,56,56,56,56,56,56,56,56,17,17,17,17,17,17,17,17,17,17,47,47,8,8,8,42,42,42,42,42,42,42,42,28,28,28,28,28,23,23,23,23,23,23,23,27,27,27,27,27,27,27,27,27,27,27,27,27,27,27,27,27,27,27,27,27,27,27,27,27,27,27,27,27,27,27,27,27,27,27,27,27,36,36,36,36,36,6,6,6,6,30,30,30,30,30,30,30,30,30,30,30,30,30,30,30,30,30,30,30,30,30,30,30,30,30,30,30,30,54,54,54,54,62,62,62,18,18,18,18,18,18,18,5,5,5,5,5,5,35,35,35,35,35,35,35,35,35,35,35,35,57,57,57,57,57,57,57,57,16,16,16,16,16,16,16,16,16,10,10,10,10,10,10,10,10,10,10,10,10,10,10,10,10,10,2,2,2,2,2,2,2,2,31,31,31,39,39,39,39,39,15,15,15,15,15,15,15,15,15,15,40,40,40,40,45,45,4,4,4,13,13,13,9,9,9,9,9,9,9,9,9,9,9,7,7,7,7,7,7,7,51,51,51,51,51,51,51,59,59,59,59,43,43,43,43,29,29,29,29,52,52,52,52,52,52,52,52,52,49,49,41,41,41,20,20,20,20,20,20,20,24,24,24,24,11,11,11,11,12,12,12,12,37,37,21,21,21,19,19,33,33,33,55,55,55,48,48,48,14,14,44,44,44,0,0,0],\"coloraxis\":\"coloraxis\",\"symbol\":\"circle\",\"size\":10},\"mode\":\"markers\",\"name\":\"\",\"orientation\":\"v\",\"showlegend\":false,\"x\":[-17.246582,-22.577639,-14.846723,-21.39423,-14.560872,-21.596195,-0.6085661,7.965918,-6.6601686,2.5029495,-18.783094,5.453025,16.772793,10.867387,10.001225,24.756763,3.7171378,1.0150203,10.480784,18.20799,15.392288,20.728374,-45.72061,-42.61082,-38.021076,-8.852089,-36.05923,-13.826266,39.185276,-36.513767,-41.62146,28.623798,24.492306,20.13029,16.377918,12.6545925,15.762672,-6.83546,25.588148,-16.583864,20.230795,31.826231,4.0969357,28.70696,3.6947076,0.56744975,-16.551395,20.657524,7.2047763,11.238902,8.147223,-14.330961,-13.28896,-8.068511,-10.502254,-5.79672,-2.7939224,-7.678581,10.049684,-32.056713,4.7596264,10.923986,11.865263,-1.6550021,-2.2353234,3.9121277,1.8500186,11.271172,4.724151,16.931513,9.410604,13.261849,4.100873,15.085004,5.19183,1.300309,4.4567094,-2.8871634,-9.54379,-7.6368484,-0.32458577,-4.50067,-1.626461,-8.09626,8.814768,3.9031856,18.754196,1.8446118,28.400278,21.900425,10.867497,1.730643,2.633434,7.853074,5.2405825,35.500042,35.08293,28.341549,12.252229,37.28977,8.792821,26.880556,20.985603,12.51579,30.141985,14.248441,18.714882,-3.4686399,-11.229006,-9.787068,-13.568376,-4.705306,-9.126707,-13.923618,-3.708757,-20.131245,-39.57304,-6.8678417,3.0911458,19.667831,-16.545654,-7.5459332,-6.9700885,-8.095586,-19.909243,-30.58473,-14.677168,-21.795723,-23.33029,-22.239462,-26.772753,-14.909496,-17.662422,33.558052,8.101478,6.498001,19.42335,38.31899,-3.0919228,23.35178,18.038906,12.932514,18.444092,17.847538,-0.8470455,6.16315,26.290968,28.709286,11.237555,17.293846,12.578967,-31.73962,12.262656,25.113003,21.489058,-31.482235,28.472435,-24.183514,-27.876638,26.66759,-33.75015,-12.502595,-4.9538636,-31.639069,-17.810905,-19.742952,-18.631172,-17.272898,-23.304811,-24.7611,-13.097114,1.4436964,-1.0612551,-12.261194,-11.756814,-8.68822,31.528702,-8.867341,-15.976963,-5.3136334,-17.68283,-11.199497,-0.09467454,-11.263564,19.89078,16.642439,24.530453,22.496262,16.45322,28.05545,17.331766,-0.81867754,14.2121935,22.52688,19.736935,15.002389,30.172903,-32.252846,8.384662,21.034468,16.47523,-32.083458,4.0769053,30.092281,-3.1457593,8.840187,10.400939,9.211332,16.88069,0.041577157,12.160851,9.521186,21.015345,-1.8112332,4.3974795,9.834211,14.609748,9.57927,-0.45753628,18.17289,23.31895,24.954782,6.6807647,21.778051,12.727132,5.874886,-3.3769693,16.495491,12.586459,22.341036,18.441946,-0.43100893,13.555215,-0.08307244,2.172479,3.7314272,7.9401336,6.789544,-8.13374,-2.45236,18.356203,16.918083,20.554695,3.404964,-3.6259818,-15.240963,19.731833,-13.002905,2.0426161,31.83145,1.00008,-4.5326295,-25.665964,-20.384747,8.989742,-5.6605153,23.073399,10.474709,9.596929,-10.495364,-7.7207913,2.1682963,-0.9389637,-27.756311,-1.0316229,19.396095,-5.9573193,-1.8722603,-19.345978,5.3250923,5.068737,-0.5747998,9.92555,3.986984,-7.620679,-3.3674827,-12.565319,-38.924515,-41.20058,-39.855137,-35.149143,-29.986551,-32.354748,-33.462296,12.781089,5.766099,11.108619,6.200723,5.455049,4.914738,23.554665,4.9783792,30.040356,1.561549,19.750225,14.346761,25.919926,-7.791137,-21.355467,-4.8643155,-3.4202285,-1.0353197,-23.481415,-14.958683,-17.637745,-20.697618,-16.237537,-21.759886,-17.998497,-29.81052,-30.735027,-27.814558,-41.287914,-32.772804,-34.899605,-34.285023,-39.477917,-32.544567,-20.489138,-11.634977,-7.4760356,-13.647993,-12.40285,-30.749022,-8.51312,-18.381762,-24.016453,-28.62411,-24.709642,0.3373218,-5.131041,-4.9380817,-22.0517,-14.2720375,-24.392754,-15.685673,25.16047,24.33341,29.582142,35.068817,28.427208,-1.7854366,5.986837,31.965843,22.90198,23.226582,14.2645,-25.154581,-26.639065,-22.659472,-32.3933,-28.268644,-32.763718,-25.91506,-24.98556,-23.741045,-17.722605,-17.351788,-27.552162,-32.693848,-27.743717,-24.775127,22.620066,13.540156,26.3422,20.738514,-14.593982,-16.959568,-16.447695,-1.9734057,-11.363961,-4.3177557,-7.2265983,-7.0083094,-14.717352,-7.627274,-11.918596,-15.652947,-8.282379,-17.557241,-23.171234,-21.013296,-15.325235,-7.1108527,-6.458539,28.40571,37.913322,32.942806,35.727894,30.818396,29.617065,33.209072,9.061066,14.85222,2.666416,17.331057,10.925959,7.6240773,18.340982,-11.277065,-5.740726,-12.127356,-0.19858076,-27.531446,-26.237179,-21.023863,-25.99531,-20.012821,-16.762222,-7.7460694,-23.031904,23.074343,16.786148,30.55048,22.512365,29.69164,22.378881,19.490007,21.84361,24.990997,-18.5325,-25.684793,43.507202,39.701214,42.435238,4.477311,2.958473,7.7494802,2.1681147,1.1519746,9.283833,-2.0664873,11.971715,6.428005,28.238293,6.6850696,-4.688107,-6.499977,1.2956688,-14.899933,-10.231618,-6.6981134,32.335808,-15.196375,-29.560886,-34.186764,7.8785706,-10.698632,-22.00442,-7.188264,0.045205675,23.939743,16.874119,16.937548,7.8260407,36.6897,29.712963,-8.02049,-18.989271,-13.271299,-30.813612,-32.23231,-20.77101,-14.696222,-15.355387,24.042358,35.83632,37.709778],\"xaxis\":\"x\",\"y\":[11.304382,12.846806,4.147271,8.952854,12.812164,5.4195943,13.405261,12.953272,4.8592963,7.60863,18.218155,-15.188867,-2.4664104,-8.308278,-16.521217,-8.097771,-10.658967,-17.403698,2.2475982,1.2527306,-5.3338647,-9.06148,-11.066346,-11.679805,-1.9961796,3.4295,4.257958,-1.4289978,0.44555598,6.1240478,-0.28737506,-18.664738,-33.82494,-17.503624,-13.381293,-30.440228,-20.536133,-14.790814,24.868032,0.040570628,-22.41939,-28.95765,-26.852768,-26.67571,-21.66948,-22.671522,-5.5807996,-25.372143,-31.074203,-24.190935,-17.32353,-8.885024,-11.882066,-9.469079,-0.3405627,-5.9680634,-2.7774231,-0.0121357925,27.10849,15.133184,44.76794,31.64266,22.441095,40.63745,39.457108,36.09583,33.72627,37.977745,40.39411,2.3229036,1.545582,6.404585,-0.38127795,-5.230695,-45.249023,-51.15861,-37.651028,-38.43409,-41.51283,-47.35982,-45.262318,-39.024006,-45.268524,-32.201775,-47.32708,-38.790962,12.738297,9.806189,6.791524,-3.4463727,-3.0824122,1.9979383,6.5854526,0.09451841,1.0165371,6.2940435,14.843699,11.9252615,5.3782387,11.292525,12.13959,13.57932,7.8525867,4.368257,4.290817,-3.2031271,4.8778644,44.06994,33.59527,42.397747,33.046394,49.044846,26.280914,40.04058,42.64027,35.437496,-25.673296,28.14583,24.771107,25.375628,29.877028,30.072886,37.519882,34.11282,-28.181726,-19.50657,-27.764732,-29.507532,-35.75209,-18.939426,-12.738401,-32.593533,-39.019737,3.624566,3.806692,2.8144584,12.850838,-17.323362,-3.567764,13.221661,17.838388,5.694637,16.158566,19.960949,1.1487828,9.539038,6.2758536,15.484644,23.733654,12.976679,14.125199,6.7095165,11.957383,10.27109,17.45137,26.87358,13.930099,27.01765,23.190897,2.782449,26.959633,-33.63293,-30.246344,-12.017316,-32.16761,-19.789896,-39.74153,-30.380856,-7.246015,-16.274973,-36.804054,37.1776,31.884474,2.0737581,1.6078682,7.5700083,-15.005691,-28.257238,-25.374817,-25.430964,-17.375319,-22.271486,-32.704185,-24.843922,37.597878,43.78877,39.487408,43.54074,42.04126,17.059458,10.493801,29.936821,17.358795,10.618842,18.298618,9.514488,-10.425307,-21.190392,-6.3619375,-18.968056,-16.708351,-17.300264,-26.088058,-17.150507,-3.1093247,-23.497355,-11.595321,-21.370422,-32.615566,-9.436349,-40.330414,-13.892737,-27.015043,-28.510094,-13.785525,-9.098608,-20.92521,-25.90182,36.25312,-11.828483,-17.21459,-17.547325,-7.9837527,-34.857994,-21.3557,-17.308264,-2.1703186,-25.27704,-14.143533,-1.856149,-32.174377,-14.191121,-12.9251175,21.505196,15.468333,18.66198,15.073453,21.854872,8.800947,12.838998,-8.79523,-15.324336,25.327858,-4.8976927,21.49331,14.443729,-5.586845,19.502556,-8.364065,1.5303092,20.957195,-8.051043,3.840395,10.940358,31.09558,-23.211868,25.35431,26.404865,-5.0413885,9.954286,16.577623,-13.984356,27.280796,-2.8450546,33.849407,0.3497666,14.0266,-6.9524975,16.53987,20.778732,37.824554,28.59039,33.128906,32.55034,-36.122326,-39.45303,-8.558279,5.281803,9.346507,0.97016644,10.658192,4.2805777,-2.0521603,4.9275417,-30.058254,-31.34046,-21.644033,-26.145996,-18.624313,-25.666922,30.789038,-2.4173386,27.528929,7.342697,32.34163,31.916624,0.5157046,2.1980698,2.7430584,8.776569,12.857923,-7.000042,38.876934,36.712357,35.897057,31.605179,44.039192,36.92352,43.212463,34.87577,-6.109954,-12.862602,-10.6621275,-25.699453,-15.425551,-6.846829,-17.96117,-15.561209,-7.173698,-16.157963,-20.602045,-23.4987,-25.465263,-22.833935,-17.182432,-12.184039,-16.264133,-27.871058,-25.514875,-17.065413,-21.72435,-14.100293,-18.154587,-25.153135,-22.644785,-17.914158,-27.797958,-16.868195,-17.807793,-18.798079,-18.190561,-34.003952,-34.41972,-26.44588,-9.731494,-2.5943308,-31.440905,-27.080647,-33.60093,-34.73883,-26.97237,-24.57206,-1.08849,-0.42182457,-1.6113163,-8.75354,-10.014162,0.9674923,4.8342876,-8.722678,-8.004266,-15.782369,35.124123,40.859966,38.201202,38.853504,-16.361105,-21.380749,25.601059,17.681,19.362225,-11.092319,-9.943491,-10.164606,19.185497,19.801458,26.262629,22.777906,27.220633,33.02301,16.718786,25.741764,15.012616,28.62894,16.34736,6.893585,18.055668,0.3853753,8.615328,21.50189,12.743657,12.6772,0.50054336,4.792766,-1.3597579,19.764803,6.470729,7.6426196,10.992366,-0.597239,-3.9954824,-5.868504,-9.217374,-10.431987,-4.626163,-8.278089,-13.021636,5.584373,6.8310404,7.6951017,7.479418,-6.6660957,-10.449034,-5.3534894,1.5060303,1.2675894,-14.969634,-15.911264,-2.0241935,-11.857984,14.658262,17.40655,-15.01085,-6.945358,-12.581589,20.061874,18.45695,11.828312,13.025591,7.05523,13.479831,24.708826,3.2168818,11.77775,21.382883,10.331935,11.900699,6.7224455,8.003556,10.688623,-13.459517,-19.54431,-6.979829,-22.050133,14.226756,11.596207,-21.147984,25.412981,23.44477,-2.559242,0.534559,-40.392918,-37.312153,13.486692,-7.479527,-6.2948914,-8.338365,18.58615,23.107325,23.119934,-32.569763,-29.055923,15.730164,16.18527,8.645014,-26.786425,-29.363153,-28.649477],\"yaxis\":\"y\",\"type\":\"scatter\"}],                        {\"template\":{\"data\":{\"histogram2dcontour\":[{\"type\":\"histogram2dcontour\",\"colorbar\":{\"outlinewidth\":0,\"ticks\":\"\"},\"colorscale\":[[0.0,\"#0d0887\"],[0.1111111111111111,\"#46039f\"],[0.2222222222222222,\"#7201a8\"],[0.3333333333333333,\"#9c179e\"],[0.4444444444444444,\"#bd3786\"],[0.5555555555555556,\"#d8576b\"],[0.6666666666666666,\"#ed7953\"],[0.7777777777777778,\"#fb9f3a\"],[0.8888888888888888,\"#fdca26\"],[1.0,\"#f0f921\"]]}],\"choropleth\":[{\"type\":\"choropleth\",\"colorbar\":{\"outlinewidth\":0,\"ticks\":\"\"}}],\"histogram2d\":[{\"type\":\"histogram2d\",\"colorbar\":{\"outlinewidth\":0,\"ticks\":\"\"},\"colorscale\":[[0.0,\"#0d0887\"],[0.1111111111111111,\"#46039f\"],[0.2222222222222222,\"#7201a8\"],[0.3333333333333333,\"#9c179e\"],[0.4444444444444444,\"#bd3786\"],[0.5555555555555556,\"#d8576b\"],[0.6666666666666666,\"#ed7953\"],[0.7777777777777778,\"#fb9f3a\"],[0.8888888888888888,\"#fdca26\"],[1.0,\"#f0f921\"]]}],\"heatmap\":[{\"type\":\"heatmap\",\"colorbar\":{\"outlinewidth\":0,\"ticks\":\"\"},\"colorscale\":[[0.0,\"#0d0887\"],[0.1111111111111111,\"#46039f\"],[0.2222222222222222,\"#7201a8\"],[0.3333333333333333,\"#9c179e\"],[0.4444444444444444,\"#bd3786\"],[0.5555555555555556,\"#d8576b\"],[0.6666666666666666,\"#ed7953\"],[0.7777777777777778,\"#fb9f3a\"],[0.8888888888888888,\"#fdca26\"],[1.0,\"#f0f921\"]]}],\"heatmapgl\":[{\"type\":\"heatmapgl\",\"colorbar\":{\"outlinewidth\":0,\"ticks\":\"\"},\"colorscale\":[[0.0,\"#0d0887\"],[0.1111111111111111,\"#46039f\"],[0.2222222222222222,\"#7201a8\"],[0.3333333333333333,\"#9c179e\"],[0.4444444444444444,\"#bd3786\"],[0.5555555555555556,\"#d8576b\"],[0.6666666666666666,\"#ed7953\"],[0.7777777777777778,\"#fb9f3a\"],[0.8888888888888888,\"#fdca26\"],[1.0,\"#f0f921\"]]}],\"contourcarpet\":[{\"type\":\"contourcarpet\",\"colorbar\":{\"outlinewidth\":0,\"ticks\":\"\"}}],\"contour\":[{\"type\":\"contour\",\"colorbar\":{\"outlinewidth\":0,\"ticks\":\"\"},\"colorscale\":[[0.0,\"#0d0887\"],[0.1111111111111111,\"#46039f\"],[0.2222222222222222,\"#7201a8\"],[0.3333333333333333,\"#9c179e\"],[0.4444444444444444,\"#bd3786\"],[0.5555555555555556,\"#d8576b\"],[0.6666666666666666,\"#ed7953\"],[0.7777777777777778,\"#fb9f3a\"],[0.8888888888888888,\"#fdca26\"],[1.0,\"#f0f921\"]]}],\"surface\":[{\"type\":\"surface\",\"colorbar\":{\"outlinewidth\":0,\"ticks\":\"\"},\"colorscale\":[[0.0,\"#0d0887\"],[0.1111111111111111,\"#46039f\"],[0.2222222222222222,\"#7201a8\"],[0.3333333333333333,\"#9c179e\"],[0.4444444444444444,\"#bd3786\"],[0.5555555555555556,\"#d8576b\"],[0.6666666666666666,\"#ed7953\"],[0.7777777777777778,\"#fb9f3a\"],[0.8888888888888888,\"#fdca26\"],[1.0,\"#f0f921\"]]}],\"mesh3d\":[{\"type\":\"mesh3d\",\"colorbar\":{\"outlinewidth\":0,\"ticks\":\"\"}}],\"scatter\":[{\"fillpattern\":{\"fillmode\":\"overlay\",\"size\":10,\"solidity\":0.2},\"type\":\"scatter\"}],\"parcoords\":[{\"type\":\"parcoords\",\"line\":{\"colorbar\":{\"outlinewidth\":0,\"ticks\":\"\"}}}],\"scatterpolargl\":[{\"type\":\"scatterpolargl\",\"marker\":{\"colorbar\":{\"outlinewidth\":0,\"ticks\":\"\"}}}],\"bar\":[{\"error_x\":{\"color\":\"#2a3f5f\"},\"error_y\":{\"color\":\"#2a3f5f\"},\"marker\":{\"line\":{\"color\":\"#E5ECF6\",\"width\":0.5},\"pattern\":{\"fillmode\":\"overlay\",\"size\":10,\"solidity\":0.2}},\"type\":\"bar\"}],\"scattergeo\":[{\"type\":\"scattergeo\",\"marker\":{\"colorbar\":{\"outlinewidth\":0,\"ticks\":\"\"}}}],\"scatterpolar\":[{\"type\":\"scatterpolar\",\"marker\":{\"colorbar\":{\"outlinewidth\":0,\"ticks\":\"\"}}}],\"histogram\":[{\"marker\":{\"pattern\":{\"fillmode\":\"overlay\",\"size\":10,\"solidity\":0.2}},\"type\":\"histogram\"}],\"scattergl\":[{\"type\":\"scattergl\",\"marker\":{\"colorbar\":{\"outlinewidth\":0,\"ticks\":\"\"}}}],\"scatter3d\":[{\"type\":\"scatter3d\",\"line\":{\"colorbar\":{\"outlinewidth\":0,\"ticks\":\"\"}},\"marker\":{\"colorbar\":{\"outlinewidth\":0,\"ticks\":\"\"}}}],\"scattermapbox\":[{\"type\":\"scattermapbox\",\"marker\":{\"colorbar\":{\"outlinewidth\":0,\"ticks\":\"\"}}}],\"scatterternary\":[{\"type\":\"scatterternary\",\"marker\":{\"colorbar\":{\"outlinewidth\":0,\"ticks\":\"\"}}}],\"scattercarpet\":[{\"type\":\"scattercarpet\",\"marker\":{\"colorbar\":{\"outlinewidth\":0,\"ticks\":\"\"}}}],\"carpet\":[{\"aaxis\":{\"endlinecolor\":\"#2a3f5f\",\"gridcolor\":\"white\",\"linecolor\":\"white\",\"minorgridcolor\":\"white\",\"startlinecolor\":\"#2a3f5f\"},\"baxis\":{\"endlinecolor\":\"#2a3f5f\",\"gridcolor\":\"white\",\"linecolor\":\"white\",\"minorgridcolor\":\"white\",\"startlinecolor\":\"#2a3f5f\"},\"type\":\"carpet\"}],\"table\":[{\"cells\":{\"fill\":{\"color\":\"#EBF0F8\"},\"line\":{\"color\":\"white\"}},\"header\":{\"fill\":{\"color\":\"#C8D4E3\"},\"line\":{\"color\":\"white\"}},\"type\":\"table\"}],\"barpolar\":[{\"marker\":{\"line\":{\"color\":\"#E5ECF6\",\"width\":0.5},\"pattern\":{\"fillmode\":\"overlay\",\"size\":10,\"solidity\":0.2}},\"type\":\"barpolar\"}],\"pie\":[{\"automargin\":true,\"type\":\"pie\"}]},\"layout\":{\"autotypenumbers\":\"strict\",\"colorway\":[\"#636efa\",\"#EF553B\",\"#00cc96\",\"#ab63fa\",\"#FFA15A\",\"#19d3f3\",\"#FF6692\",\"#B6E880\",\"#FF97FF\",\"#FECB52\"],\"font\":{\"color\":\"#2a3f5f\"},\"hovermode\":\"closest\",\"hoverlabel\":{\"align\":\"left\"},\"paper_bgcolor\":\"white\",\"plot_bgcolor\":\"#E5ECF6\",\"polar\":{\"bgcolor\":\"#E5ECF6\",\"angularaxis\":{\"gridcolor\":\"white\",\"linecolor\":\"white\",\"ticks\":\"\"},\"radialaxis\":{\"gridcolor\":\"white\",\"linecolor\":\"white\",\"ticks\":\"\"}},\"ternary\":{\"bgcolor\":\"#E5ECF6\",\"aaxis\":{\"gridcolor\":\"white\",\"linecolor\":\"white\",\"ticks\":\"\"},\"baxis\":{\"gridcolor\":\"white\",\"linecolor\":\"white\",\"ticks\":\"\"},\"caxis\":{\"gridcolor\":\"white\",\"linecolor\":\"white\",\"ticks\":\"\"}},\"coloraxis\":{\"colorbar\":{\"outlinewidth\":0,\"ticks\":\"\"}},\"colorscale\":{\"sequential\":[[0.0,\"#0d0887\"],[0.1111111111111111,\"#46039f\"],[0.2222222222222222,\"#7201a8\"],[0.3333333333333333,\"#9c179e\"],[0.4444444444444444,\"#bd3786\"],[0.5555555555555556,\"#d8576b\"],[0.6666666666666666,\"#ed7953\"],[0.7777777777777778,\"#fb9f3a\"],[0.8888888888888888,\"#fdca26\"],[1.0,\"#f0f921\"]],\"sequentialminus\":[[0.0,\"#0d0887\"],[0.1111111111111111,\"#46039f\"],[0.2222222222222222,\"#7201a8\"],[0.3333333333333333,\"#9c179e\"],[0.4444444444444444,\"#bd3786\"],[0.5555555555555556,\"#d8576b\"],[0.6666666666666666,\"#ed7953\"],[0.7777777777777778,\"#fb9f3a\"],[0.8888888888888888,\"#fdca26\"],[1.0,\"#f0f921\"]],\"diverging\":[[0,\"#8e0152\"],[0.1,\"#c51b7d\"],[0.2,\"#de77ae\"],[0.3,\"#f1b6da\"],[0.4,\"#fde0ef\"],[0.5,\"#f7f7f7\"],[0.6,\"#e6f5d0\"],[0.7,\"#b8e186\"],[0.8,\"#7fbc41\"],[0.9,\"#4d9221\"],[1,\"#276419\"]]},\"xaxis\":{\"gridcolor\":\"white\",\"linecolor\":\"white\",\"ticks\":\"\",\"title\":{\"standoff\":15},\"zerolinecolor\":\"white\",\"automargin\":true,\"zerolinewidth\":2},\"yaxis\":{\"gridcolor\":\"white\",\"linecolor\":\"white\",\"ticks\":\"\",\"title\":{\"standoff\":15},\"zerolinecolor\":\"white\",\"automargin\":true,\"zerolinewidth\":2},\"scene\":{\"xaxis\":{\"backgroundcolor\":\"#E5ECF6\",\"gridcolor\":\"white\",\"linecolor\":\"white\",\"showbackground\":true,\"ticks\":\"\",\"zerolinecolor\":\"white\",\"gridwidth\":2},\"yaxis\":{\"backgroundcolor\":\"#E5ECF6\",\"gridcolor\":\"white\",\"linecolor\":\"white\",\"showbackground\":true,\"ticks\":\"\",\"zerolinecolor\":\"white\",\"gridwidth\":2},\"zaxis\":{\"backgroundcolor\":\"#E5ECF6\",\"gridcolor\":\"white\",\"linecolor\":\"white\",\"showbackground\":true,\"ticks\":\"\",\"zerolinecolor\":\"white\",\"gridwidth\":2}},\"shapedefaults\":{\"line\":{\"color\":\"#2a3f5f\"}},\"annotationdefaults\":{\"arrowcolor\":\"#2a3f5f\",\"arrowhead\":0,\"arrowwidth\":1},\"geo\":{\"bgcolor\":\"white\",\"landcolor\":\"#E5ECF6\",\"subunitcolor\":\"white\",\"showland\":true,\"showlakes\":true,\"lakecolor\":\"white\"},\"title\":{\"x\":0.05},\"mapbox\":{\"style\":\"light\"}}},\"xaxis\":{\"anchor\":\"y\",\"domain\":[0.0,1.0],\"title\":{\"text\":\"x\"}},\"yaxis\":{\"anchor\":\"x\",\"domain\":[0.0,1.0],\"title\":{\"text\":\"y\"}},\"coloraxis\":{\"colorbar\":{\"title\":{\"text\":\"cluster\"}},\"colorscale\":[[0.0,\"rgb(0, 147, 146)\"],[0.16666666666666666,\"rgb(114, 170, 161)\"],[0.3333333333333333,\"rgb(177, 199, 179)\"],[0.5,\"rgb(241, 234, 200)\"],[0.6666666666666666,\"rgb(229, 185, 173)\"],[0.8333333333333334,\"rgb(217, 137, 148)\"],[1.0,\"rgb(208, 88, 126)\"]]},\"legend\":{\"tracegroupgap\":0},\"margin\":{\"t\":60},\"title\":{\"text\":\"2D Visualization of Embeddings with Clusters and 468 startups\"},\"hovermode\":\"closest\",\"width\":1000,\"height\":600},                        {\"responsive\": true}                    ).then(function(){\n",
       "                            \n",
       "var gd = document.getElementById('4f456118-82cc-4cd3-a04b-17f147b64dfb');\n",
       "var x = new MutationObserver(function (mutations, observer) {{\n",
       "        var display = window.getComputedStyle(gd).display;\n",
       "        if (!display || display === 'none') {{\n",
       "            console.log([gd, 'removed!']);\n",
       "            Plotly.purge(gd);\n",
       "            observer.disconnect();\n",
       "        }}\n",
       "}});\n",
       "\n",
       "// Listen for the removal of the full notebook cells\n",
       "var notebookContainer = gd.closest('#notebook-container');\n",
       "if (notebookContainer) {{\n",
       "    x.observe(notebookContainer, {childList: true});\n",
       "}}\n",
       "\n",
       "// Listen for the clearing of the current output cell\n",
       "var outputEl = gd.closest('.output');\n",
       "if (outputEl) {{\n",
       "    x.observe(outputEl, {childList: true});\n",
       "}}\n",
       "\n",
       "                        })                };                });            </script>        </div>"
      ]
     },
     "metadata": {},
     "output_type": "display_data"
    },
    {
     "data": {
      "application/vnd.plotly.v1+json": {
       "config": {
        "plotlyServerURL": "https://plot.ly"
       },
       "data": [
        {
         "customdata": [
          [
           "Music and Audio Production Tools"
          ],
          [
           "Music and Audio Production Tools"
          ],
          [
           "Music and Audio Production Tools"
          ],
          [
           "Music and Audio Production Tools"
          ],
          [
           "Music and Audio Production Tools"
          ],
          [
           "Music and Audio Production Tools"
          ],
          [
           "Music and Audio Production Tools"
          ],
          [
           "Music and Audio Production Tools"
          ],
          [
           "Music and Audio Production Tools"
          ],
          [
           "Music and Audio Production Tools"
          ],
          [
           "Music and Audio Production Tools"
          ],
          [
           "AI Toolset for Developers"
          ],
          [
           "AI Toolset for Developers"
          ],
          [
           "AI Toolset for Developers"
          ],
          [
           "AI Toolset for Developers"
          ],
          [
           "AI Toolset for Developers"
          ],
          [
           "AI Toolset for Developers"
          ],
          [
           "AI Toolset for Developers"
          ],
          [
           "AI Toolset for Developers"
          ],
          [
           "AI Toolset for Developers"
          ],
          [
           "AI Toolset for Developers"
          ],
          [
           "AI Toolset for Developers"
          ],
          [
           "Construction and Workflow Automation"
          ],
          [
           "Construction and Workflow Automation"
          ],
          [
           "Construction and Workflow Automation"
          ],
          [
           "Web Development and AI tools"
          ],
          [
           "Web Development and AI tools"
          ],
          [
           "Web Development and AI tools"
          ],
          [
           "Web Development and AI tools"
          ],
          [
           "Web Development and AI tools"
          ],
          [
           "Web Development and AI tools"
          ],
          [
           "AI Research and Development"
          ],
          [
           "AI Research and Development"
          ],
          [
           "AI Research and Development"
          ],
          [
           "AI Research and Development"
          ],
          [
           "AI Research and Development"
          ],
          [
           "AI Research and Development"
          ],
          [
           "AI Research and Development"
          ],
          [
           "AI Research and Development"
          ],
          [
           "AI Research and Development"
          ],
          [
           "AI Research and Development"
          ],
          [
           "AI Research and Development"
          ],
          [
           "AI Research and Development"
          ],
          [
           "AI Research and Development"
          ],
          [
           "AI Research and Development"
          ],
          [
           "AI Research and Development"
          ],
          [
           "AI Research and Development"
          ],
          [
           "AI Research and Development"
          ],
          [
           "AI Research and Development"
          ],
          [
           "AI Research and Development"
          ],
          [
           "AI Research and Development"
          ],
          [
           "AI Research and Development"
          ],
          [
           "AI Research and Development"
          ],
          [
           "Tech and Blockchain News"
          ],
          [
           "Tech and Blockchain News"
          ],
          [
           "Tech and Blockchain News"
          ],
          [
           "Tech and Blockchain News"
          ],
          [
           "Tech and Blockchain News"
          ],
          [
           "HR and Recruitment Automation"
          ],
          [
           "HR and Recruitment Automation"
          ],
          [
           "HR and Recruitment Automation"
          ],
          [
           "HR and Recruitment Automation"
          ],
          [
           "HR and Recruitment Automation"
          ],
          [
           "HR and Recruitment Automation"
          ],
          [
           "HR and Recruitment Automation"
          ],
          [
           "HR and Recruitment Automation"
          ],
          [
           "HR and Recruitment Automation"
          ],
          [
           "HR and Recruitment Automation"
          ],
          [
           "HR and Recruitment Automation"
          ],
          [
           "Retail Supply Chain Management"
          ],
          [
           "Retail Supply Chain Management"
          ],
          [
           "Retail Supply Chain Management"
          ],
          [
           "Retail Supply Chain Management"
          ],
          [
           "Retail Supply Chain Management"
          ],
          [
           "Advanced Cybersecurity Solutions"
          ],
          [
           "Advanced Cybersecurity Solutions"
          ],
          [
           "Advanced Cybersecurity Solutions"
          ],
          [
           "Advanced Cybersecurity Solutions"
          ],
          [
           "Advanced Cybersecurity Solutions"
          ],
          [
           "Advanced Cybersecurity Solutions"
          ],
          [
           "Advanced Cybersecurity Solutions"
          ],
          [
           "Advanced Cybersecurity Solutions"
          ],
          [
           "Advanced Cybersecurity Solutions"
          ],
          [
           "Advanced Cybersecurity Solutions"
          ],
          [
           "Advanced Cybersecurity Solutions"
          ],
          [
           "Advanced Cybersecurity Solutions"
          ],
          [
           "Mobile and Software Development Technologies"
          ],
          [
           "Mobile and Software Development Technologies"
          ],
          [
           "Mobile and Software Development Technologies"
          ],
          [
           "Mobile and Software Development Technologies"
          ],
          [
           "Mobile and Software Development Technologies"
          ],
          [
           "Mobile and Software Development Technologies"
          ],
          [
           "Mobile and Software Development Technologies"
          ],
          [
           "Mobile and Software Development Technologies"
          ],
          [
           "Mobile and Software Development Technologies"
          ],
          [
           "Mobile and Software Development Technologies"
          ],
          [
           "Mobile and Software Development Technologies"
          ],
          [
           "Mobile and Software Development Technologies"
          ],
          [
           "Mobile and Software Development Technologies"
          ],
          [
           "Mobile and Software Development Technologies"
          ],
          [
           "Mobile and Software Development Technologies"
          ],
          [
           "Mobile and Software Development Technologies"
          ],
          [
           "Mobile and Software Development Technologies"
          ],
          [
           "Mobile and Software Development Technologies"
          ],
          [
           "Mobile and Software Development Technologies"
          ],
          [
           "Mobile and Software Development Technologies"
          ],
          [
           "Mobile and Software Development Technologies"
          ],
          [
           "Educational Technologies and Learning Platforms"
          ],
          [
           "Educational Technologies and Learning Platforms"
          ],
          [
           "Educational Technologies and Learning Platforms"
          ],
          [
           "Educational Technologies and Learning Platforms"
          ],
          [
           "Educational Technologies and Learning Platforms"
          ],
          [
           "Educational Technologies and Learning Platforms"
          ],
          [
           "Educational Technologies and Learning Platforms"
          ],
          [
           "Educational Technologies and Learning Platforms"
          ],
          [
           "Educational Technologies and Learning Platforms"
          ],
          [
           "Educational Technologies and Learning Platforms"
          ],
          [
           "Educational Technologies and Learning Platforms"
          ],
          [
           "Educational Technologies and Learning Platforms"
          ],
          [
           "Educational Technologies and Learning Platforms"
          ],
          [
           "Educational Technologies and Learning Platforms"
          ],
          [
           "Educational Technologies and Learning Platforms"
          ],
          [
           "Educational Technologies and Learning Platforms"
          ],
          [
           "Educational Technologies and Learning Platforms"
          ],
          [
           "Healthcare Data Management Systems"
          ],
          [
           "Healthcare Data Management Systems"
          ],
          [
           "Healthcare Data Management Systems"
          ],
          [
           "Healthcare Data Management Systems"
          ],
          [
           "Healthcare Data Management Systems"
          ],
          [
           "Healthcare Data Management Systems"
          ],
          [
           "Healthcare Data Management Systems"
          ],
          [
           "Healthcare Data Management Systems"
          ],
          [
           "Healthcare Data Management Systems"
          ],
          [
           "Creative Business Tools"
          ],
          [
           "Creative Business Tools"
          ],
          [
           "Creative Business Tools"
          ],
          [
           "Creative Business Tools"
          ],
          [
           "Creative Business Tools"
          ],
          [
           "Creative Business Tools"
          ],
          [
           "Creative Business Tools"
          ],
          [
           "Creative Business Tools"
          ],
          [
           "Creative Business Tools"
          ],
          [
           "Creative Business Tools"
          ],
          [
           "Creative Business Tools"
          ],
          [
           "Creative Business Tools"
          ],
          [
           "Creative Business Tools"
          ],
          [
           "Creative Business Tools"
          ],
          [
           "Creative Business Tools"
          ],
          [
           "Creative Business Tools"
          ],
          [
           "Creative Business Tools"
          ],
          [
           "Creative Business Tools"
          ],
          [
           "Creative Business Tools"
          ],
          [
           "Creative Business Tools"
          ],
          [
           "Restaurant and Hospitality Services"
          ],
          [
           "Restaurant and Hospitality Services"
          ],
          [
           "Restaurant and Hospitality Services"
          ],
          [
           "Restaurant and Hospitality Services"
          ],
          [
           "Restaurant and Hospitality Services"
          ],
          [
           "Restaurant and Hospitality Services"
          ],
          [
           "Restaurant and Hospitality Services"
          ],
          [
           "Restaurant and Hospitality Services"
          ],
          [
           "Regulatory Compliance and Risk Management"
          ],
          [
           "Regulatory Compliance and Risk Management"
          ],
          [
           "Regulatory Compliance and Risk Management"
          ],
          [
           "Regulatory Compliance and Risk Management"
          ],
          [
           "Regulatory Compliance and Risk Management"
          ],
          [
           "Regulatory Compliance and Risk Management"
          ],
          [
           "Regulatory Compliance and Risk Management"
          ],
          [
           "Regulatory Compliance and Risk Management"
          ],
          [
           "Regulatory Compliance and Risk Management"
          ],
          [
           "Regulatory Compliance and Risk Management"
          ],
          [
           "Gamification in Education"
          ],
          [
           "Gamification in Education"
          ],
          [
           "Marketing Data Analytics"
          ],
          [
           "Marketing Data Analytics"
          ],
          [
           "Marketing Data Analytics"
          ],
          [
           "Personalized Wellness Programs"
          ],
          [
           "Personalized Wellness Programs"
          ],
          [
           "Personalized Wellness Programs"
          ],
          [
           "Personalized Wellness Programs"
          ],
          [
           "Personalized Wellness Programs"
          ],
          [
           "Personalized Wellness Programs"
          ],
          [
           "Personalized Wellness Programs"
          ],
          [
           "Personalized Wellness Programs"
          ],
          [
           "AI-Driven Business Strategies"
          ],
          [
           "AI-Driven Business Strategies"
          ],
          [
           "AI-Driven Business Strategies"
          ],
          [
           "AI-Driven Business Strategies"
          ],
          [
           "AI-Driven Business Strategies"
          ],
          [
           "E-commerce and Retail Strategies"
          ],
          [
           "E-commerce and Retail Strategies"
          ],
          [
           "E-commerce and Retail Strategies"
          ],
          [
           "E-commerce and Retail Strategies"
          ],
          [
           "E-commerce and Retail Strategies"
          ],
          [
           "E-commerce and Retail Strategies"
          ],
          [
           "E-commerce and Retail Strategies"
          ],
          [
           "AI Systems Development"
          ],
          [
           "AI Systems Development"
          ],
          [
           "AI Systems Development"
          ],
          [
           "AI Systems Development"
          ],
          [
           "AI Systems Development"
          ],
          [
           "AI Systems Development"
          ],
          [
           "AI Systems Development"
          ],
          [
           "AI Systems Development"
          ],
          [
           "AI Systems Development"
          ],
          [
           "AI Systems Development"
          ],
          [
           "AI Systems Development"
          ],
          [
           "AI Systems Development"
          ],
          [
           "AI Systems Development"
          ],
          [
           "AI Systems Development"
          ],
          [
           "AI Systems Development"
          ],
          [
           "AI Systems Development"
          ],
          [
           "AI Systems Development"
          ],
          [
           "AI Systems Development"
          ],
          [
           "AI Systems Development"
          ],
          [
           "AI Systems Development"
          ],
          [
           "AI Systems Development"
          ],
          [
           "AI Systems Development"
          ],
          [
           "AI Systems Development"
          ],
          [
           "AI Systems Development"
          ],
          [
           "AI Systems Development"
          ],
          [
           "AI Systems Development"
          ],
          [
           "AI Systems Development"
          ],
          [
           "AI Systems Development"
          ],
          [
           "AI Systems Development"
          ],
          [
           "AI Systems Development"
          ],
          [
           "AI Systems Development"
          ],
          [
           "AI Systems Development"
          ],
          [
           "AI Systems Development"
          ],
          [
           "AI Systems Development"
          ],
          [
           "AI Systems Development"
          ],
          [
           "AI Systems Development"
          ],
          [
           "AI Systems Development"
          ],
          [
           "Social Media and Marketing Strategies"
          ],
          [
           "Social Media and Marketing Strategies"
          ],
          [
           "Social Media and Marketing Strategies"
          ],
          [
           "Social Media and Marketing Strategies"
          ],
          [
           "Social Media and Marketing Strategies"
          ],
          [
           "Customer Data Analysis"
          ],
          [
           "Customer Data Analysis"
          ],
          [
           "Customer Data Analysis"
          ],
          [
           "Customer Data Analysis"
          ],
          [
           "Automated Business Systems"
          ],
          [
           "Automated Business Systems"
          ],
          [
           "Automated Business Systems"
          ],
          [
           "Automated Business Systems"
          ],
          [
           "Automated Business Systems"
          ],
          [
           "Automated Business Systems"
          ],
          [
           "Automated Business Systems"
          ],
          [
           "Automated Business Systems"
          ],
          [
           "Automated Business Systems"
          ],
          [
           "Automated Business Systems"
          ],
          [
           "Automated Business Systems"
          ],
          [
           "Automated Business Systems"
          ],
          [
           "Automated Business Systems"
          ],
          [
           "Automated Business Systems"
          ],
          [
           "Automated Business Systems"
          ],
          [
           "Automated Business Systems"
          ],
          [
           "Automated Business Systems"
          ],
          [
           "Automated Business Systems"
          ],
          [
           "Automated Business Systems"
          ],
          [
           "Automated Business Systems"
          ],
          [
           "Automated Business Systems"
          ],
          [
           "Automated Business Systems"
          ],
          [
           "Automated Business Systems"
          ],
          [
           "Automated Business Systems"
          ],
          [
           "Automated Business Systems"
          ],
          [
           "Automated Business Systems"
          ],
          [
           "Automated Business Systems"
          ],
          [
           "Automated Business Systems"
          ],
          [
           "Career Development Tools"
          ],
          [
           "Career Development Tools"
          ],
          [
           "Career Development Tools"
          ],
          [
           "Career Development Tools"
          ],
          [
           "Veterinary and Pet Care Technologies"
          ],
          [
           "Veterinary and Pet Care Technologies"
          ],
          [
           "Veterinary and Pet Care Technologies"
          ],
          [
           "Legal and Technological Automation"
          ],
          [
           "Legal and Technological Automation"
          ],
          [
           "Legal and Technological Automation"
          ],
          [
           "Legal and Technological Automation"
          ],
          [
           "Legal and Technological Automation"
          ],
          [
           "Legal and Technological Automation"
          ],
          [
           "Legal and Technological Automation"
          ],
          [
           "Data Insights and Analytics"
          ],
          [
           "Data Insights and Analytics"
          ],
          [
           "Data Insights and Analytics"
          ],
          [
           "Data Insights and Analytics"
          ],
          [
           "Data Insights and Analytics"
          ],
          [
           "Data Insights and Analytics"
          ],
          [
           "Social Media and Digital Insights"
          ],
          [
           "Social Media and Digital Insights"
          ],
          [
           "Social Media and Digital Insights"
          ],
          [
           "Social Media and Digital Insights"
          ],
          [
           "Social Media and Digital Insights"
          ],
          [
           "Social Media and Digital Insights"
          ],
          [
           "Social Media and Digital Insights"
          ],
          [
           "Social Media and Digital Insights"
          ],
          [
           "Social Media and Digital Insights"
          ],
          [
           "Social Media and Digital Insights"
          ],
          [
           "Social Media and Digital Insights"
          ],
          [
           "Social Media and Digital Insights"
          ],
          [
           "Travel Booking and Planning Systems"
          ],
          [
           "Travel Booking and Planning Systems"
          ],
          [
           "Travel Booking and Planning Systems"
          ],
          [
           "Travel Booking and Planning Systems"
          ],
          [
           "Travel Booking and Planning Systems"
          ],
          [
           "Travel Booking and Planning Systems"
          ],
          [
           "Travel Booking and Planning Systems"
          ],
          [
           "Travel Booking and Planning Systems"
          ],
          [
           "Real Estate Investment Analysis"
          ],
          [
           "Real Estate Investment Analysis"
          ],
          [
           "Real Estate Investment Analysis"
          ],
          [
           "Real Estate Investment Analysis"
          ],
          [
           "Real Estate Investment Analysis"
          ],
          [
           "Real Estate Investment Analysis"
          ],
          [
           "Real Estate Investment Analysis"
          ],
          [
           "Real Estate Investment Analysis"
          ],
          [
           "Real Estate Investment Analysis"
          ],
          [
           "Financial Management Systems"
          ],
          [
           "Financial Management Systems"
          ],
          [
           "Financial Management Systems"
          ],
          [
           "Financial Management Systems"
          ],
          [
           "Financial Management Systems"
          ],
          [
           "Financial Management Systems"
          ],
          [
           "Financial Management Systems"
          ],
          [
           "Financial Management Systems"
          ],
          [
           "Financial Management Systems"
          ],
          [
           "Financial Management Systems"
          ],
          [
           "Financial Management Systems"
          ],
          [
           "Financial Management Systems"
          ],
          [
           "Financial Management Systems"
          ],
          [
           "Financial Management Systems"
          ],
          [
           "Financial Management Systems"
          ],
          [
           "Financial Management Systems"
          ],
          [
           "Financial Management Systems"
          ],
          [
           "Data Management and Quality Control"
          ],
          [
           "Data Management and Quality Control"
          ],
          [
           "Data Management and Quality Control"
          ],
          [
           "Data Management and Quality Control"
          ],
          [
           "Data Management and Quality Control"
          ],
          [
           "Data Management and Quality Control"
          ],
          [
           "Data Management and Quality Control"
          ],
          [
           "Data Management and Quality Control"
          ],
          [
           "No-Code AI Platforms"
          ],
          [
           "No-Code AI Platforms"
          ],
          [
           "No-Code AI Platforms"
          ],
          [
           "Healthcare Workflow Optimization"
          ],
          [
           "Healthcare Workflow Optimization"
          ],
          [
           "Healthcare Workflow Optimization"
          ],
          [
           "Healthcare Workflow Optimization"
          ],
          [
           "Healthcare Workflow Optimization"
          ],
          [
           "Venture Capital and Financing"
          ],
          [
           "Venture Capital and Financing"
          ],
          [
           "Venture Capital and Financing"
          ],
          [
           "Venture Capital and Financing"
          ],
          [
           "Venture Capital and Financing"
          ],
          [
           "Venture Capital and Financing"
          ],
          [
           "Venture Capital and Financing"
          ],
          [
           "Venture Capital and Financing"
          ],
          [
           "Venture Capital and Financing"
          ],
          [
           "Venture Capital and Financing"
          ],
          [
           "Sustainability and Non-Profit Solutions"
          ],
          [
           "Sustainability and Non-Profit Solutions"
          ],
          [
           "Sustainability and Non-Profit Solutions"
          ],
          [
           "Sustainability and Non-Profit Solutions"
          ],
          [
           "Wellness and Sleep Health"
          ],
          [
           "Wellness and Sleep Health"
          ],
          [
           "Industrial Sales Automation"
          ],
          [
           "Industrial Sales Automation"
          ],
          [
           "Industrial Sales Automation"
          ],
          [
           "Tax and Accounting Automation"
          ],
          [
           "Tax and Accounting Automation"
          ],
          [
           "Tax and Accounting Automation"
          ],
          [
           "Sales and Marketing Outreach"
          ],
          [
           "Sales and Marketing Outreach"
          ],
          [
           "Sales and Marketing Outreach"
          ],
          [
           "Sales and Marketing Outreach"
          ],
          [
           "Sales and Marketing Outreach"
          ],
          [
           "Sales and Marketing Outreach"
          ],
          [
           "Sales and Marketing Outreach"
          ],
          [
           "Sales and Marketing Outreach"
          ],
          [
           "Sales and Marketing Outreach"
          ],
          [
           "Sales and Marketing Outreach"
          ],
          [
           "Sales and Marketing Outreach"
          ],
          [
           "Image Enhancement Solutions"
          ],
          [
           "Image Enhancement Solutions"
          ],
          [
           "Image Enhancement Solutions"
          ],
          [
           "Image Enhancement Solutions"
          ],
          [
           "Image Enhancement Solutions"
          ],
          [
           "Image Enhancement Solutions"
          ],
          [
           "Image Enhancement Solutions"
          ],
          [
           "Creative Content and Media Tools"
          ],
          [
           "Creative Content and Media Tools"
          ],
          [
           "Creative Content and Media Tools"
          ],
          [
           "Creative Content and Media Tools"
          ],
          [
           "Creative Content and Media Tools"
          ],
          [
           "Creative Content and Media Tools"
          ],
          [
           "Creative Content and Media Tools"
          ],
          [
           "Home and Interior Design"
          ],
          [
           "Home and Interior Design"
          ],
          [
           "Home and Interior Design"
          ],
          [
           "Home and Interior Design"
          ],
          [
           "Mental Health and Therapy"
          ],
          [
           "Mental Health and Therapy"
          ],
          [
           "Mental Health and Therapy"
          ],
          [
           "Mental Health and Therapy"
          ],
          [
           "Market and Business Strategy"
          ],
          [
           "Market and Business Strategy"
          ],
          [
           "Market and Business Strategy"
          ],
          [
           "Market and Business Strategy"
          ],
          [
           "Animation and Visual Effects Tools"
          ],
          [
           "Animation and Visual Effects Tools"
          ],
          [
           "Animation and Visual Effects Tools"
          ],
          [
           "Animation and Visual Effects Tools"
          ],
          [
           "Animation and Visual Effects Tools"
          ],
          [
           "Animation and Visual Effects Tools"
          ],
          [
           "Animation and Visual Effects Tools"
          ],
          [
           "Animation and Visual Effects Tools"
          ],
          [
           "Animation and Visual Effects Tools"
          ],
          [
           "Technical Writing and Proposals"
          ],
          [
           "Technical Writing and Proposals"
          ],
          [
           "Biotechnological Research"
          ],
          [
           "Biotechnological Research"
          ],
          [
           "Biotechnological Research"
          ],
          [
           "Project and Team Management"
          ],
          [
           "Project and Team Management"
          ],
          [
           "Project and Team Management"
          ],
          [
           "Project and Team Management"
          ],
          [
           "Project and Team Management"
          ],
          [
           "Project and Team Management"
          ],
          [
           "Project and Team Management"
          ],
          [
           "E-commerce Management"
          ],
          [
           "E-commerce Management"
          ],
          [
           "E-commerce Management"
          ],
          [
           "E-commerce Management"
          ],
          [
           "Industrial Sourcing Solutions"
          ],
          [
           "Industrial Sourcing Solutions"
          ],
          [
           "Industrial Sourcing Solutions"
          ],
          [
           "Industrial Sourcing Solutions"
          ],
          [
           "Decentralized Tech and Identity"
          ],
          [
           "Decentralized Tech and Identity"
          ],
          [
           "Decentralized Tech and Identity"
          ],
          [
           "Decentralized Tech and Identity"
          ],
          [
           "Client Management in Legal Services"
          ],
          [
           "Client Management in Legal Services"
          ],
          [
           "Social and Event Planning Tools"
          ],
          [
           "Social and Event Planning Tools"
          ],
          [
           "Social and Event Planning Tools"
          ],
          [
           "Document Management Automation"
          ],
          [
           "Document Management Automation"
          ],
          [
           "Development Tools Automation"
          ],
          [
           "Development Tools Automation"
          ],
          [
           "Development Tools Automation"
          ],
          [
           "Solutions for Industrial Automation"
          ],
          [
           "Solutions for Industrial Automation"
          ],
          [
           "Solutions for Industrial Automation"
          ],
          [
           "Language and Speech Learning"
          ],
          [
           "Language and Speech Learning"
          ],
          [
           "Language and Speech Learning"
          ],
          [
           "Insurance Management Services"
          ],
          [
           "Insurance Management Services"
          ],
          [
           "Personal Growth and Development"
          ],
          [
           "Personal Growth and Development"
          ],
          [
           "Personal Growth and Development"
          ],
          [
           "High-Performance Computing Solutions"
          ],
          [
           "High-Performance Computing Solutions"
          ],
          [
           "High-Performance Computing Solutions"
          ]
         ],
         "hovertemplate": "x=%{x}<br>y=%{y}<br>generated_cluster_label=%{customdata[0]}<br>cluster=%{marker.color}<extra></extra>",
         "legendgroup": "",
         "marker": {
          "color": [
           61,
           61,
           61,
           61,
           61,
           61,
           61,
           61,
           61,
           61,
           61,
           26,
           26,
           26,
           26,
           26,
           26,
           26,
           26,
           26,
           26,
           26,
           60,
           60,
           60,
           32,
           32,
           32,
           32,
           32,
           32,
           25,
           25,
           25,
           25,
           25,
           25,
           25,
           25,
           25,
           25,
           25,
           25,
           25,
           25,
           25,
           25,
           25,
           25,
           25,
           25,
           25,
           25,
           34,
           34,
           34,
           34,
           34,
           53,
           53,
           53,
           53,
           53,
           53,
           53,
           53,
           53,
           53,
           53,
           3,
           3,
           3,
           3,
           3,
           1,
           1,
           1,
           1,
           1,
           1,
           1,
           1,
           1,
           1,
           1,
           1,
           22,
           22,
           22,
           22,
           22,
           22,
           22,
           22,
           22,
           22,
           22,
           22,
           22,
           22,
           22,
           22,
           22,
           22,
           22,
           22,
           22,
           46,
           46,
           46,
           46,
           46,
           46,
           46,
           46,
           46,
           46,
           46,
           46,
           46,
           46,
           46,
           46,
           46,
           38,
           38,
           38,
           38,
           38,
           38,
           38,
           38,
           38,
           50,
           50,
           50,
           50,
           50,
           50,
           50,
           50,
           50,
           50,
           50,
           50,
           50,
           50,
           50,
           50,
           50,
           50,
           50,
           50,
           56,
           56,
           56,
           56,
           56,
           56,
           56,
           56,
           17,
           17,
           17,
           17,
           17,
           17,
           17,
           17,
           17,
           17,
           47,
           47,
           8,
           8,
           8,
           42,
           42,
           42,
           42,
           42,
           42,
           42,
           42,
           28,
           28,
           28,
           28,
           28,
           23,
           23,
           23,
           23,
           23,
           23,
           23,
           27,
           27,
           27,
           27,
           27,
           27,
           27,
           27,
           27,
           27,
           27,
           27,
           27,
           27,
           27,
           27,
           27,
           27,
           27,
           27,
           27,
           27,
           27,
           27,
           27,
           27,
           27,
           27,
           27,
           27,
           27,
           27,
           27,
           27,
           27,
           27,
           27,
           36,
           36,
           36,
           36,
           36,
           6,
           6,
           6,
           6,
           30,
           30,
           30,
           30,
           30,
           30,
           30,
           30,
           30,
           30,
           30,
           30,
           30,
           30,
           30,
           30,
           30,
           30,
           30,
           30,
           30,
           30,
           30,
           30,
           30,
           30,
           30,
           30,
           54,
           54,
           54,
           54,
           62,
           62,
           62,
           18,
           18,
           18,
           18,
           18,
           18,
           18,
           5,
           5,
           5,
           5,
           5,
           5,
           35,
           35,
           35,
           35,
           35,
           35,
           35,
           35,
           35,
           35,
           35,
           35,
           57,
           57,
           57,
           57,
           57,
           57,
           57,
           57,
           16,
           16,
           16,
           16,
           16,
           16,
           16,
           16,
           16,
           10,
           10,
           10,
           10,
           10,
           10,
           10,
           10,
           10,
           10,
           10,
           10,
           10,
           10,
           10,
           10,
           10,
           2,
           2,
           2,
           2,
           2,
           2,
           2,
           2,
           31,
           31,
           31,
           39,
           39,
           39,
           39,
           39,
           15,
           15,
           15,
           15,
           15,
           15,
           15,
           15,
           15,
           15,
           40,
           40,
           40,
           40,
           45,
           45,
           4,
           4,
           4,
           13,
           13,
           13,
           9,
           9,
           9,
           9,
           9,
           9,
           9,
           9,
           9,
           9,
           9,
           7,
           7,
           7,
           7,
           7,
           7,
           7,
           51,
           51,
           51,
           51,
           51,
           51,
           51,
           59,
           59,
           59,
           59,
           43,
           43,
           43,
           43,
           29,
           29,
           29,
           29,
           52,
           52,
           52,
           52,
           52,
           52,
           52,
           52,
           52,
           49,
           49,
           41,
           41,
           41,
           20,
           20,
           20,
           20,
           20,
           20,
           20,
           24,
           24,
           24,
           24,
           11,
           11,
           11,
           11,
           12,
           12,
           12,
           12,
           37,
           37,
           21,
           21,
           21,
           19,
           19,
           33,
           33,
           33,
           55,
           55,
           55,
           48,
           48,
           48,
           14,
           14,
           44,
           44,
           44,
           0,
           0,
           0
          ],
          "coloraxis": "coloraxis",
          "size": 10,
          "symbol": "circle"
         },
         "mode": "markers",
         "name": "",
         "orientation": "v",
         "showlegend": false,
         "type": "scatter",
         "x": [
          29.3108,
          32.7656,
          36.283844,
          40.305325,
          38.634174,
          33.207363,
          36.468216,
          32.771862,
          35.929413,
          32.758083,
          38.028675,
          29.48219,
          5.8890743,
          25.04349,
          19.470633,
          15.775681,
          23.030712,
          20.91264,
          9.2518215,
          12.716685,
          14.506677,
          8.868575,
          6.6191416,
          1.1346492,
          4.4173098,
          0.56919,
          31.97322,
          -2.2847462,
          4.299385,
          23.098316,
          17.963991,
          14.427021,
          0.4836759,
          13.474791,
          2.7401197,
          17.860369,
          6.3065004,
          11.936035,
          -10.940445,
          8.776724,
          20.206028,
          16.6619,
          16.09536,
          5.814251,
          7.948504,
          -17.933125,
          15.561941,
          2.363412,
          11.426624,
          13.205989,
          1.7080535,
          6.4418015,
          14.146708,
          25.97038,
          27.013672,
          18.857325,
          25.984182,
          20.815317,
          -9.892617,
          15.62196,
          -7.746367,
          1.0641385,
          -3.0031695,
          -13.0574045,
          -4.50705,
          -8.835261,
          -2.5742006,
          -6.0895486,
          -1.4888626,
          -34.771698,
          -37.170406,
          -42.077866,
          -45.67133,
          -41.59874,
          -3.594943,
          -5.316316,
          -8.117537,
          -4.667055,
          -0.8797289,
          -6.539847,
          -10.883546,
          -12.626665,
          -0.955748,
          -4.8375835,
          -11.024157,
          2.1041012,
          -13.115412,
          6.867701,
          -2.275083,
          -11.076298,
          -12.4428215,
          5.8442163,
          0.29545772,
          0.3995703,
          -7.9874144,
          1.1930442,
          0.41650218,
          5.887965,
          0.8338908,
          -4.2327704,
          2.116811,
          -4.6450057,
          1.6669543,
          -8.597416,
          -10.0457115,
          -4.219278,
          -8.430157,
          25.147617,
          29.402088,
          28.767658,
          22.487724,
          5.953413,
          13.364331,
          19.188839,
          8.873487,
          28.157187,
          14.691897,
          36.856552,
          37.335793,
          -10.392645,
          14.605231,
          22.4814,
          21.795517,
          13.428395,
          15.8114,
          9.817062,
          9.692473,
          27.390331,
          22.854307,
          10.930303,
          11.197022,
          20.505663,
          14.645175,
          28.752443,
          45.182915,
          -18.105137,
          38.975857,
          9.37515,
          -35.221252,
          25.985905,
          10.28788,
          33.21744,
          44.84534,
          33.13906,
          -19.564066,
          43.288998,
          32.944855,
          35.413292,
          9.361667,
          30.94081,
          25.206194,
          -22.765554,
          10.221571,
          -41.795815,
          -36.767986,
          -7.099448,
          -36.49957,
          -10.391214,
          4.074886,
          -34.87101,
          -13.029707,
          -16.867176,
          -19.404192,
          -6.8002725,
          -9.3256855,
          -11.288168,
          -15.018913,
          -19.875553,
          -0.95924187,
          -5.6474323,
          -24.282993,
          30.72132,
          27.714146,
          -8.978063,
          -16.045517,
          -8.703181,
          36.462082,
          25.209227,
          22.981413,
          32.19354,
          24.059465,
          29.203856,
          31.365412,
          18.351797,
          8.407455,
          5.5238047,
          3.618751,
          9.505454,
          16.681265,
          -21.892921,
          -23.199022,
          -37.684196,
          -30.177725,
          -25.775925,
          -23.044588,
          -32.767242,
          5.8394933,
          3.5255203,
          12.056219,
          -4.1094995,
          -11.963306,
          20.171518,
          -3.9618766,
          -5.726506,
          -1.9265137,
          26.513569,
          -12.164454,
          -13.222577,
          7.75698,
          -8.196862,
          11.277853,
          -19.09899,
          11.678249,
          4.0387335,
          12.196812,
          4.84332,
          -18.878616,
          3.2616708,
          6.1676316,
          21.182255,
          -16.969448,
          4.552594,
          -3.407983,
          11.530001,
          -4.767167,
          -7.079986,
          -10.364544,
          -11.462362,
          11.213538,
          22.091816,
          24.84872,
          -0.15733828,
          -5.2263913,
          19.949986,
          23.055834,
          13.069132,
          18.348167,
          23.094038,
          -19.59798,
          -22.425514,
          -19.284342,
          -25.164118,
          -36.798042,
          -15.490251,
          -26.20846,
          0.6563135,
          -30.266924,
          -6.970276,
          -21.912697,
          -22.400616,
          -16.916155,
          -17.657799,
          14.968582,
          3.4124691,
          -27.559963,
          -8.132439,
          1.9867234,
          -21.163143,
          -21.611982,
          7.8663807,
          5.990319,
          -14.7199745,
          -18.503464,
          13.339702,
          -22.529432,
          -20.309961,
          -1.3127503,
          6.9538193,
          -8.232914,
          -24.341278,
          9.667843,
          8.632688,
          14.713308,
          14.929441,
          14.0010395,
          17.613964,
          -10.801769,
          2.2902856,
          -4.9876714,
          -4.4317727,
          -0.32549256,
          3.7547476,
          -2.3232367,
          -4.7091227,
          -27.594065,
          -14.721823,
          -32.030613,
          -23.197334,
          -26.327442,
          -30.583487,
          21.393858,
          33.432518,
          2.6780515,
          17.716537,
          29.464315,
          28.625996,
          9.926001,
          11.033408,
          -15.687951,
          24.917412,
          17.080776,
          34.43045,
          -3.4065287,
          -0.60683787,
          -8.559749,
          -2.4250376,
          -6.4774284,
          3.5269408,
          1.1470702,
          0.69998705,
          -13.465432,
          -19.166332,
          -13.030518,
          -13.697514,
          -20.920546,
          -19.507404,
          -12.530359,
          -14.766058,
          -17.826199,
          -31.359257,
          -39.57857,
          -15.333297,
          -35.31986,
          -30.93517,
          -19.379652,
          -43.183743,
          -43.11548,
          -25.582516,
          -30.750109,
          -33.952717,
          -31.484072,
          -28.487024,
          -36.113667,
          -24.60381,
          -19.798409,
          -20.76317,
          -21.147635,
          -37.625008,
          -32.457844,
          -27.579306,
          -26.166021,
          -27.729433,
          -25.380049,
          -22.58352,
          -3.120606,
          -0.7238578,
          -2.962627,
          7.994473,
          13.350235,
          4.139903,
          11.890683,
          16.113762,
          -28.956703,
          -37.740643,
          -28.439257,
          -32.945892,
          -27.757298,
          -33.101727,
          -32.484383,
          -32.942337,
          -26.80984,
          -27.961525,
          -20.931808,
          -19.749115,
          -13.198411,
          -16.200008,
          38.627796,
          35.781178,
          -30.661201,
          -36.129124,
          -31.746864,
          -49.789074,
          -37.0327,
          -43.602352,
          -24.579832,
          -19.711523,
          -24.015162,
          -17.392326,
          -12.081648,
          -22.524666,
          -23.39256,
          -23.434187,
          -18.05896,
          -33.49648,
          -14.173697,
          22.738699,
          17.146751,
          18.930124,
          17.322746,
          23.804457,
          17.894123,
          25.530128,
          23.080185,
          24.525158,
          16.450798,
          20.07831,
          18.4239,
          25.600565,
          17.533716,
          50.079655,
          46.86703,
          47.069237,
          48.44087,
          33.656406,
          25.876263,
          29.61573,
          26.124678,
          -8.161963,
          -26.370064,
          -31.94003,
          -20.51529,
          39.89608,
          35.38486,
          37.42449,
          43.252384,
          41.015038,
          40.150593,
          32.285526,
          33.487812,
          31.390146,
          -39.211494,
          -39.293446,
          -5.9556656,
          -8.830435,
          0.30722958,
          -7.1082625,
          2.272549,
          -16.850924,
          -7.483129,
          -12.895962,
          -7.7344294,
          -6.44853,
          -28.982061,
          -38.92732,
          14.682586,
          -29.376646,
          -47.229626,
          -44.80744,
          -40.02992,
          -42.52028,
          -2.429653,
          2.0447924,
          22.498362,
          -1.5628347,
          -7.7840557,
          -11.734207,
          40.738544,
          1.2109954,
          5.1812572,
          -25.037426,
          -28.012278,
          -11.450288,
          -15.056443,
          -3.497972,
          -28.641956,
          -14.919272,
          -19.470198,
          30.743614,
          24.53296,
          25.847013,
          -6.9092946,
          -1.9785465,
          14.357377,
          15.17202,
          16.73469,
          -6.0070257,
          -6.941677,
          -1.5996993
         ],
         "xaxis": "x",
         "y": [
          11.304382,
          12.846806,
          4.147271,
          8.952854,
          12.812164,
          5.4195943,
          13.405261,
          12.953272,
          4.8592963,
          7.60863,
          18.218155,
          -15.188867,
          -2.4664104,
          -8.308278,
          -16.521217,
          -8.097771,
          -10.658967,
          -17.403698,
          2.2475982,
          1.2527306,
          -5.3338647,
          -9.06148,
          -11.066346,
          -11.679805,
          -1.9961796,
          3.4295,
          4.257958,
          -1.4289978,
          0.44555598,
          6.1240478,
          -0.28737506,
          -18.664738,
          -33.82494,
          -17.503624,
          -13.381293,
          -30.440228,
          -20.536133,
          -14.790814,
          24.868032,
          0.040570628,
          -22.41939,
          -28.95765,
          -26.852768,
          -26.67571,
          -21.66948,
          -22.671522,
          -5.5807996,
          -25.372143,
          -31.074203,
          -24.190935,
          -17.32353,
          -8.885024,
          -11.882066,
          -9.469079,
          -0.3405627,
          -5.9680634,
          -2.7774231,
          -0.0121357925,
          27.10849,
          15.133184,
          44.76794,
          31.64266,
          22.441095,
          40.63745,
          39.457108,
          36.09583,
          33.72627,
          37.977745,
          40.39411,
          2.3229036,
          1.545582,
          6.404585,
          -0.38127795,
          -5.230695,
          -45.249023,
          -51.15861,
          -37.651028,
          -38.43409,
          -41.51283,
          -47.35982,
          -45.262318,
          -39.024006,
          -45.268524,
          -32.201775,
          -47.32708,
          -38.790962,
          12.738297,
          9.806189,
          6.791524,
          -3.4463727,
          -3.0824122,
          1.9979383,
          6.5854526,
          0.09451841,
          1.0165371,
          6.2940435,
          14.843699,
          11.9252615,
          5.3782387,
          11.292525,
          12.13959,
          13.57932,
          7.8525867,
          4.368257,
          4.290817,
          -3.2031271,
          4.8778644,
          44.06994,
          33.59527,
          42.397747,
          33.046394,
          49.044846,
          26.280914,
          40.04058,
          42.64027,
          35.437496,
          -25.673296,
          28.14583,
          24.771107,
          25.375628,
          29.877028,
          30.072886,
          37.519882,
          34.11282,
          -28.181726,
          -19.50657,
          -27.764732,
          -29.507532,
          -35.75209,
          -18.939426,
          -12.738401,
          -32.593533,
          -39.019737,
          3.624566,
          3.806692,
          2.8144584,
          12.850838,
          -17.323362,
          -3.567764,
          13.221661,
          17.838388,
          5.694637,
          16.158566,
          19.960949,
          1.1487828,
          9.539038,
          6.2758536,
          15.484644,
          23.733654,
          12.976679,
          14.125199,
          6.7095165,
          11.957383,
          10.27109,
          17.45137,
          26.87358,
          13.930099,
          27.01765,
          23.190897,
          2.782449,
          26.959633,
          -33.63293,
          -30.246344,
          -12.017316,
          -32.16761,
          -19.789896,
          -39.74153,
          -30.380856,
          -7.246015,
          -16.274973,
          -36.804054,
          37.1776,
          31.884474,
          2.0737581,
          1.6078682,
          7.5700083,
          -15.005691,
          -28.257238,
          -25.374817,
          -25.430964,
          -17.375319,
          -22.271486,
          -32.704185,
          -24.843922,
          37.597878,
          43.78877,
          39.487408,
          43.54074,
          42.04126,
          17.059458,
          10.493801,
          29.936821,
          17.358795,
          10.618842,
          18.298618,
          9.514488,
          -10.425307,
          -21.190392,
          -6.3619375,
          -18.968056,
          -16.708351,
          -17.300264,
          -26.088058,
          -17.150507,
          -3.1093247,
          -23.497355,
          -11.595321,
          -21.370422,
          -32.615566,
          -9.436349,
          -40.330414,
          -13.892737,
          -27.015043,
          -28.510094,
          -13.785525,
          -9.098608,
          -20.92521,
          -25.90182,
          36.25312,
          -11.828483,
          -17.21459,
          -17.547325,
          -7.9837527,
          -34.857994,
          -21.3557,
          -17.308264,
          -2.1703186,
          -25.27704,
          -14.143533,
          -1.856149,
          -32.174377,
          -14.191121,
          -12.9251175,
          21.505196,
          15.468333,
          18.66198,
          15.073453,
          21.854872,
          8.800947,
          12.838998,
          -8.79523,
          -15.324336,
          25.327858,
          -4.8976927,
          21.49331,
          14.443729,
          -5.586845,
          19.502556,
          -8.364065,
          1.5303092,
          20.957195,
          -8.051043,
          3.840395,
          10.940358,
          31.09558,
          -23.211868,
          25.35431,
          26.404865,
          -5.0413885,
          9.954286,
          16.577623,
          -13.984356,
          27.280796,
          -2.8450546,
          33.849407,
          0.3497666,
          14.0266,
          -6.9524975,
          16.53987,
          20.778732,
          37.824554,
          28.59039,
          33.128906,
          32.55034,
          -36.122326,
          -39.45303,
          -8.558279,
          5.281803,
          9.346507,
          0.97016644,
          10.658192,
          4.2805777,
          -2.0521603,
          4.9275417,
          -30.058254,
          -31.34046,
          -21.644033,
          -26.145996,
          -18.624313,
          -25.666922,
          30.789038,
          -2.4173386,
          27.528929,
          7.342697,
          32.34163,
          31.916624,
          0.5157046,
          2.1980698,
          2.7430584,
          8.776569,
          12.857923,
          -7.000042,
          38.876934,
          36.712357,
          35.897057,
          31.605179,
          44.039192,
          36.92352,
          43.212463,
          34.87577,
          -6.109954,
          -12.862602,
          -10.6621275,
          -25.699453,
          -15.425551,
          -6.846829,
          -17.96117,
          -15.561209,
          -7.173698,
          -16.157963,
          -20.602045,
          -23.4987,
          -25.465263,
          -22.833935,
          -17.182432,
          -12.184039,
          -16.264133,
          -27.871058,
          -25.514875,
          -17.065413,
          -21.72435,
          -14.100293,
          -18.154587,
          -25.153135,
          -22.644785,
          -17.914158,
          -27.797958,
          -16.868195,
          -17.807793,
          -18.798079,
          -18.190561,
          -34.003952,
          -34.41972,
          -26.44588,
          -9.731494,
          -2.5943308,
          -31.440905,
          -27.080647,
          -33.60093,
          -34.73883,
          -26.97237,
          -24.57206,
          -1.08849,
          -0.42182457,
          -1.6113163,
          -8.75354,
          -10.014162,
          0.9674923,
          4.8342876,
          -8.722678,
          -8.004266,
          -15.782369,
          35.124123,
          40.859966,
          38.201202,
          38.853504,
          -16.361105,
          -21.380749,
          25.601059,
          17.681,
          19.362225,
          -11.092319,
          -9.943491,
          -10.164606,
          19.185497,
          19.801458,
          26.262629,
          22.777906,
          27.220633,
          33.02301,
          16.718786,
          25.741764,
          15.012616,
          28.62894,
          16.34736,
          6.893585,
          18.055668,
          0.3853753,
          8.615328,
          21.50189,
          12.743657,
          12.6772,
          0.50054336,
          4.792766,
          -1.3597579,
          19.764803,
          6.470729,
          7.6426196,
          10.992366,
          -0.597239,
          -3.9954824,
          -5.868504,
          -9.217374,
          -10.431987,
          -4.626163,
          -8.278089,
          -13.021636,
          5.584373,
          6.8310404,
          7.6951017,
          7.479418,
          -6.6660957,
          -10.449034,
          -5.3534894,
          1.5060303,
          1.2675894,
          -14.969634,
          -15.911264,
          -2.0241935,
          -11.857984,
          14.658262,
          17.40655,
          -15.01085,
          -6.945358,
          -12.581589,
          20.061874,
          18.45695,
          11.828312,
          13.025591,
          7.05523,
          13.479831,
          24.708826,
          3.2168818,
          11.77775,
          21.382883,
          10.331935,
          11.900699,
          6.7224455,
          8.003556,
          10.688623,
          -13.459517,
          -19.54431,
          -6.979829,
          -22.050133,
          14.226756,
          11.596207,
          -21.147984,
          25.412981,
          23.44477,
          -2.559242,
          0.534559,
          -40.392918,
          -37.312153,
          13.486692,
          -7.479527,
          -6.2948914,
          -8.338365,
          18.58615,
          23.107325,
          23.119934,
          -32.569763,
          -29.055923,
          15.730164,
          16.18527,
          8.645014,
          -26.786425,
          -29.363153,
          -28.649477
         ],
         "yaxis": "y"
        }
       ],
       "layout": {
        "coloraxis": {
         "colorbar": {
          "title": {
           "text": "cluster"
          }
         },
         "colorscale": [
          [
           0,
           "rgb(0, 147, 146)"
          ],
          [
           0.16666666666666666,
           "rgb(114, 170, 161)"
          ],
          [
           0.3333333333333333,
           "rgb(177, 199, 179)"
          ],
          [
           0.5,
           "rgb(241, 234, 200)"
          ],
          [
           0.6666666666666666,
           "rgb(229, 185, 173)"
          ],
          [
           0.8333333333333334,
           "rgb(217, 137, 148)"
          ],
          [
           1,
           "rgb(208, 88, 126)"
          ]
         ]
        },
        "height": 600,
        "hovermode": "closest",
        "legend": {
         "tracegroupgap": 0
        },
        "margin": {
         "t": 60
        },
        "template": {
         "data": {
          "bar": [
           {
            "error_x": {
             "color": "#2a3f5f"
            },
            "error_y": {
             "color": "#2a3f5f"
            },
            "marker": {
             "line": {
              "color": "#E5ECF6",
              "width": 0.5
             },
             "pattern": {
              "fillmode": "overlay",
              "size": 10,
              "solidity": 0.2
             }
            },
            "type": "bar"
           }
          ],
          "barpolar": [
           {
            "marker": {
             "line": {
              "color": "#E5ECF6",
              "width": 0.5
             },
             "pattern": {
              "fillmode": "overlay",
              "size": 10,
              "solidity": 0.2
             }
            },
            "type": "barpolar"
           }
          ],
          "carpet": [
           {
            "aaxis": {
             "endlinecolor": "#2a3f5f",
             "gridcolor": "white",
             "linecolor": "white",
             "minorgridcolor": "white",
             "startlinecolor": "#2a3f5f"
            },
            "baxis": {
             "endlinecolor": "#2a3f5f",
             "gridcolor": "white",
             "linecolor": "white",
             "minorgridcolor": "white",
             "startlinecolor": "#2a3f5f"
            },
            "type": "carpet"
           }
          ],
          "choropleth": [
           {
            "colorbar": {
             "outlinewidth": 0,
             "ticks": ""
            },
            "type": "choropleth"
           }
          ],
          "contour": [
           {
            "colorbar": {
             "outlinewidth": 0,
             "ticks": ""
            },
            "colorscale": [
             [
              0,
              "#0d0887"
             ],
             [
              0.1111111111111111,
              "#46039f"
             ],
             [
              0.2222222222222222,
              "#7201a8"
             ],
             [
              0.3333333333333333,
              "#9c179e"
             ],
             [
              0.4444444444444444,
              "#bd3786"
             ],
             [
              0.5555555555555556,
              "#d8576b"
             ],
             [
              0.6666666666666666,
              "#ed7953"
             ],
             [
              0.7777777777777778,
              "#fb9f3a"
             ],
             [
              0.8888888888888888,
              "#fdca26"
             ],
             [
              1,
              "#f0f921"
             ]
            ],
            "type": "contour"
           }
          ],
          "contourcarpet": [
           {
            "colorbar": {
             "outlinewidth": 0,
             "ticks": ""
            },
            "type": "contourcarpet"
           }
          ],
          "heatmap": [
           {
            "colorbar": {
             "outlinewidth": 0,
             "ticks": ""
            },
            "colorscale": [
             [
              0,
              "#0d0887"
             ],
             [
              0.1111111111111111,
              "#46039f"
             ],
             [
              0.2222222222222222,
              "#7201a8"
             ],
             [
              0.3333333333333333,
              "#9c179e"
             ],
             [
              0.4444444444444444,
              "#bd3786"
             ],
             [
              0.5555555555555556,
              "#d8576b"
             ],
             [
              0.6666666666666666,
              "#ed7953"
             ],
             [
              0.7777777777777778,
              "#fb9f3a"
             ],
             [
              0.8888888888888888,
              "#fdca26"
             ],
             [
              1,
              "#f0f921"
             ]
            ],
            "type": "heatmap"
           }
          ],
          "heatmapgl": [
           {
            "colorbar": {
             "outlinewidth": 0,
             "ticks": ""
            },
            "colorscale": [
             [
              0,
              "#0d0887"
             ],
             [
              0.1111111111111111,
              "#46039f"
             ],
             [
              0.2222222222222222,
              "#7201a8"
             ],
             [
              0.3333333333333333,
              "#9c179e"
             ],
             [
              0.4444444444444444,
              "#bd3786"
             ],
             [
              0.5555555555555556,
              "#d8576b"
             ],
             [
              0.6666666666666666,
              "#ed7953"
             ],
             [
              0.7777777777777778,
              "#fb9f3a"
             ],
             [
              0.8888888888888888,
              "#fdca26"
             ],
             [
              1,
              "#f0f921"
             ]
            ],
            "type": "heatmapgl"
           }
          ],
          "histogram": [
           {
            "marker": {
             "pattern": {
              "fillmode": "overlay",
              "size": 10,
              "solidity": 0.2
             }
            },
            "type": "histogram"
           }
          ],
          "histogram2d": [
           {
            "colorbar": {
             "outlinewidth": 0,
             "ticks": ""
            },
            "colorscale": [
             [
              0,
              "#0d0887"
             ],
             [
              0.1111111111111111,
              "#46039f"
             ],
             [
              0.2222222222222222,
              "#7201a8"
             ],
             [
              0.3333333333333333,
              "#9c179e"
             ],
             [
              0.4444444444444444,
              "#bd3786"
             ],
             [
              0.5555555555555556,
              "#d8576b"
             ],
             [
              0.6666666666666666,
              "#ed7953"
             ],
             [
              0.7777777777777778,
              "#fb9f3a"
             ],
             [
              0.8888888888888888,
              "#fdca26"
             ],
             [
              1,
              "#f0f921"
             ]
            ],
            "type": "histogram2d"
           }
          ],
          "histogram2dcontour": [
           {
            "colorbar": {
             "outlinewidth": 0,
             "ticks": ""
            },
            "colorscale": [
             [
              0,
              "#0d0887"
             ],
             [
              0.1111111111111111,
              "#46039f"
             ],
             [
              0.2222222222222222,
              "#7201a8"
             ],
             [
              0.3333333333333333,
              "#9c179e"
             ],
             [
              0.4444444444444444,
              "#bd3786"
             ],
             [
              0.5555555555555556,
              "#d8576b"
             ],
             [
              0.6666666666666666,
              "#ed7953"
             ],
             [
              0.7777777777777778,
              "#fb9f3a"
             ],
             [
              0.8888888888888888,
              "#fdca26"
             ],
             [
              1,
              "#f0f921"
             ]
            ],
            "type": "histogram2dcontour"
           }
          ],
          "mesh3d": [
           {
            "colorbar": {
             "outlinewidth": 0,
             "ticks": ""
            },
            "type": "mesh3d"
           }
          ],
          "parcoords": [
           {
            "line": {
             "colorbar": {
              "outlinewidth": 0,
              "ticks": ""
             }
            },
            "type": "parcoords"
           }
          ],
          "pie": [
           {
            "automargin": true,
            "type": "pie"
           }
          ],
          "scatter": [
           {
            "fillpattern": {
             "fillmode": "overlay",
             "size": 10,
             "solidity": 0.2
            },
            "type": "scatter"
           }
          ],
          "scatter3d": [
           {
            "line": {
             "colorbar": {
              "outlinewidth": 0,
              "ticks": ""
             }
            },
            "marker": {
             "colorbar": {
              "outlinewidth": 0,
              "ticks": ""
             }
            },
            "type": "scatter3d"
           }
          ],
          "scattercarpet": [
           {
            "marker": {
             "colorbar": {
              "outlinewidth": 0,
              "ticks": ""
             }
            },
            "type": "scattercarpet"
           }
          ],
          "scattergeo": [
           {
            "marker": {
             "colorbar": {
              "outlinewidth": 0,
              "ticks": ""
             }
            },
            "type": "scattergeo"
           }
          ],
          "scattergl": [
           {
            "marker": {
             "colorbar": {
              "outlinewidth": 0,
              "ticks": ""
             }
            },
            "type": "scattergl"
           }
          ],
          "scattermapbox": [
           {
            "marker": {
             "colorbar": {
              "outlinewidth": 0,
              "ticks": ""
             }
            },
            "type": "scattermapbox"
           }
          ],
          "scatterpolar": [
           {
            "marker": {
             "colorbar": {
              "outlinewidth": 0,
              "ticks": ""
             }
            },
            "type": "scatterpolar"
           }
          ],
          "scatterpolargl": [
           {
            "marker": {
             "colorbar": {
              "outlinewidth": 0,
              "ticks": ""
             }
            },
            "type": "scatterpolargl"
           }
          ],
          "scatterternary": [
           {
            "marker": {
             "colorbar": {
              "outlinewidth": 0,
              "ticks": ""
             }
            },
            "type": "scatterternary"
           }
          ],
          "surface": [
           {
            "colorbar": {
             "outlinewidth": 0,
             "ticks": ""
            },
            "colorscale": [
             [
              0,
              "#0d0887"
             ],
             [
              0.1111111111111111,
              "#46039f"
             ],
             [
              0.2222222222222222,
              "#7201a8"
             ],
             [
              0.3333333333333333,
              "#9c179e"
             ],
             [
              0.4444444444444444,
              "#bd3786"
             ],
             [
              0.5555555555555556,
              "#d8576b"
             ],
             [
              0.6666666666666666,
              "#ed7953"
             ],
             [
              0.7777777777777778,
              "#fb9f3a"
             ],
             [
              0.8888888888888888,
              "#fdca26"
             ],
             [
              1,
              "#f0f921"
             ]
            ],
            "type": "surface"
           }
          ],
          "table": [
           {
            "cells": {
             "fill": {
              "color": "#EBF0F8"
             },
             "line": {
              "color": "white"
             }
            },
            "header": {
             "fill": {
              "color": "#C8D4E3"
             },
             "line": {
              "color": "white"
             }
            },
            "type": "table"
           }
          ]
         },
         "layout": {
          "annotationdefaults": {
           "arrowcolor": "#2a3f5f",
           "arrowhead": 0,
           "arrowwidth": 1
          },
          "autotypenumbers": "strict",
          "coloraxis": {
           "colorbar": {
            "outlinewidth": 0,
            "ticks": ""
           }
          },
          "colorscale": {
           "diverging": [
            [
             0,
             "#8e0152"
            ],
            [
             0.1,
             "#c51b7d"
            ],
            [
             0.2,
             "#de77ae"
            ],
            [
             0.3,
             "#f1b6da"
            ],
            [
             0.4,
             "#fde0ef"
            ],
            [
             0.5,
             "#f7f7f7"
            ],
            [
             0.6,
             "#e6f5d0"
            ],
            [
             0.7,
             "#b8e186"
            ],
            [
             0.8,
             "#7fbc41"
            ],
            [
             0.9,
             "#4d9221"
            ],
            [
             1,
             "#276419"
            ]
           ],
           "sequential": [
            [
             0,
             "#0d0887"
            ],
            [
             0.1111111111111111,
             "#46039f"
            ],
            [
             0.2222222222222222,
             "#7201a8"
            ],
            [
             0.3333333333333333,
             "#9c179e"
            ],
            [
             0.4444444444444444,
             "#bd3786"
            ],
            [
             0.5555555555555556,
             "#d8576b"
            ],
            [
             0.6666666666666666,
             "#ed7953"
            ],
            [
             0.7777777777777778,
             "#fb9f3a"
            ],
            [
             0.8888888888888888,
             "#fdca26"
            ],
            [
             1,
             "#f0f921"
            ]
           ],
           "sequentialminus": [
            [
             0,
             "#0d0887"
            ],
            [
             0.1111111111111111,
             "#46039f"
            ],
            [
             0.2222222222222222,
             "#7201a8"
            ],
            [
             0.3333333333333333,
             "#9c179e"
            ],
            [
             0.4444444444444444,
             "#bd3786"
            ],
            [
             0.5555555555555556,
             "#d8576b"
            ],
            [
             0.6666666666666666,
             "#ed7953"
            ],
            [
             0.7777777777777778,
             "#fb9f3a"
            ],
            [
             0.8888888888888888,
             "#fdca26"
            ],
            [
             1,
             "#f0f921"
            ]
           ]
          },
          "colorway": [
           "#636efa",
           "#EF553B",
           "#00cc96",
           "#ab63fa",
           "#FFA15A",
           "#19d3f3",
           "#FF6692",
           "#B6E880",
           "#FF97FF",
           "#FECB52"
          ],
          "font": {
           "color": "#2a3f5f"
          },
          "geo": {
           "bgcolor": "white",
           "lakecolor": "white",
           "landcolor": "#E5ECF6",
           "showlakes": true,
           "showland": true,
           "subunitcolor": "white"
          },
          "hoverlabel": {
           "align": "left"
          },
          "hovermode": "closest",
          "mapbox": {
           "style": "light"
          },
          "paper_bgcolor": "white",
          "plot_bgcolor": "#E5ECF6",
          "polar": {
           "angularaxis": {
            "gridcolor": "white",
            "linecolor": "white",
            "ticks": ""
           },
           "bgcolor": "#E5ECF6",
           "radialaxis": {
            "gridcolor": "white",
            "linecolor": "white",
            "ticks": ""
           }
          },
          "scene": {
           "xaxis": {
            "backgroundcolor": "#E5ECF6",
            "gridcolor": "white",
            "gridwidth": 2,
            "linecolor": "white",
            "showbackground": true,
            "ticks": "",
            "zerolinecolor": "white"
           },
           "yaxis": {
            "backgroundcolor": "#E5ECF6",
            "gridcolor": "white",
            "gridwidth": 2,
            "linecolor": "white",
            "showbackground": true,
            "ticks": "",
            "zerolinecolor": "white"
           },
           "zaxis": {
            "backgroundcolor": "#E5ECF6",
            "gridcolor": "white",
            "gridwidth": 2,
            "linecolor": "white",
            "showbackground": true,
            "ticks": "",
            "zerolinecolor": "white"
           }
          },
          "shapedefaults": {
           "line": {
            "color": "#2a3f5f"
           }
          },
          "ternary": {
           "aaxis": {
            "gridcolor": "white",
            "linecolor": "white",
            "ticks": ""
           },
           "baxis": {
            "gridcolor": "white",
            "linecolor": "white",
            "ticks": ""
           },
           "bgcolor": "#E5ECF6",
           "caxis": {
            "gridcolor": "white",
            "linecolor": "white",
            "ticks": ""
           }
          },
          "title": {
           "x": 0.05
          },
          "xaxis": {
           "automargin": true,
           "gridcolor": "white",
           "linecolor": "white",
           "ticks": "",
           "title": {
            "standoff": 15
           },
           "zerolinecolor": "white",
           "zerolinewidth": 2
          },
          "yaxis": {
           "automargin": true,
           "gridcolor": "white",
           "linecolor": "white",
           "ticks": "",
           "title": {
            "standoff": 15
           },
           "zerolinecolor": "white",
           "zerolinewidth": 2
          }
         }
        },
        "title": {
         "text": "2D Visualization of Embeddings with Clusters and 468 startups"
        },
        "width": 1000,
        "xaxis": {
         "anchor": "y",
         "autorange": true,
         "domain": [
          0,
          1
         ],
         "range": [
          -56.28738170890411,
          56.57796270890411
         ],
         "title": {
          "text": "x"
         },
         "type": "linear"
        },
        "yaxis": {
         "anchor": "x",
         "autorange": true,
         "domain": [
          0,
          1
         ],
         "range": [
          -58.45861270983811,
          56.344848709838104
         ],
         "title": {
          "text": "y"
         },
         "type": "linear"
        }
       }
      },
      "image/png": "[encoded data removed]",
      "text/html": [
       "<div>                            <div id=\"c751ca40-407a-45e6-8bed-242b354e2beb\" class=\"plotly-graph-div\" style=\"height:600px; width:1000px;\"></div>            <script type=\"text/javascript\">                require([\"plotly\"], function(Plotly) {                    window.PLOTLYENV=window.PLOTLYENV || {};                                    if (document.getElementById(\"c751ca40-407a-45e6-8bed-242b354e2beb\")) {                    Plotly.newPlot(                        \"c751ca40-407a-45e6-8bed-242b354e2beb\",                        [{\"customdata\":[[\"Music and Audio Production Tools\"],[\"Music and Audio Production Tools\"],[\"Music and Audio Production Tools\"],[\"Music and Audio Production Tools\"],[\"Music and Audio Production Tools\"],[\"Music and Audio Production Tools\"],[\"Music and Audio Production Tools\"],[\"Music and Audio Production Tools\"],[\"Music and Audio Production Tools\"],[\"Music and Audio Production Tools\"],[\"Music and Audio Production Tools\"],[\"AI Toolset for Developers\"],[\"AI Toolset for Developers\"],[\"AI Toolset for Developers\"],[\"AI Toolset for Developers\"],[\"AI Toolset for Developers\"],[\"AI Toolset for Developers\"],[\"AI Toolset for Developers\"],[\"AI Toolset for Developers\"],[\"AI Toolset for Developers\"],[\"AI Toolset for Developers\"],[\"AI Toolset for Developers\"],[\"Construction and Workflow Automation\"],[\"Construction and Workflow Automation\"],[\"Construction and Workflow Automation\"],[\"Web Development and AI tools\"],[\"Web Development and AI tools\"],[\"Web Development and AI tools\"],[\"Web Development and AI tools\"],[\"Web Development and AI tools\"],[\"Web Development and AI tools\"],[\"AI Research and Development\"],[\"AI Research and Development\"],[\"AI Research and Development\"],[\"AI Research and Development\"],[\"AI Research and Development\"],[\"AI Research and Development\"],[\"AI Research and Development\"],[\"AI Research and Development\"],[\"AI Research and Development\"],[\"AI Research and Development\"],[\"AI Research and Development\"],[\"AI Research and Development\"],[\"AI Research and Development\"],[\"AI Research and Development\"],[\"AI Research and Development\"],[\"AI Research and Development\"],[\"AI Research and Development\"],[\"AI Research and Development\"],[\"AI Research and Development\"],[\"AI Research and Development\"],[\"AI Research and Development\"],[\"AI Research and Development\"],[\"Tech and Blockchain News\"],[\"Tech and Blockchain News\"],[\"Tech and Blockchain News\"],[\"Tech and Blockchain News\"],[\"Tech and Blockchain News\"],[\"HR and Recruitment Automation\"],[\"HR and Recruitment Automation\"],[\"HR and Recruitment Automation\"],[\"HR and Recruitment Automation\"],[\"HR and Recruitment Automation\"],[\"HR and Recruitment Automation\"],[\"HR and Recruitment Automation\"],[\"HR and Recruitment Automation\"],[\"HR and Recruitment Automation\"],[\"HR and Recruitment Automation\"],[\"HR and Recruitment Automation\"],[\"Retail Supply Chain Management\"],[\"Retail Supply Chain Management\"],[\"Retail Supply Chain Management\"],[\"Retail Supply Chain Management\"],[\"Retail Supply Chain Management\"],[\"Advanced Cybersecurity Solutions\"],[\"Advanced Cybersecurity Solutions\"],[\"Advanced Cybersecurity Solutions\"],[\"Advanced Cybersecurity Solutions\"],[\"Advanced Cybersecurity Solutions\"],[\"Advanced Cybersecurity Solutions\"],[\"Advanced Cybersecurity Solutions\"],[\"Advanced Cybersecurity Solutions\"],[\"Advanced Cybersecurity Solutions\"],[\"Advanced Cybersecurity Solutions\"],[\"Advanced Cybersecurity Solutions\"],[\"Advanced Cybersecurity Solutions\"],[\"Mobile and Software Development Technologies\"],[\"Mobile and Software Development Technologies\"],[\"Mobile and Software Development Technologies\"],[\"Mobile and Software Development Technologies\"],[\"Mobile and Software Development Technologies\"],[\"Mobile and Software Development Technologies\"],[\"Mobile and Software Development Technologies\"],[\"Mobile and Software Development Technologies\"],[\"Mobile and Software Development Technologies\"],[\"Mobile and Software Development Technologies\"],[\"Mobile and Software Development Technologies\"],[\"Mobile and Software Development Technologies\"],[\"Mobile and Software Development Technologies\"],[\"Mobile and Software Development Technologies\"],[\"Mobile and Software Development Technologies\"],[\"Mobile and Software Development Technologies\"],[\"Mobile and Software Development Technologies\"],[\"Mobile and Software Development Technologies\"],[\"Mobile and Software Development Technologies\"],[\"Mobile and Software Development Technologies\"],[\"Mobile and Software Development Technologies\"],[\"Educational Technologies and Learning Platforms\"],[\"Educational Technologies and Learning Platforms\"],[\"Educational Technologies and Learning Platforms\"],[\"Educational Technologies and Learning Platforms\"],[\"Educational Technologies and Learning Platforms\"],[\"Educational Technologies and Learning Platforms\"],[\"Educational Technologies and Learning Platforms\"],[\"Educational Technologies and Learning Platforms\"],[\"Educational Technologies and Learning Platforms\"],[\"Educational Technologies and Learning Platforms\"],[\"Educational Technologies and Learning Platforms\"],[\"Educational Technologies and Learning Platforms\"],[\"Educational Technologies and Learning Platforms\"],[\"Educational Technologies and Learning Platforms\"],[\"Educational Technologies and Learning Platforms\"],[\"Educational Technologies and Learning Platforms\"],[\"Educational Technologies and Learning Platforms\"],[\"Healthcare Data Management Systems\"],[\"Healthcare Data Management Systems\"],[\"Healthcare Data Management Systems\"],[\"Healthcare Data Management Systems\"],[\"Healthcare Data Management Systems\"],[\"Healthcare Data Management Systems\"],[\"Healthcare Data Management Systems\"],[\"Healthcare Data Management Systems\"],[\"Healthcare Data Management Systems\"],[\"Creative Business Tools\"],[\"Creative Business Tools\"],[\"Creative Business Tools\"],[\"Creative Business Tools\"],[\"Creative Business Tools\"],[\"Creative Business Tools\"],[\"Creative Business Tools\"],[\"Creative Business Tools\"],[\"Creative Business Tools\"],[\"Creative Business Tools\"],[\"Creative Business Tools\"],[\"Creative Business Tools\"],[\"Creative Business Tools\"],[\"Creative Business Tools\"],[\"Creative Business Tools\"],[\"Creative Business Tools\"],[\"Creative Business Tools\"],[\"Creative Business Tools\"],[\"Creative Business Tools\"],[\"Creative Business Tools\"],[\"Restaurant and Hospitality Services\"],[\"Restaurant and Hospitality Services\"],[\"Restaurant and Hospitality Services\"],[\"Restaurant and Hospitality Services\"],[\"Restaurant and Hospitality Services\"],[\"Restaurant and Hospitality Services\"],[\"Restaurant and Hospitality Services\"],[\"Restaurant and Hospitality Services\"],[\"Regulatory Compliance and Risk Management\"],[\"Regulatory Compliance and Risk Management\"],[\"Regulatory Compliance and Risk Management\"],[\"Regulatory Compliance and Risk Management\"],[\"Regulatory Compliance and Risk Management\"],[\"Regulatory Compliance and Risk Management\"],[\"Regulatory Compliance and Risk Management\"],[\"Regulatory Compliance and Risk Management\"],[\"Regulatory Compliance and Risk Management\"],[\"Regulatory Compliance and Risk Management\"],[\"Gamification in Education\"],[\"Gamification in Education\"],[\"Marketing Data Analytics\"],[\"Marketing Data Analytics\"],[\"Marketing Data Analytics\"],[\"Personalized Wellness Programs\"],[\"Personalized Wellness Programs\"],[\"Personalized Wellness Programs\"],[\"Personalized Wellness Programs\"],[\"Personalized Wellness Programs\"],[\"Personalized Wellness Programs\"],[\"Personalized Wellness Programs\"],[\"Personalized Wellness Programs\"],[\"AI-Driven Business Strategies\"],[\"AI-Driven Business Strategies\"],[\"AI-Driven Business Strategies\"],[\"AI-Driven Business Strategies\"],[\"AI-Driven Business Strategies\"],[\"E-commerce and Retail Strategies\"],[\"E-commerce and Retail Strategies\"],[\"E-commerce and Retail Strategies\"],[\"E-commerce and Retail Strategies\"],[\"E-commerce and Retail Strategies\"],[\"E-commerce and Retail Strategies\"],[\"E-commerce and Retail Strategies\"],[\"AI Systems Development\"],[\"AI Systems Development\"],[\"AI Systems Development\"],[\"AI Systems Development\"],[\"AI Systems Development\"],[\"AI Systems Development\"],[\"AI Systems Development\"],[\"AI Systems Development\"],[\"AI Systems Development\"],[\"AI Systems Development\"],[\"AI Systems Development\"],[\"AI Systems Development\"],[\"AI Systems Development\"],[\"AI Systems Development\"],[\"AI Systems Development\"],[\"AI Systems Development\"],[\"AI Systems Development\"],[\"AI Systems Development\"],[\"AI Systems Development\"],[\"AI Systems Development\"],[\"AI Systems Development\"],[\"AI Systems Development\"],[\"AI Systems Development\"],[\"AI Systems Development\"],[\"AI Systems Development\"],[\"AI Systems Development\"],[\"AI Systems Development\"],[\"AI Systems Development\"],[\"AI Systems Development\"],[\"AI Systems Development\"],[\"AI Systems Development\"],[\"AI Systems Development\"],[\"AI Systems Development\"],[\"AI Systems Development\"],[\"AI Systems Development\"],[\"AI Systems Development\"],[\"AI Systems Development\"],[\"Social Media and Marketing Strategies\"],[\"Social Media and Marketing Strategies\"],[\"Social Media and Marketing Strategies\"],[\"Social Media and Marketing Strategies\"],[\"Social Media and Marketing Strategies\"],[\"Customer Data Analysis\"],[\"Customer Data Analysis\"],[\"Customer Data Analysis\"],[\"Customer Data Analysis\"],[\"Automated Business Systems\"],[\"Automated Business Systems\"],[\"Automated Business Systems\"],[\"Automated Business Systems\"],[\"Automated Business Systems\"],[\"Automated Business Systems\"],[\"Automated Business Systems\"],[\"Automated Business Systems\"],[\"Automated Business Systems\"],[\"Automated Business Systems\"],[\"Automated Business Systems\"],[\"Automated Business Systems\"],[\"Automated Business Systems\"],[\"Automated Business Systems\"],[\"Automated Business Systems\"],[\"Automated Business Systems\"],[\"Automated Business Systems\"],[\"Automated Business Systems\"],[\"Automated Business Systems\"],[\"Automated Business Systems\"],[\"Automated Business Systems\"],[\"Automated Business Systems\"],[\"Automated Business Systems\"],[\"Automated Business Systems\"],[\"Automated Business Systems\"],[\"Automated Business Systems\"],[\"Automated Business Systems\"],[\"Automated Business Systems\"],[\"Career Development Tools\"],[\"Career Development Tools\"],[\"Career Development Tools\"],[\"Career Development Tools\"],[\"Veterinary and Pet Care Technologies\"],[\"Veterinary and Pet Care Technologies\"],[\"Veterinary and Pet Care Technologies\"],[\"Legal and Technological Automation\"],[\"Legal and Technological Automation\"],[\"Legal and Technological Automation\"],[\"Legal and Technological Automation\"],[\"Legal and Technological Automation\"],[\"Legal and Technological Automation\"],[\"Legal and Technological Automation\"],[\"Data Insights and Analytics\"],[\"Data Insights and Analytics\"],[\"Data Insights and Analytics\"],[\"Data Insights and Analytics\"],[\"Data Insights and Analytics\"],[\"Data Insights and Analytics\"],[\"Social Media and Digital Insights\"],[\"Social Media and Digital Insights\"],[\"Social Media and Digital Insights\"],[\"Social Media and Digital Insights\"],[\"Social Media and Digital Insights\"],[\"Social Media and Digital Insights\"],[\"Social Media and Digital Insights\"],[\"Social Media and Digital Insights\"],[\"Social Media and Digital Insights\"],[\"Social Media and Digital Insights\"],[\"Social Media and Digital Insights\"],[\"Social Media and Digital Insights\"],[\"Travel Booking and Planning Systems\"],[\"Travel Booking and Planning Systems\"],[\"Travel Booking and Planning Systems\"],[\"Travel Booking and Planning Systems\"],[\"Travel Booking and Planning Systems\"],[\"Travel Booking and Planning Systems\"],[\"Travel Booking and Planning Systems\"],[\"Travel Booking and Planning Systems\"],[\"Real Estate Investment Analysis\"],[\"Real Estate Investment Analysis\"],[\"Real Estate Investment Analysis\"],[\"Real Estate Investment Analysis\"],[\"Real Estate Investment Analysis\"],[\"Real Estate Investment Analysis\"],[\"Real Estate Investment Analysis\"],[\"Real Estate Investment Analysis\"],[\"Real Estate Investment Analysis\"],[\"Financial Management Systems\"],[\"Financial Management Systems\"],[\"Financial Management Systems\"],[\"Financial Management Systems\"],[\"Financial Management Systems\"],[\"Financial Management Systems\"],[\"Financial Management Systems\"],[\"Financial Management Systems\"],[\"Financial Management Systems\"],[\"Financial Management Systems\"],[\"Financial Management Systems\"],[\"Financial Management Systems\"],[\"Financial Management Systems\"],[\"Financial Management Systems\"],[\"Financial Management Systems\"],[\"Financial Management Systems\"],[\"Financial Management Systems\"],[\"Data Management and Quality Control\"],[\"Data Management and Quality Control\"],[\"Data Management and Quality Control\"],[\"Data Management and Quality Control\"],[\"Data Management and Quality Control\"],[\"Data Management and Quality Control\"],[\"Data Management and Quality Control\"],[\"Data Management and Quality Control\"],[\"No-Code AI Platforms\"],[\"No-Code AI Platforms\"],[\"No-Code AI Platforms\"],[\"Healthcare Workflow Optimization\"],[\"Healthcare Workflow Optimization\"],[\"Healthcare Workflow Optimization\"],[\"Healthcare Workflow Optimization\"],[\"Healthcare Workflow Optimization\"],[\"Venture Capital and Financing\"],[\"Venture Capital and Financing\"],[\"Venture Capital and Financing\"],[\"Venture Capital and Financing\"],[\"Venture Capital and Financing\"],[\"Venture Capital and Financing\"],[\"Venture Capital and Financing\"],[\"Venture Capital and Financing\"],[\"Venture Capital and Financing\"],[\"Venture Capital and Financing\"],[\"Sustainability and Non-Profit Solutions\"],[\"Sustainability and Non-Profit Solutions\"],[\"Sustainability and Non-Profit Solutions\"],[\"Sustainability and Non-Profit Solutions\"],[\"Wellness and Sleep Health\"],[\"Wellness and Sleep Health\"],[\"Industrial Sales Automation\"],[\"Industrial Sales Automation\"],[\"Industrial Sales Automation\"],[\"Tax and Accounting Automation\"],[\"Tax and Accounting Automation\"],[\"Tax and Accounting Automation\"],[\"Sales and Marketing Outreach\"],[\"Sales and Marketing Outreach\"],[\"Sales and Marketing Outreach\"],[\"Sales and Marketing Outreach\"],[\"Sales and Marketing Outreach\"],[\"Sales and Marketing Outreach\"],[\"Sales and Marketing Outreach\"],[\"Sales and Marketing Outreach\"],[\"Sales and Marketing Outreach\"],[\"Sales and Marketing Outreach\"],[\"Sales and Marketing Outreach\"],[\"Image Enhancement Solutions\"],[\"Image Enhancement Solutions\"],[\"Image Enhancement Solutions\"],[\"Image Enhancement Solutions\"],[\"Image Enhancement Solutions\"],[\"Image Enhancement Solutions\"],[\"Image Enhancement Solutions\"],[\"Creative Content and Media Tools\"],[\"Creative Content and Media Tools\"],[\"Creative Content and Media Tools\"],[\"Creative Content and Media Tools\"],[\"Creative Content and Media Tools\"],[\"Creative Content and Media Tools\"],[\"Creative Content and Media Tools\"],[\"Home and Interior Design\"],[\"Home and Interior Design\"],[\"Home and Interior Design\"],[\"Home and Interior Design\"],[\"Mental Health and Therapy\"],[\"Mental Health and Therapy\"],[\"Mental Health and Therapy\"],[\"Mental Health and Therapy\"],[\"Market and Business Strategy\"],[\"Market and Business Strategy\"],[\"Market and Business Strategy\"],[\"Market and Business Strategy\"],[\"Animation and Visual Effects Tools\"],[\"Animation and Visual Effects Tools\"],[\"Animation and Visual Effects Tools\"],[\"Animation and Visual Effects Tools\"],[\"Animation and Visual Effects Tools\"],[\"Animation and Visual Effects Tools\"],[\"Animation and Visual Effects Tools\"],[\"Animation and Visual Effects Tools\"],[\"Animation and Visual Effects Tools\"],[\"Technical Writing and Proposals\"],[\"Technical Writing and Proposals\"],[\"Biotechnological Research\"],[\"Biotechnological Research\"],[\"Biotechnological Research\"],[\"Project and Team Management\"],[\"Project and Team Management\"],[\"Project and Team Management\"],[\"Project and Team Management\"],[\"Project and Team Management\"],[\"Project and Team Management\"],[\"Project and Team Management\"],[\"E-commerce Management\"],[\"E-commerce Management\"],[\"E-commerce Management\"],[\"E-commerce Management\"],[\"Industrial Sourcing Solutions\"],[\"Industrial Sourcing Solutions\"],[\"Industrial Sourcing Solutions\"],[\"Industrial Sourcing Solutions\"],[\"Decentralized Tech and Identity\"],[\"Decentralized Tech and Identity\"],[\"Decentralized Tech and Identity\"],[\"Decentralized Tech and Identity\"],[\"Client Management in Legal Services\"],[\"Client Management in Legal Services\"],[\"Social and Event Planning Tools\"],[\"Social and Event Planning Tools\"],[\"Social and Event Planning Tools\"],[\"Document Management Automation\"],[\"Document Management Automation\"],[\"Development Tools Automation\"],[\"Development Tools Automation\"],[\"Development Tools Automation\"],[\"Solutions for Industrial Automation\"],[\"Solutions for Industrial Automation\"],[\"Solutions for Industrial Automation\"],[\"Language and Speech Learning\"],[\"Language and Speech Learning\"],[\"Language and Speech Learning\"],[\"Insurance Management Services\"],[\"Insurance Management Services\"],[\"Personal Growth and Development\"],[\"Personal Growth and Development\"],[\"Personal Growth and Development\"],[\"High-Performance Computing Solutions\"],[\"High-Performance Computing Solutions\"],[\"High-Performance Computing Solutions\"]],\"hovertemplate\":\"x=%{x}<br>y=%{y}<br>generated_cluster_label=%{customdata[0]}<br>cluster=%{marker.color}<extra></extra>\",\"legendgroup\":\"\",\"marker\":{\"color\":[61,61,61,61,61,61,61,61,61,61,61,26,26,26,26,26,26,26,26,26,26,26,60,60,60,32,32,32,32,32,32,25,25,25,25,25,25,25,25,25,25,25,25,25,25,25,25,25,25,25,25,25,25,34,34,34,34,34,53,53,53,53,53,53,53,53,53,53,53,3,3,3,3,3,1,1,1,1,1,1,1,1,1,1,1,1,22,22,22,22,22,22,22,22,22,22,22,22,22,22,22,22,22,22,22,22,22,46,46,46,46,46,46,46,46,46,46,46,46,46,46,46,46,46,38,38,38,38,38,38,38,38,38,50,50,50,50,50,50,50,50,50,50,50,50,50,50,50,50,50,50,50,50,56,56,56,56,56,56,56,56,17,17,17,17,17,17,17,17,17,17,47,47,8,8,8,42,42,42,42,42,42,42,42,28,28,28,28,28,23,23,23,23,23,23,23,27,27,27,27,27,27,27,27,27,27,27,27,27,27,27,27,27,27,27,27,27,27,27,27,27,27,27,27,27,27,27,27,27,27,27,27,27,36,36,36,36,36,6,6,6,6,30,30,30,30,30,30,30,30,30,30,30,30,30,30,30,30,30,30,30,30,30,30,30,30,30,30,30,30,54,54,54,54,62,62,62,18,18,18,18,18,18,18,5,5,5,5,5,5,35,35,35,35,35,35,35,35,35,35,35,35,57,57,57,57,57,57,57,57,16,16,16,16,16,16,16,16,16,10,10,10,10,10,10,10,10,10,10,10,10,10,10,10,10,10,2,2,2,2,2,2,2,2,31,31,31,39,39,39,39,39,15,15,15,15,15,15,15,15,15,15,40,40,40,40,45,45,4,4,4,13,13,13,9,9,9,9,9,9,9,9,9,9,9,7,7,7,7,7,7,7,51,51,51,51,51,51,51,59,59,59,59,43,43,43,43,29,29,29,29,52,52,52,52,52,52,52,52,52,49,49,41,41,41,20,20,20,20,20,20,20,24,24,24,24,11,11,11,11,12,12,12,12,37,37,21,21,21,19,19,33,33,33,55,55,55,48,48,48,14,14,44,44,44,0,0,0],\"coloraxis\":\"coloraxis\",\"symbol\":\"circle\",\"size\":10},\"mode\":\"markers\",\"name\":\"\",\"orientation\":\"v\",\"showlegend\":false,\"x\":[29.3108,32.7656,36.283844,40.305325,38.634174,33.207363,36.468216,32.771862,35.929413,32.758083,38.028675,29.48219,5.8890743,25.04349,19.470633,15.775681,23.030712,20.91264,9.2518215,12.716685,14.506677,8.868575,6.6191416,1.1346492,4.4173098,0.56919,31.97322,-2.2847462,4.299385,23.098316,17.963991,14.427021,0.4836759,13.474791,2.7401197,17.860369,6.3065004,11.936035,-10.940445,8.776724,20.206028,16.6619,16.09536,5.814251,7.948504,-17.933125,15.561941,2.363412,11.426624,13.205989,1.7080535,6.4418015,14.146708,25.97038,27.013672,18.857325,25.984182,20.815317,-9.892617,15.62196,-7.746367,1.0641385,-3.0031695,-13.0574045,-4.50705,-8.835261,-2.5742006,-6.0895486,-1.4888626,-34.771698,-37.170406,-42.077866,-45.67133,-41.59874,-3.594943,-5.316316,-8.117537,-4.667055,-0.8797289,-6.539847,-10.883546,-12.626665,-0.955748,-4.8375835,-11.024157,2.1041012,-13.115412,6.867701,-2.275083,-11.076298,-12.4428215,5.8442163,0.29545772,0.3995703,-7.9874144,1.1930442,0.41650218,5.887965,0.8338908,-4.2327704,2.116811,-4.6450057,1.6669543,-8.597416,-10.0457115,-4.219278,-8.430157,25.147617,29.402088,28.767658,22.487724,5.953413,13.364331,19.188839,8.873487,28.157187,14.691897,36.856552,37.335793,-10.392645,14.605231,22.4814,21.795517,13.428395,15.8114,9.817062,9.692473,27.390331,22.854307,10.930303,11.197022,20.505663,14.645175,28.752443,45.182915,-18.105137,38.975857,9.37515,-35.221252,25.985905,10.28788,33.21744,44.84534,33.13906,-19.564066,43.288998,32.944855,35.413292,9.361667,30.94081,25.206194,-22.765554,10.221571,-41.795815,-36.767986,-7.099448,-36.49957,-10.391214,4.074886,-34.87101,-13.029707,-16.867176,-19.404192,-6.8002725,-9.3256855,-11.288168,-15.018913,-19.875553,-0.95924187,-5.6474323,-24.282993,30.72132,27.714146,-8.978063,-16.045517,-8.703181,36.462082,25.209227,22.981413,32.19354,24.059465,29.203856,31.365412,18.351797,8.407455,5.5238047,3.618751,9.505454,16.681265,-21.892921,-23.199022,-37.684196,-30.177725,-25.775925,-23.044588,-32.767242,5.8394933,3.5255203,12.056219,-4.1094995,-11.963306,20.171518,-3.9618766,-5.726506,-1.9265137,26.513569,-12.164454,-13.222577,7.75698,-8.196862,11.277853,-19.09899,11.678249,4.0387335,12.196812,4.84332,-18.878616,3.2616708,6.1676316,21.182255,-16.969448,4.552594,-3.407983,11.530001,-4.767167,-7.079986,-10.364544,-11.462362,11.213538,22.091816,24.84872,-0.15733828,-5.2263913,19.949986,23.055834,13.069132,18.348167,23.094038,-19.59798,-22.425514,-19.284342,-25.164118,-36.798042,-15.490251,-26.20846,0.6563135,-30.266924,-6.970276,-21.912697,-22.400616,-16.916155,-17.657799,14.968582,3.4124691,-27.559963,-8.132439,1.9867234,-21.163143,-21.611982,7.8663807,5.990319,-14.7199745,-18.503464,13.339702,-22.529432,-20.309961,-1.3127503,6.9538193,-8.232914,-24.341278,9.667843,8.632688,14.713308,14.929441,14.0010395,17.613964,-10.801769,2.2902856,-4.9876714,-4.4317727,-0.32549256,3.7547476,-2.3232367,-4.7091227,-27.594065,-14.721823,-32.030613,-23.197334,-26.327442,-30.583487,21.393858,33.432518,2.6780515,17.716537,29.464315,28.625996,9.926001,11.033408,-15.687951,24.917412,17.080776,34.43045,-3.4065287,-0.60683787,-8.559749,-2.4250376,-6.4774284,3.5269408,1.1470702,0.69998705,-13.465432,-19.166332,-13.030518,-13.697514,-20.920546,-19.507404,-12.530359,-14.766058,-17.826199,-31.359257,-39.57857,-15.333297,-35.31986,-30.93517,-19.379652,-43.183743,-43.11548,-25.582516,-30.750109,-33.952717,-31.484072,-28.487024,-36.113667,-24.60381,-19.798409,-20.76317,-21.147635,-37.625008,-32.457844,-27.579306,-26.166021,-27.729433,-25.380049,-22.58352,-3.120606,-0.7238578,-2.962627,7.994473,13.350235,4.139903,11.890683,16.113762,-28.956703,-37.740643,-28.439257,-32.945892,-27.757298,-33.101727,-32.484383,-32.942337,-26.80984,-27.961525,-20.931808,-19.749115,-13.198411,-16.200008,38.627796,35.781178,-30.661201,-36.129124,-31.746864,-49.789074,-37.0327,-43.602352,-24.579832,-19.711523,-24.015162,-17.392326,-12.081648,-22.524666,-23.39256,-23.434187,-18.05896,-33.49648,-14.173697,22.738699,17.146751,18.930124,17.322746,23.804457,17.894123,25.530128,23.080185,24.525158,16.450798,20.07831,18.4239,25.600565,17.533716,50.079655,46.86703,47.069237,48.44087,33.656406,25.876263,29.61573,26.124678,-8.161963,-26.370064,-31.94003,-20.51529,39.89608,35.38486,37.42449,43.252384,41.015038,40.150593,32.285526,33.487812,31.390146,-39.211494,-39.293446,-5.9556656,-8.830435,0.30722958,-7.1082625,2.272549,-16.850924,-7.483129,-12.895962,-7.7344294,-6.44853,-28.982061,-38.92732,14.682586,-29.376646,-47.229626,-44.80744,-40.02992,-42.52028,-2.429653,2.0447924,22.498362,-1.5628347,-7.7840557,-11.734207,40.738544,1.2109954,5.1812572,-25.037426,-28.012278,-11.450288,-15.056443,-3.497972,-28.641956,-14.919272,-19.470198,30.743614,24.53296,25.847013,-6.9092946,-1.9785465,14.357377,15.17202,16.73469,-6.0070257,-6.941677,-1.5996993],\"xaxis\":\"x\",\"y\":[11.304382,12.846806,4.147271,8.952854,12.812164,5.4195943,13.405261,12.953272,4.8592963,7.60863,18.218155,-15.188867,-2.4664104,-8.308278,-16.521217,-8.097771,-10.658967,-17.403698,2.2475982,1.2527306,-5.3338647,-9.06148,-11.066346,-11.679805,-1.9961796,3.4295,4.257958,-1.4289978,0.44555598,6.1240478,-0.28737506,-18.664738,-33.82494,-17.503624,-13.381293,-30.440228,-20.536133,-14.790814,24.868032,0.040570628,-22.41939,-28.95765,-26.852768,-26.67571,-21.66948,-22.671522,-5.5807996,-25.372143,-31.074203,-24.190935,-17.32353,-8.885024,-11.882066,-9.469079,-0.3405627,-5.9680634,-2.7774231,-0.0121357925,27.10849,15.133184,44.76794,31.64266,22.441095,40.63745,39.457108,36.09583,33.72627,37.977745,40.39411,2.3229036,1.545582,6.404585,-0.38127795,-5.230695,-45.249023,-51.15861,-37.651028,-38.43409,-41.51283,-47.35982,-45.262318,-39.024006,-45.268524,-32.201775,-47.32708,-38.790962,12.738297,9.806189,6.791524,-3.4463727,-3.0824122,1.9979383,6.5854526,0.09451841,1.0165371,6.2940435,14.843699,11.9252615,5.3782387,11.292525,12.13959,13.57932,7.8525867,4.368257,4.290817,-3.2031271,4.8778644,44.06994,33.59527,42.397747,33.046394,49.044846,26.280914,40.04058,42.64027,35.437496,-25.673296,28.14583,24.771107,25.375628,29.877028,30.072886,37.519882,34.11282,-28.181726,-19.50657,-27.764732,-29.507532,-35.75209,-18.939426,-12.738401,-32.593533,-39.019737,3.624566,3.806692,2.8144584,12.850838,-17.323362,-3.567764,13.221661,17.838388,5.694637,16.158566,19.960949,1.1487828,9.539038,6.2758536,15.484644,23.733654,12.976679,14.125199,6.7095165,11.957383,10.27109,17.45137,26.87358,13.930099,27.01765,23.190897,2.782449,26.959633,-33.63293,-30.246344,-12.017316,-32.16761,-19.789896,-39.74153,-30.380856,-7.246015,-16.274973,-36.804054,37.1776,31.884474,2.0737581,1.6078682,7.5700083,-15.005691,-28.257238,-25.374817,-25.430964,-17.375319,-22.271486,-32.704185,-24.843922,37.597878,43.78877,39.487408,43.54074,42.04126,17.059458,10.493801,29.936821,17.358795,10.618842,18.298618,9.514488,-10.425307,-21.190392,-6.3619375,-18.968056,-16.708351,-17.300264,-26.088058,-17.150507,-3.1093247,-23.497355,-11.595321,-21.370422,-32.615566,-9.436349,-40.330414,-13.892737,-27.015043,-28.510094,-13.785525,-9.098608,-20.92521,-25.90182,36.25312,-11.828483,-17.21459,-17.547325,-7.9837527,-34.857994,-21.3557,-17.308264,-2.1703186,-25.27704,-14.143533,-1.856149,-32.174377,-14.191121,-12.9251175,21.505196,15.468333,18.66198,15.073453,21.854872,8.800947,12.838998,-8.79523,-15.324336,25.327858,-4.8976927,21.49331,14.443729,-5.586845,19.502556,-8.364065,1.5303092,20.957195,-8.051043,3.840395,10.940358,31.09558,-23.211868,25.35431,26.404865,-5.0413885,9.954286,16.577623,-13.984356,27.280796,-2.8450546,33.849407,0.3497666,14.0266,-6.9524975,16.53987,20.778732,37.824554,28.59039,33.128906,32.55034,-36.122326,-39.45303,-8.558279,5.281803,9.346507,0.97016644,10.658192,4.2805777,-2.0521603,4.9275417,-30.058254,-31.34046,-21.644033,-26.145996,-18.624313,-25.666922,30.789038,-2.4173386,27.528929,7.342697,32.34163,31.916624,0.5157046,2.1980698,2.7430584,8.776569,12.857923,-7.000042,38.876934,36.712357,35.897057,31.605179,44.039192,36.92352,43.212463,34.87577,-6.109954,-12.862602,-10.6621275,-25.699453,-15.425551,-6.846829,-17.96117,-15.561209,-7.173698,-16.157963,-20.602045,-23.4987,-25.465263,-22.833935,-17.182432,-12.184039,-16.264133,-27.871058,-25.514875,-17.065413,-21.72435,-14.100293,-18.154587,-25.153135,-22.644785,-17.914158,-27.797958,-16.868195,-17.807793,-18.798079,-18.190561,-34.003952,-34.41972,-26.44588,-9.731494,-2.5943308,-31.440905,-27.080647,-33.60093,-34.73883,-26.97237,-24.57206,-1.08849,-0.42182457,-1.6113163,-8.75354,-10.014162,0.9674923,4.8342876,-8.722678,-8.004266,-15.782369,35.124123,40.859966,38.201202,38.853504,-16.361105,-21.380749,25.601059,17.681,19.362225,-11.092319,-9.943491,-10.164606,19.185497,19.801458,26.262629,22.777906,27.220633,33.02301,16.718786,25.741764,15.012616,28.62894,16.34736,6.893585,18.055668,0.3853753,8.615328,21.50189,12.743657,12.6772,0.50054336,4.792766,-1.3597579,19.764803,6.470729,7.6426196,10.992366,-0.597239,-3.9954824,-5.868504,-9.217374,-10.431987,-4.626163,-8.278089,-13.021636,5.584373,6.8310404,7.6951017,7.479418,-6.6660957,-10.449034,-5.3534894,1.5060303,1.2675894,-14.969634,-15.911264,-2.0241935,-11.857984,14.658262,17.40655,-15.01085,-6.945358,-12.581589,20.061874,18.45695,11.828312,13.025591,7.05523,13.479831,24.708826,3.2168818,11.77775,21.382883,10.331935,11.900699,6.7224455,8.003556,10.688623,-13.459517,-19.54431,-6.979829,-22.050133,14.226756,11.596207,-21.147984,25.412981,23.44477,-2.559242,0.534559,-40.392918,-37.312153,13.486692,-7.479527,-6.2948914,-8.338365,18.58615,23.107325,23.119934,-32.569763,-29.055923,15.730164,16.18527,8.645014,-26.786425,-29.363153,-28.649477],\"yaxis\":\"y\",\"type\":\"scatter\"}],                        {\"template\":{\"data\":{\"histogram2dcontour\":[{\"type\":\"histogram2dcontour\",\"colorbar\":{\"outlinewidth\":0,\"ticks\":\"\"},\"colorscale\":[[0.0,\"#0d0887\"],[0.1111111111111111,\"#46039f\"],[0.2222222222222222,\"#7201a8\"],[0.3333333333333333,\"#9c179e\"],[0.4444444444444444,\"#bd3786\"],[0.5555555555555556,\"#d8576b\"],[0.6666666666666666,\"#ed7953\"],[0.7777777777777778,\"#fb9f3a\"],[0.8888888888888888,\"#fdca26\"],[1.0,\"#f0f921\"]]}],\"choropleth\":[{\"type\":\"choropleth\",\"colorbar\":{\"outlinewidth\":0,\"ticks\":\"\"}}],\"histogram2d\":[{\"type\":\"histogram2d\",\"colorbar\":{\"outlinewidth\":0,\"ticks\":\"\"},\"colorscale\":[[0.0,\"#0d0887\"],[0.1111111111111111,\"#46039f\"],[0.2222222222222222,\"#7201a8\"],[0.3333333333333333,\"#9c179e\"],[0.4444444444444444,\"#bd3786\"],[0.5555555555555556,\"#d8576b\"],[0.6666666666666666,\"#ed7953\"],[0.7777777777777778,\"#fb9f3a\"],[0.8888888888888888,\"#fdca26\"],[1.0,\"#f0f921\"]]}],\"heatmap\":[{\"type\":\"heatmap\",\"colorbar\":{\"outlinewidth\":0,\"ticks\":\"\"},\"colorscale\":[[0.0,\"#0d0887\"],[0.1111111111111111,\"#46039f\"],[0.2222222222222222,\"#7201a8\"],[0.3333333333333333,\"#9c179e\"],[0.4444444444444444,\"#bd3786\"],[0.5555555555555556,\"#d8576b\"],[0.6666666666666666,\"#ed7953\"],[0.7777777777777778,\"#fb9f3a\"],[0.8888888888888888,\"#fdca26\"],[1.0,\"#f0f921\"]]}],\"heatmapgl\":[{\"type\":\"heatmapgl\",\"colorbar\":{\"outlinewidth\":0,\"ticks\":\"\"},\"colorscale\":[[0.0,\"#0d0887\"],[0.1111111111111111,\"#46039f\"],[0.2222222222222222,\"#7201a8\"],[0.3333333333333333,\"#9c179e\"],[0.4444444444444444,\"#bd3786\"],[0.5555555555555556,\"#d8576b\"],[0.6666666666666666,\"#ed7953\"],[0.7777777777777778,\"#fb9f3a\"],[0.8888888888888888,\"#fdca26\"],[1.0,\"#f0f921\"]]}],\"contourcarpet\":[{\"type\":\"contourcarpet\",\"colorbar\":{\"outlinewidth\":0,\"ticks\":\"\"}}],\"contour\":[{\"type\":\"contour\",\"colorbar\":{\"outlinewidth\":0,\"ticks\":\"\"},\"colorscale\":[[0.0,\"#0d0887\"],[0.1111111111111111,\"#46039f\"],[0.2222222222222222,\"#7201a8\"],[0.3333333333333333,\"#9c179e\"],[0.4444444444444444,\"#bd3786\"],[0.5555555555555556,\"#d8576b\"],[0.6666666666666666,\"#ed7953\"],[0.7777777777777778,\"#fb9f3a\"],[0.8888888888888888,\"#fdca26\"],[1.0,\"#f0f921\"]]}],\"surface\":[{\"type\":\"surface\",\"colorbar\":{\"outlinewidth\":0,\"ticks\":\"\"},\"colorscale\":[[0.0,\"#0d0887\"],[0.1111111111111111,\"#46039f\"],[0.2222222222222222,\"#7201a8\"],[0.3333333333333333,\"#9c179e\"],[0.4444444444444444,\"#bd3786\"],[0.5555555555555556,\"#d8576b\"],[0.6666666666666666,\"#ed7953\"],[0.7777777777777778,\"#fb9f3a\"],[0.8888888888888888,\"#fdca26\"],[1.0,\"#f0f921\"]]}],\"mesh3d\":[{\"type\":\"mesh3d\",\"colorbar\":{\"outlinewidth\":0,\"ticks\":\"\"}}],\"scatter\":[{\"fillpattern\":{\"fillmode\":\"overlay\",\"size\":10,\"solidity\":0.2},\"type\":\"scatter\"}],\"parcoords\":[{\"type\":\"parcoords\",\"line\":{\"colorbar\":{\"outlinewidth\":0,\"ticks\":\"\"}}}],\"scatterpolargl\":[{\"type\":\"scatterpolargl\",\"marker\":{\"colorbar\":{\"outlinewidth\":0,\"ticks\":\"\"}}}],\"bar\":[{\"error_x\":{\"color\":\"#2a3f5f\"},\"error_y\":{\"color\":\"#2a3f5f\"},\"marker\":{\"line\":{\"color\":\"#E5ECF6\",\"width\":0.5},\"pattern\":{\"fillmode\":\"overlay\",\"size\":10,\"solidity\":0.2}},\"type\":\"bar\"}],\"scattergeo\":[{\"type\":\"scattergeo\",\"marker\":{\"colorbar\":{\"outlinewidth\":0,\"ticks\":\"\"}}}],\"scatterpolar\":[{\"type\":\"scatterpolar\",\"marker\":{\"colorbar\":{\"outlinewidth\":0,\"ticks\":\"\"}}}],\"histogram\":[{\"marker\":{\"pattern\":{\"fillmode\":\"overlay\",\"size\":10,\"solidity\":0.2}},\"type\":\"histogram\"}],\"scattergl\":[{\"type\":\"scattergl\",\"marker\":{\"colorbar\":{\"outlinewidth\":0,\"ticks\":\"\"}}}],\"scatter3d\":[{\"type\":\"scatter3d\",\"line\":{\"colorbar\":{\"outlinewidth\":0,\"ticks\":\"\"}},\"marker\":{\"colorbar\":{\"outlinewidth\":0,\"ticks\":\"\"}}}],\"scattermapbox\":[{\"type\":\"scattermapbox\",\"marker\":{\"colorbar\":{\"outlinewidth\":0,\"ticks\":\"\"}}}],\"scatterternary\":[{\"type\":\"scatterternary\",\"marker\":{\"colorbar\":{\"outlinewidth\":0,\"ticks\":\"\"}}}],\"scattercarpet\":[{\"type\":\"scattercarpet\",\"marker\":{\"colorbar\":{\"outlinewidth\":0,\"ticks\":\"\"}}}],\"carpet\":[{\"aaxis\":{\"endlinecolor\":\"#2a3f5f\",\"gridcolor\":\"white\",\"linecolor\":\"white\",\"minorgridcolor\":\"white\",\"startlinecolor\":\"#2a3f5f\"},\"baxis\":{\"endlinecolor\":\"#2a3f5f\",\"gridcolor\":\"white\",\"linecolor\":\"white\",\"minorgridcolor\":\"white\",\"startlinecolor\":\"#2a3f5f\"},\"type\":\"carpet\"}],\"table\":[{\"cells\":{\"fill\":{\"color\":\"#EBF0F8\"},\"line\":{\"color\":\"white\"}},\"header\":{\"fill\":{\"color\":\"#C8D4E3\"},\"line\":{\"color\":\"white\"}},\"type\":\"table\"}],\"barpolar\":[{\"marker\":{\"line\":{\"color\":\"#E5ECF6\",\"width\":0.5},\"pattern\":{\"fillmode\":\"overlay\",\"size\":10,\"solidity\":0.2}},\"type\":\"barpolar\"}],\"pie\":[{\"automargin\":true,\"type\":\"pie\"}]},\"layout\":{\"autotypenumbers\":\"strict\",\"colorway\":[\"#636efa\",\"#EF553B\",\"#00cc96\",\"#ab63fa\",\"#FFA15A\",\"#19d3f3\",\"#FF6692\",\"#B6E880\",\"#FF97FF\",\"#FECB52\"],\"font\":{\"color\":\"#2a3f5f\"},\"hovermode\":\"closest\",\"hoverlabel\":{\"align\":\"left\"},\"paper_bgcolor\":\"white\",\"plot_bgcolor\":\"#E5ECF6\",\"polar\":{\"bgcolor\":\"#E5ECF6\",\"angularaxis\":{\"gridcolor\":\"white\",\"linecolor\":\"white\",\"ticks\":\"\"},\"radialaxis\":{\"gridcolor\":\"white\",\"linecolor\":\"white\",\"ticks\":\"\"}},\"ternary\":{\"bgcolor\":\"#E5ECF6\",\"aaxis\":{\"gridcolor\":\"white\",\"linecolor\":\"white\",\"ticks\":\"\"},\"baxis\":{\"gridcolor\":\"white\",\"linecolor\":\"white\",\"ticks\":\"\"},\"caxis\":{\"gridcolor\":\"white\",\"linecolor\":\"white\",\"ticks\":\"\"}},\"coloraxis\":{\"colorbar\":{\"outlinewidth\":0,\"ticks\":\"\"}},\"colorscale\":{\"sequential\":[[0.0,\"#0d0887\"],[0.1111111111111111,\"#46039f\"],[0.2222222222222222,\"#7201a8\"],[0.3333333333333333,\"#9c179e\"],[0.4444444444444444,\"#bd3786\"],[0.5555555555555556,\"#d8576b\"],[0.6666666666666666,\"#ed7953\"],[0.7777777777777778,\"#fb9f3a\"],[0.8888888888888888,\"#fdca26\"],[1.0,\"#f0f921\"]],\"sequentialminus\":[[0.0,\"#0d0887\"],[0.1111111111111111,\"#46039f\"],[0.2222222222222222,\"#7201a8\"],[0.3333333333333333,\"#9c179e\"],[0.4444444444444444,\"#bd3786\"],[0.5555555555555556,\"#d8576b\"],[0.6666666666666666,\"#ed7953\"],[0.7777777777777778,\"#fb9f3a\"],[0.8888888888888888,\"#fdca26\"],[1.0,\"#f0f921\"]],\"diverging\":[[0,\"#8e0152\"],[0.1,\"#c51b7d\"],[0.2,\"#de77ae\"],[0.3,\"#f1b6da\"],[0.4,\"#fde0ef\"],[0.5,\"#f7f7f7\"],[0.6,\"#e6f5d0\"],[0.7,\"#b8e186\"],[0.8,\"#7fbc41\"],[0.9,\"#4d9221\"],[1,\"#276419\"]]},\"xaxis\":{\"gridcolor\":\"white\",\"linecolor\":\"white\",\"ticks\":\"\",\"title\":{\"standoff\":15},\"zerolinecolor\":\"white\",\"automargin\":true,\"zerolinewidth\":2},\"yaxis\":{\"gridcolor\":\"white\",\"linecolor\":\"white\",\"ticks\":\"\",\"title\":{\"standoff\":15},\"zerolinecolor\":\"white\",\"automargin\":true,\"zerolinewidth\":2},\"scene\":{\"xaxis\":{\"backgroundcolor\":\"#E5ECF6\",\"gridcolor\":\"white\",\"linecolor\":\"white\",\"showbackground\":true,\"ticks\":\"\",\"zerolinecolor\":\"white\",\"gridwidth\":2},\"yaxis\":{\"backgroundcolor\":\"#E5ECF6\",\"gridcolor\":\"white\",\"linecolor\":\"white\",\"showbackground\":true,\"ticks\":\"\",\"zerolinecolor\":\"white\",\"gridwidth\":2},\"zaxis\":{\"backgroundcolor\":\"#E5ECF6\",\"gridcolor\":\"white\",\"linecolor\":\"white\",\"showbackground\":true,\"ticks\":\"\",\"zerolinecolor\":\"white\",\"gridwidth\":2}},\"shapedefaults\":{\"line\":{\"color\":\"#2a3f5f\"}},\"annotationdefaults\":{\"arrowcolor\":\"#2a3f5f\",\"arrowhead\":0,\"arrowwidth\":1},\"geo\":{\"bgcolor\":\"white\",\"landcolor\":\"#E5ECF6\",\"subunitcolor\":\"white\",\"showland\":true,\"showlakes\":true,\"lakecolor\":\"white\"},\"title\":{\"x\":0.05},\"mapbox\":{\"style\":\"light\"}}},\"xaxis\":{\"anchor\":\"y\",\"domain\":[0.0,1.0],\"title\":{\"text\":\"x\"}},\"yaxis\":{\"anchor\":\"x\",\"domain\":[0.0,1.0],\"title\":{\"text\":\"y\"}},\"coloraxis\":{\"colorbar\":{\"title\":{\"text\":\"cluster\"}},\"colorscale\":[[0.0,\"rgb(0, 147, 146)\"],[0.16666666666666666,\"rgb(114, 170, 161)\"],[0.3333333333333333,\"rgb(177, 199, 179)\"],[0.5,\"rgb(241, 234, 200)\"],[0.6666666666666666,\"rgb(229, 185, 173)\"],[0.8333333333333334,\"rgb(217, 137, 148)\"],[1.0,\"rgb(208, 88, 126)\"]]},\"legend\":{\"tracegroupgap\":0},\"margin\":{\"t\":60},\"title\":{\"text\":\"2D Visualization of Embeddings with Clusters and 468 startups\"},\"hovermode\":\"closest\",\"width\":1000,\"height\":600},                        {\"responsive\": true}                    ).then(function(){\n",
       "                            \n",
       "var gd = document.getElementById('c751ca40-407a-45e6-8bed-242b354e2beb');\n",
       "var x = new MutationObserver(function (mutations, observer) {{\n",
       "        var display = window.getComputedStyle(gd).display;\n",
       "        if (!display || display === 'none') {{\n",
       "            console.log([gd, 'removed!']);\n",
       "            Plotly.purge(gd);\n",
       "            observer.disconnect();\n",
       "        }}\n",
       "}});\n",
       "\n",
       "// Listen for the removal of the full notebook cells\n",
       "var notebookContainer = gd.closest('#notebook-container');\n",
       "if (notebookContainer) {{\n",
       "    x.observe(notebookContainer, {childList: true});\n",
       "}}\n",
       "\n",
       "// Listen for the clearing of the current output cell\n",
       "var outputEl = gd.closest('.output');\n",
       "if (outputEl) {{\n",
       "    x.observe(outputEl, {childList: true});\n",
       "}}\n",
       "\n",
       "                        })                };                });            </script>        </div>"
      ]
     },
     "metadata": {},
     "output_type": "display_data"
    }
   ],
   "source": [
    "from sklearn.manifold import TSNE\n",
    "import matplotlib.pyplot as plt\n",
    "import seaborn as sns\n",
    "from mpl_toolkits.mplot3d import Axes3D  # for 3D plotting\n",
    "import plotly.express as px\n",
    "\n",
    "# Assuming 'sample_df' contains a column 'openai_embedding_entire' with appropriate data\n",
    "embeddings = np.vstack(sample_df['openai_embedding_entire'].values)\n",
    "\n",
    "# Apply t-SNE to the embeddings with 3 components for 3D visualization\n",
    "tsne = TSNE(n_components=3, perplexity=100, n_iter=1000)\n",
    "tsne_results = tsne.fit_transform(embeddings)\n",
    "\n",
    "# Prepare DataFrame for Plotly\n",
    "plot_df = pd.DataFrame(tsne_results[:, [0,1]], columns=['x', 'y'])\n",
    "plot_df['cluster'] =sample_df[\"new_cluster_index\"]\n",
    "plot_df['generated_cluster_label'] = sample_df[\"generated_cluster_label\"] #+ \" XX \" + sample_df['Tasks/Jobs']\n",
    "# Plot using Plotly with clusters\n",
    "fig = px.scatter(plot_df, x='x', y='y',\n",
    "                 color='cluster',\n",
    "                 color_continuous_scale=px.colors.diverging.Tealrose,\n",
    "                 hover_data=['generated_cluster_label'])\n",
    "fig.update_traces(marker_size=10)\n",
    "fig.update_layout(\n",
    "    title=f\"2D Visualization of Embeddings with Clusters and {len(sample_df)} startups\", \n",
    "    hovermode='closest',\n",
    "    width=1000,  # Set the width of the figure\n",
    "    height=600  # Set the height of the figure\n",
    ")\n",
    "fig.show()\n",
    "\n",
    "# Prepare DataFrame for Plotly\n",
    "plot_df = pd.DataFrame(tsne_results[:, [0,2]], columns=['x', 'y'])\n",
    "plot_df['cluster'] =sample_df[\"new_cluster_index\"]\n",
    "plot_df['generated_cluster_label'] = sample_df[\"generated_cluster_label\"] #+ \" XX \" + sample_df['Tasks/Jobs']\n",
    "# Plot using Plotly with clusters\n",
    "fig = px.scatter(plot_df, x='x', y='y',\n",
    "                 color='cluster',\n",
    "                 color_continuous_scale=px.colors.diverging.Tealrose,\n",
    "                 hover_data=['generated_cluster_label'])\n",
    "fig.update_traces(marker_size=10)\n",
    "fig.update_layout(\n",
    "    title=f\"2D Visualization of Embeddings with Clusters and {len(sample_df)} startups\", \n",
    "    hovermode='closest',\n",
    "    width=1000,  # Set the width of the figure\n",
    "    height=600  # Set the height of the figure\n",
    ")\n",
    "fig.show()\n",
    "\n",
    "\n",
    "# Prepare DataFrame for Plotly\n",
    "plot_df = pd.DataFrame(tsne_results[:, [1,2]], columns=['x', 'y'])\n",
    "plot_df['cluster'] =sample_df[\"new_cluster_index\"]\n",
    "plot_df['generated_cluster_label'] = sample_df[\"generated_cluster_label\"] #+ \" XX \" + sample_df['Tasks/Jobs']\n",
    "# Plot using Plotly with clusters\n",
    "fig = px.scatter(plot_df, x='x', y='y',\n",
    "                 color='cluster',\n",
    "                 color_continuous_scale=px.colors.diverging.Tealrose,\n",
    "                 hover_data=['generated_cluster_label'])\n",
    "fig.update_traces(marker_size=10)\n",
    "fig.update_layout(\n",
    "    title=f\"2D Visualization of Embeddings with Clusters and {len(sample_df)} startups\", \n",
    "    hovermode='closest',\n",
    "    width=1000,  # Set the width of the figure\n",
    "    height=600  # Set the height of the figure\n",
    ")\n",
    "fig.show()"
   ]
  },
  {
   "cell_type": "code",
   "execution_count": 108,
   "id": "99ea5862-3245-448b-b8a3-4a3c54dc5429",
   "metadata": {},
   "outputs": [
    {
     "data": {
      "text/plain": [
       "array(['Music and Audio Production Tools', 'AI Toolset for Developers',\n",
       "       'Construction and Workflow Automation',\n",
       "       'Web Development and AI tools', 'AI Research and Development',\n",
       "       'Tech and Blockchain News', 'HR and Recruitment Automation',\n",
       "       'Retail Supply Chain Management',\n",
       "       'Advanced Cybersecurity Solutions',\n",
       "       'Mobile and Software Development Technologies',\n",
       "       'Educational Technologies and Learning Platforms',\n",
       "       'Healthcare Data Management Systems', 'Creative Business Tools',\n",
       "       'Restaurant and Hospitality Services',\n",
       "       'Regulatory Compliance and Risk Management',\n",
       "       'Gamification in Education', 'Marketing Data Analytics',\n",
       "       'Personalized Wellness Programs', 'AI-Driven Business Strategies',\n",
       "       'E-commerce and Retail Strategies', 'AI Systems Development',\n",
       "       'Social Media and Marketing Strategies', 'Customer Data Analysis',\n",
       "       'Automated Business Systems', 'Career Development Tools',\n",
       "       'Veterinary and Pet Care Technologies',\n",
       "       'Legal and Technological Automation',\n",
       "       'Data Insights and Analytics', 'Social Media and Digital Insights',\n",
       "       'Travel Booking and Planning Systems',\n",
       "       'Real Estate Investment Analysis', 'Financial Management Systems',\n",
       "       'Data Management and Quality Control', 'No-Code AI Platforms',\n",
       "       'Healthcare Workflow Optimization',\n",
       "       'Venture Capital and Financing',\n",
       "       'Sustainability and Non-Profit Solutions',\n",
       "       'Wellness and Sleep Health', 'Industrial Sales Automation',\n",
       "       'Tax and Accounting Automation', 'Sales and Marketing Outreach',\n",
       "       'Image Enhancement Solutions', 'Creative Content and Media Tools',\n",
       "       'Home and Interior Design', 'Mental Health and Therapy',\n",
       "       'Market and Business Strategy',\n",
       "       'Animation and Visual Effects Tools',\n",
       "       'Technical Writing and Proposals', 'Biotechnological Research',\n",
       "       'Project and Team Management', 'E-commerce Management',\n",
       "       'Industrial Sourcing Solutions', 'Decentralized Tech and Identity',\n",
       "       'Client Management in Legal Services',\n",
       "       'Social and Event Planning Tools',\n",
       "       'Document Management Automation', 'Development Tools Automation',\n",
       "       'Solutions for Industrial Automation',\n",
       "       'Language and Speech Learning', 'Insurance Management Services',\n",
       "       'Personal Growth and Development',\n",
       "       'High-Performance Computing Solutions'], dtype=object)"
      ]
     },
     "execution_count": 108,
     "metadata": {},
     "output_type": "execute_result"
    }
   ],
   "source": [
    "fig.write_html(\"startups2.html\")\n",
    "\n",
    "sample_df['generated_cluster_label'].unique()"
   ]
  },
  {
   "cell_type": "code",
   "execution_count": 115,
   "id": "01264e08-d621-4c72-aafc-b962fd2bb068",
   "metadata": {},
   "outputs": [
    {
     "data": {
      "text/html": [
       "<div>\n",
       "<style scoped>\n",
       "    .dataframe tbody tr th:only-of-type {\n",
       "        vertical-align: middle;\n",
       "    }\n",
       "\n",
       "    .dataframe tbody tr th {\n",
       "        vertical-align: top;\n",
       "    }\n",
       "\n",
       "    .dataframe thead th {\n",
       "        text-align: right;\n",
       "    }\n",
       "</style>\n",
       "<table border=\"1\" class=\"dataframe\">\n",
       "  <thead>\n",
       "    <tr style=\"text-align: right;\">\n",
       "      <th></th>\n",
       "      <th>Unnamed: 0</th>\n",
       "      <th>organization name</th>\n",
       "      <th>num employees</th>\n",
       "      <th>founded date</th>\n",
       "      <th>description</th>\n",
       "      <th>industries</th>\n",
       "      <th>headquarters location</th>\n",
       "      <th>description.1</th>\n",
       "      <th>cb rank</th>\n",
       "      <th>postal code</th>\n",
       "      <th>...</th>\n",
       "      <th>parsed_description</th>\n",
       "      <th>Tasks/Jobs</th>\n",
       "      <th>Industry</th>\n",
       "      <th>People Using Tool</th>\n",
       "      <th>openai_embedding_entire</th>\n",
       "      <th>cluster_label</th>\n",
       "      <th>generated_cluster_label</th>\n",
       "      <th>openai_embedding_industry</th>\n",
       "      <th>new_cluster_index</th>\n",
       "      <th>task_list</th>\n",
       "    </tr>\n",
       "  </thead>\n",
       "  <tbody>\n",
       "    <tr>\n",
       "      <th>0</th>\n",
       "      <td>0</td>\n",
       "      <td>Semilla Co. (Flou / Seed Academy)</td>\n",
       "      <td>1-10</td>\n",
       "      <td>2023-02-01</td>\n",
       "      <td>Semilla Co. (\"Seed\") is building the future of...</td>\n",
       "      <td>Consumer Software, Content Creators, EdTech, L...</td>\n",
       "      <td>Fort Lauderdale, Florida, United States</td>\n",
       "      <td>Building the future of the music and entertain...</td>\n",
       "      <td>43,978</td>\n",
       "      <td>33316</td>\n",
       "      <td>...</td>\n",
       "      <td>\\nTasks/Jobs: Music Business Management, Marke...</td>\n",
       "      <td>Music Business Management, Marketing, Business...</td>\n",
       "      <td>Music Industry</td>\n",
       "      <td>Music Creators, Entrepreneurs</td>\n",
       "      <td>[-0.004338318016380072, -0.021966977044939995,...</td>\n",
       "      <td>33</td>\n",
       "      <td>Music and Audio Production Tools</td>\n",
       "      <td>[0.026692301034927368, 0.013956104405224323, -...</td>\n",
       "      <td>61</td>\n",
       "      <td>Music Business Management</td>\n",
       "    </tr>\n",
       "    <tr>\n",
       "      <th>0</th>\n",
       "      <td>0</td>\n",
       "      <td>Semilla Co. (Flou / Seed Academy)</td>\n",
       "      <td>1-10</td>\n",
       "      <td>2023-02-01</td>\n",
       "      <td>Semilla Co. (\"Seed\") is building the future of...</td>\n",
       "      <td>Consumer Software, Content Creators, EdTech, L...</td>\n",
       "      <td>Fort Lauderdale, Florida, United States</td>\n",
       "      <td>Building the future of the music and entertain...</td>\n",
       "      <td>43,978</td>\n",
       "      <td>33316</td>\n",
       "      <td>...</td>\n",
       "      <td>\\nTasks/Jobs: Music Business Management, Marke...</td>\n",
       "      <td>Music Business Management, Marketing, Business...</td>\n",
       "      <td>Music Industry</td>\n",
       "      <td>Music Creators, Entrepreneurs</td>\n",
       "      <td>[-0.004338318016380072, -0.021966977044939995,...</td>\n",
       "      <td>33</td>\n",
       "      <td>Music and Audio Production Tools</td>\n",
       "      <td>[0.026692301034927368, 0.013956104405224323, -...</td>\n",
       "      <td>61</td>\n",
       "      <td>Marketing</td>\n",
       "    </tr>\n",
       "    <tr>\n",
       "      <th>0</th>\n",
       "      <td>0</td>\n",
       "      <td>Semilla Co. (Flou / Seed Academy)</td>\n",
       "      <td>1-10</td>\n",
       "      <td>2023-02-01</td>\n",
       "      <td>Semilla Co. (\"Seed\") is building the future of...</td>\n",
       "      <td>Consumer Software, Content Creators, EdTech, L...</td>\n",
       "      <td>Fort Lauderdale, Florida, United States</td>\n",
       "      <td>Building the future of the music and entertain...</td>\n",
       "      <td>43,978</td>\n",
       "      <td>33316</td>\n",
       "      <td>...</td>\n",
       "      <td>\\nTasks/Jobs: Music Business Management, Marke...</td>\n",
       "      <td>Music Business Management, Marketing, Business...</td>\n",
       "      <td>Music Industry</td>\n",
       "      <td>Music Creators, Entrepreneurs</td>\n",
       "      <td>[-0.004338318016380072, -0.021966977044939995,...</td>\n",
       "      <td>33</td>\n",
       "      <td>Music and Audio Production Tools</td>\n",
       "      <td>[0.026692301034927368, 0.013956104405224323, -...</td>\n",
       "      <td>61</td>\n",
       "      <td>Business Strategy</td>\n",
       "    </tr>\n",
       "    <tr>\n",
       "      <th>0</th>\n",
       "      <td>0</td>\n",
       "      <td>Semilla Co. (Flou / Seed Academy)</td>\n",
       "      <td>1-10</td>\n",
       "      <td>2023-02-01</td>\n",
       "      <td>Semilla Co. (\"Seed\") is building the future of...</td>\n",
       "      <td>Consumer Software, Content Creators, EdTech, L...</td>\n",
       "      <td>Fort Lauderdale, Florida, United States</td>\n",
       "      <td>Building the future of the music and entertain...</td>\n",
       "      <td>43,978</td>\n",
       "      <td>33316</td>\n",
       "      <td>...</td>\n",
       "      <td>\\nTasks/Jobs: Music Business Management, Marke...</td>\n",
       "      <td>Music Business Management, Marketing, Business...</td>\n",
       "      <td>Music Industry</td>\n",
       "      <td>Music Creators, Entrepreneurs</td>\n",
       "      <td>[-0.004338318016380072, -0.021966977044939995,...</td>\n",
       "      <td>33</td>\n",
       "      <td>Music and Audio Production Tools</td>\n",
       "      <td>[0.026692301034927368, 0.013956104405224323, -...</td>\n",
       "      <td>61</td>\n",
       "      <td>Music Production</td>\n",
       "    </tr>\n",
       "    <tr>\n",
       "      <th>1</th>\n",
       "      <td>1</td>\n",
       "      <td>NaijaBuzz300</td>\n",
       "      <td>1-10</td>\n",
       "      <td>2024-03-03</td>\n",
       "      <td>NaijaBuzz300's AI content tools helps artists ...</td>\n",
       "      <td>Marketing</td>\n",
       "      <td>Kaduna, Kaduna, Nigeria</td>\n",
       "      <td>Helping artists grow &amp; scale up their music ca...</td>\n",
       "      <td>—</td>\n",
       "      <td>902101</td>\n",
       "      <td>...</td>\n",
       "      <td>\\nTasks/Jobs: Music production, Songwriting, M...</td>\n",
       "      <td>Music production, Songwriting, Marketing, Prom...</td>\n",
       "      <td>Music</td>\n",
       "      <td>Musicians, Labels, Promoters</td>\n",
       "      <td>[-0.006098032463341951, -0.021988358348608017,...</td>\n",
       "      <td>33</td>\n",
       "      <td>Music and Audio Production Tools</td>\n",
       "      <td>[0.018011273816227913, -0.006110658403486013, ...</td>\n",
       "      <td>61</td>\n",
       "      <td>Music production</td>\n",
       "    </tr>\n",
       "    <tr>\n",
       "      <th>...</th>\n",
       "      <td>...</td>\n",
       "      <td>...</td>\n",
       "      <td>...</td>\n",
       "      <td>...</td>\n",
       "      <td>...</td>\n",
       "      <td>...</td>\n",
       "      <td>...</td>\n",
       "      <td>...</td>\n",
       "      <td>...</td>\n",
       "      <td>...</td>\n",
       "      <td>...</td>\n",
       "      <td>...</td>\n",
       "      <td>...</td>\n",
       "      <td>...</td>\n",
       "      <td>...</td>\n",
       "      <td>...</td>\n",
       "      <td>...</td>\n",
       "      <td>...</td>\n",
       "      <td>...</td>\n",
       "      <td>...</td>\n",
       "      <td>...</td>\n",
       "    </tr>\n",
       "    <tr>\n",
       "      <th>466</th>\n",
       "      <td>466</td>\n",
       "      <td>Localportal</td>\n",
       "      <td>1-10</td>\n",
       "      <td>2024-04-07</td>\n",
       "      <td>Localportal is the first pseudo operating syst...</td>\n",
       "      <td>Artificial Intelligence (AI), Cloud Computing,...</td>\n",
       "      <td>—</td>\n",
       "      <td>Localportal revolutionizes access to remote co...</td>\n",
       "      <td>—</td>\n",
       "      <td>—</td>\n",
       "      <td>...</td>\n",
       "      <td>\\nTasks/Jobs: Remote access management, GPU re...</td>\n",
       "      <td>Remote access management, GPU resource allocat...</td>\n",
       "      <td>Remote computing</td>\n",
       "      <td>Developers, Researchers, Data scientists</td>\n",
       "      <td>[-0.03364584222435951, 0.0008783882367424667, ...</td>\n",
       "      <td>83</td>\n",
       "      <td>High-Performance Computing Solutions</td>\n",
       "      <td>[-0.02788754366338253, -0.01972130499780178, -...</td>\n",
       "      <td>0</td>\n",
       "      <td>Application deployment</td>\n",
       "    </tr>\n",
       "    <tr>\n",
       "      <th>467</th>\n",
       "      <td>467</td>\n",
       "      <td>Thunder</td>\n",
       "      <td>1-10</td>\n",
       "      <td>2024-02-02</td>\n",
       "      <td>Thunder is a Cloud computing to democratize ac...</td>\n",
       "      <td>Artificial Intelligence (AI), Cloud Computing,...</td>\n",
       "      <td>Lewes, Delaware, United States</td>\n",
       "      <td>Thunder is a Cloud computing to democratize ac...</td>\n",
       "      <td>—</td>\n",
       "      <td>19958</td>\n",
       "      <td>...</td>\n",
       "      <td>\\nTasks/Jobs: GPU resource allocation, Access ...</td>\n",
       "      <td>GPU resource allocation, Access to unused GPUs...</td>\n",
       "      <td>Cloud Computing</td>\n",
       "      <td>Developers, Researchers, Data Scientists</td>\n",
       "      <td>[-0.024437395855784416, -0.010938230901956558,...</td>\n",
       "      <td>83</td>\n",
       "      <td>High-Performance Computing Solutions</td>\n",
       "      <td>[-0.036061789840459824, -0.002979475539177656,...</td>\n",
       "      <td>0</td>\n",
       "      <td>GPU resource allocation</td>\n",
       "    </tr>\n",
       "    <tr>\n",
       "      <th>467</th>\n",
       "      <td>467</td>\n",
       "      <td>Thunder</td>\n",
       "      <td>1-10</td>\n",
       "      <td>2024-02-02</td>\n",
       "      <td>Thunder is a Cloud computing to democratize ac...</td>\n",
       "      <td>Artificial Intelligence (AI), Cloud Computing,...</td>\n",
       "      <td>Lewes, Delaware, United States</td>\n",
       "      <td>Thunder is a Cloud computing to democratize ac...</td>\n",
       "      <td>—</td>\n",
       "      <td>19958</td>\n",
       "      <td>...</td>\n",
       "      <td>\\nTasks/Jobs: GPU resource allocation, Access ...</td>\n",
       "      <td>GPU resource allocation, Access to unused GPUs...</td>\n",
       "      <td>Cloud Computing</td>\n",
       "      <td>Developers, Researchers, Data Scientists</td>\n",
       "      <td>[-0.024437395855784416, -0.010938230901956558,...</td>\n",
       "      <td>83</td>\n",
       "      <td>High-Performance Computing Solutions</td>\n",
       "      <td>[-0.036061789840459824, -0.002979475539177656,...</td>\n",
       "      <td>0</td>\n",
       "      <td>Access to unused GPUs</td>\n",
       "    </tr>\n",
       "    <tr>\n",
       "      <th>467</th>\n",
       "      <td>467</td>\n",
       "      <td>Thunder</td>\n",
       "      <td>1-10</td>\n",
       "      <td>2024-02-02</td>\n",
       "      <td>Thunder is a Cloud computing to democratize ac...</td>\n",
       "      <td>Artificial Intelligence (AI), Cloud Computing,...</td>\n",
       "      <td>Lewes, Delaware, United States</td>\n",
       "      <td>Thunder is a Cloud computing to democratize ac...</td>\n",
       "      <td>—</td>\n",
       "      <td>19958</td>\n",
       "      <td>...</td>\n",
       "      <td>\\nTasks/Jobs: GPU resource allocation, Access ...</td>\n",
       "      <td>GPU resource allocation, Access to unused GPUs...</td>\n",
       "      <td>Cloud Computing</td>\n",
       "      <td>Developers, Researchers, Data Scientists</td>\n",
       "      <td>[-0.024437395855784416, -0.010938230901956558,...</td>\n",
       "      <td>83</td>\n",
       "      <td>High-Performance Computing Solutions</td>\n",
       "      <td>[-0.036061789840459824, -0.002979475539177656,...</td>\n",
       "      <td>0</td>\n",
       "      <td>Distributed computing tasks</td>\n",
       "    </tr>\n",
       "    <tr>\n",
       "      <th>467</th>\n",
       "      <td>467</td>\n",
       "      <td>Thunder</td>\n",
       "      <td>1-10</td>\n",
       "      <td>2024-02-02</td>\n",
       "      <td>Thunder is a Cloud computing to democratize ac...</td>\n",
       "      <td>Artificial Intelligence (AI), Cloud Computing,...</td>\n",
       "      <td>Lewes, Delaware, United States</td>\n",
       "      <td>Thunder is a Cloud computing to democratize ac...</td>\n",
       "      <td>—</td>\n",
       "      <td>19958</td>\n",
       "      <td>...</td>\n",
       "      <td>\\nTasks/Jobs: GPU resource allocation, Access ...</td>\n",
       "      <td>GPU resource allocation, Access to unused GPUs...</td>\n",
       "      <td>Cloud Computing</td>\n",
       "      <td>Developers, Researchers, Data Scientists</td>\n",
       "      <td>[-0.024437395855784416, -0.010938230901956558,...</td>\n",
       "      <td>83</td>\n",
       "      <td>High-Performance Computing Solutions</td>\n",
       "      <td>[-0.036061789840459824, -0.002979475539177656,...</td>\n",
       "      <td>0</td>\n",
       "      <td>High-performance computing</td>\n",
       "    </tr>\n",
       "  </tbody>\n",
       "</table>\n",
       "<p>1872 rows × 38 columns</p>\n",
       "</div>"
      ],
      "text/plain": [
       "     Unnamed: 0                  organization name num employees founded date  \\\n",
       "0             0  Semilla Co. (Flou / Seed Academy)          1-10   2023-02-01   \n",
       "0             0  Semilla Co. (Flou / Seed Academy)          1-10   2023-02-01   \n",
       "0             0  Semilla Co. (Flou / Seed Academy)          1-10   2023-02-01   \n",
       "0             0  Semilla Co. (Flou / Seed Academy)          1-10   2023-02-01   \n",
       "1             1                       NaijaBuzz300          1-10   2024-03-03   \n",
       "..          ...                                ...           ...          ...   \n",
       "466         466                        Localportal          1-10   2024-04-07   \n",
       "467         467                            Thunder          1-10   2024-02-02   \n",
       "467         467                            Thunder          1-10   2024-02-02   \n",
       "467         467                            Thunder          1-10   2024-02-02   \n",
       "467         467                            Thunder          1-10   2024-02-02   \n",
       "\n",
       "                                           description  \\\n",
       "0    Semilla Co. (\"Seed\") is building the future of...   \n",
       "0    Semilla Co. (\"Seed\") is building the future of...   \n",
       "0    Semilla Co. (\"Seed\") is building the future of...   \n",
       "0    Semilla Co. (\"Seed\") is building the future of...   \n",
       "1    NaijaBuzz300's AI content tools helps artists ...   \n",
       "..                                                 ...   \n",
       "466  Localportal is the first pseudo operating syst...   \n",
       "467  Thunder is a Cloud computing to democratize ac...   \n",
       "467  Thunder is a Cloud computing to democratize ac...   \n",
       "467  Thunder is a Cloud computing to democratize ac...   \n",
       "467  Thunder is a Cloud computing to democratize ac...   \n",
       "\n",
       "                                            industries  \\\n",
       "0    Consumer Software, Content Creators, EdTech, L...   \n",
       "0    Consumer Software, Content Creators, EdTech, L...   \n",
       "0    Consumer Software, Content Creators, EdTech, L...   \n",
       "0    Consumer Software, Content Creators, EdTech, L...   \n",
       "1                                            Marketing   \n",
       "..                                                 ...   \n",
       "466  Artificial Intelligence (AI), Cloud Computing,...   \n",
       "467  Artificial Intelligence (AI), Cloud Computing,...   \n",
       "467  Artificial Intelligence (AI), Cloud Computing,...   \n",
       "467  Artificial Intelligence (AI), Cloud Computing,...   \n",
       "467  Artificial Intelligence (AI), Cloud Computing,...   \n",
       "\n",
       "                       headquarters location  \\\n",
       "0    Fort Lauderdale, Florida, United States   \n",
       "0    Fort Lauderdale, Florida, United States   \n",
       "0    Fort Lauderdale, Florida, United States   \n",
       "0    Fort Lauderdale, Florida, United States   \n",
       "1                    Kaduna, Kaduna, Nigeria   \n",
       "..                                       ...   \n",
       "466                                        —   \n",
       "467           Lewes, Delaware, United States   \n",
       "467           Lewes, Delaware, United States   \n",
       "467           Lewes, Delaware, United States   \n",
       "467           Lewes, Delaware, United States   \n",
       "\n",
       "                                         description.1 cb rank postal code  \\\n",
       "0    Building the future of the music and entertain...  43,978       33316   \n",
       "0    Building the future of the music and entertain...  43,978       33316   \n",
       "0    Building the future of the music and entertain...  43,978       33316   \n",
       "0    Building the future of the music and entertain...  43,978       33316   \n",
       "1    Helping artists grow & scale up their music ca...       —      902101   \n",
       "..                                                 ...     ...         ...   \n",
       "466  Localportal revolutionizes access to remote co...       —           —   \n",
       "467  Thunder is a Cloud computing to democratize ac...       —       19958   \n",
       "467  Thunder is a Cloud computing to democratize ac...       —       19958   \n",
       "467  Thunder is a Cloud computing to democratize ac...       —       19958   \n",
       "467  Thunder is a Cloud computing to democratize ac...       —       19958   \n",
       "\n",
       "     ...                                 parsed_description  \\\n",
       "0    ...  \\nTasks/Jobs: Music Business Management, Marke...   \n",
       "0    ...  \\nTasks/Jobs: Music Business Management, Marke...   \n",
       "0    ...  \\nTasks/Jobs: Music Business Management, Marke...   \n",
       "0    ...  \\nTasks/Jobs: Music Business Management, Marke...   \n",
       "1    ...  \\nTasks/Jobs: Music production, Songwriting, M...   \n",
       "..   ...                                                ...   \n",
       "466  ...  \\nTasks/Jobs: Remote access management, GPU re...   \n",
       "467  ...  \\nTasks/Jobs: GPU resource allocation, Access ...   \n",
       "467  ...  \\nTasks/Jobs: GPU resource allocation, Access ...   \n",
       "467  ...  \\nTasks/Jobs: GPU resource allocation, Access ...   \n",
       "467  ...  \\nTasks/Jobs: GPU resource allocation, Access ...   \n",
       "\n",
       "                                            Tasks/Jobs          Industry  \\\n",
       "0    Music Business Management, Marketing, Business...    Music Industry   \n",
       "0    Music Business Management, Marketing, Business...    Music Industry   \n",
       "0    Music Business Management, Marketing, Business...    Music Industry   \n",
       "0    Music Business Management, Marketing, Business...    Music Industry   \n",
       "1    Music production, Songwriting, Marketing, Prom...             Music   \n",
       "..                                                 ...               ...   \n",
       "466  Remote access management, GPU resource allocat...  Remote computing   \n",
       "467  GPU resource allocation, Access to unused GPUs...   Cloud Computing   \n",
       "467  GPU resource allocation, Access to unused GPUs...   Cloud Computing   \n",
       "467  GPU resource allocation, Access to unused GPUs...   Cloud Computing   \n",
       "467  GPU resource allocation, Access to unused GPUs...   Cloud Computing   \n",
       "\n",
       "                             People Using Tool  \\\n",
       "0               Music Creators, Entrepreneurs    \n",
       "0               Music Creators, Entrepreneurs    \n",
       "0               Music Creators, Entrepreneurs    \n",
       "0               Music Creators, Entrepreneurs    \n",
       "1                Musicians, Labels, Promoters    \n",
       "..                                         ...   \n",
       "466  Developers, Researchers, Data scientists    \n",
       "467   Developers, Researchers, Data Scientists   \n",
       "467   Developers, Researchers, Data Scientists   \n",
       "467   Developers, Researchers, Data Scientists   \n",
       "467   Developers, Researchers, Data Scientists   \n",
       "\n",
       "                               openai_embedding_entire cluster_label  \\\n",
       "0    [-0.004338318016380072, -0.021966977044939995,...            33   \n",
       "0    [-0.004338318016380072, -0.021966977044939995,...            33   \n",
       "0    [-0.004338318016380072, -0.021966977044939995,...            33   \n",
       "0    [-0.004338318016380072, -0.021966977044939995,...            33   \n",
       "1    [-0.006098032463341951, -0.021988358348608017,...            33   \n",
       "..                                                 ...           ...   \n",
       "466  [-0.03364584222435951, 0.0008783882367424667, ...            83   \n",
       "467  [-0.024437395855784416, -0.010938230901956558,...            83   \n",
       "467  [-0.024437395855784416, -0.010938230901956558,...            83   \n",
       "467  [-0.024437395855784416, -0.010938230901956558,...            83   \n",
       "467  [-0.024437395855784416, -0.010938230901956558,...            83   \n",
       "\n",
       "                  generated_cluster_label  \\\n",
       "0        Music and Audio Production Tools   \n",
       "0        Music and Audio Production Tools   \n",
       "0        Music and Audio Production Tools   \n",
       "0        Music and Audio Production Tools   \n",
       "1        Music and Audio Production Tools   \n",
       "..                                    ...   \n",
       "466  High-Performance Computing Solutions   \n",
       "467  High-Performance Computing Solutions   \n",
       "467  High-Performance Computing Solutions   \n",
       "467  High-Performance Computing Solutions   \n",
       "467  High-Performance Computing Solutions   \n",
       "\n",
       "                             openai_embedding_industry new_cluster_index  \\\n",
       "0    [0.026692301034927368, 0.013956104405224323, -...                61   \n",
       "0    [0.026692301034927368, 0.013956104405224323, -...                61   \n",
       "0    [0.026692301034927368, 0.013956104405224323, -...                61   \n",
       "0    [0.026692301034927368, 0.013956104405224323, -...                61   \n",
       "1    [0.018011273816227913, -0.006110658403486013, ...                61   \n",
       "..                                                 ...               ...   \n",
       "466  [-0.02788754366338253, -0.01972130499780178, -...                 0   \n",
       "467  [-0.036061789840459824, -0.002979475539177656,...                 0   \n",
       "467  [-0.036061789840459824, -0.002979475539177656,...                 0   \n",
       "467  [-0.036061789840459824, -0.002979475539177656,...                 0   \n",
       "467  [-0.036061789840459824, -0.002979475539177656,...                 0   \n",
       "\n",
       "                       task_list  \n",
       "0      Music Business Management  \n",
       "0                      Marketing  \n",
       "0              Business Strategy  \n",
       "0               Music Production  \n",
       "1               Music production  \n",
       "..                           ...  \n",
       "466       Application deployment  \n",
       "467      GPU resource allocation  \n",
       "467        Access to unused GPUs  \n",
       "467  Distributed computing tasks  \n",
       "467   High-performance computing  \n",
       "\n",
       "[1872 rows x 38 columns]"
      ]
     },
     "execution_count": 115,
     "metadata": {},
     "output_type": "execute_result"
    }
   ],
   "source": [
    "sample_df[\"task_list\"] = sample_df[\"Tasks/Jobs\"].apply(lambda x: x.split(\", \"))\n",
    "task_df = sample_df.explode('task_list')\n",
    "task_df"
   ]
  },
  {
   "cell_type": "code",
   "execution_count": 116,
   "id": "d1ca5d0f-f8da-4fac-ad7d-b8d7529d842d",
   "metadata": {},
   "outputs": [
    {
     "data": {
      "text/html": [
       "<div>\n",
       "<style scoped>\n",
       "    .dataframe tbody tr th:only-of-type {\n",
       "        vertical-align: middle;\n",
       "    }\n",
       "\n",
       "    .dataframe tbody tr th {\n",
       "        vertical-align: top;\n",
       "    }\n",
       "\n",
       "    .dataframe thead th {\n",
       "        text-align: right;\n",
       "    }\n",
       "</style>\n",
       "<table border=\"1\" class=\"dataframe\">\n",
       "  <thead>\n",
       "    <tr style=\"text-align: right;\">\n",
       "      <th></th>\n",
       "      <th>count</th>\n",
       "    </tr>\n",
       "    <tr>\n",
       "      <th>task_list</th>\n",
       "      <th></th>\n",
       "    </tr>\n",
       "  </thead>\n",
       "  <tbody>\n",
       "    <tr>\n",
       "      <th>Data analysis</th>\n",
       "      <td>50</td>\n",
       "    </tr>\n",
       "    <tr>\n",
       "      <th>Content creation</th>\n",
       "      <td>33</td>\n",
       "    </tr>\n",
       "    <tr>\n",
       "      <th>Risk assessment</th>\n",
       "      <td>14</td>\n",
       "    </tr>\n",
       "    <tr>\n",
       "      <th>Lead generation</th>\n",
       "      <td>12</td>\n",
       "    </tr>\n",
       "    <tr>\n",
       "      <th>Inventory management</th>\n",
       "      <td>9</td>\n",
       "    </tr>\n",
       "    <tr>\n",
       "      <th>...</th>\n",
       "      <td>...</td>\n",
       "    </tr>\n",
       "    <tr>\n",
       "      <th>Reporting</th>\n",
       "      <td>1</td>\n",
       "    </tr>\n",
       "    <tr>\n",
       "      <th>Property management</th>\n",
       "      <td>1</td>\n",
       "    </tr>\n",
       "    <tr>\n",
       "      <th>Keyless entry</th>\n",
       "      <td>1</td>\n",
       "    </tr>\n",
       "    <tr>\n",
       "      <th>Guest access management</th>\n",
       "      <td>1</td>\n",
       "    </tr>\n",
       "    <tr>\n",
       "      <th>Distributed computing tasks</th>\n",
       "      <td>1</td>\n",
       "    </tr>\n",
       "  </tbody>\n",
       "</table>\n",
       "<p>1380 rows × 1 columns</p>\n",
       "</div>"
      ],
      "text/plain": [
       "                             count\n",
       "task_list                         \n",
       "Data analysis                   50\n",
       "Content creation                33\n",
       "Risk assessment                 14\n",
       "Lead generation                 12\n",
       "Inventory management             9\n",
       "...                            ...\n",
       "Reporting                        1\n",
       "Property management              1\n",
       "Keyless entry                    1\n",
       "Guest access management          1\n",
       "Distributed computing tasks      1\n",
       "\n",
       "[1380 rows x 1 columns]"
      ]
     },
     "execution_count": 116,
     "metadata": {},
     "output_type": "execute_result"
    }
   ],
   "source": [
    "pd.DataFrame(task_df.task_list.value_counts())"
   ]
  },
  {
   "cell_type": "code",
   "execution_count": 119,
   "id": "2d9ed623-170a-49ed-b0c9-b65ed0d18556",
   "metadata": {},
   "outputs": [],
   "source": [
    "class chatGPT():\n",
    "    def __init__(self):\n",
    "        self.client = OpenAI(api_key=OPENAI_API_KEY)\n",
    "        \n",
    "    def ask(self, q):\n",
    "        stream = self.client.chat.completions.create(\n",
    "            model=\"gpt-4\",\n",
    "            messages=[{\"role\": \"user\", \"content\": q}],\n",
    "            stream=True,\n",
    "            temperature=0\n",
    "        )\n",
    "        response = \"\"\n",
    "        for chunk in stream:\n",
    "            if chunk.choices[0].delta.content is not None:\n",
    "                response += chunk.choices[0].delta.content\n",
    "\n",
    "        self.response = response\n",
    "        return response\n",
    "\n",
    "    def get_embedding(self,text, model=\"text-embedding-3-large\"):\n",
    "       text = text.replace(\"\\n\", \" \")\n",
    "       return self.client.embeddings.create(input = [text], model=model).data[0].embedding\n",
    "\n",
    "x = chatGPT()"
   ]
  },
  {
   "cell_type": "code",
   "execution_count": 120,
   "id": "7e6fb3cd-4124-4b22-a303-ba4971a3c136",
   "metadata": {},
   "outputs": [],
   "source": [
    "task_df['open_ai_embedding_task'] = task_df[\"task_list\"].apply(lambda text: x.get_embedding(text))"
   ]
  },
  {
   "cell_type": "code",
   "execution_count": 121,
   "id": "68330aec-3aef-4d75-9bd1-db1db815debf",
   "metadata": {},
   "outputs": [],
   "source": [
    "# task_df.to_csv(\"tasks.csv\")"
   ]
  },
  {
   "cell_type": "code",
   "execution_count": 122,
   "id": "4b5183a6-0101-4f61-98b3-5e7b946dfa31",
   "metadata": {},
   "outputs": [
    {
     "data": {
      "text/html": [
       "<div>\n",
       "<style scoped>\n",
       "    .dataframe tbody tr th:only-of-type {\n",
       "        vertical-align: middle;\n",
       "    }\n",
       "\n",
       "    .dataframe tbody tr th {\n",
       "        vertical-align: top;\n",
       "    }\n",
       "\n",
       "    .dataframe thead th {\n",
       "        text-align: right;\n",
       "    }\n",
       "</style>\n",
       "<table border=\"1\" class=\"dataframe\">\n",
       "  <thead>\n",
       "    <tr style=\"text-align: right;\">\n",
       "      <th></th>\n",
       "      <th>Unnamed: 0</th>\n",
       "      <th>organization name</th>\n",
       "      <th>num employees</th>\n",
       "      <th>founded date</th>\n",
       "      <th>description</th>\n",
       "      <th>industries</th>\n",
       "      <th>headquarters location</th>\n",
       "      <th>description.1</th>\n",
       "      <th>cb rank</th>\n",
       "      <th>postal code</th>\n",
       "      <th>...</th>\n",
       "      <th>Tasks/Jobs</th>\n",
       "      <th>Industry</th>\n",
       "      <th>People Using Tool</th>\n",
       "      <th>openai_embedding_entire</th>\n",
       "      <th>cluster_label</th>\n",
       "      <th>generated_cluster_label</th>\n",
       "      <th>openai_embedding_industry</th>\n",
       "      <th>new_cluster_index</th>\n",
       "      <th>task_list</th>\n",
       "      <th>open_ai_embedding_task</th>\n",
       "    </tr>\n",
       "  </thead>\n",
       "  <tbody>\n",
       "    <tr>\n",
       "      <th>0</th>\n",
       "      <td>0</td>\n",
       "      <td>Semilla Co. (Flou / Seed Academy)</td>\n",
       "      <td>1-10</td>\n",
       "      <td>2023-02-01</td>\n",
       "      <td>Semilla Co. (\"Seed\") is building the future of...</td>\n",
       "      <td>Consumer Software, Content Creators, EdTech, L...</td>\n",
       "      <td>Fort Lauderdale, Florida, United States</td>\n",
       "      <td>Building the future of the music and entertain...</td>\n",
       "      <td>43,978</td>\n",
       "      <td>33316</td>\n",
       "      <td>...</td>\n",
       "      <td>Music Business Management, Marketing, Business...</td>\n",
       "      <td>Music Industry</td>\n",
       "      <td>Music Creators, Entrepreneurs</td>\n",
       "      <td>[-0.004338318016380072, -0.021966977044939995,...</td>\n",
       "      <td>33</td>\n",
       "      <td>Music and Audio Production Tools</td>\n",
       "      <td>[0.026692301034927368, 0.013956104405224323, -...</td>\n",
       "      <td>61</td>\n",
       "      <td>Music Business Management</td>\n",
       "      <td>[0.0357237234711647, 0.005057905334979296, -0....</td>\n",
       "    </tr>\n",
       "    <tr>\n",
       "      <th>0</th>\n",
       "      <td>0</td>\n",
       "      <td>Semilla Co. (Flou / Seed Academy)</td>\n",
       "      <td>1-10</td>\n",
       "      <td>2023-02-01</td>\n",
       "      <td>Semilla Co. (\"Seed\") is building the future of...</td>\n",
       "      <td>Consumer Software, Content Creators, EdTech, L...</td>\n",
       "      <td>Fort Lauderdale, Florida, United States</td>\n",
       "      <td>Building the future of the music and entertain...</td>\n",
       "      <td>43,978</td>\n",
       "      <td>33316</td>\n",
       "      <td>...</td>\n",
       "      <td>Music Business Management, Marketing, Business...</td>\n",
       "      <td>Music Industry</td>\n",
       "      <td>Music Creators, Entrepreneurs</td>\n",
       "      <td>[-0.004338318016380072, -0.021966977044939995,...</td>\n",
       "      <td>33</td>\n",
       "      <td>Music and Audio Production Tools</td>\n",
       "      <td>[0.026692301034927368, 0.013956104405224323, -...</td>\n",
       "      <td>61</td>\n",
       "      <td>Marketing</td>\n",
       "      <td>[-0.018830178305506706, 0.012254700995981693, ...</td>\n",
       "    </tr>\n",
       "    <tr>\n",
       "      <th>0</th>\n",
       "      <td>0</td>\n",
       "      <td>Semilla Co. (Flou / Seed Academy)</td>\n",
       "      <td>1-10</td>\n",
       "      <td>2023-02-01</td>\n",
       "      <td>Semilla Co. (\"Seed\") is building the future of...</td>\n",
       "      <td>Consumer Software, Content Creators, EdTech, L...</td>\n",
       "      <td>Fort Lauderdale, Florida, United States</td>\n",
       "      <td>Building the future of the music and entertain...</td>\n",
       "      <td>43,978</td>\n",
       "      <td>33316</td>\n",
       "      <td>...</td>\n",
       "      <td>Music Business Management, Marketing, Business...</td>\n",
       "      <td>Music Industry</td>\n",
       "      <td>Music Creators, Entrepreneurs</td>\n",
       "      <td>[-0.004338318016380072, -0.021966977044939995,...</td>\n",
       "      <td>33</td>\n",
       "      <td>Music and Audio Production Tools</td>\n",
       "      <td>[0.026692301034927368, 0.013956104405224323, -...</td>\n",
       "      <td>61</td>\n",
       "      <td>Business Strategy</td>\n",
       "      <td>[0.0186082124710083, 0.00648229755461216, -0.0...</td>\n",
       "    </tr>\n",
       "    <tr>\n",
       "      <th>0</th>\n",
       "      <td>0</td>\n",
       "      <td>Semilla Co. (Flou / Seed Academy)</td>\n",
       "      <td>1-10</td>\n",
       "      <td>2023-02-01</td>\n",
       "      <td>Semilla Co. (\"Seed\") is building the future of...</td>\n",
       "      <td>Consumer Software, Content Creators, EdTech, L...</td>\n",
       "      <td>Fort Lauderdale, Florida, United States</td>\n",
       "      <td>Building the future of the music and entertain...</td>\n",
       "      <td>43,978</td>\n",
       "      <td>33316</td>\n",
       "      <td>...</td>\n",
       "      <td>Music Business Management, Marketing, Business...</td>\n",
       "      <td>Music Industry</td>\n",
       "      <td>Music Creators, Entrepreneurs</td>\n",
       "      <td>[-0.004338318016380072, -0.021966977044939995,...</td>\n",
       "      <td>33</td>\n",
       "      <td>Music and Audio Production Tools</td>\n",
       "      <td>[0.026692301034927368, 0.013956104405224323, -...</td>\n",
       "      <td>61</td>\n",
       "      <td>Music Production</td>\n",
       "      <td>[0.001785977277904749, -0.015392362140119076, ...</td>\n",
       "    </tr>\n",
       "    <tr>\n",
       "      <th>1</th>\n",
       "      <td>1</td>\n",
       "      <td>NaijaBuzz300</td>\n",
       "      <td>1-10</td>\n",
       "      <td>2024-03-03</td>\n",
       "      <td>NaijaBuzz300's AI content tools helps artists ...</td>\n",
       "      <td>Marketing</td>\n",
       "      <td>Kaduna, Kaduna, Nigeria</td>\n",
       "      <td>Helping artists grow &amp; scale up their music ca...</td>\n",
       "      <td>—</td>\n",
       "      <td>902101</td>\n",
       "      <td>...</td>\n",
       "      <td>Music production, Songwriting, Marketing, Prom...</td>\n",
       "      <td>Music</td>\n",
       "      <td>Musicians, Labels, Promoters</td>\n",
       "      <td>[-0.006098032463341951, -0.021988358348608017,...</td>\n",
       "      <td>33</td>\n",
       "      <td>Music and Audio Production Tools</td>\n",
       "      <td>[0.018011273816227913, -0.006110658403486013, ...</td>\n",
       "      <td>61</td>\n",
       "      <td>Music production</td>\n",
       "      <td>[-0.014025893062353134, -0.01809188723564148, ...</td>\n",
       "    </tr>\n",
       "    <tr>\n",
       "      <th>...</th>\n",
       "      <td>...</td>\n",
       "      <td>...</td>\n",
       "      <td>...</td>\n",
       "      <td>...</td>\n",
       "      <td>...</td>\n",
       "      <td>...</td>\n",
       "      <td>...</td>\n",
       "      <td>...</td>\n",
       "      <td>...</td>\n",
       "      <td>...</td>\n",
       "      <td>...</td>\n",
       "      <td>...</td>\n",
       "      <td>...</td>\n",
       "      <td>...</td>\n",
       "      <td>...</td>\n",
       "      <td>...</td>\n",
       "      <td>...</td>\n",
       "      <td>...</td>\n",
       "      <td>...</td>\n",
       "      <td>...</td>\n",
       "      <td>...</td>\n",
       "    </tr>\n",
       "    <tr>\n",
       "      <th>466</th>\n",
       "      <td>466</td>\n",
       "      <td>Localportal</td>\n",
       "      <td>1-10</td>\n",
       "      <td>2024-04-07</td>\n",
       "      <td>Localportal is the first pseudo operating syst...</td>\n",
       "      <td>Artificial Intelligence (AI), Cloud Computing,...</td>\n",
       "      <td>—</td>\n",
       "      <td>Localportal revolutionizes access to remote co...</td>\n",
       "      <td>—</td>\n",
       "      <td>—</td>\n",
       "      <td>...</td>\n",
       "      <td>Remote access management, GPU resource allocat...</td>\n",
       "      <td>Remote computing</td>\n",
       "      <td>Developers, Researchers, Data scientists</td>\n",
       "      <td>[-0.03364584222435951, 0.0008783882367424667, ...</td>\n",
       "      <td>83</td>\n",
       "      <td>High-Performance Computing Solutions</td>\n",
       "      <td>[-0.02788754366338253, -0.01972130499780178, -...</td>\n",
       "      <td>0</td>\n",
       "      <td>Application deployment</td>\n",
       "      <td>[-0.03762552887201309, 0.02334844321012497, -0...</td>\n",
       "    </tr>\n",
       "    <tr>\n",
       "      <th>467</th>\n",
       "      <td>467</td>\n",
       "      <td>Thunder</td>\n",
       "      <td>1-10</td>\n",
       "      <td>2024-02-02</td>\n",
       "      <td>Thunder is a Cloud computing to democratize ac...</td>\n",
       "      <td>Artificial Intelligence (AI), Cloud Computing,...</td>\n",
       "      <td>Lewes, Delaware, United States</td>\n",
       "      <td>Thunder is a Cloud computing to democratize ac...</td>\n",
       "      <td>—</td>\n",
       "      <td>19958</td>\n",
       "      <td>...</td>\n",
       "      <td>GPU resource allocation, Access to unused GPUs...</td>\n",
       "      <td>Cloud Computing</td>\n",
       "      <td>Developers, Researchers, Data Scientists</td>\n",
       "      <td>[-0.024437395855784416, -0.010938230901956558,...</td>\n",
       "      <td>83</td>\n",
       "      <td>High-Performance Computing Solutions</td>\n",
       "      <td>[-0.036061789840459824, -0.002979475539177656,...</td>\n",
       "      <td>0</td>\n",
       "      <td>GPU resource allocation</td>\n",
       "      <td>[-0.010068199597299099, 0.0023782055359333754,...</td>\n",
       "    </tr>\n",
       "    <tr>\n",
       "      <th>467</th>\n",
       "      <td>467</td>\n",
       "      <td>Thunder</td>\n",
       "      <td>1-10</td>\n",
       "      <td>2024-02-02</td>\n",
       "      <td>Thunder is a Cloud computing to democratize ac...</td>\n",
       "      <td>Artificial Intelligence (AI), Cloud Computing,...</td>\n",
       "      <td>Lewes, Delaware, United States</td>\n",
       "      <td>Thunder is a Cloud computing to democratize ac...</td>\n",
       "      <td>—</td>\n",
       "      <td>19958</td>\n",
       "      <td>...</td>\n",
       "      <td>GPU resource allocation, Access to unused GPUs...</td>\n",
       "      <td>Cloud Computing</td>\n",
       "      <td>Developers, Researchers, Data Scientists</td>\n",
       "      <td>[-0.024437395855784416, -0.010938230901956558,...</td>\n",
       "      <td>83</td>\n",
       "      <td>High-Performance Computing Solutions</td>\n",
       "      <td>[-0.036061789840459824, -0.002979475539177656,...</td>\n",
       "      <td>0</td>\n",
       "      <td>Access to unused GPUs</td>\n",
       "      <td>[-0.026561979204416275, -0.008976170793175697,...</td>\n",
       "    </tr>\n",
       "    <tr>\n",
       "      <th>467</th>\n",
       "      <td>467</td>\n",
       "      <td>Thunder</td>\n",
       "      <td>1-10</td>\n",
       "      <td>2024-02-02</td>\n",
       "      <td>Thunder is a Cloud computing to democratize ac...</td>\n",
       "      <td>Artificial Intelligence (AI), Cloud Computing,...</td>\n",
       "      <td>Lewes, Delaware, United States</td>\n",
       "      <td>Thunder is a Cloud computing to democratize ac...</td>\n",
       "      <td>—</td>\n",
       "      <td>19958</td>\n",
       "      <td>...</td>\n",
       "      <td>GPU resource allocation, Access to unused GPUs...</td>\n",
       "      <td>Cloud Computing</td>\n",
       "      <td>Developers, Researchers, Data Scientists</td>\n",
       "      <td>[-0.024437395855784416, -0.010938230901956558,...</td>\n",
       "      <td>83</td>\n",
       "      <td>High-Performance Computing Solutions</td>\n",
       "      <td>[-0.036061789840459824, -0.002979475539177656,...</td>\n",
       "      <td>0</td>\n",
       "      <td>Distributed computing tasks</td>\n",
       "      <td>[-0.025644686073064804, -0.023759745061397552,...</td>\n",
       "    </tr>\n",
       "    <tr>\n",
       "      <th>467</th>\n",
       "      <td>467</td>\n",
       "      <td>Thunder</td>\n",
       "      <td>1-10</td>\n",
       "      <td>2024-02-02</td>\n",
       "      <td>Thunder is a Cloud computing to democratize ac...</td>\n",
       "      <td>Artificial Intelligence (AI), Cloud Computing,...</td>\n",
       "      <td>Lewes, Delaware, United States</td>\n",
       "      <td>Thunder is a Cloud computing to democratize ac...</td>\n",
       "      <td>—</td>\n",
       "      <td>19958</td>\n",
       "      <td>...</td>\n",
       "      <td>GPU resource allocation, Access to unused GPUs...</td>\n",
       "      <td>Cloud Computing</td>\n",
       "      <td>Developers, Researchers, Data Scientists</td>\n",
       "      <td>[-0.024437395855784416, -0.010938230901956558,...</td>\n",
       "      <td>83</td>\n",
       "      <td>High-Performance Computing Solutions</td>\n",
       "      <td>[-0.036061789840459824, -0.002979475539177656,...</td>\n",
       "      <td>0</td>\n",
       "      <td>High-performance computing</td>\n",
       "      <td>[-0.025201454758644104, 0.011394458822906017, ...</td>\n",
       "    </tr>\n",
       "  </tbody>\n",
       "</table>\n",
       "<p>1872 rows × 39 columns</p>\n",
       "</div>"
      ],
      "text/plain": [
       "     Unnamed: 0                  organization name num employees founded date  \\\n",
       "0             0  Semilla Co. (Flou / Seed Academy)          1-10   2023-02-01   \n",
       "0             0  Semilla Co. (Flou / Seed Academy)          1-10   2023-02-01   \n",
       "0             0  Semilla Co. (Flou / Seed Academy)          1-10   2023-02-01   \n",
       "0             0  Semilla Co. (Flou / Seed Academy)          1-10   2023-02-01   \n",
       "1             1                       NaijaBuzz300          1-10   2024-03-03   \n",
       "..          ...                                ...           ...          ...   \n",
       "466         466                        Localportal          1-10   2024-04-07   \n",
       "467         467                            Thunder          1-10   2024-02-02   \n",
       "467         467                            Thunder          1-10   2024-02-02   \n",
       "467         467                            Thunder          1-10   2024-02-02   \n",
       "467         467                            Thunder          1-10   2024-02-02   \n",
       "\n",
       "                                           description  \\\n",
       "0    Semilla Co. (\"Seed\") is building the future of...   \n",
       "0    Semilla Co. (\"Seed\") is building the future of...   \n",
       "0    Semilla Co. (\"Seed\") is building the future of...   \n",
       "0    Semilla Co. (\"Seed\") is building the future of...   \n",
       "1    NaijaBuzz300's AI content tools helps artists ...   \n",
       "..                                                 ...   \n",
       "466  Localportal is the first pseudo operating syst...   \n",
       "467  Thunder is a Cloud computing to democratize ac...   \n",
       "467  Thunder is a Cloud computing to democratize ac...   \n",
       "467  Thunder is a Cloud computing to democratize ac...   \n",
       "467  Thunder is a Cloud computing to democratize ac...   \n",
       "\n",
       "                                            industries  \\\n",
       "0    Consumer Software, Content Creators, EdTech, L...   \n",
       "0    Consumer Software, Content Creators, EdTech, L...   \n",
       "0    Consumer Software, Content Creators, EdTech, L...   \n",
       "0    Consumer Software, Content Creators, EdTech, L...   \n",
       "1                                            Marketing   \n",
       "..                                                 ...   \n",
       "466  Artificial Intelligence (AI), Cloud Computing,...   \n",
       "467  Artificial Intelligence (AI), Cloud Computing,...   \n",
       "467  Artificial Intelligence (AI), Cloud Computing,...   \n",
       "467  Artificial Intelligence (AI), Cloud Computing,...   \n",
       "467  Artificial Intelligence (AI), Cloud Computing,...   \n",
       "\n",
       "                       headquarters location  \\\n",
       "0    Fort Lauderdale, Florida, United States   \n",
       "0    Fort Lauderdale, Florida, United States   \n",
       "0    Fort Lauderdale, Florida, United States   \n",
       "0    Fort Lauderdale, Florida, United States   \n",
       "1                    Kaduna, Kaduna, Nigeria   \n",
       "..                                       ...   \n",
       "466                                        —   \n",
       "467           Lewes, Delaware, United States   \n",
       "467           Lewes, Delaware, United States   \n",
       "467           Lewes, Delaware, United States   \n",
       "467           Lewes, Delaware, United States   \n",
       "\n",
       "                                         description.1 cb rank postal code  \\\n",
       "0    Building the future of the music and entertain...  43,978       33316   \n",
       "0    Building the future of the music and entertain...  43,978       33316   \n",
       "0    Building the future of the music and entertain...  43,978       33316   \n",
       "0    Building the future of the music and entertain...  43,978       33316   \n",
       "1    Helping artists grow & scale up their music ca...       —      902101   \n",
       "..                                                 ...     ...         ...   \n",
       "466  Localportal revolutionizes access to remote co...       —           —   \n",
       "467  Thunder is a Cloud computing to democratize ac...       —       19958   \n",
       "467  Thunder is a Cloud computing to democratize ac...       —       19958   \n",
       "467  Thunder is a Cloud computing to democratize ac...       —       19958   \n",
       "467  Thunder is a Cloud computing to democratize ac...       —       19958   \n",
       "\n",
       "     ...                                         Tasks/Jobs          Industry  \\\n",
       "0    ...  Music Business Management, Marketing, Business...    Music Industry   \n",
       "0    ...  Music Business Management, Marketing, Business...    Music Industry   \n",
       "0    ...  Music Business Management, Marketing, Business...    Music Industry   \n",
       "0    ...  Music Business Management, Marketing, Business...    Music Industry   \n",
       "1    ...  Music production, Songwriting, Marketing, Prom...             Music   \n",
       "..   ...                                                ...               ...   \n",
       "466  ...  Remote access management, GPU resource allocat...  Remote computing   \n",
       "467  ...  GPU resource allocation, Access to unused GPUs...   Cloud Computing   \n",
       "467  ...  GPU resource allocation, Access to unused GPUs...   Cloud Computing   \n",
       "467  ...  GPU resource allocation, Access to unused GPUs...   Cloud Computing   \n",
       "467  ...  GPU resource allocation, Access to unused GPUs...   Cloud Computing   \n",
       "\n",
       "                             People Using Tool  \\\n",
       "0               Music Creators, Entrepreneurs    \n",
       "0               Music Creators, Entrepreneurs    \n",
       "0               Music Creators, Entrepreneurs    \n",
       "0               Music Creators, Entrepreneurs    \n",
       "1                Musicians, Labels, Promoters    \n",
       "..                                         ...   \n",
       "466  Developers, Researchers, Data scientists    \n",
       "467   Developers, Researchers, Data Scientists   \n",
       "467   Developers, Researchers, Data Scientists   \n",
       "467   Developers, Researchers, Data Scientists   \n",
       "467   Developers, Researchers, Data Scientists   \n",
       "\n",
       "                               openai_embedding_entire cluster_label  \\\n",
       "0    [-0.004338318016380072, -0.021966977044939995,...            33   \n",
       "0    [-0.004338318016380072, -0.021966977044939995,...            33   \n",
       "0    [-0.004338318016380072, -0.021966977044939995,...            33   \n",
       "0    [-0.004338318016380072, -0.021966977044939995,...            33   \n",
       "1    [-0.006098032463341951, -0.021988358348608017,...            33   \n",
       "..                                                 ...           ...   \n",
       "466  [-0.03364584222435951, 0.0008783882367424667, ...            83   \n",
       "467  [-0.024437395855784416, -0.010938230901956558,...            83   \n",
       "467  [-0.024437395855784416, -0.010938230901956558,...            83   \n",
       "467  [-0.024437395855784416, -0.010938230901956558,...            83   \n",
       "467  [-0.024437395855784416, -0.010938230901956558,...            83   \n",
       "\n",
       "                  generated_cluster_label  \\\n",
       "0        Music and Audio Production Tools   \n",
       "0        Music and Audio Production Tools   \n",
       "0        Music and Audio Production Tools   \n",
       "0        Music and Audio Production Tools   \n",
       "1        Music and Audio Production Tools   \n",
       "..                                    ...   \n",
       "466  High-Performance Computing Solutions   \n",
       "467  High-Performance Computing Solutions   \n",
       "467  High-Performance Computing Solutions   \n",
       "467  High-Performance Computing Solutions   \n",
       "467  High-Performance Computing Solutions   \n",
       "\n",
       "                             openai_embedding_industry new_cluster_index  \\\n",
       "0    [0.026692301034927368, 0.013956104405224323, -...                61   \n",
       "0    [0.026692301034927368, 0.013956104405224323, -...                61   \n",
       "0    [0.026692301034927368, 0.013956104405224323, -...                61   \n",
       "0    [0.026692301034927368, 0.013956104405224323, -...                61   \n",
       "1    [0.018011273816227913, -0.006110658403486013, ...                61   \n",
       "..                                                 ...               ...   \n",
       "466  [-0.02788754366338253, -0.01972130499780178, -...                 0   \n",
       "467  [-0.036061789840459824, -0.002979475539177656,...                 0   \n",
       "467  [-0.036061789840459824, -0.002979475539177656,...                 0   \n",
       "467  [-0.036061789840459824, -0.002979475539177656,...                 0   \n",
       "467  [-0.036061789840459824, -0.002979475539177656,...                 0   \n",
       "\n",
       "                       task_list  \\\n",
       "0      Music Business Management   \n",
       "0                      Marketing   \n",
       "0              Business Strategy   \n",
       "0               Music Production   \n",
       "1               Music production   \n",
       "..                           ...   \n",
       "466       Application deployment   \n",
       "467      GPU resource allocation   \n",
       "467        Access to unused GPUs   \n",
       "467  Distributed computing tasks   \n",
       "467   High-performance computing   \n",
       "\n",
       "                                open_ai_embedding_task  \n",
       "0    [0.0357237234711647, 0.005057905334979296, -0....  \n",
       "0    [-0.018830178305506706, 0.012254700995981693, ...  \n",
       "0    [0.0186082124710083, 0.00648229755461216, -0.0...  \n",
       "0    [0.001785977277904749, -0.015392362140119076, ...  \n",
       "1    [-0.014025893062353134, -0.01809188723564148, ...  \n",
       "..                                                 ...  \n",
       "466  [-0.03762552887201309, 0.02334844321012497, -0...  \n",
       "467  [-0.010068199597299099, 0.0023782055359333754,...  \n",
       "467  [-0.026561979204416275, -0.008976170793175697,...  \n",
       "467  [-0.025644686073064804, -0.023759745061397552,...  \n",
       "467  [-0.025201454758644104, 0.011394458822906017, ...  \n",
       "\n",
       "[1872 rows x 39 columns]"
      ]
     },
     "execution_count": 122,
     "metadata": {},
     "output_type": "execute_result"
    }
   ],
   "source": [
    "task_df"
   ]
  },
  {
   "cell_type": "code",
   "execution_count": null,
   "id": "edb9a4d2-4c69-4e63-953b-16fb01bdec0e",
   "metadata": {},
   "outputs": [],
   "source": []
  }
 ],
 "metadata": {
  "kernelspec": {
   "display_name": "Python 3 (ipykernel)",
   "language": "python",
   "name": "python3"
  },
  "language_info": {
   "codemirror_mode": {
    "name": "ipython",
    "version": 3
   },
   "file_extension": ".py",
   "mimetype": "text/x-python",
   "name": "python",
   "nbconvert_exporter": "python",
   "pygments_lexer": "ipython3",
   "version": "3.11.7"
  }
 },
 "nbformat": 4,
 "nbformat_minor": 5
}
